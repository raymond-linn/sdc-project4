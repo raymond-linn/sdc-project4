{
 "cells": [
  {
   "cell_type": "code",
   "execution_count": 1,
   "metadata": {
    "collapsed": true
   },
   "outputs": [],
   "source": [
    "import numpy as np\n",
    "import cv2\n",
    "import glob\n",
    "import os\n",
    "import pickle\n",
    "import matplotlib.pyplot as plt\n",
    "%matplotlib inline\n",
    "\n",
    "# Calibrating Cmaera\n",
    "# parameters: image_path - where images used to calibrate camera# pickle_file - saved calibrated data\n",
    "# pickle_file - saved calibrated data file \n",
    "# return: mtx, dist, img_size\n",
    "def calibrate_camera(image_path, pickle_file):\n",
    "    # check if pickle file is not valid file then calibrate the camera\n",
    "    # and save the calibrated data in pickle_file\n",
    "    if not os.path.isfile(pickle_file):\n",
    "        print('picke file does not exist')\n",
    "        # initialize objpoints (3D real world space) and imgpoints (2D image plane)\n",
    "        objpoints = []\n",
    "        imgpoints = []\n",
    "\n",
    "        # check dimension of chessboard images to initialize individual object point\n",
    "        # the camera images in camera_cal folder does not seems to capture \n",
    "        # constant chessboard dimension and I am not getting treturn true from \n",
    "        # find chessboard corenr from every image so I have to change the dimension\n",
    "        # of chessboard images to find the corners [(9,6), (8,6), (9,5), (9,4) (7,6), (5,6)]\n",
    "\n",
    "        objp1 = np.zeros((9*6,3), np.float32)\n",
    "        objp1[:,:2] = np.mgrid[0:9, 0:6].T.reshape(-1,2)\n",
    "        objp2 = np.zeros((8*6,3), np.float32)\n",
    "        objp2[:,:2] = np.mgrid[0:8, 0:6].T.reshape(-1,2)\n",
    "        objp3 = np.zeros((9*5,3), np.float32)\n",
    "        objp3[:,:2] = np.mgrid[0:9, 0:5].T.reshape(-1,2)\n",
    "        objp4 = np.zeros((9*4,3), np.float32)\n",
    "        objp4[:,:2] = np.mgrid[0:9, 0:4].T.reshape(-1,2)\n",
    "        objp5 = np.zeros((7*6,3), np.float32)\n",
    "        objp5[:,:2] = np.mgrid[0:7, 0:6].T.reshape(-1,2)\n",
    "        objp6 = np.zeros((5*6,3), np.float32)\n",
    "        objp6[:,:2] = np.mgrid[0:5, 0:6].T.reshape(-1,2)\n",
    "\n",
    "        images = glob.glob(image_path+'/calibration*.jpg')\n",
    "\n",
    "        for idx, fname in enumerate(images):\n",
    "            # read in image file\n",
    "            img = cv2.imread(fname)\n",
    "            gray = cv2.cvtColor(img, cv2.COLOR_BGR2GRAY)\n",
    "\n",
    "            # find the chessboard corners through all those dimensions\n",
    "            ret, corners = cv2.findChessboardCorners(gray, (9,6), None)\n",
    "            objp = objp1\n",
    "            if not ret:\n",
    "                ret, corners = cv2.findChessboardCorners(gray, (8,6), None)\n",
    "                objp = objp2\n",
    "            if not ret:\n",
    "                ret, corners = cv2.findChessboardCorners(gray, (9,5), None)\n",
    "                objp = objp3\n",
    "            if not ret:\n",
    "                ret, corners = cv2.findChessboardCorners(gray, (9,4), None)\n",
    "                objp = objp4\n",
    "            if not ret:\n",
    "                ret, corners = cv2.findChessboardCorners(gray, (7,6), None)\n",
    "                objp = objp5\n",
    "            if not ret:\n",
    "                ret, corners = cv2.findChessboardCorners(gray, (5,6), None)\n",
    "                objp = objp6\n",
    "\n",
    "            # If found add object points and image points\n",
    "            if ret == True:\n",
    "                # print('found object points and image points')\n",
    "                objpoints.append(objp)\n",
    "                imgpoints.append(corners)\n",
    "                img_size = (img.shape[1], img.shape[0])\n",
    "\n",
    "                # cv2.drawChessboardCorners(img, (corners.shape[1],corners.shape[0]), corners, ret)\n",
    "\n",
    "                # calibrate camera\n",
    "                ret, mtx, dist, rvecs, tvecs = cv2.calibrateCamera(objpoints, \n",
    "                                                                    imgpoints, \n",
    "                                                                    img_size, \n",
    "                                                                    None, \n",
    "                                                                    None)\n",
    "\n",
    "        # save the data in pickel file for later use (we don't worry about rvecs and tvecs)\n",
    "        dist_pickle = {}\n",
    "        dist_pickle[\"img_size\"] = img_size\n",
    "        dist_pickle[\"mtx\"] = mtx\n",
    "        dist_pickle[\"dist\"] = dist\n",
    "        pickle.dump(dist_pickle, open(pickle_file, \"wb\"))\n",
    "        # print('saved distortion data to pickled file')\n",
    "\n",
    "    else:\n",
    "        # use the saved data \n",
    "        print('picke file exists')\n",
    "        with open(pickle_file, 'rb') as pkf:\n",
    "            data = pickle.load(pkf)\n",
    "            img_size = data[\"img_size\"]\n",
    "            mtx = data[\"mtx\"]\n",
    "            dist = data[\"dist\"]\n",
    "            # print('loaded pickle distortion file')\n",
    "    return mtx, dist, img_size"
   ]
  },
  {
   "cell_type": "code",
   "execution_count": 2,
   "metadata": {
    "collapsed": true
   },
   "outputs": [],
   "source": [
    "# undistort the camera image\n",
    "# parameters: img - images to undistort\n",
    "# mtx, dist - calibrated data returned from calibrate_camera()\n",
    "# return: undistorted image\n",
    "def undistort_image(img, mtx, dist):\n",
    "    image = cv2.imread(img)\n",
    "    dst = cv2.undistort(image, mtx, dist, None, mtx)\n",
    "    return dst"
   ]
  },
  {
   "cell_type": "code",
   "execution_count": 3,
   "metadata": {
    "collapsed": true
   },
   "outputs": [],
   "source": [
    "# Gradient Orientation Threshold using Sobel Operators\n",
    "# parameters: image, gradient orientation, kernel size and threshold min/max\n",
    "# return: binary_output of the gradient oreintation image\n",
    "def abs_sobel_thresh(img, orient='x', sobel_kernel=3, thresh=(0,255)):\n",
    "\n",
    "    gray = cv2.cvtColor(img, cv2.COLOR_BGR2GRAY)\n",
    "    # Apply x or y gradient with the OpenCV Sobel() function\n",
    "    # and take the absolute value\n",
    "    if orient == 'x':\n",
    "        abs_sobel = np.absolute(cv2.Sobel(gray, cv2.CV_64F, 1, 0))\n",
    "    if orient == 'y':\n",
    "        abs_sobel = np.absolute(cv2.Sobel(gray, cv2.CV_64F, 0, 1))\n",
    "    # Rescale back to 8 bit integer\n",
    "    scaled_sobel = np.uint8(255*abs_sobel/np.max(abs_sobel))\n",
    "    # Create a copy and apply the threshold\n",
    "    binary_output = np.zeros_like(scaled_sobel)\n",
    "    # Here I'm using inclusive (>=, <=) thresholds, but exclusive is ok too\n",
    "    # binary_output[(scaled_sobel >= thresh[0]) & (scaled_sobel <= thresh[1])] = 1\n",
    "    # using cv2.threshold function\n",
    "    ret, binary_output = cv2.threshold(scaled_sobel, thresh[0], thresh[1], cv2.THRESH_BINARY)\n",
    "\n",
    "    # Return the result\n",
    "    return binary_output\n",
    "\n",
    "# Magnitude of gradient Threshold \n",
    "# parameters: image, kernel size and magnitude threshold min/max\n",
    "# return: binary_output of the magnitude gradient image\n",
    "def mag_thresh(img, sobel_kernel=3, mag_thresh=(0, 255)):\n",
    "\n",
    "    # Take both Sobel x and y gradients\n",
    "    sobelx = cv2.Sobel(img[:,:,2], cv2.CV_64F, 1, 0, ksize=sobel_kernel)\n",
    "    sobely = cv2.Sobel(img[:,:,2], cv2.CV_64F, 0, 1, ksize=sobel_kernel)\n",
    "    # Calculate the gradient magnitude\n",
    "    gradmag = np.sqrt(sobelx**2 + sobely**2)\n",
    "    # Rescale to 8 bit\n",
    "    scale_factor = np.max(gradmag)/255 \n",
    "    gradmag = (gradmag/scale_factor).astype(np.uint8) \n",
    "    # Create a binary image of ones where threshold is met, zeros otherwise\n",
    "    binary_output = np.zeros_like(gradmag)\n",
    "    binary_output[(gradmag >= mag_thresh[0]) & (gradmag <= mag_thresh[1])] = 1\n",
    "    # Return the binary image\n",
    "    return binary_output\n",
    "\n",
    "# Directional gradient Threshold \n",
    "# parameters: image, kernel size and directional threshold range\n",
    "# return: binary_output of the directional gradient image\n",
    "def dir_threshold(img, sobel_kernel=3, thresh=(0, np.pi/2)):\n",
    "\n",
    "    # Calculate the x and y gradients\n",
    "    sobelx = cv2.Sobel(img[:,:,2], cv2.CV_64F, 1, 0, ksize=sobel_kernel)\n",
    "    sobely = cv2.Sobel(img[:,:,2], cv2.CV_64F, 0, 1, ksize=sobel_kernel)\n",
    "    # Take the absolute value of the gradient direction, \n",
    "    # apply a threshold, and create a binary image result\n",
    "    absgraddir = np.arctan2(np.absolute(sobely), np.absolute(sobelx))\n",
    "    binary_output =  np.zeros_like(absgraddir)\n",
    "    binary_output[(absgraddir >= thresh[0]) & (absgraddir <= thresh[1])] = 1\n",
    "\n",
    "    # Return the binary image\n",
    "    return binary_output\n",
    "\n",
    "# S-channel thresholds of HLS\n",
    "# parameters: image, and threshold min/max\n",
    "def hls_select(img, thresh=(0, 255)):\n",
    "\n",
    "    hls = cv2.cvtColor(img, cv2.COLOR_RGB2HLS)\n",
    "    s_channel = hls[:,:,2]\n",
    "    binary_output = np.zeros_like(s_channel)\n",
    "    binary_output[(s_channel > thresh[0]) & (s_channel <= thresh[1])] = 1\n",
    "\n",
    "    return binary_output\n",
    "\n",
    "# hsv yelloe and white thrshold\n",
    "# parameter: image \n",
    "def hsv_threshold(img):\n",
    "    # convet to hsv space\n",
    "    img = cv2.cvtColor(img, cv2.COLOR_RGB2HSV)\n",
    "\n",
    "    # yellow mask\n",
    "    yellow_min = np.array([15, 100, 120], np.uint8)\n",
    "    yellow_max = np.array([80, 255, 255], np.uint8)\n",
    "    yellow_mask = cv2.inRange(img, yellow_min, yellow_max)\n",
    "\n",
    "    # white mask\n",
    "    white_min = np.array([0, 0, 200], np.uint8)\n",
    "    white_max = np.array([255, 30, 255], np.uint8)\n",
    "    white_mask = cv2.inRange(img, white_min, white_max)\n",
    "\n",
    "    binary_output = np.zeros_like(img[:, :, 0])\n",
    "    binary_output[((yellow_mask != 0) | (white_mask != 0))] = 1\n",
    "\n",
    "    # filtered = img\n",
    "    # filtered[((yellow_mask == 0) & (white_mask == 0))] = 0\n",
    "\n",
    "    return binary_output\n",
    "\n",
    "# combining all the thresholding binary \n",
    "# parameter: img \n",
    "def combined_threshold(img):\n",
    "\n",
    "    ksize = 15\n",
    "    # directional gradient\n",
    "    dir_binary = dir_threshold(img, ksize, thresh=(0.7, 1.2))\n",
    "    # magnitude gradient\n",
    "    mag_binary = mag_thresh(img, ksize, mag_thresh=(50, 255))\n",
    "    # s channel binary\n",
    "    hls_binary = hls_select(img, (90,255))\n",
    "\n",
    "    hsv_binary = hsv_threshold(img)\n",
    "\n",
    "    # combine together\n",
    "    combined = np.zeros_like(dir_binary)\n",
    "    # combined[((gradx == 1) & (grady == 1)) | ((mag_binary == 1) & (dir_binary == 1)) | (hls_binary == 1)] = 1\n",
    "    combined[((hsv_binary == 1) & ((mag_binary == 1) | (dir_binary == 1)))] = 1\n",
    "\n",
    "    return combined"
   ]
  },
  {
   "cell_type": "code",
   "execution_count": 4,
   "metadata": {
    "collapsed": false
   },
   "outputs": [],
   "source": [
    "# compute perspective transform and warp image\n",
    "# parameters: img - undistorted image\n",
    "# src - four source points\n",
    "# dst - foour dst points\n",
    "def warp_image(img, src, dst):    \n",
    "    # need to convert gray scale?\n",
    "    M = cv2.getPerspectiveTransform(src, dst)\n",
    "    warped = cv2.warpPerspective(img, M, (img.shape[1], img.shape[0]), flags=cv2.INTER_LINEAR)\n",
    "\n",
    "    return warped, M\n",
    "\n",
    "# compute inverse perspective transform and unwarp image\n",
    "# parameters: img - undistorted image\n",
    "# src - four source points\n",
    "# dst - foour dst points \n",
    "def unwarp_image(img, dst, src):\n",
    "    # need to convert gray scale?\n",
    "    Minv = cv2.getPerspectiveTransform(dst, src)\n",
    "    unwarped = cv2.warpPerspective(img, Minv, (img.shape[1], img.shape[0]), flags=cv2.INTER_LINEAR)\n",
    "\n",
    "    return unwarped, Minv"
   ]
  },
  {
   "cell_type": "code",
   "execution_count": 5,
   "metadata": {
    "collapsed": true
   },
   "outputs": [],
   "source": [
    "# fitting the left and right lane lines using histogram and polyfit sliding window methods\n",
    "# support code is ported from udacity lecture\n",
    "# parameters: img - warped image\n",
    "# return: left_fit, right_fit - second order polynomial\n",
    "def fit_polynomial(img):\n",
    "    \n",
    "    # Assuming you have created a warped binary image called \"binary_warped\"\n",
    "    # Take a histogram of the bottom half of the image\n",
    "    histogram = np.sum(img[img.shape[0]/2:,:], axis=0)\n",
    "\n",
    "    # Create an output image to draw on and  visualize the result\n",
    "    out_img = np.dstack((img, img, img))*255\n",
    "\n",
    "    # Find the peak of the left and right halves of the histogram\n",
    "    # These will be the starting point for the left and right lines\n",
    "    midpoint = np.int(histogram.shape[0]/2)\n",
    "    leftx_base = np.argmax(histogram[:midpoint])\n",
    "    rightx_base = np.argmax(histogram[midpoint:]) + midpoint\n",
    "\n",
    "    # Choose the number of sliding windows\n",
    "    nwindows = 9\n",
    "    # Set height of windows\n",
    "    window_height = np.int(img.shape[0]/nwindows)\n",
    "\n",
    "    # Identify the x and y positions of all nonzero pixels in the image\n",
    "    nonzero = img.nonzero()\n",
    "    nonzeroy = np.array(nonzero[0])\n",
    "    nonzerox = np.array(nonzero[1])\n",
    "\n",
    "    # Current positions to be updated for each window\n",
    "    leftx_current = leftx_base\n",
    "    rightx_current = rightx_base\n",
    "\n",
    "    # Set the width of the windows +/- margin\n",
    "    margin = 100\n",
    "    # Set minimum number of pixels found to recenter window\n",
    "    minpix = 50\n",
    "    # Create empty lists to receive left and right lane pixel indices\n",
    "    left_lane_inds = []\n",
    "    right_lane_inds = []\n",
    "\n",
    "    # Step through the windows one by one\n",
    "    for window in range(nwindows):\n",
    "        # Identify window boundaries in x and y (and right and left)\n",
    "        win_y_low = img.shape[0] - (window+1)*window_height\n",
    "        win_y_high = img.shape[0] - window*window_height\n",
    "        win_xleft_low = leftx_current - margin\n",
    "        win_xleft_high = leftx_current + margin\n",
    "        win_xright_low = rightx_current - margin\n",
    "        win_xright_high = rightx_current + margin\n",
    "        # Draw the windows on the visualization image\n",
    "        cv2.rectangle(out_img,(win_xleft_low,win_y_low),(win_xleft_high,win_y_high),(0,255,0), 2) \n",
    "        cv2.rectangle(out_img,(win_xright_low,win_y_low),(win_xright_high,win_y_high),(0,255,0), 2) \n",
    "        # Identify the nonzero pixels in x and y within the window\n",
    "        good_left_inds = ((nonzeroy >= win_y_low) & (nonzeroy < win_y_high) \n",
    "            & (nonzerox >= win_xleft_low) & (nonzerox < win_xleft_high)).nonzero()[0]\n",
    "        good_right_inds = ((nonzeroy >= win_y_low) & (nonzeroy < win_y_high) \n",
    "            & (nonzerox >= win_xright_low) & (nonzerox < win_xright_high)).nonzero()[0]\n",
    "        # Append these indices to the lists\n",
    "        left_lane_inds.append(good_left_inds)\n",
    "        right_lane_inds.append(good_right_inds)\n",
    "        # If you found > minpix pixels, recenter next window on their mean position\n",
    "        if len(good_left_inds) > minpix:\n",
    "            leftx_current = np.int(np.mean(nonzerox[good_left_inds]))\n",
    "        if len(good_right_inds) > minpix:        \n",
    "            rightx_current = np.int(np.mean(nonzerox[good_right_inds]))\n",
    "\n",
    "    # Concatenate the arrays of indices\n",
    "    left_lane_inds = np.concatenate(left_lane_inds)\n",
    "    right_lane_inds = np.concatenate(right_lane_inds)\n",
    "\n",
    "    # Extract left and right line pixel positions\n",
    "    leftx = nonzerox[left_lane_inds]\n",
    "    print(leftx)\n",
    "    lefty = nonzeroy[left_lane_inds] \n",
    "    print(lefty)\n",
    "    rightx = nonzerox[right_lane_inds]\n",
    "    print(rightx)\n",
    "    righty = nonzeroy[right_lane_inds] \n",
    "    print(righty)\n",
    "\n",
    "    # Fit a second order polynomial to each\n",
    "    left_fit = np.polyfit(lefty, leftx, 2)\n",
    "    right_fit = np.polyfit(righty, rightx, 2)\n",
    "\n",
    "    return left_fit, right_fit"
   ]
  },
  {
   "cell_type": "code",
   "execution_count": 6,
   "metadata": {
    "collapsed": true
   },
   "outputs": [],
   "source": [
    "# Drawing the polynomial on the original image\n",
    "# parameters: img - image to be drawn on\n",
    "# left_fit, right_fit - generated by the polynomial fit \n",
    "# Minv - inverse perspective transform \n",
    "def draw_polygon(img, left_fit, right_fit, Minv):\n",
    "    blank = np.zeros_like(img).astype(np.uint8)\n",
    "\n",
    "    fity = np.linspace(0, img.shape[0] - 1, img.shape[0])\n",
    "    left_fitx = left_fit[0] * fity ** 2 + left_fit[1] * fity + left_fit[2]\n",
    "    right_fitx = right_fit[0] * fity ** 2 + right_fit[1] * fity + right_fit[2]\n",
    "\n",
    "    # Recast the x and y points into usable format for cv2.fillPoly()\n",
    "    left_pts = np.array([np.transpose(np.vstack([left_fitx, fity]))])\n",
    "    right_pts = np.array([np.flipud(np.transpose(np.vstack([right_fitx, fity])))])\n",
    "    # stack left_pts and right_pts to be a single array\n",
    "    pts = np.hstack((left_pts, right_pts))\n",
    "    # saved in np array\n",
    "    pts = np.array(pts, dtype=np.int32)\n",
    "    # draw the plygon\n",
    "    cv2.fillPoly(blank, pts, (0, 255, 0))\n",
    "\n",
    "    # using inverse perspective matrix (Minv)\n",
    "    unwapred = cv2.warpPerspective(blank, Minv, (img.shape[1], img.shape[0]))\n",
    "    # Combine with the original image\n",
    "    new_img = cv2.addWeighted(img, 1, unwapred, 0.3, 0)\n",
    "\n",
    "    return new_img"
   ]
  },
  {
   "cell_type": "code",
   "execution_count": 7,
   "metadata": {
    "collapsed": true
   },
   "outputs": [],
   "source": [
    "# Calculating curvature of the lane line\n",
    "def calulate_curvature(image, left_fit, right_fit):\n",
    "    # calculating curvature radius in pixel and meter\n",
    "    ploty = np.linspace(0, 719, num=720)\n",
    "    left_fitx = left_fit[0]*ploty**2 + left_fit[1]*ploty + left_fit[2]\n",
    "    right_fitx = right_fit[0]*ploty**2 + right_fit[1]*ploty + right_fit[2]\n",
    "    # Define y-value where we want radius of curvature\n",
    "    # I'll choose the maximum y-value, corresponding to the bottom of the image\n",
    "    y_eval = np.max(ploty)\n",
    "    # print(y_eval)\n",
    "    left_curverad = ((1 + (2*left_fit[0]*y_eval + left_fit[1])**2)**1.5) / np.absolute(2*left_fit[0])\n",
    "    right_curverad = ((1 + (2*right_fit[0]*y_eval + right_fit[1])**2)**1.5) / np.absolute(2*right_fit[0])\n",
    "    # print(left_curverad, right_curverad)\n",
    "\n",
    "    # Define conversions in x and y from pixels space to meters\n",
    "    ym_per_pix = 30/720 # meters per pixel in y dimension\n",
    "    xm_per_pix = 3.7/700 # meters per pixel in x dimension\n",
    "\n",
    "    # Fit new polynomials to x,y in world space\n",
    "    # print((ploty*ym_per_pix).shape)\n",
    "    # print (left_fit)\n",
    "    left_fit_cr = np.polyfit(ploty*ym_per_pix, left_fitx*xm_per_pix, 2)\n",
    "    right_fit_cr = np.polyfit(ploty*ym_per_pix, right_fitx*xm_per_pix, 2)\n",
    "    # Calculate the new radii of curvature\n",
    "    left_curverad = ((1 + (2*left_fit_cr[0]*y_eval*ym_per_pix + left_fit_cr[1])**2)**1.5) / np.absolute(2*left_fit_cr[0])\n",
    "    right_curverad = ((1 + (2*right_fit_cr[0]*y_eval*ym_per_pix + right_fit_cr[1])**2)**1.5) / np.absolute(2*right_fit_cr[0])\n",
    "    # Now our radius of curvature is in meters\n",
    "    # print(left_curverad, 'm', right_curverad, 'm')\n",
    "\n",
    "    # calculating the vehicle position w.r.t the lane lines\n",
    "    center_pixel = image.shape[1]/2\n",
    "    # assuming camera is mounted at the center of the vehicle\n",
    "    vp_center = int((left_fitx[0]+right_fitx[0])/2)\n",
    "    # print(vp_center)\n",
    "    from_center = center_pixel - vp_center\n",
    "    # print(from_center)\n",
    "    vp_center_in_meter = xm_per_pix * from_center\n",
    "    # print(vp_center_in_meter,'m')\n",
    "\n",
    "    return left_curverad, right_curverad, vp_center_in_meter"
   ]
  },
  {
   "cell_type": "code",
   "execution_count": 8,
   "metadata": {
    "collapsed": false
   },
   "outputs": [],
   "source": [
    "def pipeline(image):\n",
    "    # 1) undistort the frame image\n",
    "    # 1.1) read in the calculated coefficients from pickle file\n",
    "    if os.path.isfile('camera_cal/dist_pickle.p'):\n",
    "        with open('camera_cal/dist_pickle.p', 'rb') as pkf:\n",
    "            data = pickle.load(pkf)\n",
    "            mtx = data[\"mtx\"]\n",
    "            dist = data[\"dist\"]\n",
    "            img_size = data[\"img_size\"]\n",
    "    else:\n",
    "        # calibrate the camera using given chessboard images, store in 'dist_pickle.p'\n",
    "        mtx, dist, img_size = calibrate_camera('camera_cal', 'camera_cal/dist_pickle.p')\n",
    "\n",
    "    # print(img_size)\n",
    "    # undistort the image\n",
    "    img = cv2.undistort(image, mtx, dist, None, mtx)\n",
    "    # 2) apply threshold\n",
    "    img = combined_threshold(img)\n",
    "    # 3) perspective transform and warp image\n",
    "    src = np.float32(\n",
    "            [[(img_size[0] / 2) - 60, img_size[1] / 2 + 100],\n",
    "            [((img_size[0] / 6)  + 47), img_size[1] - 40 ],\n",
    "            [(img_size[0] * 5 / 6) - 26, img_size[1] - 40],\n",
    "            [(img_size[0] / 2 + 60), img_size[1] / 2 + 100]])\n",
    "    dst = np.float32(\n",
    "            [[(img_size[0] / 4) - 60, 0],\n",
    "            [(img_size[0] / 4) - 60, img_size[1]],\n",
    "            [(img_size[0] * 3 / 4) + 80, img_size[1]],\n",
    "            [(img_size[0] * 3 / 4) + 80, 0]])\n",
    "    '''\n",
    "    src = np.float32(\n",
    "            [[(img_size[0] / 2) - 55, img_size[1] / 2 + 100],\n",
    "            [((img_size[0] / 6) - 10), img_size[1]],\n",
    "            [(img_size[0] * 5 / 6) + 60, img_size[1]],\n",
    "            [(img_size[0] / 2 + 55), img_size[1] / 2 + 100]])\n",
    "    dst = np.float32(\n",
    "            [[(img_size[0] / 4), 0],\n",
    "            [(img_size[0] / 4), img_size[1]],\n",
    "            [(img_size[0] * 3 / 4), img_size[1]],\n",
    "            [(img_size[0] * 3 / 4), 0]])\n",
    "    '''\n",
    "\n",
    "    warped, M = warp_image(img, src, dst)\n",
    "    # to get inverse perspective transform to use to drawback on original image\n",
    "    unwarped, Minv = unwarp_image(img, dst, src)\n",
    "    # 4) poly fit for left lane and right lane\n",
    "    left_fit, right_fit = fit_polynomial(warped)    \n",
    "    # 5) draw left and right with polygon on the original image\n",
    "    new_img = draw_polygon(image, left_fit, right_fit, Minv)\n",
    "\n",
    "    # 6) calculate curvature radius and vehcile position then draw on the image\n",
    "    left_curve, right_curve, vp_from_center = calulate_curvature(new_img, left_fit, right_fit)\n",
    "    \n",
    "    # 7) draw the text on the image for left and right curve in meter\n",
    "    cv2.putText(new_img, \"Left curve: {}m\".format(left_curve.round()) + \" and \" + \"Right curve: {}m\".format(right_curve.round()), \n",
    "                (10, 50), cv2.FONT_HERSHEY_SIMPLEX, 1, color=(255, 255, 255), thickness=2)\n",
    "    \n",
    "    # 8) prepare the vp text and draw on the image\n",
    "    if vp_from_center > 0:\n",
    "        vp_text = '{:.2f}m right from the center'.format(vp_from_center)\n",
    "    else:\n",
    "        vp_text = '{:.2f}m left from the center'.format(vp_from_center)\n",
    "        \n",
    "    cv2.putText(new_img, \"VP is {}\".format(vp_text), (10, 100), cv2.FONT_HERSHEY_SIMPLEX, 1, color=(255, 255, 255),\n",
    "                thickness=2)\n",
    "\n",
    "    # return the new image \n",
    "    return new_img"
   ]
  },
  {
   "cell_type": "code",
   "execution_count": 9,
   "metadata": {
    "collapsed": false
   },
   "outputs": [
    {
     "name": "stdout",
     "output_type": "stream",
     "text": [
      "[313 314 315 ..., 257 258 259]\n",
      "[640 640 640 ...,  79  79  79]\n",
      "[1093 1094 1095 ..., 1063 1064 1065]\n",
      "[560 560 560 ..., 159 159 159]\n",
      "[MoviePy] >>>> Building video project_video_out.mp4\n",
      "[MoviePy] Writing video project_video_out.mp4\n"
     ]
    },
    {
     "name": "stderr",
     "output_type": "stream",
     "text": [
      "  0%|          | 1/1261 [00:00<11:29,  1.83it/s]"
     ]
    },
    {
     "name": "stdout",
     "output_type": "stream",
     "text": [
      "[313 314 315 ..., 257 258 259]\n",
      "[640 640 640 ...,  79  79  79]\n",
      "[1093 1094 1095 ..., 1063 1064 1065]\n",
      "[560 560 560 ..., 159 159 159]\n"
     ]
    },
    {
     "name": "stderr",
     "output_type": "stream",
     "text": [
      "\r",
      "  0%|          | 2/1261 [00:00<10:25,  2.01it/s]"
     ]
    },
    {
     "name": "stdout",
     "output_type": "stream",
     "text": [
      "[311 312 313 ..., 222 223 224]\n",
      "[640 640 640 ...,  79  79  79]\n",
      "[1105 1106 1107 ..., 1074 1075 1076]\n",
      "[640 640 640 ..., 239 239 239]\n"
     ]
    },
    {
     "name": "stderr",
     "output_type": "stream",
     "text": [
      "\r",
      "  0%|          | 3/1261 [00:01<10:10,  2.06it/s]"
     ]
    },
    {
     "name": "stdout",
     "output_type": "stream",
     "text": [
      "[313 314 315 ..., 251 252 253]\n",
      "[640 640 640 ...,  79  79  79]\n",
      "[1103 1104 1105 ..., 1069 1070 1071]\n",
      "[640 640 640 ..., 239 239 239]\n"
     ]
    },
    {
     "name": "stderr",
     "output_type": "stream",
     "text": [
      "\r",
      "  0%|          | 4/1261 [00:01<09:42,  2.16it/s]"
     ]
    },
    {
     "name": "stdout",
     "output_type": "stream",
     "text": [
      "[314 315 316 ..., 251 252 253]\n",
      "[640 640 640 ...,  79  79  79]\n",
      "[1103 1104 1105 ...,  975  976  977]\n",
      "[640 640 640 ...,  40  40  40]\n"
     ]
    },
    {
     "name": "stderr",
     "output_type": "stream",
     "text": [
      "\r",
      "  0%|          | 5/1261 [00:02<09:27,  2.21it/s]"
     ]
    },
    {
     "name": "stdout",
     "output_type": "stream",
     "text": [
      "[322 323 324 ..., 251 252 253]\n",
      "[640 640 640 ...,  79  79  79]\n",
      "[1107 1108 1109 ...,  977  978  979]\n",
      "[640 640 640 ...,  77  77  77]\n"
     ]
    },
    {
     "name": "stderr",
     "output_type": "stream",
     "text": [
      "\r",
      "  0%|          | 6/1261 [00:02<09:40,  2.16it/s]"
     ]
    },
    {
     "name": "stdout",
     "output_type": "stream",
     "text": [
      "[321 322 323 ..., 257 258 259]\n",
      "[640 640 640 ...,  79  79  79]\n",
      "[1117 1118 1119 ...,  994  995  996]\n",
      "[667 667 667 ...,  79  79  79]\n"
     ]
    },
    {
     "name": "stderr",
     "output_type": "stream",
     "text": [
      "\r",
      "  1%|          | 7/1261 [00:03<10:07,  2.06it/s]"
     ]
    },
    {
     "name": "stdout",
     "output_type": "stream",
     "text": [
      "[319 320 321 ..., 251 252 253]\n",
      "[640 640 640 ...,  79  79  79]\n",
      "[1118 1119 1120 ..., 1012 1013 1014]\n",
      "[696 696 696 ...,  79  79  79]\n"
     ]
    },
    {
     "name": "stderr",
     "output_type": "stream",
     "text": [
      "\r",
      "  1%|          | 8/1261 [00:03<10:34,  1.97it/s]"
     ]
    },
    {
     "name": "stdout",
     "output_type": "stream",
     "text": [
      "[321 322 323 ..., 245 246 247]\n",
      "[640 640 640 ...,  79  79  79]\n",
      "[1108 1109 1110 ..., 1012 1013 1014]\n",
      "[590 590 590 ...,  79  79  79]\n"
     ]
    },
    {
     "name": "stderr",
     "output_type": "stream",
     "text": [
      "\r",
      "  1%|          | 9/1261 [00:04<10:26,  2.00it/s]"
     ]
    },
    {
     "name": "stdout",
     "output_type": "stream",
     "text": [
      "[319 320 321 ..., 239 240 241]\n",
      "[640 640 640 ...,  79  79  79]\n",
      "[1117 1118 1119 ..., 1012 1013 1014]\n",
      "[617 617 617 ...,  79  79  79]\n"
     ]
    },
    {
     "name": "stderr",
     "output_type": "stream",
     "text": [
      "\r",
      "  1%|          | 10/1261 [00:04<10:32,  1.98it/s]"
     ]
    },
    {
     "name": "stdout",
     "output_type": "stream",
     "text": [
      "[317 318 319 ..., 239 240 241]\n",
      "[640 640 640 ...,  79  79  79]\n",
      "[1117 1118 1119 ..., 1012 1013 1014]\n",
      "[646 646 646 ...,  79  79  79]\n"
     ]
    },
    {
     "name": "stderr",
     "output_type": "stream",
     "text": [
      "\r",
      "  1%|          | 11/1261 [00:05<11:01,  1.89it/s]"
     ]
    },
    {
     "name": "stdout",
     "output_type": "stream",
     "text": [
      "[325 326 327 ..., 239 240 241]\n",
      "[640 640 640 ...,  79  79  79]\n",
      "[1123 1124 1125 ..., 1031 1032 1033]\n",
      "[675 675 675 ..., 159 159 159]\n"
     ]
    },
    {
     "name": "stderr",
     "output_type": "stream",
     "text": [
      "\r",
      "  1%|          | 12/1261 [00:06<11:53,  1.75it/s]"
     ]
    },
    {
     "name": "stdout",
     "output_type": "stream",
     "text": [
      "[316 317 318 ..., 228 229 230]\n",
      "[640 640 640 ...,  79  79  79]\n",
      "[1130 1131 1132 ..., 1047 1048 1049]\n",
      "[703 703 703 ..., 159 159 159]\n"
     ]
    },
    {
     "name": "stderr",
     "output_type": "stream",
     "text": [
      "\r",
      "  1%|          | 13/1261 [00:06<10:46,  1.93it/s]"
     ]
    },
    {
     "name": "stdout",
     "output_type": "stream",
     "text": [
      "[316 317 318 ..., 234 235 236]\n",
      "[640 640 640 ...,  79  79  79]\n",
      "[1091 1092 1093 ..., 1041 1042 1043]\n",
      "[560 560 560 ..., 159 159 159]\n"
     ]
    },
    {
     "name": "stderr",
     "output_type": "stream",
     "text": [
      "\r",
      "  1%|          | 14/1261 [00:06<10:14,  2.03it/s]"
     ]
    },
    {
     "name": "stdout",
     "output_type": "stream",
     "text": [
      "[316 317 318 ..., 234 235 236]\n",
      "[640 640 640 ...,  79  79  79]\n",
      "[1102 1103 1104 ..., 1055 1056 1057]\n",
      "[640 640 640 ..., 239 239 239]\n"
     ]
    },
    {
     "name": "stderr",
     "output_type": "stream",
     "text": [
      "\r",
      "  1%|          | 15/1261 [00:07<09:33,  2.17it/s]"
     ]
    },
    {
     "name": "stdout",
     "output_type": "stream",
     "text": [
      "[316 317 318 ..., 228 229 230]\n",
      "[640 640 640 ...,  79  79  79]\n",
      "[1099 1100 1101 ..., 1037 1038 1039]\n",
      "[640 640 640 ..., 239 239 239]\n"
     ]
    },
    {
     "name": "stderr",
     "output_type": "stream",
     "text": [
      "\r",
      "  1%|▏         | 16/1261 [00:07<08:40,  2.39it/s]"
     ]
    },
    {
     "name": "stdout",
     "output_type": "stream",
     "text": [
      "[317 318 319 ..., 234 235 236]\n",
      "[640 640 640 ...,  79  79  79]\n",
      "[1094 1095 1096 ...,  938  939  940]\n",
      "[640 640 640 ...,  40  40  40]\n"
     ]
    },
    {
     "name": "stderr",
     "output_type": "stream",
     "text": [
      "\r",
      "  1%|▏         | 17/1261 [00:07<08:01,  2.58it/s]"
     ]
    },
    {
     "name": "stdout",
     "output_type": "stream",
     "text": [
      "[316 317 318 ..., 234 235 236]\n",
      "[640 640 640 ...,  79  79  79]\n",
      "[1092 1093 1094 ...,  942  943  944]\n",
      "[640 640 640 ...,  77  77  77]\n"
     ]
    },
    {
     "name": "stderr",
     "output_type": "stream",
     "text": [
      "\r",
      "  1%|▏         | 18/1261 [00:08<07:48,  2.65it/s]"
     ]
    },
    {
     "name": "stdout",
     "output_type": "stream",
     "text": [
      "[314 315 316 ..., 239 240 241]\n",
      "[640 640 640 ...,  79  79  79]\n",
      "[1104 1105 1106 ...,  959  960  961]\n",
      "[657 657 657 ...,  79  79  79]\n"
     ]
    },
    {
     "name": "stderr",
     "output_type": "stream",
     "text": [
      "\r",
      "  2%|▏         | 19/1261 [00:08<07:39,  2.71it/s]"
     ]
    },
    {
     "name": "stdout",
     "output_type": "stream",
     "text": [
      "[314 315 316 ..., 234 235 236]\n",
      "[640 640 640 ...,  79  79  79]\n",
      "[1106 1107 1108 ...,  982  983  984]\n",
      "[685 685 685 ...,  79  79  79]\n"
     ]
    },
    {
     "name": "stderr",
     "output_type": "stream",
     "text": [
      "\r",
      "  2%|▏         | 20/1261 [00:08<07:23,  2.80it/s]"
     ]
    },
    {
     "name": "stdout",
     "output_type": "stream",
     "text": [
      "[319 320 321 ..., 204 205 206]\n",
      "[640 640 640 ...,  79  79  79]\n",
      "[1101 1102 1116 ...,  988  989  990]\n",
      "[711 711 713 ...,  79  79  79]\n"
     ]
    },
    {
     "name": "stderr",
     "output_type": "stream",
     "text": [
      "\r",
      "  2%|▏         | 21/1261 [00:09<08:00,  2.58it/s]"
     ]
    },
    {
     "name": "stdout",
     "output_type": "stream",
     "text": [
      "[319 320 321 ..., 222 223 224]\n",
      "[640 640 640 ...,  79  79  79]\n",
      "[1100 1101 1102 ..., 1000 1001 1002]\n",
      "[605 605 605 ...,  79  79  79]\n"
     ]
    },
    {
     "name": "stderr",
     "output_type": "stream",
     "text": [
      "\r",
      "  2%|▏         | 22/1261 [00:09<08:09,  2.53it/s]"
     ]
    },
    {
     "name": "stdout",
     "output_type": "stream",
     "text": [
      "[306 307 308 ..., 216 217 218]\n",
      "[640 640 640 ...,  79  79  79]\n",
      "[1108 1109 1110 ..., 1006 1007 1008]\n",
      "[632 632 632 ...,  79  79  79]\n"
     ]
    },
    {
     "name": "stderr",
     "output_type": "stream",
     "text": [
      "\r",
      "  2%|▏         | 23/1261 [00:10<07:57,  2.60it/s]"
     ]
    },
    {
     "name": "stdout",
     "output_type": "stream",
     "text": [
      "[303 304 305 ..., 216 217 218]\n",
      "[640 640 640 ...,  79  79  79]\n",
      "[1097 1098 1099 ..., 1018 1019 1020]\n",
      "[659 659 659 ...,  79  79  79]\n"
     ]
    },
    {
     "name": "stderr",
     "output_type": "stream",
     "text": [
      "\r",
      "  2%|▏         | 24/1261 [00:10<08:09,  2.53it/s]"
     ]
    },
    {
     "name": "stdout",
     "output_type": "stream",
     "text": [
      "[305 306 307 ..., 216 217 218]\n",
      "[640 640 640 ...,  79  79  79]\n",
      "[1099 1100 1101 ..., 1031 1032 1033]\n",
      "[689 689 689 ..., 159 159 159]\n"
     ]
    },
    {
     "name": "stderr",
     "output_type": "stream",
     "text": [
      "\r",
      "  2%|▏         | 25/1261 [00:10<08:11,  2.52it/s]"
     ]
    },
    {
     "name": "stdout",
     "output_type": "stream",
     "text": [
      "[301 302 303 ..., 228 229 230]\n",
      "[640 640 640 ...,  79  79  79]\n",
      "[1098 1099 1100 ..., 1026 1027 1028]\n",
      "[718 718 718 ..., 159 159 159]\n"
     ]
    },
    {
     "name": "stderr",
     "output_type": "stream",
     "text": [
      "\r",
      "  2%|▏         | 26/1261 [00:11<07:56,  2.59it/s]"
     ]
    },
    {
     "name": "stdout",
     "output_type": "stream",
     "text": [
      "[300 301 302 ..., 216 217 218]\n",
      "[640 640 640 ...,  79  79  79]\n",
      "[1080 1081 1082 ..., 1036 1037 1038]\n",
      "[560 560 560 ..., 159 159 159]\n"
     ]
    },
    {
     "name": "stderr",
     "output_type": "stream",
     "text": [
      "\r",
      "  2%|▏         | 27/1261 [00:11<07:33,  2.72it/s]"
     ]
    },
    {
     "name": "stdout",
     "output_type": "stream",
     "text": [
      "[295 296 297 ..., 216 217 218]\n",
      "[640 640 640 ...,  79  79  79]\n",
      "[1092 1093 1094 ..., 1060 1061 1062]\n",
      "[640 640 640 ..., 239 239 239]\n"
     ]
    },
    {
     "name": "stderr",
     "output_type": "stream",
     "text": [
      "\r",
      "  2%|▏         | 28/1261 [00:12<07:30,  2.73it/s]"
     ]
    },
    {
     "name": "stdout",
     "output_type": "stream",
     "text": [
      "[290 291 292 ..., 216 217 218]\n",
      "[640 640 640 ...,  79  79  79]\n",
      "[1097 1098 1099 ..., 1069 1070 1071]\n",
      "[640 640 640 ..., 239 239 239]\n"
     ]
    },
    {
     "name": "stderr",
     "output_type": "stream",
     "text": [
      "\r",
      "  2%|▏         | 29/1261 [00:12<07:31,  2.73it/s]"
     ]
    },
    {
     "name": "stdout",
     "output_type": "stream",
     "text": [
      "[292 293 294 ..., 222 223 224]\n",
      "[640 640 640 ...,  79  79  79]\n",
      "[1097 1098 1099 ..., 1065 1066 1067]\n",
      "[640 640 640 ..., 239 239 239]\n"
     ]
    },
    {
     "name": "stderr",
     "output_type": "stream",
     "text": [
      "\r",
      "  2%|▏         | 30/1261 [00:12<07:36,  2.70it/s]"
     ]
    },
    {
     "name": "stdout",
     "output_type": "stream",
     "text": [
      "[293 294 295 ..., 228 229 230]\n",
      "[640 640 640 ...,  79  79  79]\n",
      "[1094 1095 1096 ...,  964  965  966]\n",
      "[640 640 640 ...,  20  20  20]\n"
     ]
    },
    {
     "name": "stderr",
     "output_type": "stream",
     "text": [
      "\r",
      "  2%|▏         | 31/1261 [00:13<07:34,  2.71it/s]"
     ]
    },
    {
     "name": "stdout",
     "output_type": "stream",
     "text": [
      "[293 294 295 ..., 228 229 230]\n",
      "[640 640 640 ...,  79  79  79]\n",
      "[1100 1101 1102 ...,  960  961  962]\n",
      "[662 662 662 ...,  77  77  77]\n"
     ]
    },
    {
     "name": "stderr",
     "output_type": "stream",
     "text": [
      "\r",
      "  3%|▎         | 32/1261 [00:13<07:31,  2.72it/s]"
     ]
    },
    {
     "name": "stdout",
     "output_type": "stream",
     "text": [
      "[300 301 302 ..., 228 229 230]\n",
      "[640 640 640 ...,  79  79  79]\n",
      "[1100 1101 1102 ...,  988  989  990]\n",
      "[692 692 692 ...,  79  79  79]\n"
     ]
    },
    {
     "name": "stderr",
     "output_type": "stream",
     "text": [
      "\r",
      "  3%|▎         | 33/1261 [00:13<07:17,  2.81it/s]"
     ]
    },
    {
     "name": "stdout",
     "output_type": "stream",
     "text": [
      "[295 296 297 ..., 234 235 236]\n",
      "[640 640 640 ...,  79  79  79]\n",
      "[1102 1103 1104 ..., 1000 1001 1002]\n",
      "[583 583 583 ...,  79  79  79]\n"
     ]
    },
    {
     "name": "stderr",
     "output_type": "stream",
     "text": [
      "\r",
      "  3%|▎         | 34/1261 [00:14<07:38,  2.67it/s]"
     ]
    },
    {
     "name": "stdout",
     "output_type": "stream",
     "text": [
      "[298 299 300 ..., 234 235 236]\n",
      "[640 640 640 ...,  79  79  79]\n",
      "[1107 1108 1109 ...,  994  995  996]\n",
      "[613 613 613 ...,  79  79  79]\n"
     ]
    },
    {
     "name": "stderr",
     "output_type": "stream",
     "text": [
      "\r",
      "  3%|▎         | 35/1261 [00:14<08:03,  2.53it/s]"
     ]
    },
    {
     "name": "stdout",
     "output_type": "stream",
     "text": [
      "[303 304 305 ..., 234 235 236]\n",
      "[640 640 640 ...,  79  79  79]\n",
      "[1097 1098 1099 ...,  994  995  996]\n",
      "[643 643 643 ...,  79  79  79]\n"
     ]
    },
    {
     "name": "stderr",
     "output_type": "stream",
     "text": [
      "\r",
      "  3%|▎         | 36/1261 [00:15<08:15,  2.47it/s]"
     ]
    },
    {
     "name": "stdout",
     "output_type": "stream",
     "text": [
      "[303 304 305 ..., 216 217 218]\n",
      "[640 640 640 ...,  79  79  79]\n",
      "[1112 1113 1114 ..., 1010 1011 1012]\n",
      "[672 672 672 ..., 159 159 159]\n"
     ]
    },
    {
     "name": "stderr",
     "output_type": "stream",
     "text": [
      "\r",
      "  3%|▎         | 37/1261 [00:15<09:45,  2.09it/s]"
     ]
    },
    {
     "name": "stdout",
     "output_type": "stream",
     "text": [
      "[305 306 307 ..., 216 217 218]\n",
      "[640 640 640 ...,  79  79  79]\n",
      "[1114 1115 1116 ..., 1010 1011 1012]\n",
      "[702 702 702 ..., 159 159 159]\n"
     ]
    },
    {
     "name": "stderr",
     "output_type": "stream",
     "text": [
      "\r",
      "  3%|▎         | 38/1261 [00:16<09:40,  2.11it/s]"
     ]
    },
    {
     "name": "stdout",
     "output_type": "stream",
     "text": [
      "[305 306 307 ..., 234 235 236]\n",
      "[640 640 640 ...,  79  79  79]\n",
      "[1073 1074 1075 ..., 1005 1006 1007]\n",
      "[560 560 560 ..., 159 159 159]\n"
     ]
    },
    {
     "name": "stderr",
     "output_type": "stream",
     "text": [
      "\r",
      "  3%|▎         | 39/1261 [00:16<08:48,  2.31it/s]"
     ]
    },
    {
     "name": "stdout",
     "output_type": "stream",
     "text": [
      "[308 309 310 ..., 222 223 224]\n",
      "[640 640 640 ...,  79  79  79]\n",
      "[1069 1070 1071 ..., 1018 1019 1020]\n",
      "[560 560 560 ..., 239 239 239]\n"
     ]
    },
    {
     "name": "stderr",
     "output_type": "stream",
     "text": [
      "\r",
      "  3%|▎         | 40/1261 [00:16<08:09,  2.49it/s]"
     ]
    },
    {
     "name": "stdout",
     "output_type": "stream",
     "text": [
      "[308 309 310 ..., 210 211 212]\n",
      "[640 640 640 ...,  79  79  79]\n",
      "[1086 1087 1088 ...,  908  908  908]\n",
      "[640 640 640 ...,   3   4   5]\n"
     ]
    },
    {
     "name": "stderr",
     "output_type": "stream",
     "text": [
      "\r",
      "  3%|▎         | 41/1261 [00:17<07:36,  2.67it/s]"
     ]
    },
    {
     "name": "stdout",
     "output_type": "stream",
     "text": [
      "[308 309 310 ..., 228 229 230]\n",
      "[640 640 640 ...,  79  79  79]\n",
      "[1086 1087 1088 ...,  918  918  918]\n",
      "[640 640 640 ...,  31  32  33]\n"
     ]
    },
    {
     "name": "stderr",
     "output_type": "stream",
     "text": [
      "\r",
      "  3%|▎         | 42/1261 [00:17<07:15,  2.80it/s]"
     ]
    },
    {
     "name": "stdout",
     "output_type": "stream",
     "text": [
      "[308 309 310 ..., 228 229 230]\n",
      "[640 640 640 ...,  79  79  79]\n",
      "[1087 1088 1089 ...,  925  926  927]\n",
      "[640 640 640 ...,  59  59  59]\n"
     ]
    },
    {
     "name": "stderr",
     "output_type": "stream",
     "text": [
      "\r",
      "  3%|▎         | 43/1261 [00:17<07:28,  2.72it/s]"
     ]
    },
    {
     "name": "stdout",
     "output_type": "stream",
     "text": [
      "[309 310 311 ..., 222 223 224]\n",
      "[640 640 640 ...,  79  79  79]\n",
      "[1097 1098 1099 ...,  942  943  944]\n",
      "[645 645 645 ...,  77  77  77]\n"
     ]
    },
    {
     "name": "stderr",
     "output_type": "stream",
     "text": [
      "\r",
      "  3%|▎         | 44/1261 [00:18<07:14,  2.80it/s]"
     ]
    },
    {
     "name": "stdout",
     "output_type": "stream",
     "text": [
      "[308 309 310 ..., 222 223 224]\n",
      "[640 640 640 ...,  79  79  79]\n",
      "[1103 1104 1105 ...,  965  966  967]\n",
      "[673 673 673 ...,  79  79  79]\n"
     ]
    },
    {
     "name": "stderr",
     "output_type": "stream",
     "text": [
      "\r",
      "  4%|▎         | 45/1261 [00:18<07:16,  2.79it/s]"
     ]
    },
    {
     "name": "stdout",
     "output_type": "stream",
     "text": [
      "[308 309 310 ..., 222 223 224]\n",
      "[640 640 640 ...,  79  79  79]\n",
      "[1114 1115 1116 ...,  982  983  984]\n",
      "[701 701 701 ...,  79  79  79]\n"
     ]
    },
    {
     "name": "stderr",
     "output_type": "stream",
     "text": [
      "\r",
      "  4%|▎         | 46/1261 [00:18<07:04,  2.86it/s]"
     ]
    },
    {
     "name": "stdout",
     "output_type": "stream",
     "text": [
      "[308 309 310 ..., 204 205 206]\n",
      "[640 640 640 ...,  79  79  79]\n",
      "[1100 1101 1102 ...,  988  989  990]\n",
      "[601 601 601 ...,  79  79  79]\n"
     ]
    },
    {
     "name": "stderr",
     "output_type": "stream",
     "text": [
      "\r",
      "  4%|▎         | 47/1261 [00:19<06:57,  2.91it/s]"
     ]
    },
    {
     "name": "stdout",
     "output_type": "stream",
     "text": [
      "[308 309 310 ..., 204 205 206]\n",
      "[640 640 640 ...,  79  79  79]\n",
      "[1106 1107 1108 ...,  988  989  990]\n",
      "[629 629 629 ...,  79  79  79]\n"
     ]
    },
    {
     "name": "stderr",
     "output_type": "stream",
     "text": [
      "\r",
      "  4%|▍         | 48/1261 [00:19<07:08,  2.83it/s]"
     ]
    },
    {
     "name": "stdout",
     "output_type": "stream",
     "text": [
      "[308 309 310 ..., 204 205 206]\n",
      "[640 640 640 ...,  79  79  79]\n",
      "[1112 1113 1114 ...,  982  983  984]\n",
      "[658 658 658 ...,  79  79  79]\n"
     ]
    },
    {
     "name": "stderr",
     "output_type": "stream",
     "text": [
      "\r",
      "  4%|▍         | 49/1261 [00:20<07:05,  2.85it/s]"
     ]
    },
    {
     "name": "stdout",
     "output_type": "stream",
     "text": [
      "[306 307 308 ..., 198 199 200]\n",
      "[640 640 640 ...,  79  79  79]\n",
      "[1101 1102 1103 ...,  994  995  996]\n",
      "[687 687 687 ...,  79  79  79]\n"
     ]
    },
    {
     "name": "stderr",
     "output_type": "stream",
     "text": [
      "\r",
      "  4%|▍         | 50/1261 [00:20<07:16,  2.78it/s]"
     ]
    },
    {
     "name": "stdout",
     "output_type": "stream",
     "text": [
      "[306 307 308 ..., 204 205 206]\n",
      "[640 640 640 ...,  79  79  79]\n",
      "[1103 1104 1105 ..., 1015 1016 1017]\n",
      "[716 716 716 ..., 159 159 159]\n"
     ]
    },
    {
     "name": "stderr",
     "output_type": "stream",
     "text": [
      "\r",
      "  4%|▍         | 51/1261 [00:20<07:10,  2.81it/s]"
     ]
    },
    {
     "name": "stdout",
     "output_type": "stream",
     "text": [
      "[306 307 308 ..., 198 199 200]\n",
      "[640 640 640 ...,  79  79  79]\n",
      "[1080 1081 1082 ..., 1015 1016 1017]\n",
      "[560 560 560 ..., 159 159 159]\n"
     ]
    },
    {
     "name": "stderr",
     "output_type": "stream",
     "text": [
      "\r",
      "  4%|▍         | 52/1261 [00:21<07:20,  2.75it/s]"
     ]
    },
    {
     "name": "stdout",
     "output_type": "stream",
     "text": [
      "[308 309 310 ..., 204 205 206]\n",
      "[640 640 640 ...,  79  79  79]\n",
      "[1091 1092 1093 ..., 1023 1024 1025]\n",
      "[640 640 640 ..., 239 239 239]\n"
     ]
    },
    {
     "name": "stderr",
     "output_type": "stream",
     "text": [
      "\r",
      "  4%|▍         | 53/1261 [00:21<07:17,  2.76it/s]"
     ]
    },
    {
     "name": "stdout",
     "output_type": "stream",
     "text": [
      "[308 309 310 ..., 204 205 206]\n",
      "[640 640 640 ...,  79  79  79]\n",
      "[1087 1088 1089 ..., 1023 1024 1025]\n",
      "[640 640 640 ..., 239 239 239]\n"
     ]
    },
    {
     "name": "stderr",
     "output_type": "stream",
     "text": [
      "\r",
      "  4%|▍         | 54/1261 [00:21<07:01,  2.86it/s]"
     ]
    },
    {
     "name": "stdout",
     "output_type": "stream",
     "text": [
      "[308 309 310 ..., 204 205 206]\n",
      "[640 640 640 ...,  79  79  79]\n",
      "[1087 1088 1089 ...,  919  919  919]\n",
      "[640 640 640 ...,  28  29  30]\n"
     ]
    },
    {
     "name": "stderr",
     "output_type": "stream",
     "text": [
      "\r",
      "  4%|▍         | 55/1261 [00:22<06:58,  2.88it/s]"
     ]
    },
    {
     "name": "stdout",
     "output_type": "stream",
     "text": [
      "[308 309 310 ..., 210 211 212]\n",
      "[640 640 640 ...,  79  79  79]\n",
      "[1087 1088 1089 ...,  925  926  927]\n",
      "[640 640 640 ...,  59  59  59]\n"
     ]
    },
    {
     "name": "stderr",
     "output_type": "stream",
     "text": [
      "\r",
      "  4%|▍         | 56/1261 [00:22<07:00,  2.86it/s]"
     ]
    },
    {
     "name": "stdout",
     "output_type": "stream",
     "text": [
      "[305 306 307 ..., 216 217 218]\n",
      "[640 640 640 ...,  79  79  79]\n",
      "[1099 1100 1101 ...,  936  937  938]\n",
      "[660 660 660 ...,  77  77  77]\n"
     ]
    },
    {
     "name": "stderr",
     "output_type": "stream",
     "text": [
      "\r",
      "  5%|▍         | 57/1261 [00:22<07:04,  2.84it/s]"
     ]
    },
    {
     "name": "stdout",
     "output_type": "stream",
     "text": [
      "[303 304 305 ..., 222 223 224]\n",
      "[640 640 640 ...,  79  79  79]\n",
      "[1103 1104 1099 ...,  959  960  961]\n",
      "[689 689 690 ...,  79  79  79]\n"
     ]
    },
    {
     "name": "stderr",
     "output_type": "stream",
     "text": [
      "\r",
      "  5%|▍         | 58/1261 [00:23<06:53,  2.91it/s]"
     ]
    },
    {
     "name": "stdout",
     "output_type": "stream",
     "text": [
      "[303 304 305 ..., 216 217 218]\n",
      "[640 640 640 ...,  79  79  79]\n",
      "[1103 1104 1105 ...,  965  966  967]\n",
      "[719 719 719 ...,  79  79  79]\n"
     ]
    },
    {
     "name": "stderr",
     "output_type": "stream",
     "text": [
      "\r",
      "  5%|▍         | 59/1261 [00:23<06:52,  2.92it/s]"
     ]
    },
    {
     "name": "stdout",
     "output_type": "stream",
     "text": [
      "[305 306 307 ..., 210 211 212]\n",
      "[640 640 640 ...,  79  79  79]\n",
      "[1092 1093 1094 ...,  953  954  955]\n",
      "[617 617 617 ...,  79  79  79]\n"
     ]
    },
    {
     "name": "stderr",
     "output_type": "stream",
     "text": [
      "\r",
      "  5%|▍         | 60/1261 [00:23<06:47,  2.95it/s]"
     ]
    },
    {
     "name": "stdout",
     "output_type": "stream",
     "text": [
      "[305 306 307 ..., 216 217 218]\n",
      "[640 640 640 ...,  79  79  79]\n",
      "[1092 1093 1094 ...,  973  974  975]\n",
      "[648 648 648 ..., 159 159 159]\n"
     ]
    },
    {
     "name": "stderr",
     "output_type": "stream",
     "text": [
      "\r",
      "  5%|▍         | 61/1261 [00:24<06:46,  2.96it/s]"
     ]
    },
    {
     "name": "stdout",
     "output_type": "stream",
     "text": [
      "[303 304 305 ..., 197 198 199]\n",
      "[640 640 640 ...,  77  77  77]\n",
      "[1095 1096 1097 ...,  968  969  970]\n",
      "[677 677 677 ..., 159 159 159]\n"
     ]
    },
    {
     "name": "stderr",
     "output_type": "stream",
     "text": [
      "\r",
      "  5%|▍         | 62/1261 [00:24<06:54,  2.89it/s]"
     ]
    },
    {
     "name": "stdout",
     "output_type": "stream",
     "text": [
      "[303 304 305 ..., 216 217 218]\n",
      "[640 640 640 ...,  79  79  79]\n",
      "[1087 1088 1087 ...,  962  963  964]\n",
      "[705 705 706 ..., 159 159 159]\n"
     ]
    },
    {
     "name": "stderr",
     "output_type": "stream",
     "text": [
      "\r",
      "  5%|▍         | 63/1261 [00:24<07:00,  2.85it/s]"
     ]
    },
    {
     "name": "stdout",
     "output_type": "stream",
     "text": [
      "[300 301 302 ..., 216 217 218]\n",
      "[640 640 640 ...,  79  79  79]\n",
      "[1056 1057 1058 ...,  995  996  997]\n",
      "[560 560 560 ..., 239 239 239]\n"
     ]
    },
    {
     "name": "stderr",
     "output_type": "stream",
     "text": [
      "\r",
      "  5%|▌         | 64/1261 [00:25<06:47,  2.94it/s]"
     ]
    },
    {
     "name": "stdout",
     "output_type": "stream",
     "text": [
      "[300 301 302 ..., 222 223 224]\n",
      "[640 640 640 ...,  79  79  79]\n",
      "[1071 1072 1073 ...,  882  883  884]\n",
      "[640 640 640 ...,  20  20  20]\n"
     ]
    },
    {
     "name": "stderr",
     "output_type": "stream",
     "text": [
      "\r",
      "  5%|▌         | 65/1261 [00:25<07:00,  2.85it/s]"
     ]
    },
    {
     "name": "stdout",
     "output_type": "stream",
     "text": [
      "[295 296 297 ..., 216 217 218]\n",
      "[640 640 640 ...,  79  79  79]\n",
      "[1073 1074 1075 ...,  888  889  890]\n",
      "[640 640 640 ...,  40  40  40]\n"
     ]
    },
    {
     "name": "stderr",
     "output_type": "stream",
     "text": [
      "\r",
      "  5%|▌         | 66/1261 [00:25<06:55,  2.87it/s]"
     ]
    },
    {
     "name": "stdout",
     "output_type": "stream",
     "text": [
      "[300 301 302 ..., 222 223 224]\n",
      "[640 640 640 ...,  79  79  79]\n",
      "[1071 1072 1073 ...,  907  908  909]\n",
      "[640 640 640 ...,  59  59  59]\n"
     ]
    },
    {
     "name": "stderr",
     "output_type": "stream",
     "text": [
      "\r",
      "  5%|▌         | 67/1261 [00:26<06:57,  2.86it/s]"
     ]
    },
    {
     "name": "stdout",
     "output_type": "stream",
     "text": [
      "[295 296 297 ..., 228 229 230]\n",
      "[640 640 640 ...,  79  79  79]\n",
      "[1070 1071 1072 ...,  918  919  920]\n",
      "[640 640 640 ...,  77  77  77]\n"
     ]
    },
    {
     "name": "stderr",
     "output_type": "stream",
     "text": [
      "\r",
      "  5%|▌         | 68/1261 [00:26<06:58,  2.85it/s]"
     ]
    },
    {
     "name": "stdout",
     "output_type": "stream",
     "text": [
      "[292 293 294 ..., 228 229 230]\n",
      "[640 640 640 ...,  79  79  79]\n",
      "[1075 1076 1077 ...,  941  942  943]\n",
      "[655 655 655 ...,  79  79  79]\n"
     ]
    },
    {
     "name": "stderr",
     "output_type": "stream",
     "text": [
      "\r",
      "  5%|▌         | 69/1261 [00:27<06:57,  2.85it/s]"
     ]
    },
    {
     "name": "stdout",
     "output_type": "stream",
     "text": [
      "[292 293 294 ..., 234 235 236]\n",
      "[640 640 640 ...,  79  79  79]\n",
      "[1088 1089 1090 ...,  941  942  943]\n",
      "[684 684 684 ...,  79  79  79]\n"
     ]
    },
    {
     "name": "stderr",
     "output_type": "stream",
     "text": [
      "\r",
      "  6%|▌         | 70/1261 [00:27<07:17,  2.72it/s]"
     ]
    },
    {
     "name": "stdout",
     "output_type": "stream",
     "text": [
      "[295 296 297 ..., 228 229 230]\n",
      "[640 640 640 ...,  79  79  79]\n",
      "[1081 1082 1079 ...,  959  960  961]\n",
      "[710 710 711 ...,  79  79  79]\n"
     ]
    },
    {
     "name": "stderr",
     "output_type": "stream",
     "text": [
      "\r",
      "  6%|▌         | 71/1261 [00:27<07:47,  2.54it/s]"
     ]
    },
    {
     "name": "stdout",
     "output_type": "stream",
     "text": [
      "[292 293 294 ..., 228 229 230]\n",
      "[640 640 640 ...,  79  79  79]\n",
      "[1074 1075 1076 ...,  953  954  955]\n",
      "[605 605 605 ...,  79  79  79]\n"
     ]
    },
    {
     "name": "stderr",
     "output_type": "stream",
     "text": [
      "\r",
      "  6%|▌         | 72/1261 [00:28<07:58,  2.48it/s]"
     ]
    },
    {
     "name": "stdout",
     "output_type": "stream",
     "text": [
      "[287 288 289 ..., 228 229 230]\n",
      "[640 640 640 ...,  79  79  79]\n",
      "[1079 1080 1081 ...,  959  960  961]\n",
      "[633 633 633 ...,  79  79  79]\n"
     ]
    },
    {
     "name": "stderr",
     "output_type": "stream",
     "text": [
      "\r",
      "  6%|▌         | 73/1261 [00:28<08:01,  2.47it/s]"
     ]
    },
    {
     "name": "stdout",
     "output_type": "stream",
     "text": [
      "[287 288 289 ..., 228 229 230]\n",
      "[640 640 640 ...,  79  79  79]\n",
      "[1085 1086 1087 ...,  989  990  991]\n",
      "[661 661 661 ..., 159 159 159]\n"
     ]
    },
    {
     "name": "stderr",
     "output_type": "stream",
     "text": [
      "\r",
      "  6%|▌         | 74/1261 [00:29<08:25,  2.35it/s]"
     ]
    },
    {
     "name": "stdout",
     "output_type": "stream",
     "text": [
      "[288 289 290 ..., 228 229 230]\n",
      "[640 640 640 ...,  79  79  79]\n",
      "[1076 1077 1078 ...,  983  984  985]\n",
      "[691 691 691 ..., 159 159 159]\n"
     ]
    },
    {
     "name": "stderr",
     "output_type": "stream",
     "text": [
      "\r",
      "  6%|▌         | 75/1261 [00:29<08:25,  2.35it/s]"
     ]
    },
    {
     "name": "stdout",
     "output_type": "stream",
     "text": [
      "[285 286 287 ..., 216 217 218]\n",
      "[640 640 640 ...,  79  79  79]\n",
      "[1078 1079 1080 ...,  999 1000 1001]\n",
      "[719 719 719 ..., 159 159 159]\n"
     ]
    },
    {
     "name": "stderr",
     "output_type": "stream",
     "text": [
      "\r",
      "  6%|▌         | 76/1261 [00:29<07:52,  2.51it/s]"
     ]
    },
    {
     "name": "stdout",
     "output_type": "stream",
     "text": [
      "[287 288 289 ..., 228 229 230]\n",
      "[640 640 640 ...,  79  79  79]\n",
      "[1047 1048 1049 ..., 1009 1010 1011]\n",
      "[560 560 560 ..., 239 239 239]\n"
     ]
    },
    {
     "name": "stderr",
     "output_type": "stream",
     "text": [
      "\r",
      "  6%|▌         | 77/1261 [00:30<07:39,  2.58it/s]"
     ]
    },
    {
     "name": "stdout",
     "output_type": "stream",
     "text": [
      "[287 288 289 ..., 222 223 224]\n",
      "[640 640 640 ...,  79  79  79]\n",
      "[1065 1066 1067 ..., 1027 1028 1029]\n",
      "[640 640 640 ..., 239 239 239]\n"
     ]
    },
    {
     "name": "stderr",
     "output_type": "stream",
     "text": [
      "\r",
      "  6%|▌         | 78/1261 [00:30<07:26,  2.65it/s]"
     ]
    },
    {
     "name": "stdout",
     "output_type": "stream",
     "text": [
      "[287 288 289 ..., 210 211 212]\n",
      "[640 640 640 ...,  79  79  79]\n",
      "[1066 1067 1068 ..., 1027 1028 1029]\n",
      "[640 640 640 ..., 239 239 239]\n"
     ]
    },
    {
     "name": "stderr",
     "output_type": "stream",
     "text": [
      "\r",
      "  6%|▋         | 79/1261 [00:31<07:31,  2.62it/s]"
     ]
    },
    {
     "name": "stdout",
     "output_type": "stream",
     "text": [
      "[284 285 286 ..., 198 199 200]\n",
      "[640 640 640 ...,  79  79  79]\n",
      "[1066 1067 1068 ...,  933  934  935]\n",
      "[640 640 640 ...,  20  20  20]\n"
     ]
    },
    {
     "name": "stderr",
     "output_type": "stream",
     "text": [
      "\r",
      "  6%|▋         | 80/1261 [00:31<07:17,  2.70it/s]"
     ]
    },
    {
     "name": "stdout",
     "output_type": "stream",
     "text": [
      "[282 283 284 ..., 204 205 206]\n",
      "[640 640 640 ...,  79  79  79]\n",
      "[1066 1067 1068 ...,  944  945  946]\n",
      "[640 640 640 ...,  40  40  40]\n"
     ]
    },
    {
     "name": "stderr",
     "output_type": "stream",
     "text": [
      "\r",
      "  6%|▋         | 81/1261 [00:31<07:21,  2.67it/s]"
     ]
    },
    {
     "name": "stdout",
     "output_type": "stream",
     "text": [
      "[279 280 281 ..., 192 193 194]\n",
      "[640 640 640 ...,  79  79  79]\n",
      "[1072 1073 1074 ...,  948  949  950]\n",
      "[660 660 660 ...,  77  77  77]\n"
     ]
    },
    {
     "name": "stderr",
     "output_type": "stream",
     "text": [
      "\r",
      "  7%|▋         | 82/1261 [00:32<07:45,  2.53it/s]"
     ]
    },
    {
     "name": "stdout",
     "output_type": "stream",
     "text": [
      "[272 273 274 ..., 222 223 224]\n",
      "[640 640 640 ...,  79  79  79]\n",
      "[1084 1085 1086 ...,  965  966  967]\n",
      "[689 689 689 ...,  79  79  79]\n"
     ]
    },
    {
     "name": "stderr",
     "output_type": "stream",
     "text": [
      "\r",
      "  7%|▋         | 83/1261 [00:32<07:33,  2.60it/s]"
     ]
    },
    {
     "name": "stdout",
     "output_type": "stream",
     "text": [
      "[274 275 276 ..., 186 187 188]\n",
      "[640 640 640 ...,  79  79  79]\n",
      "[1075 1076 1077 ...,  988  989  990]\n",
      "[719 719 719 ...,  79  79  79]\n"
     ]
    },
    {
     "name": "stderr",
     "output_type": "stream",
     "text": [
      "\r",
      "  7%|▋         | 84/1261 [00:32<07:14,  2.71it/s]"
     ]
    },
    {
     "name": "stdout",
     "output_type": "stream",
     "text": [
      "[266 267 268 ..., 163 164 165]\n",
      "[640 640 640 ...,  79  79  79]\n",
      "[1081 1082 1083 ..., 1006 1007 1008]\n",
      "[610 610 610 ...,  79  79  79]\n"
     ]
    },
    {
     "name": "stderr",
     "output_type": "stream",
     "text": [
      "\r",
      "  7%|▋         | 85/1261 [00:33<07:15,  2.70it/s]"
     ]
    },
    {
     "name": "stdout",
     "output_type": "stream",
     "text": [
      "[263 264 265 ..., 216 217 218]\n",
      "[640 640 640 ...,  79  79  79]\n",
      "[1073 1074 1075 ..., 1006 1007 1008]\n",
      "[640 640 640 ...,  79  79  79]\n"
     ]
    },
    {
     "name": "stderr",
     "output_type": "stream",
     "text": [
      "\r",
      "  7%|▋         | 86/1261 [00:33<07:43,  2.54it/s]"
     ]
    },
    {
     "name": "stdout",
     "output_type": "stream",
     "text": [
      "[263 264 265 ..., 216 217 218]\n",
      "[640 640 640 ...,  79  79  79]\n",
      "[1077 1078 1079 ..., 1006 1007 1008]\n",
      "[670 670 670 ...,  79  79  79]\n"
     ]
    },
    {
     "name": "stderr",
     "output_type": "stream",
     "text": [
      "\r",
      "  7%|▋         | 87/1261 [00:34<07:36,  2.57it/s]"
     ]
    },
    {
     "name": "stdout",
     "output_type": "stream",
     "text": [
      "[264 265 266 ..., 222 223 224]\n",
      "[640 640 640 ...,  79  79  79]\n",
      "[1075 1076 1077 ..., 1010 1011 1012]\n",
      "[699 699 699 ..., 159 159 159]\n"
     ]
    },
    {
     "name": "stderr",
     "output_type": "stream",
     "text": [
      "\r",
      "  7%|▋         | 88/1261 [00:34<07:18,  2.67it/s]"
     ]
    },
    {
     "name": "stdout",
     "output_type": "stream",
     "text": [
      "[268 269 270 ..., 234 235 236]\n",
      "[640 640 640 ...,  79  79  79]\n",
      "[1051 1052 1053 ...,  994  995  996]\n",
      "[560 560 560 ..., 159 159 159]\n"
     ]
    },
    {
     "name": "stderr",
     "output_type": "stream",
     "text": [
      "\r",
      "  7%|▋         | 89/1261 [00:34<07:04,  2.76it/s]"
     ]
    },
    {
     "name": "stdout",
     "output_type": "stream",
     "text": [
      "[269 270 271 ..., 222 223 224]\n",
      "[640 640 640 ...,  79  79  79]\n",
      "[1049 1050 1051 ..., 1009 1010 1011]\n",
      "[560 560 560 ..., 239 239 239]\n"
     ]
    },
    {
     "name": "stderr",
     "output_type": "stream",
     "text": [
      "\r",
      "  7%|▋         | 90/1261 [00:35<06:52,  2.84it/s]"
     ]
    },
    {
     "name": "stdout",
     "output_type": "stream",
     "text": [
      "[274 275 276 ..., 234 235 236]\n",
      "[640 640 640 ...,  79  79  79]\n",
      "[1058 1059 1060 ...,  901  902  903]\n",
      "[640 640 640 ...,  40  40  40]\n"
     ]
    },
    {
     "name": "stderr",
     "output_type": "stream",
     "text": [
      "\r",
      "  7%|▋         | 91/1261 [00:35<06:45,  2.89it/s]"
     ]
    },
    {
     "name": "stdout",
     "output_type": "stream",
     "text": [
      "[279 280 281 ..., 239 240 241]\n",
      "[640 640 640 ...,  79  79  79]\n",
      "[1060 1061 1062 ...,  913  914  915]\n",
      "[640 640 640 ...,  59  59  59]\n"
     ]
    },
    {
     "name": "stderr",
     "output_type": "stream",
     "text": [
      "\r",
      "  7%|▋         | 92/1261 [00:35<06:46,  2.88it/s]"
     ]
    },
    {
     "name": "stdout",
     "output_type": "stream",
     "text": [
      "[279 280 281 ..., 245 246 247]\n",
      "[640 640 640 ...,  79  79  79]\n",
      "[1062 1063 1064 ...,  924  925  926]\n",
      "[640 640 640 ...,  77  77  77]\n"
     ]
    },
    {
     "name": "stderr",
     "output_type": "stream",
     "text": [
      "\r",
      "  7%|▋         | 93/1261 [00:36<06:42,  2.90it/s]"
     ]
    },
    {
     "name": "stdout",
     "output_type": "stream",
     "text": [
      "[276 277 278 ..., 239 240 241]\n",
      "[640 640 640 ...,  79  79  79]\n",
      "[1065 1066 1067 ...,  947  948  949]\n",
      "[643 643 643 ...,  79  79  79]\n"
     ]
    },
    {
     "name": "stderr",
     "output_type": "stream",
     "text": [
      "\r",
      "  7%|▋         | 94/1261 [00:36<06:41,  2.90it/s]"
     ]
    },
    {
     "name": "stdout",
     "output_type": "stream",
     "text": [
      "[282 283 284 ..., 245 246 247]\n",
      "[640 640 640 ...,  79  79  79]\n",
      "[1069 1070 1071 ...,  941  942  943]\n",
      "[671 671 671 ...,  79  79  79]\n"
     ]
    },
    {
     "name": "stderr",
     "output_type": "stream",
     "text": [
      "\r",
      "  8%|▊         | 95/1261 [00:36<06:34,  2.95it/s]"
     ]
    },
    {
     "name": "stdout",
     "output_type": "stream",
     "text": [
      "[277 278 279 ..., 234 235 236]\n",
      "[640 640 640 ...,  79  79  79]\n",
      "[1078 1079 1080 ...,  965  966  967]\n",
      "[700 700 700 ...,  79  79  79]\n"
     ]
    },
    {
     "name": "stderr",
     "output_type": "stream",
     "text": [
      "\r",
      "  8%|▊         | 96/1261 [00:37<06:36,  2.94it/s]"
     ]
    },
    {
     "name": "stdout",
     "output_type": "stream",
     "text": [
      "[277 278 279 ..., 234 235 236]\n",
      "[640 640 640 ...,  79  79  79]\n",
      "[1068 1069 1070 ...,  965  966  967]\n",
      "[597 597 597 ...,  79  79  79]\n"
     ]
    },
    {
     "name": "stderr",
     "output_type": "stream",
     "text": [
      "\r",
      "  8%|▊         | 97/1261 [00:37<06:33,  2.96it/s]"
     ]
    },
    {
     "name": "stdout",
     "output_type": "stream",
     "text": [
      "[285 286 287 ..., 234 235 236]\n",
      "[640 640 640 ...,  79  79  79]\n",
      "[1071 1072 1073 ...,  965  966  967]\n",
      "[626 626 626 ...,  79  79  79]\n"
     ]
    },
    {
     "name": "stderr",
     "output_type": "stream",
     "text": [
      "\r",
      "  8%|▊         | 98/1261 [00:37<06:33,  2.96it/s]"
     ]
    },
    {
     "name": "stdout",
     "output_type": "stream",
     "text": [
      "[279 280 281 ..., 234 235 236]\n",
      "[640 640 640 ...,  79  79  79]\n",
      "[1072 1073 1074 ...,  976  977  978]\n",
      "[655 655 655 ...,  79  79  79]\n"
     ]
    },
    {
     "name": "stderr",
     "output_type": "stream",
     "text": [
      "\r",
      "  8%|▊         | 99/1261 [00:38<06:31,  2.97it/s]"
     ]
    },
    {
     "name": "stdout",
     "output_type": "stream",
     "text": [
      "[280 281 282 ..., 239 240 241]\n",
      "[640 640 640 ...,  79  79  79]\n",
      "[1064 1065 1079 ...,  994  995  996]\n",
      "[684 684 684 ..., 159 159 159]\n"
     ]
    },
    {
     "name": "stderr",
     "output_type": "stream",
     "text": [
      "\r",
      "  8%|▊         | 100/1261 [00:38<06:35,  2.93it/s]"
     ]
    },
    {
     "name": "stdout",
     "output_type": "stream",
     "text": [
      "[282 283 284 ..., 234 235 236]\n",
      "[640 640 640 ...,  79  79  79]\n",
      "[1066 1067 1068 ...,  999 1000 1001]\n",
      "[711 711 711 ..., 159 159 159]\n"
     ]
    },
    {
     "name": "stderr",
     "output_type": "stream",
     "text": [
      "\r",
      "  8%|▊         | 101/1261 [00:38<07:01,  2.75it/s]"
     ]
    },
    {
     "name": "stdout",
     "output_type": "stream",
     "text": [
      "[285 286 287 ..., 239 240 241]\n",
      "[640 640 640 ...,  79  79  79]\n",
      "[1047 1048 1049 ...,  999 1000 1001]\n",
      "[560 560 560 ..., 159 159 159]\n"
     ]
    },
    {
     "name": "stderr",
     "output_type": "stream",
     "text": [
      "\r",
      "  8%|▊         | 102/1261 [00:39<06:52,  2.81it/s]"
     ]
    },
    {
     "name": "stdout",
     "output_type": "stream",
     "text": [
      "[285 286 287 ..., 234 235 236]\n",
      "[640 640 640 ...,  79  79  79]\n",
      "[1054 1055 1056 ..., 1013 1014 1015]\n",
      "[640 640 640 ..., 239 239 239]\n"
     ]
    },
    {
     "name": "stderr",
     "output_type": "stream",
     "text": [
      "\r",
      "  8%|▊         | 103/1261 [00:39<07:31,  2.56it/s]"
     ]
    },
    {
     "name": "stdout",
     "output_type": "stream",
     "text": [
      "[285 286 287 ..., 239 240 241]\n",
      "[640 640 640 ...,  79  79  79]\n",
      "[1057 1058 1059 ...,  914  915  916]\n",
      "[640 640 640 ...,  20  20  20]\n"
     ]
    },
    {
     "name": "stderr",
     "output_type": "stream",
     "text": [
      "\r",
      "  8%|▊         | 104/1261 [00:40<07:54,  2.44it/s]"
     ]
    },
    {
     "name": "stdout",
     "output_type": "stream",
     "text": [
      "[292 293 294 ..., 239 240 241]\n",
      "[640 640 640 ...,  79  79  79]\n",
      "[1058 1059 1060 ...,  932  933  934]\n",
      "[640 640 640 ...,  40  40  40]\n"
     ]
    },
    {
     "name": "stderr",
     "output_type": "stream",
     "text": [
      "\r",
      "  8%|▊         | 105/1261 [00:40<07:36,  2.53it/s]"
     ]
    },
    {
     "name": "stdout",
     "output_type": "stream",
     "text": [
      "[285 286 287 ..., 239 240 241]\n",
      "[640 640 640 ...,  79  79  79]\n",
      "[1063 1064 1065 ...,  950  951  952]\n",
      "[640 640 640 ...,  40  40  40]\n"
     ]
    },
    {
     "name": "stderr",
     "output_type": "stream",
     "text": [
      "\r",
      "  8%|▊         | 106/1261 [00:40<07:18,  2.64it/s]"
     ]
    },
    {
     "name": "stdout",
     "output_type": "stream",
     "text": [
      "[285 286 287 ..., 239 240 241]\n",
      "[640 640 640 ...,  79  79  79]\n",
      "[1085 1086 1087 ...,  961  962  963]\n",
      "[655 655 655 ...,  59  59  59]\n"
     ]
    },
    {
     "name": "stderr",
     "output_type": "stream",
     "text": [
      "\r",
      "  8%|▊         | 107/1261 [00:41<07:03,  2.73it/s]"
     ]
    },
    {
     "name": "stdout",
     "output_type": "stream",
     "text": [
      "[284 285 286 ..., 234 235 236]\n",
      "[640 640 640 ...,  79  79  79]\n",
      "[1076 1077 1078 ...,  977  978  979]\n",
      "[684 684 684 ...,  77  77  77]\n"
     ]
    },
    {
     "name": "stderr",
     "output_type": "stream",
     "text": [
      "\r",
      "  9%|▊         | 108/1261 [00:41<06:57,  2.76it/s]"
     ]
    },
    {
     "name": "stdout",
     "output_type": "stream",
     "text": [
      "[287 288 289 ..., 222 223 224]\n",
      "[640 640 640 ...,  79  79  79]\n",
      "[1079 1080 1076 ..., 1000 1001 1002]\n",
      "[712 712 713 ...,  79  79  79]\n"
     ]
    },
    {
     "name": "stderr",
     "output_type": "stream",
     "text": [
      "\r",
      "  9%|▊         | 109/1261 [00:41<06:52,  2.80it/s]"
     ]
    },
    {
     "name": "stdout",
     "output_type": "stream",
     "text": [
      "[290 291 292 ..., 210 211 212]\n",
      "[640 640 640 ...,  79  79  79]\n",
      "[1083 1084 1085 ..., 1006 1007 1008]\n",
      "[603 603 603 ...,  79  79  79]\n"
     ]
    },
    {
     "name": "stderr",
     "output_type": "stream",
     "text": [
      "\r",
      "  9%|▊         | 110/1261 [00:42<06:51,  2.80it/s]"
     ]
    },
    {
     "name": "stdout",
     "output_type": "stream",
     "text": [
      "[288 289 290 ..., 245 246 247]\n",
      "[640 640 640 ...,  79  79  79]\n",
      "[1088 1089 1090 ..., 1006 1007 1008]\n",
      "[632 632 632 ...,  79  79  79]\n"
     ]
    },
    {
     "name": "stderr",
     "output_type": "stream",
     "text": [
      "\r",
      "  9%|▉         | 111/1261 [00:42<06:48,  2.81it/s]"
     ]
    },
    {
     "name": "stdout",
     "output_type": "stream",
     "text": [
      "[290 291 292 ..., 245 246 247]\n",
      "[640 640 640 ...,  79  79  79]\n",
      "[1079 1080 1081 ..., 1006 1007 1008]\n",
      "[661 661 661 ...,  79  79  79]\n"
     ]
    },
    {
     "name": "stderr",
     "output_type": "stream",
     "text": [
      "\r",
      "  9%|▉         | 112/1261 [00:42<06:36,  2.90it/s]"
     ]
    },
    {
     "name": "stdout",
     "output_type": "stream",
     "text": [
      "[287 288 289 ..., 239 240 241]\n",
      "[640 640 640 ...,  79  79  79]\n",
      "[1083 1084 1096 ..., 1018 1019 1020]\n",
      "[690 690 690 ...,  79  79  79]\n"
     ]
    },
    {
     "name": "stderr",
     "output_type": "stream",
     "text": [
      "\r",
      "  9%|▉         | 113/1261 [00:43<06:38,  2.88it/s]"
     ]
    },
    {
     "name": "stdout",
     "output_type": "stream",
     "text": [
      "[292 293 294 ..., 234 235 236]\n",
      "[640 640 640 ...,  79  79  79]\n",
      "[1085 1086 1084 ..., 1031 1032 1033]\n",
      "[718 718 719 ..., 159 159 159]\n"
     ]
    },
    {
     "name": "stderr",
     "output_type": "stream",
     "text": [
      "\r",
      "  9%|▉         | 114/1261 [00:43<06:30,  2.93it/s]"
     ]
    },
    {
     "name": "stdout",
     "output_type": "stream",
     "text": [
      "[298 299 300 ..., 234 235 236]\n",
      "[640 640 640 ...,  79  79  79]\n",
      "[1067 1068 1069 ..., 1031 1032 1033]\n",
      "[560 560 560 ..., 159 159 159]\n"
     ]
    },
    {
     "name": "stderr",
     "output_type": "stream",
     "text": [
      "\r",
      "  9%|▉         | 115/1261 [00:43<06:32,  2.92it/s]"
     ]
    },
    {
     "name": "stdout",
     "output_type": "stream",
     "text": [
      "[295 296 297 ..., 234 235 236]\n",
      "[640 640 640 ...,  79  79  79]\n",
      "[1078 1079 1080 ..., 1037 1038 1039]\n",
      "[640 640 640 ..., 239 239 239]\n"
     ]
    },
    {
     "name": "stderr",
     "output_type": "stream",
     "text": [
      "\r",
      "  9%|▉         | 116/1261 [00:44<06:26,  2.97it/s]"
     ]
    },
    {
     "name": "stdout",
     "output_type": "stream",
     "text": [
      "[296 297 298 ..., 245 246 247]\n",
      "[640 640 640 ...,  79  79  79]\n",
      "[1074 1075 1076 ...,  933  934  935]\n",
      "[640 640 640 ...,  20  20  20]\n"
     ]
    },
    {
     "name": "stderr",
     "output_type": "stream",
     "text": [
      "\r",
      "  9%|▉         | 117/1261 [00:44<06:26,  2.96it/s]"
     ]
    },
    {
     "name": "stdout",
     "output_type": "stream",
     "text": [
      "[296 297 298 ..., 251 252 253]\n",
      "[640 640 640 ...,  79  79  79]\n",
      "[1076 1077 1078 ...,  944  945  946]\n",
      "[640 640 640 ...,  40  40  40]\n"
     ]
    },
    {
     "name": "stderr",
     "output_type": "stream",
     "text": [
      "\r",
      "  9%|▉         | 118/1261 [00:44<06:26,  2.96it/s]"
     ]
    },
    {
     "name": "stdout",
     "output_type": "stream",
     "text": [
      "[300 301 302 ..., 245 246 247]\n",
      "[640 640 640 ...,  79  79  79]\n",
      "[1076 1077 1078 ...,  948  949  950]\n",
      "[640 640 640 ...,  77  77  77]\n"
     ]
    },
    {
     "name": "stderr",
     "output_type": "stream",
     "text": [
      "\r",
      "  9%|▉         | 119/1261 [00:45<06:24,  2.97it/s]"
     ]
    },
    {
     "name": "stdout",
     "output_type": "stream",
     "text": [
      "[300 301 302 ..., 222 223 224]\n",
      "[640 640 640 ...,  79  79  79]\n",
      "[1083 1084 1085 ...,  965  966  967]\n",
      "[664 664 664 ...,  79  79  79]\n"
     ]
    },
    {
     "name": "stderr",
     "output_type": "stream",
     "text": [
      "\r",
      " 10%|▉         | 120/1261 [00:45<06:18,  3.01it/s]"
     ]
    },
    {
     "name": "stdout",
     "output_type": "stream",
     "text": [
      "[301 302 303 ..., 210 211 212]\n",
      "[640 640 640 ...,  79  79  79]\n",
      "[1091 1092 1093 ...,  971  972  973]\n",
      "[693 693 693 ...,  79  79  79]\n"
     ]
    },
    {
     "name": "stderr",
     "output_type": "stream",
     "text": [
      "\r",
      " 10%|▉         | 121/1261 [00:45<06:23,  2.97it/s]"
     ]
    },
    {
     "name": "stdout",
     "output_type": "stream",
     "text": [
      "[303 304 305 ..., 245 246 247]\n",
      "[640 640 640 ...,  79  79  79]\n",
      "[1084 1085 1086 ...,  982  983  984]\n",
      "[588 588 588 ...,  79  79  79]\n"
     ]
    },
    {
     "name": "stderr",
     "output_type": "stream",
     "text": [
      "\r",
      " 10%|▉         | 122/1261 [00:46<06:36,  2.87it/s]"
     ]
    },
    {
     "name": "stdout",
     "output_type": "stream",
     "text": [
      "[305 306 307 ..., 245 246 247]\n",
      "[640 640 640 ...,  79  79  79]\n",
      "[1088 1089 1090 ...,  959  960  961]\n",
      "[617 617 617 ...,  79  79  79]\n"
     ]
    },
    {
     "name": "stderr",
     "output_type": "stream",
     "text": [
      "\r",
      " 10%|▉         | 123/1261 [00:46<06:45,  2.80it/s]"
     ]
    },
    {
     "name": "stdout",
     "output_type": "stream",
     "text": [
      "[306 307 308 ..., 245 246 247]\n",
      "[640 640 640 ...,  79  79  79]\n",
      "[1093 1094 1095 ...,  994  995  996]\n",
      "[646 646 646 ..., 159 159 159]\n"
     ]
    },
    {
     "name": "stderr",
     "output_type": "stream",
     "text": [
      "\r",
      " 10%|▉         | 124/1261 [00:47<06:48,  2.78it/s]"
     ]
    },
    {
     "name": "stdout",
     "output_type": "stream",
     "text": [
      "[308 309 310 ..., 210 211 212]\n",
      "[640 640 640 ...,  79  79  79]\n",
      "[1099 1100 1101 ...,  994  995  996]\n",
      "[675 675 675 ..., 159 159 159]\n"
     ]
    },
    {
     "name": "stderr",
     "output_type": "stream",
     "text": [
      "\r",
      " 10%|▉         | 125/1261 [00:47<07:11,  2.63it/s]"
     ]
    },
    {
     "name": "stdout",
     "output_type": "stream",
     "text": [
      "[313 314 315 ..., 210 211 212]\n",
      "[640 640 640 ...,  79  79  79]\n",
      "[1096 1097 1098 ...,  989  990  991]\n",
      "[705 705 705 ..., 159 159 159]\n"
     ]
    },
    {
     "name": "stderr",
     "output_type": "stream",
     "text": [
      "\r",
      " 10%|▉         | 126/1261 [00:48<07:53,  2.40it/s]"
     ]
    },
    {
     "name": "stdout",
     "output_type": "stream",
     "text": [
      "[308 309 310 ..., 228 229 230]\n",
      "[640 640 640 ...,  79  79  79]\n",
      "[1069 1070 1071 ..., 1027 1028 1029]\n",
      "[560 560 560 ..., 239 239 239]\n"
     ]
    },
    {
     "name": "stderr",
     "output_type": "stream",
     "text": [
      "\r",
      " 10%|█         | 127/1261 [00:48<08:24,  2.25it/s]"
     ]
    },
    {
     "name": "stdout",
     "output_type": "stream",
     "text": [
      "[309 310 311 ..., 222 223 224]\n",
      "[640 640 640 ...,  79  79  79]\n",
      "[1071 1072 1073 ..., 1023 1024 1025]\n",
      "[560 560 560 ..., 239 239 239]\n"
     ]
    },
    {
     "name": "stderr",
     "output_type": "stream",
     "text": [
      "\r",
      " 10%|█         | 128/1261 [00:48<08:10,  2.31it/s]"
     ]
    },
    {
     "name": "stdout",
     "output_type": "stream",
     "text": [
      "[309 310 311 ..., 222 223 224]\n",
      "[640 640 640 ...,  79  79  79]\n",
      "[1084 1085 1086 ...,  914  915  916]\n",
      "[640 640 640 ...,  20  20  20]\n"
     ]
    },
    {
     "name": "stderr",
     "output_type": "stream",
     "text": [
      "\r",
      " 10%|█         | 129/1261 [00:49<08:00,  2.35it/s]"
     ]
    },
    {
     "name": "stdout",
     "output_type": "stream",
     "text": [
      "[313 314 315 ..., 245 246 247]\n",
      "[640 640 640 ...,  79  79  79]\n",
      "[1083 1084 1085 ...,  919  920  921]\n",
      "[640 640 640 ...,  59  59  59]\n"
     ]
    },
    {
     "name": "stderr",
     "output_type": "stream",
     "text": [
      "\r",
      " 10%|█         | 130/1261 [00:49<08:01,  2.35it/s]"
     ]
    },
    {
     "name": "stdout",
     "output_type": "stream",
     "text": [
      "[316 317 318 ..., 239 240 241]\n",
      "[640 640 640 ...,  79  79  79]\n",
      "[1084 1085 1086 ...,  930  931  932]\n",
      "[640 640 640 ...,  77  77  77]\n"
     ]
    },
    {
     "name": "stderr",
     "output_type": "stream",
     "text": [
      "\r",
      " 10%|█         | 131/1261 [00:50<07:34,  2.48it/s]"
     ]
    },
    {
     "name": "stdout",
     "output_type": "stream",
     "text": [
      "[311 312 313 ..., 228 229 230]\n",
      "[640 640 640 ...,  79  79  79]\n",
      "[1091 1092 1093 ...,  947  948  949]\n",
      "[644 644 644 ...,  79  79  79]\n"
     ]
    },
    {
     "name": "stderr",
     "output_type": "stream",
     "text": [
      "\r",
      " 10%|█         | 132/1261 [00:50<07:46,  2.42it/s]"
     ]
    },
    {
     "name": "stdout",
     "output_type": "stream",
     "text": [
      "[322 323 324 ..., 222 223 224]\n",
      "[640 640 640 ...,  79  79  79]\n",
      "[1093 1094 1095 ...,  953  954  955]\n",
      "[673 673 673 ...,  79  79  79]\n"
     ]
    },
    {
     "name": "stderr",
     "output_type": "stream",
     "text": [
      "\r",
      " 11%|█         | 133/1261 [00:51<08:02,  2.34it/s]"
     ]
    },
    {
     "name": "stdout",
     "output_type": "stream",
     "text": [
      "[317 318 319 ..., 222 223 224]\n",
      "[640 640 640 ...,  79  79  79]\n",
      "[1098 1099 1100 ...,  965  966  967]\n",
      "[701 701 701 ...,  79  79  79]\n"
     ]
    },
    {
     "name": "stderr",
     "output_type": "stream",
     "text": [
      "\r",
      " 11%|█         | 134/1261 [00:51<08:15,  2.27it/s]"
     ]
    },
    {
     "name": "stdout",
     "output_type": "stream",
     "text": [
      "[319 320 321 ..., 234 235 236]\n",
      "[640 640 640 ...,  79  79  79]\n",
      "[1092 1093 1094 ...,  953  954  955]\n",
      "[601 601 601 ...,  79  79  79]\n"
     ]
    },
    {
     "name": "stderr",
     "output_type": "stream",
     "text": [
      "\r",
      " 11%|█         | 135/1261 [00:51<08:19,  2.25it/s]"
     ]
    },
    {
     "name": "stdout",
     "output_type": "stream",
     "text": [
      "[321 322 323 ..., 222 223 224]\n",
      "[640 640 640 ...,  79  79  79]\n",
      "[1099 1100 1101 ...,  971  972  973]\n",
      "[629 629 629 ...,  79  79  79]\n"
     ]
    },
    {
     "name": "stderr",
     "output_type": "stream",
     "text": [
      "\r",
      " 11%|█         | 136/1261 [00:52<08:14,  2.27it/s]"
     ]
    },
    {
     "name": "stdout",
     "output_type": "stream",
     "text": [
      "[317 318 319 ..., 228 229 230]\n",
      "[640 640 640 ...,  20  20  20]\n",
      "[1104 1105 1106 ..., 1005 1006 1007]\n",
      "[657 657 657 ..., 159 159 159]\n"
     ]
    },
    {
     "name": "stderr",
     "output_type": "stream",
     "text": [
      "\r",
      " 11%|█         | 137/1261 [00:52<08:12,  2.28it/s]"
     ]
    },
    {
     "name": "stdout",
     "output_type": "stream",
     "text": [
      "[317 318 319 ..., 234 235 236]\n",
      "[640 640 640 ...,  79  79  79]\n",
      "[1113 1114 1115 ..., 1010 1011 1012]\n",
      "[685 685 685 ..., 159 159 159]\n"
     ]
    },
    {
     "name": "stderr",
     "output_type": "stream",
     "text": [
      "\r",
      " 11%|█         | 138/1261 [00:53<08:07,  2.30it/s]"
     ]
    },
    {
     "name": "stdout",
     "output_type": "stream",
     "text": [
      "[316 317 318 ..., 234 235 236]\n",
      "[640 640 640 ...,  79  79  79]\n",
      "[1101 1102 1103 ..., 1026 1027 1028]\n",
      "[713 713 713 ..., 159 159 159]\n"
     ]
    },
    {
     "name": "stderr",
     "output_type": "stream",
     "text": [
      "\r",
      " 11%|█         | 139/1261 [00:53<08:14,  2.27it/s]"
     ]
    },
    {
     "name": "stdout",
     "output_type": "stream",
     "text": [
      "[317 318 319 ..., 234 235 236]\n",
      "[640 640 640 ...,  79  79  79]\n",
      "[1080 1081 1082 ..., 1026 1027 1028]\n",
      "[560 560 560 ..., 159 159 159]\n"
     ]
    },
    {
     "name": "stderr",
     "output_type": "stream",
     "text": [
      "\r",
      " 11%|█         | 140/1261 [00:54<08:18,  2.25it/s]"
     ]
    },
    {
     "name": "stdout",
     "output_type": "stream",
     "text": [
      "[311 312 313 ..., 216 217 218]\n",
      "[640 640 640 ...,  79  79  79]\n",
      "[1097 1098 1099 ..., 1055 1056 1057]\n",
      "[640 640 640 ..., 239 239 239]\n"
     ]
    },
    {
     "name": "stderr",
     "output_type": "stream",
     "text": [
      "\r",
      " 11%|█         | 141/1261 [00:54<07:59,  2.33it/s]"
     ]
    },
    {
     "name": "stdout",
     "output_type": "stream",
     "text": [
      "[311 312 313 ..., 228 229 230]\n",
      "[640 640 640 ...,  79  79  79]\n",
      "[1095 1096 1097 ..., 1051 1052 1053]\n",
      "[640 640 640 ..., 239 239 239]\n"
     ]
    },
    {
     "name": "stderr",
     "output_type": "stream",
     "text": [
      "\r",
      " 11%|█▏        | 142/1261 [00:54<07:28,  2.50it/s]"
     ]
    },
    {
     "name": "stdout",
     "output_type": "stream",
     "text": [
      "[311 312 313 ..., 239 240 241]\n",
      "[640 640 640 ...,  79  79  79]\n",
      "[1095 1096 1097 ...,  952  953  954]\n",
      "[640 640 640 ...,  20  20  20]\n"
     ]
    },
    {
     "name": "stderr",
     "output_type": "stream",
     "text": [
      "\r",
      " 11%|█▏        | 143/1261 [00:55<07:11,  2.59it/s]"
     ]
    },
    {
     "name": "stdout",
     "output_type": "stream",
     "text": [
      "[311 312 313 ..., 257 258 259]\n",
      "[640 640 640 ...,  79  79  79]\n",
      "[1092 1093 1094 ...,  960  961  962]\n",
      "[640 640 640 ...,  77  77  77]\n"
     ]
    },
    {
     "name": "stderr",
     "output_type": "stream",
     "text": [
      "\r",
      " 11%|█▏        | 144/1261 [00:55<06:53,  2.70it/s]"
     ]
    },
    {
     "name": "stdout",
     "output_type": "stream",
     "text": [
      "[309 310 311 ..., 257 258 259]\n",
      "[640 640 640 ...,  79  79  79]\n",
      "[1098 1099 1100 ...,  971  972  973]\n",
      "[662 662 662 ...,  79  79  79]\n"
     ]
    },
    {
     "name": "stderr",
     "output_type": "stream",
     "text": [
      "\r",
      " 11%|█▏        | 145/1261 [00:55<06:46,  2.75it/s]"
     ]
    },
    {
     "name": "stdout",
     "output_type": "stream",
     "text": [
      "[308 309 310 ..., 239 240 241]\n",
      "[640 640 640 ...,  79  79  79]\n",
      "[1114 1115 1116 ..., 1000 1001 1002]\n",
      "[690 690 690 ...,  79  79  79]\n"
     ]
    },
    {
     "name": "stderr",
     "output_type": "stream",
     "text": [
      "\r",
      " 12%|█▏        | 146/1261 [00:56<06:45,  2.75it/s]"
     ]
    },
    {
     "name": "stdout",
     "output_type": "stream",
     "text": [
      "[309 310 311 ..., 245 246 247]\n",
      "[640 640 640 ...,  79  79  79]\n",
      "[1103 1104 1097 ...,  994  995  996]\n",
      "[719 719 586 ...,  79  79  79]\n"
     ]
    },
    {
     "name": "stderr",
     "output_type": "stream",
     "text": [
      "\r",
      " 12%|█▏        | 147/1261 [00:56<06:35,  2.82it/s]"
     ]
    },
    {
     "name": "stdout",
     "output_type": "stream",
     "text": [
      "[309 310 311 ..., 245 246 247]\n",
      "[640 640 640 ...,  79  79  79]\n",
      "[1105 1106 1107 ..., 1000 1001 1002]\n",
      "[613 613 613 ...,  79  79  79]\n"
     ]
    },
    {
     "name": "stderr",
     "output_type": "stream",
     "text": [
      "\r",
      " 12%|█▏        | 148/1261 [00:57<06:55,  2.68it/s]"
     ]
    },
    {
     "name": "stdout",
     "output_type": "stream",
     "text": [
      "[314 315 316 ..., 251 252 253]\n",
      "[640 640 640 ...,  79  79  79]\n",
      "[1106 1107 1108 ..., 1005 1006 1007]\n",
      "[644 644 644 ..., 159 159 159]\n"
     ]
    },
    {
     "name": "stderr",
     "output_type": "stream",
     "text": [
      "\r",
      " 12%|█▏        | 149/1261 [00:57<07:38,  2.42it/s]"
     ]
    },
    {
     "name": "stdout",
     "output_type": "stream",
     "text": [
      "[314 315 316 ..., 257 258 259]\n",
      "[640 640 640 ...,  79  79  79]\n",
      "[1107 1108 1109 ..., 1005 1006 1007]\n",
      "[673 673 673 ..., 159 159 159]\n"
     ]
    },
    {
     "name": "stderr",
     "output_type": "stream",
     "text": [
      "\r",
      " 12%|█▏        | 150/1261 [00:58<08:30,  2.18it/s]"
     ]
    },
    {
     "name": "stdout",
     "output_type": "stream",
     "text": [
      "[313 314 315 ..., 251 252 253]\n",
      "[640 640 640 ...,  79  79  79]\n",
      "[1127 1128 1129 ..., 1015 1016 1017]\n",
      "[701 701 701 ..., 159 159 159]\n"
     ]
    },
    {
     "name": "stderr",
     "output_type": "stream",
     "text": [
      "\r",
      " 12%|█▏        | 151/1261 [00:58<08:56,  2.07it/s]"
     ]
    },
    {
     "name": "stdout",
     "output_type": "stream",
     "text": [
      "[316 317 318 ..., 245 246 247]\n",
      "[640 640 640 ...,  79  79  79]\n",
      "[1071 1072 1073 ..., 1037 1038 1039]\n",
      "[560 560 560 ..., 239 239 239]\n"
     ]
    },
    {
     "name": "stderr",
     "output_type": "stream",
     "text": [
      "\r",
      " 12%|█▏        | 152/1261 [00:58<08:17,  2.23it/s]"
     ]
    },
    {
     "name": "stdout",
     "output_type": "stream",
     "text": [
      "[306 307 308 ..., 245 246 247]\n",
      "[640 640 640 ...,  79  79  79]\n",
      "[1073 1074 1075 ..., 1041 1042 1043]\n",
      "[560 560 560 ..., 239 239 239]\n"
     ]
    },
    {
     "name": "stderr",
     "output_type": "stream",
     "text": [
      "\r",
      " 12%|█▏        | 153/1261 [00:59<07:50,  2.35it/s]"
     ]
    },
    {
     "name": "stdout",
     "output_type": "stream",
     "text": [
      "[313 314 315 ..., 251 252 253]\n",
      "[640 640 640 ...,  79  79  79]\n",
      "[1086 1087 1088 ...,  926  927  928]\n",
      "[640 640 640 ...,  20  20  20]\n"
     ]
    },
    {
     "name": "stderr",
     "output_type": "stream",
     "text": [
      "\r",
      " 12%|█▏        | 154/1261 [00:59<07:30,  2.46it/s]"
     ]
    },
    {
     "name": "stdout",
     "output_type": "stream",
     "text": [
      "[316 317 318 ..., 245 246 247]\n",
      "[640 640 640 ...,  79  79  79]\n",
      "[1087 1088 1089 ...,  950  951  952]\n",
      "[640 640 640 ...,  40  40  40]\n"
     ]
    },
    {
     "name": "stderr",
     "output_type": "stream",
     "text": [
      "\r",
      " 12%|█▏        | 155/1261 [01:00<07:24,  2.49it/s]"
     ]
    },
    {
     "name": "stdout",
     "output_type": "stream",
     "text": [
      "[306 307 308 ..., 245 246 247]\n",
      "[640 640 640 ...,  79  79  79]\n",
      "[1087 1088 1089 ...,  955  956  957]\n",
      "[640 640 640 ...,  59  59  59]\n"
     ]
    },
    {
     "name": "stderr",
     "output_type": "stream",
     "text": [
      "\r",
      " 12%|█▏        | 156/1261 [01:00<07:27,  2.47it/s]"
     ]
    },
    {
     "name": "stdout",
     "output_type": "stream",
     "text": [
      "[303 304 305 ..., 245 246 247]\n",
      "[640 640 640 ...,  79  79  79]\n",
      "[1091 1092 1093 ...,  971  972  973]\n",
      "[644 644 644 ...,  77  77  77]\n"
     ]
    },
    {
     "name": "stderr",
     "output_type": "stream",
     "text": [
      "\r",
      " 12%|█▏        | 157/1261 [01:00<07:02,  2.61it/s]"
     ]
    },
    {
     "name": "stdout",
     "output_type": "stream",
     "text": [
      "[303 304 305 ..., 245 246 247]\n",
      "[640 640 640 ...,  79  79  79]\n",
      "[1096 1097 1098 ...,  988  989  990]\n",
      "[672 672 672 ...,  79  79  79]\n"
     ]
    },
    {
     "name": "stderr",
     "output_type": "stream",
     "text": [
      "\r",
      " 13%|█▎        | 158/1261 [01:01<07:01,  2.62it/s]"
     ]
    },
    {
     "name": "stdout",
     "output_type": "stream",
     "text": [
      "[303 304 305 ..., 234 235 236]\n",
      "[640 640 640 ...,  79  79  79]\n",
      "[1093 1094 1095 ...,  982  983  984]\n",
      "[703 703 703 ...,  79  79  79]\n"
     ]
    },
    {
     "name": "stderr",
     "output_type": "stream",
     "text": [
      "\r",
      " 13%|█▎        | 159/1261 [01:01<06:43,  2.73it/s]"
     ]
    },
    {
     "name": "stdout",
     "output_type": "stream",
     "text": [
      "[298 299 300 ..., 222 223 224]\n",
      "[640 640 640 ...,  79  79  79]\n",
      "[1092 1093 1094 ...,  971  972  973]\n",
      "[601 601 601 ...,  79  79  79]\n"
     ]
    },
    {
     "name": "stderr",
     "output_type": "stream",
     "text": [
      "\r",
      " 13%|█▎        | 160/1261 [01:01<06:31,  2.81it/s]"
     ]
    },
    {
     "name": "stdout",
     "output_type": "stream",
     "text": [
      "[300 301 302 ..., 228 229 230]\n",
      "[640 640 640 ...,  79  79  79]\n",
      "[1089 1090 1091 ...,  982  983  984]\n",
      "[632 632 632 ...,  79  79  79]\n"
     ]
    },
    {
     "name": "stderr",
     "output_type": "stream",
     "text": [
      "\r",
      " 13%|█▎        | 161/1261 [01:02<06:27,  2.84it/s]"
     ]
    },
    {
     "name": "stdout",
     "output_type": "stream",
     "text": [
      "[296 297 298 ..., 228 229 230]\n",
      "[640 640 640 ...,  79  79  79]\n",
      "[1097 1098 1099 ..., 1010 1011 1012]\n",
      "[659 659 659 ..., 159 159 159]\n"
     ]
    },
    {
     "name": "stderr",
     "output_type": "stream",
     "text": [
      "\r",
      " 13%|█▎        | 162/1261 [01:02<06:19,  2.89it/s]"
     ]
    },
    {
     "name": "stdout",
     "output_type": "stream",
     "text": [
      "[293 294 295 ..., 228 229 230]\n",
      "[640 640 640 ...,  79  79  79]\n",
      "[1103 1104 1105 ..., 1010 1011 1012]\n",
      "[688 688 688 ..., 159 159 159]\n"
     ]
    },
    {
     "name": "stderr",
     "output_type": "stream",
     "text": [
      "\r",
      " 13%|█▎        | 163/1261 [01:02<06:25,  2.85it/s]"
     ]
    },
    {
     "name": "stdout",
     "output_type": "stream",
     "text": [
      "[292 293 294 ..., 222 223 224]\n",
      "[640 640 640 ...,  79  79  79]\n",
      "[1094 1095 1109 ..., 1020 1021 1022]\n",
      "[715 715 717 ..., 159 159 159]\n"
     ]
    },
    {
     "name": "stderr",
     "output_type": "stream",
     "text": [
      "\r",
      " 13%|█▎        | 164/1261 [01:03<06:38,  2.75it/s]"
     ]
    },
    {
     "name": "stdout",
     "output_type": "stream",
     "text": [
      "[295 296 297 ..., 222 223 224]\n",
      "[640 640 640 ...,  79  79  79]\n",
      "[1069 1070 1071 ..., 1027 1028 1029]\n",
      "[560 560 560 ..., 239 239 239]\n"
     ]
    },
    {
     "name": "stderr",
     "output_type": "stream",
     "text": [
      "\r",
      " 13%|█▎        | 165/1261 [01:03<07:13,  2.53it/s]"
     ]
    },
    {
     "name": "stdout",
     "output_type": "stream",
     "text": [
      "[295 296 297 ..., 204 205 206]\n",
      "[640 640 640 ...,  79  79  79]\n",
      "[1081 1082 1083 ...,  907  908  909]\n",
      "[640 640 640 ...,  20  20  20]\n"
     ]
    },
    {
     "name": "stderr",
     "output_type": "stream",
     "text": [
      "\r",
      " 13%|█▎        | 166/1261 [01:04<07:03,  2.59it/s]"
     ]
    },
    {
     "name": "stdout",
     "output_type": "stream",
     "text": [
      "[293 294 295 ..., 198 199 200]\n",
      "[640 640 640 ...,  79  79  79]\n",
      "[1078 1079 1080 ...,  919  920  921]\n",
      "[640 640 640 ...,  40  40  40]\n"
     ]
    },
    {
     "name": "stderr",
     "output_type": "stream",
     "text": [
      "\r",
      " 13%|█▎        | 167/1261 [01:04<06:45,  2.70it/s]"
     ]
    },
    {
     "name": "stdout",
     "output_type": "stream",
     "text": [
      "[295 296 297 ..., 234 235 236]\n",
      "[640 640 640 ...,  79  79  79]\n",
      "[1076 1077 1078 ...,  930  931  932]\n",
      "[640 640 640 ...,  77  77  77]\n"
     ]
    },
    {
     "name": "stderr",
     "output_type": "stream",
     "text": [
      "\r",
      " 13%|█▎        | 168/1261 [01:04<06:38,  2.74it/s]"
     ]
    },
    {
     "name": "stdout",
     "output_type": "stream",
     "text": [
      "[292 293 294 ..., 228 229 230]\n",
      "[640 640 640 ...,  79  79  79]\n",
      "[1078 1079 1080 ...,  948  949  950]\n",
      "[640 640 640 ...,  77  77  77]\n"
     ]
    },
    {
     "name": "stderr",
     "output_type": "stream",
     "text": [
      "\r",
      " 13%|█▎        | 169/1261 [01:05<07:06,  2.56it/s]"
     ]
    },
    {
     "name": "stdout",
     "output_type": "stream",
     "text": [
      "[292 293 294 ..., 222 223 224]\n",
      "[640 640 640 ...,  79  79  79]\n",
      "[1092 1093 1094 ...,  965  966  967]\n",
      "[664 664 664 ...,  79  79  79]\n"
     ]
    },
    {
     "name": "stderr",
     "output_type": "stream",
     "text": [
      "\r",
      " 13%|█▎        | 170/1261 [01:05<07:11,  2.53it/s]"
     ]
    },
    {
     "name": "stdout",
     "output_type": "stream",
     "text": [
      "[287 288 289 ..., 210 211 212]\n",
      "[640 640 640 ...,  79  79  79]\n",
      "[1095 1096 1097 ...,  988  989  990]\n",
      "[693 693 693 ...,  79  79  79]\n"
     ]
    },
    {
     "name": "stderr",
     "output_type": "stream",
     "text": [
      "\r",
      " 14%|█▎        | 171/1261 [01:06<07:23,  2.46it/s]"
     ]
    },
    {
     "name": "stdout",
     "output_type": "stream",
     "text": [
      "[285 286 287 ..., 204 205 206]\n",
      "[640 640 640 ...,  79  79  79]\n",
      "[1082 1083 1084 ...,  994  995  996]\n",
      "[590 590 590 ...,  79  79  79]\n"
     ]
    },
    {
     "name": "stderr",
     "output_type": "stream",
     "text": [
      "\r",
      " 14%|█▎        | 172/1261 [01:06<07:46,  2.33it/s]"
     ]
    },
    {
     "name": "stdout",
     "output_type": "stream",
     "text": [
      "[285 286 287 ..., 204 205 206]\n",
      "[640 640 640 ...,  79  79  79]\n",
      "[1084 1085 1086 ...,  988  989  990]\n",
      "[620 620 620 ...,  79  79  79]\n"
     ]
    },
    {
     "name": "stderr",
     "output_type": "stream",
     "text": [
      "\r",
      " 14%|█▎        | 173/1261 [01:06<07:21,  2.46it/s]"
     ]
    },
    {
     "name": "stdout",
     "output_type": "stream",
     "text": [
      "[285 286 287 ..., 204 205 206]\n",
      "[640 640 640 ...,  79  79  79]\n",
      "[1078 1079 1080 ...,  976  977  978]\n",
      "[648 648 648 ...,  79  79  79]\n"
     ]
    },
    {
     "name": "stderr",
     "output_type": "stream",
     "text": [
      "\r",
      " 14%|█▍        | 174/1261 [01:07<06:59,  2.59it/s]"
     ]
    },
    {
     "name": "stdout",
     "output_type": "stream",
     "text": [
      "[287 288 289 ..., 204 205 206]\n",
      "[640 640 640 ...,  79  79  79]\n",
      "[1090 1091 1092 ...,  989  990  991]\n",
      "[680 680 680 ..., 159 159 159]\n"
     ]
    },
    {
     "name": "stderr",
     "output_type": "stream",
     "text": [
      "\r",
      " 14%|█▍        | 175/1261 [01:07<06:44,  2.68it/s]"
     ]
    },
    {
     "name": "stdout",
     "output_type": "stream",
     "text": [
      "[285 286 287 ..., 204 205 206]\n",
      "[640 640 640 ...,  79  79  79]\n",
      "[1079 1080 1076 ...,  978  979  980]\n",
      "[708 708 709 ..., 159 159 159]\n"
     ]
    },
    {
     "name": "stderr",
     "output_type": "stream",
     "text": [
      "\r",
      " 14%|█▍        | 176/1261 [01:08<06:37,  2.73it/s]"
     ]
    },
    {
     "name": "stdout",
     "output_type": "stream",
     "text": [
      "[284 285 286 ..., 204 205 206]\n",
      "[640 640 640 ...,  79  79  79]\n",
      "[1053 1054 1055 ..., 1009 1010 1011]\n",
      "[560 560 560 ..., 239 239 239]\n"
     ]
    },
    {
     "name": "stderr",
     "output_type": "stream",
     "text": [
      "\r",
      " 14%|█▍        | 177/1261 [01:08<06:35,  2.74it/s]"
     ]
    },
    {
     "name": "stdout",
     "output_type": "stream",
     "text": [
      "[282 283 284 ..., 204 205 206]\n",
      "[640 640 640 ...,  79  79  79]\n",
      "[1070 1071 1072 ..., 1018 1019 1020]\n",
      "[640 640 640 ..., 239 239 239]\n"
     ]
    },
    {
     "name": "stderr",
     "output_type": "stream",
     "text": [
      "\r",
      " 14%|█▍        | 178/1261 [01:08<06:33,  2.75it/s]"
     ]
    },
    {
     "name": "stdout",
     "output_type": "stream",
     "text": [
      "[284 285 286 ..., 204 205 206]\n",
      "[640 640 640 ...,  79  79  79]\n",
      "[1073 1074 1075 ..., 1025  909  909]\n",
      "[640 640 640 ..., 239   1   2]\n"
     ]
    },
    {
     "name": "stderr",
     "output_type": "stream",
     "text": [
      "\r",
      " 14%|█▍        | 179/1261 [01:09<06:42,  2.69it/s]"
     ]
    },
    {
     "name": "stdout",
     "output_type": "stream",
     "text": [
      "[280 281 282 ..., 204 205 206]\n",
      "[640 640 640 ...,  79  79  79]\n",
      "[1076 1077 1078 ..., 1045 1046 1047]\n",
      "[640 640 640 ..., 319 319 319]\n"
     ]
    },
    {
     "name": "stderr",
     "output_type": "stream",
     "text": [
      "\r",
      " 14%|█▍        | 180/1261 [01:09<06:45,  2.66it/s]"
     ]
    },
    {
     "name": "stdout",
     "output_type": "stream",
     "text": [
      "[279 280 281 ..., 210 211 212]\n",
      "[640 640 640 ...,  79  79  79]\n",
      "[1081 1082 1083 ..., 1049 1050 1051]\n",
      "[640 640 640 ..., 319 319 319]\n"
     ]
    },
    {
     "name": "stderr",
     "output_type": "stream",
     "text": [
      "\r",
      " 14%|█▍        | 181/1261 [01:09<06:30,  2.76it/s]"
     ]
    },
    {
     "name": "stdout",
     "output_type": "stream",
     "text": [
      "[280 281 282 ..., 186 187 188]\n",
      "[640 640 640 ...,  79  79  79]\n",
      "[1088 1089 1090 ...,  941  942  943]\n",
      "[654 654 654 ...,  79  79  79]\n"
     ]
    },
    {
     "name": "stderr",
     "output_type": "stream",
     "text": [
      "\r",
      " 14%|█▍        | 182/1261 [01:10<06:24,  2.81it/s]"
     ]
    },
    {
     "name": "stdout",
     "output_type": "stream",
     "text": [
      "[277 278 279 ..., 171 172 173]\n",
      "[640 640 640 ...,  20  20  20]\n",
      "[1092 1093 1089 ...,  971  972  973]\n",
      "[683 683 684 ...,  79  79  79]\n"
     ]
    },
    {
     "name": "stderr",
     "output_type": "stream",
     "text": [
      "\r",
      " 15%|█▍        | 183/1261 [01:10<06:25,  2.80it/s]"
     ]
    },
    {
     "name": "stdout",
     "output_type": "stream",
     "text": [
      "[279 280 281 ..., 210 211 212]\n",
      "[640 640 640 ...,  79  79  79]\n",
      "[1092 1093 1094 ...,  935  936  937]\n",
      "[714 714 714 ...,  79  79  79]\n"
     ]
    },
    {
     "name": "stderr",
     "output_type": "stream",
     "text": [
      "\r",
      " 15%|█▍        | 184/1261 [01:10<06:16,  2.86it/s]"
     ]
    },
    {
     "name": "stdout",
     "output_type": "stream",
     "text": [
      "[279 280 281 ..., 204 205 206]\n",
      "[640 640 640 ...,  79  79  79]\n",
      "[1094 1095 1096 ...,  941  942  943]\n",
      "[610 610 610 ...,  79  79  79]\n"
     ]
    },
    {
     "name": "stderr",
     "output_type": "stream",
     "text": [
      "\r",
      " 15%|█▍        | 185/1261 [01:11<06:06,  2.94it/s]"
     ]
    },
    {
     "name": "stdout",
     "output_type": "stream",
     "text": [
      "[279 280 281 ..., 198 199 200]\n",
      "[640 640 640 ...,  79  79  79]\n",
      "[1093 1094 1095 ...,  962  963  964]\n",
      "[641 641 641 ..., 159 159 159]\n"
     ]
    },
    {
     "name": "stderr",
     "output_type": "stream",
     "text": [
      "\r",
      " 15%|█▍        | 186/1261 [01:11<06:10,  2.90it/s]"
     ]
    },
    {
     "name": "stdout",
     "output_type": "stream",
     "text": [
      "[284 285 286 ..., 222 223 224]\n",
      "[640 640 640 ...,  79  79  79]\n",
      "[1094 1095 1096 ...,  946  947  948]\n",
      "[672 672 672 ..., 159 159 159]\n"
     ]
    },
    {
     "name": "stderr",
     "output_type": "stream",
     "text": [
      "\r",
      " 15%|█▍        | 187/1261 [01:11<06:17,  2.84it/s]"
     ]
    },
    {
     "name": "stdout",
     "output_type": "stream",
     "text": [
      "[284 285 286 ..., 222 223 224]\n",
      "[640 640 640 ...,  79  79  79]\n",
      "[1103 1104 1105 ...,  980  981  982]\n",
      "[701 701 701 ..., 239 239 239]\n"
     ]
    },
    {
     "name": "stderr",
     "output_type": "stream",
     "text": [
      "\r",
      " 15%|█▍        | 188/1261 [01:12<06:17,  2.84it/s]"
     ]
    },
    {
     "name": "stdout",
     "output_type": "stream",
     "text": [
      "[285 286 287 ..., 222 223 224]\n",
      "[640 640 640 ...,  79  79  79]\n",
      "[1060 1061 1062 ...,  971  972  973]\n",
      "[560 560 560 ..., 239 239 239]\n"
     ]
    },
    {
     "name": "stderr",
     "output_type": "stream",
     "text": [
      "\r",
      " 15%|█▍        | 189/1261 [01:12<06:52,  2.60it/s]"
     ]
    },
    {
     "name": "stdout",
     "output_type": "stream",
     "text": [
      "[293 294 295 ..., 222 223 224]\n",
      "[640 640 640 ...,  79  79  79]\n",
      "[1078 1079 1080 ...,  976  977  978]\n",
      "[640 640 640 ..., 239 239 239]\n"
     ]
    },
    {
     "name": "stderr",
     "output_type": "stream",
     "text": [
      "\r",
      " 15%|█▌        | 190/1261 [01:13<07:09,  2.49it/s]"
     ]
    },
    {
     "name": "stdout",
     "output_type": "stream",
     "text": [
      "[293 294 295 ..., 228 229 230]\n",
      "[640 640 640 ...,  79  79  79]\n",
      "[1078 1079 1080 ...,  883  883  883]\n",
      "[640 640 640 ...,  63  64  65]\n"
     ]
    },
    {
     "name": "stderr",
     "output_type": "stream",
     "text": [
      "\r",
      " 15%|█▌        | 191/1261 [01:13<07:04,  2.52it/s]"
     ]
    },
    {
     "name": "stdout",
     "output_type": "stream",
     "text": [
      "[300 301 302 ..., 204 205 206]\n",
      "[640 640 640 ...,  79  79  79]\n",
      "[1076 1077 1078 ...,  888  889  890]\n",
      "[640 640 640 ...,  79  79  79]\n"
     ]
    },
    {
     "name": "stderr",
     "output_type": "stream",
     "text": [
      "\r",
      " 15%|█▌        | 192/1261 [01:13<06:43,  2.65it/s]"
     ]
    },
    {
     "name": "stdout",
     "output_type": "stream",
     "text": [
      "[301 302 303 ..., 198 199 200]\n",
      "[640 640 640 ...,  79  79  79]\n",
      "[1078 1079 1080 ...,  888  889  890]\n",
      "[640 640 640 ...,  79  79  79]\n"
     ]
    },
    {
     "name": "stderr",
     "output_type": "stream",
     "text": [
      "\r",
      " 15%|█▌        | 193/1261 [01:14<06:37,  2.69it/s]"
     ]
    },
    {
     "name": "stdout",
     "output_type": "stream",
     "text": [
      "[305 306 307 ..., 222 223 224]\n",
      "[640 640 640 ...,  79  79  79]\n",
      "[1093 1094 1095 ...,  900  901  902]\n",
      "[655 655 655 ...,  79  79  79]\n"
     ]
    },
    {
     "name": "stderr",
     "output_type": "stream",
     "text": [
      "\r",
      " 15%|█▌        | 194/1261 [01:14<07:19,  2.43it/s]"
     ]
    },
    {
     "name": "stdout",
     "output_type": "stream",
     "text": [
      "[305 306 307 ..., 222 223 224]\n",
      "[640 640 640 ...,  79  79  79]\n",
      "[1101 1102 1103 ...,  900  901  902]\n",
      "[683 683 683 ...,  79  79  79]\n"
     ]
    },
    {
     "name": "stderr",
     "output_type": "stream",
     "text": [
      "\r",
      " 15%|█▌        | 195/1261 [01:15<07:19,  2.43it/s]"
     ]
    },
    {
     "name": "stdout",
     "output_type": "stream",
     "text": [
      "[305 306 307 ..., 216 217 218]\n",
      "[640 640 640 ...,  79  79  79]\n",
      "[1088 1089 1089 ...,  946  947  948]\n",
      "[710 710 711 ..., 159 159 159]\n"
     ]
    },
    {
     "name": "stderr",
     "output_type": "stream",
     "text": [
      "\r",
      " 16%|█▌        | 196/1261 [01:15<07:32,  2.35it/s]"
     ]
    },
    {
     "name": "stdout",
     "output_type": "stream",
     "text": [
      "[300 301 302 ..., 216 217 218]\n",
      "[640 640 640 ...,  79  79  79]\n",
      "[1085 1086 1087 ...,  929  930  931]\n",
      "[607 607 607 ...,  79  79  79]\n"
     ]
    },
    {
     "name": "stderr",
     "output_type": "stream",
     "text": [
      "\r",
      " 16%|█▌        | 197/1261 [01:16<07:39,  2.31it/s]"
     ]
    },
    {
     "name": "stdout",
     "output_type": "stream",
     "text": [
      "[295 296 297 ..., 210 211 212]\n",
      "[640 640 640 ...,  79  79  79]\n",
      "[1098 1099 1100 ...,  959  960  961]\n",
      "[632 632 632 ...,  79  79  79]\n"
     ]
    },
    {
     "name": "stderr",
     "output_type": "stream",
     "text": [
      "\r",
      " 16%|█▌        | 198/1261 [01:16<07:51,  2.25it/s]"
     ]
    },
    {
     "name": "stdout",
     "output_type": "stream",
     "text": [
      "[290 291 292 ..., 198 199 200]\n",
      "[640 640 640 ...,  79  79  79]\n",
      "[1120 1121 1122 ..., 1000 1001 1002]\n",
      "[659 659 659 ...,  79  79  79]\n"
     ]
    },
    {
     "name": "stderr",
     "output_type": "stream",
     "text": [
      "\r",
      " 16%|█▌        | 199/1261 [01:16<07:53,  2.24it/s]"
     ]
    },
    {
     "name": "stdout",
     "output_type": "stream",
     "text": [
      "[285 286 287 ..., 192 193 194]\n",
      "[640 640 640 ...,  79  79  79]\n",
      "[1099 1100 1101 ..., 1024 1025 1026]\n",
      "[689 689 689 ...,  79  79  79]\n"
     ]
    },
    {
     "name": "stderr",
     "output_type": "stream",
     "text": [
      "\r",
      " 16%|█▌        | 200/1261 [01:17<07:19,  2.41it/s]"
     ]
    },
    {
     "name": "stdout",
     "output_type": "stream",
     "text": [
      "[284 285 286 ..., 192 193 194]\n",
      "[640 640 640 ...,  79  79  79]\n",
      "[1082 1083 1084 ..., 1036 1037 1038]\n",
      "[560 560 560 ..., 159 159 159]\n"
     ]
    },
    {
     "name": "stderr",
     "output_type": "stream",
     "text": [
      "\r",
      " 16%|█▌        | 201/1261 [01:17<06:57,  2.54it/s]"
     ]
    },
    {
     "name": "stdout",
     "output_type": "stream",
     "text": [
      "[280 281 282 ..., 192 193 194]\n",
      "[640 640 640 ...,  79  79  79]\n",
      "[1082 1083 1084 ..., 1041 1042 1043]\n",
      "[560 560 560 ..., 159 159 159]\n"
     ]
    },
    {
     "name": "stderr",
     "output_type": "stream",
     "text": [
      "\r",
      " 16%|█▌        | 202/1261 [01:18<06:41,  2.64it/s]"
     ]
    },
    {
     "name": "stdout",
     "output_type": "stream",
     "text": [
      "[282 283 284 ..., 198 199 200]\n",
      "[640 640 640 ...,  79  79  79]\n",
      "[1091 1092 1093 ..., 1026 1027 1028]\n",
      "[640 640 640 ..., 159 159 159]\n"
     ]
    },
    {
     "name": "stderr",
     "output_type": "stream",
     "text": [
      "\r",
      " 16%|█▌        | 203/1261 [01:18<06:38,  2.66it/s]"
     ]
    },
    {
     "name": "stdout",
     "output_type": "stream",
     "text": [
      "[282 283 284 ..., 192 193 194]\n",
      "[640 640 640 ...,  79  79  79]\n",
      "[1087 1088 1089 ..., 1037 1038 1039]\n",
      "[640 640 640 ..., 239 239 239]\n"
     ]
    },
    {
     "name": "stderr",
     "output_type": "stream",
     "text": [
      "\r",
      " 16%|█▌        | 204/1261 [01:18<06:29,  2.71it/s]"
     ]
    },
    {
     "name": "stdout",
     "output_type": "stream",
     "text": [
      "[279 280 281 ..., 192 193 194]\n",
      "[640 640 640 ...,  79  79  79]\n",
      "[1086 1087 1088 ..., 1034  929  929]\n",
      "[640 640 640 ..., 239   0   1]\n"
     ]
    },
    {
     "name": "stderr",
     "output_type": "stream",
     "text": [
      "\r",
      " 16%|█▋        | 205/1261 [01:19<06:22,  2.76it/s]"
     ]
    },
    {
     "name": "stdout",
     "output_type": "stream",
     "text": [
      "[280 281 282 ..., 204 205 206]\n",
      "[640 640 640 ...,  79  79  79]\n",
      "[1101 1102 1103 ...,  926  926  926]\n",
      "[641 641 641 ...,   7   8   9]\n"
     ]
    },
    {
     "name": "stderr",
     "output_type": "stream",
     "text": [
      "\r",
      " 16%|█▋        | 206/1261 [01:19<06:13,  2.82it/s]"
     ]
    },
    {
     "name": "stdout",
     "output_type": "stream",
     "text": [
      "[284 285 286 ..., 210 211 212]\n",
      "[640 640 640 ...,  79  79  79]\n",
      "[1106 1107 1108 ...,  941  942  943]\n",
      "[671 671 671 ...,  79  79  79]\n"
     ]
    },
    {
     "name": "stderr",
     "output_type": "stream",
     "text": [
      "\r",
      " 16%|█▋        | 207/1261 [01:19<06:16,  2.80it/s]"
     ]
    },
    {
     "name": "stdout",
     "output_type": "stream",
     "text": [
      "[287 288 289 ..., 204 205 206]\n",
      "[640 640 640 ...,  79  79  79]\n",
      "[1103 1104 1105 ...,  929  930  931]\n",
      "[702 702 702 ...,  79  79  79]\n"
     ]
    },
    {
     "name": "stderr",
     "output_type": "stream",
     "text": [
      "\r",
      " 16%|█▋        | 208/1261 [01:20<06:06,  2.88it/s]"
     ]
    },
    {
     "name": "stdout",
     "output_type": "stream",
     "text": [
      "[288 289 290 ..., 210 211 212]\n",
      "[640 640 640 ...,  79  79  79]\n",
      "[1084 1085 1086 ...,  923  924  925]\n",
      "[596 596 596 ...,  79  79  79]\n"
     ]
    },
    {
     "name": "stderr",
     "output_type": "stream",
     "text": [
      "\r",
      " 17%|█▋        | 209/1261 [01:20<06:02,  2.90it/s]"
     ]
    },
    {
     "name": "stdout",
     "output_type": "stream",
     "text": [
      "[288 289 290 ..., 198 199 200]\n",
      "[640 640 640 ...,  79  79  79]\n",
      "[1094 1095 1096 ...,  935  936  937]\n",
      "[623 623 623 ...,  79  79  79]\n"
     ]
    },
    {
     "name": "stderr",
     "output_type": "stream",
     "text": [
      "\r",
      " 17%|█▋        | 210/1261 [01:20<05:58,  2.93it/s]"
     ]
    },
    {
     "name": "stdout",
     "output_type": "stream",
     "text": [
      "[287 288 289 ..., 204 205 206]\n",
      "[640 640 640 ...,  79  79  79]\n",
      "[1095 1096 1097 ...,  983  984  985]\n",
      "[652 652 652 ..., 159 159 159]\n"
     ]
    },
    {
     "name": "stderr",
     "output_type": "stream",
     "text": [
      "\r",
      " 17%|█▋        | 211/1261 [01:21<05:59,  2.92it/s]"
     ]
    },
    {
     "name": "stdout",
     "output_type": "stream",
     "text": [
      "[287 288 289 ..., 198 199 200]\n",
      "[640 640 640 ...,  79  79  79]\n",
      "[1101 1102 1103 ..., 1005 1006 1007]\n",
      "[681 681 681 ..., 159 159 159]\n"
     ]
    },
    {
     "name": "stderr",
     "output_type": "stream",
     "text": [
      "\r",
      " 17%|█▋        | 212/1261 [01:21<06:21,  2.75it/s]"
     ]
    },
    {
     "name": "stdout",
     "output_type": "stream",
     "text": [
      "[287 288 289 ..., 139 140 141]\n",
      "[640 640 640 ...,  20  20  20]\n",
      "[1100 1101 1102 ...,  994  995  996]\n",
      "[712 712 712 ..., 159 159 159]\n"
     ]
    },
    {
     "name": "stderr",
     "output_type": "stream",
     "text": [
      "\r",
      " 17%|█▋        | 213/1261 [01:21<06:10,  2.83it/s]"
     ]
    },
    {
     "name": "stdout",
     "output_type": "stream",
     "text": [
      "[282 283 284 ..., 180 181 182]\n",
      "[640 640 640 ...,  79  79  79]\n",
      "[1067 1068 1069 ...,  994  995  996]\n",
      "[560 560 560 ..., 159 159 159]\n"
     ]
    },
    {
     "name": "stderr",
     "output_type": "stream",
     "text": [
      "\r",
      " 17%|█▋        | 214/1261 [01:22<06:14,  2.80it/s]"
     ]
    },
    {
     "name": "stdout",
     "output_type": "stream",
     "text": [
      "[282 283 284 ..., 180 181 182]\n",
      "[640 640 640 ...,  79  79  79]\n",
      "[1081 1082 1083 ..., 1013 1014 1015]\n",
      "[640 640 640 ..., 239 239 239]\n"
     ]
    },
    {
     "name": "stderr",
     "output_type": "stream",
     "text": [
      "\r",
      " 17%|█▋        | 215/1261 [01:22<06:26,  2.70it/s]"
     ]
    },
    {
     "name": "stdout",
     "output_type": "stream",
     "text": [
      "[282 283 284 ..., 192 193 194]\n",
      "[640 640 640 ...,  79  79  79]\n",
      "[1078 1079 1080 ..., 1004 1005 1006]\n",
      "[640 640 640 ..., 239 239 239]\n"
     ]
    },
    {
     "name": "stderr",
     "output_type": "stream",
     "text": [
      "\r",
      " 17%|█▋        | 216/1261 [01:23<06:26,  2.70it/s]"
     ]
    },
    {
     "name": "stdout",
     "output_type": "stream",
     "text": [
      "[279 280 281 ..., 198 199 200]\n",
      "[640 640 640 ...,  79  79  79]\n",
      "[1074 1075 1076 ...,  903  903  903]\n",
      "[640 640 640 ...,  19  20  21]\n"
     ]
    },
    {
     "name": "stderr",
     "output_type": "stream",
     "text": [
      "\r",
      " 17%|█▋        | 217/1261 [01:23<06:46,  2.57it/s]"
     ]
    },
    {
     "name": "stdout",
     "output_type": "stream",
     "text": [
      "[280 281 282 ..., 198 199 200]\n",
      "[640 640 640 ...,  79  79  79]\n",
      "[1073 1074 1075 ...,  913  914  915]\n",
      "[640 640 640 ...,  59  59  59]\n"
     ]
    },
    {
     "name": "stderr",
     "output_type": "stream",
     "text": [
      "\r",
      " 17%|█▋        | 218/1261 [01:23<06:45,  2.57it/s]"
     ]
    },
    {
     "name": "stdout",
     "output_type": "stream",
     "text": [
      "[277 278 279 ..., 198 199 200]\n",
      "[640 640 640 ...,  79  79  79]\n",
      "[1081 1082 1083 ...,  930  931  932]\n",
      "[657 657 657 ...,  77  77  77]\n"
     ]
    },
    {
     "name": "stderr",
     "output_type": "stream",
     "text": [
      "\r",
      " 17%|█▋        | 219/1261 [01:24<06:44,  2.58it/s]"
     ]
    },
    {
     "name": "stdout",
     "output_type": "stream",
     "text": [
      "[280 281 282 ..., 197 198 199]\n",
      "[640 640 640 ...,  77  77  77]\n",
      "[1082 1083 1084 ...,  941  942  943]\n",
      "[687 687 687 ...,  79  79  79]\n"
     ]
    },
    {
     "name": "stderr",
     "output_type": "stream",
     "text": [
      "\r",
      " 17%|█▋        | 220/1261 [01:24<07:01,  2.47it/s]"
     ]
    },
    {
     "name": "stdout",
     "output_type": "stream",
     "text": [
      "[277 278 279 ..., 186 187 188]\n",
      "[640 640 640 ...,  79  79  79]\n",
      "[1087 1088 1095 ...,  953  954  955]\n",
      "[716 716 716 ...,  79  79  79]\n"
     ]
    },
    {
     "name": "stderr",
     "output_type": "stream",
     "text": [
      "\r",
      " 18%|█▊        | 221/1261 [01:25<07:37,  2.27it/s]"
     ]
    },
    {
     "name": "stdout",
     "output_type": "stream",
     "text": [
      "[280 281 282 ..., 186 187 188]\n",
      "[640 640 640 ...,  79  79  79]\n",
      "[1078 1079 1080 ...,  953  954  955]\n",
      "[613 613 613 ...,  79  79  79]\n"
     ]
    },
    {
     "name": "stderr",
     "output_type": "stream",
     "text": [
      "\r",
      " 18%|█▊        | 222/1261 [01:25<07:54,  2.19it/s]"
     ]
    },
    {
     "name": "stdout",
     "output_type": "stream",
     "text": [
      "[280 281 282 ..., 175 176 177]\n",
      "[640 640 640 ...,  79  79  79]\n",
      "[1097 1098 1099 ...,  947  948  949]\n",
      "[643 643 643 ...,  79  79  79]\n"
     ]
    },
    {
     "name": "stderr",
     "output_type": "stream",
     "text": [
      "\r",
      " 18%|█▊        | 223/1261 [01:26<07:31,  2.30it/s]"
     ]
    },
    {
     "name": "stdout",
     "output_type": "stream",
     "text": [
      "[285 286 287 ..., 186 187 188]\n",
      "[640 640 640 ...,  79  79  79]\n",
      "[1086 1087 1088 ...,  983  984  985]\n",
      "[673 673 673 ..., 159 159 159]\n"
     ]
    },
    {
     "name": "stderr",
     "output_type": "stream",
     "text": [
      "\r",
      " 18%|█▊        | 224/1261 [01:26<07:00,  2.47it/s]"
     ]
    },
    {
     "name": "stdout",
     "output_type": "stream",
     "text": [
      "[280 281 282 ..., 197 198 199]\n",
      "[640 640 640 ...,  77  77  77]\n",
      "[1074 1075 1076 ...,  973  974  975]\n",
      "[704 704 704 ..., 159 159 159]\n"
     ]
    },
    {
     "name": "stderr",
     "output_type": "stream",
     "text": [
      "\r",
      " 18%|█▊        | 225/1261 [01:26<07:02,  2.45it/s]"
     ]
    },
    {
     "name": "stdout",
     "output_type": "stream",
     "text": [
      "[279 280 281 ..., 186 187 188]\n",
      "[640 640 640 ...,  79  79  79]\n",
      "[1045 1046 1047 ...,  973  974  975]\n",
      "[560 560 560 ..., 159 159 159]\n"
     ]
    },
    {
     "name": "stderr",
     "output_type": "stream",
     "text": [
      "\r",
      " 18%|█▊        | 226/1261 [01:27<07:10,  2.41it/s]"
     ]
    },
    {
     "name": "stdout",
     "output_type": "stream",
     "text": [
      "[285 286 287 ..., 175 176 177]\n",
      "[640 640 640 ...,  79  79  79]\n",
      "[1060 1061 1062 ...,  985  986  987]\n",
      "[640 640 640 ..., 239 239 239]\n"
     ]
    },
    {
     "name": "stderr",
     "output_type": "stream",
     "text": [
      "\r",
      " 18%|█▊        | 227/1261 [01:27<06:53,  2.50it/s]"
     ]
    },
    {
     "name": "stdout",
     "output_type": "stream",
     "text": [
      "[277 278 279 ..., 186 187 188]\n",
      "[640 640 640 ...,  79  79  79]\n",
      "[1060 1061 1062 ...,  882  883  884]\n",
      "[640 640 640 ...,  20  20  20]\n"
     ]
    },
    {
     "name": "stderr",
     "output_type": "stream",
     "text": [
      "\r",
      " 18%|█▊        | 228/1261 [01:27<06:35,  2.61it/s]"
     ]
    },
    {
     "name": "stdout",
     "output_type": "stream",
     "text": [
      "[279 280 281 ..., 186 187 188]\n",
      "[640 640 640 ...,  79  79  79]\n",
      "[1058 1059 1060 ...,  895  896  897]\n",
      "[640 640 640 ...,  40  40  40]\n"
     ]
    },
    {
     "name": "stderr",
     "output_type": "stream",
     "text": [
      "\r",
      " 18%|█▊        | 229/1261 [01:28<06:26,  2.67it/s]"
     ]
    },
    {
     "name": "stdout",
     "output_type": "stream",
     "text": [
      "[272 273 274 ..., 192 193 194]\n",
      "[640 640 640 ...,  79  79  79]\n",
      "[1054 1055 1056 ...,  907  908  909]\n",
      "[640 640 640 ...,  59  59  59]\n"
     ]
    },
    {
     "name": "stderr",
     "output_type": "stream",
     "text": [
      "\r",
      " 18%|█▊        | 230/1261 [01:28<06:16,  2.74it/s]"
     ]
    },
    {
     "name": "stdout",
     "output_type": "stream",
     "text": [
      "[269 270 271 ..., 180 181 182]\n",
      "[640 640 640 ...,  79  79  79]\n",
      "[1062 1063 1064 ...,  918  919  920]\n",
      "[652 652 652 ...,  77  77  77]\n"
     ]
    },
    {
     "name": "stderr",
     "output_type": "stream",
     "text": [
      "\r",
      " 18%|█▊        | 231/1261 [01:28<06:09,  2.79it/s]"
     ]
    },
    {
     "name": "stdout",
     "output_type": "stream",
     "text": [
      "[274 275 276 ..., 163 164 165]\n",
      "[640 640 640 ...,  79  79  79]\n",
      "[1073 1074 1075 ...,  935  936  937]\n",
      "[682 682 682 ...,  79  79  79]\n"
     ]
    },
    {
     "name": "stderr",
     "output_type": "stream",
     "text": [
      "\r",
      " 18%|█▊        | 232/1261 [01:29<06:03,  2.83it/s]"
     ]
    },
    {
     "name": "stdout",
     "output_type": "stream",
     "text": [
      "[271 272 273 ..., 180 181 182]\n",
      "[640 640 640 ...,  79  79  79]\n",
      "[1065 1066 1067 ...,  959  960  961]\n",
      "[712 712 712 ...,  79  79  79]\n"
     ]
    },
    {
     "name": "stderr",
     "output_type": "stream",
     "text": [
      "\r",
      " 18%|█▊        | 233/1261 [01:29<06:04,  2.82it/s]"
     ]
    },
    {
     "name": "stdout",
     "output_type": "stream",
     "text": [
      "[263 264 265 ..., 175 176 177]\n",
      "[640 640 640 ...,  79  79  79]\n",
      "[1057 1058 1059 ...,  953  954  955]\n",
      "[610 610 610 ...,  79  79  79]\n"
     ]
    },
    {
     "name": "stderr",
     "output_type": "stream",
     "text": [
      "\r",
      " 19%|█▊        | 234/1261 [01:30<05:57,  2.87it/s]"
     ]
    },
    {
     "name": "stdout",
     "output_type": "stream",
     "text": [
      "[261 262 263 ..., 175 176 177]\n",
      "[640 640 640 ...,  79  79  79]\n",
      "[1062 1063 1064 ...,  947  948  949]\n",
      "[640 640 640 ...,  79  79  79]\n"
     ]
    },
    {
     "name": "stderr",
     "output_type": "stream",
     "text": [
      "\r",
      " 19%|█▊        | 235/1261 [01:30<06:01,  2.84it/s]"
     ]
    },
    {
     "name": "stdout",
     "output_type": "stream",
     "text": [
      "[259 260 261 ..., 180 181 182]\n",
      "[640 640 640 ...,  79  79  79]\n",
      "[1056 1057 1058 ...,  973  974  975]\n",
      "[669 669 669 ..., 159 159 159]\n"
     ]
    },
    {
     "name": "stderr",
     "output_type": "stream",
     "text": [
      "\r",
      " 19%|█▊        | 236/1261 [01:30<06:00,  2.84it/s]"
     ]
    },
    {
     "name": "stdout",
     "output_type": "stream",
     "text": [
      "[263 264 265 ..., 175 176 177]\n",
      "[640 640 640 ...,  79  79  79]\n",
      "[1056 1057 1058 ...,  957  958  959]\n",
      "[699 699 699 ..., 159 159 159]\n"
     ]
    },
    {
     "name": "stderr",
     "output_type": "stream",
     "text": [
      "\r",
      " 19%|█▉        | 237/1261 [01:31<06:13,  2.74it/s]"
     ]
    },
    {
     "name": "stdout",
     "output_type": "stream",
     "text": [
      "[258 259 260 ..., 175 176 177]\n",
      "[640 640 640 ...,  79  79  79]\n",
      "[1029 1030 1031 ...,  957  958  959]\n",
      "[560 560 560 ..., 159 159 159]\n"
     ]
    },
    {
     "name": "stderr",
     "output_type": "stream",
     "text": [
      "\r",
      " 19%|█▉        | 238/1261 [01:31<06:08,  2.78it/s]"
     ]
    },
    {
     "name": "stdout",
     "output_type": "stream",
     "text": [
      "[258 259 260 ..., 180 181 182]\n",
      "[640 640 640 ...,  79  79  79]\n",
      "[1027 1028 1029 ...,  971  972  973]\n",
      "[560 560 560 ..., 239 239 239]\n"
     ]
    },
    {
     "name": "stderr",
     "output_type": "stream",
     "text": [
      "\r",
      " 19%|█▉        | 239/1261 [01:31<06:05,  2.80it/s]"
     ]
    },
    {
     "name": "stdout",
     "output_type": "stream",
     "text": [
      "[258 259 260 ..., 186 187 188]\n",
      "[640 640 640 ...,  79  79  79]\n",
      "[1041 1042 1043 ...,  861  861  861]\n",
      "[640 640 640 ...,  10  11  12]\n"
     ]
    },
    {
     "name": "stderr",
     "output_type": "stream",
     "text": [
      "\r",
      " 19%|█▉        | 240/1261 [01:32<05:55,  2.88it/s]"
     ]
    },
    {
     "name": "stdout",
     "output_type": "stream",
     "text": [
      "[256 257 258 ..., 186 187 188]\n",
      "[640 640 640 ...,  79  79  79]\n",
      "[1042 1043 1044 ...,  874  874  874]\n",
      "[640 640 640 ...,  32  33  34]\n"
     ]
    },
    {
     "name": "stderr",
     "output_type": "stream",
     "text": [
      "\r",
      " 19%|█▉        | 241/1261 [01:32<06:27,  2.63it/s]"
     ]
    },
    {
     "name": "stdout",
     "output_type": "stream",
     "text": [
      "[256 257 258 ..., 186 187 188]\n",
      "[640 640 640 ...,  79  79  79]\n",
      "[1041 1042 1043 ...,  996  997  998]\n",
      "[640 640 640 ..., 319 319 319]\n"
     ]
    },
    {
     "name": "stderr",
     "output_type": "stream",
     "text": [
      "\r",
      " 19%|█▉        | 242/1261 [01:33<06:43,  2.53it/s]"
     ]
    },
    {
     "name": "stdout",
     "output_type": "stream",
     "text": [
      "[251 252 253 ..., 175 176 177]\n",
      "[640 640 640 ...,  79  79  79]\n",
      "[1050 1051 1052 ...,  891  891  891]\n",
      "[645 645 645 ...,  75  76  77]\n"
     ]
    },
    {
     "name": "stderr",
     "output_type": "stream",
     "text": [
      "\r",
      " 19%|█▉        | 243/1261 [01:33<06:42,  2.53it/s]"
     ]
    },
    {
     "name": "stdout",
     "output_type": "stream",
     "text": [
      "[253 254 255 ..., 169 170 171]\n",
      "[640 640 640 ...,  79  79  79]\n",
      "[1058 1059 1060 ...,  894  895  896]\n",
      "[675 675 675 ...,  79  79  79]\n"
     ]
    },
    {
     "name": "stderr",
     "output_type": "stream",
     "text": [
      "\r",
      " 19%|█▉        | 244/1261 [01:33<06:44,  2.52it/s]"
     ]
    },
    {
     "name": "stdout",
     "output_type": "stream",
     "text": [
      "[253 254 255 ..., 175 176 177]\n",
      "[640 640 640 ...,  79  79  79]\n",
      "[1063 1064 1065 ...,  917  918  919]\n",
      "[705 705 705 ...,  79  79  79]\n"
     ]
    },
    {
     "name": "stderr",
     "output_type": "stream",
     "text": [
      "\r",
      " 19%|█▉        | 245/1261 [01:34<06:33,  2.58it/s]"
     ]
    },
    {
     "name": "stdout",
     "output_type": "stream",
     "text": [
      "[251 252 253 ..., 157 158 159]\n",
      "[640 640 640 ...,  79  79  79]\n",
      "[1050 1051 1052 ...,  882  883  884]\n",
      "[607 607 607 ...,  79  79  79]\n"
     ]
    },
    {
     "name": "stderr",
     "output_type": "stream",
     "text": [
      "\r",
      " 20%|█▉        | 246/1261 [01:34<06:15,  2.70it/s]"
     ]
    },
    {
     "name": "stdout",
     "output_type": "stream",
     "text": [
      "[251 252 253 ..., 169 170 171]\n",
      "[640 640 640 ...,  79  79  79]\n",
      "[1044 1045 1046 ...,  936  937  938]\n",
      "[640 640 640 ..., 159 159 159]\n"
     ]
    },
    {
     "name": "stderr",
     "output_type": "stream",
     "text": [
      "\r",
      " 20%|█▉        | 247/1261 [01:34<06:11,  2.73it/s]"
     ]
    },
    {
     "name": "stdout",
     "output_type": "stream",
     "text": [
      "[248 249 250 ..., 175 176 177]\n",
      "[640 640 640 ...,  79  79  79]\n",
      "[1057 1058 1059 ...,  941  942  943]\n",
      "[666 666 666 ..., 159 159 159]\n"
     ]
    },
    {
     "name": "stderr",
     "output_type": "stream",
     "text": [
      "\r",
      " 20%|█▉        | 248/1261 [01:35<06:06,  2.76it/s]"
     ]
    },
    {
     "name": "stdout",
     "output_type": "stream",
     "text": [
      "[250 251 252 ..., 186 187 188]\n",
      "[640 640 640 ...,  79  79  79]\n",
      "[1058 1059 1060 ...,  925  926  927]\n",
      "[697 697 697 ..., 159 159 159]\n"
     ]
    },
    {
     "name": "stderr",
     "output_type": "stream",
     "text": [
      "\r",
      " 20%|█▉        | 249/1261 [01:35<06:06,  2.76it/s]"
     ]
    },
    {
     "name": "stdout",
     "output_type": "stream",
     "text": [
      "[250 251 252 ..., 186 187 188]\n",
      "[640 640 640 ...,  79  79  79]\n",
      "[1022 1023 1024 ...,  931  932  933]\n",
      "[560 560 560 ..., 159 159 159]\n"
     ]
    },
    {
     "name": "stderr",
     "output_type": "stream",
     "text": [
      "\r",
      " 20%|█▉        | 250/1261 [01:35<05:50,  2.88it/s]"
     ]
    },
    {
     "name": "stdout",
     "output_type": "stream",
     "text": [
      "[250 251 252 ..., 186 187 188]\n",
      "[640 640 640 ...,  79  79  79]\n",
      "[1020 1021 1022 ...,  840  840  840]\n",
      "[560 560 560 ...,  18  19  20]\n"
     ]
    },
    {
     "name": "stderr",
     "output_type": "stream",
     "text": [
      "\r",
      " 20%|█▉        | 251/1261 [01:36<05:47,  2.90it/s]"
     ]
    },
    {
     "name": "stdout",
     "output_type": "stream",
     "text": [
      "[250 251 252 ..., 180 181 182]\n",
      "[640 640 640 ...,  79  79  79]\n",
      "[1039 1040 1041 ...,  857  858  859]\n",
      "[640 640 640 ...,  40  40  40]\n"
     ]
    },
    {
     "name": "stderr",
     "output_type": "stream",
     "text": [
      "\r",
      " 20%|█▉        | 252/1261 [01:36<05:59,  2.81it/s]"
     ]
    },
    {
     "name": "stdout",
     "output_type": "stream",
     "text": [
      "[250 251 252 ..., 186 187 188]\n",
      "[640 640 640 ...,  79  79  79]\n",
      "[1039 1040 1041 ...,  876  877  878]\n",
      "[640 640 640 ...,  59  59  59]\n"
     ]
    },
    {
     "name": "stderr",
     "output_type": "stream",
     "text": [
      "\r",
      " 20%|██        | 253/1261 [01:37<06:03,  2.77it/s]"
     ]
    },
    {
     "name": "stdout",
     "output_type": "stream",
     "text": [
      "[250 251 252 ..., 192 193 194]\n",
      "[640 640 640 ...,  79  79  79]\n",
      "[1039 1040 1041 ...,  883  884  885]\n",
      "[640 640 640 ...,  77  77  77]\n"
     ]
    },
    {
     "name": "stderr",
     "output_type": "stream",
     "text": [
      "\r",
      " 20%|██        | 254/1261 [01:37<06:16,  2.68it/s]"
     ]
    },
    {
     "name": "stdout",
     "output_type": "stream",
     "text": [
      "[250 251 252 ..., 186 187 188]\n",
      "[640 640 640 ...,  79  79  79]\n",
      "[1047 1048 1049 ...,  912  913  914]\n",
      "[640 640 640 ...,  79  79  79]\n"
     ]
    },
    {
     "name": "stderr",
     "output_type": "stream",
     "text": [
      "\r",
      " 20%|██        | 255/1261 [01:37<06:08,  2.73it/s]"
     ]
    },
    {
     "name": "stdout",
     "output_type": "stream",
     "text": [
      "[258 259 260 ..., 186 187 188]\n",
      "[640 640 640 ...,  79  79  79]\n",
      "[1052 1053 1054 ...,  906  907  908]\n",
      "[669 669 669 ...,  79  79  79]\n"
     ]
    },
    {
     "name": "stderr",
     "output_type": "stream",
     "text": [
      "\r",
      " 20%|██        | 256/1261 [01:38<06:05,  2.75it/s]"
     ]
    },
    {
     "name": "stdout",
     "output_type": "stream",
     "text": [
      "[250 251 252 ..., 192 193 194]\n",
      "[640 640 640 ...,  79  79  79]\n",
      "[1054 1055 1056 ...,  929  930  931]\n",
      "[699 699 699 ...,  79  79  79]\n"
     ]
    },
    {
     "name": "stderr",
     "output_type": "stream",
     "text": [
      "\r",
      " 20%|██        | 257/1261 [01:38<06:00,  2.79it/s]"
     ]
    },
    {
     "name": "stdout",
     "output_type": "stream",
     "text": [
      "[251 252 253 ..., 198 199 200]\n",
      "[640 640 640 ...,  79  79  79]\n",
      "[1049 1050 1051 ...,  917  918  919]\n",
      "[605 605 605 ...,  79  79  79]\n"
     ]
    },
    {
     "name": "stderr",
     "output_type": "stream",
     "text": [
      "\r",
      " 20%|██        | 258/1261 [01:38<05:53,  2.84it/s]"
     ]
    },
    {
     "name": "stdout",
     "output_type": "stream",
     "text": [
      "[253 254 255 ..., 204 205 206]\n",
      "[640 640 640 ...,  79  79  79]\n",
      "[1044 1045 1046 ...,  952  953  954]\n",
      "[640 640 640 ..., 159 159 159]\n"
     ]
    },
    {
     "name": "stderr",
     "output_type": "stream",
     "text": [
      "\r",
      " 21%|██        | 259/1261 [01:39<05:50,  2.86it/s]"
     ]
    },
    {
     "name": "stdout",
     "output_type": "stream",
     "text": [
      "[253 254 255 ..., 198 199 200]\n",
      "[640 640 640 ...,  79  79  79]\n",
      "[1058 1059 1060 ...,  962  963  964]\n",
      "[664 664 664 ..., 159 159 159]\n"
     ]
    },
    {
     "name": "stderr",
     "output_type": "stream",
     "text": [
      "\r",
      " 21%|██        | 260/1261 [01:39<06:29,  2.57it/s]"
     ]
    },
    {
     "name": "stdout",
     "output_type": "stream",
     "text": [
      "[256 257 258 ..., 210 211 212]\n",
      "[640 640 640 ...,  79  79  79]\n",
      "[1057 1058 1059 ...,  957  958  959]\n",
      "[695 695 695 ..., 159 159 159]\n"
     ]
    },
    {
     "name": "stderr",
     "output_type": "stream",
     "text": [
      "\r",
      " 21%|██        | 261/1261 [01:40<07:03,  2.36it/s]"
     ]
    },
    {
     "name": "stdout",
     "output_type": "stream",
     "text": [
      "[256 257 258 ..., 210 211 212]\n",
      "[640 640 640 ...,  79  79  79]\n",
      "[1031 1032 1033 ...,  973  974  975]\n",
      "[560 560 560 ..., 159 159 159]\n"
     ]
    },
    {
     "name": "stderr",
     "output_type": "stream",
     "text": [
      "\r",
      " 21%|██        | 262/1261 [01:40<07:13,  2.30it/s]"
     ]
    },
    {
     "name": "stdout",
     "output_type": "stream",
     "text": [
      "[259 260 261 ..., 210 211 212]\n",
      "[640 640 640 ...,  79  79  79]\n",
      "[1033 1034 1035 ...,  995  996  997]\n",
      "[560 560 560 ..., 239 239 239]\n"
     ]
    },
    {
     "name": "stderr",
     "output_type": "stream",
     "text": [
      "\r",
      " 21%|██        | 263/1261 [01:41<07:14,  2.30it/s]"
     ]
    },
    {
     "name": "stdout",
     "output_type": "stream",
     "text": [
      "[258 259 260 ..., 216 217 218]\n",
      "[640 640 640 ...,  79  79  79]\n",
      "[1062 1063 1064 ...,  901  902  903]\n",
      "[649 649 649 ...,  20  20  20]\n"
     ]
    },
    {
     "name": "stderr",
     "output_type": "stream",
     "text": [
      "\r",
      " 21%|██        | 264/1261 [01:41<07:05,  2.34it/s]"
     ]
    },
    {
     "name": "stdout",
     "output_type": "stream",
     "text": [
      "[256 257 258 ..., 216 217 218]\n",
      "[640 640 640 ...,  79  79  79]\n",
      "[1047 1048 1049 ...,  895  896  897]\n",
      "[640 640 640 ...,  40  40  40]\n"
     ]
    },
    {
     "name": "stderr",
     "output_type": "stream",
     "text": [
      "\r",
      " 21%|██        | 265/1261 [01:41<07:04,  2.35it/s]"
     ]
    },
    {
     "name": "stdout",
     "output_type": "stream",
     "text": [
      "[256 257 258 ..., 222 223 224]\n",
      "[640 640 640 ...,  79  79  79]\n",
      "[1049 1050 1051 ...,  918  919  920]\n",
      "[640 640 640 ...,  77  77  77]\n"
     ]
    },
    {
     "name": "stderr",
     "output_type": "stream",
     "text": [
      "\r",
      " 21%|██        | 266/1261 [01:42<07:08,  2.32it/s]"
     ]
    },
    {
     "name": "stdout",
     "output_type": "stream",
     "text": [
      "[253 254 255 ..., 216 217 218]\n",
      "[640 640 640 ...,  79  79  79]\n",
      "[1052 1053 1054 ...,  942  943  944]\n",
      "[640 640 640 ...,  77  77  77]\n"
     ]
    },
    {
     "name": "stderr",
     "output_type": "stream",
     "text": [
      "\r",
      " 21%|██        | 267/1261 [01:42<07:36,  2.18it/s]"
     ]
    },
    {
     "name": "stdout",
     "output_type": "stream",
     "text": [
      "[261 262 263 ..., 210 211 212]\n",
      "[640 640 640 ...,  79  79  79]\n",
      "[1060 1061 1062 ...,  965  966  967]\n",
      "[646 646 646 ...,  79  79  79]\n"
     ]
    },
    {
     "name": "stderr",
     "output_type": "stream",
     "text": [
      "\r",
      " 21%|██▏       | 268/1261 [01:43<07:37,  2.17it/s]"
     ]
    },
    {
     "name": "stdout",
     "output_type": "stream",
     "text": [
      "[253 254 255 ..., 222 223 224]\n",
      "[640 640 640 ...,  79  79  79]\n",
      "[1060 1061 1062 ...,  965  966  967]\n",
      "[677 677 677 ...,  79  79  79]\n"
     ]
    },
    {
     "name": "stderr",
     "output_type": "stream",
     "text": [
      "\r",
      " 21%|██▏       | 269/1261 [01:43<08:03,  2.05it/s]"
     ]
    },
    {
     "name": "stdout",
     "output_type": "stream",
     "text": [
      "[256 257 258 ..., 222 223 224]\n",
      "[640 640 640 ...,  79  79  79]\n",
      "[1062 1063 1064 ...,  988  989  990]\n",
      "[707 707 707 ...,  79  79  79]\n"
     ]
    },
    {
     "name": "stderr",
     "output_type": "stream",
     "text": [
      "\r",
      " 21%|██▏       | 270/1261 [01:44<07:55,  2.08it/s]"
     ]
    },
    {
     "name": "stdout",
     "output_type": "stream",
     "text": [
      "[253 254 255 ..., 222 223 224]\n",
      "[640 640 640 ...,  79  79  79]\n",
      "[1067 1068 1069 ...,  988  989  990]\n",
      "[629 629 629 ...,  79  79  79]\n"
     ]
    },
    {
     "name": "stderr",
     "output_type": "stream",
     "text": [
      "\r",
      " 21%|██▏       | 271/1261 [01:44<07:44,  2.13it/s]"
     ]
    },
    {
     "name": "stdout",
     "output_type": "stream",
     "text": [
      "[255 256 257 ..., 222 223 224]\n",
      "[640 640 640 ...,  79  79  79]\n",
      "[1068 1069 1070 ..., 1005 1006 1007]\n",
      "[660 660 660 ..., 159 159 159]\n"
     ]
    },
    {
     "name": "stderr",
     "output_type": "stream",
     "text": [
      "\r",
      " 22%|██▏       | 272/1261 [01:45<07:42,  2.14it/s]"
     ]
    },
    {
     "name": "stdout",
     "output_type": "stream",
     "text": [
      "[259 260 261 ..., 222 223 224]\n",
      "[640 640 640 ...,  79  79  79]\n",
      "[1060 1061 1065 ...,  989  990  991]\n",
      "[689 689 692 ..., 159 159 159]\n"
     ]
    },
    {
     "name": "stderr",
     "output_type": "stream",
     "text": [
      "\r",
      " 22%|██▏       | 273/1261 [01:45<07:39,  2.15it/s]"
     ]
    },
    {
     "name": "stdout",
     "output_type": "stream",
     "text": [
      "[261 262 263 ..., 234 235 236]\n",
      "[640 640 640 ...,  79  79  79]\n",
      "[1063 1064 1042 ...,  989  990  991]\n",
      "[719 719 560 ..., 159 159 159]\n"
     ]
    },
    {
     "name": "stderr",
     "output_type": "stream",
     "text": [
      "\r",
      " 22%|██▏       | 274/1261 [01:46<07:29,  2.20it/s]"
     ]
    },
    {
     "name": "stdout",
     "output_type": "stream",
     "text": [
      "[263 264 265 ..., 239 240 241]\n",
      "[640 640 640 ...,  79  79  79]\n",
      "[1040 1041 1042 ...,  895  896  897]\n",
      "[560 560 560 ...,  20  20  20]\n"
     ]
    },
    {
     "name": "stderr",
     "output_type": "stream",
     "text": [
      "\r",
      " 22%|██▏       | 275/1261 [01:46<07:25,  2.21it/s]"
     ]
    },
    {
     "name": "stdout",
     "output_type": "stream",
     "text": [
      "[263 264 265 ..., 239 240 241]\n",
      "[640 640 640 ...,  79  79  79]\n",
      "[1058 1059 1060 ...,  913  914  915]\n",
      "[640 640 640 ...,  40  40  40]\n"
     ]
    },
    {
     "name": "stderr",
     "output_type": "stream",
     "text": [
      "\r",
      " 22%|██▏       | 276/1261 [01:47<07:24,  2.21it/s]"
     ]
    },
    {
     "name": "stdout",
     "output_type": "stream",
     "text": [
      "[263 264 265 ..., 228 229 230]\n",
      "[640 640 640 ...,  79  79  79]\n",
      "[1060 1061 1062 ...,  931  932  933]\n",
      "[640 640 640 ...,  59  59  59]\n"
     ]
    },
    {
     "name": "stderr",
     "output_type": "stream",
     "text": [
      "\r",
      " 22%|██▏       | 277/1261 [01:47<07:33,  2.17it/s]"
     ]
    },
    {
     "name": "stdout",
     "output_type": "stream",
     "text": [
      "[264 265 266 ..., 239 240 241]\n",
      "[640 640 640 ...,  79  79  79]\n",
      "[1060 1061 1062 ...,  948  949  950]\n",
      "[640 640 640 ...,  77  77  77]\n"
     ]
    },
    {
     "name": "stderr",
     "output_type": "stream",
     "text": [
      "\r",
      " 22%|██▏       | 278/1261 [01:47<07:17,  2.25it/s]"
     ]
    },
    {
     "name": "stdout",
     "output_type": "stream",
     "text": [
      "[263 264 265 ..., 245 246 247]\n",
      "[640 640 640 ...,  79  79  79]\n",
      "[1060 1061 1062 ...,  965  966  967]\n",
      "[640 640 640 ...,  79  79  79]\n"
     ]
    },
    {
     "name": "stderr",
     "output_type": "stream",
     "text": [
      "\r",
      " 22%|██▏       | 279/1261 [01:48<07:00,  2.33it/s]"
     ]
    },
    {
     "name": "stdout",
     "output_type": "stream",
     "text": [
      "[266 267 268 ..., 245 246 247]\n",
      "[640 640 640 ...,  79  79  79]\n",
      "[1076 1077 1078 ...,  982  983  984]\n",
      "[666 666 666 ...,  79  79  79]\n"
     ]
    },
    {
     "name": "stderr",
     "output_type": "stream",
     "text": [
      "\r",
      " 22%|██▏       | 280/1261 [01:48<06:36,  2.47it/s]"
     ]
    },
    {
     "name": "stdout",
     "output_type": "stream",
     "text": [
      "[268 269 270 ..., 245 246 247]\n",
      "[640 640 640 ...,  79  79  79]\n",
      "[1068 1069 1070 ...,  988  989  990]\n",
      "[697 697 697 ...,  79  79  79]\n"
     ]
    },
    {
     "name": "stderr",
     "output_type": "stream",
     "text": [
      "\r",
      " 22%|██▏       | 281/1261 [01:48<06:20,  2.58it/s]"
     ]
    },
    {
     "name": "stdout",
     "output_type": "stream",
     "text": [
      "[271 272 273 ..., 251 252 253]\n",
      "[640 640 640 ...,  79  79  79]\n",
      "[1071 1072 1073 ...,  976  977  978]\n",
      "[599 599 599 ...,  79  79  79]\n"
     ]
    },
    {
     "name": "stderr",
     "output_type": "stream",
     "text": [
      "\r",
      " 22%|██▏       | 282/1261 [01:49<06:07,  2.67it/s]"
     ]
    },
    {
     "name": "stdout",
     "output_type": "stream",
     "text": [
      "[271 272 273 ..., 234 235 236]\n",
      "[640 640 640 ...,  79  79  79]\n",
      "[1070 1071 1072 ..., 1005 1006 1007]\n",
      "[630 630 630 ..., 159 159 159]\n"
     ]
    },
    {
     "name": "stderr",
     "output_type": "stream",
     "text": [
      "\r",
      " 22%|██▏       | 283/1261 [01:49<06:04,  2.68it/s]"
     ]
    },
    {
     "name": "stdout",
     "output_type": "stream",
     "text": [
      "[276 277 278 ..., 263 264 265]\n",
      "[640 640 640 ...,  79  79  79]\n",
      "[1075 1076 1077 ..., 1015 1016 1017]\n",
      "[659 659 659 ..., 159 159 159]\n"
     ]
    },
    {
     "name": "stderr",
     "output_type": "stream",
     "text": [
      "\r",
      " 23%|██▎       | 284/1261 [01:50<05:53,  2.77it/s]"
     ]
    },
    {
     "name": "stdout",
     "output_type": "stream",
     "text": [
      "[274 275 276 ..., 257 258 259]\n",
      "[640 640 640 ...,  79  79  79]\n",
      "[1078 1079 1080 ..., 1020 1021 1022]\n",
      "[689 689 689 ..., 159 159 159]\n"
     ]
    },
    {
     "name": "stderr",
     "output_type": "stream",
     "text": [
      "\r",
      " 23%|██▎       | 285/1261 [01:50<05:51,  2.78it/s]"
     ]
    },
    {
     "name": "stdout",
     "output_type": "stream",
     "text": [
      "[276 277 278 ..., 263 264 265]\n",
      "[640 640 640 ...,  79  79  79]\n",
      "[1083 1084 1085 ..., 1026 1027 1028]\n",
      "[719 719 719 ..., 159 159 159]\n"
     ]
    },
    {
     "name": "stderr",
     "output_type": "stream",
     "text": [
      "\r",
      " 23%|██▎       | 286/1261 [01:50<05:45,  2.83it/s]"
     ]
    },
    {
     "name": "stdout",
     "output_type": "stream",
     "text": [
      "[274 275 276 ..., 263 264 265]\n",
      "[640 640 640 ...,  79  79  79]\n",
      "[1065 1066 1067 ..., 1051 1052 1053]\n",
      "[560 560 560 ..., 239 239 239]\n"
     ]
    },
    {
     "name": "stderr",
     "output_type": "stream",
     "text": [
      "\r",
      " 23%|██▎       | 287/1261 [01:51<05:41,  2.85it/s]"
     ]
    },
    {
     "name": "stdout",
     "output_type": "stream",
     "text": [
      "[276 277 278 ..., 269 270 271]\n",
      "[640 640 640 ...,  79  79  79]\n",
      "[1073 1074 1075 ..., 1051 1052 1053]\n",
      "[640 640 640 ..., 239 239 239]\n"
     ]
    },
    {
     "name": "stderr",
     "output_type": "stream",
     "text": [
      "\r",
      " 23%|██▎       | 288/1261 [01:51<05:36,  2.89it/s]"
     ]
    },
    {
     "name": "stdout",
     "output_type": "stream",
     "text": [
      "[276 277 278 ..., 263 264 265]\n",
      "[640 640 640 ...,  79  79  79]\n",
      "[1076 1077 1078 ...,  984  985  986]\n",
      "[640 640 640 ...,  20  20  20]\n"
     ]
    },
    {
     "name": "stderr",
     "output_type": "stream",
     "text": [
      "\r",
      " 23%|██▎       | 289/1261 [01:51<05:33,  2.92it/s]"
     ]
    },
    {
     "name": "stdout",
     "output_type": "stream",
     "text": [
      "[279 280 281 ..., 281 282 283]\n",
      "[640 640 640 ...,  79  79  79]\n",
      "[1074 1075 1076 ...,  991  992  993]\n",
      "[640 640 640 ...,  59  59  59]\n"
     ]
    },
    {
     "name": "stderr",
     "output_type": "stream",
     "text": [
      "\r",
      " 23%|██▎       | 290/1261 [01:52<05:35,  2.89it/s]"
     ]
    },
    {
     "name": "stdout",
     "output_type": "stream",
     "text": [
      "[279 280 281 ..., 281 282 283]\n",
      "[640 640 640 ...,  79  79  79]\n",
      "[1079 1080 1081 ..., 1001 1002 1003]\n",
      "[640 640 640 ...,  77  77  77]\n"
     ]
    },
    {
     "name": "stderr",
     "output_type": "stream",
     "text": [
      "\r",
      " 23%|██▎       | 291/1261 [01:52<05:42,  2.83it/s]"
     ]
    },
    {
     "name": "stdout",
     "output_type": "stream",
     "text": [
      "[287 288 289 ..., 275 276 277]\n",
      "[640 640 640 ...,  79  79  79]\n",
      "[1088 1089 1090 ..., 1024 1025 1026]\n",
      "[669 669 669 ...,  79  79  79]\n"
     ]
    },
    {
     "name": "stderr",
     "output_type": "stream",
     "text": [
      "\r",
      " 23%|██▎       | 292/1261 [01:52<05:43,  2.82it/s]"
     ]
    },
    {
     "name": "stdout",
     "output_type": "stream",
     "text": [
      "[285 286 287 ..., 292 293 294]\n",
      "[640 640 640 ...,  79  79  79]\n",
      "[1095 1096 1097 ..., 1024 1025 1026]\n",
      "[699 699 699 ...,  79  79  79]\n"
     ]
    },
    {
     "name": "stderr",
     "output_type": "stream",
     "text": [
      "\r",
      " 23%|██▎       | 293/1261 [01:53<05:50,  2.77it/s]"
     ]
    },
    {
     "name": "stdout",
     "output_type": "stream",
     "text": [
      "[285 286 287 ..., 292 293 294]\n",
      "[640 640 640 ...,  79  79  79]\n",
      "[1088 1089 1090 ..., 1024 1025 1026]\n",
      "[597 597 597 ...,  79  79  79]\n"
     ]
    },
    {
     "name": "stderr",
     "output_type": "stream",
     "text": [
      "\r",
      " 23%|██▎       | 294/1261 [01:53<05:47,  2.78it/s]"
     ]
    },
    {
     "name": "stdout",
     "output_type": "stream",
     "text": [
      "[287 288 289 ..., 292 293 294]\n",
      "[640 640 640 ...,  79  79  79]\n",
      "[1084 1085 1086 ..., 1026 1027 1028]\n",
      "[629 629 629 ..., 159 159 159]\n"
     ]
    },
    {
     "name": "stderr",
     "output_type": "stream",
     "text": [
      "\r",
      " 23%|██▎       | 295/1261 [01:53<05:48,  2.77it/s]"
     ]
    },
    {
     "name": "stdout",
     "output_type": "stream",
     "text": [
      "[287 288 289 ..., 292 293 294]\n",
      "[640 640 640 ...,  79  79  79]\n",
      "[1089 1090 1091 ..., 1041 1042 1043]\n",
      "[658 658 658 ..., 159 159 159]\n"
     ]
    },
    {
     "name": "stderr",
     "output_type": "stream",
     "text": [
      "\r",
      " 23%|██▎       | 296/1261 [01:54<05:48,  2.77it/s]"
     ]
    },
    {
     "name": "stdout",
     "output_type": "stream",
     "text": [
      "[287 288 289 ..., 292 293 294]\n",
      "[640 640 640 ...,  79  79  79]\n",
      "[1078 1079 1080 ..., 1041 1042 1043]\n",
      "[688 688 688 ..., 159 159 159]\n"
     ]
    },
    {
     "name": "stderr",
     "output_type": "stream",
     "text": [
      "\r",
      " 24%|██▎       | 297/1261 [01:54<05:46,  2.78it/s]"
     ]
    },
    {
     "name": "stdout",
     "output_type": "stream",
     "text": [
      "[288 289 290 ..., 292 293 294]\n",
      "[640 640 640 ...,  79  79  79]\n",
      "[1082 1083 1079 ..., 1041 1042 1043]\n",
      "[716 716 717 ..., 159 159 159]\n"
     ]
    },
    {
     "name": "stderr",
     "output_type": "stream",
     "text": [
      "\r",
      " 24%|██▎       | 298/1261 [01:55<05:53,  2.73it/s]"
     ]
    },
    {
     "name": "stdout",
     "output_type": "stream",
     "text": [
      "[288 289 290 ..., 287 288 289]\n",
      "[640 640 640 ...,  79  79  79]\n",
      "[1067 1068 1069 ..., 1055 1056 1057]\n",
      "[560 560 560 ..., 239 239 239]\n"
     ]
    },
    {
     "name": "stderr",
     "output_type": "stream",
     "text": [
      "\r",
      " 24%|██▎       | 299/1261 [01:55<05:45,  2.79it/s]"
     ]
    },
    {
     "name": "stdout",
     "output_type": "stream",
     "text": [
      "[290 291 292 ..., 287 288 289]\n",
      "[640 640 640 ...,  79  79  79]\n",
      "[1078 1079 1080 ...,  984  985  986]\n",
      "[640 640 640 ...,  20  20  20]\n"
     ]
    },
    {
     "name": "stderr",
     "output_type": "stream",
     "text": [
      "\r",
      " 24%|██▍       | 300/1261 [01:55<05:59,  2.67it/s]"
     ]
    },
    {
     "name": "stdout",
     "output_type": "stream",
     "text": [
      "[290 291 292 ..., 287 288 289]\n",
      "[640 640 640 ...,  79  79  79]\n",
      "[1079 1080 1081 ...,  988  989  990]\n",
      "[640 640 640 ...,  40  40  40]\n"
     ]
    },
    {
     "name": "stderr",
     "output_type": "stream",
     "text": [
      "\r",
      " 24%|██▍       | 301/1261 [01:56<05:50,  2.74it/s]"
     ]
    },
    {
     "name": "stdout",
     "output_type": "stream",
     "text": [
      "[288 289 290 ..., 281 282 283]\n",
      "[640 640 640 ...,  79  79  79]\n",
      "[1078 1079 1080 ...,  997  998  999]\n",
      "[640 640 640 ...,  59  59  59]\n"
     ]
    },
    {
     "name": "stderr",
     "output_type": "stream",
     "text": [
      "\r",
      " 24%|██▍       | 302/1261 [01:56<05:52,  2.72it/s]"
     ]
    },
    {
     "name": "stdout",
     "output_type": "stream",
     "text": [
      "[282 283 284 ..., 281 282 283]\n",
      "[640 640 640 ...,  79  79  79]\n",
      "[1083 1084 1085 ..., 1016 1017 1018]\n",
      "[640 640 640 ...,  59  59  59]\n"
     ]
    },
    {
     "name": "stderr",
     "output_type": "stream",
     "text": [
      "\r",
      " 24%|██▍       | 303/1261 [01:56<05:52,  2.72it/s]"
     ]
    },
    {
     "name": "stdout",
     "output_type": "stream",
     "text": [
      "[280 281 282 ..., 287 288 289]\n",
      "[640 640 640 ...,  79  79  79]\n",
      "[1097 1098 1099 ..., 1024 1025 1026]\n",
      "[667 667 667 ...,  79  79  79]\n"
     ]
    },
    {
     "name": "stderr",
     "output_type": "stream",
     "text": [
      "\r",
      " 24%|██▍       | 304/1261 [01:57<05:49,  2.74it/s]"
     ]
    },
    {
     "name": "stdout",
     "output_type": "stream",
     "text": [
      "[285 286 287 ..., 269 270 271]\n",
      "[640 640 640 ...,  79  79  79]\n",
      "[1089 1090 1091 ..., 1041 1042 1043]\n",
      "[698 698 698 ...,  79  79  79]\n"
     ]
    },
    {
     "name": "stderr",
     "output_type": "stream",
     "text": [
      "\r",
      " 24%|██▍       | 305/1261 [01:57<05:41,  2.80it/s]"
     ]
    },
    {
     "name": "stdout",
     "output_type": "stream",
     "text": [
      "[280 281 282 ..., 281 282 283]\n",
      "[640 640 640 ...,  79  79  79]\n",
      "[1097 1098 1099 ..., 1047 1048 1049]\n",
      "[592 592 592 ...,  79  79  79]\n"
     ]
    },
    {
     "name": "stderr",
     "output_type": "stream",
     "text": [
      "\r",
      " 24%|██▍       | 306/1261 [01:57<05:41,  2.80it/s]"
     ]
    },
    {
     "name": "stdout",
     "output_type": "stream",
     "text": [
      "[282 283 284 ..., 287 288 289]\n",
      "[640 640 640 ...,  79  79  79]\n",
      "[1092 1093 1094 ..., 1030 1031 1032]\n",
      "[625 625 625 ...,  79  79  79]\n"
     ]
    },
    {
     "name": "stderr",
     "output_type": "stream",
     "text": [
      "\r",
      " 24%|██▍       | 307/1261 [01:58<05:35,  2.84it/s]"
     ]
    },
    {
     "name": "stdout",
     "output_type": "stream",
     "text": [
      "[282 283 284 ..., 281 282 283]\n",
      "[640 640 640 ...,  79  79  79]\n",
      "[1095 1096 1097 ..., 1047 1048 1049]\n",
      "[654 654 654 ...,  79  79  79]\n"
     ]
    },
    {
     "name": "stderr",
     "output_type": "stream",
     "text": [
      "\r",
      " 24%|██▍       | 308/1261 [01:58<05:46,  2.75it/s]"
     ]
    },
    {
     "name": "stdout",
     "output_type": "stream",
     "text": [
      "[287 288 289 ..., 298 299 300]\n",
      "[640 640 640 ...,  79  79  79]\n",
      "[1095 1096 1097 ..., 1041 1042 1043]\n",
      "[685 685 685 ..., 159 159 159]\n"
     ]
    },
    {
     "name": "stderr",
     "output_type": "stream",
     "text": [
      "\r",
      " 25%|██▍       | 309/1261 [01:58<05:37,  2.82it/s]"
     ]
    },
    {
     "name": "stdout",
     "output_type": "stream",
     "text": [
      "[292 293 294 ..., 304 305 306]\n",
      "[640 640 640 ...,  79  79  79]\n",
      "[1113 1114 1115 ..., 1047 1048 1049]\n",
      "[715 715 715 ..., 159 159 159]\n"
     ]
    },
    {
     "name": "stderr",
     "output_type": "stream",
     "text": [
      "\r",
      " 25%|██▍       | 310/1261 [01:59<05:36,  2.82it/s]"
     ]
    },
    {
     "name": "stdout",
     "output_type": "stream",
     "text": [
      "[290 291 292 ..., 304 305 306]\n",
      "[640 640 640 ...,  79  79  79]\n",
      "[1069 1070 1071 ..., 1055 1056 1057]\n",
      "[560 560 560 ..., 239 239 239]\n"
     ]
    },
    {
     "name": "stderr",
     "output_type": "stream",
     "text": [
      "\r",
      " 25%|██▍       | 311/1261 [01:59<05:30,  2.88it/s]"
     ]
    },
    {
     "name": "stdout",
     "output_type": "stream",
     "text": [
      "[292 293 294 ..., 316 317 318]\n",
      "[640 640 640 ...,  79  79  79]\n",
      "[1078 1079 1080 ...,  994  995  996]\n",
      "[640 640 640 ...,  40  40  40]\n"
     ]
    },
    {
     "name": "stderr",
     "output_type": "stream",
     "text": [
      "\r",
      " 25%|██▍       | 312/1261 [02:00<05:29,  2.88it/s]"
     ]
    },
    {
     "name": "stdout",
     "output_type": "stream",
     "text": [
      "[292 293 294 ..., 328 329 330]\n",
      "[640 640 640 ...,  79  79  79]\n",
      "[1078 1079 1080 ..., 1003 1004 1005]\n",
      "[640 640 640 ...,  59  59  59]\n"
     ]
    },
    {
     "name": "stderr",
     "output_type": "stream",
     "text": [
      "\r",
      " 25%|██▍       | 313/1261 [02:00<05:26,  2.90it/s]"
     ]
    },
    {
     "name": "stdout",
     "output_type": "stream",
     "text": [
      "[306 307 308 ..., 340 341 342]\n",
      "[640 640 640 ...,  79  79  79]\n",
      "[1073 1074 1075 ..., 1024 1025 1026]\n",
      "[640 640 640 ...,  79  79  79]\n"
     ]
    },
    {
     "name": "stderr",
     "output_type": "stream",
     "text": [
      "\r",
      " 25%|██▍       | 314/1261 [02:00<05:31,  2.86it/s]"
     ]
    },
    {
     "name": "stdout",
     "output_type": "stream",
     "text": [
      "[301 302 303 ..., 340 341 342]\n",
      "[640 640 640 ...,  79  79  79]\n",
      "[1080 1081 1082 ..., 1035 1036 1037]\n",
      "[641 641 641 ...,  79  79  79]\n"
     ]
    },
    {
     "name": "stderr",
     "output_type": "stream",
     "text": [
      "\r",
      " 25%|██▍       | 315/1261 [02:01<05:38,  2.80it/s]"
     ]
    },
    {
     "name": "stdout",
     "output_type": "stream",
     "text": [
      "[296 297 298 ..., 340 341 342]\n",
      "[640 640 640 ...,  79  79  79]\n",
      "[1092 1093 1094 ..., 1041 1042 1043]\n",
      "[669 669 669 ...,  79  79  79]\n"
     ]
    },
    {
     "name": "stderr",
     "output_type": "stream",
     "text": [
      "\r",
      " 25%|██▌       | 316/1261 [02:01<05:34,  2.82it/s]"
     ]
    },
    {
     "name": "stdout",
     "output_type": "stream",
     "text": [
      "[295 296 297 ..., 340 341 342]\n",
      "[640 640 640 ...,  79  79  79]\n",
      "[1097 1098 1083 ..., 1047 1048 1049]\n",
      "[698 698 699 ...,  79  79  79]\n"
     ]
    },
    {
     "name": "stderr",
     "output_type": "stream",
     "text": [
      "\r",
      " 25%|██▌       | 317/1261 [02:01<05:32,  2.84it/s]"
     ]
    },
    {
     "name": "stdout",
     "output_type": "stream",
     "text": [
      "[295 296 297 ..., 340 341 342]\n",
      "[640 640 640 ...,  79  79  79]\n",
      "[1090 1091 1092 ..., 1053 1054 1055]\n",
      "[596 596 596 ...,  79  79  79]\n"
     ]
    },
    {
     "name": "stderr",
     "output_type": "stream",
     "text": [
      "\r",
      " 25%|██▌       | 318/1261 [02:02<05:31,  2.85it/s]"
     ]
    },
    {
     "name": "stdout",
     "output_type": "stream",
     "text": [
      "[298 299 300 ..., 346 347 348]\n",
      "[640 640 640 ...,  79  79  79]\n",
      "[1086 1087 1088 ..., 1057 1058 1059]\n",
      "[628 628 628 ..., 159 159 159]\n"
     ]
    },
    {
     "name": "stderr",
     "output_type": "stream",
     "text": [
      "\r",
      " 25%|██▌       | 319/1261 [02:02<05:31,  2.84it/s]"
     ]
    },
    {
     "name": "stdout",
     "output_type": "stream",
     "text": [
      "[298 299 300 ..., 340 341 342]\n",
      "[640 640 640 ...,  79  79  79]\n",
      "[1093 1094 1095 ..., 1063 1064 1065]\n",
      "[656 656 656 ..., 159 159 159]\n"
     ]
    },
    {
     "name": "stderr",
     "output_type": "stream",
     "text": [
      "\r",
      " 25%|██▌       | 320/1261 [02:02<05:32,  2.83it/s]"
     ]
    },
    {
     "name": "stdout",
     "output_type": "stream",
     "text": [
      "[301 302 303 ..., 351 352 353]\n",
      "[640 640 640 ...,  79  79  79]\n",
      "[1091 1092 1093 ..., 1057 1058 1059]\n",
      "[686 686 686 ..., 159 159 159]\n"
     ]
    },
    {
     "name": "stderr",
     "output_type": "stream",
     "text": [
      "\r",
      " 25%|██▌       | 321/1261 [02:03<05:29,  2.85it/s]"
     ]
    },
    {
     "name": "stdout",
     "output_type": "stream",
     "text": [
      "[300 301 302 ..., 346 347 348]\n",
      "[640 640 640 ...,  79  79  79]\n",
      "[1092 1093 1094 ..., 1069 1070 1071]\n",
      "[716 716 716 ..., 239 239 239]\n"
     ]
    },
    {
     "name": "stderr",
     "output_type": "stream",
     "text": [
      "\r",
      " 26%|██▌       | 322/1261 [02:03<05:34,  2.81it/s]"
     ]
    },
    {
     "name": "stdout",
     "output_type": "stream",
     "text": [
      "[306 307 308 ..., 351 352 353]\n",
      "[640 640 640 ...,  79  79  79]\n",
      "[1067 1068 1069 ..., 1028 1029 1030]\n",
      "[560 560 560 ...,  20  20  20]\n"
     ]
    },
    {
     "name": "stderr",
     "output_type": "stream",
     "text": [
      "\r",
      " 26%|██▌       | 323/1261 [02:03<05:46,  2.71it/s]"
     ]
    },
    {
     "name": "stdout",
     "output_type": "stream",
     "text": [
      "[309 310 311 ..., 351 352 353]\n",
      "[640 640 640 ...,  79  79  79]\n",
      "[1073 1074 1075 ..., 1022 1023 1024]\n",
      "[640 640 640 ...,  59  59  59]\n"
     ]
    },
    {
     "name": "stderr",
     "output_type": "stream",
     "text": [
      "\r",
      " 26%|██▌       | 324/1261 [02:04<05:55,  2.64it/s]"
     ]
    },
    {
     "name": "stdout",
     "output_type": "stream",
     "text": [
      "[298 299 300 ..., 346 347 348]\n",
      "[640 640 640 ...,  79  79  79]\n",
      "[1078 1079 1080 ..., 1040 1041 1042]\n",
      "[640 640 640 ...,  59  59  59]\n"
     ]
    },
    {
     "name": "stderr",
     "output_type": "stream",
     "text": [
      "\r",
      " 26%|██▌       | 325/1261 [02:04<05:45,  2.71it/s]"
     ]
    },
    {
     "name": "stdout",
     "output_type": "stream",
     "text": [
      "[298 299 300 ..., 363 364 365]\n",
      "[640 640 640 ...,  79  79  79]\n",
      "[1076 1077 1078 ..., 1048 1049 1050]\n",
      "[640 640 640 ...,  77  77  77]\n"
     ]
    },
    {
     "name": "stderr",
     "output_type": "stream",
     "text": [
      "\r",
      " 26%|██▌       | 326/1261 [02:05<05:47,  2.69it/s]"
     ]
    },
    {
     "name": "stdout",
     "output_type": "stream",
     "text": [
      "[298 299 300 ..., 351 352 353]\n",
      "[640 640 640 ...,  79  79  79]\n",
      "[1081 1082 1083 ..., 1059 1060 1061]\n",
      "[640 640 640 ...,  79  79  79]\n"
     ]
    },
    {
     "name": "stderr",
     "output_type": "stream",
     "text": [
      "\r",
      " 26%|██▌       | 327/1261 [02:05<05:57,  2.61it/s]"
     ]
    },
    {
     "name": "stdout",
     "output_type": "stream",
     "text": [
      "[298 299 300 ..., 340 341 342]\n",
      "[640 640 640 ...,  79  79  79]\n",
      "[1086 1087 1088 ..., 1077 1078 1079]\n",
      "[667 667 667 ...,  79  79  79]\n"
     ]
    },
    {
     "name": "stderr",
     "output_type": "stream",
     "text": [
      "\r",
      " 26%|██▌       | 328/1261 [02:05<06:06,  2.55it/s]"
     ]
    },
    {
     "name": "stdout",
     "output_type": "stream",
     "text": [
      "[295 296 297 ..., 351 352 353]\n",
      "[640 640 640 ...,  79  79  79]\n",
      "[1086 1087 1088 ..., 1083 1084 1085]\n",
      "[697 697 697 ...,  79  79  79]\n"
     ]
    },
    {
     "name": "stderr",
     "output_type": "stream",
     "text": [
      "\r",
      " 26%|██▌       | 329/1261 [02:06<05:48,  2.67it/s]"
     ]
    },
    {
     "name": "stdout",
     "output_type": "stream",
     "text": [
      "[298 299 300 ..., 334 335 336]\n",
      "[640 640 640 ...,  79  79  79]\n",
      "[1095 1096 1097 ..., 1100 1101 1102]\n",
      "[592 592 592 ...,  79  79  79]\n"
     ]
    },
    {
     "name": "stderr",
     "output_type": "stream",
     "text": [
      "\r",
      " 26%|██▌       | 330/1261 [02:06<05:38,  2.75it/s]"
     ]
    },
    {
     "name": "stdout",
     "output_type": "stream",
     "text": [
      "[293 294 295 ..., 346 347 348]\n",
      "[640 640 640 ...,  79  79  79]\n",
      "[1096 1097 1098 ..., 1088 1089 1090]\n",
      "[623 623 623 ...,  79  79  79]\n"
     ]
    },
    {
     "name": "stderr",
     "output_type": "stream",
     "text": [
      "\r",
      " 26%|██▌       | 331/1261 [02:06<05:30,  2.82it/s]"
     ]
    },
    {
     "name": "stdout",
     "output_type": "stream",
     "text": [
      "[293 294 295 ..., 346 347 348]\n",
      "[640 640 640 ...,  79  79  79]\n",
      "[1094 1095 1096 ..., 1089 1090 1091]\n",
      "[654 654 654 ..., 159 159 159]\n"
     ]
    },
    {
     "name": "stderr",
     "output_type": "stream",
     "text": [
      "\r",
      " 26%|██▋       | 332/1261 [02:07<05:27,  2.84it/s]"
     ]
    },
    {
     "name": "stdout",
     "output_type": "stream",
     "text": [
      "[296 297 298 ..., 346 347 348]\n",
      "[640 640 640 ...,  79  79  79]\n",
      "[1081 1082 1083 ..., 1073 1074 1075]\n",
      "[685 685 685 ..., 159 159 159]\n"
     ]
    },
    {
     "name": "stderr",
     "output_type": "stream",
     "text": [
      "\r",
      " 26%|██▋       | 333/1261 [02:07<05:23,  2.87it/s]"
     ]
    },
    {
     "name": "stdout",
     "output_type": "stream",
     "text": [
      "[298 299 300 ..., 351 352 353]\n",
      "[640 640 640 ...,  79  79  79]\n",
      "[1090 1091 1092 ..., 1028 1029 1030]\n",
      "[716 716 716 ...,  20  20  20]\n"
     ]
    },
    {
     "name": "stderr",
     "output_type": "stream",
     "text": [
      "\r",
      " 26%|██▋       | 334/1261 [02:07<05:25,  2.85it/s]"
     ]
    },
    {
     "name": "stdout",
     "output_type": "stream",
     "text": [
      "[296 297 298 ..., 363 364 365]\n",
      "[640 640 640 ...,  79  79  79]\n",
      "[1071 1072 1073 ..., 1031 1032 1033]\n",
      "[560 560 560 ...,  40  40  40]\n"
     ]
    },
    {
     "name": "stderr",
     "output_type": "stream",
     "text": [
      "\r",
      " 27%|██▋       | 335/1261 [02:08<05:25,  2.84it/s]"
     ]
    },
    {
     "name": "stdout",
     "output_type": "stream",
     "text": [
      "[298 299 300 ..., 363 364 365]\n",
      "[640 640 640 ...,  79  79  79]\n",
      "[1079 1080 1081 ..., 1034 1035 1036]\n",
      "[640 640 640 ...,  59  59  59]\n"
     ]
    },
    {
     "name": "stderr",
     "output_type": "stream",
     "text": [
      "\r",
      " 27%|██▋       | 336/1261 [02:08<06:22,  2.42it/s]"
     ]
    },
    {
     "name": "stdout",
     "output_type": "stream",
     "text": [
      "[296 297 298 ..., 363 364 365]\n",
      "[640 640 640 ...,  79  79  79]\n",
      "[1084 1085 1086 ..., 1062 1063 1064]\n",
      "[640 640 640 ...,  40  40  40]\n"
     ]
    },
    {
     "name": "stderr",
     "output_type": "stream",
     "text": [
      "\r",
      " 27%|██▋       | 337/1261 [02:09<09:02,  1.70it/s]"
     ]
    },
    {
     "name": "stdout",
     "output_type": "stream",
     "text": [
      "[300 301 302 ..., 363 364 365]\n",
      "[640 640 640 ...,  79  79  79]\n",
      "[1086 1087 1088 ..., 1054 1055 1056]\n",
      "[640 640 640 ...,  77  77  77]\n"
     ]
    },
    {
     "name": "stderr",
     "output_type": "stream",
     "text": [
      "\r",
      " 27%|██▋       | 338/1261 [02:10<08:00,  1.92it/s]"
     ]
    },
    {
     "name": "stdout",
     "output_type": "stream",
     "text": [
      "[298 299 300 ..., 363 364 365]\n",
      "[640 640 640 ...,  79  79  79]\n",
      "[1086 1087 1088 ..., 1071 1072 1073]\n",
      "[640 640 640 ...,  79  79  79]\n"
     ]
    },
    {
     "name": "stderr",
     "output_type": "stream",
     "text": [
      "\r",
      " 27%|██▋       | 339/1261 [02:10<07:21,  2.09it/s]"
     ]
    },
    {
     "name": "stdout",
     "output_type": "stream",
     "text": [
      "[295 296 297 ..., 357 358 359]\n",
      "[640 640 640 ...,  79  79  79]\n",
      "[1094 1095 1096 ..., 1088 1089 1090]\n",
      "[663 663 663 ...,  79  79  79]\n"
     ]
    },
    {
     "name": "stderr",
     "output_type": "stream",
     "text": [
      "\r",
      " 27%|██▋       | 340/1261 [02:10<06:38,  2.31it/s]"
     ]
    },
    {
     "name": "stdout",
     "output_type": "stream",
     "text": [
      "[296 297 298 ..., 375 376 377]\n",
      "[640 640 640 ...,  79  79  79]\n",
      "[1095 1096 1097 ..., 1083 1084 1085]\n",
      "[694 694 694 ...,  79  79  79]\n"
     ]
    },
    {
     "name": "stderr",
     "output_type": "stream",
     "text": [
      "\r",
      " 27%|██▋       | 341/1261 [02:11<06:17,  2.44it/s]"
     ]
    },
    {
     "name": "stdout",
     "output_type": "stream",
     "text": [
      "[298 299 300 ..., 375 376 377]\n",
      "[640 640 640 ...,  79  79  79]\n",
      "[1098 1099 1100 ..., 1088 1089 1090]\n",
      "[597 597 597 ...,  79  79  79]\n"
     ]
    },
    {
     "name": "stderr",
     "output_type": "stream",
     "text": [
      "\r",
      " 27%|██▋       | 342/1261 [02:11<06:02,  2.53it/s]"
     ]
    },
    {
     "name": "stdout",
     "output_type": "stream",
     "text": [
      "[301 302 303 ..., 387 388 389]\n",
      "[640 640 640 ...,  79  79  79]\n",
      "[1092 1093 1094 ..., 1078 1079 1080]\n",
      "[629 629 629 ..., 159 159 159]\n"
     ]
    },
    {
     "name": "stderr",
     "output_type": "stream",
     "text": [
      "\r",
      " 27%|██▋       | 343/1261 [02:11<05:50,  2.62it/s]"
     ]
    },
    {
     "name": "stdout",
     "output_type": "stream",
     "text": [
      "[303 304 305 ..., 375 376 377]\n",
      "[640 640 640 ...,  79  79  79]\n",
      "[1097 1098 1099 ..., 1084 1085 1086]\n",
      "[657 657 657 ..., 159 159 159]\n"
     ]
    },
    {
     "name": "stderr",
     "output_type": "stream",
     "text": [
      "\r",
      " 27%|██▋       | 344/1261 [02:12<05:49,  2.62it/s]"
     ]
    },
    {
     "name": "stdout",
     "output_type": "stream",
     "text": [
      "[300 301 302 ..., 363 364 365]\n",
      "[640 640 640 ...,  79  79  79]\n",
      "[1100 1101 1102 ..., 1089 1090 1091]\n",
      "[686 686 686 ..., 159 159 159]\n"
     ]
    },
    {
     "name": "stderr",
     "output_type": "stream",
     "text": [
      "\r",
      " 27%|██▋       | 345/1261 [02:12<06:01,  2.53it/s]"
     ]
    },
    {
     "name": "stdout",
     "output_type": "stream",
     "text": [
      "[300 301 302 ..., 363 364 365]\n",
      "[640 640 640 ...,  79  79  79]\n",
      "[1087 1088 1089 ..., 1094 1095 1096]\n",
      "[716 716 716 ..., 159 159 159]\n"
     ]
    },
    {
     "name": "stderr",
     "output_type": "stream",
     "text": [
      "\r",
      " 27%|██▋       | 346/1261 [02:13<05:47,  2.63it/s]"
     ]
    },
    {
     "name": "stdout",
     "output_type": "stream",
     "text": [
      "[298 299 300 ..., 357 358 359]\n",
      "[640 640 640 ...,  79  79  79]\n",
      "[1080 1081 1082 ..., 1097 1098 1099]\n",
      "[560 560 560 ..., 239 239 239]\n"
     ]
    },
    {
     "name": "stderr",
     "output_type": "stream",
     "text": [
      "\r",
      " 28%|██▊       | 347/1261 [02:13<05:40,  2.68it/s]"
     ]
    },
    {
     "name": "stdout",
     "output_type": "stream",
     "text": [
      "[300 301 302 ..., 363 364 365]\n",
      "[640 640 640 ...,  79  79  79]\n",
      "[1083 1084 1085 ..., 1060 1061 1062]\n",
      "[640 640 640 ...,  20  20  20]\n"
     ]
    },
    {
     "name": "stderr",
     "output_type": "stream",
     "text": [
      "\r",
      " 28%|██▊       | 348/1261 [02:13<05:29,  2.77it/s]"
     ]
    },
    {
     "name": "stdout",
     "output_type": "stream",
     "text": [
      "[300 301 302 ..., 351 352 353]\n",
      "[640 640 640 ...,  79  79  79]\n",
      "[1084 1085 1086 ..., 1079 1080 1081]\n",
      "[640 640 640 ...,  20  20  20]\n"
     ]
    },
    {
     "name": "stderr",
     "output_type": "stream",
     "text": [
      "\r",
      " 28%|██▊       | 349/1261 [02:14<05:21,  2.84it/s]"
     ]
    },
    {
     "name": "stdout",
     "output_type": "stream",
     "text": [
      "[300 301 302 ..., 357 358 359]\n",
      "[640 640 640 ...,  79  79  79]\n",
      "[1084 1085 1086 ..., 1070 1071 1072]\n",
      "[640 640 640 ...,  59  59  59]\n"
     ]
    },
    {
     "name": "stderr",
     "output_type": "stream",
     "text": [
      "\r",
      " 28%|██▊       | 350/1261 [02:14<05:15,  2.88it/s]"
     ]
    },
    {
     "name": "stdout",
     "output_type": "stream",
     "text": [
      "[298 299 300 ..., 351 352 353]\n",
      "[640 640 640 ...,  79  79  79]\n",
      "[1086 1087 1088 ..., 1078 1079 1080]\n",
      "[640 640 640 ...,  77  77  77]\n"
     ]
    },
    {
     "name": "stderr",
     "output_type": "stream",
     "text": [
      "\r",
      " 28%|██▊       | 351/1261 [02:14<05:17,  2.86it/s]"
     ]
    },
    {
     "name": "stdout",
     "output_type": "stream",
     "text": [
      "[298 299 300 ..., 351 352 353]\n",
      "[640 640 640 ...,  79  79  79]\n",
      "[1104 1105 1106 ..., 1094 1095 1096]\n",
      "[659 659 659 ...,  79  79  79]\n"
     ]
    },
    {
     "name": "stderr",
     "output_type": "stream",
     "text": [
      "\r",
      " 28%|██▊       | 352/1261 [02:15<05:11,  2.92it/s]"
     ]
    },
    {
     "name": "stdout",
     "output_type": "stream",
     "text": [
      "[300 301 302 ..., 351 352 353]\n",
      "[640 640 640 ...,  79  79  79]\n",
      "[1095 1096 1097 ..., 1106 1107 1108]\n",
      "[689 689 689 ...,  79  79  79]\n"
     ]
    },
    {
     "name": "stderr",
     "output_type": "stream",
     "text": [
      "\r",
      " 28%|██▊       | 353/1261 [02:15<05:13,  2.90it/s]"
     ]
    },
    {
     "name": "stdout",
     "output_type": "stream",
     "text": [
      "[295 296 297 ..., 357 358 359]\n",
      "[640 640 640 ...,  79  79  79]\n",
      "[1095 1096 1097 ..., 1118 1119 1120]\n",
      "[719 719 719 ...,  79  79  79]\n"
     ]
    },
    {
     "name": "stderr",
     "output_type": "stream",
     "text": [
      "\r",
      " 28%|██▊       | 354/1261 [02:15<05:07,  2.95it/s]"
     ]
    },
    {
     "name": "stdout",
     "output_type": "stream",
     "text": [
      "[295 296 297 ..., 351 352 353]\n",
      "[640 640 640 ...,  79  79  79]\n",
      "[1103 1104 1105 ..., 1112 1113 1114]\n",
      "[621 621 621 ...,  79  79  79]\n"
     ]
    },
    {
     "name": "stderr",
     "output_type": "stream",
     "text": [
      "\r",
      " 28%|██▊       | 355/1261 [02:16<05:12,  2.90it/s]"
     ]
    },
    {
     "name": "stdout",
     "output_type": "stream",
     "text": [
      "[293 294 295 ..., 340 341 342]\n",
      "[640 640 640 ...,  79  79  79]\n",
      "[1104 1105 1106 ..., 1112 1113 1114]\n",
      "[651 651 651 ...,  79  79  79]\n"
     ]
    },
    {
     "name": "stderr",
     "output_type": "stream",
     "text": [
      "\r",
      " 28%|██▊       | 356/1261 [02:16<05:09,  2.92it/s]"
     ]
    },
    {
     "name": "stdout",
     "output_type": "stream",
     "text": [
      "[293 294 295 ..., 340 341 342]\n",
      "[640 640 640 ...,  79  79  79]\n",
      "[1093 1094 1095 ..., 1115 1116 1117]\n",
      "[680 680 680 ..., 159 159 159]\n"
     ]
    },
    {
     "name": "stderr",
     "output_type": "stream",
     "text": [
      "\r",
      " 28%|██▊       | 357/1261 [02:16<05:07,  2.94it/s]"
     ]
    },
    {
     "name": "stdout",
     "output_type": "stream",
     "text": [
      "[296 297 298 ..., 351 352 353]\n",
      "[640 640 640 ...,  79  79  79]\n",
      "[1089 1090 1091 ..., 1105 1106 1107]\n",
      "[711 711 711 ..., 159 159 159]\n"
     ]
    },
    {
     "name": "stderr",
     "output_type": "stream",
     "text": [
      "\r",
      " 28%|██▊       | 358/1261 [02:17<05:07,  2.94it/s]"
     ]
    },
    {
     "name": "stdout",
     "output_type": "stream",
     "text": [
      "[296 297 298 ..., 346 347 348]\n",
      "[640 640 640 ...,  79  79  79]\n",
      "[1080 1081 1082 ..., 1107 1108 1109]\n",
      "[560 560 560 ..., 239 239 239]\n"
     ]
    },
    {
     "name": "stderr",
     "output_type": "stream",
     "text": [
      "\r",
      " 28%|██▊       | 359/1261 [02:17<05:10,  2.90it/s]"
     ]
    },
    {
     "name": "stdout",
     "output_type": "stream",
     "text": [
      "[300 301 302 ..., 351 352 353]\n",
      "[640 640 640 ...,  79  79  79]\n",
      "[1083 1084 1085 ..., 1066 1067 1068]\n",
      "[640 640 640 ...,  20  20  20]\n"
     ]
    },
    {
     "name": "stderr",
     "output_type": "stream",
     "text": [
      "\r",
      " 29%|██▊       | 360/1261 [02:17<05:12,  2.88it/s]"
     ]
    },
    {
     "name": "stdout",
     "output_type": "stream",
     "text": [
      "[301 302 303 ..., 351 352 353]\n",
      "[640 640 640 ...,  79  79  79]\n",
      "[1083 1084 1085 ..., 1074 1075 1076]\n",
      "[640 640 640 ...,  40  40  40]\n"
     ]
    },
    {
     "name": "stderr",
     "output_type": "stream",
     "text": [
      "\r",
      " 29%|██▊       | 361/1261 [02:18<05:14,  2.86it/s]"
     ]
    },
    {
     "name": "stdout",
     "output_type": "stream",
     "text": [
      "[301 302 303 ..., 363 364 365]\n",
      "[640 640 640 ...,  79  79  79]\n",
      "[1084 1085 1086 ..., 1076 1077 1078]\n",
      "[640 640 640 ...,  59  59  59]\n"
     ]
    },
    {
     "name": "stderr",
     "output_type": "stream",
     "text": [
      "\r",
      " 29%|██▊       | 362/1261 [02:18<05:27,  2.74it/s]"
     ]
    },
    {
     "name": "stdout",
     "output_type": "stream",
     "text": [
      "[303 304 305 ..., 363 364 365]\n",
      "[640 640 640 ...,  79  79  79]\n",
      "[1081 1082 1083 ..., 1083 1084 1085]\n",
      "[640 640 640 ...,  79  79  79]\n"
     ]
    },
    {
     "name": "stderr",
     "output_type": "stream",
     "text": [
      "\r",
      " 29%|██▉       | 363/1261 [02:19<06:07,  2.44it/s]"
     ]
    },
    {
     "name": "stdout",
     "output_type": "stream",
     "text": [
      "[305 306 307 ..., 369 370 371]\n",
      "[640 640 640 ...,  79  79  79]\n",
      "[1095 1096 1097 ..., 1100 1101 1102]\n",
      "[665 665 665 ...,  79  79  79]\n"
     ]
    },
    {
     "name": "stderr",
     "output_type": "stream",
     "text": [
      "\r",
      " 29%|██▉       | 364/1261 [02:19<06:04,  2.46it/s]"
     ]
    },
    {
     "name": "stdout",
     "output_type": "stream",
     "text": [
      "[308 309 310 ..., 381 382 383]\n",
      "[640 640 640 ...,  79  79  79]\n",
      "[1092 1093 1094 ..., 1088 1089 1090]\n",
      "[696 696 696 ...,  79  79  79]\n"
     ]
    },
    {
     "name": "stderr",
     "output_type": "stream",
     "text": [
      "\r",
      " 29%|██▉       | 365/1261 [02:20<06:28,  2.31it/s]"
     ]
    },
    {
     "name": "stdout",
     "output_type": "stream",
     "text": [
      "[308 309 310 ..., 369 370 371]\n",
      "[640 640 640 ...,  79  79  79]\n",
      "[1097 1098 1099 ..., 1094 1095 1096]\n",
      "[594 594 594 ...,  79  79  79]\n"
     ]
    },
    {
     "name": "stderr",
     "output_type": "stream",
     "text": [
      "\r",
      " 29%|██▉       | 366/1261 [02:20<06:22,  2.34it/s]"
     ]
    },
    {
     "name": "stdout",
     "output_type": "stream",
     "text": [
      "[309 310 311 ..., 381 382 383]\n",
      "[640 640 640 ...,  79  79  79]\n",
      "[1101 1102 1103 ..., 1094 1095 1096]\n",
      "[623 623 623 ..., 159 159 159]\n"
     ]
    },
    {
     "name": "stderr",
     "output_type": "stream",
     "text": [
      "\r",
      " 29%|██▉       | 367/1261 [02:20<06:03,  2.46it/s]"
     ]
    },
    {
     "name": "stdout",
     "output_type": "stream",
     "text": [
      "[308 309 310 ..., 387 388 389]\n",
      "[640 640 640 ...,  79  79  79]\n",
      "[1104 1105 1106 ..., 1100 1101 1102]\n",
      "[652 652 652 ..., 159 159 159]\n"
     ]
    },
    {
     "name": "stderr",
     "output_type": "stream",
     "text": [
      "\r",
      " 29%|██▉       | 368/1261 [02:21<05:57,  2.49it/s]"
     ]
    },
    {
     "name": "stdout",
     "output_type": "stream",
     "text": [
      "[306 307 308 ..., 375 376 377]\n",
      "[640 640 640 ...,  79  79  79]\n",
      "[1106 1107 1108 ..., 1105 1106 1107]\n",
      "[682 682 682 ..., 159 159 159]\n"
     ]
    },
    {
     "name": "stderr",
     "output_type": "stream",
     "text": [
      "\r",
      " 29%|██▉       | 369/1261 [02:21<05:58,  2.49it/s]"
     ]
    },
    {
     "name": "stdout",
     "output_type": "stream",
     "text": [
      "[306 307 308 ..., 375 376 377]\n",
      "[640 640 640 ...,  79  79  79]\n",
      "[1082 1083 1084 ..., 1093 1094 1095]\n",
      "[712 712 712 ..., 239 239 239]\n"
     ]
    },
    {
     "name": "stderr",
     "output_type": "stream",
     "text": [
      "\r",
      " 29%|██▉       | 370/1261 [02:22<06:00,  2.47it/s]"
     ]
    },
    {
     "name": "stdout",
     "output_type": "stream",
     "text": [
      "[305 306 307 ..., 375 376 377]\n",
      "[640 640 640 ...,  79  79  79]\n",
      "[1078 1079 1080 ..., 1097 1098 1099]\n",
      "[560 560 560 ..., 239 239 239]\n"
     ]
    },
    {
     "name": "stderr",
     "output_type": "stream",
     "text": [
      "\r",
      " 29%|██▉       | 371/1261 [02:22<05:52,  2.53it/s]"
     ]
    },
    {
     "name": "stdout",
     "output_type": "stream",
     "text": [
      "[303 304 305 ..., 375 376 377]\n",
      "[640 640 640 ...,  79  79  79]\n",
      "[1081 1082 1083 ..., 1068 1069 1070]\n",
      "[640 640 640 ...,  40  40  40]\n"
     ]
    },
    {
     "name": "stderr",
     "output_type": "stream",
     "text": [
      "\r",
      " 30%|██▉       | 372/1261 [02:22<05:40,  2.61it/s]"
     ]
    },
    {
     "name": "stdout",
     "output_type": "stream",
     "text": [
      "[300 301 302 ..., 375 376 377]\n",
      "[640 640 640 ...,  79  79  79]\n",
      "[1081 1082 1083 ..., 1070 1071 1072]\n",
      "[640 640 640 ...,  59  59  59]\n"
     ]
    },
    {
     "name": "stderr",
     "output_type": "stream",
     "text": [
      "\r",
      " 30%|██▉       | 373/1261 [02:23<05:53,  2.51it/s]"
     ]
    },
    {
     "name": "stdout",
     "output_type": "stream",
     "text": [
      "[295 296 297 ..., 375 376 377]\n",
      "[640 640 640 ...,  79  79  79]\n",
      "[1083 1084 1085 ..., 1082 1083 1084]\n",
      "[640 640 640 ...,  59  59  59]\n"
     ]
    },
    {
     "name": "stderr",
     "output_type": "stream",
     "text": [
      "\r",
      " 30%|██▉       | 374/1261 [02:23<05:50,  2.53it/s]"
     ]
    },
    {
     "name": "stdout",
     "output_type": "stream",
     "text": [
      "[293 294 295 ..., 375 376 377]\n",
      "[640 640 640 ...,  79  79  79]\n",
      "[1081 1082 1083 ..., 1088 1089 1090]\n",
      "[640 640 640 ...,  79  79  79]\n"
     ]
    },
    {
     "name": "stderr",
     "output_type": "stream",
     "text": [
      "\r",
      " 30%|██▉       | 375/1261 [02:23<05:38,  2.61it/s]"
     ]
    },
    {
     "name": "stdout",
     "output_type": "stream",
     "text": [
      "[293 294 295 ..., 387 388 389]\n",
      "[640 640 640 ...,  79  79  79]\n",
      "[1091 1092 1093 ..., 1094 1095 1096]\n",
      "[666 666 666 ...,  79  79  79]\n"
     ]
    },
    {
     "name": "stderr",
     "output_type": "stream",
     "text": [
      "\r",
      " 30%|██▉       | 376/1261 [02:24<05:33,  2.66it/s]"
     ]
    },
    {
     "name": "stdout",
     "output_type": "stream",
     "text": [
      "[293 294 295 ..., 381 382 383]\n",
      "[640 640 640 ...,  79  79  79]\n",
      "[1080 1081 1082 ..., 1083 1084 1085]\n",
      "[697 697 697 ...,  79  79  79]\n"
     ]
    },
    {
     "name": "stderr",
     "output_type": "stream",
     "text": [
      "\r",
      " 30%|██▉       | 377/1261 [02:24<05:29,  2.68it/s]"
     ]
    },
    {
     "name": "stdout",
     "output_type": "stream",
     "text": [
      "[295 296 297 ..., 381 382 383]\n",
      "[640 640 640 ...,  79  79  79]\n",
      "[1090 1091 1092 ..., 1088 1089 1090]\n",
      "[599 599 599 ...,  79  79  79]\n"
     ]
    },
    {
     "name": "stderr",
     "output_type": "stream",
     "text": [
      "\r",
      " 30%|██▉       | 378/1261 [02:25<05:23,  2.73it/s]"
     ]
    },
    {
     "name": "stdout",
     "output_type": "stream",
     "text": [
      "[295 296 297 ..., 381 382 383]\n",
      "[640 640 640 ...,  79  79  79]\n",
      "[1091 1092 1093 ..., 1084 1085 1086]\n",
      "[628 628 628 ..., 159 159 159]\n"
     ]
    },
    {
     "name": "stderr",
     "output_type": "stream",
     "text": [
      "\r",
      " 30%|███       | 379/1261 [02:25<05:17,  2.78it/s]"
     ]
    },
    {
     "name": "stdout",
     "output_type": "stream",
     "text": [
      "[292 293 294 ..., 369 370 371]\n",
      "[640 640 640 ...,  79  79  79]\n",
      "[1095 1096 1097 ..., 1089 1090 1091]\n",
      "[656 656 656 ..., 159 159 159]\n"
     ]
    },
    {
     "name": "stderr",
     "output_type": "stream",
     "text": [
      "\r",
      " 30%|███       | 380/1261 [02:25<05:12,  2.82it/s]"
     ]
    },
    {
     "name": "stdout",
     "output_type": "stream",
     "text": [
      "[292 293 294 ..., 375 376 377]\n",
      "[640 640 640 ...,  79  79  79]\n",
      "[1086 1087 1083 ..., 1100 1101 1102]\n",
      "[682 682 683 ..., 159 159 159]\n"
     ]
    },
    {
     "name": "stderr",
     "output_type": "stream",
     "text": [
      "\r",
      " 30%|███       | 381/1261 [02:26<05:13,  2.81it/s]"
     ]
    },
    {
     "name": "stdout",
     "output_type": "stream",
     "text": [
      "[292 293 294 ..., 369 370 371]\n",
      "[640 640 640 ...,  79  79  79]\n",
      "[1089 1090 1086 ..., 1105 1106 1107]\n",
      "[711 711 712 ..., 159 159 159]\n"
     ]
    },
    {
     "name": "stderr",
     "output_type": "stream",
     "text": [
      "\r",
      " 30%|███       | 382/1261 [02:26<05:19,  2.75it/s]"
     ]
    },
    {
     "name": "stdout",
     "output_type": "stream",
     "text": [
      "[290 291 292 ..., 369 370 371]\n",
      "[640 640 640 ...,  79  79  79]\n",
      "[1076 1077 1078 ..., 1102 1103 1104]\n",
      "[560 560 560 ..., 239 239 239]\n"
     ]
    },
    {
     "name": "stderr",
     "output_type": "stream",
     "text": [
      "\r",
      " 30%|███       | 383/1261 [02:26<05:19,  2.75it/s]"
     ]
    },
    {
     "name": "stdout",
     "output_type": "stream",
     "text": [
      "[292 293 294 ..., 375 376 377]\n",
      "[640 640 640 ...,  79  79  79]\n",
      "[1081 1082 1083 ..., 1072 1073 1074]\n",
      "[640 640 640 ...,  20  20  20]\n"
     ]
    },
    {
     "name": "stderr",
     "output_type": "stream",
     "text": [
      "\r",
      " 30%|███       | 384/1261 [02:27<05:16,  2.77it/s]"
     ]
    },
    {
     "name": "stdout",
     "output_type": "stream",
     "text": [
      "[293 294 295 ..., 375 376 377]\n",
      "[640 640 640 ...,  79  79  79]\n",
      "[1081 1082 1083 ..., 1074 1075 1076]\n",
      "[640 640 640 ...,  40  40  40]\n"
     ]
    },
    {
     "name": "stderr",
     "output_type": "stream",
     "text": [
      "\r",
      " 31%|███       | 385/1261 [02:27<05:24,  2.70it/s]"
     ]
    },
    {
     "name": "stdout",
     "output_type": "stream",
     "text": [
      "[293 294 295 ..., 375 376 377]\n",
      "[640 640 640 ...,  79  79  79]\n",
      "[1081 1082 1083 ..., 1076 1077 1078]\n",
      "[640 640 640 ...,  59  59  59]\n"
     ]
    },
    {
     "name": "stderr",
     "output_type": "stream",
     "text": [
      "\r",
      " 31%|███       | 386/1261 [02:27<05:17,  2.75it/s]"
     ]
    },
    {
     "name": "stdout",
     "output_type": "stream",
     "text": [
      "[293 294 295 ..., 375 376 377]\n",
      "[640 640 640 ...,  79  79  79]\n",
      "[1081 1082 1083 ..., 1084 1085 1086]\n",
      "[640 640 640 ...,  77  77  77]\n"
     ]
    },
    {
     "name": "stderr",
     "output_type": "stream",
     "text": [
      "\r",
      " 31%|███       | 387/1261 [02:28<05:25,  2.69it/s]"
     ]
    },
    {
     "name": "stdout",
     "output_type": "stream",
     "text": [
      "[293 294 295 ..., 375 376 377]\n",
      "[640 640 640 ...,  79  79  79]\n",
      "[1089 1090 1091 ..., 1094 1095 1096]\n",
      "[659 659 659 ...,  79  79  79]\n"
     ]
    },
    {
     "name": "stderr",
     "output_type": "stream",
     "text": [
      "\r",
      " 31%|███       | 388/1261 [02:28<05:18,  2.74it/s]"
     ]
    },
    {
     "name": "stdout",
     "output_type": "stream",
     "text": [
      "[295 296 297 ..., 363 364 365]\n",
      "[640 640 640 ...,  79  79  79]\n",
      "[1088 1089 1090 ..., 1106 1107 1108]\n",
      "[689 689 689 ...,  79  79  79]\n"
     ]
    },
    {
     "name": "stderr",
     "output_type": "stream",
     "text": [
      "\r",
      " 31%|███       | 389/1261 [02:29<05:15,  2.77it/s]"
     ]
    },
    {
     "name": "stdout",
     "output_type": "stream",
     "text": [
      "[293 294 295 ..., 346 347 348]\n",
      "[640 640 640 ...,  79  79  79]\n",
      "[1091 1092 1093 ..., 1112 1113 1114]\n",
      "[718 718 718 ...,  79  79  79]\n"
     ]
    },
    {
     "name": "stderr",
     "output_type": "stream",
     "text": [
      "\r",
      " 31%|███       | 390/1261 [02:29<05:06,  2.84it/s]"
     ]
    },
    {
     "name": "stdout",
     "output_type": "stream",
     "text": [
      "[293 294 295 ..., 346 347 348]\n",
      "[640 640 640 ...,  79  79  79]\n",
      "[1096 1097 1098 ..., 1118 1119 1120]\n",
      "[621 621 621 ...,  79  79  79]\n"
     ]
    },
    {
     "name": "stderr",
     "output_type": "stream",
     "text": [
      "\r",
      " 31%|███       | 391/1261 [02:29<05:06,  2.84it/s]"
     ]
    },
    {
     "name": "stdout",
     "output_type": "stream",
     "text": [
      "[293 294 295 ..., 340 341 342]\n",
      "[640 640 640 ...,  79  79  79]\n",
      "[1098 1099 1100 ..., 1112 1113 1114]\n",
      "[651 651 651 ...,  79  79  79]\n"
     ]
    },
    {
     "name": "stderr",
     "output_type": "stream",
     "text": [
      "\r",
      " 31%|███       | 392/1261 [02:30<05:00,  2.89it/s]"
     ]
    },
    {
     "name": "stdout",
     "output_type": "stream",
     "text": [
      "[292 293 294 ..., 334 335 336]\n",
      "[640 640 640 ...,  79  79  79]\n",
      "[1099 1100 1101 ..., 1112 1113 1114]\n",
      "[681 681 681 ...,  79  79  79]\n"
     ]
    },
    {
     "name": "stderr",
     "output_type": "stream",
     "text": [
      "\r",
      " 31%|███       | 393/1261 [02:30<05:10,  2.80it/s]"
     ]
    },
    {
     "name": "stdout",
     "output_type": "stream",
     "text": [
      "[295 296 297 ..., 340 341 342]\n",
      "[640 640 640 ...,  79  79  79]\n",
      "[1086 1087 1085 ..., 1105 1106 1107]\n",
      "[710 710 712 ..., 159 159 159]\n"
     ]
    },
    {
     "name": "stderr",
     "output_type": "stream",
     "text": [
      "\r",
      " 31%|███       | 394/1261 [02:30<05:08,  2.81it/s]"
     ]
    },
    {
     "name": "stdout",
     "output_type": "stream",
     "text": [
      "[292 293 294 ..., 328 329 330]\n",
      "[640 640 640 ...,  79  79  79]\n",
      "[1073 1074 1075 ..., 1105 1106 1107]\n",
      "[560 560 560 ..., 159 159 159]\n"
     ]
    },
    {
     "name": "stderr",
     "output_type": "stream",
     "text": [
      "\r",
      " 31%|███▏      | 395/1261 [02:31<05:12,  2.77it/s]"
     ]
    },
    {
     "name": "stdout",
     "output_type": "stream",
     "text": [
      "[292 293 294 ..., 334 335 336]\n",
      "[640 640 640 ...,  79  79  79]\n",
      "[1076 1077 1078 ..., 1097 1098 1099]\n",
      "[640 640 640 ..., 239 239 239]\n"
     ]
    },
    {
     "name": "stderr",
     "output_type": "stream",
     "text": [
      "\r",
      " 31%|███▏      | 396/1261 [02:31<05:07,  2.81it/s]"
     ]
    },
    {
     "name": "stdout",
     "output_type": "stream",
     "text": [
      "[292 293 294 ..., 328 329 330]\n",
      "[640 640 640 ...,  79  79  79]\n",
      "[1076 1077 1078 ..., 1097 1098 1099]\n",
      "[640 640 640 ..., 239 239 239]\n"
     ]
    },
    {
     "name": "stderr",
     "output_type": "stream",
     "text": [
      "\r",
      " 31%|███▏      | 397/1261 [02:31<05:05,  2.83it/s]"
     ]
    },
    {
     "name": "stdout",
     "output_type": "stream",
     "text": [
      "[287 288 289 ..., 322 323 324]\n",
      "[640 640 640 ...,  79  79  79]\n",
      "[1076 1077 1078 ..., 1097 1098 1099]\n",
      "[640 640 640 ..., 239 239 239]\n"
     ]
    },
    {
     "name": "stderr",
     "output_type": "stream",
     "text": [
      "\r",
      " 32%|███▏      | 398/1261 [02:32<05:01,  2.87it/s]"
     ]
    },
    {
     "name": "stdout",
     "output_type": "stream",
     "text": [
      "[287 288 289 ..., 316 317 318]\n",
      "[640 640 640 ...,  79  79  79]\n",
      "[1076 1077 1078 ..., 1080 1081 1082]\n",
      "[640 640 640 ...,  40  40  40]\n"
     ]
    },
    {
     "name": "stderr",
     "output_type": "stream",
     "text": [
      "\r",
      " 32%|███▏      | 399/1261 [02:32<04:59,  2.88it/s]"
     ]
    },
    {
     "name": "stdout",
     "output_type": "stream",
     "text": [
      "[284 285 286 ..., 310 311 312]\n",
      "[640 640 640 ...,  79  79  79]\n",
      "[1084 1085 1086 ..., 1082 1083 1084]\n",
      "[658 658 658 ...,  59  59  59]\n"
     ]
    },
    {
     "name": "stderr",
     "output_type": "stream",
     "text": [
      "\r",
      " 32%|███▏      | 400/1261 [02:32<05:02,  2.85it/s]"
     ]
    },
    {
     "name": "stdout",
     "output_type": "stream",
     "text": [
      "[284 285 286 ..., 316 317 318]\n",
      "[640 640 640 ...,  79  79  79]\n",
      "[1093 1094 1095 ..., 1088 1089 1090]\n",
      "[688 688 688 ...,  79  79  79]\n"
     ]
    },
    {
     "name": "stderr",
     "output_type": "stream",
     "text": [
      "\r",
      " 32%|███▏      | 401/1261 [02:33<05:00,  2.86it/s]"
     ]
    },
    {
     "name": "stdout",
     "output_type": "stream",
     "text": [
      "[282 283 284 ..., 292 293 294]\n",
      "[640 640 640 ...,  79  79  79]\n",
      "[1086 1087 1088 ..., 1106 1107 1108]\n",
      "[718 718 718 ...,  79  79  79]\n"
     ]
    },
    {
     "name": "stderr",
     "output_type": "stream",
     "text": [
      "\r",
      " 32%|███▏      | 402/1261 [02:33<05:06,  2.80it/s]"
     ]
    },
    {
     "name": "stdout",
     "output_type": "stream",
     "text": [
      "[282 283 284 ..., 310 311 312]\n",
      "[640 640 640 ...,  79  79  79]\n",
      "[1106 1107 1108 ..., 1112 1113 1114]\n",
      "[617 617 617 ...,  79  79  79]\n"
     ]
    },
    {
     "name": "stderr",
     "output_type": "stream",
     "text": [
      "\r",
      " 32%|███▏      | 403/1261 [02:33<05:02,  2.84it/s]"
     ]
    },
    {
     "name": "stdout",
     "output_type": "stream",
     "text": [
      "[284 285 286 ..., 316 317 318]\n",
      "[640 640 640 ...,  79  79  79]\n",
      "[1101 1102 1103 ..., 1106 1107 1108]\n",
      "[649 649 649 ...,  79  79  79]\n"
     ]
    },
    {
     "name": "stderr",
     "output_type": "stream",
     "text": [
      "\r",
      " 32%|███▏      | 404/1261 [02:34<05:07,  2.78it/s]"
     ]
    },
    {
     "name": "stdout",
     "output_type": "stream",
     "text": [
      "[282 283 284 ..., 310 311 312]\n",
      "[640 640 640 ...,  79  79  79]\n",
      "[1075 1076 1077 ..., 1112 1113 1114]\n",
      "[679 679 679 ...,  79  79  79]\n"
     ]
    },
    {
     "name": "stderr",
     "output_type": "stream",
     "text": [
      "\r",
      " 32%|███▏      | 405/1261 [02:34<05:06,  2.79it/s]"
     ]
    },
    {
     "name": "stdout",
     "output_type": "stream",
     "text": [
      "[282 283 284 ..., 316 317 318]\n",
      "[640 640 640 ...,  79  79  79]\n",
      "[1076 1077 1072 ..., 1100 1101 1102]\n",
      "[709 709 710 ..., 159 159 159]\n"
     ]
    },
    {
     "name": "stderr",
     "output_type": "stream",
     "text": [
      "\r",
      " 32%|███▏      | 406/1261 [02:35<05:01,  2.83it/s]"
     ]
    },
    {
     "name": "stdout",
     "output_type": "stream",
     "text": [
      "[280 281 282 ..., 316 317 318]\n",
      "[640 640 640 ...,  79  79  79]\n",
      "[1067 1068 1069 ..., 1105 1106 1107]\n",
      "[560 560 560 ..., 159 159 159]\n"
     ]
    },
    {
     "name": "stderr",
     "output_type": "stream",
     "text": [
      "\r",
      " 32%|███▏      | 407/1261 [02:35<04:55,  2.89it/s]"
     ]
    },
    {
     "name": "stdout",
     "output_type": "stream",
     "text": [
      "[280 281 282 ..., 316 317 318]\n",
      "[640 640 640 ...,  79  79  79]\n",
      "[1071 1072 1073 ..., 1105 1106 1107]\n",
      "[640 640 640 ..., 159 159 159]\n"
     ]
    },
    {
     "name": "stderr",
     "output_type": "stream",
     "text": [
      "\r",
      " 32%|███▏      | 408/1261 [02:35<04:58,  2.86it/s]"
     ]
    },
    {
     "name": "stdout",
     "output_type": "stream",
     "text": [
      "[279 280 281 ..., 328 329 330]\n",
      "[640 640 640 ...,  79  79  79]\n",
      "[1068 1069 1070 ..., 1097 1098 1099]\n",
      "[640 640 640 ..., 239 239 239]\n"
     ]
    },
    {
     "name": "stderr",
     "output_type": "stream",
     "text": [
      "\r",
      " 32%|███▏      | 409/1261 [02:36<04:56,  2.87it/s]"
     ]
    },
    {
     "name": "stdout",
     "output_type": "stream",
     "text": [
      "[279 280 281 ..., 322 323 324]\n",
      "[640 640 640 ...,  79  79  79]\n",
      "[1068 1069 1070 ..., 1097 1098 1099]\n",
      "[640 640 640 ..., 239 239 239]\n"
     ]
    },
    {
     "name": "stderr",
     "output_type": "stream",
     "text": [
      "\r",
      " 33%|███▎      | 410/1261 [02:36<04:54,  2.89it/s]"
     ]
    },
    {
     "name": "stdout",
     "output_type": "stream",
     "text": [
      "[279 280 281 ..., 310 311 312]\n",
      "[640 640 640 ...,  79  79  79]\n",
      "[1068 1069 1070 ..., 1062 1063 1064]\n",
      "[640 640 640 ...,  40  40  40]\n"
     ]
    },
    {
     "name": "stderr",
     "output_type": "stream",
     "text": [
      "\r",
      " 33%|███▎      | 411/1261 [02:36<04:52,  2.90it/s]"
     ]
    },
    {
     "name": "stdout",
     "output_type": "stream",
     "text": [
      "[277 278 279 ..., 310 311 312]\n",
      "[640 640 640 ...,  79  79  79]\n",
      "[1068 1069 1070 ..., 1070 1071 1072]\n",
      "[663 663 663 ...,  59  59  59]\n"
     ]
    },
    {
     "name": "stderr",
     "output_type": "stream",
     "text": [
      "\r",
      " 33%|███▎      | 412/1261 [02:37<04:53,  2.89it/s]"
     ]
    },
    {
     "name": "stdout",
     "output_type": "stream",
     "text": [
      "[277 278 279 ..., 316 317 318]\n",
      "[640 640 640 ...,  79  79  79]\n",
      "[1072 1073 1074 ..., 1071 1072 1073]\n",
      "[693 693 693 ...,  79  79  79]\n"
     ]
    },
    {
     "name": "stderr",
     "output_type": "stream",
     "text": [
      "\r",
      " 33%|███▎      | 413/1261 [02:37<04:48,  2.94it/s]"
     ]
    },
    {
     "name": "stdout",
     "output_type": "stream",
     "text": [
      "[274 275 276 ..., 316 317 318]\n",
      "[640 640 640 ...,  79  79  79]\n",
      "[1076 1077 1078 ..., 1094 1095 1096]\n",
      "[590 590 590 ...,  79  79  79]\n"
     ]
    },
    {
     "name": "stderr",
     "output_type": "stream",
     "text": [
      "\r",
      " 33%|███▎      | 414/1261 [02:37<04:53,  2.88it/s]"
     ]
    },
    {
     "name": "stdout",
     "output_type": "stream",
     "text": [
      "[272 273 274 ..., 316 317 318]\n",
      "[640 640 640 ...,  79  79  79]\n",
      "[1081 1082 1083 ..., 1094 1095 1096]\n",
      "[620 620 620 ...,  79  79  79]\n"
     ]
    },
    {
     "name": "stderr",
     "output_type": "stream",
     "text": [
      "\r",
      " 33%|███▎      | 415/1261 [02:38<04:52,  2.89it/s]"
     ]
    },
    {
     "name": "stdout",
     "output_type": "stream",
     "text": [
      "[274 275 276 ..., 322 323 324]\n",
      "[640 640 640 ...,  79  79  79]\n",
      "[1085 1086 1087 ..., 1083 1084 1085]\n",
      "[651 651 651 ...,  79  79  79]\n"
     ]
    },
    {
     "name": "stderr",
     "output_type": "stream",
     "text": [
      "\r",
      " 33%|███▎      | 416/1261 [02:38<05:01,  2.80it/s]"
     ]
    },
    {
     "name": "stdout",
     "output_type": "stream",
     "text": [
      "[271 272 273 ..., 310 311 312]\n",
      "[640 640 640 ...,  79  79  79]\n",
      "[1078 1079 1080 ..., 1094 1095 1096]\n",
      "[681 681 681 ...,  79  79  79]\n"
     ]
    },
    {
     "name": "stderr",
     "output_type": "stream",
     "text": [
      "\r",
      " 33%|███▎      | 417/1261 [02:38<04:58,  2.83it/s]"
     ]
    },
    {
     "name": "stdout",
     "output_type": "stream",
     "text": [
      "[271 272 273 ..., 316 317 318]\n",
      "[640 640 640 ...,  79  79  79]\n",
      "[1075 1076 1077 ..., 1084 1085 1086]\n",
      "[712 712 712 ..., 159 159 159]\n"
     ]
    },
    {
     "name": "stderr",
     "output_type": "stream",
     "text": [
      "\r",
      " 33%|███▎      | 418/1261 [02:39<05:00,  2.81it/s]"
     ]
    },
    {
     "name": "stdout",
     "output_type": "stream",
     "text": [
      "[271 272 273 ..., 316 317 318]\n",
      "[640 640 640 ...,  79  79  79]\n",
      "[1056 1057 1058 ..., 1089 1090 1091]\n",
      "[560 560 560 ..., 159 159 159]\n"
     ]
    },
    {
     "name": "stderr",
     "output_type": "stream",
     "text": [
      "\r",
      " 33%|███▎      | 419/1261 [02:39<04:53,  2.87it/s]"
     ]
    },
    {
     "name": "stdout",
     "output_type": "stream",
     "text": [
      "[269 270 271 ..., 310 311 312]\n",
      "[640 640 640 ...,  79  79  79]\n",
      "[1062 1063 1064 ..., 1094 1095 1096]\n",
      "[640 640 640 ..., 159 159 159]\n"
     ]
    },
    {
     "name": "stderr",
     "output_type": "stream",
     "text": [
      "\r",
      " 33%|███▎      | 420/1261 [02:39<04:50,  2.89it/s]"
     ]
    },
    {
     "name": "stdout",
     "output_type": "stream",
     "text": [
      "[272 273 274 ..., 310 311 312]\n",
      "[640 640 640 ...,  79  79  79]\n",
      "[1060 1061 1062 ..., 1083 1084 1085]\n",
      "[640 640 640 ..., 239 239 239]\n"
     ]
    },
    {
     "name": "stderr",
     "output_type": "stream",
     "text": [
      "\r",
      " 33%|███▎      | 421/1261 [02:40<04:50,  2.89it/s]"
     ]
    },
    {
     "name": "stdout",
     "output_type": "stream",
     "text": [
      "[271 272 273 ..., 310 311 312]\n",
      "[640 640 640 ...,  79  79  79]\n",
      "[1058 1059 1060 ..., 1083 1084 1085]\n",
      "[640 640 640 ..., 239 239 239]\n"
     ]
    },
    {
     "name": "stderr",
     "output_type": "stream",
     "text": [
      "\r",
      " 33%|███▎      | 422/1261 [02:40<04:53,  2.86it/s]"
     ]
    },
    {
     "name": "stdout",
     "output_type": "stream",
     "text": [
      "[272 273 274 ..., 328 329 330]\n",
      "[640 640 640 ...,  79  79  79]\n",
      "[1055 1056 1057 ..., 1046 1047 1048]\n",
      "[640 640 640 ...,  59  59  59]\n"
     ]
    },
    {
     "name": "stderr",
     "output_type": "stream",
     "text": [
      "\r",
      " 34%|███▎      | 423/1261 [02:40<04:53,  2.85it/s]"
     ]
    },
    {
     "name": "stdout",
     "output_type": "stream",
     "text": [
      "[269 270 271 ..., 328 329 330]\n",
      "[640 640 640 ...,  79  79  79]\n",
      "[1064 1065 1066 ..., 1054 1055 1056]\n",
      "[662 662 662 ...,  77  77  77]\n"
     ]
    },
    {
     "name": "stderr",
     "output_type": "stream",
     "text": [
      "\r",
      " 34%|███▎      | 424/1261 [02:41<04:55,  2.83it/s]"
     ]
    },
    {
     "name": "stdout",
     "output_type": "stream",
     "text": [
      "[268 269 270 ..., 316 317 318]\n",
      "[640 640 640 ...,  79  79  79]\n",
      "[1064 1065 1070 ..., 1071 1072 1073]\n",
      "[692 692 692 ...,  79  79  79]\n"
     ]
    },
    {
     "name": "stderr",
     "output_type": "stream",
     "text": [
      "\r",
      " 34%|███▎      | 425/1261 [02:41<04:56,  2.82it/s]"
     ]
    },
    {
     "name": "stdout",
     "output_type": "stream",
     "text": [
      "[268 269 270 ..., 310 311 312]\n",
      "[640 640 640 ...,  79  79  79]\n",
      "[1064 1065 1066 ..., 1083 1084 1085]\n",
      "[590 590 590 ...,  79  79  79]\n"
     ]
    },
    {
     "name": "stderr",
     "output_type": "stream",
     "text": [
      "\r",
      " 34%|███▍      | 426/1261 [02:42<04:57,  2.80it/s]"
     ]
    },
    {
     "name": "stdout",
     "output_type": "stream",
     "text": [
      "[264 265 266 ..., 304 305 306]\n",
      "[640 640 640 ...,  79  79  79]\n",
      "[1068 1069 1070 ..., 1088 1089 1090]\n",
      "[618 618 618 ...,  79  79  79]\n"
     ]
    },
    {
     "name": "stderr",
     "output_type": "stream",
     "text": [
      "\r",
      " 34%|███▍      | 427/1261 [02:42<04:57,  2.80it/s]"
     ]
    },
    {
     "name": "stdout",
     "output_type": "stream",
     "text": [
      "[264 265 266 ..., 304 305 306]\n",
      "[640 640 640 ...,  79  79  79]\n",
      "[1082 1083 1084 ..., 1088 1089 1090]\n",
      "[649 649 649 ...,  79  79  79]\n"
     ]
    },
    {
     "name": "stderr",
     "output_type": "stream",
     "text": [
      "\r",
      " 34%|███▍      | 428/1261 [02:42<04:55,  2.82it/s]"
     ]
    },
    {
     "name": "stdout",
     "output_type": "stream",
     "text": [
      "[264 265 266 ..., 304 305 306]\n",
      "[640 640 640 ...,  79  79  79]\n",
      "[1080 1081 1082 ..., 1088 1089 1090]\n",
      "[680 680 680 ...,  79  79  79]\n"
     ]
    },
    {
     "name": "stderr",
     "output_type": "stream",
     "text": [
      "\r",
      " 34%|███▍      | 429/1261 [02:43<04:52,  2.85it/s]"
     ]
    },
    {
     "name": "stdout",
     "output_type": "stream",
     "text": [
      "[264 265 266 ..., 304 305 306]\n",
      "[640 640 640 ...,  79  79  79]\n",
      "[1069 1070 1071 ..., 1078 1079 1080]\n",
      "[712 712 712 ..., 159 159 159]\n"
     ]
    },
    {
     "name": "stderr",
     "output_type": "stream",
     "text": [
      "\r",
      " 34%|███▍      | 430/1261 [02:43<04:49,  2.87it/s]"
     ]
    },
    {
     "name": "stdout",
     "output_type": "stream",
     "text": [
      "[264 265 266 ..., 304 305 306]\n",
      "[640 640 640 ...,  79  79  79]\n",
      "[1042 1043 1044 ..., 1078 1079 1080]\n",
      "[560 560 560 ..., 159 159 159]\n"
     ]
    },
    {
     "name": "stderr",
     "output_type": "stream",
     "text": [
      "\r",
      " 34%|███▍      | 431/1261 [02:43<04:47,  2.88it/s]"
     ]
    },
    {
     "name": "stdout",
     "output_type": "stream",
     "text": [
      "[259 260 261 ..., 292 293 294]\n",
      "[640 640 640 ...,  79  79  79]\n",
      "[1049 1050 1051 ..., 1079 1080 1081]\n",
      "[640 640 640 ..., 239 239 239]\n"
     ]
    },
    {
     "name": "stderr",
     "output_type": "stream",
     "text": [
      "\r",
      " 34%|███▍      | 432/1261 [02:44<04:45,  2.91it/s]"
     ]
    },
    {
     "name": "stdout",
     "output_type": "stream",
     "text": [
      "[259 260 261 ..., 292 293 294]\n",
      "[640 640 640 ...,  79  79  79]\n",
      "[1049 1050 1051 ..., 1079 1080 1081]\n",
      "[640 640 640 ..., 239 239 239]\n"
     ]
    },
    {
     "name": "stderr",
     "output_type": "stream",
     "text": [
      "\r",
      " 34%|███▍      | 433/1261 [02:44<04:52,  2.83it/s]"
     ]
    },
    {
     "name": "stdout",
     "output_type": "stream",
     "text": [
      "[255 256 257 ..., 287 288 289]\n",
      "[640 640 640 ...,  79  79  79]\n",
      "[1050 1051 1052 ..., 1088 1089 1090]\n",
      "[640 640 640 ..., 239 239 239]\n"
     ]
    },
    {
     "name": "stderr",
     "output_type": "stream",
     "text": [
      "\r",
      " 34%|███▍      | 434/1261 [02:44<04:50,  2.85it/s]"
     ]
    },
    {
     "name": "stdout",
     "output_type": "stream",
     "text": [
      "[256 257 258 ..., 287 288 289]\n",
      "[640 640 640 ...,  79  79  79]\n",
      "[1050 1051 1052 ..., 1066 1067 1068]\n",
      "[640 640 640 ...,  20  20  20]\n"
     ]
    },
    {
     "name": "stderr",
     "output_type": "stream",
     "text": [
      "\r",
      " 34%|███▍      | 435/1261 [02:45<04:51,  2.83it/s]"
     ]
    },
    {
     "name": "stdout",
     "output_type": "stream",
     "text": [
      "[255 256 257 ..., 275 276 277]\n",
      "[640 640 640 ...,  79  79  79]\n",
      "[1068 1069 1070 ..., 1058 1059 1060]\n",
      "[663 663 663 ...,  59  59  59]\n"
     ]
    },
    {
     "name": "stderr",
     "output_type": "stream",
     "text": [
      "\r",
      " 35%|███▍      | 436/1261 [02:45<04:53,  2.81it/s]"
     ]
    },
    {
     "name": "stdout",
     "output_type": "stream",
     "text": [
      "[255 256 257 ..., 292 293 294]\n",
      "[640 640 640 ...,  79  79  79]\n",
      "[1056 1057 1058 ..., 1065 1066 1067]\n",
      "[695 695 695 ...,  79  79  79]\n"
     ]
    },
    {
     "name": "stderr",
     "output_type": "stream",
     "text": [
      "\r",
      " 35%|███▍      | 437/1261 [02:45<04:52,  2.82it/s]"
     ]
    },
    {
     "name": "stdout",
     "output_type": "stream",
     "text": [
      "[258 259 260 ..., 304 305 306]\n",
      "[640 640 640 ...,  79  79  79]\n",
      "[1059 1060 1061 ..., 1071 1072 1073]\n",
      "[592 592 592 ...,  79  79  79]\n"
     ]
    },
    {
     "name": "stderr",
     "output_type": "stream",
     "text": [
      "\r",
      " 35%|███▍      | 438/1261 [02:46<04:53,  2.80it/s]"
     ]
    },
    {
     "name": "stdout",
     "output_type": "stream",
     "text": [
      "[258 259 260 ..., 304 305 306]\n",
      "[640 640 640 ...,  79  79  79]\n",
      "[1061 1062 1063 ..., 1083 1084 1085]\n",
      "[621 621 621 ...,  79  79  79]\n"
     ]
    },
    {
     "name": "stderr",
     "output_type": "stream",
     "text": [
      "\r",
      " 35%|███▍      | 439/1261 [02:46<04:49,  2.84it/s]"
     ]
    },
    {
     "name": "stdout",
     "output_type": "stream",
     "text": [
      "[258 259 260 ..., 310 311 312]\n",
      "[640 640 640 ...,  79  79  79]\n",
      "[1065 1066 1067 ..., 1065 1066 1067]\n",
      "[652 652 652 ...,  79  79  79]\n"
     ]
    },
    {
     "name": "stderr",
     "output_type": "stream",
     "text": [
      "\r",
      " 35%|███▍      | 440/1261 [02:46<04:42,  2.91it/s]"
     ]
    },
    {
     "name": "stdout",
     "output_type": "stream",
     "text": [
      "[259 260 261 ..., 316 317 318]\n",
      "[640 640 640 ...,  79  79  79]\n",
      "[1045 1046 1054 ..., 1057 1058 1059]\n",
      "[685 685 685 ..., 159 159 159]\n"
     ]
    },
    {
     "name": "stderr",
     "output_type": "stream",
     "text": [
      "\r",
      " 35%|███▍      | 441/1261 [02:47<04:42,  2.90it/s]"
     ]
    },
    {
     "name": "stdout",
     "output_type": "stream",
     "text": [
      "[258 259 260 ..., 322 323 324]\n",
      "[640 640 640 ...,  79  79  79]\n",
      "[1047 1048 1049 ..., 1063 1064 1065]\n",
      "[713 713 713 ..., 159 159 159]\n"
     ]
    },
    {
     "name": "stderr",
     "output_type": "stream",
     "text": [
      "\r",
      " 35%|███▌      | 442/1261 [02:47<04:39,  2.93it/s]"
     ]
    },
    {
     "name": "stdout",
     "output_type": "stream",
     "text": [
      "[256 257 258 ..., 316 317 318]\n",
      "[640 640 640 ...,  79  79  79]\n",
      "[1040 1041 1042 ..., 1065 1066 1067]\n",
      "[560 560 560 ..., 239 239 239]\n"
     ]
    },
    {
     "name": "stderr",
     "output_type": "stream",
     "text": [
      "\r",
      " 35%|███▌      | 443/1261 [02:47<04:50,  2.81it/s]"
     ]
    },
    {
     "name": "stdout",
     "output_type": "stream",
     "text": [
      "[250 251 252 ..., 298 299 300]\n",
      "[640 640 640 ...,  79  79  79]\n",
      "[1047 1048 1049 ..., 1079 1080 1081]\n",
      "[640 640 640 ..., 239 239 239]\n"
     ]
    },
    {
     "name": "stderr",
     "output_type": "stream",
     "text": [
      "\r",
      " 35%|███▌      | 444/1261 [02:48<04:47,  2.84it/s]"
     ]
    },
    {
     "name": "stdout",
     "output_type": "stream",
     "text": [
      "[250 251 252 ..., 298 299 300]\n",
      "[640 640 640 ...,  79  79  79]\n",
      "[1045 1046 1047 ..., 1074 1075 1076]\n",
      "[640 640 640 ..., 239 239 239]\n"
     ]
    },
    {
     "name": "stderr",
     "output_type": "stream",
     "text": [
      "\r",
      " 35%|███▌      | 445/1261 [02:48<05:00,  2.71it/s]"
     ]
    },
    {
     "name": "stdout",
     "output_type": "stream",
     "text": [
      "[247 248 249 ..., 298 299 300]\n",
      "[640 640 640 ...,  79  79  79]\n",
      "[1047 1048 1049 ..., 1047 1048 1049]\n",
      "[640 640 640 ...,  20  20  20]\n"
     ]
    },
    {
     "name": "stderr",
     "output_type": "stream",
     "text": [
      "\r",
      " 35%|███▌      | 446/1261 [02:49<04:51,  2.79it/s]"
     ]
    },
    {
     "name": "stdout",
     "output_type": "stream",
     "text": [
      "[247 248 249 ..., 304 305 306]\n",
      "[640 640 640 ...,  79  79  79]\n",
      "[1047 1048 1049 ..., 1056 1057 1058]\n",
      "[640 640 640 ...,  40  40  40]\n"
     ]
    },
    {
     "name": "stderr",
     "output_type": "stream",
     "text": [
      "\r",
      " 35%|███▌      | 447/1261 [02:49<04:50,  2.80it/s]"
     ]
    },
    {
     "name": "stdout",
     "output_type": "stream",
     "text": [
      "[248 249 250 ..., 316 317 318]\n",
      "[640 640 640 ...,  79  79  79]\n",
      "[1063 1064 1065 ..., 1047 1048 1049]\n",
      "[668 668 668 ...,  79  79  79]\n"
     ]
    },
    {
     "name": "stderr",
     "output_type": "stream",
     "text": [
      "\r",
      " 36%|███▌      | 448/1261 [02:49<04:46,  2.84it/s]"
     ]
    },
    {
     "name": "stdout",
     "output_type": "stream",
     "text": [
      "[247 248 249 ..., 316 317 318]\n",
      "[640 640 640 ...,  79  79  79]\n",
      "[1049 1050 1051 ..., 1065 1066 1067]\n",
      "[699 699 699 ...,  79  79  79]\n"
     ]
    },
    {
     "name": "stderr",
     "output_type": "stream",
     "text": [
      "\r",
      " 36%|███▌      | 449/1261 [02:50<04:43,  2.87it/s]"
     ]
    },
    {
     "name": "stdout",
     "output_type": "stream",
     "text": [
      "[247 248 249 ..., 310 311 312]\n",
      "[640 640 640 ...,  79  79  79]\n",
      "[1057 1058 1059 ..., 1059 1060 1061]\n",
      "[596 596 596 ...,  79  79  79]\n"
     ]
    },
    {
     "name": "stderr",
     "output_type": "stream",
     "text": [
      "\r",
      " 36%|███▌      | 450/1261 [02:50<04:40,  2.90it/s]"
     ]
    },
    {
     "name": "stdout",
     "output_type": "stream",
     "text": [
      "[245 246 247 ..., 310 311 312]\n",
      "[640 640 640 ...,  79  79  79]\n",
      "[1057 1058 1059 ..., 1065 1066 1067]\n",
      "[626 626 626 ...,  79  79  79]\n"
     ]
    },
    {
     "name": "stderr",
     "output_type": "stream",
     "text": [
      "\r",
      " 36%|███▌      | 451/1261 [02:50<04:38,  2.91it/s]"
     ]
    },
    {
     "name": "stdout",
     "output_type": "stream",
     "text": [
      "[245 246 247 ..., 316 317 318]\n",
      "[640 640 640 ...,  79  79  79]\n",
      "[1047 1048 1049 ..., 1065 1066 1067]\n",
      "[656 656 656 ...,  79  79  79]\n"
     ]
    },
    {
     "name": "stderr",
     "output_type": "stream",
     "text": [
      "\r",
      " 36%|███▌      | 452/1261 [02:51<04:48,  2.80it/s]"
     ]
    },
    {
     "name": "stdout",
     "output_type": "stream",
     "text": [
      "[243 244 245 ..., 316 317 318]\n",
      "[640 640 640 ...,  79  79  79]\n",
      "[1047 1048 1049 ..., 1068 1069 1070]\n",
      "[687 687 687 ..., 159 159 159]\n"
     ]
    },
    {
     "name": "stderr",
     "output_type": "stream",
     "text": [
      "\r",
      " 36%|███▌      | 453/1261 [02:51<04:52,  2.76it/s]"
     ]
    },
    {
     "name": "stdout",
     "output_type": "stream",
     "text": [
      "[240 241 242 ..., 316 317 318]\n",
      "[640 640 640 ...,  79  79  79]\n",
      "[1048 1049 1050 ..., 1073 1074 1075]\n",
      "[716 716 716 ..., 159 159 159]\n"
     ]
    },
    {
     "name": "stderr",
     "output_type": "stream",
     "text": [
      "\r",
      " 36%|███▌      | 454/1261 [02:51<04:45,  2.82it/s]"
     ]
    },
    {
     "name": "stdout",
     "output_type": "stream",
     "text": [
      "[245 246 247 ..., 328 329 330]\n",
      "[640 640 640 ...,  79  79  79]\n",
      "[1042 1043 1044 ..., 1065 1066 1067]\n",
      "[560 560 560 ..., 239 239 239]\n"
     ]
    },
    {
     "name": "stderr",
     "output_type": "stream",
     "text": [
      "\r",
      " 36%|███▌      | 455/1261 [02:52<04:38,  2.89it/s]"
     ]
    },
    {
     "name": "stdout",
     "output_type": "stream",
     "text": [
      "[247 248 249 ..., 334 335 336]\n",
      "[640 640 640 ...,  79  79  79]\n",
      "[1045 1046 1047 ..., 1065 1066 1067]\n",
      "[640 640 640 ..., 239 239 239]\n"
     ]
    },
    {
     "name": "stderr",
     "output_type": "stream",
     "text": [
      "\r",
      " 36%|███▌      | 456/1261 [02:52<04:39,  2.88it/s]"
     ]
    },
    {
     "name": "stdout",
     "output_type": "stream",
     "text": [
      "[248 249 250 ..., 334 335 336]\n",
      "[640 640 640 ...,  79  79  79]\n",
      "[1047 1048 1049 ..., 1047 1048 1049]\n",
      "[640 640 640 ...,  20  20  20]\n"
     ]
    },
    {
     "name": "stderr",
     "output_type": "stream",
     "text": [
      "\r",
      " 36%|███▌      | 457/1261 [02:52<04:50,  2.77it/s]"
     ]
    },
    {
     "name": "stdout",
     "output_type": "stream",
     "text": [
      "[250 251 252 ..., 328 329 330]\n",
      "[640 640 640 ...,  79  79  79]\n",
      "[1045 1046 1047 ..., 1040 1041 1042]\n",
      "[640 640 640 ...,  59  59  59]\n"
     ]
    },
    {
     "name": "stderr",
     "output_type": "stream",
     "text": [
      "\r",
      " 36%|███▋      | 458/1261 [02:53<05:02,  2.65it/s]"
     ]
    },
    {
     "name": "stdout",
     "output_type": "stream",
     "text": [
      "[251 252 253 ..., 340 341 342]\n",
      "[640 640 640 ...,  79  79  79]\n",
      "[1052 1053 1054 ..., 1048 1049 1050]\n",
      "[640 640 640 ...,  77  77  77]\n"
     ]
    },
    {
     "name": "stderr",
     "output_type": "stream",
     "text": [
      "\r",
      " 36%|███▋      | 459/1261 [02:53<05:05,  2.63it/s]"
     ]
    },
    {
     "name": "stdout",
     "output_type": "stream",
     "text": [
      "[255 256 257 ..., 346 347 348]\n",
      "[640 640 640 ...,  79  79  79]\n",
      "[1054 1055 1056 ..., 1065 1066 1067]\n",
      "[670 670 670 ...,  79  79  79]\n"
     ]
    },
    {
     "name": "stderr",
     "output_type": "stream",
     "text": [
      "\r",
      " 36%|███▋      | 460/1261 [02:54<05:05,  2.63it/s]"
     ]
    },
    {
     "name": "stdout",
     "output_type": "stream",
     "text": [
      "[255 256 257 ..., 328 329 330]\n",
      "[640 640 640 ...,  79  79  79]\n",
      "[1051 1052 1053 ..., 1071 1072 1073]\n",
      "[701 701 701 ...,  79  79  79]\n"
     ]
    },
    {
     "name": "stderr",
     "output_type": "stream",
     "text": [
      "\r",
      " 37%|███▋      | 461/1261 [02:54<05:21,  2.49it/s]"
     ]
    },
    {
     "name": "stdout",
     "output_type": "stream",
     "text": [
      "[255 256 257 ..., 340 341 342]\n",
      "[640 640 640 ...,  79  79  79]\n",
      "[1061 1062 1063 ..., 1071 1072 1073]\n",
      "[597 597 597 ...,  79  79  79]\n"
     ]
    },
    {
     "name": "stderr",
     "output_type": "stream",
     "text": [
      "\r",
      " 37%|███▋      | 462/1261 [02:54<05:06,  2.61it/s]"
     ]
    },
    {
     "name": "stdout",
     "output_type": "stream",
     "text": [
      "[253 254 255 ..., 328 329 330]\n",
      "[640 640 640 ...,  79  79  79]\n",
      "[1058 1059 1060 ..., 1083 1084 1085]\n",
      "[628 628 628 ...,  79  79  79]\n"
     ]
    },
    {
     "name": "stderr",
     "output_type": "stream",
     "text": [
      "\r",
      " 37%|███▋      | 463/1261 [02:55<05:02,  2.64it/s]"
     ]
    },
    {
     "name": "stdout",
     "output_type": "stream",
     "text": [
      "[251 252 253 ..., 322 323 324]\n",
      "[640 640 640 ...,  79  79  79]\n",
      "[1063 1064 1065 ..., 1088 1089 1090]\n",
      "[657 657 657 ...,  79  79  79]\n"
     ]
    },
    {
     "name": "stderr",
     "output_type": "stream",
     "text": [
      "\r",
      " 37%|███▋      | 464/1261 [02:55<05:14,  2.53it/s]"
     ]
    },
    {
     "name": "stdout",
     "output_type": "stream",
     "text": [
      "[253 254 255 ..., 334 335 336]\n",
      "[640 640 640 ...,  79  79  79]\n",
      "[1060 1061 1062 ..., 1078 1079 1080]\n",
      "[689 689 689 ..., 159 159 159]\n"
     ]
    },
    {
     "name": "stderr",
     "output_type": "stream",
     "text": [
      "\r",
      " 37%|███▋      | 465/1261 [02:56<04:58,  2.67it/s]"
     ]
    },
    {
     "name": "stdout",
     "output_type": "stream",
     "text": [
      "[255 256 257 ..., 328 329 330]\n",
      "[640 640 640 ...,  79  79  79]\n",
      "[1052 1053 1047 ..., 1078 1079 1080]\n",
      "[718 718 560 ..., 159 159 159]\n"
     ]
    },
    {
     "name": "stderr",
     "output_type": "stream",
     "text": [
      "\r",
      " 37%|███▋      | 466/1261 [02:56<04:52,  2.72it/s]"
     ]
    },
    {
     "name": "stdout",
     "output_type": "stream",
     "text": [
      "[259 260 261 ..., 340 341 342]\n",
      "[640 640 640 ...,  79  79  79]\n",
      "[1042 1043 1044 ..., 1069 1070 1071]\n",
      "[560 560 560 ..., 239 239 239]\n"
     ]
    },
    {
     "name": "stderr",
     "output_type": "stream",
     "text": [
      "\r",
      " 37%|███▋      | 467/1261 [02:56<04:42,  2.81it/s]"
     ]
    },
    {
     "name": "stdout",
     "output_type": "stream",
     "text": [
      "[258 259 260 ..., 316 317 318]\n",
      "[640 640 640 ...,  79  79  79]\n",
      "[1049 1050 1051 ..., 1074 1075 1076]\n",
      "[640 640 640 ..., 239 239 239]\n"
     ]
    },
    {
     "name": "stderr",
     "output_type": "stream",
     "text": [
      "\r",
      " 37%|███▋      | 468/1261 [02:57<04:38,  2.85it/s]"
     ]
    },
    {
     "name": "stdout",
     "output_type": "stream",
     "text": [
      "[258 259 260 ..., 322 323 324]\n",
      "[640 640 640 ...,  79  79  79]\n",
      "[1049 1050 1051 ..., 1060 1061 1062]\n",
      "[640 640 640 ...,  20  20  20]\n"
     ]
    },
    {
     "name": "stderr",
     "output_type": "stream",
     "text": [
      "\r",
      " 37%|███▋      | 469/1261 [02:57<04:52,  2.71it/s]"
     ]
    },
    {
     "name": "stdout",
     "output_type": "stream",
     "text": [
      "[259 260 261 ..., 334 335 336]\n",
      "[640 640 640 ...,  79  79  79]\n",
      "[1047 1048 1049 ..., 1062 1063 1064]\n",
      "[640 640 640 ...,  40  40  40]\n"
     ]
    },
    {
     "name": "stderr",
     "output_type": "stream",
     "text": [
      "\r",
      " 37%|███▋      | 470/1261 [02:57<05:01,  2.63it/s]"
     ]
    },
    {
     "name": "stdout",
     "output_type": "stream",
     "text": [
      "[255 256 257 ..., 316 317 318]\n",
      "[640 640 640 ...,  79  79  79]\n",
      "[1056 1057 1058 ..., 1080 1081 1082]\n",
      "[641 641 641 ...,  40  40  40]\n"
     ]
    },
    {
     "name": "stderr",
     "output_type": "stream",
     "text": [
      "\r",
      " 37%|███▋      | 471/1261 [02:58<04:58,  2.65it/s]"
     ]
    },
    {
     "name": "stdout",
     "output_type": "stream",
     "text": [
      "[259 260 261 ..., 322 323 324]\n",
      "[640 640 640 ...,  79  79  79]\n",
      "[1052 1053 1054 ..., 1071 1072 1073]\n",
      "[673 673 673 ...,  79  79  79]\n"
     ]
    },
    {
     "name": "stderr",
     "output_type": "stream",
     "text": [
      "\r",
      " 37%|███▋      | 472/1261 [02:58<04:56,  2.66it/s]"
     ]
    },
    {
     "name": "stdout",
     "output_type": "stream",
     "text": [
      "[259 260 261 ..., 322 323 324]\n",
      "[640 640 640 ...,  79  79  79]\n",
      "[1053 1054 1055 ..., 1088 1089 1090]\n",
      "[703 703 703 ...,  79  79  79]\n"
     ]
    },
    {
     "name": "stderr",
     "output_type": "stream",
     "text": [
      "\r",
      " 38%|███▊      | 473/1261 [02:59<05:01,  2.61it/s]"
     ]
    },
    {
     "name": "stdout",
     "output_type": "stream",
     "text": [
      "[259 260 261 ..., 328 329 330]\n",
      "[640 640 640 ...,  79  79  79]\n",
      "[1062 1063 1064 ..., 1094 1095 1096]\n",
      "[601 601 601 ...,  79  79  79]\n"
     ]
    },
    {
     "name": "stderr",
     "output_type": "stream",
     "text": [
      "\r",
      " 38%|███▊      | 474/1261 [02:59<04:47,  2.74it/s]"
     ]
    },
    {
     "name": "stdout",
     "output_type": "stream",
     "text": [
      "[261 262 263 ..., 328 329 330]\n",
      "[640 640 640 ...,  79  79  79]\n",
      "[1057 1058 1059 ..., 1088 1089 1090]\n",
      "[633 633 633 ...,  79  79  79]\n"
     ]
    },
    {
     "name": "stderr",
     "output_type": "stream",
     "text": [
      "\r",
      " 38%|███▊      | 475/1261 [02:59<04:37,  2.83it/s]"
     ]
    },
    {
     "name": "stdout",
     "output_type": "stream",
     "text": [
      "[259 260 261 ..., 316 317 318]\n",
      "[640 640 640 ...,  79  79  79]\n",
      "[1061 1062 1063 ..., 1106 1107 1108]\n",
      "[662 662 662 ...,  79  79  79]\n"
     ]
    },
    {
     "name": "stderr",
     "output_type": "stream",
     "text": [
      "\r",
      " 38%|███▊      | 476/1261 [03:00<04:33,  2.87it/s]"
     ]
    },
    {
     "name": "stdout",
     "output_type": "stream",
     "text": [
      "[261 262 263 ..., 316 317 318]\n",
      "[640 640 640 ...,  79  79  79]\n",
      "[1049 1050 1051 ..., 1094 1095 1096]\n",
      "[692 692 692 ..., 159 159 159]\n"
     ]
    },
    {
     "name": "stderr",
     "output_type": "stream",
     "text": [
      "\r",
      " 38%|███▊      | 477/1261 [03:00<04:33,  2.87it/s]"
     ]
    },
    {
     "name": "stdout",
     "output_type": "stream",
     "text": [
      "[259 260 261 ..., 310 311 312]\n",
      "[640 640 640 ...,  79  79  79]\n",
      "[1047 1048 1049 ..., 1105 1106 1107]\n",
      "[560 560 560 ..., 159 159 159]\n"
     ]
    },
    {
     "name": "stderr",
     "output_type": "stream",
     "text": [
      "\r",
      " 38%|███▊      | 478/1261 [03:00<04:48,  2.72it/s]"
     ]
    },
    {
     "name": "stdout",
     "output_type": "stream",
     "text": [
      "[259 260 261 ..., 304 305 306]\n",
      "[640 640 640 ...,  79  79  79]\n",
      "[1049 1050 1051 ..., 1110 1111 1112]\n",
      "[560 560 560 ..., 159 159 159]\n"
     ]
    },
    {
     "name": "stderr",
     "output_type": "stream",
     "text": [
      "\r",
      " 38%|███▊      | 479/1261 [03:01<04:54,  2.65it/s]"
     ]
    },
    {
     "name": "stdout",
     "output_type": "stream",
     "text": [
      "[261 262 263 ..., 304 305 306]\n",
      "[640 640 640 ...,  79  79  79]\n",
      "[1052 1053 1054 ..., 1107 1108 1109]\n",
      "[640 640 640 ..., 239 239 239]\n"
     ]
    },
    {
     "name": "stderr",
     "output_type": "stream",
     "text": [
      "\r",
      " 38%|███▊      | 480/1261 [03:01<04:50,  2.69it/s]"
     ]
    },
    {
     "name": "stdout",
     "output_type": "stream",
     "text": [
      "[258 259 260 ..., 304 305 306]\n",
      "[640 640 640 ...,  79  79  79]\n",
      "[1055 1056 1057 ..., 1111 1112 1113]\n",
      "[640 640 640 ..., 239 239 239]\n"
     ]
    },
    {
     "name": "stderr",
     "output_type": "stream",
     "text": [
      "\r",
      " 38%|███▊      | 481/1261 [03:01<04:46,  2.72it/s]"
     ]
    },
    {
     "name": "stdout",
     "output_type": "stream",
     "text": [
      "[259 260 261 ..., 304 305 306]\n",
      "[640 640 640 ...,  79  79  79]\n",
      "[1054 1055 1056 ..., 1107 1108 1109]\n",
      "[640 640 640 ..., 239 239 239]\n"
     ]
    },
    {
     "name": "stderr",
     "output_type": "stream",
     "text": [
      "\r",
      " 38%|███▊      | 482/1261 [03:02<04:41,  2.77it/s]"
     ]
    },
    {
     "name": "stdout",
     "output_type": "stream",
     "text": [
      "[255 256 257 ..., 298 299 300]\n",
      "[640 640 640 ...,  79  79  79]\n",
      "[1063 1064 1065 ..., 1106 1107 1108]\n",
      "[641 641 641 ..., 319 319 319]\n"
     ]
    },
    {
     "name": "stderr",
     "output_type": "stream",
     "text": [
      "\r",
      " 38%|███▊      | 483/1261 [03:02<04:38,  2.79it/s]"
     ]
    },
    {
     "name": "stdout",
     "output_type": "stream",
     "text": [
      "[253 254 255 ..., 298 299 300]\n",
      "[640 640 640 ...,  79  79  79]\n",
      "[1062 1063 1064 ..., 1117 1118 1119]\n",
      "[672 672 672 ...,  20  20  20]\n"
     ]
    },
    {
     "name": "stderr",
     "output_type": "stream",
     "text": [
      "\r",
      " 38%|███▊      | 484/1261 [03:02<04:33,  2.84it/s]"
     ]
    },
    {
     "name": "stdout",
     "output_type": "stream",
     "text": [
      "[253 254 255 ..., 316 317 318]\n",
      "[640 640 640 ...,  79  79  79]\n",
      "[1069 1070 1071 ..., 1101 1102 1103]\n",
      "[703 703 703 ...,  77  77  77]\n"
     ]
    },
    {
     "name": "stderr",
     "output_type": "stream",
     "text": [
      "\r",
      " 38%|███▊      | 485/1261 [03:03<04:34,  2.82it/s]"
     ]
    },
    {
     "name": "stdout",
     "output_type": "stream",
     "text": [
      "[253 254 255 ..., 316 317 318]\n",
      "[640 640 640 ...,  79  79  79]\n",
      "[1090 1091 1092 ..., 1118 1119 1120]\n",
      "[596 596 596 ...,  79  79  79]\n"
     ]
    },
    {
     "name": "stderr",
     "output_type": "stream",
     "text": [
      "\r",
      " 39%|███▊      | 486/1261 [03:03<04:33,  2.83it/s]"
     ]
    },
    {
     "name": "stdout",
     "output_type": "stream",
     "text": [
      "[255 256 257 ..., 310 311 312]\n",
      "[640 640 640 ...,  79  79  79]\n",
      "[1068 1069 1070 ..., 1118 1119 1120]\n",
      "[630 630 630 ...,  79  79  79]\n"
     ]
    },
    {
     "name": "stderr",
     "output_type": "stream",
     "text": [
      "\r",
      " 39%|███▊      | 487/1261 [03:03<04:30,  2.86it/s]"
     ]
    },
    {
     "name": "stdout",
     "output_type": "stream",
     "text": [
      "[255 256 257 ..., 316 317 318]\n",
      "[640 640 640 ...,  79  79  79]\n",
      "[1072 1073 1074 ..., 1118 1119 1120]\n",
      "[661 661 661 ...,  79  79  79]\n"
     ]
    },
    {
     "name": "stderr",
     "output_type": "stream",
     "text": [
      "\r",
      " 39%|███▊      | 488/1261 [03:04<04:26,  2.90it/s]"
     ]
    },
    {
     "name": "stdout",
     "output_type": "stream",
     "text": [
      "[256 257 258 ..., 328 329 330]\n",
      "[640 640 640 ...,  79  79  79]\n",
      "[1065 1066 1067 ..., 1105 1106 1107]\n",
      "[694 694 694 ..., 159 159 159]\n"
     ]
    },
    {
     "name": "stderr",
     "output_type": "stream",
     "text": [
      "\r",
      " 39%|███▉      | 489/1261 [03:04<04:28,  2.88it/s]"
     ]
    },
    {
     "name": "stdout",
     "output_type": "stream",
     "text": [
      "[258 259 260 ..., 328 329 330]\n",
      "[640 640 640 ...,  79  79  79]\n",
      "[1056 1057 1058 ..., 1100 1101 1102]\n",
      "[560 560 560 ..., 159 159 159]\n"
     ]
    },
    {
     "name": "stderr",
     "output_type": "stream",
     "text": [
      "\r",
      " 39%|███▉      | 490/1261 [03:05<04:29,  2.86it/s]"
     ]
    },
    {
     "name": "stdout",
     "output_type": "stream",
     "text": [
      "[258 259 260 ..., 328 329 330]\n",
      "[640 640 640 ...,  79  79  79]\n",
      "[1056 1057 1058 ..., 1093 1094 1095]\n",
      "[560 560 560 ..., 239 239 239]\n"
     ]
    },
    {
     "name": "stderr",
     "output_type": "stream",
     "text": [
      "\r",
      " 39%|███▉      | 491/1261 [03:05<04:25,  2.90it/s]"
     ]
    },
    {
     "name": "stdout",
     "output_type": "stream",
     "text": [
      "[259 260 261 ..., 334 335 336]\n",
      "[640 640 640 ...,  79  79  79]\n",
      "[1057 1058 1059 ..., 1093 1094 1095]\n",
      "[640 640 640 ..., 239 239 239]\n"
     ]
    },
    {
     "name": "stderr",
     "output_type": "stream",
     "text": [
      "\r",
      " 39%|███▉      | 492/1261 [03:05<04:24,  2.91it/s]"
     ]
    },
    {
     "name": "stdout",
     "output_type": "stream",
     "text": [
      "[258 259 260 ..., 322 323 324]\n",
      "[640 640 640 ...,  79  79  79]\n",
      "[1058 1059 1060 ..., 1097 1098 1099]\n",
      "[640 640 640 ..., 239 239 239]\n"
     ]
    },
    {
     "name": "stderr",
     "output_type": "stream",
     "text": [
      "\r",
      " 39%|███▉      | 493/1261 [03:06<04:23,  2.92it/s]"
     ]
    },
    {
     "name": "stdout",
     "output_type": "stream",
     "text": [
      "[259 260 261 ..., 328 329 330]\n",
      "[640 640 640 ...,  79  79  79]\n",
      "[1058 1059 1060 ..., 1068 1069 1070]\n",
      "[640 640 640 ...,  40  40  40]\n"
     ]
    },
    {
     "name": "stderr",
     "output_type": "stream",
     "text": [
      "\r",
      " 39%|███▉      | 494/1261 [03:06<04:29,  2.85it/s]"
     ]
    },
    {
     "name": "stdout",
     "output_type": "stream",
     "text": [
      "[259 260 261 ..., 316 317 318]\n",
      "[640 640 640 ...,  79  79  79]\n",
      "[1076 1077 1078 ..., 1087 1088 1089]\n",
      "[646 646 646 ...,  40  40  40]\n"
     ]
    },
    {
     "name": "stderr",
     "output_type": "stream",
     "text": [
      "\r",
      " 39%|███▉      | 495/1261 [03:06<04:27,  2.86it/s]"
     ]
    },
    {
     "name": "stdout",
     "output_type": "stream",
     "text": [
      "[255 256 257 ..., 316 317 318]\n",
      "[640 640 640 ...,  79  79  79]\n",
      "[1074 1075 1076 ..., 1094 1095 1096]\n",
      "[677 677 677 ...,  59  59  59]\n"
     ]
    },
    {
     "name": "stderr",
     "output_type": "stream",
     "text": [
      "\r",
      " 39%|███▉      | 496/1261 [03:07<04:39,  2.73it/s]"
     ]
    },
    {
     "name": "stdout",
     "output_type": "stream",
     "text": [
      "[256 257 258 ..., 328 329 330]\n",
      "[640 640 640 ...,  79  79  79]\n",
      "[1071 1072 1073 ..., 1100 1101 1102]\n",
      "[708 708 708 ...,  79  79  79]\n"
     ]
    },
    {
     "name": "stderr",
     "output_type": "stream",
     "text": [
      "\r",
      " 39%|███▉      | 497/1261 [03:07<04:58,  2.56it/s]"
     ]
    },
    {
     "name": "stdout",
     "output_type": "stream",
     "text": [
      "[258 259 260 ..., 316 317 318]\n",
      "[640 640 640 ...,  79  79  79]\n",
      "[1068 1069 1070 ..., 1112 1113 1114]\n",
      "[605 605 605 ...,  79  79  79]\n"
     ]
    },
    {
     "name": "stderr",
     "output_type": "stream",
     "text": [
      "\r",
      " 39%|███▉      | 498/1261 [03:07<04:50,  2.63it/s]"
     ]
    },
    {
     "name": "stdout",
     "output_type": "stream",
     "text": [
      "[258 259 260 ..., 322 323 324]\n",
      "[640 640 640 ...,  79  79  79]\n",
      "[1057 1058 1059 ..., 1100 1101 1102]\n",
      "[640 640 640 ...,  79  79  79]\n"
     ]
    },
    {
     "name": "stderr",
     "output_type": "stream",
     "text": [
      "\r",
      " 40%|███▉      | 499/1261 [03:08<04:43,  2.69it/s]"
     ]
    },
    {
     "name": "stdout",
     "output_type": "stream",
     "text": [
      "[255 256 257 ..., 310 311 312]\n",
      "[640 640 640 ...,  79  79  79]\n",
      "[1062 1063 1070 ..., 1106 1107 1108]\n",
      "[666 666 666 ...,  79  79  79]\n"
     ]
    },
    {
     "name": "stderr",
     "output_type": "stream",
     "text": [
      "\r",
      " 40%|███▉      | 500/1261 [03:08<04:39,  2.72it/s]"
     ]
    },
    {
     "name": "stdout",
     "output_type": "stream",
     "text": [
      "[255 256 257 ..., 298 299 300]\n",
      "[640 640 640 ...,  79  79  79]\n",
      "[1073 1074 1075 ..., 1118 1119 1120]\n",
      "[696 696 696 ...,  79  79  79]\n"
     ]
    },
    {
     "name": "stderr",
     "output_type": "stream",
     "text": [
      "\r",
      " 40%|███▉      | 501/1261 [03:09<04:39,  2.72it/s]"
     ]
    },
    {
     "name": "stdout",
     "output_type": "stream",
     "text": [
      "[251 252 253 ..., 298 299 300]\n",
      "[640 640 640 ...,  79  79  79]\n",
      "[1067 1068 1069 ..., 1124 1125 1126]\n",
      "[560 560 560 ...,  79  79  79]\n"
     ]
    },
    {
     "name": "stderr",
     "output_type": "stream",
     "text": [
      "\r",
      " 40%|███▉      | 502/1261 [03:09<04:31,  2.80it/s]"
     ]
    },
    {
     "name": "stdout",
     "output_type": "stream",
     "text": [
      "[251 252 253 ..., 292 293 294]\n",
      "[640 640 640 ...,  79  79  79]\n",
      "[1073 1074 1075 ..., 1131 1132 1133]\n",
      "[560 560 560 ..., 159 159 159]\n"
     ]
    },
    {
     "name": "stderr",
     "output_type": "stream",
     "text": [
      "\r",
      " 40%|███▉      | 503/1261 [03:09<04:35,  2.76it/s]"
     ]
    },
    {
     "name": "stdout",
     "output_type": "stream",
     "text": [
      "[253 254 255 ..., 304 305 306]\n",
      "[640 640 640 ...,  79  79  79]\n",
      "[1071 1072 1073 ..., 1121 1122 1123]\n",
      "[640 640 640 ..., 159 159 159]\n"
     ]
    },
    {
     "name": "stderr",
     "output_type": "stream",
     "text": [
      "\r",
      " 40%|███▉      | 504/1261 [03:10<04:29,  2.81it/s]"
     ]
    },
    {
     "name": "stdout",
     "output_type": "stream",
     "text": [
      "[253 254 255 ..., 298 299 300]\n",
      "[640 640 640 ...,  79  79  79]\n",
      "[1071 1072 1073 ..., 1116 1117 1118]\n",
      "[640 640 640 ..., 239 239 239]\n"
     ]
    },
    {
     "name": "stderr",
     "output_type": "stream",
     "text": [
      "\r",
      " 40%|████      | 505/1261 [03:10<04:26,  2.84it/s]"
     ]
    },
    {
     "name": "stdout",
     "output_type": "stream",
     "text": [
      "[255 256 257 ..., 298 299 300]\n",
      "[640 640 640 ...,  79  79  79]\n",
      "[1071 1072 1073 ..., 1116 1117 1118]\n",
      "[640 640 640 ..., 239 239 239]\n"
     ]
    },
    {
     "name": "stderr",
     "output_type": "stream",
     "text": [
      "\r",
      " 40%|████      | 506/1261 [03:10<04:22,  2.87it/s]"
     ]
    },
    {
     "name": "stdout",
     "output_type": "stream",
     "text": [
      "[255 256 257 ..., 298 299 300]\n",
      "[640 640 640 ...,  79  79  79]\n",
      "[1079 1080 1081 ..., 1106 1107 1108]\n",
      "[643 643 643 ..., 319 319 319]\n"
     ]
    },
    {
     "name": "stderr",
     "output_type": "stream",
     "text": [
      "\r",
      " 40%|████      | 507/1261 [03:11<04:22,  2.87it/s]"
     ]
    },
    {
     "name": "stdout",
     "output_type": "stream",
     "text": [
      "[253 254 255 ..., 292 293 294]\n",
      "[640 640 640 ...,  79  79  79]\n",
      "[1089 1090 1091 ..., 1104 1105 1106]\n",
      "[673 673 673 ...,  20  20  20]\n"
     ]
    },
    {
     "name": "stderr",
     "output_type": "stream",
     "text": [
      "\r",
      " 40%|████      | 508/1261 [03:11<04:27,  2.82it/s]"
     ]
    },
    {
     "name": "stdout",
     "output_type": "stream",
     "text": [
      "[251 252 253 ..., 292 293 294]\n",
      "[640 640 640 ...,  79  79  79]\n",
      "[1075 1076 1077 ..., 1100 1101 1102]\n",
      "[705 705 705 ...,  59  59  59]\n"
     ]
    },
    {
     "name": "stderr",
     "output_type": "stream",
     "text": [
      "\r",
      " 40%|████      | 509/1261 [03:11<04:24,  2.84it/s]"
     ]
    },
    {
     "name": "stdout",
     "output_type": "stream",
     "text": [
      "[250 251 252 ..., 304 305 306]\n",
      "[640 640 640 ...,  79  79  79]\n",
      "[1094 1095 1096 ..., 1107 1108 1109]\n",
      "[597 597 597 ...,  77  77  77]\n"
     ]
    },
    {
     "name": "stderr",
     "output_type": "stream",
     "text": [
      "\r",
      " 40%|████      | 510/1261 [03:12<04:24,  2.84it/s]"
     ]
    },
    {
     "name": "stdout",
     "output_type": "stream",
     "text": [
      "[250 251 252 ..., 292 293 294]\n",
      "[640 640 640 ...,  79  79  79]\n",
      "[1087 1088 1089 ..., 1124 1125 1126]\n",
      "[630 630 630 ...,  79  79  79]\n"
     ]
    },
    {
     "name": "stderr",
     "output_type": "stream",
     "text": [
      "\r",
      " 41%|████      | 511/1261 [03:12<04:23,  2.85it/s]"
     ]
    },
    {
     "name": "stdout",
     "output_type": "stream",
     "text": [
      "[258 259 260 ..., 292 293 294]\n",
      "[640 640 640 ...,  79  79  79]\n",
      "[1070 1071 1072 ..., 1124 1125 1126]\n",
      "[661 661 661 ...,  79  79  79]\n"
     ]
    },
    {
     "name": "stderr",
     "output_type": "stream",
     "text": [
      "\r",
      " 41%|████      | 512/1261 [03:12<04:19,  2.88it/s]"
     ]
    },
    {
     "name": "stdout",
     "output_type": "stream",
     "text": [
      "[259 260 261 ..., 292 293 294]\n",
      "[640 640 640 ...,  79  79  79]\n",
      "[1068 1069 1065 ..., 1118 1119 1120]\n",
      "[692 692 693 ...,  79  79  79]\n"
     ]
    },
    {
     "name": "stderr",
     "output_type": "stream",
     "text": [
      "\r",
      " 41%|████      | 513/1261 [03:13<04:26,  2.80it/s]"
     ]
    },
    {
     "name": "stdout",
     "output_type": "stream",
     "text": [
      "[256 257 258 ..., 304 305 306]\n",
      "[640 640 640 ...,  79  79  79]\n",
      "[1058 1059 1060 ..., 1100 1101 1102]\n",
      "[560 560 560 ..., 159 159 159]\n"
     ]
    },
    {
     "name": "stderr",
     "output_type": "stream",
     "text": [
      "\r",
      " 41%|████      | 514/1261 [03:13<04:27,  2.79it/s]"
     ]
    },
    {
     "name": "stdout",
     "output_type": "stream",
     "text": [
      "[253 254 255 ..., 304 305 306]\n",
      "[640 640 640 ...,  79  79  79]\n",
      "[1058 1059 1060 ..., 1105 1106 1107]\n",
      "[560 560 560 ..., 159 159 159]\n"
     ]
    },
    {
     "name": "stderr",
     "output_type": "stream",
     "text": [
      "\r",
      " 41%|████      | 515/1261 [03:13<04:25,  2.81it/s]"
     ]
    },
    {
     "name": "stdout",
     "output_type": "stream",
     "text": [
      "[253 254 255 ..., 287 288 289]\n",
      "[640 640 640 ...,  79  79  79]\n",
      "[1058 1059 1060 ..., 1097 1098 1099]\n",
      "[640 640 640 ..., 239 239 239]\n"
     ]
    },
    {
     "name": "stderr",
     "output_type": "stream",
     "text": [
      "\r",
      " 41%|████      | 516/1261 [03:14<04:16,  2.90it/s]"
     ]
    },
    {
     "name": "stdout",
     "output_type": "stream",
     "text": [
      "[259 260 261 ..., 263 264 265]\n",
      "[640 640 640 ...,  79  79  79]\n",
      "[1060 1061 1062 ..., 1097 1098 1099]\n",
      "[640 640 640 ..., 239 239 239]\n"
     ]
    },
    {
     "name": "stderr",
     "output_type": "stream",
     "text": [
      "\r",
      " 41%|████      | 517/1261 [03:14<04:21,  2.84it/s]"
     ]
    },
    {
     "name": "stdout",
     "output_type": "stream",
     "text": [
      "[251 252 253 ..., 257 258 259]\n",
      "[640 640 640 ...,  79  79  79]\n",
      "[1062 1063 1064 ..., 1102 1103 1104]\n",
      "[640 640 640 ..., 239 239 239]\n"
     ]
    },
    {
     "name": "stderr",
     "output_type": "stream",
     "text": [
      "\r",
      " 41%|████      | 518/1261 [03:14<04:17,  2.88it/s]"
     ]
    },
    {
     "name": "stdout",
     "output_type": "stream",
     "text": [
      "[251 252 253 ..., 245 246 247]\n",
      "[640 640 640 ...,  79  79  79]\n",
      "[1066 1067 1068 ..., 1098 1099 1100]\n",
      "[641 641 641 ..., 319 319 319]\n"
     ]
    },
    {
     "name": "stderr",
     "output_type": "stream",
     "text": [
      "\r",
      " 41%|████      | 519/1261 [03:15<04:15,  2.90it/s]"
     ]
    },
    {
     "name": "stdout",
     "output_type": "stream",
     "text": [
      "[251 252 253 ..., 287 288 289]\n",
      "[640 640 640 ...,  79  79  79]\n",
      "[1068 1069 1070 ..., 1091 1092 1093]\n",
      "[671 671 671 ...,  20  20  20]\n"
     ]
    },
    {
     "name": "stderr",
     "output_type": "stream",
     "text": [
      "\r",
      " 41%|████      | 520/1261 [03:15<04:20,  2.85it/s]"
     ]
    },
    {
     "name": "stdout",
     "output_type": "stream",
     "text": [
      "[255 256 257 ..., 298 299 300]\n",
      "[640 640 640 ...,  79  79  79]\n",
      "[1064 1065 1066 ..., 1078 1079 1080]\n",
      "[703 703 703 ...,  77  77  77]\n"
     ]
    },
    {
     "name": "stderr",
     "output_type": "stream",
     "text": [
      "\r",
      " 41%|████▏     | 521/1261 [03:16<04:16,  2.88it/s]"
     ]
    },
    {
     "name": "stdout",
     "output_type": "stream",
     "text": [
      "[255 256 257 ..., 275 276 277]\n",
      "[640 640 640 ...,  79  79  79]\n",
      "[1080 1081 1082 ..., 1100 1101 1102]\n",
      "[596 596 596 ...,  79  79  79]\n"
     ]
    },
    {
     "name": "stderr",
     "output_type": "stream",
     "text": [
      "\r",
      " 41%|████▏     | 522/1261 [03:16<04:18,  2.85it/s]"
     ]
    },
    {
     "name": "stdout",
     "output_type": "stream",
     "text": [
      "[255 256 257 ..., 292 293 294]\n",
      "[640 640 640 ...,  79  79  79]\n",
      "[1069 1070 1071 ..., 1112 1113 1114]\n",
      "[628 628 628 ...,  79  79  79]\n"
     ]
    },
    {
     "name": "stderr",
     "output_type": "stream",
     "text": [
      "\r",
      " 41%|████▏     | 523/1261 [03:16<04:16,  2.88it/s]"
     ]
    },
    {
     "name": "stdout",
     "output_type": "stream",
     "text": [
      "[255 256 257 ..., 315 316 317]\n",
      "[640 640 640 ...,  77  77  77]\n",
      "[1067 1068 1069 ..., 1118 1119 1120]\n",
      "[659 659 659 ...,  79  79  79]\n"
     ]
    },
    {
     "name": "stderr",
     "output_type": "stream",
     "text": [
      "\r",
      " 42%|████▏     | 524/1261 [03:17<04:07,  2.97it/s]"
     ]
    },
    {
     "name": "stdout",
     "output_type": "stream",
     "text": [
      "[256 257 258 ..., 316 317 318]\n",
      "[640 640 640 ...,  79  79  79]\n",
      "[1063 1064 1071 ..., 1112 1113 1114]\n",
      "[692 692 692 ...,  79  79  79]\n"
     ]
    },
    {
     "name": "stderr",
     "output_type": "stream",
     "text": [
      "\r",
      " 42%|████▏     | 525/1261 [03:17<04:06,  2.98it/s]"
     ]
    },
    {
     "name": "stdout",
     "output_type": "stream",
     "text": [
      "[258 259 260 ..., 275 276 277]\n",
      "[640 640 640 ...,  79  79  79]\n",
      "[1060 1061 1062 ..., 1094 1095 1096]\n",
      "[560 560 560 ...,  79  79  79]\n"
     ]
    },
    {
     "name": "stderr",
     "output_type": "stream",
     "text": [
      "\r",
      " 42%|████▏     | 526/1261 [03:17<04:11,  2.93it/s]"
     ]
    },
    {
     "name": "stdout",
     "output_type": "stream",
     "text": [
      "[255 256 257 ..., 298 299 300]\n",
      "[640 640 640 ...,  79  79  79]\n",
      "[1065 1066 1067 ..., 1115 1116 1117]\n",
      "[560 560 560 ..., 159 159 159]\n"
     ]
    },
    {
     "name": "stderr",
     "output_type": "stream",
     "text": [
      "\r",
      " 42%|████▏     | 527/1261 [03:18<04:12,  2.91it/s]"
     ]
    },
    {
     "name": "stdout",
     "output_type": "stream",
     "text": [
      "[253 254 255 ..., 269 270 271]\n",
      "[640 640 640 ...,  79  79  79]\n",
      "[1065 1066 1067 ..., 1121 1122 1123]\n",
      "[640 640 640 ..., 159 159 159]\n"
     ]
    },
    {
     "name": "stderr",
     "output_type": "stream",
     "text": [
      "\r",
      " 42%|████▏     | 528/1261 [03:18<04:13,  2.89it/s]"
     ]
    },
    {
     "name": "stdout",
     "output_type": "stream",
     "text": [
      "[250 251 252 ..., 263 264 265]\n",
      "[640 640 640 ...,  79  79  79]\n",
      "[1068 1069 1070 ..., 1131 1132 1133]\n",
      "[640 640 640 ..., 159 159 159]\n"
     ]
    },
    {
     "name": "stderr",
     "output_type": "stream",
     "text": [
      "\r",
      " 42%|████▏     | 529/1261 [03:18<04:14,  2.87it/s]"
     ]
    },
    {
     "name": "stdout",
     "output_type": "stream",
     "text": [
      "[251 252 253 ..., 257 258 259]\n",
      "[640 640 640 ...,  79  79  79]\n",
      "[1066 1067 1068 ..., 1093 1094 1095]\n",
      "[640 640 640 ...,  40  40  40]\n"
     ]
    },
    {
     "name": "stderr",
     "output_type": "stream",
     "text": [
      "\r",
      " 42%|████▏     | 530/1261 [03:19<04:21,  2.80it/s]"
     ]
    },
    {
     "name": "stdout",
     "output_type": "stream",
     "text": [
      "[258 259 260 ..., 310 311 312]\n",
      "[640 640 640 ...,  79  79  79]\n",
      "[1066 1067 1068 ..., 1088 1089 1090]\n",
      "[640 640 640 ...,  79  79  79]\n"
     ]
    },
    {
     "name": "stderr",
     "output_type": "stream",
     "text": [
      "\r",
      " 42%|████▏     | 531/1261 [03:19<04:20,  2.80it/s]"
     ]
    },
    {
     "name": "stdout",
     "output_type": "stream",
     "text": [
      "[259 260 261 ..., 328 329 330]\n",
      "[640 640 640 ...,  79  79  79]\n",
      "[1065 1066 1067 ..., 1088 1089 1090]\n",
      "[671 671 671 ...,  79  79  79]\n"
     ]
    },
    {
     "name": "stderr",
     "output_type": "stream",
     "text": [
      "\r",
      " 42%|████▏     | 532/1261 [03:19<04:19,  2.80it/s]"
     ]
    },
    {
     "name": "stdout",
     "output_type": "stream",
     "text": [
      "[264 265 266 ..., 340 341 342]\n",
      "[640 640 640 ...,  79  79  79]\n",
      "[1059 1060 1061 ..., 1077 1078 1079]\n",
      "[703 703 703 ...,  79  79  79]\n"
     ]
    },
    {
     "name": "stderr",
     "output_type": "stream",
     "text": [
      "\r",
      " 42%|████▏     | 533/1261 [03:20<04:15,  2.84it/s]"
     ]
    },
    {
     "name": "stdout",
     "output_type": "stream",
     "text": [
      "[264 265 266 ..., 339 340 341]\n",
      "[640 640 640 ..., 159 159 159]\n",
      "[1073 1074 1075 ..., 1047 1048 1049]\n",
      "[601 601 601 ...,  79  79  79]\n"
     ]
    },
    {
     "name": "stderr",
     "output_type": "stream",
     "text": [
      "\r",
      " 42%|████▏     | 534/1261 [03:20<04:09,  2.91it/s]"
     ]
    },
    {
     "name": "stdout",
     "output_type": "stream",
     "text": [
      "[264 265 266 ..., 339 340 341]\n",
      "[640 640 640 ..., 159 159 159]\n",
      "[1087 1088 1089 ..., 1024 1025 1026]\n",
      "[630 630 630 ...,  79  79  79]\n"
     ]
    },
    {
     "name": "stderr",
     "output_type": "stream",
     "text": [
      "\r",
      " 42%|████▏     | 535/1261 [03:20<04:13,  2.86it/s]"
     ]
    },
    {
     "name": "stdout",
     "output_type": "stream",
     "text": [
      "[266 267 268 ..., 339 340 341]\n",
      "[640 640 640 ..., 159 159 159]\n",
      "[1075 1076 1077 ..., 1088 1089 1090]\n",
      "[660 660 660 ...,  79  79  79]\n"
     ]
    },
    {
     "name": "stderr",
     "output_type": "stream",
     "text": [
      "\r",
      " 43%|████▎     | 536/1261 [03:21<04:12,  2.87it/s]"
     ]
    },
    {
     "name": "stdout",
     "output_type": "stream",
     "text": [
      "[268 269 270 ..., 317 318 319]\n",
      "[640 640 640 ..., 159 159 159]\n",
      "[1082 1083 1084 ..., 1102 1103 1104]\n",
      "[689 689 689 ..., 239 239 239]\n"
     ]
    },
    {
     "name": "stderr",
     "output_type": "stream",
     "text": [
      "\r",
      " 43%|████▎     | 537/1261 [03:21<04:08,  2.91it/s]"
     ]
    },
    {
     "name": "stdout",
     "output_type": "stream",
     "text": [
      "[274 275 276 ..., 291 292 293]\n",
      "[640 640 640 ..., 159 159 159]\n",
      "[1065 1066 1067 ..., 1091 1092 1093]\n",
      "[560 560 560 ...,  20  20  20]\n"
     ]
    },
    {
     "name": "stderr",
     "output_type": "stream",
     "text": [
      "\r",
      " 43%|████▎     | 538/1261 [03:21<04:02,  2.98it/s]"
     ]
    },
    {
     "name": "stdout",
     "output_type": "stream",
     "text": [
      "[264 265 266 ..., 312 313 314]\n",
      "[640 640 640 ..., 239 239 239]\n",
      "[1067 1068 1069 ..., 1104 1105 1106]\n",
      "[560 560 560 ...,  20  20  20]\n"
     ]
    },
    {
     "name": "stderr",
     "output_type": "stream",
     "text": [
      "\r",
      " 43%|████▎     | 539/1261 [03:22<04:07,  2.91it/s]"
     ]
    },
    {
     "name": "stdout",
     "output_type": "stream",
     "text": [
      "[268 269 270 ..., 307 308 309]\n",
      "[640 640 640 ..., 239 239 239]\n",
      "[1068 1069 1070 ..., 1094 1095 1096]\n",
      "[640 640 640 ...,  59  59  59]\n"
     ]
    },
    {
     "name": "stderr",
     "output_type": "stream",
     "text": [
      "\r",
      " 43%|████▎     | 540/1261 [03:22<04:03,  2.96it/s]"
     ]
    },
    {
     "name": "stdout",
     "output_type": "stream",
     "text": [
      "[268 269 270 ..., 280 281 282]\n",
      "[640 640 640 ..., 159 159 159]\n",
      "[1066 1067 1068 ..., 1106 1107 1108]\n",
      "[640 640 640 ...,  79  79  79]\n"
     ]
    },
    {
     "name": "stderr",
     "output_type": "stream",
     "text": [
      "\r",
      " 43%|████▎     | 541/1261 [03:22<04:00,  2.99it/s]"
     ]
    },
    {
     "name": "stdout",
     "output_type": "stream",
     "text": [
      "[271 272 273 ..., 296 297 298]\n",
      "[640 640 640 ..., 159 159 159]\n",
      "[1065 1066 1067 ..., 1100 1101 1102]\n",
      "[640 640 640 ...,  79  79  79]\n"
     ]
    },
    {
     "name": "stderr",
     "output_type": "stream",
     "text": [
      "\r",
      " 43%|████▎     | 542/1261 [03:23<04:01,  2.98it/s]"
     ]
    },
    {
     "name": "stdout",
     "output_type": "stream",
     "text": [
      "[264 265 266 ..., 307 308 309]\n",
      "[640 640 640 ..., 239 239 239]\n",
      "[1062 1063 1064 ..., 1118 1119 1120]\n",
      "[640 640 640 ...,  79  79  79]\n"
     ]
    },
    {
     "name": "stderr",
     "output_type": "stream",
     "text": [
      "\r",
      " 43%|████▎     | 543/1261 [03:23<03:59,  3.00it/s]"
     ]
    },
    {
     "name": "stdout",
     "output_type": "stream",
     "text": [
      "[264 265 266 ..., 298 299 300]\n",
      "[640 640 640 ..., 239 239 239]\n",
      "[1068 1069 1070 ..., 1106 1107 1108]\n",
      "[662 662 662 ...,  79  79  79]\n"
     ]
    },
    {
     "name": "stderr",
     "output_type": "stream",
     "text": [
      "\r",
      " 43%|████▎     | 544/1261 [03:23<04:00,  2.98it/s]"
     ]
    },
    {
     "name": "stdout",
     "output_type": "stream",
     "text": [
      "[268 269 270 ..., 289 290 291]\n",
      "[640 640 640 ..., 239 239 239]\n",
      "[1064 1065 1066 ..., 1110 1111 1112]\n",
      "[663 663 663 ..., 159 159 159]\n"
     ]
    },
    {
     "name": "stderr",
     "output_type": "stream",
     "text": [
      "\r",
      " 43%|████▎     | 545/1261 [03:24<04:00,  2.98it/s]"
     ]
    },
    {
     "name": "stdout",
     "output_type": "stream",
     "text": [
      "[268 269 270 ..., 307 308 309]\n",
      "[640 640 640 ..., 239 239 239]\n",
      "[1062 1063 1064 ..., 1115 1116 1117]\n",
      "[693 693 693 ..., 159 159 159]\n"
     ]
    },
    {
     "name": "stderr",
     "output_type": "stream",
     "text": [
      "\r",
      " 43%|████▎     | 546/1261 [03:24<04:01,  2.96it/s]"
     ]
    },
    {
     "name": "stdout",
     "output_type": "stream",
     "text": [
      "[274 275 276 ..., 293 294 295]\n",
      "[640 640 640 ..., 239 239 239]\n",
      "[1060 1061 1062 ..., 1115 1116 1117]\n",
      "[560 560 560 ..., 159 159 159]\n"
     ]
    },
    {
     "name": "stderr",
     "output_type": "stream",
     "text": [
      "\r",
      " 43%|████▎     | 547/1261 [03:24<04:05,  2.90it/s]"
     ]
    },
    {
     "name": "stdout",
     "output_type": "stream",
     "text": [
      "[268 269 270 ..., 296 297 298]\n",
      "[640 640 640 ..., 159 159 159]\n",
      "[1060 1061 1062 ..., 1107 1108 1109]\n",
      "[560 560 560 ..., 239 239 239]\n"
     ]
    },
    {
     "name": "stderr",
     "output_type": "stream",
     "text": [
      "\r",
      " 43%|████▎     | 548/1261 [03:25<04:09,  2.85it/s]"
     ]
    },
    {
     "name": "stdout",
     "output_type": "stream",
     "text": [
      "[279 280 281 ..., 289 290 291]\n",
      "[640 640 640 ..., 239 239 239]\n",
      "[1063 1064 1065 ..., 1107 1108 1109]\n",
      "[645 645 645 ..., 239 239 239]\n"
     ]
    },
    {
     "name": "stderr",
     "output_type": "stream",
     "text": [
      "\r",
      " 44%|████▎     | 549/1261 [03:25<04:04,  2.91it/s]"
     ]
    },
    {
     "name": "stdout",
     "output_type": "stream",
     "text": [
      "[268 269 270 ..., 284 285 286]\n",
      "[640 640 640 ..., 239 239 239]\n",
      "[1063 1064 1065 ..., 1102 1103 1104]\n",
      "[640 640 640 ..., 319 319 319]\n"
     ]
    },
    {
     "name": "stderr",
     "output_type": "stream",
     "text": [
      "\r",
      " 44%|████▎     | 550/1261 [03:26<04:08,  2.87it/s]"
     ]
    },
    {
     "name": "stdout",
     "output_type": "stream",
     "text": [
      "[261 262 263 ..., 263 264 265]\n",
      "[640 640 640 ...,  79  79  79]\n",
      "[1063 1064 1065 ..., 1122 1123 1124]\n",
      "[640 640 640 ..., 319 319 319]\n"
     ]
    },
    {
     "name": "stderr",
     "output_type": "stream",
     "text": [
      "\r",
      " 44%|████▎     | 551/1261 [03:26<04:11,  2.82it/s]"
     ]
    },
    {
     "name": "stdout",
     "output_type": "stream",
     "text": [
      "[259 260 261 ..., 270 271 272]\n",
      "[640 640 640 ..., 159 159 159]\n",
      "[1070 1071 1072 ..., 1131 1132 1133]\n",
      "[640 640 640 ..., 159 159 159]\n"
     ]
    },
    {
     "name": "stderr",
     "output_type": "stream",
     "text": [
      "\r",
      " 44%|████▍     | 552/1261 [03:26<04:26,  2.67it/s]"
     ]
    },
    {
     "name": "stdout",
     "output_type": "stream",
     "text": [
      "[256 257 258 ..., 293 294 295]\n",
      "[640 640 640 ..., 239 239 239]\n",
      "[1068 1069 1070 ..., 1129 1130 1131]\n",
      "[640 640 640 ...,  20  20  20]\n"
     ]
    },
    {
     "name": "stderr",
     "output_type": "stream",
     "text": [
      "\r",
      " 44%|████▍     | 553/1261 [03:27<04:19,  2.72it/s]"
     ]
    },
    {
     "name": "stdout",
     "output_type": "stream",
     "text": [
      "[264 265 266 ..., 275 276 277]\n",
      "[640 640 640 ..., 159 159 159]\n",
      "[1078 1079 1080 ..., 1131 1132 1133]\n",
      "[657 657 657 ...,  77  77  77]\n"
     ]
    },
    {
     "name": "stderr",
     "output_type": "stream",
     "text": [
      "\r",
      " 44%|████▍     | 554/1261 [03:27<04:09,  2.83it/s]"
     ]
    },
    {
     "name": "stdout",
     "output_type": "stream",
     "text": [
      "[268 269 270 ..., 275 276 277]\n",
      "[640 640 640 ..., 159 159 159]\n",
      "[1064 1065 1066 ..., 1153 1154 1155]\n",
      "[648 648 648 ...,  79  79  79]\n"
     ]
    },
    {
     "name": "stderr",
     "output_type": "stream",
     "text": [
      "\r",
      " 44%|████▍     | 555/1261 [03:27<04:02,  2.92it/s]"
     ]
    },
    {
     "name": "stdout",
     "output_type": "stream",
     "text": [
      "[266 267 268 ..., 275 276 277]\n",
      "[640 640 640 ..., 239 239 239]\n",
      "[1081 1082 1083 ..., 1165 1166 1167]\n",
      "[660 660 660 ...,  79  79  79]\n"
     ]
    },
    {
     "name": "stderr",
     "output_type": "stream",
     "text": [
      "\r",
      " 44%|████▍     | 556/1261 [03:28<04:11,  2.81it/s]"
     ]
    },
    {
     "name": "stdout",
     "output_type": "stream",
     "text": [
      "[264 265 266 ..., 298 299 300]\n",
      "[640 640 640 ..., 239 239 239]\n",
      "[1076 1077 1078 ..., 1147 1148 1149]\n",
      "[692 692 692 ...,  79  79  79]\n"
     ]
    },
    {
     "name": "stderr",
     "output_type": "stream",
     "text": [
      "\r",
      " 44%|████▍     | 557/1261 [03:28<04:04,  2.88it/s]"
     ]
    },
    {
     "name": "stdout",
     "output_type": "stream",
     "text": [
      "[264 265 266 ..., 293 294 295]\n",
      "[640 640 640 ..., 239 239 239]\n",
      "[1073 1074 1075 ..., 1142 1143 1144]\n",
      "[560 560 560 ..., 159 159 159]\n"
     ]
    },
    {
     "name": "stderr",
     "output_type": "stream",
     "text": [
      "\r",
      " 44%|████▍     | 558/1261 [03:28<04:03,  2.89it/s]"
     ]
    },
    {
     "name": "stdout",
     "output_type": "stream",
     "text": [
      "[259 260 261 ..., 279 280 281]\n",
      "[640 640 640 ..., 239 239 239]\n",
      "[1112 1113 1114 ..., 1147 1148 1149]\n",
      "[652 652 652 ..., 159 159 159]\n"
     ]
    },
    {
     "name": "stderr",
     "output_type": "stream",
     "text": [
      "\r",
      " 44%|████▍     | 559/1261 [03:29<04:02,  2.89it/s]"
     ]
    },
    {
     "name": "stdout",
     "output_type": "stream",
     "text": [
      "[248 249 250 ..., 275 276 277]\n",
      "[640 640 640 ..., 239 239 239]\n",
      "[1084 1085 1086 ..., 1174 1175 1176]\n",
      "[640 640 640 ..., 159 159 159]\n"
     ]
    },
    {
     "name": "stderr",
     "output_type": "stream",
     "text": [
      "\r",
      " 44%|████▍     | 560/1261 [03:29<04:07,  2.83it/s]"
     ]
    },
    {
     "name": "stdout",
     "output_type": "stream",
     "text": [
      "[240 241 242 ..., 133 134 135]\n",
      "[640 640 640 ...,  79  79  79]\n",
      "[1102 1103 1104 ..., 1248 1249 1250]\n",
      "[640 640 640 ...,  79  79  79]\n"
     ]
    },
    {
     "name": "stderr",
     "output_type": "stream",
     "text": [
      "\r",
      " 44%|████▍     | 561/1261 [03:29<04:00,  2.91it/s]"
     ]
    },
    {
     "name": "stdout",
     "output_type": "stream",
     "text": [
      "[232 233 234 ..., 203 204 205]\n",
      "[640 640 640 ...,  77  77  77]\n",
      "[1105 1106 1107 ..., 1265 1266 1267]\n",
      "[640 640 640 ...,  79  79  79]\n"
     ]
    },
    {
     "name": "stderr",
     "output_type": "stream",
     "text": [
      "\r",
      " 45%|████▍     | 562/1261 [03:30<04:00,  2.91it/s]"
     ]
    },
    {
     "name": "stdout",
     "output_type": "stream",
     "text": [
      "[227 228 229 ..., 175 176 177]\n",
      "[640 640 640 ...,  79  79  79]\n",
      "[1116 1117 1118 ..., 1271 1272 1273]\n",
      "[640 640 640 ...,  79  79  79]\n"
     ]
    },
    {
     "name": "stderr",
     "output_type": "stream",
     "text": [
      "\r",
      " 45%|████▍     | 563/1261 [03:30<03:56,  2.96it/s]"
     ]
    },
    {
     "name": "stdout",
     "output_type": "stream",
     "text": [
      "[234 235 236 ..., 228 229 230]\n",
      "[640 640 640 ..., 239 239 239]\n",
      "[1120 1121 1122 ..., 1221 1222 1223]\n",
      "[658 658 658 ...,  59  59  59]\n"
     ]
    },
    {
     "name": "stderr",
     "output_type": "stream",
     "text": [
      "\r",
      " 45%|████▍     | 564/1261 [03:30<03:59,  2.91it/s]"
     ]
    },
    {
     "name": "stdout",
     "output_type": "stream",
     "text": [
      "[243 244 245 ..., 269 270 271]\n",
      "[640 640 640 ..., 319 319 319]\n",
      "[1102 1103 1104 ..., 1155 1156 1157]\n",
      "[695 695 695 ...,  20  20  20]\n"
     ]
    },
    {
     "name": "stderr",
     "output_type": "stream",
     "text": [
      "\r",
      " 45%|████▍     | 565/1261 [03:31<03:58,  2.92it/s]"
     ]
    },
    {
     "name": "stdout",
     "output_type": "stream",
     "text": [
      "[251 252 253 ..., 273 274 275]\n",
      "[640 640 640 ..., 319 319 319]\n",
      "[1103 1104 1105 ..., 1136 1137 1138]\n",
      "[597 597 597 ...,  79  79  79]\n"
     ]
    },
    {
     "name": "stderr",
     "output_type": "stream",
     "text": [
      "\r",
      " 45%|████▍     | 566/1261 [03:31<03:59,  2.90it/s]"
     ]
    },
    {
     "name": "stdout",
     "output_type": "stream",
     "text": [
      "[258 259 260 ..., 299 300 301]\n",
      "[640 640 640 ..., 301 301 301]\n",
      "[1079 1080 1081 ..., 1136 1137 1138]\n",
      "[640 640 640 ...,  79  79  79]\n"
     ]
    },
    {
     "name": "stderr",
     "output_type": "stream",
     "text": [
      "\r",
      " 45%|████▍     | 567/1261 [03:32<04:16,  2.71it/s]"
     ]
    },
    {
     "name": "stdout",
     "output_type": "stream",
     "text": [
      "[229 230 231 ..., 301 302 303]\n",
      "[640 640 640 ..., 319 319 319]\n",
      "[1083 1084 1085 ..., 1121 1122 1123]\n",
      "[664 664 664 ..., 159 159 159]\n"
     ]
    },
    {
     "name": "stderr",
     "output_type": "stream",
     "text": [
      "\r",
      " 45%|████▌     | 568/1261 [03:32<04:08,  2.79it/s]"
     ]
    },
    {
     "name": "stdout",
     "output_type": "stream",
     "text": [
      "[263 264 265 ..., 290 291 292]\n",
      "[640 640 640 ..., 399 399 399]\n",
      "[1081 1082 1083 ..., 1115 1116 1117]\n",
      "[694 694 694 ..., 159 159 159]\n"
     ]
    },
    {
     "name": "stderr",
     "output_type": "stream",
     "text": [
      "\r",
      " 45%|████▌     | 569/1261 [03:32<04:24,  2.61it/s]"
     ]
    },
    {
     "name": "stdout",
     "output_type": "stream",
     "text": [
      "[259 260 261 ..., 283 284 285]\n",
      "[640 640 640 ..., 399 399 399]\n",
      "[1069 1070 1071 ..., 1131 1132 1133]\n",
      "[560 560 560 ..., 159 159 159]\n"
     ]
    },
    {
     "name": "stderr",
     "output_type": "stream",
     "text": [
      "\r",
      " 45%|████▌     | 570/1261 [03:33<04:25,  2.60it/s]"
     ]
    },
    {
     "name": "stdout",
     "output_type": "stream",
     "text": [
      "[258 259 260 ..., 277 278 279]\n",
      "[640 640 640 ..., 319 319 319]\n",
      "[1076 1077 1078 ..., 1142 1143 1144]\n",
      "[560 560 560 ..., 159 159 159]\n"
     ]
    },
    {
     "name": "stderr",
     "output_type": "stream",
     "text": [
      "\r",
      " 45%|████▌     | 571/1261 [03:33<04:19,  2.66it/s]"
     ]
    },
    {
     "name": "stdout",
     "output_type": "stream",
     "text": [
      "[256 257 258 ..., 265 266 267]\n",
      "[640 640 640 ..., 319 319 319]\n",
      "[1078 1079 1080 ..., 1163 1164 1165]\n",
      "[640 640 640 ..., 159 159 159]\n"
     ]
    },
    {
     "name": "stderr",
     "output_type": "stream",
     "text": [
      "\r",
      " 45%|████▌     | 572/1261 [03:33<04:36,  2.49it/s]"
     ]
    },
    {
     "name": "stdout",
     "output_type": "stream",
     "text": [
      "[255 256 257 ..., 272 273 274]\n",
      "[640 640 640 ..., 399 399 399]\n",
      "[1079 1080 1081 ..., 1142 1143 1144]\n",
      "[640 640 640 ...,  79  79  79]\n"
     ]
    },
    {
     "name": "stderr",
     "output_type": "stream",
     "text": [
      "\r",
      " 45%|████▌     | 573/1261 [03:34<04:31,  2.53it/s]"
     ]
    },
    {
     "name": "stdout",
     "output_type": "stream",
     "text": [
      "[256 257 258 ..., 269 270 271]\n",
      "[640 640 640 ..., 319 319 319]\n",
      "[1083 1084 1085 ..., 1159 1160 1161]\n",
      "[640 640 640 ...,  79  79  79]\n"
     ]
    },
    {
     "name": "stderr",
     "output_type": "stream",
     "text": [
      "\r",
      " 46%|████▌     | 574/1261 [03:34<04:21,  2.63it/s]"
     ]
    },
    {
     "name": "stdout",
     "output_type": "stream",
     "text": [
      "[253 254 255 ..., 209 210 211]\n",
      "[640 640 640 ...,  20  20  20]\n",
      "[1087 1088 1089 ..., 1118 1119 1120]\n",
      "[640 640 640 ...,  40  40  40]\n"
     ]
    },
    {
     "name": "stderr",
     "output_type": "stream",
     "text": [
      "\r",
      " 46%|████▌     | 575/1261 [03:35<04:49,  2.37it/s]"
     ]
    },
    {
     "name": "stdout",
     "output_type": "stream",
     "text": [
      "[258 259 260 ..., 279 280 281]\n",
      "[640 640 640 ..., 399 399 399]\n",
      "[1100 1101 1102 ..., 1113 1114 1115]\n",
      "[667 667 667 ...,  77  77  77]\n"
     ]
    },
    {
     "name": "stderr",
     "output_type": "stream",
     "text": [
      "\r",
      " 46%|████▌     | 576/1261 [03:35<04:33,  2.51it/s]"
     ]
    },
    {
     "name": "stdout",
     "output_type": "stream",
     "text": [
      "[259 260 261 ..., 297 298 299]\n",
      "[640 640 640 ..., 319 319 319]\n",
      "[1089 1090 1091 ..., 1130 1131 1132]\n",
      "[699 699 699 ...,  79  79  79]\n"
     ]
    },
    {
     "name": "stderr",
     "output_type": "stream",
     "text": [
      "\r",
      " 46%|████▌     | 577/1261 [03:35<04:19,  2.64it/s]"
     ]
    },
    {
     "name": "stdout",
     "output_type": "stream",
     "text": [
      "[261 262 263 ..., 300 301 302]\n",
      "[640 640 640 ..., 310 310 310]\n",
      "[1096 1097 1098 ..., 1136 1137 1138]\n",
      "[615 615 615 ...,  79  79  79]\n"
     ]
    },
    {
     "name": "stderr",
     "output_type": "stream",
     "text": [
      "\r",
      " 46%|████▌     | 578/1261 [03:36<04:10,  2.73it/s]"
     ]
    },
    {
     "name": "stdout",
     "output_type": "stream",
     "text": [
      "[261 262 263 ..., 293 294 295]\n",
      "[640 640 640 ..., 399 399 399]\n",
      "[1095 1096 1097 ..., 1112 1113 1114]\n",
      "[646 646 646 ...,  79  79  79]\n"
     ]
    },
    {
     "name": "stderr",
     "output_type": "stream",
     "text": [
      "\r",
      " 46%|████▌     | 579/1261 [03:36<03:59,  2.85it/s]"
     ]
    },
    {
     "name": "stdout",
     "output_type": "stream",
     "text": [
      "[268 269 270 ..., 300 301 302]\n",
      "[640 640 640 ..., 399 399 399]\n",
      "[1090 1091 1092 ..., 1115 1116 1117]\n",
      "[678 678 678 ..., 159 159 159]\n"
     ]
    },
    {
     "name": "stderr",
     "output_type": "stream",
     "text": [
      "\r",
      " 46%|████▌     | 580/1261 [03:36<03:58,  2.85it/s]"
     ]
    },
    {
     "name": "stdout",
     "output_type": "stream",
     "text": [
      "[266 267 268 ..., 293 294 295]\n",
      "[640 640 640 ..., 399 399 399]\n",
      "[1090 1091 1092 ..., 1115 1116 1117]\n",
      "[707 707 707 ..., 159 159 159]\n"
     ]
    },
    {
     "name": "stderr",
     "output_type": "stream",
     "text": [
      "\r",
      " 46%|████▌     | 581/1261 [03:37<03:53,  2.91it/s]"
     ]
    },
    {
     "name": "stdout",
     "output_type": "stream",
     "text": [
      "[264 265 266 ..., 300 301 302]\n",
      "[640 640 640 ..., 390 390 390]\n",
      "[1082 1083 1084 ..., 1115 1116 1117]\n",
      "[560 560 560 ..., 159 159 159]\n"
     ]
    },
    {
     "name": "stderr",
     "output_type": "stream",
     "text": [
      "\r",
      " 46%|████▌     | 582/1261 [03:37<03:55,  2.88it/s]"
     ]
    },
    {
     "name": "stdout",
     "output_type": "stream",
     "text": [
      "[264 265 266 ..., 293 294 295]\n",
      "[640 640 640 ..., 399 399 399]\n",
      "[1082 1083 1084 ..., 1116 1117 1118]\n",
      "[560 560 560 ..., 239 239 239]\n"
     ]
    },
    {
     "name": "stderr",
     "output_type": "stream",
     "text": [
      "\r",
      " 46%|████▌     | 583/1261 [03:37<03:51,  2.93it/s]"
     ]
    },
    {
     "name": "stdout",
     "output_type": "stream",
     "text": [
      "[264 265 266 ..., 286 287 288]\n",
      "[640 640 640 ..., 399 399 399]\n",
      "[1081 1082 1083 ..., 1107 1108 1109]\n",
      "[640 640 640 ..., 239 239 239]\n"
     ]
    },
    {
     "name": "stderr",
     "output_type": "stream",
     "text": [
      "\r",
      " 46%|████▋     | 584/1261 [03:38<03:51,  2.92it/s]"
     ]
    },
    {
     "name": "stdout",
     "output_type": "stream",
     "text": [
      "[268 269 270 ..., 283 284 285]\n",
      "[640 640 640 ..., 399 399 399]\n",
      "[1078 1079 1080 ..., 1074 1075 1076]\n",
      "[640 640 640 ...,  40  40  40]\n"
     ]
    },
    {
     "name": "stderr",
     "output_type": "stream",
     "text": [
      "\r",
      " 46%|████▋     | 585/1261 [03:38<03:52,  2.91it/s]"
     ]
    },
    {
     "name": "stdout",
     "output_type": "stream",
     "text": [
      "[259 260 261 ..., 286 287 288]\n",
      "[640 640 640 ..., 301 301 301]\n",
      "[1079 1080 1081 ..., 1087 1088 1089]\n",
      "[640 640 640 ...,  40  40  40]\n"
     ]
    },
    {
     "name": "stderr",
     "output_type": "stream",
     "text": [
      "\r",
      " 46%|████▋     | 586/1261 [03:38<03:50,  2.93it/s]"
     ]
    },
    {
     "name": "stdout",
     "output_type": "stream",
     "text": [
      "[264 265 266 ..., 292 293 294]\n",
      "[640 640 640 ..., 378 378 378]\n",
      "[1085 1086 1087 ..., 1088 1089 1090]\n",
      "[645 645 645 ...,  79  79  79]\n"
     ]
    },
    {
     "name": "stderr",
     "output_type": "stream",
     "text": [
      "\r",
      " 47%|████▋     | 587/1261 [03:39<03:58,  2.83it/s]"
     ]
    },
    {
     "name": "stdout",
     "output_type": "stream",
     "text": [
      "[261 262 263 ..., 293 294 295]\n",
      "[640 640 640 ..., 399 399 399]\n",
      "[1084 1085 1086 ..., 1106 1107 1108]\n",
      "[674 674 674 ...,  79  79  79]\n"
     ]
    },
    {
     "name": "stderr",
     "output_type": "stream",
     "text": [
      "\r",
      " 47%|████▋     | 588/1261 [03:39<03:56,  2.85it/s]"
     ]
    },
    {
     "name": "stdout",
     "output_type": "stream",
     "text": [
      "[264 265 266 ..., 290 291 292]\n",
      "[640 640 640 ..., 399 399 399]\n",
      "[1082 1083 1084 ..., 1106 1107 1108]\n",
      "[704 704 704 ...,  79  79  79]\n"
     ]
    },
    {
     "name": "stderr",
     "output_type": "stream",
     "text": [
      "\r",
      " 47%|████▋     | 589/1261 [03:40<03:51,  2.90it/s]"
     ]
    },
    {
     "name": "stdout",
     "output_type": "stream",
     "text": [
      "[263 264 265 ..., 293 294 295]\n",
      "[640 640 640 ..., 399 399 399]\n",
      "[1090 1091 1092 ..., 1118 1119 1120]\n",
      "[615 615 615 ...,  79  79  79]\n"
     ]
    },
    {
     "name": "stderr",
     "output_type": "stream",
     "text": [
      "\r",
      " 47%|████▋     | 590/1261 [03:40<03:50,  2.91it/s]"
     ]
    },
    {
     "name": "stdout",
     "output_type": "stream",
     "text": [
      "[259 260 261 ..., 272 273 274]\n",
      "[640 640 640 ..., 399 399 399]\n",
      "[1094 1095 1096 ..., 1136 1137 1138]\n",
      "[643 643 643 ...,  79  79  79]\n"
     ]
    },
    {
     "name": "stderr",
     "output_type": "stream",
     "text": [
      "\r",
      " 47%|████▋     | 591/1261 [03:40<03:50,  2.91it/s]"
     ]
    },
    {
     "name": "stdout",
     "output_type": "stream",
     "text": [
      "[253 254 255 ..., 273 274 275]\n",
      "[640 640 640 ..., 319 319 319]\n",
      "[1092 1093 1094 ..., 1142 1143 1144]\n",
      "[678 678 678 ...,  79  79  79]\n"
     ]
    },
    {
     "name": "stderr",
     "output_type": "stream",
     "text": [
      "\r",
      " 47%|████▋     | 592/1261 [03:41<03:47,  2.94it/s]"
     ]
    },
    {
     "name": "stdout",
     "output_type": "stream",
     "text": [
      "[250 251 252 ..., 265 266 267]\n",
      "[640 640 640 ..., 319 319 319]\n",
      "[1087 1088 1089 ..., 1124 1125 1126]\n",
      "[704 704 704 ...,  79  79  79]\n"
     ]
    },
    {
     "name": "stderr",
     "output_type": "stream",
     "text": [
      "\r",
      " 47%|████▋     | 593/1261 [03:41<03:47,  2.93it/s]"
     ]
    },
    {
     "name": "stdout",
     "output_type": "stream",
     "text": [
      "[251 252 253 ..., 265 266 267]\n",
      "[640 640 640 ..., 319 319 319]\n",
      "[1067 1068 1069 ..., 1131 1132 1133]\n",
      "[560 560 560 ..., 159 159 159]\n"
     ]
    },
    {
     "name": "stderr",
     "output_type": "stream",
     "text": [
      "\r",
      " 47%|████▋     | 594/1261 [03:41<03:46,  2.95it/s]"
     ]
    },
    {
     "name": "stdout",
     "output_type": "stream",
     "text": [
      "[250 251 252 ..., 261 262 263]\n",
      "[640 640 640 ..., 301 301 301]\n",
      "[1070 1071 1072 ..., 1126 1127 1128]\n",
      "[640 640 640 ..., 159 159 159]\n"
     ]
    },
    {
     "name": "stderr",
     "output_type": "stream",
     "text": [
      "\r",
      " 47%|████▋     | 595/1261 [03:42<03:46,  2.94it/s]"
     ]
    },
    {
     "name": "stdout",
     "output_type": "stream",
     "text": [
      "[251 252 253 ..., 249 250 251]\n",
      "[640 640 640 ..., 319 319 319]\n",
      "[1068 1069 1070 ..., 1116 1117 1118]\n",
      "[640 640 640 ..., 239 239 239]\n"
     ]
    },
    {
     "name": "stderr",
     "output_type": "stream",
     "text": [
      "\r",
      " 47%|████▋     | 596/1261 [03:42<03:42,  2.98it/s]"
     ]
    },
    {
     "name": "stdout",
     "output_type": "stream",
     "text": [
      "[247 248 249 ..., 245 246 247]\n",
      "[640 640 640 ..., 319 319 319]\n",
      "[1068 1069 1070 ..., 1125 1126 1127]\n",
      "[640 640 640 ..., 239 239 239]\n"
     ]
    },
    {
     "name": "stderr",
     "output_type": "stream",
     "text": [
      "\r",
      " 47%|████▋     | 597/1261 [03:42<03:44,  2.96it/s]"
     ]
    },
    {
     "name": "stdout",
     "output_type": "stream",
     "text": [
      "[247 248 249 ..., 249 250 251]\n",
      "[640 640 640 ..., 319 319 319]\n",
      "[1070 1071 1072 ..., 1125 1126 1127]\n",
      "[640 640 640 ..., 239 239 239]\n"
     ]
    },
    {
     "name": "stderr",
     "output_type": "stream",
     "text": [
      "\r",
      " 47%|████▋     | 598/1261 [03:43<03:40,  3.01it/s]"
     ]
    },
    {
     "name": "stdout",
     "output_type": "stream",
     "text": [
      "[243 244 245 ..., 236 237 238]\n",
      "[640 640 640 ..., 319 319 319]\n",
      "[1078 1079 1080 ..., 1122 1123 1124]\n",
      "[655 655 655 ..., 319 319 319]\n"
     ]
    },
    {
     "name": "stderr",
     "output_type": "stream",
     "text": [
      "\r",
      " 48%|████▊     | 599/1261 [03:43<03:44,  2.94it/s]"
     ]
    },
    {
     "name": "stdout",
     "output_type": "stream",
     "text": [
      "[240 241 242 ..., 253 254 255]\n",
      "[640 640 640 ..., 319 319 319]\n",
      "[1076 1077 1078 ..., 1122 1123 1124]\n",
      "[685 685 685 ..., 319 319 319]\n"
     ]
    },
    {
     "name": "stderr",
     "output_type": "stream",
     "text": [
      "\r",
      " 48%|████▊     | 600/1261 [03:43<03:40,  3.00it/s]"
     ]
    },
    {
     "name": "stdout",
     "output_type": "stream",
     "text": [
      "[237 238 239 ..., 253 254 255]\n",
      "[640 640 640 ..., 319 319 319]\n",
      "[1074 1075 1076 ..., 1121 1122 1123]\n",
      "[715 715 715 ..., 399 399 399]\n"
     ]
    },
    {
     "name": "stderr",
     "output_type": "stream",
     "text": [
      "\r",
      " 48%|████▊     | 601/1261 [03:44<03:50,  2.86it/s]"
     ]
    },
    {
     "name": "stdout",
     "output_type": "stream",
     "text": [
      "[234 235 236 ..., 275 276 277]\n",
      "[640 640 640 ...,  40  40  40]\n",
      "[1086 1087 1088 ..., 1128 1129 1130]\n",
      "[601 601 601 ..., 399 399 399]\n"
     ]
    },
    {
     "name": "stderr",
     "output_type": "stream",
     "text": [
      "\r",
      " 48%|████▊     | 602/1261 [03:44<04:00,  2.74it/s]"
     ]
    },
    {
     "name": "stdout",
     "output_type": "stream",
     "text": [
      "[230 231 232 ..., 253 254 255]\n",
      "[640 640 640 ...,  59  59  59]\n",
      "[1090 1091 1092 ..., 1135 1136 1137]\n",
      "[630 630 630 ..., 399 399 399]\n"
     ]
    },
    {
     "name": "stderr",
     "output_type": "stream",
     "text": [
      "\r",
      " 48%|████▊     | 603/1261 [03:44<04:07,  2.66it/s]"
     ]
    },
    {
     "name": "stdout",
     "output_type": "stream",
     "text": [
      "[229 230 231 ..., 245 246 247]\n",
      "[640 640 640 ...,  79  79  79]\n",
      "[1088 1089 1098 ..., 1126 1127 1128]\n",
      "[661 661 661 ..., 479 479 479]\n"
     ]
    },
    {
     "name": "stderr",
     "output_type": "stream",
     "text": [
      "\r",
      " 48%|████▊     | 604/1261 [03:45<04:26,  2.47it/s]"
     ]
    },
    {
     "name": "stdout",
     "output_type": "stream",
     "text": [
      "[227 228 229 ..., 245 246 247]\n",
      "[640 640 640 ...,  79  79  79]\n",
      "[1082 1083 1084 ..., 1126 1127 1128]\n",
      "[693 693 693 ..., 479 479 479]\n"
     ]
    },
    {
     "name": "stderr",
     "output_type": "stream",
     "text": [
      "\r",
      " 48%|████▊     | 605/1261 [03:45<04:44,  2.31it/s]"
     ]
    },
    {
     "name": "stdout",
     "output_type": "stream",
     "text": [
      "[230 231 232 ..., 257 258 259]\n",
      "[640 640 640 ...,  79  79  79]\n",
      "[1078 1079 1080 ..., 1149 1150 1151]\n",
      "[560 560 560 ...,  77  77  77]\n"
     ]
    },
    {
     "name": "stderr",
     "output_type": "stream",
     "text": [
      "\r",
      " 48%|████▊     | 606/1261 [03:46<05:06,  2.14it/s]"
     ]
    },
    {
     "name": "stdout",
     "output_type": "stream",
     "text": [
      "[234 235 236 ..., 321 322 323]\n",
      "[640 640 640 ...,  77  77  77]\n",
      "[1070 1071 1072 ..., 1153 1154 1155]\n",
      "[640 640 640 ...,  79  79  79]\n"
     ]
    },
    {
     "name": "stderr",
     "output_type": "stream",
     "text": [
      "\r",
      " 48%|████▊     | 607/1261 [03:46<04:50,  2.25it/s]"
     ]
    },
    {
     "name": "stdout",
     "output_type": "stream",
     "text": [
      "[234 235 236 ..., 284 285 286]\n",
      "[640 640 640 ..., 239 239 239]\n",
      "[1062 1063 1064 ..., 1142 1143 1144]\n",
      "[640 640 640 ...,  79  79  79]\n"
     ]
    },
    {
     "name": "stderr",
     "output_type": "stream",
     "text": [
      "\r",
      " 48%|████▊     | 608/1261 [03:47<04:33,  2.39it/s]"
     ]
    },
    {
     "name": "stdout",
     "output_type": "stream",
     "text": [
      "[227 228 229 ..., 310 311 312]\n",
      "[640 640 640 ...,  79  79  79]\n",
      "[1062 1063 1064 ..., 1131 1132 1133]\n",
      "[640 640 640 ..., 159 159 159]\n"
     ]
    },
    {
     "name": "stderr",
     "output_type": "stream",
     "text": [
      "\r",
      " 48%|████▊     | 609/1261 [03:47<04:36,  2.36it/s]"
     ]
    },
    {
     "name": "stdout",
     "output_type": "stream",
     "text": [
      "[226 227 228 ..., 298 299 300]\n",
      "[640 640 640 ...,  79  79  79]\n",
      "[1062 1063 1064 ..., 1131 1132 1133]\n",
      "[640 640 640 ..., 159 159 159]\n"
     ]
    },
    {
     "name": "stderr",
     "output_type": "stream",
     "text": [
      "\r",
      " 48%|████▊     | 610/1261 [03:47<04:27,  2.43it/s]"
     ]
    },
    {
     "name": "stdout",
     "output_type": "stream",
     "text": [
      "[224 225 226 ..., 292 293 294]\n",
      "[640 640 640 ...,  79  79  79]\n",
      "[1067 1068 1069 ..., 1137 1138 1139]\n",
      "[651 651 651 ..., 159 159 159]\n"
     ]
    },
    {
     "name": "stderr",
     "output_type": "stream",
     "text": [
      "\r",
      " 48%|████▊     | 611/1261 [03:48<04:12,  2.57it/s]"
     ]
    },
    {
     "name": "stdout",
     "output_type": "stream",
     "text": [
      "[219 220 221 ..., 292 293 294]\n",
      "[640 640 640 ...,  79  79  79]\n",
      "[1066 1067 1068 ..., 1116 1117 1118]\n",
      "[681 681 681 ..., 239 239 239]\n"
     ]
    },
    {
     "name": "stderr",
     "output_type": "stream",
     "text": [
      "\r",
      " 49%|████▊     | 612/1261 [03:48<04:02,  2.68it/s]"
     ]
    },
    {
     "name": "stdout",
     "output_type": "stream",
     "text": [
      "[224 225 226 ..., 257 258 259]\n",
      "[640 640 640 ...,  79  79  79]\n",
      "[1058 1059 1060 ..., 1111 1112 1113]\n",
      "[712 712 712 ..., 239 239 239]\n"
     ]
    },
    {
     "name": "stderr",
     "output_type": "stream",
     "text": [
      "\r",
      " 49%|████▊     | 613/1261 [03:49<04:04,  2.65it/s]"
     ]
    },
    {
     "name": "stdout",
     "output_type": "stream",
     "text": [
      "[221 222 223 ..., 302 303 304]\n",
      "[640 640 640 ..., 159 159 159]\n",
      "[1061 1062 1063 ..., 1155 1156 1157]\n",
      "[618 618 618 ...,  20  20  20]\n"
     ]
    },
    {
     "name": "stderr",
     "output_type": "stream",
     "text": [
      "\r",
      " 49%|████▊     | 614/1261 [03:49<04:07,  2.62it/s]"
     ]
    },
    {
     "name": "stdout",
     "output_type": "stream",
     "text": [
      "[219 220 221 ..., 307 308 309]\n",
      "[640 640 640 ..., 159 159 159]\n",
      "[1054 1055 1056 ..., 1149 1150 1151]\n",
      "[650 650 650 ...,  59  59  59]\n"
     ]
    },
    {
     "name": "stderr",
     "output_type": "stream",
     "text": [
      "\r",
      " 49%|████▉     | 615/1261 [03:49<04:06,  2.62it/s]"
     ]
    },
    {
     "name": "stdout",
     "output_type": "stream",
     "text": [
      "[218 219 220 ..., 259 260 261]\n",
      "[640 640 640 ..., 159 159 159]\n",
      "[1052 1053 1054 ..., 1149 1150 1151]\n",
      "[680 680 680 ...,  77  77  77]\n"
     ]
    },
    {
     "name": "stderr",
     "output_type": "stream",
     "text": [
      "\r",
      " 49%|████▉     | 616/1261 [03:50<04:01,  2.67it/s]"
     ]
    },
    {
     "name": "stdout",
     "output_type": "stream",
     "text": [
      "[221 222 223 ..., 307 308 309]\n",
      "[640 640 640 ..., 159 159 159]\n",
      "[1049 1050 1051 ..., 1159 1160 1161]\n",
      "[710 710 710 ...,  79  79  79]\n"
     ]
    },
    {
     "name": "stderr",
     "output_type": "stream",
     "text": [
      "\r",
      " 49%|████▉     | 617/1261 [03:50<03:57,  2.72it/s]"
     ]
    },
    {
     "name": "stdout",
     "output_type": "stream",
     "text": [
      "[219 220 221 ..., 312 313 314]\n",
      "[640 640 640 ..., 239 239 239]\n",
      "[1047 1048 1049 ..., 1159 1160 1161]\n",
      "[605 605 605 ...,  79  79  79]\n"
     ]
    },
    {
     "name": "stderr",
     "output_type": "stream",
     "text": [
      "\r",
      " 49%|████▉     | 618/1261 [03:50<03:50,  2.79it/s]"
     ]
    },
    {
     "name": "stdout",
     "output_type": "stream",
     "text": [
      "[214 215 216 ..., 312 313 314]\n",
      "[640 640 640 ..., 239 239 239]\n",
      "[1044 1045 1046 ..., 1159 1160 1161]\n",
      "[635 635 635 ...,  79  79  79]\n"
     ]
    },
    {
     "name": "stderr",
     "output_type": "stream",
     "text": [
      "\r",
      " 49%|████▉     | 619/1261 [03:51<03:47,  2.83it/s]"
     ]
    },
    {
     "name": "stdout",
     "output_type": "stream",
     "text": [
      "[218 219 220 ..., 335 336 337]\n",
      "[640 640 640 ..., 239 239 239]\n",
      "[1039 1040 1041 ..., 1131 1132 1133]\n",
      "[666 666 666 ..., 159 159 159]\n"
     ]
    },
    {
     "name": "stderr",
     "output_type": "stream",
     "text": [
      "\r",
      " 49%|████▉     | 620/1261 [03:51<03:45,  2.84it/s]"
     ]
    },
    {
     "name": "stdout",
     "output_type": "stream",
     "text": [
      "[213 214 215 ..., 370 371 372]\n",
      "[640 640 640 ..., 159 159 159]\n",
      "[1037 1038 1039 ..., 1142 1143 1144]\n",
      "[695 695 695 ..., 159 159 159]\n"
     ]
    },
    {
     "name": "stderr",
     "output_type": "stream",
     "text": [
      "\r",
      " 49%|████▉     | 621/1261 [03:51<03:47,  2.82it/s]"
     ]
    },
    {
     "name": "stdout",
     "output_type": "stream",
     "text": [
      "[218 219 220 ..., 381 382 383]\n",
      "[640 640 640 ..., 159 159 159]\n",
      "[1033 1034 1035 ..., 1116 1117 1118]\n",
      "[560 560 560 ..., 239 239 239]\n"
     ]
    },
    {
     "name": "stderr",
     "output_type": "stream",
     "text": [
      "\r",
      " 49%|████▉     | 622/1261 [03:52<03:46,  2.83it/s]"
     ]
    },
    {
     "name": "stdout",
     "output_type": "stream",
     "text": [
      "[214 215 216 ..., 399 400 401]\n",
      "[640 640 640 ...,  79  79  79]\n",
      "[1040 1041 1042 ..., 1130 1131 1132]\n",
      "[560 560 560 ..., 239 239 239]\n"
     ]
    },
    {
     "name": "stderr",
     "output_type": "stream",
     "text": [
      "\r",
      " 49%|████▉     | 623/1261 [03:52<03:44,  2.84it/s]"
     ]
    },
    {
     "name": "stdout",
     "output_type": "stream",
     "text": [
      "[229 230 231 ..., 405 406 407]\n",
      "[640 640 640 ...,  79  79  79]\n",
      "[1037 1038 1039 ..., 1139 1140 1141]\n",
      "[640 640 640 ..., 239 239 239]\n"
     ]
    },
    {
     "name": "stderr",
     "output_type": "stream",
     "text": [
      "\r",
      " 49%|████▉     | 624/1261 [03:52<03:42,  2.86it/s]"
     ]
    },
    {
     "name": "stdout",
     "output_type": "stream",
     "text": [
      "[235 236 237 ..., 433 434 435]\n",
      "[640 640 640 ...,  77  77  77]\n",
      "[1039 1040 1041 ..., 1199 1200 1201]\n",
      "[640 640 640 ...,  20  20  20]\n"
     ]
    },
    {
     "name": "stderr",
     "output_type": "stream",
     "text": [
      "\r",
      " 50%|████▉     | 625/1261 [03:53<03:45,  2.82it/s]"
     ]
    },
    {
     "name": "stdout",
     "output_type": "stream",
     "text": [
      "[247 248 249 ..., 381 382 383]\n",
      "[640 640 640 ..., 159 159 159]\n",
      "[1036 1037 1038 ..., 1177 1178 1179]\n",
      "[640 640 640 ...,  79  79  79]\n"
     ]
    },
    {
     "name": "stderr",
     "output_type": "stream",
     "text": [
      "\r",
      " 50%|████▉     | 626/1261 [03:53<03:46,  2.81it/s]"
     ]
    },
    {
     "name": "stdout",
     "output_type": "stream",
     "text": [
      "[250 251 252 ..., 444 445 446]\n",
      "[640 640 640 ..., 159 159 159]\n",
      "[1041 1042 1043 ..., 1177 1178 1179]\n",
      "[644 644 644 ...,  79  79  79]\n"
     ]
    },
    {
     "name": "stderr",
     "output_type": "stream",
     "text": [
      "\r",
      " 50%|████▉     | 627/1261 [03:54<03:47,  2.79it/s]"
     ]
    },
    {
     "name": "stdout",
     "output_type": "stream",
     "text": [
      "[248 249 250 ..., 450 451 452]\n",
      "[640 640 640 ..., 159 159 159]\n",
      "[1044 1045 1046 ..., 1195 1196 1197]\n",
      "[670 670 670 ...,  79  79  79]\n"
     ]
    },
    {
     "name": "stderr",
     "output_type": "stream",
     "text": [
      "\r",
      " 50%|████▉     | 628/1261 [03:54<03:42,  2.84it/s]"
     ]
    },
    {
     "name": "stdout",
     "output_type": "stream",
     "text": [
      "[256 257 258 ..., 434 435 436]\n",
      "[640 640 640 ..., 239 239 239]\n",
      "[1038 1039 1040 ..., 1158 1159 1160]\n",
      "[700 700 700 ..., 159 159 159]\n"
     ]
    },
    {
     "name": "stderr",
     "output_type": "stream",
     "text": [
      "\r",
      " 50%|████▉     | 629/1261 [03:54<03:44,  2.82it/s]"
     ]
    },
    {
     "name": "stdout",
     "output_type": "stream",
     "text": [
      "[258 259 260 ..., 483 484 485]\n",
      "[640 640 640 ..., 141 141 141]\n",
      "[1067 1068 1069 ..., 1168 1169 1170]\n",
      "[599 599 599 ..., 159 159 159]\n"
     ]
    },
    {
     "name": "stderr",
     "output_type": "stream",
     "text": [
      "\r",
      " 50%|████▉     | 630/1261 [03:55<03:49,  2.75it/s]"
     ]
    },
    {
     "name": "stdout",
     "output_type": "stream",
     "text": [
      "[245 246 247 ..., 469 470 471]\n",
      "[640 640 640 ...,  79  79  79]\n",
      "[1075 1076 1077 ..., 1224 1225 1226]\n",
      "[621 621 621 ...,  79  79  79]\n"
     ]
    },
    {
     "name": "stderr",
     "output_type": "stream",
     "text": [
      "\r",
      " 50%|█████     | 631/1261 [03:55<03:50,  2.73it/s]"
     ]
    },
    {
     "name": "stdout",
     "output_type": "stream",
     "text": [
      "[237 238 239 ..., 434 435 436]\n",
      "[640 640 640 ...,  79  79  79]\n",
      "[1078 1079 1080 ..., 1248 1249 1250]\n",
      "[648 648 648 ...,  79  79  79]\n"
     ]
    },
    {
     "name": "stderr",
     "output_type": "stream",
     "text": [
      "\r",
      " 50%|█████     | 632/1261 [03:55<03:42,  2.83it/s]"
     ]
    },
    {
     "name": "stdout",
     "output_type": "stream",
     "text": [
      "[235 236 237 ..., 416 417 418]\n",
      "[640 640 640 ...,  79  79  79]\n",
      "[1080 1081 1082 ..., 1254 1255 1256]\n",
      "[676 676 676 ...,  79  79  79]\n"
     ]
    },
    {
     "name": "stderr",
     "output_type": "stream",
     "text": [
      "\r",
      " 50%|█████     | 633/1261 [03:56<03:39,  2.86it/s]"
     ]
    },
    {
     "name": "stdout",
     "output_type": "stream",
     "text": [
      "[227 228 229 ..., 434 435 436]\n",
      "[640 640 640 ...,  79  79  79]\n",
      "[1064 1065 1068 ..., 1254 1255 1256]\n",
      "[708 708 708 ...,  79  79  79]\n"
     ]
    },
    {
     "name": "stderr",
     "output_type": "stream",
     "text": [
      "\r",
      " 50%|█████     | 634/1261 [03:56<03:39,  2.86it/s]"
     ]
    },
    {
     "name": "stdout",
     "output_type": "stream",
     "text": [
      "[234 235 236 ..., 434 435 436]\n",
      "[640 640 640 ...,  79  79  79]\n",
      "[1080 1081 1082 ..., 1211 1212 1213]\n",
      "[560 560 560 ..., 159 159 159]\n"
     ]
    },
    {
     "name": "stderr",
     "output_type": "stream",
     "text": [
      "\r",
      " 50%|█████     | 635/1261 [03:56<03:36,  2.89it/s]"
     ]
    },
    {
     "name": "stdout",
     "output_type": "stream",
     "text": [
      "[243 244 245 ..., 463 464 465]\n",
      "[640 640 640 ...,  79  79  79]\n",
      "[1060 1061 1062 ..., 1163 1164 1165]\n",
      "[640 640 640 ..., 239 239 239]\n"
     ]
    },
    {
     "name": "stderr",
     "output_type": "stream",
     "text": [
      "\r",
      " 50%|█████     | 636/1261 [03:57<03:32,  2.94it/s]"
     ]
    },
    {
     "name": "stdout",
     "output_type": "stream",
     "text": [
      "[255 256 257 ..., 487 488 489]\n",
      "[640 640 640 ...,  79  79  79]\n",
      "[1054 1055 1056 ..., 1184 1185 1186]\n",
      "[640 640 640 ...,  77  77  77]\n"
     ]
    },
    {
     "name": "stderr",
     "output_type": "stream",
     "text": [
      "\r",
      " 51%|█████     | 637/1261 [03:57<03:31,  2.95it/s]"
     ]
    },
    {
     "name": "stdout",
     "output_type": "stream",
     "text": [
      "[268 269 270 ..., 522 523 524]\n",
      "[640 640 640 ...,  79  79  79]\n",
      "[1049 1050 1051 ..., 1183 1184 1185]\n",
      "[640 640 640 ...,  79  79  79]\n"
     ]
    },
    {
     "name": "stderr",
     "output_type": "stream",
     "text": [
      "\r",
      " 51%|█████     | 638/1261 [03:57<03:30,  2.96it/s]"
     ]
    },
    {
     "name": "stdout",
     "output_type": "stream",
     "text": [
      "[268 269 270 ..., 540 541 542]\n",
      "[640 640 640 ...,  79  79  79]\n",
      "[1052 1053 1054 ..., 1189 1190 1191]\n",
      "[640 640 640 ...,  79  79  79]\n"
     ]
    },
    {
     "name": "stderr",
     "output_type": "stream",
     "text": [
      "\r",
      " 51%|█████     | 639/1261 [03:58<03:28,  2.98it/s]"
     ]
    },
    {
     "name": "stdout",
     "output_type": "stream",
     "text": [
      "[268 269 270 ..., 522 523 524]\n",
      "[640 640 640 ...,  79  79  79]\n",
      "[1061 1062 1063 ..., 1201 1202 1203]\n",
      "[660 660 660 ...,  79  79  79]\n"
     ]
    },
    {
     "name": "stderr",
     "output_type": "stream",
     "text": [
      "\r",
      " 51%|█████     | 640/1261 [03:58<03:30,  2.95it/s]"
     ]
    },
    {
     "name": "stdout",
     "output_type": "stream",
     "text": [
      "[264 265 266 ..., 487 488 489]\n",
      "[640 640 640 ...,  79  79  79]\n",
      "[1065 1066 1067 ..., 1218 1219 1220]\n",
      "[685 685 685 ...,  79  79  79]\n"
     ]
    },
    {
     "name": "stderr",
     "output_type": "stream",
     "text": [
      "\r",
      " 51%|█████     | 641/1261 [03:58<03:29,  2.96it/s]"
     ]
    },
    {
     "name": "stdout",
     "output_type": "stream",
     "text": [
      "[261 262 263 ..., 458 459 460]\n",
      "[640 640 640 ...,  79  79  79]\n",
      "[1070 1071 1072 ..., 1242 1243 1244]\n",
      "[711 711 711 ...,  79  79  79]\n"
     ]
    },
    {
     "name": "stderr",
     "output_type": "stream",
     "text": [
      "\r",
      " 51%|█████     | 642/1261 [03:59<03:38,  2.84it/s]"
     ]
    },
    {
     "name": "stdout",
     "output_type": "stream",
     "text": [
      "[261 262 263 ..., 446 447 448]\n",
      "[640 640 640 ...,  79  79  79]\n",
      "[1089 1090 1091 ..., 1248 1249 1250]\n",
      "[605 605 605 ...,  79  79  79]\n"
     ]
    },
    {
     "name": "stderr",
     "output_type": "stream",
     "text": [
      "\r",
      " 51%|█████     | 643/1261 [03:59<03:38,  2.83it/s]"
     ]
    },
    {
     "name": "stdout",
     "output_type": "stream",
     "text": [
      "[268 269 270 ..., 458 459 460]\n",
      "[640 640 640 ...,  79  79  79]\n",
      "[1074 1075 1076 ..., 1248 1249 1250]\n",
      "[640 640 640 ...,  79  79  79]\n"
     ]
    },
    {
     "name": "stderr",
     "output_type": "stream",
     "text": [
      "\r",
      " 51%|█████     | 644/1261 [04:00<03:46,  2.73it/s]"
     ]
    },
    {
     "name": "stdout",
     "output_type": "stream",
     "text": [
      "[271 272 273 ..., 469 470 471]\n",
      "[640 640 640 ...,  79  79  79]\n",
      "[1089 1090 1091 ..., 1211 1212 1213]\n",
      "[664 664 664 ..., 159 159 159]\n"
     ]
    },
    {
     "name": "stderr",
     "output_type": "stream",
     "text": [
      "\r",
      " 51%|█████     | 645/1261 [04:00<03:43,  2.75it/s]"
     ]
    },
    {
     "name": "stdout",
     "output_type": "stream",
     "text": [
      "[274 275 276 ..., 475 476 477]\n",
      "[640 640 640 ...,  79  79  79]\n",
      "[1067 1068 1069 ..., 1205 1206 1207]\n",
      "[695 695 695 ..., 159 159 159]\n"
     ]
    },
    {
     "name": "stderr",
     "output_type": "stream",
     "text": [
      "\r",
      " 51%|█████     | 646/1261 [04:00<03:43,  2.75it/s]"
     ]
    },
    {
     "name": "stdout",
     "output_type": "stream",
     "text": [
      "[282 283 284 ..., 475 476 477]\n",
      "[640 640 640 ...,  79  79  79]\n",
      "[1078 1079 1080 ..., 1172 1173 1174]\n",
      "[560 560 560 ..., 239 239 239]\n"
     ]
    },
    {
     "name": "stderr",
     "output_type": "stream",
     "text": [
      "\r",
      " 51%|█████▏    | 647/1261 [04:01<03:38,  2.81it/s]"
     ]
    },
    {
     "name": "stdout",
     "output_type": "stream",
     "text": [
      "[284 285 286 ..., 469 470 471]\n",
      "[640 640 640 ...,  79  79  79]\n",
      "[1078 1079 1080 ..., 1172 1173 1174]\n",
      "[560 560 560 ..., 239 239 239]\n"
     ]
    },
    {
     "name": "stderr",
     "output_type": "stream",
     "text": [
      "\r",
      " 51%|█████▏    | 648/1261 [04:01<03:33,  2.87it/s]"
     ]
    },
    {
     "name": "stdout",
     "output_type": "stream",
     "text": [
      "[282 283 284 ..., 481 482 483]\n",
      "[640 640 640 ...,  79  79  79]\n",
      "[1071 1072 1073 ..., 1231 1232 1233]\n",
      "[640 640 640 ...,  20  20  20]\n"
     ]
    },
    {
     "name": "stderr",
     "output_type": "stream",
     "text": [
      "\r",
      " 51%|█████▏    | 649/1261 [04:01<03:35,  2.84it/s]"
     ]
    },
    {
     "name": "stdout",
     "output_type": "stream",
     "text": [
      "[282 283 284 ..., 481 482 483]\n",
      "[640 640 640 ...,  79  79  79]\n",
      "[1070 1071 1072 ..., 1223 1224 1225]\n",
      "[640 640 640 ...,  40  40  40]\n"
     ]
    },
    {
     "name": "stderr",
     "output_type": "stream",
     "text": [
      "\r",
      " 52%|█████▏    | 650/1261 [04:02<03:29,  2.92it/s]"
     ]
    },
    {
     "name": "stdout",
     "output_type": "stream",
     "text": [
      "[280 281 282 ..., 469 470 471]\n",
      "[640 640 640 ...,  79  79  79]\n",
      "[1073 1074 1075 ..., 1215 1216 1217]\n",
      "[640 640 640 ...,  59  59  59]\n"
     ]
    },
    {
     "name": "stderr",
     "output_type": "stream",
     "text": [
      "\r",
      " 52%|█████▏    | 651/1261 [04:02<03:31,  2.88it/s]"
     ]
    },
    {
     "name": "stdout",
     "output_type": "stream",
     "text": [
      "[284 285 286 ..., 469 470 471]\n",
      "[640 640 640 ...,  79  79  79]\n",
      "[1079 1080 1081 ..., 1208 1209 1210]\n",
      "[640 640 640 ...,  77  77  77]\n"
     ]
    },
    {
     "name": "stderr",
     "output_type": "stream",
     "text": [
      "\r",
      " 52%|█████▏    | 652/1261 [04:02<03:31,  2.88it/s]"
     ]
    },
    {
     "name": "stdout",
     "output_type": "stream",
     "text": [
      "[284 285 286 ..., 469 470 471]\n",
      "[640 640 640 ...,  79  79  79]\n",
      "[1081 1082 1083 ..., 1218 1219 1220]\n",
      "[668 668 668 ...,  79  79  79]\n"
     ]
    },
    {
     "name": "stderr",
     "output_type": "stream",
     "text": [
      "\r",
      " 52%|█████▏    | 653/1261 [04:03<03:35,  2.82it/s]"
     ]
    },
    {
     "name": "stdout",
     "output_type": "stream",
     "text": [
      "[287 288 289 ..., 475 476 477]\n",
      "[640 640 640 ...,  79  79  79]\n",
      "[1073 1074 1076 ..., 1224 1225 1226]\n",
      "[697 697 697 ...,  79  79  79]\n"
     ]
    },
    {
     "name": "stderr",
     "output_type": "stream",
     "text": [
      "\r",
      " 52%|█████▏    | 654/1261 [04:03<03:34,  2.82it/s]"
     ]
    },
    {
     "name": "stdout",
     "output_type": "stream",
     "text": [
      "[292 293 294 ..., 475 476 477]\n",
      "[640 640 640 ...,  79  79  79]\n",
      "[1088 1089 1090 ..., 1224 1225 1226]\n",
      "[597 597 597 ...,  79  79  79]\n"
     ]
    },
    {
     "name": "stderr",
     "output_type": "stream",
     "text": [
      "\r",
      " 52%|█████▏    | 655/1261 [04:03<03:31,  2.86it/s]"
     ]
    },
    {
     "name": "stdout",
     "output_type": "stream",
     "text": [
      "[293 294 295 ..., 481 482 483]\n",
      "[640 640 640 ...,  79  79  79]\n",
      "[1083 1084 1085 ..., 1218 1219 1220]\n",
      "[626 626 626 ...,  79  79  79]\n"
     ]
    },
    {
     "name": "stderr",
     "output_type": "stream",
     "text": [
      "\r",
      " 52%|█████▏    | 656/1261 [04:04<03:29,  2.88it/s]"
     ]
    },
    {
     "name": "stdout",
     "output_type": "stream",
     "text": [
      "[296 297 298 ..., 481 482 483]\n",
      "[640 640 640 ...,  79  79  79]\n",
      "[1083 1084 1085 ..., 1195 1196 1197]\n",
      "[654 654 654 ..., 159 159 159]\n"
     ]
    },
    {
     "name": "stderr",
     "output_type": "stream",
     "text": [
      "\r",
      " 52%|█████▏    | 657/1261 [04:04<03:28,  2.90it/s]"
     ]
    },
    {
     "name": "stdout",
     "output_type": "stream",
     "text": [
      "[298 299 300 ..., 481 482 483]\n",
      "[640 640 640 ...,  79  79  79]\n",
      "[1096 1097 1098 ..., 1195 1196 1197]\n",
      "[682 682 682 ..., 159 159 159]\n"
     ]
    },
    {
     "name": "stderr",
     "output_type": "stream",
     "text": [
      "\r",
      " 52%|█████▏    | 658/1261 [04:04<03:26,  2.92it/s]"
     ]
    },
    {
     "name": "stdout",
     "output_type": "stream",
     "text": [
      "[298 299 300 ..., 493 494 495]\n",
      "[640 640 640 ...,  79  79  79]\n",
      "[1067 1068 1069 ..., 1189 1190 1191]\n",
      "[711 711 711 ..., 159 159 159]\n"
     ]
    },
    {
     "name": "stderr",
     "output_type": "stream",
     "text": [
      "\r",
      " 52%|█████▏    | 659/1261 [04:05<03:27,  2.90it/s]"
     ]
    },
    {
     "name": "stdout",
     "output_type": "stream",
     "text": [
      "[296 297 298 ..., 481 482 483]\n",
      "[640 640 640 ...,  79  79  79]\n",
      "[1078 1079 1080 ..., 1172 1173 1174]\n",
      "[560 560 560 ..., 239 239 239]\n"
     ]
    },
    {
     "name": "stderr",
     "output_type": "stream",
     "text": [
      "\r",
      " 52%|█████▏    | 660/1261 [04:05<03:39,  2.74it/s]"
     ]
    },
    {
     "name": "stdout",
     "output_type": "stream",
     "text": [
      "[296 297 298 ..., 481 482 483]\n",
      "[640 640 640 ...,  79  79  79]\n",
      "[1070 1071 1072 ..., 1218 1219 1220]\n",
      "[640 640 640 ...,  20  20  20]\n"
     ]
    },
    {
     "name": "stderr",
     "output_type": "stream",
     "text": [
      "\r",
      " 52%|█████▏    | 661/1261 [04:05<03:37,  2.76it/s]"
     ]
    },
    {
     "name": "stdout",
     "output_type": "stream",
     "text": [
      "[296 297 298 ..., 481 482 483]\n",
      "[640 640 640 ...,  79  79  79]\n",
      "[1071 1072 1073 ..., 1225 1226 1227]\n",
      "[640 640 640 ...,  20  20  20]\n"
     ]
    },
    {
     "name": "stderr",
     "output_type": "stream",
     "text": [
      "\r",
      " 52%|█████▏    | 662/1261 [04:06<03:36,  2.76it/s]"
     ]
    },
    {
     "name": "stdout",
     "output_type": "stream",
     "text": [
      "[293 294 295 ..., 469 470 471]\n",
      "[640 640 640 ...,  79  79  79]\n",
      "[1073 1074 1075 ..., 1217 1218 1219]\n",
      "[640 640 640 ...,  40  40  40]\n"
     ]
    },
    {
     "name": "stderr",
     "output_type": "stream",
     "text": [
      "\r",
      " 53%|█████▎    | 663/1261 [04:06<03:32,  2.81it/s]"
     ]
    },
    {
     "name": "stdout",
     "output_type": "stream",
     "text": [
      "[293 294 295 ..., 469 470 471]\n",
      "[640 640 640 ...,  79  79  79]\n",
      "[1074 1075 1076 ..., 1215 1216 1217]\n",
      "[640 640 640 ...,  59  59  59]\n"
     ]
    },
    {
     "name": "stderr",
     "output_type": "stream",
     "text": [
      "\r",
      " 53%|█████▎    | 664/1261 [04:07<03:32,  2.81it/s]"
     ]
    },
    {
     "name": "stdout",
     "output_type": "stream",
     "text": [
      "[292 293 294 ..., 469 470 471]\n",
      "[640 640 640 ...,  79  79  79]\n",
      "[1081 1082 1083 ..., 1208 1209 1210]\n",
      "[655 655 655 ...,  77  77  77]\n"
     ]
    },
    {
     "name": "stderr",
     "output_type": "stream",
     "text": [
      "\r",
      " 53%|█████▎    | 665/1261 [04:07<03:34,  2.78it/s]"
     ]
    },
    {
     "name": "stdout",
     "output_type": "stream",
     "text": [
      "[293 294 295 ..., 475 476 477]\n",
      "[640 640 640 ...,  79  79  79]\n",
      "[1082 1083 1084 ..., 1218 1219 1220]\n",
      "[683 683 683 ...,  79  79  79]\n"
     ]
    },
    {
     "name": "stderr",
     "output_type": "stream",
     "text": [
      "\r",
      " 53%|█████▎    | 666/1261 [04:07<03:32,  2.79it/s]"
     ]
    },
    {
     "name": "stdout",
     "output_type": "stream",
     "text": [
      "[295 296 297 ..., 481 482 483]\n",
      "[640 640 640 ...,  79  79  79]\n",
      "[1078 1079 1080 ..., 1212 1213 1214]\n",
      "[712 712 712 ...,  79  79  79]\n"
     ]
    },
    {
     "name": "stderr",
     "output_type": "stream",
     "text": [
      "\r",
      " 53%|█████▎    | 667/1261 [04:08<03:28,  2.85it/s]"
     ]
    },
    {
     "name": "stdout",
     "output_type": "stream",
     "text": [
      "[293 294 295 ..., 481 482 483]\n",
      "[640 640 640 ...,  79  79  79]\n",
      "[1107 1108 1109 ..., 1206 1207 1208]\n",
      "[613 613 613 ...,  79  79  79]\n"
     ]
    },
    {
     "name": "stderr",
     "output_type": "stream",
     "text": [
      "\r",
      " 53%|█████▎    | 668/1261 [04:08<03:31,  2.80it/s]"
     ]
    },
    {
     "name": "stdout",
     "output_type": "stream",
     "text": [
      "[298 299 300 ..., 481 482 483]\n",
      "[640 640 640 ...,  79  79  79]\n",
      "[1095 1096 1097 ..., 1212 1213 1214]\n",
      "[641 641 641 ...,  79  79  79]\n"
     ]
    },
    {
     "name": "stderr",
     "output_type": "stream",
     "text": [
      "\r",
      " 53%|█████▎    | 669/1261 [04:08<03:25,  2.88it/s]"
     ]
    },
    {
     "name": "stdout",
     "output_type": "stream",
     "text": [
      "[292 293 294 ..., 469 470 471]\n",
      "[640 640 640 ...,  79  79  79]\n",
      "[1095 1096 1097 ..., 1195 1196 1197]\n",
      "[669 669 669 ..., 159 159 159]\n"
     ]
    },
    {
     "name": "stderr",
     "output_type": "stream",
     "text": [
      "\r",
      " 53%|█████▎    | 670/1261 [04:09<03:23,  2.91it/s]"
     ]
    },
    {
     "name": "stdout",
     "output_type": "stream",
     "text": [
      "[292 293 294 ..., 469 470 471]\n",
      "[640 640 640 ...,  79  79  79]\n",
      "[1080 1081 1081 ..., 1195 1196 1197]\n",
      "[697 697 698 ..., 159 159 159]\n"
     ]
    },
    {
     "name": "stderr",
     "output_type": "stream",
     "text": [
      "\r",
      " 53%|█████▎    | 671/1261 [04:09<03:34,  2.75it/s]"
     ]
    },
    {
     "name": "stdout",
     "output_type": "stream",
     "text": [
      "[292 293 294 ..., 475 476 477]\n",
      "[640 640 640 ...,  79  79  79]\n",
      "[1089 1090 1091 ..., 1200 1201 1202]\n",
      "[560 560 560 ..., 159 159 159]\n"
     ]
    },
    {
     "name": "stderr",
     "output_type": "stream",
     "text": [
      "\r",
      " 53%|█████▎    | 672/1261 [04:09<03:32,  2.77it/s]"
     ]
    },
    {
     "name": "stdout",
     "output_type": "stream",
     "text": [
      "[295 296 297 ..., 481 482 483]\n",
      "[640 640 640 ...,  79  79  79]\n",
      "[1087 1088 1089 ..., 1172 1173 1174]\n",
      "[560 560 560 ..., 239 239 239]\n"
     ]
    },
    {
     "name": "stderr",
     "output_type": "stream",
     "text": [
      "\r",
      " 53%|█████▎    | 673/1261 [04:10<03:32,  2.76it/s]"
     ]
    },
    {
     "name": "stdout",
     "output_type": "stream",
     "text": [
      "[295 296 297 ..., 469 470 471]\n",
      "[640 640 640 ...,  79  79  79]\n",
      "[1081 1082 1083 ..., 1172 1173 1174]\n",
      "[640 640 640 ..., 239 239 239]\n"
     ]
    },
    {
     "name": "stderr",
     "output_type": "stream",
     "text": [
      "\r",
      " 53%|█████▎    | 674/1261 [04:10<03:29,  2.80it/s]"
     ]
    },
    {
     "name": "stdout",
     "output_type": "stream",
     "text": [
      "[295 296 297 ..., 481 482 483]\n",
      "[640 640 640 ...,  79  79  79]\n",
      "[1083 1084 1085 ..., 1204 1205 1206]\n",
      "[640 640 640 ...,  40  40  40]\n"
     ]
    },
    {
     "name": "stderr",
     "output_type": "stream",
     "text": [
      "\r",
      " 54%|█████▎    | 675/1261 [04:10<03:29,  2.80it/s]"
     ]
    },
    {
     "name": "stdout",
     "output_type": "stream",
     "text": [
      "[295 296 297 ..., 481 482 483]\n",
      "[640 640 640 ...,  79  79  79]\n",
      "[1083 1084 1085 ..., 1203 1204 1205]\n",
      "[640 640 640 ...,  59  59  59]\n"
     ]
    },
    {
     "name": "stderr",
     "output_type": "stream",
     "text": [
      "\r",
      " 54%|█████▎    | 676/1261 [04:11<03:33,  2.74it/s]"
     ]
    },
    {
     "name": "stdout",
     "output_type": "stream",
     "text": [
      "[296 297 298 ..., 481 482 483]\n",
      "[640 640 640 ...,  79  79  79]\n",
      "[1086 1087 1088 ..., 1195 1196 1197]\n",
      "[643 643 643 ...,  79  79  79]\n"
     ]
    },
    {
     "name": "stderr",
     "output_type": "stream",
     "text": [
      "\r",
      " 54%|█████▎    | 677/1261 [04:11<03:46,  2.58it/s]"
     ]
    },
    {
     "name": "stdout",
     "output_type": "stream",
     "text": [
      "[296 297 298 ..., 481 482 483]\n",
      "[640 640 640 ...,  79  79  79]\n",
      "[1088 1089 1090 ..., 1206 1207 1208]\n",
      "[670 670 670 ...,  79  79  79]\n"
     ]
    },
    {
     "name": "stderr",
     "output_type": "stream",
     "text": [
      "\r",
      " 54%|█████▍    | 678/1261 [04:12<03:44,  2.60it/s]"
     ]
    },
    {
     "name": "stdout",
     "output_type": "stream",
     "text": [
      "[298 299 300 ..., 481 482 483]\n",
      "[640 640 640 ...,  79  79  79]\n",
      "[1085 1086 1087 ..., 1212 1213 1214]\n",
      "[699 699 699 ...,  79  79  79]\n"
     ]
    },
    {
     "name": "stderr",
     "output_type": "stream",
     "text": [
      "\r",
      " 54%|█████▍    | 679/1261 [04:12<03:41,  2.63it/s]"
     ]
    },
    {
     "name": "stdout",
     "output_type": "stream",
     "text": [
      "[300 301 302 ..., 481 482 483]\n",
      "[640 640 640 ...,  79  79  79]\n",
      "[1094 1095 1096 ..., 1212 1213 1214]\n",
      "[603 603 603 ...,  79  79  79]\n"
     ]
    },
    {
     "name": "stderr",
     "output_type": "stream",
     "text": [
      "\r",
      " 54%|█████▍    | 680/1261 [04:12<03:34,  2.71it/s]"
     ]
    },
    {
     "name": "stdout",
     "output_type": "stream",
     "text": [
      "[301 302 303 ..., 481 482 483]\n",
      "[640 640 640 ...,  79  79  79]\n",
      "[1097 1098 1099 ..., 1212 1213 1214]\n",
      "[630 630 630 ...,  79  79  79]\n"
     ]
    },
    {
     "name": "stderr",
     "output_type": "stream",
     "text": [
      "\r",
      " 54%|█████▍    | 681/1261 [04:13<03:38,  2.66it/s]"
     ]
    },
    {
     "name": "stdout",
     "output_type": "stream",
     "text": [
      "[301 302 303 ..., 481 482 483]\n",
      "[640 640 640 ...,  79  79  79]\n",
      "[1094 1095 1096 ..., 1184 1185 1186]\n",
      "[659 659 659 ..., 159 159 159]\n"
     ]
    },
    {
     "name": "stderr",
     "output_type": "stream",
     "text": [
      "\r",
      " 54%|█████▍    | 682/1261 [04:13<03:31,  2.74it/s]"
     ]
    },
    {
     "name": "stdout",
     "output_type": "stream",
     "text": [
      "[301 302 303 ..., 458 459 460]\n",
      "[640 640 640 ...,  79  79  79]\n",
      "[1086 1087 1088 ..., 1189 1190 1191]\n",
      "[689 689 689 ..., 159 159 159]\n"
     ]
    },
    {
     "name": "stderr",
     "output_type": "stream",
     "text": [
      "\r",
      " 54%|█████▍    | 683/1261 [04:13<03:30,  2.74it/s]"
     ]
    },
    {
     "name": "stdout",
     "output_type": "stream",
     "text": [
      "[305 306 307 ..., 469 470 471]\n",
      "[640 640 640 ...,  79  79  79]\n",
      "[1088 1089 1090 ..., 1184 1185 1186]\n",
      "[717 717 717 ..., 159 159 159]\n"
     ]
    },
    {
     "name": "stderr",
     "output_type": "stream",
     "text": [
      "\r",
      " 54%|█████▍    | 684/1261 [04:14<03:25,  2.80it/s]"
     ]
    },
    {
     "name": "stdout",
     "output_type": "stream",
     "text": [
      "[301 302 303 ..., 469 470 471]\n",
      "[640 640 640 ...,  79  79  79]\n",
      "[1085 1086 1087 ..., 1167 1168 1169]\n",
      "[560 560 560 ..., 239 239 239]\n"
     ]
    },
    {
     "name": "stderr",
     "output_type": "stream",
     "text": [
      "\r",
      " 54%|█████▍    | 685/1261 [04:14<03:25,  2.81it/s]"
     ]
    },
    {
     "name": "stdout",
     "output_type": "stream",
     "text": [
      "[301 302 303 ..., 469 470 471]\n",
      "[640 640 640 ...,  79  79  79]\n",
      "[1083 1084 1085 ..., 1167 1168 1169]\n",
      "[640 640 640 ..., 239 239 239]\n"
     ]
    },
    {
     "name": "stderr",
     "output_type": "stream",
     "text": [
      "\r",
      " 54%|█████▍    | 686/1261 [04:15<03:25,  2.80it/s]"
     ]
    },
    {
     "name": "stdout",
     "output_type": "stream",
     "text": [
      "[305 306 307 ..., 469 470 471]\n",
      "[640 640 640 ...,  79  79  79]\n",
      "[1081 1082 1083 ..., 1198 1199 1200]\n",
      "[640 640 640 ...,  40  40  40]\n"
     ]
    },
    {
     "name": "stderr",
     "output_type": "stream",
     "text": [
      "\r",
      " 54%|█████▍    | 687/1261 [04:15<03:23,  2.82it/s]"
     ]
    },
    {
     "name": "stdout",
     "output_type": "stream",
     "text": [
      "[305 306 307 ..., 469 470 471]\n",
      "[640 640 640 ...,  79  79  79]\n",
      "[1079 1080 1081 ..., 1197 1198 1199]\n",
      "[640 640 640 ...,  59  59  59]\n"
     ]
    },
    {
     "name": "stderr",
     "output_type": "stream",
     "text": [
      "\r",
      " 55%|█████▍    | 688/1261 [04:15<03:26,  2.78it/s]"
     ]
    },
    {
     "name": "stdout",
     "output_type": "stream",
     "text": [
      "[303 304 305 ..., 469 470 471]\n",
      "[640 640 640 ...,  79  79  79]\n",
      "[1079 1080 1081 ..., 1196 1197 1198]\n",
      "[640 640 640 ...,  77  77  77]\n"
     ]
    },
    {
     "name": "stderr",
     "output_type": "stream",
     "text": [
      "\r",
      " 55%|█████▍    | 689/1261 [04:16<03:23,  2.81it/s]"
     ]
    },
    {
     "name": "stdout",
     "output_type": "stream",
     "text": [
      "[301 302 303 ..., 458 459 460]\n",
      "[640 640 640 ...,  79  79  79]\n",
      "[1092 1093 1094 ..., 1201 1202 1203]\n",
      "[659 659 659 ...,  79  79  79]\n"
     ]
    },
    {
     "name": "stderr",
     "output_type": "stream",
     "text": [
      "\r",
      " 55%|█████▍    | 690/1261 [04:16<03:22,  2.82it/s]"
     ]
    },
    {
     "name": "stdout",
     "output_type": "stream",
     "text": [
      "[301 302 303 ..., 458 459 460]\n",
      "[640 640 640 ...,  79  79  79]\n",
      "[1082 1083 1084 ..., 1212 1213 1214]\n",
      "[689 689 689 ...,  79  79  79]\n"
     ]
    },
    {
     "name": "stderr",
     "output_type": "stream",
     "text": [
      "\r",
      " 55%|█████▍    | 691/1261 [04:16<03:20,  2.84it/s]"
     ]
    },
    {
     "name": "stdout",
     "output_type": "stream",
     "text": [
      "[303 304 305 ..., 458 459 460]\n",
      "[640 640 640 ...,  79  79  79]\n",
      "[1089 1090 1091 ..., 1212 1213 1214]\n",
      "[717 717 717 ...,  79  79  79]\n"
     ]
    },
    {
     "name": "stderr",
     "output_type": "stream",
     "text": [
      "\r",
      " 55%|█████▍    | 692/1261 [04:17<03:29,  2.72it/s]"
     ]
    },
    {
     "name": "stdout",
     "output_type": "stream",
     "text": [
      "[305 306 307 ..., 475 476 477]\n",
      "[640 640 640 ...,  79  79  79]\n",
      "[1105 1106 1107 ..., 1206 1207 1208]\n",
      "[620 620 620 ...,  79  79  79]\n"
     ]
    },
    {
     "name": "stderr",
     "output_type": "stream",
     "text": [
      "\r",
      " 55%|█████▍    | 693/1261 [04:17<03:34,  2.65it/s]"
     ]
    },
    {
     "name": "stdout",
     "output_type": "stream",
     "text": [
      "[303 304 305 ..., 469 470 471]\n",
      "[640 640 640 ...,  79  79  79]\n",
      "[1089 1090 1091 ..., 1201 1202 1203]\n",
      "[650 650 650 ...,  79  79  79]\n"
     ]
    },
    {
     "name": "stderr",
     "output_type": "stream",
     "text": [
      "\r",
      " 55%|█████▌    | 694/1261 [04:18<03:45,  2.51it/s]"
     ]
    },
    {
     "name": "stdout",
     "output_type": "stream",
     "text": [
      "[301 302 303 ..., 469 470 471]\n",
      "[640 640 640 ...,  79  79  79]\n",
      "[1094 1095 1096 ..., 1184 1185 1186]\n",
      "[679 679 679 ..., 159 159 159]\n"
     ]
    },
    {
     "name": "stderr",
     "output_type": "stream",
     "text": [
      "\r",
      " 55%|█████▌    | 695/1261 [04:18<03:43,  2.54it/s]"
     ]
    },
    {
     "name": "stdout",
     "output_type": "stream",
     "text": [
      "[301 302 303 ..., 469 470 471]\n",
      "[640 640 640 ...,  79  79  79]\n",
      "[1089 1090 1091 ..., 1184 1185 1186]\n",
      "[708 708 708 ..., 159 159 159]\n"
     ]
    },
    {
     "name": "stderr",
     "output_type": "stream",
     "text": [
      "\r",
      " 55%|█████▌    | 696/1261 [04:18<03:38,  2.58it/s]"
     ]
    },
    {
     "name": "stdout",
     "output_type": "stream",
     "text": [
      "[300 301 302 ..., 469 470 471]\n",
      "[640 640 640 ...,  79  79  79]\n",
      "[1082 1083 1084 ..., 1163 1164 1165]\n",
      "[560 560 560 ..., 239 239 239]\n"
     ]
    },
    {
     "name": "stderr",
     "output_type": "stream",
     "text": [
      "\r",
      " 55%|█████▌    | 697/1261 [04:19<03:28,  2.70it/s]"
     ]
    },
    {
     "name": "stdout",
     "output_type": "stream",
     "text": [
      "[301 302 303 ..., 469 470 471]\n",
      "[640 640 640 ...,  79  79  79]\n",
      "[1078 1079 1080 ..., 1158 1159 1160]\n",
      "[640 640 640 ..., 239 239 239]\n"
     ]
    },
    {
     "name": "stderr",
     "output_type": "stream",
     "text": [
      "\r",
      " 55%|█████▌    | 698/1261 [04:19<03:28,  2.70it/s]"
     ]
    },
    {
     "name": "stdout",
     "output_type": "stream",
     "text": [
      "[301 302 303 ..., 481 482 483]\n",
      "[640 640 640 ...,  79  79  79]\n",
      "[1076 1077 1078 ..., 1192 1193 1194]\n",
      "[640 640 640 ...,  40  40  40]\n"
     ]
    },
    {
     "name": "stderr",
     "output_type": "stream",
     "text": [
      "\r",
      " 55%|█████▌    | 699/1261 [04:19<03:20,  2.80it/s]"
     ]
    },
    {
     "name": "stdout",
     "output_type": "stream",
     "text": [
      "[303 304 305 ..., 481 482 483]\n",
      "[640 640 640 ...,  79  79  79]\n",
      "[1076 1077 1078 ..., 1191 1192 1193]\n",
      "[640 640 640 ...,  59  59  59]\n"
     ]
    },
    {
     "name": "stderr",
     "output_type": "stream",
     "text": [
      "\r",
      " 56%|█████▌    | 700/1261 [04:20<03:36,  2.59it/s]"
     ]
    },
    {
     "name": "stdout",
     "output_type": "stream",
     "text": [
      "[305 306 307 ..., 493 494 495]\n",
      "[640 640 640 ...,  79  79  79]\n",
      "[1074 1075 1076 ..., 1183 1184 1185]\n",
      "[640 640 640 ...,  79  79  79]\n"
     ]
    },
    {
     "name": "stderr",
     "output_type": "stream",
     "text": [
      "\r",
      " 56%|█████▌    | 701/1261 [04:20<03:32,  2.63it/s]"
     ]
    },
    {
     "name": "stdout",
     "output_type": "stream",
     "text": [
      "[305 306 307 ..., 493 494 495]\n",
      "[640 640 640 ...,  79  79  79]\n",
      "[1075 1076 1077 ..., 1189 1190 1191]\n",
      "[661 661 661 ...,  79  79  79]\n"
     ]
    },
    {
     "name": "stderr",
     "output_type": "stream",
     "text": [
      "\r",
      " 56%|█████▌    | 702/1261 [04:20<03:26,  2.71it/s]"
     ]
    },
    {
     "name": "stdout",
     "output_type": "stream",
     "text": [
      "[301 302 303 ..., 487 488 489]\n",
      "[640 640 640 ...,  79  79  79]\n",
      "[1072 1073 1074 ..., 1195 1196 1197]\n",
      "[689 689 689 ...,  79  79  79]\n"
     ]
    },
    {
     "name": "stderr",
     "output_type": "stream",
     "text": [
      "\r",
      " 56%|█████▌    | 703/1261 [04:21<03:22,  2.75it/s]"
     ]
    },
    {
     "name": "stdout",
     "output_type": "stream",
     "text": [
      "[301 302 303 ..., 505 506 507]\n",
      "[640 640 640 ...,  79  79  79]\n",
      "[1074 1075 1076 ..., 1195 1196 1197]\n",
      "[717 717 717 ...,  79  79  79]\n"
     ]
    },
    {
     "name": "stderr",
     "output_type": "stream",
     "text": [
      "\r",
      " 56%|█████▌    | 704/1261 [04:21<03:26,  2.70it/s]"
     ]
    },
    {
     "name": "stdout",
     "output_type": "stream",
     "text": [
      "[303 304 305 ..., 493 494 495]\n",
      "[640 640 640 ...,  79  79  79]\n",
      "[1090 1091 1092 ..., 1195 1196 1197]\n",
      "[613 613 613 ...,  79  79  79]\n"
     ]
    },
    {
     "name": "stderr",
     "output_type": "stream",
     "text": [
      "\r",
      " 56%|█████▌    | 705/1261 [04:22<03:31,  2.63it/s]"
     ]
    },
    {
     "name": "stdout",
     "output_type": "stream",
     "text": [
      "[303 304 305 ..., 493 494 495]\n",
      "[640 640 640 ...,  79  79  79]\n",
      "[1086 1087 1088 ..., 1168 1169 1170]\n",
      "[643 643 643 ..., 159 159 159]\n"
     ]
    },
    {
     "name": "stderr",
     "output_type": "stream",
     "text": [
      "\r",
      " 56%|█████▌    | 706/1261 [04:22<03:28,  2.66it/s]"
     ]
    },
    {
     "name": "stdout",
     "output_type": "stream",
     "text": [
      "[298 299 300 ..., 452 453 454]\n",
      "[640 640 640 ...,  79  79  79]\n",
      "[1086 1087 1088 ..., 1174 1175 1176]\n",
      "[671 671 671 ..., 159 159 159]\n"
     ]
    },
    {
     "name": "stderr",
     "output_type": "stream",
     "text": [
      "\r",
      " 56%|█████▌    | 707/1261 [04:22<03:24,  2.71it/s]"
     ]
    },
    {
     "name": "stdout",
     "output_type": "stream",
     "text": [
      "[300 301 302 ..., 487 488 489]\n",
      "[640 640 640 ...,  79  79  79]\n",
      "[1084 1085 1086 ..., 1174 1175 1176]\n",
      "[700 700 700 ..., 159 159 159]\n"
     ]
    },
    {
     "name": "stderr",
     "output_type": "stream",
     "text": [
      "\r",
      " 56%|█████▌    | 708/1261 [04:23<03:17,  2.80it/s]"
     ]
    },
    {
     "name": "stdout",
     "output_type": "stream",
     "text": [
      "[296 297 298 ..., 481 482 483]\n",
      "[640 640 640 ...,  79  79  79]\n",
      "[1076 1077 1078 ..., 1153 1154 1155]\n",
      "[560 560 560 ..., 239 239 239]\n"
     ]
    },
    {
     "name": "stderr",
     "output_type": "stream",
     "text": [
      "\r",
      " 56%|█████▌    | 709/1261 [04:23<03:25,  2.69it/s]"
     ]
    },
    {
     "name": "stdout",
     "output_type": "stream",
     "text": [
      "[295 296 297 ..., 493 494 495]\n",
      "[640 640 640 ...,  79  79  79]\n",
      "[1073 1074 1075 ..., 1199 1200 1201]\n",
      "[640 640 640 ...,  20  20  20]\n"
     ]
    },
    {
     "name": "stderr",
     "output_type": "stream",
     "text": [
      "\r",
      " 56%|█████▋    | 710/1261 [04:23<03:21,  2.74it/s]"
     ]
    },
    {
     "name": "stdout",
     "output_type": "stream",
     "text": [
      "[296 297 298 ..., 487 488 489]\n",
      "[640 640 640 ...,  79  79  79]\n",
      "[1071 1072 1073 ..., 1192 1193 1194]\n",
      "[640 640 640 ...,  40  40  40]\n"
     ]
    },
    {
     "name": "stderr",
     "output_type": "stream",
     "text": [
      "\r",
      " 56%|█████▋    | 711/1261 [04:24<03:20,  2.75it/s]"
     ]
    },
    {
     "name": "stdout",
     "output_type": "stream",
     "text": [
      "[298 299 300 ..., 493 494 495]\n",
      "[640 640 640 ...,  79  79  79]\n",
      "[1070 1071 1072 ..., 1172 1173 1174]\n",
      "[640 640 640 ...,  77  77  77]\n"
     ]
    },
    {
     "name": "stderr",
     "output_type": "stream",
     "text": [
      "\r",
      " 56%|█████▋    | 712/1261 [04:24<03:14,  2.82it/s]"
     ]
    },
    {
     "name": "stdout",
     "output_type": "stream",
     "text": [
      "[295 296 297 ..., 481 482 483]\n",
      "[640 640 640 ...,  79  79  79]\n",
      "[1070 1071 1072 ..., 1183 1184 1185]\n",
      "[640 640 640 ...,  79  79  79]\n"
     ]
    },
    {
     "name": "stderr",
     "output_type": "stream",
     "text": [
      "\r",
      " 57%|█████▋    | 713/1261 [04:25<04:32,  2.01it/s]"
     ]
    },
    {
     "name": "stdout",
     "output_type": "stream",
     "text": [
      "[295 296 297 ..., 481 482 483]\n",
      "[640 640 640 ...,  79  79  79]\n",
      "[1084 1085 1086 ..., 1195 1196 1197]\n",
      "[655 655 655 ...,  79  79  79]\n"
     ]
    },
    {
     "name": "stderr",
     "output_type": "stream",
     "text": [
      "\r",
      " 57%|█████▋    | 714/1261 [04:25<04:10,  2.18it/s]"
     ]
    },
    {
     "name": "stdout",
     "output_type": "stream",
     "text": [
      "[298 299 300 ..., 481 482 483]\n",
      "[640 640 640 ...,  79  79  79]\n",
      "[1069 1070 1074 ..., 1201 1202 1203]\n",
      "[685 685 685 ...,  79  79  79]\n"
     ]
    },
    {
     "name": "stderr",
     "output_type": "stream",
     "text": [
      "\r",
      " 57%|█████▋    | 715/1261 [04:26<04:04,  2.23it/s]"
     ]
    },
    {
     "name": "stdout",
     "output_type": "stream",
     "text": [
      "[300 301 302 ..., 481 482 483]\n",
      "[640 640 640 ...,  79  79  79]\n",
      "[1080 1081 1082 ..., 1201 1202 1203]\n",
      "[714 714 714 ...,  79  79  79]\n"
     ]
    },
    {
     "name": "stderr",
     "output_type": "stream",
     "text": [
      "\r",
      " 57%|█████▋    | 716/1261 [04:26<03:46,  2.40it/s]"
     ]
    },
    {
     "name": "stdout",
     "output_type": "stream",
     "text": [
      "[301 302 303 ..., 505 506 507]\n",
      "[640 640 640 ...,  79  79  79]\n",
      "[1080 1081 1082 ..., 1201 1202 1203]\n",
      "[610 610 610 ...,  79  79  79]\n"
     ]
    },
    {
     "name": "stderr",
     "output_type": "stream",
     "text": [
      "\r",
      " 57%|█████▋    | 717/1261 [04:26<03:40,  2.47it/s]"
     ]
    },
    {
     "name": "stdout",
     "output_type": "stream",
     "text": [
      "[300 301 302 ..., 487 488 489]\n",
      "[640 640 640 ...,  79  79  79]\n",
      "[1074 1075 1076 ..., 1206 1207 1208]\n",
      "[640 640 640 ...,  79  79  79]\n"
     ]
    },
    {
     "name": "stderr",
     "output_type": "stream",
     "text": [
      "\r",
      " 57%|█████▋    | 718/1261 [04:27<03:36,  2.50it/s]"
     ]
    },
    {
     "name": "stdout",
     "output_type": "stream",
     "text": [
      "[298 299 300 ..., 481 482 483]\n",
      "[640 640 640 ...,  79  79  79]\n",
      "[1084 1085 1086 ..., 1189 1190 1191]\n",
      "[665 665 665 ..., 159 159 159]\n"
     ]
    },
    {
     "name": "stderr",
     "output_type": "stream",
     "text": [
      "\r",
      " 57%|█████▋    | 719/1261 [04:27<03:30,  2.58it/s]"
     ]
    },
    {
     "name": "stdout",
     "output_type": "stream",
     "text": [
      "[300 301 302 ..., 481 482 483]\n",
      "[640 640 640 ...,  79  79  79]\n",
      "[1080 1081 1082 ..., 1195 1196 1197]\n",
      "[695 695 695 ..., 159 159 159]\n"
     ]
    },
    {
     "name": "stderr",
     "output_type": "stream",
     "text": [
      "\r",
      " 57%|█████▋    | 720/1261 [04:28<03:26,  2.62it/s]"
     ]
    },
    {
     "name": "stdout",
     "output_type": "stream",
     "text": [
      "[298 299 300 ..., 481 482 483]\n",
      "[640 640 640 ...,  79  79  79]\n",
      "[1080 1081 1082 ..., 1195 1196 1197]\n",
      "[560 560 560 ..., 159 159 159]\n"
     ]
    },
    {
     "name": "stderr",
     "output_type": "stream",
     "text": [
      "\r",
      " 57%|█████▋    | 721/1261 [04:28<03:23,  2.66it/s]"
     ]
    },
    {
     "name": "stdout",
     "output_type": "stream",
     "text": [
      "[300 301 302 ..., 481 482 483]\n",
      "[640 640 640 ...,  79  79  79]\n",
      "[1082 1083 1084 ..., 1177 1178 1179]\n",
      "[560 560 560 ..., 239 239 239]\n"
     ]
    },
    {
     "name": "stderr",
     "output_type": "stream",
     "text": [
      "\r",
      " 57%|█████▋    | 722/1261 [04:28<03:30,  2.56it/s]"
     ]
    },
    {
     "name": "stdout",
     "output_type": "stream",
     "text": [
      "[300 301 302 ..., 481 482 483]\n",
      "[640 640 640 ...,  79  79  79]\n",
      "[1079 1080 1081 ..., 1181 1182 1183]\n",
      "[640 640 640 ..., 239 239 239]\n"
     ]
    },
    {
     "name": "stderr",
     "output_type": "stream",
     "text": [
      "\r",
      " 57%|█████▋    | 723/1261 [04:29<03:20,  2.68it/s]"
     ]
    },
    {
     "name": "stdout",
     "output_type": "stream",
     "text": [
      "[300 301 302 ..., 487 488 489]\n",
      "[640 640 640 ...,  79  79  79]\n",
      "[1081 1082 1083 ..., 1237 1238 1239]\n",
      "[640 640 640 ...,  20  20  20]\n"
     ]
    },
    {
     "name": "stderr",
     "output_type": "stream",
     "text": [
      "\r",
      " 57%|█████▋    | 724/1261 [04:29<03:16,  2.73it/s]"
     ]
    },
    {
     "name": "stdout",
     "output_type": "stream",
     "text": [
      "[301 302 303 ..., 487 488 489]\n",
      "[640 640 640 ...,  79  79  79]\n",
      "[1081 1082 1083 ..., 1235 1236 1237]\n",
      "[640 640 640 ...,  40  40  40]\n"
     ]
    },
    {
     "name": "stderr",
     "output_type": "stream",
     "text": [
      "\r",
      " 57%|█████▋    | 725/1261 [04:29<03:09,  2.83it/s]"
     ]
    },
    {
     "name": "stdout",
     "output_type": "stream",
     "text": [
      "[301 302 303 ..., 481 482 483]\n",
      "[640 640 640 ...,  79  79  79]\n",
      "[1087 1088 1089 ..., 1233 1234 1235]\n",
      "[640 640 640 ...,  59  59  59]\n"
     ]
    },
    {
     "name": "stderr",
     "output_type": "stream",
     "text": [
      "\r",
      " 58%|█████▊    | 726/1261 [04:30<03:02,  2.93it/s]"
     ]
    },
    {
     "name": "stdout",
     "output_type": "stream",
     "text": [
      "[305 306 307 ..., 493 494 495]\n",
      "[640 640 640 ...,  79  79  79]\n",
      "[1088 1089 1090 ..., 1230 1231 1232]\n",
      "[668 668 668 ...,  79  79  79]\n"
     ]
    },
    {
     "name": "stderr",
     "output_type": "stream",
     "text": [
      "\r",
      " 58%|█████▊    | 727/1261 [04:30<03:05,  2.88it/s]"
     ]
    },
    {
     "name": "stdout",
     "output_type": "stream",
     "text": [
      "[305 306 307 ..., 493 494 495]\n",
      "[640 640 640 ...,  79  79  79]\n",
      "[1084 1085 1086 ..., 1248 1249 1250]\n",
      "[698 698 698 ...,  79  79  79]\n"
     ]
    },
    {
     "name": "stderr",
     "output_type": "stream",
     "text": [
      "\r",
      " 58%|█████▊    | 728/1261 [04:30<03:04,  2.90it/s]"
     ]
    },
    {
     "name": "stdout",
     "output_type": "stream",
     "text": [
      "[306 307 308 ..., 493 494 495]\n",
      "[640 640 640 ...,  79  79  79]\n",
      "[1104 1105 1106 ..., 1248 1249 1250]\n",
      "[601 601 601 ...,  79  79  79]\n"
     ]
    },
    {
     "name": "stderr",
     "output_type": "stream",
     "text": [
      "\r",
      " 58%|█████▊    | 729/1261 [04:31<03:06,  2.85it/s]"
     ]
    },
    {
     "name": "stdout",
     "output_type": "stream",
     "text": [
      "[308 309 310 ..., 505 506 507]\n",
      "[640 640 640 ...,  79  79  79]\n",
      "[1099 1100 1101 ..., 1248 1249 1250]\n",
      "[632 632 632 ...,  79  79  79]\n"
     ]
    },
    {
     "name": "stderr",
     "output_type": "stream",
     "text": [
      "\r",
      " 58%|█████▊    | 730/1261 [04:31<03:07,  2.83it/s]"
     ]
    },
    {
     "name": "stdout",
     "output_type": "stream",
     "text": [
      "[309 310 311 ..., 511 512 513]\n",
      "[640 640 640 ...,  79  79  79]\n",
      "[1103 1104 1105 ..., 1248 1249 1250]\n",
      "[660 660 660 ...,  79  79  79]\n"
     ]
    },
    {
     "name": "stderr",
     "output_type": "stream",
     "text": [
      "\r",
      " 58%|█████▊    | 731/1261 [04:32<03:19,  2.65it/s]"
     ]
    },
    {
     "name": "stdout",
     "output_type": "stream",
     "text": [
      "[314 315 316 ..., 505 506 507]\n",
      "[640 640 640 ...,  79  79  79]\n",
      "[1097 1098 1099 ..., 1221 1222 1223]\n",
      "[691 691 691 ..., 159 159 159]\n"
     ]
    },
    {
     "name": "stderr",
     "output_type": "stream",
     "text": [
      "\r",
      " 58%|█████▊    | 732/1261 [04:32<03:27,  2.55it/s]"
     ]
    },
    {
     "name": "stdout",
     "output_type": "stream",
     "text": [
      "[314 315 316 ..., 517 518 519]\n",
      "[640 640 640 ...,  79  79  79]\n",
      "[1093 1094 1095 ..., 1216 1217 1218]\n",
      "[560 560 560 ..., 159 159 159]\n"
     ]
    },
    {
     "name": "stderr",
     "output_type": "stream",
     "text": [
      "\r",
      " 58%|█████▊    | 733/1261 [04:33<03:58,  2.22it/s]"
     ]
    },
    {
     "name": "stdout",
     "output_type": "stream",
     "text": [
      "[319 320 321 ..., 517 518 519]\n",
      "[640 640 640 ...,  79  79  79]\n",
      "[1091 1092 1093 ..., 1186 1187 1188]\n",
      "[560 560 560 ..., 239 239 239]\n"
     ]
    },
    {
     "name": "stderr",
     "output_type": "stream",
     "text": [
      "\r",
      " 58%|█████▊    | 734/1261 [04:33<03:56,  2.23it/s]"
     ]
    },
    {
     "name": "stdout",
     "output_type": "stream",
     "text": [
      "[319 320 321 ..., 517 518 519]\n",
      "[640 640 640 ...,  79  79  79]\n",
      "[1087 1088 1089 ..., 1244 1245 1246]\n",
      "[640 640 640 ...,  20  20  20]\n"
     ]
    },
    {
     "name": "stderr",
     "output_type": "stream",
     "text": [
      "\r",
      " 58%|█████▊    | 735/1261 [04:33<03:49,  2.30it/s]"
     ]
    },
    {
     "name": "stdout",
     "output_type": "stream",
     "text": [
      "[319 320 321 ..., 517 518 519]\n",
      "[640 640 640 ...,  79  79  79]\n",
      "[1087 1088 1089 ..., 1241 1242 1243]\n",
      "[640 640 640 ...,  40  40  40]\n"
     ]
    },
    {
     "name": "stderr",
     "output_type": "stream",
     "text": [
      "\r",
      " 58%|█████▊    | 736/1261 [04:34<03:43,  2.35it/s]"
     ]
    },
    {
     "name": "stdout",
     "output_type": "stream",
     "text": [
      "[317 318 319 ..., 534 535 536]\n",
      "[640 640 640 ...,  79  79  79]\n",
      "[1087 1088 1089 ..., 1220 1221 1222]\n",
      "[640 640 640 ...,  77  77  77]\n"
     ]
    },
    {
     "name": "stderr",
     "output_type": "stream",
     "text": [
      "\r",
      " 58%|█████▊    | 737/1261 [04:34<03:44,  2.34it/s]"
     ]
    },
    {
     "name": "stdout",
     "output_type": "stream",
     "text": [
      "[317 318 319 ..., 528 529 530]\n",
      "[640 640 640 ...,  79  79  79]\n",
      "[1092 1093 1094 ..., 1236 1237 1238]\n",
      "[646 646 646 ...,  79  79  79]\n"
     ]
    },
    {
     "name": "stderr",
     "output_type": "stream",
     "text": [
      "\r",
      " 59%|█████▊    | 738/1261 [04:35<03:33,  2.45it/s]"
     ]
    },
    {
     "name": "stdout",
     "output_type": "stream",
     "text": [
      "[319 320 321 ..., 534 535 536]\n",
      "[640 640 640 ...,  79  79  79]\n",
      "[1089 1090 1091 ..., 1248 1249 1250]\n",
      "[675 675 675 ...,  79  79  79]\n"
     ]
    },
    {
     "name": "stderr",
     "output_type": "stream",
     "text": [
      "\r",
      " 59%|█████▊    | 739/1261 [04:35<03:29,  2.50it/s]"
     ]
    },
    {
     "name": "stdout",
     "output_type": "stream",
     "text": [
      "[321 322 323 ..., 534 535 536]\n",
      "[640 640 640 ...,  79  79  79]\n",
      "[1089 1090 1088 ..., 1248 1249 1250]\n",
      "[704 704 705 ...,  79  79  79]\n"
     ]
    },
    {
     "name": "stderr",
     "output_type": "stream",
     "text": [
      "\r",
      " 59%|█████▊    | 740/1261 [04:35<03:19,  2.61it/s]"
     ]
    },
    {
     "name": "stdout",
     "output_type": "stream",
     "text": [
      "[322 323 324 ..., 552 553 554]\n",
      "[640 640 640 ...,  79  79  79]\n",
      "[1125 1126 1127 ..., 1248 1249 1250]\n",
      "[601 601 601 ...,  79  79  79]\n"
     ]
    },
    {
     "name": "stderr",
     "output_type": "stream",
     "text": [
      "\r",
      " 59%|█████▉    | 741/1261 [04:36<03:14,  2.68it/s]"
     ]
    },
    {
     "name": "stdout",
     "output_type": "stream",
     "text": [
      "[322 323 324 ..., 540 541 542]\n",
      "[640 640 640 ...,  79  79  79]\n",
      "[1109 1110 1111 ..., 1216 1217 1218]\n",
      "[632 632 632 ..., 159 159 159]\n"
     ]
    },
    {
     "name": "stderr",
     "output_type": "stream",
     "text": [
      "\r",
      " 59%|█████▉    | 742/1261 [04:36<03:09,  2.74it/s]"
     ]
    },
    {
     "name": "stdout",
     "output_type": "stream",
     "text": [
      "[325 326 327 ..., 546 547 548]\n",
      "[640 640 640 ...,  79  79  79]\n",
      "[1112 1113 1114 ..., 1216 1217 1218]\n",
      "[661 661 661 ..., 159 159 159]\n"
     ]
    },
    {
     "name": "stderr",
     "output_type": "stream",
     "text": [
      "\r",
      " 59%|█████▉    | 743/1261 [04:36<03:04,  2.80it/s]"
     ]
    },
    {
     "name": "stdout",
     "output_type": "stream",
     "text": [
      "[327 328 329 ..., 546 547 548]\n",
      "[640 640 640 ...,  79  79  79]\n",
      "[1090 1091 1092 ..., 1216 1217 1218]\n",
      "[691 691 691 ..., 159 159 159]\n"
     ]
    },
    {
     "name": "stderr",
     "output_type": "stream",
     "text": [
      "\r",
      " 59%|█████▉    | 744/1261 [04:37<03:02,  2.83it/s]"
     ]
    },
    {
     "name": "stdout",
     "output_type": "stream",
     "text": [
      "[327 328 329 ..., 546 547 548]\n",
      "[640 640 640 ...,  79  79  79]\n",
      "[1098 1099 1100 ..., 1191 1192 1193]\n",
      "[560 560 560 ..., 239 239 239]\n"
     ]
    },
    {
     "name": "stderr",
     "output_type": "stream",
     "text": [
      "\r",
      " 59%|█████▉    | 745/1261 [04:37<02:59,  2.87it/s]"
     ]
    },
    {
     "name": "stdout",
     "output_type": "stream",
     "text": [
      "[329 330 331 ..., 546 547 548]\n",
      "[640 640 640 ...,  79  79  79]\n",
      "[1098 1099 1100 ..., 1195 1196 1197]\n",
      "[560 560 560 ..., 239 239 239]\n"
     ]
    },
    {
     "name": "stderr",
     "output_type": "stream",
     "text": [
      "\r",
      " 59%|█████▉    | 746/1261 [04:37<02:58,  2.88it/s]"
     ]
    },
    {
     "name": "stdout",
     "output_type": "stream",
     "text": [
      "[329 330 331 ..., 546 547 548]\n",
      "[640 640 640 ...,  79  79  79]\n",
      "[1095 1096 1097 ..., 1263 1264 1265]\n",
      "[640 640 640 ...,  20  20  20]\n"
     ]
    },
    {
     "name": "stderr",
     "output_type": "stream",
     "text": [
      "\r",
      " 59%|█████▉    | 747/1261 [04:38<02:59,  2.87it/s]"
     ]
    },
    {
     "name": "stdout",
     "output_type": "stream",
     "text": [
      "[334 335 336 ..., 540 541 542]\n",
      "[640 640 640 ...,  79  79  79]\n",
      "[1097 1098 1099 ..., 1260 1261 1262]\n",
      "[640 640 640 ...,  40  40  40]\n"
     ]
    },
    {
     "name": "stderr",
     "output_type": "stream",
     "text": [
      "\r",
      " 59%|█████▉    | 748/1261 [04:38<02:58,  2.88it/s]"
     ]
    },
    {
     "name": "stdout",
     "output_type": "stream",
     "text": [
      "[332 333 334 ..., 534 535 536]\n",
      "[640 640 640 ...,  79  79  79]\n",
      "[1100 1101 1102 ..., 1258 1259 1260]\n",
      "[640 640 640 ...,  59  59  59]\n"
     ]
    },
    {
     "name": "stderr",
     "output_type": "stream",
     "text": [
      "\r",
      " 59%|█████▉    | 749/1261 [04:38<02:57,  2.89it/s]"
     ]
    },
    {
     "name": "stdout",
     "output_type": "stream",
     "text": [
      "[334 335 336 ..., 528 529 530]\n",
      "[640 640 640 ...,  79  79  79]\n",
      "[1110 1111 1112 ..., 1255 1256 1257]\n",
      "[645 645 645 ...,  77  77  77]\n"
     ]
    },
    {
     "name": "stderr",
     "output_type": "stream",
     "text": [
      "\r",
      " 59%|█████▉    | 750/1261 [04:39<02:57,  2.88it/s]"
     ]
    },
    {
     "name": "stdout",
     "output_type": "stream",
     "text": [
      "[335 336 337 ..., 540 541 542]\n",
      "[640 640 640 ...,  79  79  79]\n",
      "[1118 1119 1105 ..., 1265 1266 1267]\n",
      "[674 674 675 ...,  79  79  79]\n"
     ]
    },
    {
     "name": "stderr",
     "output_type": "stream",
     "text": [
      "\r",
      " 60%|█████▉    | 751/1261 [04:39<02:55,  2.90it/s]"
     ]
    },
    {
     "name": "stdout",
     "output_type": "stream",
     "text": [
      "[337 338 339 ..., 540 541 542]\n",
      "[640 640 640 ...,  79  79  79]\n",
      "[1100 1101 1097 ..., 1277 1278 1279]\n",
      "[703 703 704 ...,  79  79  79]\n"
     ]
    },
    {
     "name": "stderr",
     "output_type": "stream",
     "text": [
      "\r",
      " 60%|█████▉    | 752/1261 [04:40<03:07,  2.72it/s]"
     ]
    },
    {
     "name": "stdout",
     "output_type": "stream",
     "text": [
      "[343 344 345 ..., 540 541 542]\n",
      "[640 640 640 ...,  79  79  79]\n",
      "[1130 1131 1132 ..., 1277 1278 1279]\n",
      "[599 599 599 ...,  79  79  79]\n"
     ]
    },
    {
     "name": "stderr",
     "output_type": "stream",
     "text": [
      "\r",
      " 60%|█████▉    | 753/1261 [04:40<03:04,  2.75it/s]"
     ]
    },
    {
     "name": "stdout",
     "output_type": "stream",
     "text": [
      "[338 339 340 ..., 558 559 560]\n",
      "[640 640 640 ...,  79  79  79]\n",
      "[1122 1123 1124 ..., 1277 1278 1279]\n",
      "[630 630 630 ...,  79  79  79]\n"
     ]
    },
    {
     "name": "stderr",
     "output_type": "stream",
     "text": [
      "\r",
      " 60%|█████▉    | 754/1261 [04:40<03:21,  2.52it/s]"
     ]
    },
    {
     "name": "stdout",
     "output_type": "stream",
     "text": [
      "[343 344 345 ..., 558 559 560]\n",
      "[640 640 640 ...,  79  79  79]\n",
      "[1128 1129 1130 ..., 1253 1254 1255]\n",
      "[660 660 660 ..., 159 159 159]\n"
     ]
    },
    {
     "name": "stderr",
     "output_type": "stream",
     "text": [
      "\r",
      " 60%|█████▉    | 755/1261 [04:41<03:24,  2.48it/s]"
     ]
    },
    {
     "name": "stdout",
     "output_type": "stream",
     "text": [
      "[351 352 353 ..., 564 565 566]\n",
      "[640 640 640 ...,  79  79  79]\n",
      "[1120 1121 1122 ..., 1258 1259 1260]\n",
      "[690 690 690 ..., 159 159 159]\n"
     ]
    },
    {
     "name": "stderr",
     "output_type": "stream",
     "text": [
      "\r",
      " 60%|█████▉    | 756/1261 [04:41<03:22,  2.50it/s]"
     ]
    },
    {
     "name": "stdout",
     "output_type": "stream",
     "text": [
      "[350 351 352 ..., 552 553 554]\n",
      "[640 640 640 ...,  79  79  79]\n",
      "[1105 1106 1107 ..., 1269 1270 1271]\n",
      "[719 719 719 ..., 159 159 159]\n"
     ]
    },
    {
     "name": "stderr",
     "output_type": "stream",
     "text": [
      "\r",
      " 60%|██████    | 757/1261 [04:42<03:10,  2.64it/s]"
     ]
    },
    {
     "name": "stdout",
     "output_type": "stream",
     "text": [
      "[348 349 350 ..., 552 553 554]\n",
      "[640 640 640 ...,  79  79  79]\n",
      "[1125 1126 1127 ..., 1238 1239 1240]\n",
      "[560 560 560 ..., 239 239 239]\n"
     ]
    },
    {
     "name": "stderr",
     "output_type": "stream",
     "text": [
      "\r",
      " 60%|██████    | 758/1261 [04:42<03:05,  2.71it/s]"
     ]
    },
    {
     "name": "stdout",
     "output_type": "stream",
     "text": [
      "[354 355 356 ..., 546 547 548]\n",
      "[640 640 640 ...,  79  79  79]\n",
      "[1116 1117 1118 ..., 1242 1243 1244]\n",
      "[640 640 640 ..., 239 239 239]\n"
     ]
    },
    {
     "name": "stderr",
     "output_type": "stream",
     "text": [
      "\r",
      " 60%|██████    | 759/1261 [04:42<03:06,  2.69it/s]"
     ]
    },
    {
     "name": "stdout",
     "output_type": "stream",
     "text": [
      "[351 352 353 ..., 546 547 548]\n",
      "[640 640 640 ...,  79  79  79]\n",
      "[1118 1119 1120 ..., 1247 1248 1249]\n",
      "[640 640 640 ..., 239 239 239]\n"
     ]
    },
    {
     "name": "stderr",
     "output_type": "stream",
     "text": [
      "\r",
      " 60%|██████    | 760/1261 [04:43<03:03,  2.73it/s]"
     ]
    },
    {
     "name": "stdout",
     "output_type": "stream",
     "text": [
      "[351 352 353 ..., 546 547 548]\n",
      "[640 640 640 ...,  79  79  79]\n",
      "[1120 1121 1122 ..., 1277 1278 1279]\n",
      "[640 640 640 ...,  40  40  40]\n"
     ]
    },
    {
     "name": "stderr",
     "output_type": "stream",
     "text": [
      "\r",
      " 60%|██████    | 761/1261 [04:43<03:00,  2.77it/s]"
     ]
    },
    {
     "name": "stdout",
     "output_type": "stream",
     "text": [
      "[351 352 353 ..., 546 547 548]\n",
      "[640 640 640 ...,  79  79  79]\n",
      "[1123 1124 1125 ..., 1277 1278 1279]\n",
      "[644 644 644 ...,  77  77  77]\n"
     ]
    },
    {
     "name": "stderr",
     "output_type": "stream",
     "text": [
      "\r",
      " 60%|██████    | 762/1261 [04:43<02:57,  2.81it/s]"
     ]
    },
    {
     "name": "stdout",
     "output_type": "stream",
     "text": [
      "[351 352 353 ..., 540 541 542]\n",
      "[640 640 640 ...,  79  79  79]\n",
      "[1122 1123 1124 ..., 1277 1278 1279]\n",
      "[673 673 673 ...,  77  77  77]\n"
     ]
    },
    {
     "name": "stderr",
     "output_type": "stream",
     "text": [
      "\r",
      " 61%|██████    | 763/1261 [04:44<02:53,  2.87it/s]"
     ]
    },
    {
     "name": "stdout",
     "output_type": "stream",
     "text": [
      "[351 352 353 ..., 540 541 542]\n",
      "[640 640 640 ...,  79  79  79]\n",
      "[1120 1121 1122 ..., 1277 1278 1279]\n",
      "[703 703 703 ...,  79  79  79]\n"
     ]
    },
    {
     "name": "stderr",
     "output_type": "stream",
     "text": [
      "\r",
      " 61%|██████    | 764/1261 [04:44<02:54,  2.84it/s]"
     ]
    },
    {
     "name": "stdout",
     "output_type": "stream",
     "text": [
      "[351 352 353 ..., 540 541 542]\n",
      "[640 640 640 ...,  79  79  79]\n",
      "[1148 1149 1150 ..., 1277 1278 1279]\n",
      "[599 599 599 ...,  79  79  79]\n"
     ]
    },
    {
     "name": "stderr",
     "output_type": "stream",
     "text": [
      "\r",
      " 61%|██████    | 765/1261 [04:44<02:51,  2.89it/s]"
     ]
    },
    {
     "name": "stdout",
     "output_type": "stream",
     "text": [
      "[351 352 353 ..., 522 523 524]\n",
      "[640 640 640 ...,  79  79  79]\n",
      "[1142 1143 1144 ..., 1277 1278 1279]\n",
      "[630 630 630 ...,  79  79  79]\n"
     ]
    },
    {
     "name": "stderr",
     "output_type": "stream",
     "text": [
      "\r",
      " 61%|██████    | 766/1261 [04:45<02:58,  2.77it/s]"
     ]
    },
    {
     "name": "stdout",
     "output_type": "stream",
     "text": [
      "[353 354 355 ..., 552 553 554]\n",
      "[640 640 640 ...,  79  79  79]\n",
      "[1137 1138 1139 ..., 1274 1275 1276]\n",
      "[661 661 661 ..., 159 159 159]\n"
     ]
    },
    {
     "name": "stderr",
     "output_type": "stream",
     "text": [
      "\r",
      " 61%|██████    | 767/1261 [04:45<02:57,  2.79it/s]"
     ]
    },
    {
     "name": "stdout",
     "output_type": "stream",
     "text": [
      "[354 355 356 ..., 540 541 542]\n",
      "[640 640 640 ...,  79  79  79]\n",
      "[1137 1138 1139 ..., 1274 1275 1276]\n",
      "[691 691 691 ..., 159 159 159]\n"
     ]
    },
    {
     "name": "stderr",
     "output_type": "stream",
     "text": [
      "\r",
      " 61%|██████    | 768/1261 [04:45<02:56,  2.79it/s]"
     ]
    },
    {
     "name": "stdout",
     "output_type": "stream",
     "text": [
      "[354 355 356 ..., 546 547 548]\n",
      "[640 640 640 ...,  79  79  79]\n",
      "[1136 1137 1138 ..., 1269 1270 1271]\n",
      "[560 560 560 ..., 159 159 159]\n"
     ]
    },
    {
     "name": "stderr",
     "output_type": "stream",
     "text": [
      "\r",
      " 61%|██████    | 769/1261 [04:46<02:56,  2.79it/s]"
     ]
    },
    {
     "name": "stdout",
     "output_type": "stream",
     "text": [
      "[361 362 363 ..., 546 547 548]\n",
      "[640 640 640 ...,  79  79  79]\n",
      "[1138 1139 1140 ..., 1238 1239 1240]\n",
      "[560 560 560 ..., 239 239 239]\n"
     ]
    },
    {
     "name": "stderr",
     "output_type": "stream",
     "text": [
      "\r",
      " 61%|██████    | 770/1261 [04:46<02:57,  2.76it/s]"
     ]
    },
    {
     "name": "stdout",
     "output_type": "stream",
     "text": [
      "[358 359 360 ..., 558 559 560]\n",
      "[640 640 640 ...,  79  79  79]\n",
      "[1126 1127 1128 ..., 1277 1278 1279]\n",
      "[640 640 640 ...,  20  20  20]\n"
     ]
    },
    {
     "name": "stderr",
     "output_type": "stream",
     "text": [
      "\r",
      " 61%|██████    | 771/1261 [04:46<02:51,  2.85it/s]"
     ]
    },
    {
     "name": "stdout",
     "output_type": "stream",
     "text": [
      "[358 359 360 ..., 552 553 554]\n",
      "[640 640 640 ...,  79  79  79]\n",
      "[1131 1132 1133 ..., 1277 1278 1279]\n",
      "[640 640 640 ...,  40  40  40]\n"
     ]
    },
    {
     "name": "stderr",
     "output_type": "stream",
     "text": [
      "\r",
      " 61%|██████    | 772/1261 [04:47<02:51,  2.85it/s]"
     ]
    },
    {
     "name": "stdout",
     "output_type": "stream",
     "text": [
      "[356 357 358 ..., 546 547 548]\n",
      "[640 640 640 ...,  79  79  79]\n",
      "[1136 1137 1138 ..., 1277 1278 1279]\n",
      "[640 640 640 ...,  40  40  40]\n"
     ]
    },
    {
     "name": "stderr",
     "output_type": "stream",
     "text": [
      "\r",
      " 61%|██████▏   | 773/1261 [04:47<02:49,  2.89it/s]"
     ]
    },
    {
     "name": "stdout",
     "output_type": "stream",
     "text": [
      "[354 355 356 ..., 546 547 548]\n",
      "[640 640 640 ...,  79  79  79]\n",
      "[1142 1143 1144 ..., 1277 1278 1279]\n",
      "[640 640 640 ...,  59  59  59]\n"
     ]
    },
    {
     "name": "stderr",
     "output_type": "stream",
     "text": [
      "\r",
      " 61%|██████▏   | 774/1261 [04:47<02:46,  2.93it/s]"
     ]
    },
    {
     "name": "stdout",
     "output_type": "stream",
     "text": [
      "[353 354 355 ..., 540 541 542]\n",
      "[640 640 640 ...,  79  79  79]\n",
      "[1144 1145 1141 ..., 1277 1278 1279]\n",
      "[668 668 669 ...,  79  79  79]\n"
     ]
    },
    {
     "name": "stderr",
     "output_type": "stream",
     "text": [
      "\r",
      " 61%|██████▏   | 775/1261 [04:48<02:43,  2.98it/s]"
     ]
    },
    {
     "name": "stdout",
     "output_type": "stream",
     "text": [
      "[354 355 356 ..., 540 541 542]\n",
      "[640 640 640 ...,  79  79  79]\n",
      "[1137 1138 1139 ..., 1277 1278 1279]\n",
      "[699 699 699 ...,  79  79  79]\n"
     ]
    },
    {
     "name": "stderr",
     "output_type": "stream",
     "text": [
      "\r",
      " 62%|██████▏   | 776/1261 [04:48<02:43,  2.96it/s]"
     ]
    },
    {
     "name": "stdout",
     "output_type": "stream",
     "text": [
      "[353 354 355 ..., 552 553 554]\n",
      "[640 640 640 ...,  79  79  79]\n",
      "[1153 1154 1155 ..., 1277 1278 1279]\n",
      "[603 603 603 ...,  79  79  79]\n"
     ]
    },
    {
     "name": "stderr",
     "output_type": "stream",
     "text": [
      "\r",
      " 62%|██████▏   | 777/1261 [04:48<02:43,  2.95it/s]"
     ]
    },
    {
     "name": "stdout",
     "output_type": "stream",
     "text": [
      "[353 354 355 ..., 552 553 554]\n",
      "[640 640 640 ...,  79  79  79]\n",
      "[1156 1157 1158 ..., 1277 1278 1279]\n",
      "[632 632 632 ...,  79  79  79]\n"
     ]
    },
    {
     "name": "stderr",
     "output_type": "stream",
     "text": [
      "\r",
      " 62%|██████▏   | 778/1261 [04:49<02:44,  2.94it/s]"
     ]
    },
    {
     "name": "stdout",
     "output_type": "stream",
     "text": [
      "[354 355 356 ..., 552 553 554]\n",
      "[640 640 640 ...,  79  79  79]\n",
      "[1146 1147 1148 ..., 1248 1249 1250]\n",
      "[663 663 663 ..., 159 159 159]\n"
     ]
    },
    {
     "name": "stderr",
     "output_type": "stream",
     "text": [
      "\r",
      " 62%|██████▏   | 779/1261 [04:49<02:50,  2.82it/s]"
     ]
    },
    {
     "name": "stdout",
     "output_type": "stream",
     "text": [
      "[354 355 356 ..., 552 553 554]\n",
      "[640 640 640 ...,  79  79  79]\n",
      "[1149 1150 1151 ..., 1248 1249 1250]\n",
      "[692 692 692 ..., 159 159 159]\n"
     ]
    },
    {
     "name": "stderr",
     "output_type": "stream",
     "text": [
      "\r",
      " 62%|██████▏   | 780/1261 [04:50<02:48,  2.85it/s]"
     ]
    },
    {
     "name": "stdout",
     "output_type": "stream",
     "text": [
      "[354 355 356 ..., 552 553 554]\n",
      "[640 640 640 ...,  79  79  79]\n",
      "[1140 1141 1142 ..., 1224 1225 1226]\n",
      "[560 560 560 ..., 239 239 239]\n"
     ]
    },
    {
     "name": "stderr",
     "output_type": "stream",
     "text": [
      "\r",
      " 62%|██████▏   | 781/1261 [04:50<02:48,  2.85it/s]"
     ]
    },
    {
     "name": "stdout",
     "output_type": "stream",
     "text": [
      "[354 355 356 ..., 552 553 554]\n",
      "[640 640 640 ...,  79  79  79]\n",
      "[1142 1143 1144 ..., 1228 1229 1230]\n",
      "[560 560 560 ..., 239 239 239]\n"
     ]
    },
    {
     "name": "stderr",
     "output_type": "stream",
     "text": [
      "\r",
      " 62%|██████▏   | 782/1261 [04:50<02:46,  2.87it/s]"
     ]
    },
    {
     "name": "stdout",
     "output_type": "stream",
     "text": [
      "[351 352 353 ..., 534 535 536]\n",
      "[640 640 640 ...,  79  79  79]\n",
      "[1141 1142 1143 ..., 1233 1234 1235]\n",
      "[640 640 640 ..., 239 239 239]\n"
     ]
    },
    {
     "name": "stderr",
     "output_type": "stream",
     "text": [
      "\r",
      " 62%|██████▏   | 783/1261 [04:51<02:47,  2.86it/s]"
     ]
    },
    {
     "name": "stdout",
     "output_type": "stream",
     "text": [
      "[351 352 353 ..., 534 535 536]\n",
      "[640 640 640 ...,  79  79  79]\n",
      "[1139 1140 1141 ..., 1275 1276 1277]\n",
      "[640 640 640 ...,  20  20  20]\n"
     ]
    },
    {
     "name": "stderr",
     "output_type": "stream",
     "text": [
      "\r",
      " 62%|██████▏   | 784/1261 [04:51<02:45,  2.88it/s]"
     ]
    },
    {
     "name": "stdout",
     "output_type": "stream",
     "text": [
      "[351 352 353 ..., 528 529 530]\n",
      "[640 640 640 ...,  79  79  79]\n",
      "[1139 1140 1141 ..., 1266 1267 1268]\n",
      "[640 640 640 ...,  40  40  40]\n"
     ]
    },
    {
     "name": "stderr",
     "output_type": "stream",
     "text": [
      "\r",
      " 62%|██████▏   | 785/1261 [04:51<02:46,  2.86it/s]"
     ]
    },
    {
     "name": "stdout",
     "output_type": "stream",
     "text": [
      "[350 351 352 ..., 522 523 524]\n",
      "[640 640 640 ...,  79  79  79]\n",
      "[1144 1145 1146 ..., 1264 1265 1266]\n",
      "[640 640 640 ...,  59  59  59]\n"
     ]
    },
    {
     "name": "stderr",
     "output_type": "stream",
     "text": [
      "\r",
      " 62%|██████▏   | 786/1261 [04:52<02:47,  2.83it/s]"
     ]
    },
    {
     "name": "stdout",
     "output_type": "stream",
     "text": [
      "[351 352 353 ..., 522 523 524]\n",
      "[640 640 640 ...,  79  79  79]\n",
      "[1145 1146 1147 ..., 1259 1260 1261]\n",
      "[668 668 668 ...,  79  79  79]\n"
     ]
    },
    {
     "name": "stderr",
     "output_type": "stream",
     "text": [
      "\r",
      " 62%|██████▏   | 787/1261 [04:52<02:53,  2.73it/s]"
     ]
    },
    {
     "name": "stdout",
     "output_type": "stream",
     "text": [
      "[351 352 353 ..., 522 523 524]\n",
      "[640 640 640 ...,  79  79  79]\n",
      "[1141 1142 1143 ..., 1271 1272 1273]\n",
      "[698 698 698 ...,  79  79  79]\n"
     ]
    },
    {
     "name": "stderr",
     "output_type": "stream",
     "text": [
      "\r",
      " 62%|██████▏   | 788/1261 [04:52<02:57,  2.66it/s]"
     ]
    },
    {
     "name": "stdout",
     "output_type": "stream",
     "text": [
      "[353 354 355 ..., 528 529 530]\n",
      "[640 640 640 ...,  79  79  79]\n",
      "[1153 1154 1155 ..., 1271 1272 1273]\n",
      "[603 603 603 ...,  79  79  79]\n"
     ]
    },
    {
     "name": "stderr",
     "output_type": "stream",
     "text": [
      "\r",
      " 63%|██████▎   | 789/1261 [04:53<02:53,  2.73it/s]"
     ]
    },
    {
     "name": "stdout",
     "output_type": "stream",
     "text": [
      "[359 360 361 ..., 534 535 536]\n",
      "[640 640 640 ...,  79  79  79]\n",
      "[1156 1157 1158 ..., 1265 1266 1267]\n",
      "[633 633 633 ...,  79  79  79]\n"
     ]
    },
    {
     "name": "stderr",
     "output_type": "stream",
     "text": [
      "\r",
      " 63%|██████▎   | 790/1261 [04:53<02:50,  2.76it/s]"
     ]
    },
    {
     "name": "stdout",
     "output_type": "stream",
     "text": [
      "[358 359 360 ..., 540 541 542]\n",
      "[640 640 640 ...,  79  79  79]\n",
      "[1148 1149 1150 ..., 1242 1243 1244]\n",
      "[664 664 664 ..., 159 159 159]\n"
     ]
    },
    {
     "name": "stderr",
     "output_type": "stream",
     "text": [
      "\r",
      " 63%|██████▎   | 791/1261 [04:54<02:47,  2.80it/s]"
     ]
    },
    {
     "name": "stdout",
     "output_type": "stream",
     "text": [
      "[356 357 358 ..., 528 529 530]\n",
      "[640 640 640 ...,  79  79  79]\n",
      "[1158 1159 1160 ..., 1242 1243 1244]\n",
      "[694 694 694 ..., 159 159 159]\n"
     ]
    },
    {
     "name": "stderr",
     "output_type": "stream",
     "text": [
      "\r",
      " 63%|██████▎   | 792/1261 [04:54<02:47,  2.79it/s]"
     ]
    },
    {
     "name": "stdout",
     "output_type": "stream",
     "text": [
      "[354 355 356 ..., 522 523 524]\n",
      "[640 640 640 ...,  79  79  79]\n",
      "[1133 1134 1135 ..., 1242 1243 1244]\n",
      "[560 560 560 ..., 159 159 159]\n"
     ]
    },
    {
     "name": "stderr",
     "output_type": "stream",
     "text": [
      "\r",
      " 63%|██████▎   | 793/1261 [04:54<02:55,  2.67it/s]"
     ]
    },
    {
     "name": "stdout",
     "output_type": "stream",
     "text": [
      "[356 357 358 ..., 528 529 530]\n",
      "[640 640 640 ...,  79  79  79]\n",
      "[1131 1132 1133 ..., 1210 1211 1212]\n",
      "[560 560 560 ..., 239 239 239]\n"
     ]
    },
    {
     "name": "stderr",
     "output_type": "stream",
     "text": [
      "\r",
      " 63%|██████▎   | 794/1261 [04:55<02:51,  2.72it/s]"
     ]
    },
    {
     "name": "stdout",
     "output_type": "stream",
     "text": [
      "[354 355 356 ..., 517 518 519]\n",
      "[640 640 640 ...,  79  79  79]\n",
      "[1128 1129 1130 ..., 1244 1245 1246]\n",
      "[640 640 640 ...,  20  20  20]\n"
     ]
    },
    {
     "name": "stderr",
     "output_type": "stream",
     "text": [
      "\r",
      " 63%|██████▎   | 795/1261 [04:55<02:46,  2.80it/s]"
     ]
    },
    {
     "name": "stdout",
     "output_type": "stream",
     "text": [
      "[356 357 358 ..., 517 518 519]\n",
      "[640 640 640 ...,  79  79  79]\n",
      "[1126 1127 1128 ..., 1227 1228 1229]\n",
      "[640 640 640 ...,  59  59  59]\n"
     ]
    },
    {
     "name": "stderr",
     "output_type": "stream",
     "text": [
      "\r",
      " 63%|██████▎   | 796/1261 [04:55<02:44,  2.83it/s]"
     ]
    },
    {
     "name": "stdout",
     "output_type": "stream",
     "text": [
      "[358 359 360 ..., 517 518 519]\n",
      "[640 640 640 ...,  79  79  79]\n",
      "[1124 1125 1126 ..., 1224 1225 1226]\n",
      "[640 640 640 ...,  79  79  79]\n"
     ]
    },
    {
     "name": "stderr",
     "output_type": "stream",
     "text": [
      "\r",
      " 63%|██████▎   | 797/1261 [04:56<02:40,  2.89it/s]"
     ]
    },
    {
     "name": "stdout",
     "output_type": "stream",
     "text": [
      "[358 359 360 ..., 517 518 519]\n",
      "[640 640 640 ...,  79  79  79]\n",
      "[1128 1129 1130 ..., 1236 1237 1238]\n",
      "[649 649 649 ...,  79  79  79]\n"
     ]
    },
    {
     "name": "stderr",
     "output_type": "stream",
     "text": [
      "\r",
      " 63%|██████▎   | 798/1261 [04:56<02:42,  2.86it/s]"
     ]
    },
    {
     "name": "stdout",
     "output_type": "stream",
     "text": [
      "[358 359 360 ..., 517 518 519]\n",
      "[640 640 640 ...,  79  79  79]\n",
      "[1127 1128 1129 ..., 1236 1237 1238]\n",
      "[678 678 678 ...,  79  79  79]\n"
     ]
    },
    {
     "name": "stderr",
     "output_type": "stream",
     "text": [
      "\r",
      " 63%|██████▎   | 799/1261 [04:56<02:40,  2.87it/s]"
     ]
    },
    {
     "name": "stdout",
     "output_type": "stream",
     "text": [
      "[356 357 358 ..., 499 500 501]\n",
      "[640 640 640 ...,  79  79  79]\n",
      "[1128 1129 1130 ..., 1242 1243 1244]\n",
      "[706 706 706 ...,  79  79  79]\n"
     ]
    },
    {
     "name": "stderr",
     "output_type": "stream",
     "text": [
      "\r",
      " 63%|██████▎   | 800/1261 [04:57<02:40,  2.88it/s]"
     ]
    },
    {
     "name": "stdout",
     "output_type": "stream",
     "text": [
      "[354 355 356 ..., 493 494 495]\n",
      "[640 640 640 ...,  79  79  79]\n",
      "[1138 1139 1140 ..., 1242 1243 1244]\n",
      "[610 610 610 ...,  79  79  79]\n"
     ]
    },
    {
     "name": "stderr",
     "output_type": "stream",
     "text": [
      "\r",
      " 64%|██████▎   | 801/1261 [04:57<02:40,  2.87it/s]"
     ]
    },
    {
     "name": "stdout",
     "output_type": "stream",
     "text": [
      "[351 352 353 ..., 493 494 495]\n",
      "[640 640 640 ...,  79  79  79]\n",
      "[1132 1133 1134 ..., 1242 1243 1244]\n",
      "[640 640 640 ...,  79  79  79]\n"
     ]
    },
    {
     "name": "stderr",
     "output_type": "stream",
     "text": [
      "\r",
      " 64%|██████▎   | 802/1261 [04:57<02:42,  2.83it/s]"
     ]
    },
    {
     "name": "stdout",
     "output_type": "stream",
     "text": [
      "[350 351 352 ..., 493 494 495]\n",
      "[640 640 640 ...,  79  79  79]\n",
      "[1149 1150 1151 ..., 1242 1243 1244]\n",
      "[668 668 668 ...,  79  79  79]\n"
     ]
    },
    {
     "name": "stderr",
     "output_type": "stream",
     "text": [
      "\r",
      " 64%|██████▎   | 803/1261 [04:58<03:25,  2.23it/s]"
     ]
    },
    {
     "name": "stdout",
     "output_type": "stream",
     "text": [
      "[348 349 350 ..., 481 482 483]\n",
      "[640 640 640 ...,  79  79  79]\n",
      "[1137 1138 1139 ..., 1221 1222 1223]\n",
      "[699 699 699 ..., 159 159 159]\n"
     ]
    },
    {
     "name": "stderr",
     "output_type": "stream",
     "text": [
      "\r",
      " 64%|██████▍   | 804/1261 [04:58<03:14,  2.35it/s]"
     ]
    },
    {
     "name": "stdout",
     "output_type": "stream",
     "text": [
      "[351 352 353 ..., 481 482 483]\n",
      "[640 640 640 ...,  79  79  79]\n",
      "[1122 1123 1124 ..., 1205 1206 1207]\n",
      "[560 560 560 ..., 159 159 159]\n"
     ]
    },
    {
     "name": "stderr",
     "output_type": "stream",
     "text": [
      "\r",
      " 64%|██████▍   | 805/1261 [04:59<03:18,  2.30it/s]"
     ]
    },
    {
     "name": "stdout",
     "output_type": "stream",
     "text": [
      "[353 354 355 ..., 493 494 495]\n",
      "[640 640 640 ...,  79  79  79]\n",
      "[1116 1117 1118 ..., 1193 1194 1195]\n",
      "[560 560 560 ...,  20  20  20]\n"
     ]
    },
    {
     "name": "stderr",
     "output_type": "stream",
     "text": [
      "\r",
      " 64%|██████▍   | 806/1261 [04:59<03:14,  2.34it/s]"
     ]
    },
    {
     "name": "stdout",
     "output_type": "stream",
     "text": [
      "[353 354 355 ..., 487 488 489]\n",
      "[640 640 640 ...,  79  79  79]\n",
      "[1115 1116 1117 ..., 1186 1187 1188]\n",
      "[640 640 640 ...,  40  40  40]\n"
     ]
    },
    {
     "name": "stderr",
     "output_type": "stream",
     "text": [
      "\r",
      " 64%|██████▍   | 807/1261 [05:00<03:04,  2.45it/s]"
     ]
    },
    {
     "name": "stdout",
     "output_type": "stream",
     "text": [
      "[354 355 356 ..., 487 488 489]\n",
      "[640 640 640 ...,  79  79  79]\n",
      "[1115 1116 1117 ..., 1167 1168 1169]\n",
      "[640 640 640 ...,  77  77  77]\n"
     ]
    },
    {
     "name": "stderr",
     "output_type": "stream",
     "text": [
      "\r",
      " 64%|██████▍   | 808/1261 [05:00<02:56,  2.56it/s]"
     ]
    },
    {
     "name": "stdout",
     "output_type": "stream",
     "text": [
      "[356 357 358 ..., 487 488 489]\n",
      "[640 640 640 ...,  79  79  79]\n",
      "[1115 1116 1117 ..., 1183 1184 1185]\n",
      "[640 640 640 ...,  79  79  79]\n"
     ]
    },
    {
     "name": "stderr",
     "output_type": "stream",
     "text": [
      "\r",
      " 64%|██████▍   | 809/1261 [05:00<03:02,  2.48it/s]"
     ]
    },
    {
     "name": "stdout",
     "output_type": "stream",
     "text": [
      "[353 354 355 ..., 481 482 483]\n",
      "[640 640 640 ...,  79  79  79]\n",
      "[1131 1132 1133 ..., 1195 1196 1197]\n",
      "[654 654 654 ...,  79  79  79]\n"
     ]
    },
    {
     "name": "stderr",
     "output_type": "stream",
     "text": [
      "\r",
      " 64%|██████▍   | 810/1261 [05:01<03:09,  2.38it/s]"
     ]
    },
    {
     "name": "stdout",
     "output_type": "stream",
     "text": [
      "[350 351 352 ..., 475 476 477]\n",
      "[640 640 640 ...,  79  79  79]\n",
      "[1133 1134 1127 ..., 1206 1207 1208]\n",
      "[683 683 684 ...,  79  79  79]\n"
     ]
    },
    {
     "name": "stderr",
     "output_type": "stream",
     "text": [
      "\r",
      " 64%|██████▍   | 811/1261 [05:01<02:59,  2.51it/s]"
     ]
    },
    {
     "name": "stdout",
     "output_type": "stream",
     "text": [
      "[348 349 350 ..., 463 464 465]\n",
      "[640 640 640 ...,  79  79  79]\n",
      "[1126 1127 1128 ..., 1212 1213 1214]\n",
      "[714 714 714 ...,  79  79  79]\n"
     ]
    },
    {
     "name": "stderr",
     "output_type": "stream",
     "text": [
      "\r",
      " 64%|██████▍   | 812/1261 [05:02<02:55,  2.56it/s]"
     ]
    },
    {
     "name": "stdout",
     "output_type": "stream",
     "text": [
      "[343 344 345 ..., 452 453 454]\n",
      "[640 640 640 ...,  79  79  79]\n",
      "[1144 1145 1146 ..., 1218 1219 1220]\n",
      "[610 610 610 ...,  79  79  79]\n"
     ]
    },
    {
     "name": "stderr",
     "output_type": "stream",
     "text": [
      "\r",
      " 64%|██████▍   | 813/1261 [05:02<02:52,  2.60it/s]"
     ]
    },
    {
     "name": "stdout",
     "output_type": "stream",
     "text": [
      "[340 341 342 ..., 452 453 454]\n",
      "[640 640 640 ...,  79  79  79]\n",
      "[1155 1156 1157 ..., 1218 1219 1220]\n",
      "[640 640 640 ...,  79  79  79]\n"
     ]
    },
    {
     "name": "stderr",
     "output_type": "stream",
     "text": [
      "\r",
      " 65%|██████▍   | 814/1261 [05:02<02:46,  2.68it/s]"
     ]
    },
    {
     "name": "stdout",
     "output_type": "stream",
     "text": [
      "[335 336 337 ..., 458 459 460]\n",
      "[640 640 640 ...,  79  79  79]\n",
      "[1130 1131 1132 ..., 1218 1219 1220]\n",
      "[670 670 670 ...,  79  79  79]\n"
     ]
    },
    {
     "name": "stderr",
     "output_type": "stream",
     "text": [
      "\r",
      " 65%|██████▍   | 815/1261 [05:03<02:45,  2.69it/s]"
     ]
    },
    {
     "name": "stdout",
     "output_type": "stream",
     "text": [
      "[334 335 336 ..., 446 447 448]\n",
      "[640 640 640 ...,  79  79  79]\n",
      "[1127 1128 1122 ..., 1195 1196 1197]\n",
      "[701 701 702 ..., 159 159 159]\n"
     ]
    },
    {
     "name": "stderr",
     "output_type": "stream",
     "text": [
      "\r",
      " 65%|██████▍   | 816/1261 [05:03<02:42,  2.74it/s]"
     ]
    },
    {
     "name": "stdout",
     "output_type": "stream",
     "text": [
      "[334 335 336 ..., 458 459 460]\n",
      "[640 640 640 ...,  79  79  79]\n",
      "[1116 1117 1118 ..., 1184 1185 1186]\n",
      "[560 560 560 ..., 159 159 159]\n"
     ]
    },
    {
     "name": "stderr",
     "output_type": "stream",
     "text": [
      "\r",
      " 65%|██████▍   | 817/1261 [05:03<02:41,  2.76it/s]"
     ]
    },
    {
     "name": "stdout",
     "output_type": "stream",
     "text": [
      "[342 343 344 ..., 469 470 471]\n",
      "[640 640 640 ...,  79  79  79]\n",
      "[1110 1111 1112 ..., 1174 1175 1176]\n",
      "[640 640 640 ...,  20  20  20]\n"
     ]
    },
    {
     "name": "stderr",
     "output_type": "stream",
     "text": [
      "\r",
      " 65%|██████▍   | 818/1261 [05:04<02:39,  2.77it/s]"
     ]
    },
    {
     "name": "stdout",
     "output_type": "stream",
     "text": [
      "[334 335 336 ..., 463 464 465]\n",
      "[640 640 640 ...,  79  79  79]\n",
      "[1108 1109 1110 ..., 1173 1174 1175]\n",
      "[640 640 640 ...,  40  40  40]\n"
     ]
    },
    {
     "name": "stderr",
     "output_type": "stream",
     "text": [
      "\r",
      " 65%|██████▍   | 819/1261 [05:04<02:40,  2.76it/s]"
     ]
    },
    {
     "name": "stdout",
     "output_type": "stream",
     "text": [
      "[330 331 332 ..., 458 459 460]\n",
      "[640 640 640 ...,  79  79  79]\n",
      "[1108 1109 1110 ..., 1167 1168 1169]\n",
      "[640 640 640 ...,  59  59  59]\n"
     ]
    },
    {
     "name": "stderr",
     "output_type": "stream",
     "text": [
      "\r",
      " 65%|██████▌   | 820/1261 [05:05<02:41,  2.73it/s]"
     ]
    },
    {
     "name": "stdout",
     "output_type": "stream",
     "text": [
      "[327 328 329 ..., 458 459 460]\n",
      "[640 640 640 ...,  79  79  79]\n",
      "[1108 1109 1110 ..., 1167 1168 1169]\n",
      "[640 640 640 ...,  77  77  77]\n"
     ]
    },
    {
     "name": "stderr",
     "output_type": "stream",
     "text": [
      "\r",
      " 65%|██████▌   | 821/1261 [05:05<02:38,  2.77it/s]"
     ]
    },
    {
     "name": "stdout",
     "output_type": "stream",
     "text": [
      "[324 325 326 ..., 452 453 454]\n",
      "[640 640 640 ...,  79  79  79]\n",
      "[1124 1125 1126 ..., 1183 1184 1185]\n",
      "[662 662 662 ...,  79  79  79]\n"
     ]
    },
    {
     "name": "stderr",
     "output_type": "stream",
     "text": [
      "\r",
      " 65%|██████▌   | 822/1261 [05:05<02:39,  2.75it/s]"
     ]
    },
    {
     "name": "stdout",
     "output_type": "stream",
     "text": [
      "[321 322 323 ..., 440 441 442]\n",
      "[640 640 640 ...,  79  79  79]\n",
      "[1125 1126 1127 ..., 1195 1196 1197]\n",
      "[692 692 692 ...,  79  79  79]\n"
     ]
    },
    {
     "name": "stderr",
     "output_type": "stream",
     "text": [
      "\r",
      " 65%|██████▌   | 823/1261 [05:06<02:36,  2.79it/s]"
     ]
    },
    {
     "name": "stdout",
     "output_type": "stream",
     "text": [
      "[317 318 319 ..., 440 441 442]\n",
      "[640 640 640 ...,  79  79  79]\n",
      "[1122 1123 1124 ..., 1212 1213 1214]\n",
      "[586 586 586 ...,  79  79  79]\n"
     ]
    },
    {
     "name": "stderr",
     "output_type": "stream",
     "text": [
      "\r",
      " 65%|██████▌   | 824/1261 [05:06<02:35,  2.82it/s]"
     ]
    },
    {
     "name": "stdout",
     "output_type": "stream",
     "text": [
      "[316 317 318 ..., 428 429 430]\n",
      "[640 640 640 ...,  79  79  79]\n",
      "[1122 1123 1124 ..., 1212 1213 1214]\n",
      "[617 617 617 ...,  79  79  79]\n"
     ]
    },
    {
     "name": "stderr",
     "output_type": "stream",
     "text": [
      "\r",
      " 65%|██████▌   | 825/1261 [05:06<02:34,  2.82it/s]"
     ]
    },
    {
     "name": "stdout",
     "output_type": "stream",
     "text": [
      "[313 314 315 ..., 452 453 454]\n",
      "[640 640 640 ...,  79  79  79]\n",
      "[1122 1123 1124 ..., 1206 1207 1208]\n",
      "[649 649 649 ...,  79  79  79]\n"
     ]
    },
    {
     "name": "stderr",
     "output_type": "stream",
     "text": [
      "\r",
      " 66%|██████▌   | 826/1261 [05:07<02:36,  2.78it/s]"
     ]
    },
    {
     "name": "stdout",
     "output_type": "stream",
     "text": [
      "[311 312 313 ..., 446 447 448]\n",
      "[640 640 640 ...,  79  79  79]\n",
      "[1097 1098 1099 ..., 1184 1185 1186]\n",
      "[680 680 680 ..., 159 159 159]\n"
     ]
    },
    {
     "name": "stderr",
     "output_type": "stream",
     "text": [
      "\r",
      " 66%|██████▌   | 827/1261 [05:07<02:35,  2.80it/s]"
     ]
    },
    {
     "name": "stdout",
     "output_type": "stream",
     "text": [
      "[311 312 313 ..., 446 447 448]\n",
      "[640 640 640 ...,  79  79  79]\n",
      "[1094 1095 1094 ..., 1179 1180 1181]\n",
      "[710 710 711 ..., 159 159 159]\n"
     ]
    },
    {
     "name": "stderr",
     "output_type": "stream",
     "text": [
      "\r",
      " 66%|██████▌   | 828/1261 [05:07<02:34,  2.81it/s]"
     ]
    },
    {
     "name": "stdout",
     "output_type": "stream",
     "text": [
      "[311 312 313 ..., 446 447 448]\n",
      "[640 640 640 ...,  79  79  79]\n",
      "[1085 1086 1087 ..., 1179 1180 1181]\n",
      "[560 560 560 ..., 159 159 159]\n"
     ]
    },
    {
     "name": "stderr",
     "output_type": "stream",
     "text": [
      "\r",
      " 66%|██████▌   | 829/1261 [05:08<02:33,  2.82it/s]"
     ]
    },
    {
     "name": "stdout",
     "output_type": "stream",
     "text": [
      "[311 312 313 ..., 446 447 448]\n",
      "[640 640 640 ...,  79  79  79]\n",
      "[1084 1085 1086 ..., 1158 1159 1160]\n",
      "[640 640 640 ..., 239 239 239]\n"
     ]
    },
    {
     "name": "stderr",
     "output_type": "stream",
     "text": [
      "\r",
      " 66%|██████▌   | 830/1261 [05:08<02:35,  2.76it/s]"
     ]
    },
    {
     "name": "stdout",
     "output_type": "stream",
     "text": [
      "[311 312 313 ..., 440 441 442]\n",
      "[640 640 640 ...,  79  79  79]\n",
      "[1083 1084 1085 ..., 1158 1159 1160]\n",
      "[640 640 640 ..., 239 239 239]\n"
     ]
    },
    {
     "name": "stderr",
     "output_type": "stream",
     "text": [
      "\r",
      " 66%|██████▌   | 831/1261 [05:08<02:33,  2.81it/s]"
     ]
    },
    {
     "name": "stdout",
     "output_type": "stream",
     "text": [
      "[309 310 311 ..., 434 435 436]\n",
      "[640 640 640 ...,  79  79  79]\n",
      "[1083 1084 1085 ..., 1192 1193 1194]\n",
      "[640 640 640 ...,  40  40  40]\n"
     ]
    },
    {
     "name": "stderr",
     "output_type": "stream",
     "text": [
      "\r",
      " 66%|██████▌   | 832/1261 [05:09<02:31,  2.83it/s]"
     ]
    },
    {
     "name": "stdout",
     "output_type": "stream",
     "text": [
      "[308 309 310 ..., 440 441 442]\n",
      "[640 640 640 ...,  79  79  79]\n",
      "[1087 1088 1089 ..., 1191 1192 1193]\n",
      "[640 640 640 ...,  59  59  59]\n"
     ]
    },
    {
     "name": "stderr",
     "output_type": "stream",
     "text": [
      "\r",
      " 66%|██████▌   | 833/1261 [05:09<02:32,  2.80it/s]"
     ]
    },
    {
     "name": "stdout",
     "output_type": "stream",
     "text": [
      "[308 309 310 ..., 440 441 442]\n",
      "[640 640 640 ...,  79  79  79]\n",
      "[1086 1087 1088 ..., 1196 1197 1198]\n",
      "[671 671 671 ...,  77  77  77]\n"
     ]
    },
    {
     "name": "stderr",
     "output_type": "stream",
     "text": [
      "\r",
      " 66%|██████▌   | 834/1261 [05:10<02:32,  2.81it/s]"
     ]
    },
    {
     "name": "stdout",
     "output_type": "stream",
     "text": [
      "[303 304 305 ..., 428 429 430]\n",
      "[640 640 640 ...,  79  79  79]\n",
      "[1083 1084 1086 ..., 1206 1207 1208]\n",
      "[700 700 701 ...,  79  79  79]\n"
     ]
    },
    {
     "name": "stderr",
     "output_type": "stream",
     "text": [
      "\r",
      " 66%|██████▌   | 835/1261 [05:10<02:31,  2.82it/s]"
     ]
    },
    {
     "name": "stdout",
     "output_type": "stream",
     "text": [
      "[300 301 302 ..., 428 429 430]\n",
      "[640 640 640 ...,  79  79  79]\n",
      "[1109 1110 1111 ..., 1212 1213 1214]\n",
      "[594 594 594 ...,  79  79  79]\n"
     ]
    },
    {
     "name": "stderr",
     "output_type": "stream",
     "text": [
      "\r",
      " 66%|██████▋   | 836/1261 [05:10<02:29,  2.85it/s]"
     ]
    },
    {
     "name": "stdout",
     "output_type": "stream",
     "text": [
      "[300 301 302 ..., 416 417 418]\n",
      "[640 640 640 ...,  79  79  79]\n",
      "[1097 1098 1099 ..., 1224 1225 1226]\n",
      "[625 625 625 ...,  79  79  79]\n"
     ]
    },
    {
     "name": "stderr",
     "output_type": "stream",
     "text": [
      "\r",
      " 66%|██████▋   | 837/1261 [05:11<02:30,  2.83it/s]"
     ]
    },
    {
     "name": "stdout",
     "output_type": "stream",
     "text": [
      "[301 302 303 ..., 422 423 424]\n",
      "[640 640 640 ...,  79  79  79]\n",
      "[1106 1107 1108 ..., 1224 1225 1226]\n",
      "[655 655 655 ...,  79  79  79]\n"
     ]
    },
    {
     "name": "stderr",
     "output_type": "stream",
     "text": [
      "\r",
      " 66%|██████▋   | 838/1261 [05:11<02:32,  2.77it/s]"
     ]
    },
    {
     "name": "stdout",
     "output_type": "stream",
     "text": [
      "[298 299 300 ..., 422 423 424]\n",
      "[640 640 640 ...,  79  79  79]\n",
      "[1105 1106 1107 ..., 1224 1225 1226]\n",
      "[687 687 687 ...,  79  79  79]\n"
     ]
    },
    {
     "name": "stderr",
     "output_type": "stream",
     "text": [
      "\r",
      " 67%|██████▋   | 839/1261 [05:11<02:30,  2.80it/s]"
     ]
    },
    {
     "name": "stdout",
     "output_type": "stream",
     "text": [
      "[287 288 289 ..., 410 411 412]\n",
      "[640 640 640 ...,  79  79  79]\n",
      "[1076 1077 1074 ..., 1195 1196 1197]\n",
      "[718 718 719 ..., 159 159 159]\n"
     ]
    },
    {
     "name": "stderr",
     "output_type": "stream",
     "text": [
      "\r",
      " 67%|██████▋   | 840/1261 [05:12<02:29,  2.82it/s]"
     ]
    },
    {
     "name": "stdout",
     "output_type": "stream",
     "text": [
      "[287 288 289 ..., 410 411 412]\n",
      "[640 640 640 ...,  79  79  79]\n",
      "[1073 1074 1075 ..., 1189 1190 1191]\n",
      "[560 560 560 ..., 159 159 159]\n"
     ]
    },
    {
     "name": "stderr",
     "output_type": "stream",
     "text": [
      "\r",
      " 67%|██████▋   | 841/1261 [05:12<02:28,  2.82it/s]"
     ]
    },
    {
     "name": "stdout",
     "output_type": "stream",
     "text": [
      "[288 289 290 ..., 410 411 412]\n",
      "[640 640 640 ...,  79  79  79]\n",
      "[1073 1074 1075 ..., 1167 1168 1169]\n",
      "[640 640 640 ..., 239 239 239]\n"
     ]
    },
    {
     "name": "stderr",
     "output_type": "stream",
     "text": [
      "\r",
      " 67%|██████▋   | 842/1261 [05:12<02:27,  2.83it/s]"
     ]
    },
    {
     "name": "stdout",
     "output_type": "stream",
     "text": [
      "[285 286 287 ..., 393 394 395]\n",
      "[640 640 640 ...,  79  79  79]\n",
      "[1073 1074 1075 ..., 1172 1173 1174]\n",
      "[640 640 640 ..., 239 239 239]\n"
     ]
    },
    {
     "name": "stderr",
     "output_type": "stream",
     "text": [
      "\r",
      " 67%|██████▋   | 843/1261 [05:13<02:29,  2.79it/s]"
     ]
    },
    {
     "name": "stdout",
     "output_type": "stream",
     "text": [
      "[276 277 278 ..., 393 394 395]\n",
      "[640 640 640 ...,  79  79  79]\n",
      "[1071 1072 1073 ..., 1172 1173 1174]\n",
      "[640 640 640 ..., 239 239 239]\n"
     ]
    },
    {
     "name": "stderr",
     "output_type": "stream",
     "text": [
      "\r",
      " 67%|██████▋   | 844/1261 [05:13<02:28,  2.81it/s]"
     ]
    },
    {
     "name": "stdout",
     "output_type": "stream",
     "text": [
      "[272 273 274 ..., 381 382 383]\n",
      "[640 640 640 ...,  79  79  79]\n",
      "[1090 1091 1092 ..., 1151 1152 1153]\n",
      "[641 641 641 ..., 319 319 319]\n"
     ]
    },
    {
     "name": "stderr",
     "output_type": "stream",
     "text": [
      "\r",
      " 67%|██████▋   | 845/1261 [05:13<02:28,  2.80it/s]"
     ]
    },
    {
     "name": "stdout",
     "output_type": "stream",
     "text": [
      "[271 272 273 ..., 381 382 383]\n",
      "[640 640 640 ...,  79  79  79]\n",
      "[1088 1089 1076 ..., 1231 1232 1233]\n",
      "[673 673 674 ...,  20  20  20]\n"
     ]
    },
    {
     "name": "stderr",
     "output_type": "stream",
     "text": [
      "\r",
      " 67%|██████▋   | 846/1261 [05:14<02:26,  2.83it/s]"
     ]
    },
    {
     "name": "stdout",
     "output_type": "stream",
     "text": [
      "[272 273 274 ..., 399 400 401]\n",
      "[640 640 640 ...,  79  79  79]\n",
      "[1071 1072 1073 ..., 1196 1197 1198]\n",
      "[706 706 706 ...,  77  77  77]\n"
     ]
    },
    {
     "name": "stderr",
     "output_type": "stream",
     "text": [
      "\r",
      " 67%|██████▋   | 847/1261 [05:14<02:25,  2.85it/s]"
     ]
    },
    {
     "name": "stdout",
     "output_type": "stream",
     "text": [
      "[268 269 270 ..., 405 406 407]\n",
      "[640 640 640 ...,  79  79  79]\n",
      "[1090 1091 1092 ..., 1212 1213 1214]\n",
      "[603 603 603 ...,  79  79  79]\n"
     ]
    },
    {
     "name": "stderr",
     "output_type": "stream",
     "text": [
      "\r",
      " 67%|██████▋   | 848/1261 [05:14<02:23,  2.87it/s]"
     ]
    },
    {
     "name": "stdout",
     "output_type": "stream",
     "text": [
      "[263 264 265 ..., 399 400 401]\n",
      "[640 640 640 ...,  79  79  79]\n",
      "[1074 1075 1076 ..., 1230 1231 1232]\n",
      "[640 640 640 ...,  79  79  79]\n"
     ]
    },
    {
     "name": "stderr",
     "output_type": "stream",
     "text": [
      "\r",
      " 67%|██████▋   | 849/1261 [05:15<02:24,  2.86it/s]"
     ]
    },
    {
     "name": "stdout",
     "output_type": "stream",
     "text": [
      "[263 264 265 ..., 399 400 401]\n",
      "[640 640 640 ...,  79  79  79]\n",
      "[1086 1087 1088 ..., 1230 1231 1232]\n",
      "[666 666 666 ...,  79  79  79]\n"
     ]
    },
    {
     "name": "stderr",
     "output_type": "stream",
     "text": [
      "\r",
      " 67%|██████▋   | 850/1261 [05:15<02:23,  2.87it/s]"
     ]
    },
    {
     "name": "stdout",
     "output_type": "stream",
     "text": [
      "[259 260 261 ..., 381 382 383]\n",
      "[640 640 640 ...,  79  79  79]\n",
      "[1067 1068 1068 ..., 1230 1231 1232]\n",
      "[698 698 699 ...,  79  79  79]\n"
     ]
    },
    {
     "name": "stderr",
     "output_type": "stream",
     "text": [
      "\r",
      " 67%|██████▋   | 851/1261 [05:16<02:22,  2.87it/s]"
     ]
    },
    {
     "name": "stdout",
     "output_type": "stream",
     "text": [
      "[259 260 261 ..., 410 411 412]\n",
      "[640 640 640 ...,  79  79  79]\n",
      "[1080 1081 1082 ..., 1230 1231 1232]\n",
      "[560 560 560 ...,  79  79  79]\n"
     ]
    },
    {
     "name": "stderr",
     "output_type": "stream",
     "text": [
      "\r",
      " 68%|██████▊   | 852/1261 [05:16<02:27,  2.78it/s]"
     ]
    },
    {
     "name": "stdout",
     "output_type": "stream",
     "text": [
      "[258 259 260 ..., 410 411 412]\n",
      "[640 640 640 ...,  79  79  79]\n",
      "[1082 1083 1084 ..., 1211 1212 1213]\n",
      "[560 560 560 ..., 159 159 159]\n"
     ]
    },
    {
     "name": "stderr",
     "output_type": "stream",
     "text": [
      "\r",
      " 68%|██████▊   | 853/1261 [05:16<02:35,  2.63it/s]"
     ]
    },
    {
     "name": "stdout",
     "output_type": "stream",
     "text": [
      "[261 262 263 ..., 416 417 418]\n",
      "[640 640 640 ...,  79  79  79]\n",
      "[1073 1074 1075 ..., 1211 1212 1213]\n",
      "[640 640 640 ..., 159 159 159]\n"
     ]
    },
    {
     "name": "stderr",
     "output_type": "stream",
     "text": [
      "\r",
      " 68%|██████▊   | 854/1261 [05:17<02:32,  2.66it/s]"
     ]
    },
    {
     "name": "stdout",
     "output_type": "stream",
     "text": [
      "[259 260 261 ..., 405 406 407]\n",
      "[640 640 640 ...,  79  79  79]\n",
      "[1076 1077 1078 ..., 1191 1192 1193]\n",
      "[640 640 640 ..., 239 239 239]\n"
     ]
    },
    {
     "name": "stderr",
     "output_type": "stream",
     "text": [
      "\r",
      " 68%|██████▊   | 855/1261 [05:17<02:30,  2.70it/s]"
     ]
    },
    {
     "name": "stdout",
     "output_type": "stream",
     "text": [
      "[258 259 260 ..., 410 411 412]\n",
      "[640 640 640 ...,  79  79  79]\n",
      "[1078 1079 1080 ..., 1191 1192 1193]\n",
      "[640 640 640 ..., 239 239 239]\n"
     ]
    },
    {
     "name": "stderr",
     "output_type": "stream",
     "text": [
      "\r",
      " 68%|██████▊   | 856/1261 [05:17<02:26,  2.76it/s]"
     ]
    },
    {
     "name": "stdout",
     "output_type": "stream",
     "text": [
      "[259 260 261 ..., 410 411 412]\n",
      "[640 640 640 ...,  79  79  79]\n",
      "[1082 1083 1084 ..., 1167 1168 1169]\n",
      "[649 649 649 ..., 319 319 319]\n"
     ]
    },
    {
     "name": "stderr",
     "output_type": "stream",
     "text": [
      "\r",
      " 68%|██████▊   | 857/1261 [05:18<02:28,  2.73it/s]"
     ]
    },
    {
     "name": "stdout",
     "output_type": "stream",
     "text": [
      "[259 260 261 ..., 410 411 412]\n",
      "[640 640 640 ...,  79  79  79]\n",
      "[1090 1091 1092 ..., 1235 1236 1237]\n",
      "[680 680 680 ...,  40  40  40]\n"
     ]
    },
    {
     "name": "stderr",
     "output_type": "stream",
     "text": [
      "\r",
      " 68%|██████▊   | 858/1261 [05:18<02:28,  2.72it/s]"
     ]
    },
    {
     "name": "stdout",
     "output_type": "stream",
     "text": [
      "[258 259 260 ..., 416 417 418]\n",
      "[640 640 640 ...,  79  79  79]\n",
      "[1083 1084 1085 ..., 1226 1227 1228]\n",
      "[713 713 713 ...,  77  77  77]\n"
     ]
    },
    {
     "name": "stderr",
     "output_type": "stream",
     "text": [
      "\r",
      " 68%|██████▊   | 859/1261 [05:18<02:26,  2.75it/s]"
     ]
    },
    {
     "name": "stdout",
     "output_type": "stream",
     "text": [
      "[263 264 265 ..., 416 417 418]\n",
      "[640 640 640 ...,  79  79  79]\n",
      "[1092 1093 1094 ..., 1236 1237 1238]\n",
      "[612 612 612 ...,  79  79  79]\n"
     ]
    },
    {
     "name": "stderr",
     "output_type": "stream",
     "text": [
      "\r",
      " 68%|██████▊   | 860/1261 [05:19<02:21,  2.83it/s]"
     ]
    },
    {
     "name": "stdout",
     "output_type": "stream",
     "text": [
      "[268 269 270 ..., 416 417 418]\n",
      "[640 640 640 ...,  79  79  79]\n",
      "[1090 1091 1092 ..., 1236 1237 1238]\n",
      "[644 644 644 ...,  79  79  79]\n"
     ]
    },
    {
     "name": "stderr",
     "output_type": "stream",
     "text": [
      "\r",
      " 68%|██████▊   | 861/1261 [05:19<02:28,  2.70it/s]"
     ]
    },
    {
     "name": "stdout",
     "output_type": "stream",
     "text": [
      "[264 265 266 ..., 422 423 424]\n",
      "[640 640 640 ...,  79  79  79]\n",
      "[1074 1075 1076 ..., 1230 1231 1232]\n",
      "[674 674 674 ...,  79  79  79]\n"
     ]
    },
    {
     "name": "stderr",
     "output_type": "stream",
     "text": [
      "\r",
      " 68%|██████▊   | 862/1261 [05:20<02:23,  2.78it/s]"
     ]
    },
    {
     "name": "stdout",
     "output_type": "stream",
     "text": [
      "[263 264 265 ..., 416 417 418]\n",
      "[640 640 640 ...,  79  79  79]\n",
      "[1070 1071 1084 ..., 1236 1237 1238]\n",
      "[706 706 708 ...,  79  79  79]\n"
     ]
    },
    {
     "name": "stderr",
     "output_type": "stream",
     "text": [
      "\r",
      " 68%|██████▊   | 863/1261 [05:20<02:23,  2.78it/s]"
     ]
    },
    {
     "name": "stdout",
     "output_type": "stream",
     "text": [
      "[263 264 265 ..., 405 406 407]\n",
      "[640 640 640 ...,  79  79  79]\n",
      "[1082 1083 1084 ..., 1205 1206 1207]\n",
      "[560 560 560 ..., 159 159 159]\n"
     ]
    },
    {
     "name": "stderr",
     "output_type": "stream",
     "text": [
      "\r",
      " 69%|██████▊   | 864/1261 [05:20<02:22,  2.78it/s]"
     ]
    },
    {
     "name": "stdout",
     "output_type": "stream",
     "text": [
      "[263 264 265 ..., 399 400 401]\n",
      "[640 640 640 ...,  79  79  79]\n",
      "[1085 1086 1087 ..., 1216 1217 1218]\n",
      "[560 560 560 ..., 159 159 159]\n"
     ]
    },
    {
     "name": "stderr",
     "output_type": "stream",
     "text": [
      "\r",
      " 69%|██████▊   | 865/1261 [05:21<02:22,  2.77it/s]"
     ]
    },
    {
     "name": "stdout",
     "output_type": "stream",
     "text": [
      "[264 265 266 ..., 387 388 389]\n",
      "[640 640 640 ...,  79  79  79]\n",
      "[1078 1079 1080 ..., 1221 1222 1223]\n",
      "[640 640 640 ..., 159 159 159]\n"
     ]
    },
    {
     "name": "stderr",
     "output_type": "stream",
     "text": [
      "\r",
      " 69%|██████▊   | 866/1261 [05:21<02:21,  2.80it/s]"
     ]
    },
    {
     "name": "stdout",
     "output_type": "stream",
     "text": [
      "[264 265 266 ..., 399 400 401]\n",
      "[640 640 640 ...,  79  79  79]\n",
      "[1076 1077 1078 ..., 1191 1192 1193]\n",
      "[640 640 640 ..., 239 239 239]\n"
     ]
    },
    {
     "name": "stderr",
     "output_type": "stream",
     "text": [
      "\r",
      " 69%|██████▉   | 867/1261 [05:21<02:18,  2.85it/s]"
     ]
    },
    {
     "name": "stdout",
     "output_type": "stream",
     "text": [
      "[263 264 265 ..., 387 388 389]\n",
      "[640 640 640 ...,  79  79  79]\n",
      "[1078 1079 1080 ..., 1195 1196 1197]\n",
      "[640 640 640 ..., 239 239 239]\n"
     ]
    },
    {
     "name": "stderr",
     "output_type": "stream",
     "text": [
      "\r",
      " 69%|██████▉   | 868/1261 [05:22<02:18,  2.84it/s]"
     ]
    },
    {
     "name": "stdout",
     "output_type": "stream",
     "text": [
      "[263 264 265 ..., 387 388 389]\n",
      "[640 640 640 ...,  79  79  79]\n",
      "[1081 1082 1083 ..., 1167 1168 1169]\n",
      "[657 657 657 ..., 319 319 319]\n"
     ]
    },
    {
     "name": "stderr",
     "output_type": "stream",
     "text": [
      "\r",
      " 69%|██████▉   | 869/1261 [05:22<02:16,  2.87it/s]"
     ]
    },
    {
     "name": "stdout",
     "output_type": "stream",
     "text": [
      "[263 264 265 ..., 393 394 395]\n",
      "[640 640 640 ...,  79  79  79]\n",
      "[1076 1077 1078 ..., 1256 1257 1258]\n",
      "[689 689 689 ...,  20  20  20]\n"
     ]
    },
    {
     "name": "stderr",
     "output_type": "stream",
     "text": [
      "\r",
      " 69%|██████▉   | 870/1261 [05:22<02:15,  2.89it/s]"
     ]
    },
    {
     "name": "stdout",
     "output_type": "stream",
     "text": [
      "[263 264 265 ..., 393 394 395]\n",
      "[640 640 640 ...,  79  79  79]\n",
      "[1094 1095 1096 ..., 1241 1242 1243]\n",
      "[588 588 588 ...,  59  59  59]\n"
     ]
    },
    {
     "name": "stderr",
     "output_type": "stream",
     "text": [
      "\r",
      " 69%|██████▉   | 871/1261 [05:23<02:13,  2.92it/s]"
     ]
    },
    {
     "name": "stdout",
     "output_type": "stream",
     "text": [
      "[266 267 268 ..., 393 394 395]\n",
      "[640 640 640 ...,  79  79  79]\n",
      "[1091 1092 1093 ..., 1248 1249 1250]\n",
      "[620 620 620 ...,  79  79  79]\n"
     ]
    },
    {
     "name": "stderr",
     "output_type": "stream",
     "text": [
      "\r",
      " 69%|██████▉   | 872/1261 [05:23<02:13,  2.91it/s]"
     ]
    },
    {
     "name": "stdout",
     "output_type": "stream",
     "text": [
      "[264 265 266 ..., 387 388 389]\n",
      "[640 640 640 ...,  79  79  79]\n",
      "[1088 1089 1090 ..., 1259 1260 1261]\n",
      "[651 651 651 ...,  79  79  79]\n"
     ]
    },
    {
     "name": "stderr",
     "output_type": "stream",
     "text": [
      "\r",
      " 69%|██████▉   | 873/1261 [05:23<02:12,  2.93it/s]"
     ]
    },
    {
     "name": "stdout",
     "output_type": "stream",
     "text": [
      "[264 265 266 ..., 387 388 389]\n",
      "[640 640 640 ...,  79  79  79]\n",
      "[1083 1084 1085 ..., 1265 1266 1267]\n",
      "[684 684 684 ...,  79  79  79]\n"
     ]
    },
    {
     "name": "stderr",
     "output_type": "stream",
     "text": [
      "\r",
      " 69%|██████▉   | 874/1261 [05:24<02:11,  2.94it/s]"
     ]
    },
    {
     "name": "stdout",
     "output_type": "stream",
     "text": [
      "[253 254 255 ..., 381 382 383]\n",
      "[640 640 640 ...,  79  79  79]\n",
      "[1071 1072 1087 ..., 1271 1272 1273]\n",
      "[713 713 715 ...,  79  79  79]\n"
     ]
    },
    {
     "name": "stderr",
     "output_type": "stream",
     "text": [
      "\r",
      " 69%|██████▉   | 875/1261 [05:24<02:12,  2.91it/s]"
     ]
    },
    {
     "name": "stdout",
     "output_type": "stream",
     "text": [
      "[259 260 261 ..., 399 400 401]\n",
      "[640 640 640 ...,  79  79  79]\n",
      "[1091 1092 1093 ..., 1271 1272 1273]\n",
      "[560 560 560 ...,  79  79  79]\n"
     ]
    },
    {
     "name": "stderr",
     "output_type": "stream",
     "text": [
      "\r",
      " 69%|██████▉   | 876/1261 [05:24<02:13,  2.89it/s]"
     ]
    },
    {
     "name": "stdout",
     "output_type": "stream",
     "text": [
      "[261 262 263 ..., 393 394 395]\n",
      "[640 640 640 ...,  79  79  79]\n",
      "[1076 1077 1078 ..., 1237 1238 1239]\n",
      "[640 640 640 ..., 159 159 159]\n"
     ]
    },
    {
     "name": "stderr",
     "output_type": "stream",
     "text": [
      "\r",
      " 70%|██████▉   | 877/1261 [05:25<02:14,  2.86it/s]"
     ]
    },
    {
     "name": "stdout",
     "output_type": "stream",
     "text": [
      "[261 262 263 ..., 387 388 389]\n",
      "[640 640 640 ...,  79  79  79]\n",
      "[1078 1079 1080 ..., 1242 1243 1244]\n",
      "[640 640 640 ..., 159 159 159]\n"
     ]
    },
    {
     "name": "stderr",
     "output_type": "stream",
     "text": [
      "\r",
      " 70%|██████▉   | 878/1261 [05:25<02:14,  2.84it/s]"
     ]
    },
    {
     "name": "stdout",
     "output_type": "stream",
     "text": [
      "[261 262 263 ..., 387 388 389]\n",
      "[640 640 640 ...,  79  79  79]\n",
      "[1081 1082 1083 ..., 1214 1215 1216]\n",
      "[640 640 640 ..., 239 239 239]\n"
     ]
    },
    {
     "name": "stderr",
     "output_type": "stream",
     "text": [
      "\r",
      " 70%|██████▉   | 879/1261 [05:26<02:23,  2.66it/s]"
     ]
    },
    {
     "name": "stdout",
     "output_type": "stream",
     "text": [
      "[261 262 263 ..., 393 394 395]\n",
      "[640 640 640 ...,  79  79  79]\n",
      "[1081 1082 1083 ..., 1210 1211 1212]\n",
      "[640 640 640 ..., 239 239 239]\n"
     ]
    },
    {
     "name": "stderr",
     "output_type": "stream",
     "text": [
      "\r",
      " 70%|██████▉   | 880/1261 [05:26<02:27,  2.59it/s]"
     ]
    },
    {
     "name": "stdout",
     "output_type": "stream",
     "text": [
      "[261 262 263 ..., 399 400 401]\n",
      "[640 640 640 ...,  79  79  79]\n",
      "[1092 1093 1094 ..., 1183 1184 1185]\n",
      "[665 665 665 ..., 319 319 319]\n"
     ]
    },
    {
     "name": "stderr",
     "output_type": "stream",
     "text": [
      "\r",
      " 70%|██████▉   | 881/1261 [05:26<02:27,  2.58it/s]"
     ]
    },
    {
     "name": "stdout",
     "output_type": "stream",
     "text": [
      "[261 262 263 ..., 399 400 401]\n",
      "[640 640 640 ...,  79  79  79]\n",
      "[1087 1088 1089 ..., 1263 1264 1265]\n",
      "[697 697 697 ...,  20  20  20]\n"
     ]
    },
    {
     "name": "stderr",
     "output_type": "stream",
     "text": [
      "\r",
      " 70%|██████▉   | 882/1261 [05:27<02:28,  2.56it/s]"
     ]
    },
    {
     "name": "stdout",
     "output_type": "stream",
     "text": [
      "[258 259 260 ..., 393 394 395]\n",
      "[640 640 640 ...,  79  79  79]\n",
      "[1108 1109 1110 ..., 1259 1260 1261]\n",
      "[590 590 590 ...,  40  40  40]\n"
     ]
    },
    {
     "name": "stderr",
     "output_type": "stream",
     "text": [
      "\r",
      " 70%|███████   | 883/1261 [05:27<02:28,  2.54it/s]"
     ]
    },
    {
     "name": "stdout",
     "output_type": "stream",
     "text": [
      "[256 257 258 ..., 399 400 401]\n",
      "[640 640 640 ...,  79  79  79]\n",
      "[1108 1109 1110 ..., 1248 1249 1250]\n",
      "[623 623 623 ...,  79  79  79]\n"
     ]
    },
    {
     "name": "stderr",
     "output_type": "stream",
     "text": [
      "\r",
      " 70%|███████   | 884/1261 [05:28<02:30,  2.51it/s]"
     ]
    },
    {
     "name": "stdout",
     "output_type": "stream",
     "text": [
      "[258 259 260 ..., 410 411 412]\n",
      "[640 640 640 ...,  79  79  79]\n",
      "[1096 1097 1098 ..., 1254 1255 1256]\n",
      "[657 657 657 ...,  79  79  79]\n"
     ]
    },
    {
     "name": "stderr",
     "output_type": "stream",
     "text": [
      "\r",
      " 70%|███████   | 885/1261 [05:28<02:30,  2.50it/s]"
     ]
    },
    {
     "name": "stdout",
     "output_type": "stream",
     "text": [
      "[258 259 260 ..., 399 400 401]\n",
      "[640 640 640 ...,  79  79  79]\n",
      "[1076 1077 1078 ..., 1248 1249 1250]\n",
      "[689 689 689 ...,  79  79  79]\n"
     ]
    },
    {
     "name": "stderr",
     "output_type": "stream",
     "text": [
      "\r",
      " 70%|███████   | 886/1261 [05:28<02:32,  2.46it/s]"
     ]
    },
    {
     "name": "stdout",
     "output_type": "stream",
     "text": [
      "[263 264 265 ..., 422 423 424]\n",
      "[640 640 640 ...,  79  79  79]\n",
      "[1089 1090 1091 ..., 1242 1243 1244]\n",
      "[560 560 560 ...,  79  79  79]\n"
     ]
    },
    {
     "name": "stderr",
     "output_type": "stream",
     "text": [
      "\r",
      " 70%|███████   | 887/1261 [05:29<02:30,  2.49it/s]"
     ]
    },
    {
     "name": "stdout",
     "output_type": "stream",
     "text": [
      "[266 267 268 ..., 422 423 424]\n",
      "[640 640 640 ...,  79  79  79]\n",
      "[1091 1092 1093 ..., 1216 1217 1218]\n",
      "[560 560 560 ..., 159 159 159]\n"
     ]
    },
    {
     "name": "stderr",
     "output_type": "stream",
     "text": [
      "\r",
      " 70%|███████   | 888/1261 [05:29<02:31,  2.46it/s]"
     ]
    },
    {
     "name": "stdout",
     "output_type": "stream",
     "text": [
      "[263 264 265 ..., 428 429 430]\n",
      "[640 640 640 ...,  79  79  79]\n",
      "[1079 1080 1081 ..., 1211 1212 1213]\n",
      "[640 640 640 ..., 159 159 159]\n"
     ]
    },
    {
     "name": "stderr",
     "output_type": "stream",
     "text": [
      "\r",
      " 70%|███████   | 889/1261 [05:30<02:30,  2.48it/s]"
     ]
    },
    {
     "name": "stdout",
     "output_type": "stream",
     "text": [
      "[268 269 270 ..., 428 429 430]\n",
      "[640 640 640 ...,  79  79  79]\n",
      "[1079 1080 1081 ..., 1186 1187 1188]\n",
      "[640 640 640 ..., 239 239 239]\n"
     ]
    },
    {
     "name": "stderr",
     "output_type": "stream",
     "text": [
      "\r",
      " 71%|███████   | 890/1261 [05:30<02:29,  2.48it/s]"
     ]
    },
    {
     "name": "stdout",
     "output_type": "stream",
     "text": [
      "[263 264 265 ..., 416 417 418]\n",
      "[640 640 640 ...,  79  79  79]\n",
      "[1081 1082 1083 ..., 1186 1187 1188]\n",
      "[640 640 640 ..., 239 239 239]\n"
     ]
    },
    {
     "name": "stderr",
     "output_type": "stream",
     "text": [
      "\r",
      " 71%|███████   | 891/1261 [05:30<02:30,  2.46it/s]"
     ]
    },
    {
     "name": "stdout",
     "output_type": "stream",
     "text": [
      "[264 265 266 ..., 410 411 412]\n",
      "[640 640 640 ...,  79  79  79]\n",
      "[1089 1090 1091 ..., 1163 1164 1165]\n",
      "[640 640 640 ..., 319 319 319]\n"
     ]
    },
    {
     "name": "stderr",
     "output_type": "stream",
     "text": [
      "\r",
      " 71%|███████   | 892/1261 [05:31<02:30,  2.46it/s]"
     ]
    },
    {
     "name": "stdout",
     "output_type": "stream",
     "text": [
      "[263 264 265 ..., 405 406 407]\n",
      "[640 640 640 ...,  79  79  79]\n",
      "[1087 1088 1089 ..., 1171 1172 1173]\n",
      "[670 670 670 ..., 319 319 319]\n"
     ]
    },
    {
     "name": "stderr",
     "output_type": "stream",
     "text": [
      "\r",
      " 71%|███████   | 893/1261 [05:31<02:25,  2.53it/s]"
     ]
    },
    {
     "name": "stdout",
     "output_type": "stream",
     "text": [
      "[263 264 265 ..., 405 406 407]\n",
      "[640 640 640 ...,  79  79  79]\n",
      "[1083 1084 1085 ..., 1235 1236 1237]\n",
      "[702 702 702 ...,  40  40  40]\n"
     ]
    },
    {
     "name": "stderr",
     "output_type": "stream",
     "text": [
      "\r",
      " 71%|███████   | 894/1261 [05:32<02:17,  2.67it/s]"
     ]
    },
    {
     "name": "stdout",
     "output_type": "stream",
     "text": [
      "[264 265 266 ..., 410 411 412]\n",
      "[640 640 640 ...,  79  79  79]\n",
      "[1105 1106 1107 ..., 1226 1227 1228]\n",
      "[599 599 599 ...,  77  77  77]\n"
     ]
    },
    {
     "name": "stderr",
     "output_type": "stream",
     "text": [
      "\r",
      " 71%|███████   | 895/1261 [05:32<02:12,  2.77it/s]"
     ]
    },
    {
     "name": "stdout",
     "output_type": "stream",
     "text": [
      "[268 269 270 ..., 422 423 424]\n",
      "[640 640 640 ...,  79  79  79]\n",
      "[1101 1102 1103 ..., 1242 1243 1244]\n",
      "[632 632 632 ...,  79  79  79]\n"
     ]
    },
    {
     "name": "stderr",
     "output_type": "stream",
     "text": [
      "\r",
      " 71%|███████   | 896/1261 [05:32<02:12,  2.75it/s]"
     ]
    },
    {
     "name": "stdout",
     "output_type": "stream",
     "text": [
      "[274 275 276 ..., 422 423 424]\n",
      "[640 640 640 ...,  79  79  79]\n",
      "[1103 1104 1105 ..., 1236 1237 1238]\n",
      "[663 663 663 ...,  79  79  79]\n"
     ]
    },
    {
     "name": "stderr",
     "output_type": "stream",
     "text": [
      "\r",
      " 71%|███████   | 897/1261 [05:33<02:12,  2.75it/s]"
     ]
    },
    {
     "name": "stdout",
     "output_type": "stream",
     "text": [
      "[276 277 278 ..., 422 423 424]\n",
      "[640 640 640 ...,  79  79  79]\n",
      "[1095 1096 1097 ..., 1242 1243 1244]\n",
      "[695 695 695 ...,  79  79  79]\n"
     ]
    },
    {
     "name": "stderr",
     "output_type": "stream",
     "text": [
      "\r",
      " 71%|███████   | 898/1261 [05:33<02:10,  2.78it/s]"
     ]
    },
    {
     "name": "stdout",
     "output_type": "stream",
     "text": [
      "[279 280 281 ..., 416 417 418]\n",
      "[640 640 640 ...,  79  79  79]\n",
      "[1093 1094 1095 ..., 1248 1249 1250]\n",
      "[560 560 560 ...,  79  79  79]\n",
      "[279 280 281 ..., 410 411 412]\n",
      "[640 640 640 ...,  79  79  79]\n",
      "[1096 1097 1098 ..., 1221 1222 1223]\n",
      "[560 560 560 ..., 159 159 159]\n"
     ]
    },
    {
     "name": "stderr",
     "output_type": "stream",
     "text": [
      " 71%|███████▏  | 900/1261 [05:34<03:09,  1.90it/s]"
     ]
    },
    {
     "name": "stdout",
     "output_type": "stream",
     "text": [
      "[285 286 287 ..., 422 423 424]\n",
      "[640 640 640 ...,  79  79  79]\n",
      "[1083 1084 1085 ..., 1216 1217 1218]\n",
      "[640 640 640 ..., 159 159 159]\n"
     ]
    },
    {
     "name": "stderr",
     "output_type": "stream",
     "text": [
      "\r",
      " 71%|███████▏  | 901/1261 [05:35<03:00,  2.00it/s]"
     ]
    },
    {
     "name": "stdout",
     "output_type": "stream",
     "text": [
      "[284 285 286 ..., 434 435 436]\n",
      "[640 640 640 ...,  79  79  79]\n",
      "[1083 1084 1085 ..., 1186 1187 1188]\n",
      "[640 640 640 ..., 239 239 239]\n"
     ]
    },
    {
     "name": "stderr",
     "output_type": "stream",
     "text": [
      "\r",
      " 72%|███████▏  | 902/1261 [05:35<02:50,  2.11it/s]"
     ]
    },
    {
     "name": "stdout",
     "output_type": "stream",
     "text": [
      "[282 283 284 ..., 422 423 424]\n",
      "[640 640 640 ...,  79  79  79]\n",
      "[1086 1087 1088 ..., 1191 1192 1193]\n",
      "[640 640 640 ..., 239 239 239]\n"
     ]
    },
    {
     "name": "stderr",
     "output_type": "stream",
     "text": [
      "\r",
      " 72%|███████▏  | 903/1261 [05:36<02:45,  2.16it/s]"
     ]
    },
    {
     "name": "stdout",
     "output_type": "stream",
     "text": [
      "[282 283 284 ..., 422 423 424]\n",
      "[640 640 640 ...,  79  79  79]\n",
      "[1092 1093 1094 ..., 1167 1168 1169]\n",
      "[646 646 646 ..., 319 319 319]\n"
     ]
    },
    {
     "name": "stderr",
     "output_type": "stream",
     "text": [
      "\r",
      " 72%|███████▏  | 904/1261 [05:36<02:51,  2.09it/s]"
     ]
    },
    {
     "name": "stdout",
     "output_type": "stream",
     "text": [
      "[284 285 286 ..., 410 411 412]\n",
      "[640 640 640 ...,  79  79  79]\n",
      "[1092 1093 1094 ..., 1250 1251 1252]\n",
      "[676 676 676 ...,  20  20  20]\n"
     ]
    },
    {
     "name": "stderr",
     "output_type": "stream",
     "text": [
      "\r",
      " 72%|███████▏  | 905/1261 [05:37<02:48,  2.11it/s]"
     ]
    },
    {
     "name": "stdout",
     "output_type": "stream",
     "text": [
      "[284 285 286 ..., 410 411 412]\n",
      "[640 640 640 ...,  79  79  79]\n",
      "[1085 1086 1087 ..., 1248 1249 1250]\n",
      "[708 708 708 ...,  40  40  40]\n"
     ]
    },
    {
     "name": "stderr",
     "output_type": "stream",
     "text": [
      "\r",
      " 72%|███████▏  | 906/1261 [05:37<02:46,  2.13it/s]"
     ]
    },
    {
     "name": "stdout",
     "output_type": "stream",
     "text": [
      "[282 283 284 ..., 405 406 407]\n",
      "[640 640 640 ...,  79  79  79]\n",
      "[1109 1110 1111 ..., 1230 1231 1232]\n",
      "[603 603 603 ...,  79  79  79]\n"
     ]
    },
    {
     "name": "stderr",
     "output_type": "stream",
     "text": [
      "\r",
      " 72%|███████▏  | 907/1261 [05:37<02:43,  2.17it/s]"
     ]
    },
    {
     "name": "stdout",
     "output_type": "stream",
     "text": [
      "[280 281 282 ..., 399 400 401]\n",
      "[640 640 640 ...,  79  79  79]\n",
      "[1092 1093 1094 ..., 1248 1249 1250]\n",
      "[640 640 640 ...,  79  79  79]\n"
     ]
    },
    {
     "name": "stderr",
     "output_type": "stream",
     "text": [
      "\r",
      " 72%|███████▏  | 908/1261 [05:38<02:39,  2.21it/s]"
     ]
    },
    {
     "name": "stdout",
     "output_type": "stream",
     "text": [
      "[284 285 286 ..., 405 406 407]\n",
      "[640 640 640 ...,  79  79  79]\n",
      "[1099 1100 1101 ..., 1248 1249 1250]\n",
      "[668 668 668 ...,  79  79  79]\n"
     ]
    },
    {
     "name": "stderr",
     "output_type": "stream",
     "text": [
      "\r",
      " 72%|███████▏  | 909/1261 [05:39<02:57,  1.98it/s]"
     ]
    },
    {
     "name": "stdout",
     "output_type": "stream",
     "text": [
      "[280 281 282 ..., 416 417 418]\n",
      "[640 640 640 ...,  79  79  79]\n",
      "[1080 1081 1097 ..., 1242 1243 1244]\n",
      "[699 699 700 ...,  79  79  79]\n"
     ]
    },
    {
     "name": "stderr",
     "output_type": "stream",
     "text": [
      "\r",
      " 72%|███████▏  | 910/1261 [05:39<02:59,  1.96it/s]"
     ]
    },
    {
     "name": "stdout",
     "output_type": "stream",
     "text": [
      "[280 281 282 ..., 405 406 407]\n",
      "[640 640 640 ...,  79  79  79]\n",
      "[1087 1088 1089 ..., 1211 1212 1213]\n",
      "[560 560 560 ..., 159 159 159]\n"
     ]
    },
    {
     "name": "stderr",
     "output_type": "stream",
     "text": [
      "\r",
      " 72%|███████▏  | 911/1261 [05:39<02:48,  2.07it/s]"
     ]
    },
    {
     "name": "stdout",
     "output_type": "stream",
     "text": [
      "[280 281 282 ..., 410 411 412]\n",
      "[640 640 640 ...,  79  79  79]\n",
      "[1087 1088 1089 ..., 1211 1212 1213]\n",
      "[560 560 560 ..., 159 159 159]\n"
     ]
    },
    {
     "name": "stderr",
     "output_type": "stream",
     "text": [
      "\r",
      " 72%|███████▏  | 912/1261 [05:40<02:36,  2.23it/s]"
     ]
    },
    {
     "name": "stdout",
     "output_type": "stream",
     "text": [
      "[277 278 279 ..., 399 400 401]\n",
      "[640 640 640 ...,  79  79  79]\n",
      "[1081 1082 1083 ..., 1216 1217 1218]\n",
      "[640 640 640 ..., 159 159 159]\n"
     ]
    },
    {
     "name": "stderr",
     "output_type": "stream",
     "text": [
      "\r",
      " 72%|███████▏  | 913/1261 [05:40<02:31,  2.29it/s]"
     ]
    },
    {
     "name": "stdout",
     "output_type": "stream",
     "text": [
      "[277 278 279 ..., 405 406 407]\n",
      "[640 640 640 ...,  79  79  79]\n",
      "[1079 1080 1081 ..., 1181 1182 1183]\n",
      "[640 640 640 ..., 239 239 239]\n"
     ]
    },
    {
     "name": "stderr",
     "output_type": "stream",
     "text": [
      "\r",
      " 72%|███████▏  | 914/1261 [05:41<02:25,  2.38it/s]"
     ]
    },
    {
     "name": "stdout",
     "output_type": "stream",
     "text": [
      "[279 280 281 ..., 405 406 407]\n",
      "[640 640 640 ...,  79  79  79]\n",
      "[1078 1079 1080 ..., 1159 1160 1161]\n",
      "[640 640 640 ..., 319 319 319]\n"
     ]
    },
    {
     "name": "stderr",
     "output_type": "stream",
     "text": [
      "\r",
      " 73%|███████▎  | 915/1261 [05:41<02:28,  2.32it/s]"
     ]
    },
    {
     "name": "stdout",
     "output_type": "stream",
     "text": [
      "[279 280 281 ..., 405 406 407]\n",
      "[640 640 640 ...,  79  79  79]\n",
      "[1091 1092 1093 ..., 1244 1245 1246]\n",
      "[649 649 649 ...,  20  20  20]\n"
     ]
    },
    {
     "name": "stderr",
     "output_type": "stream",
     "text": [
      "\r",
      " 73%|███████▎  | 916/1261 [05:42<02:28,  2.32it/s]"
     ]
    },
    {
     "name": "stdout",
     "output_type": "stream",
     "text": [
      "[279 280 281 ..., 410 411 412]\n",
      "[640 640 640 ...,  79  79  79]\n",
      "[1086 1087 1090 ..., 1221 1222 1223]\n",
      "[680 680 680 ...,  59  59  59]\n"
     ]
    },
    {
     "name": "stderr",
     "output_type": "stream",
     "text": [
      "\r",
      " 73%|███████▎  | 917/1261 [05:42<02:27,  2.33it/s]"
     ]
    },
    {
     "name": "stdout",
     "output_type": "stream",
     "text": [
      "[276 277 278 ..., 405 406 407]\n",
      "[640 640 640 ...,  79  79  79]\n",
      "[1084 1085 1076 ..., 1226 1227 1228]\n",
      "[711 711 712 ...,  77  77  77]\n"
     ]
    },
    {
     "name": "stderr",
     "output_type": "stream",
     "text": [
      "\r",
      " 73%|███████▎  | 918/1261 [05:42<02:26,  2.34it/s]"
     ]
    },
    {
     "name": "stdout",
     "output_type": "stream",
     "text": [
      "[274 275 276 ..., 405 406 407]\n",
      "[640 640 640 ...,  79  79  79]\n",
      "[1089 1090 1091 ..., 1242 1243 1244]\n",
      "[610 610 610 ...,  79  79  79]\n"
     ]
    },
    {
     "name": "stderr",
     "output_type": "stream",
     "text": [
      "\r",
      " 73%|███████▎  | 919/1261 [05:43<02:41,  2.12it/s]"
     ]
    },
    {
     "name": "stdout",
     "output_type": "stream",
     "text": [
      "[272 273 274 ..., 405 406 407]\n",
      "[640 640 640 ...,  79  79  79]\n",
      "[1087 1088 1089 ..., 1248 1249 1250]\n",
      "[641 641 641 ...,  79  79  79]\n"
     ]
    },
    {
     "name": "stderr",
     "output_type": "stream",
     "text": [
      "\r",
      " 73%|███████▎  | 920/1261 [05:43<02:42,  2.09it/s]"
     ]
    },
    {
     "name": "stdout",
     "output_type": "stream",
     "text": [
      "[277 278 279 ..., 410 411 412]\n",
      "[640 640 640 ...,  79  79  79]\n",
      "[1096 1097 1098 ..., 1242 1243 1244]\n",
      "[673 673 673 ...,  79  79  79]\n"
     ]
    },
    {
     "name": "stderr",
     "output_type": "stream",
     "text": [
      "\r",
      " 73%|███████▎  | 921/1261 [05:44<02:59,  1.90it/s]"
     ]
    },
    {
     "name": "stdout",
     "output_type": "stream",
     "text": [
      "[279 280 281 ..., 428 429 430]\n",
      "[640 640 640 ...,  79  79  79]\n",
      "[1068 1069 1065 ..., 1236 1237 1238]\n",
      "[705 705 706 ...,  79  79  79]\n"
     ]
    },
    {
     "name": "stderr",
     "output_type": "stream",
     "text": [
      "\r",
      " 73%|███████▎  | 922/1261 [05:45<02:59,  1.89it/s]"
     ]
    },
    {
     "name": "stdout",
     "output_type": "stream",
     "text": [
      "[271 272 273 ..., 422 423 424]\n",
      "[640 640 640 ...,  79  79  79]\n",
      "[1082 1083 1084 ..., 1216 1217 1218]\n",
      "[560 560 560 ..., 159 159 159]\n"
     ]
    },
    {
     "name": "stderr",
     "output_type": "stream",
     "text": [
      "\r",
      " 73%|███████▎  | 923/1261 [05:45<02:49,  2.00it/s]"
     ]
    },
    {
     "name": "stdout",
     "output_type": "stream",
     "text": [
      "[268 269 270 ..., 428 429 430]\n",
      "[640 640 640 ...,  79  79  79]\n",
      "[1071 1072 1073 ..., 1211 1212 1213]\n",
      "[640 640 640 ..., 159 159 159]\n"
     ]
    },
    {
     "name": "stderr",
     "output_type": "stream",
     "text": [
      "\r",
      " 73%|███████▎  | 924/1261 [05:46<02:51,  1.96it/s]"
     ]
    },
    {
     "name": "stdout",
     "output_type": "stream",
     "text": [
      "[268 269 270 ..., 422 423 424]\n",
      "[640 640 640 ...,  79  79  79]\n",
      "[1073 1074 1075 ..., 1186 1187 1188]\n",
      "[640 640 640 ..., 239 239 239]\n"
     ]
    },
    {
     "name": "stderr",
     "output_type": "stream",
     "text": [
      "\r",
      " 73%|███████▎  | 925/1261 [05:46<02:43,  2.05it/s]"
     ]
    },
    {
     "name": "stdout",
     "output_type": "stream",
     "text": [
      "[271 272 273 ..., 434 435 436]\n",
      "[640 640 640 ...,  79  79  79]\n",
      "[1070 1071 1072 ..., 1177 1178 1179]\n",
      "[640 640 640 ..., 239 239 239]\n"
     ]
    },
    {
     "name": "stderr",
     "output_type": "stream",
     "text": [
      "\r",
      " 73%|███████▎  | 926/1261 [05:46<02:38,  2.11it/s]"
     ]
    },
    {
     "name": "stdout",
     "output_type": "stream",
     "text": [
      "[266 267 268 ..., 434 435 436]\n",
      "[640 640 640 ...,  79  79  79]\n",
      "[1068 1069 1070 ..., 1225 1226 1227]\n",
      "[640 640 640 ...,  20  20  20]\n"
     ]
    },
    {
     "name": "stderr",
     "output_type": "stream",
     "text": [
      "\r",
      " 74%|███████▎  | 927/1261 [05:47<02:41,  2.07it/s]"
     ]
    },
    {
     "name": "stdout",
     "output_type": "stream",
     "text": [
      "[266 267 268 ..., 428 429 430]\n",
      "[640 640 640 ...,  79  79  79]\n",
      "[1078 1079 1080 ..., 1223 1224 1225]\n",
      "[658 658 658 ...,  40  40  40]\n"
     ]
    },
    {
     "name": "stderr",
     "output_type": "stream",
     "text": [
      "\r",
      " 74%|███████▎  | 928/1261 [05:47<02:31,  2.20it/s]"
     ]
    },
    {
     "name": "stdout",
     "output_type": "stream",
     "text": [
      "[268 269 270 ..., 422 423 424]\n",
      "[640 640 640 ...,  79  79  79]\n",
      "[1074 1075 1076 ..., 1208 1209 1210]\n",
      "[689 689 689 ...,  77  77  77]\n"
     ]
    },
    {
     "name": "stderr",
     "output_type": "stream",
     "text": [
      "\r",
      " 74%|███████▎  | 929/1261 [05:48<02:30,  2.21it/s]"
     ]
    },
    {
     "name": "stdout",
     "output_type": "stream",
     "text": [
      "[264 265 266 ..., 416 417 418]\n",
      "[640 640 640 ...,  79  79  79]\n",
      "[1084 1085 1086 ..., 1224 1225 1226]\n",
      "[719 719 719 ...,  79  79  79]\n"
     ]
    },
    {
     "name": "stderr",
     "output_type": "stream",
     "text": [
      "\r",
      " 74%|███████▍  | 930/1261 [05:48<02:28,  2.22it/s]"
     ]
    },
    {
     "name": "stdout",
     "output_type": "stream",
     "text": [
      "[263 264 265 ..., 422 423 424]\n",
      "[640 640 640 ...,  79  79  79]\n",
      "[1081 1082 1083 ..., 1230 1231 1232]\n",
      "[620 620 620 ...,  79  79  79]\n"
     ]
    },
    {
     "name": "stderr",
     "output_type": "stream",
     "text": [
      "\r",
      " 74%|███████▍  | 931/1261 [05:49<02:42,  2.04it/s]"
     ]
    },
    {
     "name": "stdout",
     "output_type": "stream",
     "text": [
      "[264 265 266 ..., 422 423 424]\n",
      "[640 640 640 ...,  79  79  79]\n",
      "[1077 1078 1079 ..., 1230 1231 1232]\n",
      "[650 650 650 ...,  79  79  79]\n"
     ]
    },
    {
     "name": "stderr",
     "output_type": "stream",
     "text": [
      "\r",
      " 74%|███████▍  | 932/1261 [05:49<02:40,  2.05it/s]"
     ]
    },
    {
     "name": "stdout",
     "output_type": "stream",
     "text": [
      "[264 265 266 ..., 446 447 448]\n",
      "[640 640 640 ...,  79  79  79]\n",
      "[1075 1076 1077 ..., 1230 1231 1232]\n",
      "[680 680 680 ...,  79  79  79]\n"
     ]
    },
    {
     "name": "stderr",
     "output_type": "stream",
     "text": [
      "\r",
      " 74%|███████▍  | 933/1261 [05:50<02:36,  2.10it/s]"
     ]
    },
    {
     "name": "stdout",
     "output_type": "stream",
     "text": [
      "[269 270 271 ..., 434 435 436]\n",
      "[640 640 640 ...,  79  79  79]\n",
      "[1071 1072 1073 ..., 1200 1201 1202]\n",
      "[711 711 711 ..., 159 159 159]\n"
     ]
    },
    {
     "name": "stderr",
     "output_type": "stream",
     "text": [
      "\r",
      " 74%|███████▍  | 934/1261 [05:50<02:28,  2.20it/s]"
     ]
    },
    {
     "name": "stdout",
     "output_type": "stream",
     "text": [
      "[269 270 271 ..., 434 435 436]\n",
      "[640 640 640 ...,  79  79  79]\n",
      "[1087 1088 1089 ..., 1211 1212 1213]\n",
      "[560 560 560 ..., 159 159 159]\n"
     ]
    },
    {
     "name": "stderr",
     "output_type": "stream",
     "text": [
      "\r",
      " 74%|███████▍  | 935/1261 [05:51<02:22,  2.29it/s]"
     ]
    },
    {
     "name": "stdout",
     "output_type": "stream",
     "text": [
      "[272 273 274 ..., 434 435 436]\n",
      "[640 640 640 ...,  79  79  79]\n",
      "[1078 1079 1080 ..., 1181 1182 1183]\n",
      "[640 640 640 ..., 239 239 239]\n"
     ]
    },
    {
     "name": "stderr",
     "output_type": "stream",
     "text": [
      "\r",
      " 74%|███████▍  | 936/1261 [05:51<02:15,  2.40it/s]"
     ]
    },
    {
     "name": "stdout",
     "output_type": "stream",
     "text": [
      "[276 277 278 ..., 422 423 424]\n",
      "[640 640 640 ...,  79  79  79]\n",
      "[1078 1079 1080 ..., 1181 1182 1183]\n",
      "[640 640 640 ..., 239 239 239]\n"
     ]
    },
    {
     "name": "stderr",
     "output_type": "stream",
     "text": [
      "\r",
      " 74%|███████▍  | 937/1261 [05:51<02:11,  2.47it/s]"
     ]
    },
    {
     "name": "stdout",
     "output_type": "stream",
     "text": [
      "[277 278 279 ..., 428 429 430]\n",
      "[640 640 640 ...,  79  79  79]\n",
      "[1078 1079 1080 ..., 1181 1182 1183]\n",
      "[640 640 640 ..., 239 239 239]\n"
     ]
    },
    {
     "name": "stderr",
     "output_type": "stream",
     "text": [
      "\r",
      " 74%|███████▍  | 938/1261 [05:52<02:08,  2.51it/s]"
     ]
    },
    {
     "name": "stdout",
     "output_type": "stream",
     "text": [
      "[279 280 281 ..., 446 447 448]\n",
      "[640 640 640 ...,  79  79  79]\n",
      "[1078 1079 1080 ..., 1250 1251 1252]\n",
      "[640 640 640 ...,  20  20  20]\n"
     ]
    },
    {
     "name": "stderr",
     "output_type": "stream",
     "text": [
      "\r",
      " 74%|███████▍  | 939/1261 [05:52<02:02,  2.64it/s]"
     ]
    },
    {
     "name": "stdout",
     "output_type": "stream",
     "text": [
      "[279 280 281 ..., 446 447 448]\n",
      "[640 640 640 ...,  79  79  79]\n",
      "[1081 1082 1083 ..., 1233 1234 1235]\n",
      "[666 666 666 ...,  59  59  59]\n"
     ]
    },
    {
     "name": "stderr",
     "output_type": "stream",
     "text": [
      "\r",
      " 75%|███████▍  | 940/1261 [05:52<01:57,  2.73it/s]"
     ]
    },
    {
     "name": "stdout",
     "output_type": "stream",
     "text": [
      "[279 280 281 ..., 446 447 448]\n",
      "[640 640 640 ...,  79  79  79]\n",
      "[1078 1079 1080 ..., 1230 1231 1232]\n",
      "[697 697 697 ...,  79  79  79]\n"
     ]
    },
    {
     "name": "stderr",
     "output_type": "stream",
     "text": [
      "\r",
      " 75%|███████▍  | 941/1261 [05:53<01:55,  2.78it/s]"
     ]
    },
    {
     "name": "stdout",
     "output_type": "stream",
     "text": [
      "[280 281 282 ..., 446 447 448]\n",
      "[640 640 640 ...,  79  79  79]\n",
      "[1099 1100 1101 ..., 1248 1249 1250]\n",
      "[594 594 594 ...,  79  79  79]\n"
     ]
    },
    {
     "name": "stderr",
     "output_type": "stream",
     "text": [
      "\r",
      " 75%|███████▍  | 942/1261 [05:53<01:52,  2.84it/s]"
     ]
    },
    {
     "name": "stdout",
     "output_type": "stream",
     "text": [
      "[279 280 281 ..., 440 441 442]\n",
      "[640 640 640 ...,  79  79  79]\n",
      "[1095 1096 1097 ..., 1248 1249 1250]\n",
      "[625 625 625 ...,  79  79  79]\n"
     ]
    },
    {
     "name": "stderr",
     "output_type": "stream",
     "text": [
      "\r",
      " 75%|███████▍  | 943/1261 [05:53<01:50,  2.87it/s]"
     ]
    },
    {
     "name": "stdout",
     "output_type": "stream",
     "text": [
      "[280 281 282 ..., 463 464 465]\n",
      "[640 640 640 ...,  79  79  79]\n",
      "[1090 1091 1092 ..., 1248 1249 1250]\n",
      "[657 657 657 ...,  79  79  79]\n"
     ]
    },
    {
     "name": "stderr",
     "output_type": "stream",
     "text": [
      "\r",
      " 75%|███████▍  | 944/1261 [05:54<01:49,  2.89it/s]"
     ]
    },
    {
     "name": "stdout",
     "output_type": "stream",
     "text": [
      "[277 278 279 ..., 458 459 460]\n",
      "[640 640 640 ...,  79  79  79]\n",
      "[1078 1079 1075 ..., 1259 1260 1261]\n",
      "[686 686 687 ...,  79  79  79]\n"
     ]
    },
    {
     "name": "stderr",
     "output_type": "stream",
     "text": [
      "\r",
      " 75%|███████▍  | 945/1261 [05:54<01:51,  2.83it/s]"
     ]
    },
    {
     "name": "stdout",
     "output_type": "stream",
     "text": [
      "[280 281 282 ..., 446 447 448]\n",
      "[640 640 640 ...,  79  79  79]\n",
      "[1069 1070 1072 ..., 1221 1222 1223]\n",
      "[718 718 718 ..., 159 159 159]\n"
     ]
    },
    {
     "name": "stderr",
     "output_type": "stream",
     "text": [
      "\r",
      " 75%|███████▌  | 946/1261 [05:54<01:48,  2.91it/s]"
     ]
    },
    {
     "name": "stdout",
     "output_type": "stream",
     "text": [
      "[280 281 282 ..., 440 441 442]\n",
      "[640 640 640 ...,  79  79  79]\n",
      "[1082 1083 1084 ..., 1226 1227 1228]\n",
      "[560 560 560 ..., 159 159 159]\n"
     ]
    },
    {
     "name": "stderr",
     "output_type": "stream",
     "text": [
      "\r",
      " 75%|███████▌  | 947/1261 [05:55<01:50,  2.84it/s]"
     ]
    },
    {
     "name": "stdout",
     "output_type": "stream",
     "text": [
      "[277 278 279 ..., 434 435 436]\n",
      "[640 640 640 ...,  79  79  79]\n",
      "[1078 1079 1080 ..., 1232 1233 1234]\n",
      "[640 640 640 ..., 159 159 159]\n"
     ]
    },
    {
     "name": "stderr",
     "output_type": "stream",
     "text": [
      "\r",
      " 75%|███████▌  | 948/1261 [05:55<01:47,  2.91it/s]"
     ]
    },
    {
     "name": "stdout",
     "output_type": "stream",
     "text": [
      "[279 280 281 ..., 446 447 448]\n",
      "[640 640 640 ...,  79  79  79]\n",
      "[1076 1077 1078 ..., 1200 1201 1202]\n",
      "[640 640 640 ..., 239 239 239]\n"
     ]
    },
    {
     "name": "stderr",
     "output_type": "stream",
     "text": [
      "\r",
      " 75%|███████▌  | 949/1261 [05:55<01:50,  2.81it/s]"
     ]
    },
    {
     "name": "stdout",
     "output_type": "stream",
     "text": [
      "[280 281 282 ..., 440 441 442]\n",
      "[640 640 640 ...,  79  79  79]\n",
      "[1078 1079 1080 ..., 1205 1206 1207]\n",
      "[640 640 640 ..., 239 239 239]\n"
     ]
    },
    {
     "name": "stderr",
     "output_type": "stream",
     "text": [
      "\r",
      " 75%|███████▌  | 950/1261 [05:56<01:51,  2.78it/s]"
     ]
    },
    {
     "name": "stdout",
     "output_type": "stream",
     "text": [
      "[287 288 289 ..., 446 447 448]\n",
      "[640 640 640 ...,  79  79  79]\n",
      "[1083 1084 1085 ..., 1263 1264 1265]\n",
      "[643 643 643 ...,  20  20  20]\n"
     ]
    },
    {
     "name": "stderr",
     "output_type": "stream",
     "text": [
      "\r",
      " 75%|███████▌  | 951/1261 [05:56<01:54,  2.71it/s]"
     ]
    },
    {
     "name": "stdout",
     "output_type": "stream",
     "text": [
      "[274 275 276 ..., 440 441 442]\n",
      "[640 640 640 ...,  79  79  79]\n",
      "[1081 1082 1083 ..., 1260 1261 1262]\n",
      "[673 673 673 ...,  40  40  40]\n"
     ]
    },
    {
     "name": "stderr",
     "output_type": "stream",
     "text": [
      "\r",
      " 75%|███████▌  | 952/1261 [05:57<01:51,  2.77it/s]"
     ]
    },
    {
     "name": "stdout",
     "output_type": "stream",
     "text": [
      "[271 272 273 ..., 422 423 424]\n",
      "[640 640 640 ...,  79  79  79]\n",
      "[1081 1082 1083 ..., 1260 1261 1262]\n",
      "[703 703 703 ...,  59  59  59]\n"
     ]
    },
    {
     "name": "stderr",
     "output_type": "stream",
     "text": [
      "\r",
      " 76%|███████▌  | 953/1261 [05:57<01:55,  2.68it/s]"
     ]
    },
    {
     "name": "stdout",
     "output_type": "stream",
     "text": [
      "[277 278 279 ..., 434 435 436]\n",
      "[640 640 640 ...,  79  79  79]\n",
      "[1107 1108 1109 ..., 1265 1266 1267]\n",
      "[599 599 599 ...,  79  79  79]\n"
     ]
    },
    {
     "name": "stderr",
     "output_type": "stream",
     "text": [
      "\r",
      " 76%|███████▌  | 954/1261 [05:57<01:58,  2.60it/s]"
     ]
    },
    {
     "name": "stdout",
     "output_type": "stream",
     "text": [
      "[272 273 274 ..., 434 435 436]\n",
      "[640 640 640 ...,  79  79  79]\n",
      "[1093 1094 1095 ..., 1277 1278 1279]\n",
      "[630 630 630 ...,  79  79  79]\n"
     ]
    },
    {
     "name": "stderr",
     "output_type": "stream",
     "text": [
      "\r",
      " 76%|███████▌  | 955/1261 [05:58<01:58,  2.58it/s]"
     ]
    },
    {
     "name": "stdout",
     "output_type": "stream",
     "text": [
      "[277 278 279 ..., 434 435 436]\n",
      "[640 640 640 ...,  79  79  79]\n",
      "[1087 1088 1084 ..., 1271 1272 1273]\n",
      "[662 662 663 ...,  79  79  79]\n"
     ]
    },
    {
     "name": "stderr",
     "output_type": "stream",
     "text": [
      "\r",
      " 76%|███████▌  | 956/1261 [05:58<01:55,  2.64it/s]"
     ]
    },
    {
     "name": "stdout",
     "output_type": "stream",
     "text": [
      "[276 277 278 ..., 463 464 465]\n",
      "[640 640 640 ...,  79  79  79]\n",
      "[1095 1096 1097 ..., 1265 1266 1267]\n",
      "[695 695 695 ...,  79  79  79]\n"
     ]
    },
    {
     "name": "stderr",
     "output_type": "stream",
     "text": [
      "\r",
      " 76%|███████▌  | 957/1261 [05:59<01:52,  2.71it/s]"
     ]
    },
    {
     "name": "stdout",
     "output_type": "stream",
     "text": [
      "[276 277 278 ..., 469 470 471]\n",
      "[640 640 640 ...,  79  79  79]\n",
      "[1100 1101 1102 ..., 1248 1249 1250]\n",
      "[560 560 560 ..., 159 159 159]\n"
     ]
    },
    {
     "name": "stderr",
     "output_type": "stream",
     "text": [
      "\r",
      " 76%|███████▌  | 958/1261 [05:59<01:47,  2.81it/s]"
     ]
    },
    {
     "name": "stdout",
     "output_type": "stream",
     "text": [
      "[284 285 286 ..., 452 453 454]\n",
      "[640 640 640 ...,  79  79  79]\n",
      "[1102 1103 1104 ..., 1242 1243 1244]\n",
      "[560 560 560 ..., 159 159 159]\n"
     ]
    },
    {
     "name": "stderr",
     "output_type": "stream",
     "text": [
      "\r",
      " 76%|███████▌  | 959/1261 [05:59<01:46,  2.85it/s]"
     ]
    },
    {
     "name": "stdout",
     "output_type": "stream",
     "text": [
      "[280 281 282 ..., 440 441 442]\n",
      "[640 640 640 ...,  79  79  79]\n",
      "[1092 1093 1094 ..., 1224 1225 1226]\n",
      "[640 640 640 ..., 239 239 239]\n"
     ]
    },
    {
     "name": "stderr",
     "output_type": "stream",
     "text": [
      "\r",
      " 76%|███████▌  | 960/1261 [06:00<01:44,  2.89it/s]"
     ]
    },
    {
     "name": "stdout",
     "output_type": "stream",
     "text": [
      "[284 285 286 ..., 440 441 442]\n",
      "[640 640 640 ...,  79  79  79]\n",
      "[1092 1093 1094 ..., 1214 1215 1216]\n",
      "[640 640 640 ..., 239 239 239]\n"
     ]
    },
    {
     "name": "stderr",
     "output_type": "stream",
     "text": [
      "\r",
      " 76%|███████▌  | 961/1261 [06:00<01:44,  2.87it/s]"
     ]
    },
    {
     "name": "stdout",
     "output_type": "stream",
     "text": [
      "[290 291 292 ..., 463 464 465]\n",
      "[640 640 640 ...,  79  79  79]\n",
      "[1095 1096 1097 ..., 1263 1264 1265]\n",
      "[640 640 640 ...,  20  20  20]\n"
     ]
    },
    {
     "name": "stderr",
     "output_type": "stream",
     "text": [
      "\r",
      " 76%|███████▋  | 962/1261 [06:00<01:46,  2.81it/s]"
     ]
    },
    {
     "name": "stdout",
     "output_type": "stream",
     "text": [
      "[292 293 294 ..., 463 464 465]\n",
      "[640 640 640 ...,  79  79  79]\n",
      "[1100 1101 1102 ..., 1260 1261 1262]\n",
      "[652 652 652 ...,  40  40  40]\n"
     ]
    },
    {
     "name": "stderr",
     "output_type": "stream",
     "text": [
      "\r",
      " 76%|███████▋  | 963/1261 [06:01<01:47,  2.77it/s]"
     ]
    },
    {
     "name": "stdout",
     "output_type": "stream",
     "text": [
      "[293 294 295 ..., 440 441 442]\n",
      "[640 640 640 ...,  79  79  79]\n",
      "[1110 1111 1112 ..., 1249 1250 1251]\n",
      "[683 683 683 ...,  77  77  77]\n"
     ]
    },
    {
     "name": "stderr",
     "output_type": "stream",
     "text": [
      "\r",
      " 76%|███████▋  | 964/1261 [06:01<01:46,  2.78it/s]"
     ]
    },
    {
     "name": "stdout",
     "output_type": "stream",
     "text": [
      "[295 296 297 ..., 440 441 442]\n",
      "[640 640 640 ...,  79  79  79]\n",
      "[1091 1092 1093 ..., 1259 1260 1261]\n",
      "[714 714 714 ...,  79  79  79]\n"
     ]
    },
    {
     "name": "stderr",
     "output_type": "stream",
     "text": [
      "\r",
      " 77%|███████▋  | 965/1261 [06:01<01:44,  2.83it/s]"
     ]
    },
    {
     "name": "stdout",
     "output_type": "stream",
     "text": [
      "[293 294 295 ..., 469 470 471]\n",
      "[640 640 640 ...,  79  79  79]\n",
      "[1124 1125 1126 ..., 1271 1272 1273]\n",
      "[610 610 610 ...,  79  79  79]\n"
     ]
    },
    {
     "name": "stderr",
     "output_type": "stream",
     "text": [
      "\r",
      " 77%|███████▋  | 966/1261 [06:02<01:44,  2.83it/s]"
     ]
    },
    {
     "name": "stdout",
     "output_type": "stream",
     "text": [
      "[306 307 308 ..., 463 464 465]\n",
      "[640 640 640 ...,  79  79  79]\n",
      "[1133 1134 1135 ..., 1265 1266 1267]\n",
      "[641 641 641 ...,  79  79  79]\n"
     ]
    },
    {
     "name": "stderr",
     "output_type": "stream",
     "text": [
      "\r",
      " 77%|███████▋  | 967/1261 [06:02<01:43,  2.84it/s]"
     ]
    },
    {
     "name": "stdout",
     "output_type": "stream",
     "text": [
      "[305 306 307 ..., 440 441 442]\n",
      "[640 640 640 ...,  79  79  79]\n",
      "[1116 1117 1118 ..., 1265 1266 1267]\n",
      "[673 673 673 ...,  79  79  79]\n"
     ]
    },
    {
     "name": "stderr",
     "output_type": "stream",
     "text": [
      "\r",
      " 77%|███████▋  | 968/1261 [06:02<01:49,  2.69it/s]"
     ]
    },
    {
     "name": "stdout",
     "output_type": "stream",
     "text": [
      "[303 304 305 ..., 469 470 471]\n",
      "[640 640 640 ...,  20  20  20]\n",
      "[1098 1099 1097 ..., 1237 1238 1239]\n",
      "[704 704 705 ..., 159 159 159]\n"
     ]
    },
    {
     "name": "stderr",
     "output_type": "stream",
     "text": [
      "\r",
      " 77%|███████▋  | 969/1261 [06:03<01:48,  2.68it/s]"
     ]
    },
    {
     "name": "stdout",
     "output_type": "stream",
     "text": [
      "[303 304 305 ..., 447 448 449]\n",
      "[640 640 640 ...,  59  59  59]\n",
      "[1116 1117 1118 ..., 1237 1238 1239]\n",
      "[560 560 560 ..., 159 159 159]\n"
     ]
    },
    {
     "name": "stderr",
     "output_type": "stream",
     "text": [
      "\r",
      " 77%|███████▋  | 970/1261 [06:03<01:46,  2.74it/s]"
     ]
    },
    {
     "name": "stdout",
     "output_type": "stream",
     "text": [
      "[303 304 305 ..., 441 442 443]\n",
      "[640 640 640 ...,  59  59  59]\n",
      "[1110 1111 1112 ..., 1242 1243 1244]\n",
      "[640 640 640 ..., 159 159 159]\n"
     ]
    },
    {
     "name": "stderr",
     "output_type": "stream",
     "text": [
      "\r",
      " 77%|███████▋  | 971/1261 [06:03<01:43,  2.80it/s]"
     ]
    },
    {
     "name": "stdout",
     "output_type": "stream",
     "text": [
      "[305 306 307 ..., 433 434 435]\n",
      "[640 640 640 ...,  77  77  77]\n",
      "[1112 1113 1114 ..., 1219 1220 1221]\n",
      "[640 640 640 ..., 239 239 239]\n"
     ]
    },
    {
     "name": "stderr",
     "output_type": "stream",
     "text": [
      "\r",
      " 77%|███████▋  | 972/1261 [06:04<01:47,  2.69it/s]"
     ]
    },
    {
     "name": "stdout",
     "output_type": "stream",
     "text": [
      "[305 306 307 ..., 452 453 454]\n",
      "[640 640 640 ...,  79  79  79]\n",
      "[1112 1113 1114 ..., 1219 1220 1221]\n",
      "[640 640 640 ..., 239 239 239]\n"
     ]
    },
    {
     "name": "stderr",
     "output_type": "stream",
     "text": [
      "\r",
      " 77%|███████▋  | 973/1261 [06:04<01:50,  2.61it/s]"
     ]
    },
    {
     "name": "stdout",
     "output_type": "stream",
     "text": [
      "[311 312 313 ..., 463 464 465]\n",
      "[640 640 640 ...,  79  79  79]\n",
      "[1108 1109 1110 ..., 1191 1192 1193]\n",
      "[640 640 640 ..., 319 319 319]\n"
     ]
    },
    {
     "name": "stderr",
     "output_type": "stream",
     "text": [
      "\r",
      " 77%|███████▋  | 974/1261 [06:05<01:47,  2.67it/s]"
     ]
    },
    {
     "name": "stdout",
     "output_type": "stream",
     "text": [
      "[308 309 310 ..., 458 459 460]\n",
      "[640 640 640 ...,  79  79  79]\n",
      "[1125 1126 1127 ..., 1256 1257 1258]\n",
      "[659 659 659 ...,  20  20  20]\n"
     ]
    },
    {
     "name": "stderr",
     "output_type": "stream",
     "text": [
      "\r",
      " 77%|███████▋  | 975/1261 [06:05<01:43,  2.76it/s]"
     ]
    },
    {
     "name": "stdout",
     "output_type": "stream",
     "text": [
      "[308 309 310 ..., 446 447 448]\n",
      "[640 640 640 ...,  79  79  79]\n",
      "[1118 1119 1120 ..., 1233 1234 1235]\n",
      "[691 691 691 ...,  59  59  59]\n"
     ]
    },
    {
     "name": "stderr",
     "output_type": "stream",
     "text": [
      "\r",
      " 77%|███████▋  | 976/1261 [06:05<01:44,  2.73it/s]"
     ]
    },
    {
     "name": "stdout",
     "output_type": "stream",
     "text": [
      "[311 312 313 ..., 444 445 446]\n",
      "[640 640 640 ..., 159 159 159]\n",
      "[1130 1131 1132 ..., 1236 1237 1238]\n",
      "[592 592 592 ...,  79  79  79]\n"
     ]
    },
    {
     "name": "stderr",
     "output_type": "stream",
     "text": [
      "\r",
      " 77%|███████▋  | 977/1261 [06:06<01:42,  2.76it/s]"
     ]
    },
    {
     "name": "stdout",
     "output_type": "stream",
     "text": [
      "[313 314 315 ..., 455 456 457]\n",
      "[640 640 640 ..., 159 159 159]\n",
      "[1125 1126 1127 ..., 1248 1249 1250]\n",
      "[623 623 623 ...,  79  79  79]\n"
     ]
    },
    {
     "name": "stderr",
     "output_type": "stream",
     "text": [
      "\r",
      " 78%|███████▊  | 978/1261 [06:06<01:41,  2.79it/s]"
     ]
    },
    {
     "name": "stdout",
     "output_type": "stream",
     "text": [
      "[316 317 318 ..., 476 477 478]\n",
      "[640 640 640 ..., 159 159 159]\n",
      "[1123 1124 1125 ..., 1230 1231 1232]\n",
      "[655 655 655 ...,  79  79  79]\n"
     ]
    },
    {
     "name": "stderr",
     "output_type": "stream",
     "text": [
      "\r",
      " 78%|███████▊  | 979/1261 [06:06<01:42,  2.74it/s]"
     ]
    },
    {
     "name": "stdout",
     "output_type": "stream",
     "text": [
      "[321 322 323 ..., 428 429 430]\n",
      "[640 640 640 ...,  79  79  79]\n",
      "[1118 1119 1120 ..., 1218 1219 1220]\n",
      "[686 686 686 ...,  79  79  79]\n"
     ]
    },
    {
     "name": "stderr",
     "output_type": "stream",
     "text": [
      "\r",
      " 78%|███████▊  | 980/1261 [06:07<01:45,  2.67it/s]"
     ]
    },
    {
     "name": "stdout",
     "output_type": "stream",
     "text": [
      "[316 317 318 ..., 444 445 446]\n",
      "[640 640 640 ..., 159 159 159]\n",
      "[1118 1119 1120 ..., 1211 1212 1213]\n",
      "[717 717 717 ..., 159 159 159]\n"
     ]
    },
    {
     "name": "stderr",
     "output_type": "stream",
     "text": [
      "\r",
      " 78%|███████▊  | 981/1261 [06:07<01:48,  2.57it/s]"
     ]
    },
    {
     "name": "stdout",
     "output_type": "stream",
     "text": [
      "[321 322 323 ..., 407 408 409]\n",
      "[640 640 640 ..., 159 159 159]\n",
      "[1111 1112 1113 ..., 1205 1206 1207]\n",
      "[560 560 560 ..., 159 159 159]\n"
     ]
    },
    {
     "name": "stderr",
     "output_type": "stream",
     "text": [
      "\r",
      " 78%|███████▊  | 982/1261 [06:08<01:44,  2.66it/s]"
     ]
    },
    {
     "name": "stdout",
     "output_type": "stream",
     "text": [
      "[332 333 334 ..., 405 406 407]\n",
      "[640 640 640 ...,  79  79  79]\n",
      "[1105 1106 1107 ..., 1142 1143 1144]\n",
      "[640 640 640 ..., 159 159 159]\n"
     ]
    },
    {
     "name": "stderr",
     "output_type": "stream",
     "text": [
      "\r",
      " 78%|███████▊  | 983/1261 [06:08<01:42,  2.71it/s]"
     ]
    },
    {
     "name": "stdout",
     "output_type": "stream",
     "text": [
      "[325 326 327 ..., 399 400 401]\n",
      "[640 640 640 ...,  79  79  79]\n",
      "[1107 1108 1109 ..., 1191 1192 1193]\n",
      "[640 640 640 ..., 239 239 239]\n"
     ]
    },
    {
     "name": "stderr",
     "output_type": "stream",
     "text": [
      "\r",
      " 78%|███████▊  | 984/1261 [06:08<01:49,  2.53it/s]"
     ]
    },
    {
     "name": "stdout",
     "output_type": "stream",
     "text": [
      "[321 322 323 ..., 391 392 393]\n",
      "[640 640 640 ..., 159 159 159]\n",
      "[1110 1111 1112 ..., 1186 1187 1188]\n",
      "[640 640 640 ..., 239 239 239]\n"
     ]
    },
    {
     "name": "stderr",
     "output_type": "stream",
     "text": [
      "\r",
      " 78%|███████▊  | 985/1261 [06:09<01:55,  2.39it/s]"
     ]
    },
    {
     "name": "stdout",
     "output_type": "stream",
     "text": [
      "[317 318 319 ..., 381 382 383]\n",
      "[640 640 640 ..., 159 159 159]\n",
      "[1112 1113 1114 ..., 1179 1180 1181]\n",
      "[640 640 640 ..., 319 319 319]\n"
     ]
    },
    {
     "name": "stderr",
     "output_type": "stream",
     "text": [
      "\r",
      " 78%|███████▊  | 986/1261 [06:09<01:57,  2.34it/s]"
     ]
    },
    {
     "name": "stdout",
     "output_type": "stream",
     "text": [
      "[321 322 323 ..., 376 377 378]\n",
      "[640 640 640 ..., 159 159 159]\n",
      "[1116 1117 1118 ..., 1171 1172 1173]\n",
      "[640 640 640 ..., 319 319 319]\n"
     ]
    },
    {
     "name": "stderr",
     "output_type": "stream",
     "text": [
      "\r",
      " 78%|███████▊  | 987/1261 [06:10<01:51,  2.46it/s]"
     ]
    },
    {
     "name": "stdout",
     "output_type": "stream",
     "text": [
      "[317 318 319 ..., 370 371 372]\n",
      "[640 640 640 ..., 159 159 159]\n",
      "[1110 1111 1112 ..., 1163 1164 1165]\n",
      "[669 669 669 ..., 319 319 319]\n"
     ]
    },
    {
     "name": "stderr",
     "output_type": "stream",
     "text": [
      "\r",
      " 78%|███████▊  | 988/1261 [06:10<01:47,  2.55it/s]"
     ]
    },
    {
     "name": "stdout",
     "output_type": "stream",
     "text": [
      "[311 312 313 ..., 386 387 388]\n",
      "[640 640 640 ..., 159 159 159]\n",
      "[1106 1107 1106 ..., 1156 1157 1158]\n",
      "[700 700 701 ..., 399 399 399]\n"
     ]
    },
    {
     "name": "stderr",
     "output_type": "stream",
     "text": [
      "\r",
      " 78%|███████▊  | 989/1261 [06:10<01:44,  2.61it/s]"
     ]
    },
    {
     "name": "stdout",
     "output_type": "stream",
     "text": [
      "[316 317 318 ..., 370 371 372]\n",
      "[640 640 640 ..., 159 159 159]\n",
      "[1128 1129 1130 ..., 1225 1226 1227]\n",
      "[592 592 592 ...,  20  20  20]\n"
     ]
    },
    {
     "name": "stderr",
     "output_type": "stream",
     "text": [
      "\r",
      " 79%|███████▊  | 990/1261 [06:11<01:40,  2.70it/s]"
     ]
    },
    {
     "name": "stdout",
     "output_type": "stream",
     "text": [
      "[309 310 311 ..., 370 371 372]\n",
      "[640 640 640 ..., 159 159 159]\n",
      "[1142 1143 1144 ..., 1223 1224 1225]\n",
      "[621 621 621 ...,  40  40  40]\n"
     ]
    },
    {
     "name": "stderr",
     "output_type": "stream",
     "text": [
      "\r",
      " 79%|███████▊  | 991/1261 [06:11<01:37,  2.77it/s]"
     ]
    },
    {
     "name": "stdout",
     "output_type": "stream",
     "text": [
      "[301 302 303 ..., 365 366 367]\n",
      "[640 640 640 ..., 159 159 159]\n",
      "[1128 1129 1130 ..., 1212 1213 1214]\n",
      "[654 654 654 ...,  79  79  79]\n"
     ]
    },
    {
     "name": "stderr",
     "output_type": "stream",
     "text": [
      "\r",
      " 79%|███████▊  | 992/1261 [06:12<01:40,  2.67it/s]"
     ]
    },
    {
     "name": "stdout",
     "output_type": "stream",
     "text": [
      "[293 294 295 ..., 360 361 362]\n",
      "[640 640 640 ..., 159 159 159]\n",
      "[1117 1118 1119 ..., 1218 1219 1220]\n",
      "[685 685 685 ...,  79  79  79]\n"
     ]
    },
    {
     "name": "stderr",
     "output_type": "stream",
     "text": [
      "\r",
      " 79%|███████▊  | 993/1261 [06:12<01:40,  2.66it/s]"
     ]
    },
    {
     "name": "stdout",
     "output_type": "stream",
     "text": [
      "[295 296 297 ..., 373 374 375]\n",
      "[640 640 640 ..., 239 239 239]\n",
      "[1101 1102 1128 ..., 1206 1207 1208]\n",
      "[717 717 717 ...,  79  79  79]\n"
     ]
    },
    {
     "name": "stderr",
     "output_type": "stream",
     "text": [
      "\r",
      " 79%|███████▉  | 994/1261 [06:12<01:39,  2.69it/s]"
     ]
    },
    {
     "name": "stdout",
     "output_type": "stream",
     "text": [
      "[296 297 298 ..., 360 361 362]\n",
      "[640 640 640 ..., 159 159 159]\n",
      "[1093 1094 1095 ..., 1212 1213 1214]\n",
      "[560 560 560 ...,  79  79  79]\n"
     ]
    },
    {
     "name": "stderr",
     "output_type": "stream",
     "text": [
      "\r",
      " 79%|███████▉  | 995/1261 [06:13<01:43,  2.58it/s]"
     ]
    },
    {
     "name": "stdout",
     "output_type": "stream",
     "text": [
      "[301 302 303 ..., 373 374 375]\n",
      "[640 640 640 ..., 239 239 239]\n",
      "[1094 1095 1096 ..., 1171 1172 1173]\n",
      "[640 640 640 ..., 156 156 156]\n"
     ]
    },
    {
     "name": "stderr",
     "output_type": "stream",
     "text": [
      "\r",
      " 79%|███████▉  | 996/1261 [06:13<01:41,  2.62it/s]"
     ]
    },
    {
     "name": "stdout",
     "output_type": "stream",
     "text": [
      "[300 301 302 ..., 349 350 351]\n",
      "[640 640 640 ..., 239 239 239]\n",
      "[1089 1090 1091 ..., 1174 1175 1176]\n",
      "[640 640 640 ..., 159 159 159]\n"
     ]
    },
    {
     "name": "stderr",
     "output_type": "stream",
     "text": [
      "\r",
      " 79%|███████▉  | 997/1261 [06:13<01:40,  2.62it/s]"
     ]
    },
    {
     "name": "stdout",
     "output_type": "stream",
     "text": [
      "[293 294 295 ..., 354 355 356]\n",
      "[640 640 640 ..., 239 239 239]\n",
      "[1087 1088 1089 ..., 1184 1185 1186]\n",
      "[640 640 640 ..., 159 159 159]\n"
     ]
    },
    {
     "name": "stderr",
     "output_type": "stream",
     "text": [
      "\r",
      " 79%|███████▉  | 998/1261 [06:14<01:39,  2.64it/s]"
     ]
    },
    {
     "name": "stdout",
     "output_type": "stream",
     "text": [
      "[287 288 289 ..., 335 336 337]\n",
      "[640 640 640 ..., 239 239 239]\n",
      "[1087 1088 1089 ..., 1167 1168 1169]\n",
      "[643 643 643 ..., 239 239 239]\n"
     ]
    },
    {
     "name": "stderr",
     "output_type": "stream",
     "text": [
      "\r",
      " 79%|███████▉  | 999/1261 [06:14<01:39,  2.64it/s]"
     ]
    },
    {
     "name": "stdout",
     "output_type": "stream",
     "text": [
      "[279 280 281 ..., 334 335 336]\n",
      "[640 640 640 ..., 319 319 319]\n",
      "[1087 1088 1089 ..., 1163 1164 1165]\n",
      "[672 672 672 ..., 239 239 239]\n"
     ]
    },
    {
     "name": "stderr",
     "output_type": "stream",
     "text": [
      "\r",
      " 79%|███████▉  | 1000/1261 [06:15<01:43,  2.52it/s]"
     ]
    },
    {
     "name": "stdout",
     "output_type": "stream",
     "text": [
      "[271 272 273 ..., 334 335 336]\n",
      "[640 640 640 ..., 319 319 319]\n",
      "[1097 1098 1099 ..., 1151 1152 1153]\n",
      "[671 671 671 ..., 319 319 319]\n"
     ]
    },
    {
     "name": "stderr",
     "output_type": "stream",
     "text": [
      "\r",
      " 79%|███████▉  | 1001/1261 [06:15<01:39,  2.61it/s]"
     ]
    },
    {
     "name": "stdout",
     "output_type": "stream",
     "text": [
      "[264 265 266 ..., 317 318 319]\n",
      "[640 640 640 ..., 231 231 231]\n",
      "[1087 1088 1089 ..., 1155 1156 1157]\n",
      "[702 702 702 ..., 319 319 319]\n"
     ]
    },
    {
     "name": "stderr",
     "output_type": "stream",
     "text": [
      "\r",
      " 79%|███████▉  | 1002/1261 [06:15<01:41,  2.54it/s]"
     ]
    },
    {
     "name": "stdout",
     "output_type": "stream",
     "text": [
      "[251 252 253 ..., 307 308 309]\n",
      "[640 640 640 ..., 239 239 239]\n",
      "[1117 1118 1119 ..., 1159 1160 1161]\n",
      "[586 586 586 ..., 319 319 319]\n"
     ]
    },
    {
     "name": "stderr",
     "output_type": "stream",
     "text": [
      "\r",
      " 80%|███████▉  | 1003/1261 [06:16<01:39,  2.59it/s]"
     ]
    },
    {
     "name": "stdout",
     "output_type": "stream",
     "text": [
      "[240 241 242 ..., 293 294 295]\n",
      "[640 640 640 ..., 141 141 141]\n",
      "[1097 1098 1099 ..., 1179 1180 1181]\n",
      "[714 714 714 ..., 319 319 319]\n"
     ]
    },
    {
     "name": "stderr",
     "output_type": "stream",
     "text": [
      "\r",
      " 80%|███████▉  | 1004/1261 [06:16<01:37,  2.64it/s]"
     ]
    },
    {
     "name": "stdout",
     "output_type": "stream",
     "text": [
      "[232 233 234 ..., 269 270 271]\n",
      "[640 640 640 ...,  79  79  79]\n",
      "[1123 1124 1125 ..., 1180 1181 1182]\n",
      "[644 644 644 ..., 399 399 399]\n"
     ]
    },
    {
     "name": "stderr",
     "output_type": "stream",
     "text": [
      "\r",
      " 80%|███████▉  | 1005/1261 [06:16<01:34,  2.70it/s]"
     ]
    },
    {
     "name": "stdout",
     "output_type": "stream",
     "text": [
      "[230 231 232 ..., 312 313 314]\n",
      "[640 640 640 ...,  40  40  40]\n",
      "[1121 1122 1123 ..., 1270 1271 1272]\n",
      "[677 677 677 ...,  20  20  20]\n"
     ]
    },
    {
     "name": "stderr",
     "output_type": "stream",
     "text": [
      "\r",
      " 80%|███████▉  | 1006/1261 [06:17<01:34,  2.71it/s]"
     ]
    },
    {
     "name": "stdout",
     "output_type": "stream",
     "text": [
      "[251 252 253 ..., 344 345 346]\n",
      "[640 640 640 ..., 159 159 159]\n",
      "[1050 1051 1052 ..., 1230 1231 1232]\n",
      "[659 659 659 ...,  79  79  79]\n"
     ]
    },
    {
     "name": "stderr",
     "output_type": "stream",
     "text": [
      "\r",
      " 80%|███████▉  | 1007/1261 [06:17<01:33,  2.72it/s]"
     ]
    },
    {
     "name": "stdout",
     "output_type": "stream",
     "text": [
      "[251 252 253 ..., 345 346 347]\n",
      "[640 640 640 ..., 239 239 239]\n",
      "[1133 1134 1135 ..., 1242 1243 1244]\n",
      "[678 678 678 ...,  79  79  79]\n"
     ]
    },
    {
     "name": "stderr",
     "output_type": "stream",
     "text": [
      "\r",
      " 80%|███████▉  | 1008/1261 [06:18<01:30,  2.79it/s]"
     ]
    },
    {
     "name": "stdout",
     "output_type": "stream",
     "text": [
      "[258 259 260 ..., 340 341 342]\n",
      "[640 640 640 ..., 239 239 239]\n",
      "[1091 1092 1093 ..., 1184 1185 1186]\n",
      "[560 560 560 ..., 159 159 159]\n"
     ]
    },
    {
     "name": "stderr",
     "output_type": "stream",
     "text": [
      "\r",
      " 80%|████████  | 1009/1261 [06:18<01:31,  2.75it/s]"
     ]
    },
    {
     "name": "stdout",
     "output_type": "stream",
     "text": [
      "[255 256 257 ..., 263 264 265]\n",
      "[640 640 640 ..., 126 126 126]\n",
      "[1089 1090 1091 ..., 1167 1168 1169]\n",
      "[640 640 640 ..., 239 239 239]\n"
     ]
    },
    {
     "name": "stderr",
     "output_type": "stream",
     "text": [
      "\r",
      " 80%|████████  | 1010/1261 [06:18<01:40,  2.49it/s]"
     ]
    },
    {
     "name": "stdout",
     "output_type": "stream",
     "text": [
      "[243 244 245 ..., 255 256 257]\n",
      "[640 640 640 ..., 141 141 141]\n",
      "[1083 1084 1085 ..., 1172 1173 1174]\n",
      "[640 640 640 ..., 239 239 239]\n"
     ]
    },
    {
     "name": "stderr",
     "output_type": "stream",
     "text": [
      "\r",
      " 80%|████████  | 1011/1261 [06:19<01:48,  2.31it/s]"
     ]
    },
    {
     "name": "stdout",
     "output_type": "stream",
     "text": [
      "[243 244 245 ..., 312 313 314]\n",
      "[640 640 640 ..., 159 159 159]\n",
      "[1079 1080 1081 ..., 1167 1168 1169]\n",
      "[640 640 640 ..., 239 239 239]\n"
     ]
    },
    {
     "name": "stderr",
     "output_type": "stream",
     "text": [
      "\r",
      " 80%|████████  | 1012/1261 [06:19<01:47,  2.32it/s]"
     ]
    },
    {
     "name": "stdout",
     "output_type": "stream",
     "text": [
      "[230 231 232 ..., 296 297 298]\n",
      "[640 640 640 ..., 159 159 159]\n",
      "[1083 1084 1085 ..., 1186 1187 1188]\n",
      "[640 640 640 ..., 239 239 239]\n"
     ]
    },
    {
     "name": "stderr",
     "output_type": "stream",
     "text": [
      "\r",
      " 80%|████████  | 1013/1261 [06:20<01:42,  2.42it/s]"
     ]
    },
    {
     "name": "stdout",
     "output_type": "stream",
     "text": [
      "[229 230 231 ..., 292 293 294]\n",
      "[640 640 640 ...,  79  79  79]\n",
      "[1091 1092 1093 ..., 1155 1156 1157]\n",
      "[657 657 657 ..., 319 319 319]\n"
     ]
    },
    {
     "name": "stderr",
     "output_type": "stream",
     "text": [
      "\r",
      " 80%|████████  | 1014/1261 [06:20<01:42,  2.42it/s]"
     ]
    },
    {
     "name": "stdout",
     "output_type": "stream",
     "text": [
      "[229 230 231 ..., 281 282 283]\n",
      "[640 640 640 ...,  79  79  79]\n",
      "[1079 1080 1081 ..., 1155 1156 1157]\n",
      "[689 689 689 ..., 319 319 319]\n"
     ]
    },
    {
     "name": "stderr",
     "output_type": "stream",
     "text": [
      "\r",
      " 80%|████████  | 1015/1261 [06:21<01:40,  2.45it/s]"
     ]
    },
    {
     "name": "stdout",
     "output_type": "stream",
     "text": [
      "[230 231 232 ..., 269 270 271]\n",
      "[640 640 640 ...,  79  79  79]\n",
      "[1084 1085 1086 ..., 1232 1233 1234]\n",
      "[579 579 579 ...,  20  20  20]\n"
     ]
    },
    {
     "name": "stderr",
     "output_type": "stream",
     "text": [
      "\r",
      " 81%|████████  | 1016/1261 [06:21<01:35,  2.56it/s]"
     ]
    },
    {
     "name": "stdout",
     "output_type": "stream",
     "text": [
      "[230 231 232 ..., 291 292 293]\n",
      "[640 640 640 ..., 159 159 159]\n",
      "[1080 1081 1082 ..., 1214 1215 1216]\n",
      "[612 612 612 ...,  77  77  77]\n"
     ]
    },
    {
     "name": "stderr",
     "output_type": "stream",
     "text": [
      "\r",
      " 81%|████████  | 1017/1261 [06:21<01:33,  2.60it/s]"
     ]
    },
    {
     "name": "stdout",
     "output_type": "stream",
     "text": [
      "[227 228 229 ..., 249 250 251]\n",
      "[640 640 640 ..., 159 159 159]\n",
      "[1075 1076 1077 ..., 1230 1231 1232]\n",
      "[645 645 645 ...,  79  79  79]\n"
     ]
    },
    {
     "name": "stderr",
     "output_type": "stream",
     "text": [
      "\r",
      " 81%|████████  | 1018/1261 [06:22<01:33,  2.61it/s]"
     ]
    },
    {
     "name": "stdout",
     "output_type": "stream",
     "text": [
      "[229 230 231 ..., 275 276 277]\n",
      "[640 640 640 ...,  79  79  79]\n",
      "[1074 1075 1076 ..., 1236 1237 1238]\n",
      "[678 678 678 ...,  79  79  79]\n"
     ]
    },
    {
     "name": "stderr",
     "output_type": "stream",
     "text": [
      "\r",
      " 81%|████████  | 1019/1261 [06:22<01:35,  2.53it/s]"
     ]
    },
    {
     "name": "stdout",
     "output_type": "stream",
     "text": [
      "[229 230 231 ..., 308 309 310]\n",
      "[640 640 640 ...,  59  59  59]\n",
      "[1065 1066 1067 ..., 1248 1249 1250]\n",
      "[710 710 710 ...,  79  79  79]\n"
     ]
    },
    {
     "name": "stderr",
     "output_type": "stream",
     "text": [
      "\r",
      " 81%|████████  | 1020/1261 [06:23<01:45,  2.29it/s]"
     ]
    },
    {
     "name": "stdout",
     "output_type": "stream",
     "text": [
      "[226 227 228 ..., 292 293 294]\n",
      "[640 640 640 ...,  79  79  79]\n",
      "[1085 1086 1087 ..., 1242 1243 1244]\n",
      "[560 560 560 ...,  79  79  79]\n"
     ]
    },
    {
     "name": "stderr",
     "output_type": "stream",
     "text": [
      "\r",
      " 81%|████████  | 1021/1261 [06:23<01:46,  2.24it/s]"
     ]
    },
    {
     "name": "stdout",
     "output_type": "stream",
     "text": [
      "[230 231 232 ..., 304 305 306]\n",
      "[640 640 640 ...,  79  79  79]\n",
      "[1070 1071 1072 ..., 1200 1201 1202]\n",
      "[640 640 640 ..., 159 159 159]\n"
     ]
    },
    {
     "name": "stderr",
     "output_type": "stream",
     "text": [
      "\r",
      " 81%|████████  | 1022/1261 [06:23<01:39,  2.40it/s]"
     ]
    },
    {
     "name": "stdout",
     "output_type": "stream",
     "text": [
      "[226 227 228 ..., 275 276 277]\n",
      "[640 640 640 ...,  79  79  79]\n",
      "[1071 1072 1073 ..., 1181 1182 1183]\n",
      "[640 640 640 ..., 239 239 239]\n"
     ]
    },
    {
     "name": "stderr",
     "output_type": "stream",
     "text": [
      "\r",
      " 81%|████████  | 1023/1261 [06:24<01:38,  2.43it/s]"
     ]
    },
    {
     "name": "stdout",
     "output_type": "stream",
     "text": [
      "[218 219 220 ..., 291 292 293]\n",
      "[640 640 640 ..., 159 159 159]\n",
      "[1074 1075 1076 ..., 1191 1192 1193]\n",
      "[640 640 640 ..., 239 239 239]\n"
     ]
    },
    {
     "name": "stderr",
     "output_type": "stream",
     "text": [
      "\r",
      " 81%|████████  | 1024/1261 [06:24<01:32,  2.55it/s]"
     ]
    },
    {
     "name": "stdout",
     "output_type": "stream",
     "text": [
      "[213 214 215 ..., 265 266 267]\n",
      "[640 640 640 ..., 159 159 159]\n",
      "[1084 1085 1086 ..., 1186 1187 1188]\n",
      "[641 641 641 ..., 239 239 239]\n"
     ]
    },
    {
     "name": "stderr",
     "output_type": "stream",
     "text": [
      "\r",
      " 81%|████████▏ | 1025/1261 [06:24<01:30,  2.61it/s]"
     ]
    },
    {
     "name": "stdout",
     "output_type": "stream",
     "text": [
      "[213 214 215 ..., 233 234 235]\n",
      "[640 640 640 ..., 159 159 159]\n",
      "[1081 1082 1083 ..., 1171 1172 1173]\n",
      "[673 673 673 ..., 319 319 319]\n"
     ]
    },
    {
     "name": "stderr",
     "output_type": "stream",
     "text": [
      "\r",
      " 81%|████████▏ | 1026/1261 [06:25<01:29,  2.62it/s]"
     ]
    },
    {
     "name": "stdout",
     "output_type": "stream",
     "text": [
      "[216 217 218 ..., 261 262 263]\n",
      "[640 640 640 ..., 239 239 239]\n",
      "[1069 1070 1071 ..., 1196 1197 1198]\n",
      "[708 708 708 ...,  77  77  77]\n"
     ]
    },
    {
     "name": "stderr",
     "output_type": "stream",
     "text": [
      "\r",
      " 81%|████████▏ | 1027/1261 [06:25<01:29,  2.61it/s]"
     ]
    },
    {
     "name": "stdout",
     "output_type": "stream",
     "text": [
      "[214 215 216 ..., 310 311 312]\n",
      "[640 640 640 ..., 208 208 208]\n",
      "[1083 1084 1085 ..., 1206 1207 1208]\n",
      "[612 612 612 ...,  79  79  79]\n"
     ]
    },
    {
     "name": "stderr",
     "output_type": "stream",
     "text": [
      "\r",
      " 82%|████████▏ | 1028/1261 [06:26<01:28,  2.64it/s]"
     ]
    },
    {
     "name": "stdout",
     "output_type": "stream",
     "text": [
      "[221 222 223 ..., 305 306 307]\n",
      "[640 640 640 ..., 283 283 283]\n",
      "[1076 1077 1078 ..., 1174 1175 1176]\n",
      "[646 646 646 ..., 159 159 159]\n"
     ]
    },
    {
     "name": "stderr",
     "output_type": "stream",
     "text": [
      "\r",
      " 82%|████████▏ | 1029/1261 [06:26<01:30,  2.57it/s]"
     ]
    },
    {
     "name": "stdout",
     "output_type": "stream",
     "text": [
      "[221 222 223 ..., 306 307 308]\n",
      "[640 640 640 ..., 319 319 319]\n",
      "[1072 1073 1074 ..., 1132 1133 1134]\n",
      "[678 678 678 ..., 231 231 231]\n"
     ]
    },
    {
     "name": "stderr",
     "output_type": "stream",
     "text": [
      "\r",
      " 82%|████████▏ | 1030/1261 [06:26<01:34,  2.44it/s]"
     ]
    },
    {
     "name": "stdout",
     "output_type": "stream",
     "text": [
      "[219 220 221 ..., 293 294 295]\n",
      "[640 640 640 ..., 319 319 319]\n",
      "[1067 1068 1069 ..., 1149 1150 1151]\n",
      "[710 710 710 ..., 239 239 239]\n"
     ]
    },
    {
     "name": "stderr",
     "output_type": "stream",
     "text": [
      "\r",
      " 82%|████████▏ | 1031/1261 [06:27<01:39,  2.30it/s]"
     ]
    },
    {
     "name": "stdout",
     "output_type": "stream",
     "text": [
      "[218 219 220 ..., 278 279 280]\n",
      "[640 640 640 ..., 397 397 397]\n",
      "[1067 1068 1069 ..., 1135 1136 1137]\n",
      "[560 560 560 ..., 239 239 239]\n"
     ]
    },
    {
     "name": "stderr",
     "output_type": "stream",
     "text": [
      "\r",
      " 82%|████████▏ | 1032/1261 [06:27<01:39,  2.31it/s]"
     ]
    },
    {
     "name": "stdout",
     "output_type": "stream",
     "text": [
      "[219 220 221 ..., 286 287 288]\n",
      "[640 640 640 ..., 399 399 399]\n",
      "[1063 1064 1065 ..., 1118 1119 1120]\n",
      "[640 640 640 ..., 319 319 319]\n"
     ]
    },
    {
     "name": "stderr",
     "output_type": "stream",
     "text": [
      "\r",
      " 82%|████████▏ | 1033/1261 [06:28<01:37,  2.33it/s]"
     ]
    },
    {
     "name": "stdout",
     "output_type": "stream",
     "text": [
      "[216 217 218 ..., 279 280 281]\n",
      "[640 640 640 ..., 399 399 399]\n",
      "[1070 1071 1072 ..., 1130 1131 1132]\n",
      "[640 640 640 ..., 319 319 319]\n"
     ]
    },
    {
     "name": "stderr",
     "output_type": "stream",
     "text": [
      "\r",
      " 82%|████████▏ | 1034/1261 [06:28<01:41,  2.24it/s]"
     ]
    },
    {
     "name": "stdout",
     "output_type": "stream",
     "text": [
      "[216 217 218 ..., 278 279 280]\n",
      "[640 640 640 ..., 397 397 397]\n",
      "[1065 1066 1067 ..., 1206 1207 1208]\n",
      "[640 640 640 ...,  20  20  20]\n"
     ]
    },
    {
     "name": "stderr",
     "output_type": "stream",
     "text": [
      "\r",
      " 82%|████████▏ | 1035/1261 [06:29<01:36,  2.33it/s]"
     ]
    },
    {
     "name": "stdout",
     "output_type": "stream",
     "text": [
      "[219 220 221 ..., 378 379 380]\n",
      "[640 640 640 ...,  40  40  40]\n",
      "[1070 1071 1072 ..., 1191 1192 1193]\n",
      "[640 640 640 ...,  59  59  59]\n"
     ]
    },
    {
     "name": "stderr",
     "output_type": "stream",
     "text": [
      "\r",
      " 82%|████████▏ | 1036/1261 [06:29<01:32,  2.43it/s]"
     ]
    },
    {
     "name": "stdout",
     "output_type": "stream",
     "text": [
      "[229 230 231 ..., 405 406 407]\n",
      "[640 640 640 ...,  79  79  79]\n",
      "[1064 1065 1066 ..., 1195 1196 1197]\n",
      "[672 672 672 ...,  79  79  79]\n"
     ]
    },
    {
     "name": "stderr",
     "output_type": "stream",
     "text": [
      "\r",
      " 82%|████████▏ | 1037/1261 [06:29<01:29,  2.49it/s]"
     ]
    },
    {
     "name": "stdout",
     "output_type": "stream",
     "text": [
      "[226 227 228 ..., 393 394 395]\n",
      "[640 640 640 ...,  79  79  79]\n",
      "[1066 1067 1068 ..., 1201 1202 1203]\n",
      "[703 703 703 ...,  79  79  79]\n"
     ]
    },
    {
     "name": "stderr",
     "output_type": "stream",
     "text": [
      "\r",
      " 82%|████████▏ | 1038/1261 [06:30<01:27,  2.55it/s]"
     ]
    },
    {
     "name": "stdout",
     "output_type": "stream",
     "text": [
      "[232 233 234 ..., 387 388 389]\n",
      "[640 640 640 ...,  79  79  79]\n",
      "[1069 1070 1071 ..., 1212 1213 1214]\n",
      "[632 632 632 ...,  79  79  79]\n"
     ]
    },
    {
     "name": "stderr",
     "output_type": "stream",
     "text": [
      "\r",
      " 82%|████████▏ | 1039/1261 [06:30<01:26,  2.58it/s]"
     ]
    },
    {
     "name": "stdout",
     "output_type": "stream",
     "text": [
      "[240 241 242 ..., 416 417 418]\n",
      "[640 640 640 ...,  79  79  79]\n",
      "[1073 1074 1075 ..., 1206 1207 1208]\n",
      "[664 664 664 ...,  79  79  79]\n"
     ]
    },
    {
     "name": "stderr",
     "output_type": "stream",
     "text": [
      "\r",
      " 82%|████████▏ | 1040/1261 [06:31<01:25,  2.59it/s]"
     ]
    },
    {
     "name": "stdout",
     "output_type": "stream",
     "text": [
      "[242 243 244 ..., 381 382 383]\n",
      "[640 640 640 ...,  79  79  79]\n",
      "[1063 1064 1065 ..., 1218 1219 1220]\n",
      "[695 695 695 ...,  79  79  79]\n"
     ]
    },
    {
     "name": "stderr",
     "output_type": "stream",
     "text": [
      "\r",
      " 83%|████████▎ | 1041/1261 [06:31<01:23,  2.63it/s]"
     ]
    },
    {
     "name": "stdout",
     "output_type": "stream",
     "text": [
      "[248 249 250 ..., 387 388 389]\n",
      "[641 641 641 ...,  79  79  79]\n",
      "[1062 1063 1064 ..., 1195 1196 1197]\n",
      "[560 560 560 ..., 159 159 159]\n"
     ]
    },
    {
     "name": "stderr",
     "output_type": "stream",
     "text": [
      "\r",
      " 83%|████████▎ | 1042/1261 [06:31<01:22,  2.66it/s]"
     ]
    },
    {
     "name": "stdout",
     "output_type": "stream",
     "text": [
      "[240 241 242 ..., 393 394 395]\n",
      "[640 640 640 ...,  79  79  79]\n",
      "[1059 1060 1061 ..., 1189 1190 1191]\n",
      "[583 583 583 ..., 159 159 159]\n"
     ]
    },
    {
     "name": "stderr",
     "output_type": "stream",
     "text": [
      "\r",
      " 83%|████████▎ | 1043/1261 [06:32<01:22,  2.63it/s]"
     ]
    },
    {
     "name": "stdout",
     "output_type": "stream",
     "text": [
      "[235 236 237 ..., 381 382 383]\n",
      "[640 640 640 ...,  79  79  79]\n",
      "[1073 1074 1075 ..., 1167 1168 1169]\n",
      "[640 640 640 ..., 239 239 239]\n"
     ]
    },
    {
     "name": "stderr",
     "output_type": "stream",
     "text": [
      "\r",
      " 83%|████████▎ | 1044/1261 [06:32<01:20,  2.69it/s]"
     ]
    },
    {
     "name": "stdout",
     "output_type": "stream",
     "text": [
      "[235 236 237 ..., 393 394 395]\n",
      "[640 640 640 ...,  79  79  79]\n",
      "[1054 1055 1056 ..., 1167 1168 1169]\n",
      "[644 644 644 ..., 239 239 239]\n"
     ]
    },
    {
     "name": "stderr",
     "output_type": "stream",
     "text": [
      "\r",
      " 83%|████████▎ | 1045/1261 [06:33<01:35,  2.27it/s]"
     ]
    },
    {
     "name": "stdout",
     "output_type": "stream",
     "text": [
      "[241 242 232 ..., 369 370 371]\n",
      "[667 667 668 ...,  79  79  79]\n",
      "[1059 1060 1061 ..., 1191 1192 1193]\n",
      "[670 670 670 ..., 239 239 239]\n"
     ]
    },
    {
     "name": "stderr",
     "output_type": "stream",
     "text": [
      "\r",
      " 83%|████████▎ | 1046/1261 [06:33<01:35,  2.26it/s]"
     ]
    },
    {
     "name": "stdout",
     "output_type": "stream",
     "text": [
      "[246 247 241 ..., 410 411 412]\n",
      "[698 698 699 ...,  79  79  79]\n",
      "[1048 1049 1050 ..., 1229 1230 1231]\n",
      "[658 658 658 ...,  40  40  40]\n"
     ]
    },
    {
     "name": "stderr",
     "output_type": "stream",
     "text": [
      "\r",
      " 83%|████████▎ | 1047/1261 [06:34<01:33,  2.28it/s]"
     ]
    },
    {
     "name": "stdout",
     "output_type": "stream",
     "text": [
      "[258 259 260 ..., 405 406 407]\n",
      "[560 560 560 ...,  79  79  79]\n",
      "[1046 1047 1048 ..., 1227 1228 1229]\n",
      "[689 689 689 ...,  59  59  59]\n"
     ]
    },
    {
     "name": "stderr",
     "output_type": "stream",
     "text": [
      "\r",
      " 83%|████████▎ | 1048/1261 [06:34<01:33,  2.28it/s]"
     ]
    },
    {
     "name": "stdout",
     "output_type": "stream",
     "text": [
      "[226 227 228 ..., 357 358 359]\n",
      "[640 640 640 ...,  79  79  79]\n",
      "[1045 1046 1047 ..., 1237 1238 1239]\n",
      "[719 719 719 ...,  40  40  40]\n"
     ]
    },
    {
     "name": "stderr",
     "output_type": "stream",
     "text": [
      "\r",
      " 83%|████████▎ | 1049/1261 [06:34<01:31,  2.31it/s]"
     ]
    },
    {
     "name": "stdout",
     "output_type": "stream",
     "text": [
      "[221 222 223 ..., 363 364 365]\n",
      "[650 650 650 ...,  79  79  79]\n",
      "[1117 1118 1119 ..., 1237 1238 1239]\n",
      "[400 400 400 ...,  77  77  77]\n"
     ]
    },
    {
     "name": "stderr",
     "output_type": "stream",
     "text": [
      "\r",
      " 83%|████████▎ | 1050/1261 [06:35<01:32,  2.28it/s]"
     ]
    },
    {
     "name": "stdout",
     "output_type": "stream",
     "text": [
      "[214 215 216 ..., 351 352 353]\n",
      "[644 644 644 ...,  79  79  79]\n",
      "[1100 1101 1102 ..., 1254 1255 1256]\n",
      "[480 480 480 ...,  79  79  79]\n"
     ]
    },
    {
     "name": "stderr",
     "output_type": "stream",
     "text": [
      "\r",
      " 83%|████████▎ | 1051/1261 [06:35<01:36,  2.18it/s]"
     ]
    },
    {
     "name": "stdout",
     "output_type": "stream",
     "text": [
      "[233 234 235 ..., 363 364 365]\n",
      "[646 646 646 ...,  79  79  79]\n",
      "[1080 1081 1082 ..., 1254 1255 1256]\n",
      "[677 677 677 ...,  79  79  79]\n"
     ]
    },
    {
     "name": "stderr",
     "output_type": "stream",
     "text": [
      "\r",
      " 83%|████████▎ | 1052/1261 [06:36<01:35,  2.19it/s]"
     ]
    },
    {
     "name": "stdout",
     "output_type": "stream",
     "text": [
      "[213 214 215 ..., 375 376 377]\n",
      "[640 640 640 ...,  79  79  79]\n",
      "[1079 1080 1076 ..., 1254 1255 1256]\n",
      "[708 708 709 ...,  79  79  79]\n"
     ]
    },
    {
     "name": "stderr",
     "output_type": "stream",
     "text": [
      "\r",
      " 84%|████████▎ | 1053/1261 [06:36<01:33,  2.22it/s]"
     ]
    },
    {
     "name": "stdout",
     "output_type": "stream",
     "text": [
      "[201 202 203 ..., 363 364 365]\n",
      "[640 640 640 ...,  79  79  79]\n",
      "[1082 1083 1084 ..., 1259 1260 1261]\n",
      "[560 560 560 ...,  79  79  79]\n"
     ]
    },
    {
     "name": "stderr",
     "output_type": "stream",
     "text": [
      "\r",
      " 84%|████████▎ | 1054/1261 [06:37<01:32,  2.24it/s]"
     ]
    },
    {
     "name": "stdout",
     "output_type": "stream",
     "text": [
      "[213 214 215 ..., 416 417 418]\n",
      "[640 640 640 ...,  79  79  79]\n",
      "[1062 1063 1064 ..., 1211 1212 1213]\n",
      "[640 640 640 ..., 159 159 159]\n"
     ]
    },
    {
     "name": "stderr",
     "output_type": "stream",
     "text": [
      "\r",
      " 84%|████████▎ | 1055/1261 [06:37<01:33,  2.21it/s]"
     ]
    },
    {
     "name": "stdout",
     "output_type": "stream",
     "text": [
      "[222 223 224 ..., 440 441 442]\n",
      "[640 640 640 ...,  79  79  79]\n",
      "[1062 1063 1064 ..., 1177 1178 1179]\n",
      "[640 640 640 ..., 239 239 239]\n"
     ]
    },
    {
     "name": "stderr",
     "output_type": "stream",
     "text": [
      "\r",
      " 84%|████████▎ | 1056/1261 [06:38<01:29,  2.29it/s]"
     ]
    },
    {
     "name": "stdout",
     "output_type": "stream",
     "text": [
      "[230 231 232 ..., 452 453 454]\n",
      "[640 640 640 ...,  79  79  79]\n",
      "[1062 1063 1064 ..., 1217 1218 1219]\n",
      "[640 640 640 ...,  40  40  40]\n"
     ]
    },
    {
     "name": "stderr",
     "output_type": "stream",
     "text": [
      "\r",
      " 84%|████████▍ | 1057/1261 [06:38<01:24,  2.41it/s]"
     ]
    },
    {
     "name": "stdout",
     "output_type": "stream",
     "text": [
      "[240 241 242 ..., 469 470 471]\n",
      "[640 640 640 ...,  79  79  79]\n",
      "[1060 1061 1062 ..., 1195 1196 1197]\n",
      "[640 640 640 ...,  79  79  79]\n"
     ]
    },
    {
     "name": "stderr",
     "output_type": "stream",
     "text": [
      "\r",
      " 84%|████████▍ | 1058/1261 [06:38<01:21,  2.49it/s]"
     ]
    },
    {
     "name": "stdout",
     "output_type": "stream",
     "text": [
      "[240 241 242 ..., 463 464 465]\n",
      "[640 640 640 ...,  79  79  79]\n",
      "[1072 1073 1074 ..., 1212 1213 1214]\n",
      "[667 667 667 ...,  79  79  79]\n"
     ]
    },
    {
     "name": "stderr",
     "output_type": "stream",
     "text": [
      "\r",
      " 84%|████████▍ | 1059/1261 [06:39<01:21,  2.46it/s]"
     ]
    },
    {
     "name": "stdout",
     "output_type": "stream",
     "text": [
      "[253 254 255 ..., 493 494 495]\n",
      "[640 640 640 ...,  79  79  79]\n",
      "[1068 1069 1070 ..., 1201 1202 1203]\n",
      "[699 699 699 ...,  79  79  79]\n"
     ]
    },
    {
     "name": "stderr",
     "output_type": "stream",
     "text": [
      "\r",
      " 84%|████████▍ | 1060/1261 [06:39<01:18,  2.57it/s]"
     ]
    },
    {
     "name": "stdout",
     "output_type": "stream",
     "text": [
      "[266 267 268 ..., 493 494 495]\n",
      "[640 640 640 ...,  79  79  79]\n",
      "[1072 1073 1074 ..., 1168 1169 1170]\n",
      "[605 605 605 ..., 159 159 159]\n"
     ]
    },
    {
     "name": "stderr",
     "output_type": "stream",
     "text": [
      "\r",
      " 84%|████████▍ | 1061/1261 [06:39<01:17,  2.59it/s]"
     ]
    },
    {
     "name": "stdout",
     "output_type": "stream",
     "text": [
      "[276 277 278 ..., 522 523 524]\n",
      "[640 640 640 ...,  79  79  79]\n",
      "[1054 1055 1056 ..., 1158 1159 1160]\n",
      "[640 640 640 ..., 159 159 159]\n"
     ]
    },
    {
     "name": "stderr",
     "output_type": "stream",
     "text": [
      "\r",
      " 84%|████████▍ | 1062/1261 [06:40<01:15,  2.62it/s]"
     ]
    },
    {
     "name": "stdout",
     "output_type": "stream",
     "text": [
      "[282 283 284 ..., 517 518 519]\n",
      "[640 640 640 ...,  79  79  79]\n",
      "[1062 1063 1064 ..., 1158 1159 1160]\n",
      "[666 666 666 ..., 159 159 159]\n"
     ]
    },
    {
     "name": "stderr",
     "output_type": "stream",
     "text": [
      "\r",
      " 84%|████████▍ | 1063/1261 [06:40<01:19,  2.49it/s]"
     ]
    },
    {
     "name": "stdout",
     "output_type": "stream",
     "text": [
      "[274 275 276 ..., 481 482 483]\n",
      "[640 640 640 ...,  79  79  79]\n",
      "[1070 1071 1072 ..., 1184 1185 1186]\n",
      "[693 693 693 ..., 159 159 159]\n"
     ]
    },
    {
     "name": "stderr",
     "output_type": "stream",
     "text": [
      "\r",
      " 84%|████████▍ | 1064/1261 [06:41<01:22,  2.38it/s]"
     ]
    },
    {
     "name": "stdout",
     "output_type": "stream",
     "text": [
      "[274 275 276 ..., 458 459 460]\n",
      "[640 640 640 ...,  79  79  79]\n",
      "[1078 1079 1080 ..., 1195 1196 1197]\n",
      "[560 560 560 ..., 159 159 159]\n"
     ]
    },
    {
     "name": "stderr",
     "output_type": "stream",
     "text": [
      "\r",
      " 84%|████████▍ | 1065/1261 [06:41<01:23,  2.35it/s]"
     ]
    },
    {
     "name": "stdout",
     "output_type": "stream",
     "text": [
      "[268 269 270 ..., 434 435 436]\n",
      "[640 640 640 ...,  79  79  79]\n",
      "[1085 1086 1087 ..., 1216 1217 1218]\n",
      "[560 560 560 ..., 159 159 159]\n"
     ]
    },
    {
     "name": "stderr",
     "output_type": "stream",
     "text": [
      "\r",
      " 85%|████████▍ | 1066/1261 [06:42<01:23,  2.34it/s]"
     ]
    },
    {
     "name": "stdout",
     "output_type": "stream",
     "text": [
      "[264 265 266 ..., 422 423 424]\n",
      "[640 640 640 ...,  79  79  79]\n",
      "[1079 1080 1081 ..., 1226 1227 1228]\n",
      "[640 640 640 ..., 159 159 159]\n"
     ]
    },
    {
     "name": "stderr",
     "output_type": "stream",
     "text": [
      "\r",
      " 85%|████████▍ | 1067/1261 [06:42<01:20,  2.40it/s]"
     ]
    },
    {
     "name": "stdout",
     "output_type": "stream",
     "text": [
      "[266 267 268 ..., 422 423 424]\n",
      "[640 640 640 ...,  79  79  79]\n",
      "[1079 1080 1081 ..., 1195 1196 1197]\n",
      "[640 640 640 ..., 239 239 239]\n"
     ]
    },
    {
     "name": "stderr",
     "output_type": "stream",
     "text": [
      "\r",
      " 85%|████████▍ | 1068/1261 [06:43<01:34,  2.04it/s]"
     ]
    },
    {
     "name": "stdout",
     "output_type": "stream",
     "text": [
      "[272 273 274 ..., 410 411 412]\n",
      "[640 640 640 ...,  79  79  79]\n",
      "[1081 1082 1083 ..., 1195 1196 1197]\n",
      "[640 640 640 ..., 239 239 239]\n"
     ]
    },
    {
     "name": "stderr",
     "output_type": "stream",
     "text": [
      "\r",
      " 85%|████████▍ | 1069/1261 [06:43<01:27,  2.20it/s]"
     ]
    },
    {
     "name": "stdout",
     "output_type": "stream",
     "text": [
      "[272 273 274 ..., 428 429 430]\n",
      "[640 640 640 ...,  79  79  79]\n",
      "[1087 1088 1089 ..., 1167 1168 1169]\n",
      "[646 646 646 ..., 319 319 319]\n"
     ]
    },
    {
     "name": "stderr",
     "output_type": "stream",
     "text": [
      "\r",
      " 85%|████████▍ | 1070/1261 [06:43<01:23,  2.28it/s]"
     ]
    },
    {
     "name": "stdout",
     "output_type": "stream",
     "text": [
      "[274 275 276 ..., 428 429 430]\n",
      "[640 640 640 ...,  79  79  79]\n",
      "[1080 1081 1082 ..., 1241 1242 1243]\n",
      "[679 679 679 ...,  40  40  40]\n"
     ]
    },
    {
     "name": "stderr",
     "output_type": "stream",
     "text": [
      "\r",
      " 85%|████████▍ | 1071/1261 [06:44<01:20,  2.36it/s]"
     ]
    },
    {
     "name": "stdout",
     "output_type": "stream",
     "text": [
      "[276 277 278 ..., 422 423 424]\n",
      "[640 640 640 ...,  79  79  79]\n",
      "[1082 1083 1079 ..., 1247 1248 1249]\n",
      "[709 709 710 ...,  40  40  40]\n"
     ]
    },
    {
     "name": "stderr",
     "output_type": "stream",
     "text": [
      "\r",
      " 85%|████████▌ | 1072/1261 [06:44<01:15,  2.49it/s]"
     ]
    },
    {
     "name": "stdout",
     "output_type": "stream",
     "text": [
      "[274 275 276 ..., 434 435 436]\n",
      "[640 640 640 ...,  79  79  79]\n",
      "[1106 1107 1108 ..., 1248 1249 1250]\n",
      "[605 605 605 ...,  79  79  79]\n"
     ]
    },
    {
     "name": "stderr",
     "output_type": "stream",
     "text": [
      "\r",
      " 85%|████████▌ | 1073/1261 [06:44<01:11,  2.62it/s]"
     ]
    },
    {
     "name": "stdout",
     "output_type": "stream",
     "text": [
      "[274 275 276 ..., 416 417 418]\n",
      "[640 640 640 ...,  79  79  79]\n",
      "[1089 1090 1091 ..., 1265 1266 1267]\n",
      "[640 640 640 ...,  79  79  79]\n"
     ]
    },
    {
     "name": "stderr",
     "output_type": "stream",
     "text": [
      "\r",
      " 85%|████████▌ | 1074/1261 [06:45<01:12,  2.58it/s]"
     ]
    },
    {
     "name": "stdout",
     "output_type": "stream",
     "text": [
      "[276 277 278 ..., 440 441 442]\n",
      "[640 640 640 ...,  79  79  79]\n",
      "[1113 1114 1115 ..., 1265 1266 1267]\n",
      "[668 668 668 ...,  79  79  79]\n"
     ]
    },
    {
     "name": "stderr",
     "output_type": "stream",
     "text": [
      "\r",
      " 85%|████████▌ | 1075/1261 [06:45<01:11,  2.59it/s]"
     ]
    },
    {
     "name": "stdout",
     "output_type": "stream",
     "text": [
      "[279 280 281 ..., 405 406 407]\n",
      "[640 640 640 ...,  79  79  79]\n",
      "[1095 1096 1097 ..., 1259 1260 1261]\n",
      "[702 702 702 ...,  79  79  79]\n"
     ]
    },
    {
     "name": "stderr",
     "output_type": "stream",
     "text": [
      "\r",
      " 85%|████████▌ | 1076/1261 [06:46<01:09,  2.66it/s]"
     ]
    },
    {
     "name": "stdout",
     "output_type": "stream",
     "text": [
      "[280 281 282 ..., 440 441 442]\n",
      "[640 640 640 ...,  79  79  79]\n",
      "[1093 1094 1095 ..., 1237 1238 1239]\n",
      "[560 560 560 ..., 159 159 159]\n"
     ]
    },
    {
     "name": "stderr",
     "output_type": "stream",
     "text": [
      "\r",
      " 85%|████████▌ | 1077/1261 [06:46<01:09,  2.66it/s]"
     ]
    },
    {
     "name": "stdout",
     "output_type": "stream",
     "text": [
      "[288 289 290 ..., 458 459 460]\n",
      "[640 640 640 ...,  79  79  79]\n",
      "[1079 1080 1081 ..., 1226 1227 1228]\n",
      "[640 640 640 ..., 159 159 159]\n"
     ]
    },
    {
     "name": "stderr",
     "output_type": "stream",
     "text": [
      "\r",
      " 85%|████████▌ | 1078/1261 [06:46<01:11,  2.55it/s]"
     ]
    },
    {
     "name": "stdout",
     "output_type": "stream",
     "text": [
      "[292 293 294 ..., 446 447 448]\n",
      "[640 640 640 ...,  79  79  79]\n",
      "[1081 1082 1083 ..., 1200 1201 1202]\n",
      "[640 640 640 ..., 239 239 239]\n"
     ]
    },
    {
     "name": "stderr",
     "output_type": "stream",
     "text": [
      "\r",
      " 86%|████████▌ | 1079/1261 [06:47<01:12,  2.50it/s]"
     ]
    },
    {
     "name": "stdout",
     "output_type": "stream",
     "text": [
      "[293 294 295 ..., 458 459 460]\n",
      "[640 640 640 ...,  79  79  79]\n",
      "[1081 1082 1083 ..., 1205 1206 1207]\n",
      "[640 640 640 ..., 239 239 239]\n"
     ]
    },
    {
     "name": "stderr",
     "output_type": "stream",
     "text": [
      "\r",
      " 86%|████████▌ | 1080/1261 [06:47<01:14,  2.44it/s]"
     ]
    },
    {
     "name": "stdout",
     "output_type": "stream",
     "text": [
      "[295 296 297 ..., 463 464 465]\n",
      "[640 640 640 ...,  79  79  79]\n",
      "[1084 1085 1086 ..., 1187 1188 1189]\n",
      "[640 640 640 ..., 319 319 319]\n"
     ]
    },
    {
     "name": "stderr",
     "output_type": "stream",
     "text": [
      "\r",
      " 86%|████████▌ | 1081/1261 [06:48<01:14,  2.41it/s]"
     ]
    },
    {
     "name": "stdout",
     "output_type": "stream",
     "text": [
      "[293 294 295 ..., 410 411 412]\n",
      "[640 640 640 ...,  79  79  79]\n",
      "[1105 1106 1107 ..., 1199 1200 1201]\n",
      "[656 656 656 ..., 319 319 319]\n"
     ]
    },
    {
     "name": "stderr",
     "output_type": "stream",
     "text": [
      "\r",
      " 86%|████████▌ | 1082/1261 [06:48<01:13,  2.42it/s]"
     ]
    },
    {
     "name": "stdout",
     "output_type": "stream",
     "text": [
      "[298 299 300 ..., 446 447 448]\n",
      "[640 640 640 ...,  79  79  79]\n",
      "[1098 1099 1100 ..., 1277 1278 1279]\n",
      "[689 689 689 ...,  20  20  20]\n"
     ]
    },
    {
     "name": "stderr",
     "output_type": "stream",
     "text": [
      "\r",
      " 86%|████████▌ | 1083/1261 [06:49<01:13,  2.42it/s]"
     ]
    },
    {
     "name": "stdout",
     "output_type": "stream",
     "text": [
      "[295 296 297 ..., 446 447 448]\n",
      "[640 640 640 ...,  79  79  79]\n",
      "[1128 1129 1130 ..., 1269 1270 1271]\n",
      "[586 586 586 ...,  59  59  59]\n"
     ]
    },
    {
     "name": "stderr",
     "output_type": "stream",
     "text": [
      "\r",
      " 86%|████████▌ | 1084/1261 [06:49<01:16,  2.32it/s]"
     ]
    },
    {
     "name": "stdout",
     "output_type": "stream",
     "text": [
      "[293 294 295 ..., 440 441 442]\n",
      "[640 640 640 ...,  79  79  79]\n",
      "[1122 1123 1124 ..., 1277 1278 1279]\n",
      "[618 618 618 ...,  79  79  79]\n"
     ]
    },
    {
     "name": "stderr",
     "output_type": "stream",
     "text": [
      "\r",
      " 86%|████████▌ | 1085/1261 [06:50<01:26,  2.04it/s]"
     ]
    },
    {
     "name": "stdout",
     "output_type": "stream",
     "text": [
      "[295 296 297 ..., 463 464 465]\n",
      "[640 640 640 ...,  79  79  79]\n",
      "[1125 1126 1127 ..., 1277 1278 1279]\n",
      "[651 651 651 ...,  79  79  79]\n"
     ]
    },
    {
     "name": "stderr",
     "output_type": "stream",
     "text": [
      "\r",
      " 86%|████████▌ | 1086/1261 [06:50<01:20,  2.17it/s]"
     ]
    },
    {
     "name": "stdout",
     "output_type": "stream",
     "text": [
      "[290 291 292 ..., 440 441 442]\n",
      "[640 640 640 ...,  79  79  79]\n",
      "[1115 1116 1117 ..., 1277 1278 1279]\n",
      "[684 684 684 ...,  79  79  79]\n"
     ]
    },
    {
     "name": "stderr",
     "output_type": "stream",
     "text": [
      "\r",
      " 86%|████████▌ | 1087/1261 [06:50<01:16,  2.28it/s]"
     ]
    },
    {
     "name": "stdout",
     "output_type": "stream",
     "text": [
      "[292 293 294 ..., 446 447 448]\n",
      "[640 640 640 ...,  79  79  79]\n",
      "[1113 1114 1115 ..., 1277 1278 1279]\n",
      "[717 717 717 ...,  79  79  79]\n"
     ]
    },
    {
     "name": "stderr",
     "output_type": "stream",
     "text": [
      "\r",
      " 86%|████████▋ | 1088/1261 [06:51<01:11,  2.43it/s]"
     ]
    },
    {
     "name": "stdout",
     "output_type": "stream",
     "text": [
      "[293 294 295 ..., 452 453 454]\n",
      "[640 640 640 ...,  79  79  79]\n",
      "[1113 1114 1115 ..., 1253 1254 1255]\n",
      "[560 560 560 ..., 159 159 159]\n"
     ]
    },
    {
     "name": "stderr",
     "output_type": "stream",
     "text": [
      "\r",
      " 86%|████████▋ | 1089/1261 [06:51<01:09,  2.49it/s]"
     ]
    },
    {
     "name": "stdout",
     "output_type": "stream",
     "text": [
      "[293 294 295 ..., 452 453 454]\n",
      "[640 640 640 ...,  79  79  79]\n",
      "[1100 1101 1102 ..., 1248 1249 1250]\n",
      "[640 640 640 ..., 159 159 159]\n"
     ]
    },
    {
     "name": "stderr",
     "output_type": "stream",
     "text": [
      "\r",
      " 86%|████████▋ | 1090/1261 [06:51<01:06,  2.58it/s]"
     ]
    },
    {
     "name": "stdout",
     "output_type": "stream",
     "text": [
      "[296 297 298 ..., 458 459 460]\n",
      "[640 640 640 ...,  79  79  79]\n",
      "[1097 1098 1099 ..., 1210 1211 1212]\n",
      "[640 640 640 ..., 239 239 239]\n"
     ]
    },
    {
     "name": "stderr",
     "output_type": "stream",
     "text": [
      "\r",
      " 87%|████████▋ | 1091/1261 [06:52<01:08,  2.49it/s]"
     ]
    },
    {
     "name": "stdout",
     "output_type": "stream",
     "text": [
      "[296 297 298 ..., 440 441 442]\n",
      "[640 640 640 ...,  79  79  79]\n",
      "[1099 1100 1101 ..., 1214 1215 1216]\n",
      "[640 640 640 ..., 239 239 239]\n"
     ]
    },
    {
     "name": "stderr",
     "output_type": "stream",
     "text": [
      "\r",
      " 87%|████████▋ | 1092/1261 [06:52<01:07,  2.51it/s]"
     ]
    },
    {
     "name": "stdout",
     "output_type": "stream",
     "text": [
      "[295 296 297 ..., 446 447 448]\n",
      "[640 640 640 ...,  79  79  79]\n",
      "[1105 1106 1107 ..., 1183 1184 1185]\n",
      "[640 640 640 ..., 319 319 319]\n"
     ]
    },
    {
     "name": "stderr",
     "output_type": "stream",
     "text": [
      "\r",
      " 87%|████████▋ | 1093/1261 [06:53<01:05,  2.57it/s]"
     ]
    },
    {
     "name": "stdout",
     "output_type": "stream",
     "text": [
      "[296 297 298 ..., 440 441 442]\n",
      "[640 640 640 ...,  79  79  79]\n",
      "[1102 1103 1104 ..., 1229 1230 1231]\n",
      "[671 671 671 ..., 156 156 156]\n"
     ]
    },
    {
     "name": "stderr",
     "output_type": "stream",
     "text": [
      "\r",
      " 87%|████████▋ | 1094/1261 [06:53<01:08,  2.42it/s]"
     ]
    },
    {
     "name": "stdout",
     "output_type": "stream",
     "text": [
      "[296 297 298 ..., 428 429 430]\n",
      "[640 640 640 ...,  79  79  79]\n",
      "[1099 1100 1101 ..., 1277 1278 1279]\n",
      "[703 703 703 ...,  20  20  20]\n"
     ]
    },
    {
     "name": "stderr",
     "output_type": "stream",
     "text": [
      "\r",
      " 87%|████████▋ | 1095/1261 [06:54<01:07,  2.45it/s]"
     ]
    },
    {
     "name": "stdout",
     "output_type": "stream",
     "text": [
      "[300 301 302 ..., 440 441 442]\n",
      "[640 640 640 ...,  79  79  79]\n",
      "[1111 1112 1113 ..., 1248 1249 1250]\n",
      "[607 607 607 ...,  79  79  79]\n"
     ]
    },
    {
     "name": "stderr",
     "output_type": "stream",
     "text": [
      "\r",
      " 87%|████████▋ | 1096/1261 [06:54<01:13,  2.25it/s]"
     ]
    },
    {
     "name": "stdout",
     "output_type": "stream",
     "text": [
      "[300 301 302 ..., 458 459 460]\n",
      "[640 640 640 ...,  79  79  79]\n",
      "[1105 1106 1107 ..., 1259 1260 1261]\n",
      "[640 640 640 ...,  79  79  79]\n"
     ]
    },
    {
     "name": "stderr",
     "output_type": "stream",
     "text": [
      "\r",
      " 87%|████████▋ | 1097/1261 [06:54<01:08,  2.39it/s]"
     ]
    },
    {
     "name": "stdout",
     "output_type": "stream",
     "text": [
      "[300 301 302 ..., 440 441 442]\n",
      "[640 640 640 ...,  79  79  79]\n",
      "[1108 1109 1110 ..., 1254 1255 1256]\n",
      "[671 671 671 ...,  79  79  79]\n"
     ]
    },
    {
     "name": "stderr",
     "output_type": "stream",
     "text": [
      "\r",
      " 87%|████████▋ | 1098/1261 [06:55<01:05,  2.48it/s]"
     ]
    },
    {
     "name": "stdout",
     "output_type": "stream",
     "text": [
      "[301 302 303 ..., 446 447 448]\n",
      "[640 640 640 ...,  79  79  79]\n",
      "[1102 1103 1104 ..., 1254 1255 1256]\n",
      "[704 704 704 ...,  79  79  79]\n"
     ]
    },
    {
     "name": "stderr",
     "output_type": "stream",
     "text": [
      "\r",
      " 87%|████████▋ | 1099/1261 [06:55<01:02,  2.58it/s]"
     ]
    },
    {
     "name": "stdout",
     "output_type": "stream",
     "text": [
      "[301 302 303 ..., 440 441 442]\n",
      "[640 640 640 ...,  79  79  79]\n",
      "[1100 1101 1102 ..., 1232 1233 1234]\n",
      "[560 560 560 ..., 159 159 159]\n"
     ]
    },
    {
     "name": "stderr",
     "output_type": "stream",
     "text": [
      "\r",
      " 87%|████████▋ | 1100/1261 [06:56<01:01,  2.60it/s]"
     ]
    },
    {
     "name": "stdout",
     "output_type": "stream",
     "text": [
      "[306 307 308 ..., 446 447 448]\n",
      "[640 640 640 ...,  79  79  79]\n",
      "[1102 1103 1104 ..., 1226 1227 1228]\n",
      "[560 560 560 ..., 159 159 159]\n"
     ]
    },
    {
     "name": "stderr",
     "output_type": "stream",
     "text": [
      "\r",
      " 87%|████████▋ | 1101/1261 [06:56<01:04,  2.50it/s]"
     ]
    },
    {
     "name": "stdout",
     "output_type": "stream",
     "text": [
      "[306 307 308 ..., 446 447 448]\n",
      "[640 640 640 ...,  79  79  79]\n",
      "[1094 1095 1096 ..., 1205 1206 1207]\n",
      "[640 640 640 ..., 239 239 239]\n"
     ]
    },
    {
     "name": "stderr",
     "output_type": "stream",
     "text": [
      "\r",
      " 87%|████████▋ | 1102/1261 [06:56<01:03,  2.51it/s]"
     ]
    },
    {
     "name": "stdout",
     "output_type": "stream",
     "text": [
      "[301 302 303 ..., 422 423 424]\n",
      "[640 640 640 ...,  79  79  79]\n",
      "[1102 1103 1104 ..., 1224 1225 1226]\n",
      "[640 640 640 ..., 239 239 239]\n"
     ]
    },
    {
     "name": "stderr",
     "output_type": "stream",
     "text": [
      "\r",
      " 87%|████████▋ | 1103/1261 [06:57<01:01,  2.57it/s]"
     ]
    },
    {
     "name": "stdout",
     "output_type": "stream",
     "text": [
      "[306 307 308 ..., 428 429 430]\n",
      "[640 640 640 ...,  79  79  79]\n",
      "[1103 1104 1105 ..., 1219 1220 1221]\n",
      "[640 640 640 ..., 239 239 239]\n"
     ]
    },
    {
     "name": "stderr",
     "output_type": "stream",
     "text": [
      "\r",
      " 88%|████████▊ | 1104/1261 [06:57<00:59,  2.64it/s]"
     ]
    },
    {
     "name": "stdout",
     "output_type": "stream",
     "text": [
      "[308 309 310 ..., 428 429 430]\n",
      "[640 640 640 ...,  79  79  79]\n",
      "[1121 1122 1123 ..., 1203 1204 1205]\n",
      "[654 654 654 ..., 319 319 319]\n"
     ]
    },
    {
     "name": "stderr",
     "output_type": "stream",
     "text": [
      "\r",
      " 88%|████████▊ | 1105/1261 [06:57<00:58,  2.69it/s]"
     ]
    },
    {
     "name": "stdout",
     "output_type": "stream",
     "text": [
      "[311 312 313 ..., 428 429 430]\n",
      "[640 640 640 ...,  79  79  79]\n",
      "[1109 1110 1111 ..., 1269 1270 1271]\n",
      "[686 686 686 ...,  20  20  20]\n"
     ]
    },
    {
     "name": "stderr",
     "output_type": "stream",
     "text": [
      "\r",
      " 88%|████████▊ | 1106/1261 [06:58<00:57,  2.72it/s]"
     ]
    },
    {
     "name": "stdout",
     "output_type": "stream",
     "text": [
      "[314 315 316 ..., 440 441 442]\n",
      "[640 640 640 ...,  79  79  79]\n",
      "[1104 1105 1113 ..., 1243 1244 1245]\n",
      "[719 719 719 ...,  77  77  77]\n"
     ]
    },
    {
     "name": "stderr",
     "output_type": "stream",
     "text": [
      "\r",
      " 88%|████████▊ | 1107/1261 [06:58<00:55,  2.76it/s]"
     ]
    },
    {
     "name": "stdout",
     "output_type": "stream",
     "text": [
      "[313 314 315 ..., 428 429 430]\n",
      "[640 640 640 ...,  79  79  79]\n",
      "[1145 1146 1147 ..., 1254 1255 1256]\n",
      "[617 617 617 ...,  79  79  79]\n"
     ]
    },
    {
     "name": "stderr",
     "output_type": "stream",
     "text": [
      "\r",
      " 88%|████████▊ | 1108/1261 [06:58<00:54,  2.81it/s]"
     ]
    },
    {
     "name": "stdout",
     "output_type": "stream",
     "text": [
      "[316 317 318 ..., 452 453 454]\n",
      "[640 640 640 ...,  79  79  79]\n",
      "[1124 1125 1126 ..., 1259 1260 1261]\n",
      "[652 652 652 ...,  79  79  79]\n"
     ]
    },
    {
     "name": "stderr",
     "output_type": "stream",
     "text": [
      "\r",
      " 88%|████████▊ | 1109/1261 [06:59<00:53,  2.86it/s]"
     ]
    },
    {
     "name": "stdout",
     "output_type": "stream",
     "text": [
      "[314 315 316 ..., 434 435 436]\n",
      "[640 640 640 ...,  79  79  79]\n",
      "[1134 1135 1136 ..., 1271 1272 1273]\n",
      "[684 684 684 ...,  79  79  79]\n"
     ]
    },
    {
     "name": "stderr",
     "output_type": "stream",
     "text": [
      "\r",
      " 88%|████████▊ | 1110/1261 [06:59<00:56,  2.69it/s]"
     ]
    },
    {
     "name": "stdout",
     "output_type": "stream",
     "text": [
      "[314 315 316 ..., 434 435 436]\n",
      "[640 640 640 ...,  79  79  79]\n",
      "[1115 1116 1117 ..., 1265 1266 1267]\n",
      "[718 718 718 ...,  79  79  79]\n"
     ]
    },
    {
     "name": "stderr",
     "output_type": "stream",
     "text": [
      "\r",
      " 88%|████████▊ | 1111/1261 [07:00<00:56,  2.66it/s]"
     ]
    },
    {
     "name": "stdout",
     "output_type": "stream",
     "text": [
      "[314 315 316 ..., 446 447 448]\n",
      "[640 640 640 ...,  79  79  79]\n",
      "[1116 1117 1118 ..., 1226 1227 1228]\n",
      "[560 560 560 ..., 159 159 159]\n"
     ]
    },
    {
     "name": "stderr",
     "output_type": "stream",
     "text": [
      "\r",
      " 88%|████████▊ | 1112/1261 [07:00<00:55,  2.70it/s]"
     ]
    },
    {
     "name": "stdout",
     "output_type": "stream",
     "text": [
      "[311 312 313 ..., 434 435 436]\n",
      "[640 640 640 ...,  79  79  79]\n",
      "[1112 1113 1114 ..., 1226 1227 1228]\n",
      "[640 640 640 ..., 159 159 159]\n"
     ]
    },
    {
     "name": "stderr",
     "output_type": "stream",
     "text": [
      "\r",
      " 88%|████████▊ | 1113/1261 [07:00<00:54,  2.72it/s]"
     ]
    },
    {
     "name": "stdout",
     "output_type": "stream",
     "text": [
      "[311 312 313 ..., 440 441 442]\n",
      "[640 640 640 ...,  79  79  79]\n",
      "[1107 1108 1109 ..., 1195 1196 1197]\n",
      "[640 640 640 ..., 239 239 239]\n"
     ]
    },
    {
     "name": "stderr",
     "output_type": "stream",
     "text": [
      "\r",
      " 88%|████████▊ | 1114/1261 [07:01<00:53,  2.75it/s]"
     ]
    },
    {
     "name": "stdout",
     "output_type": "stream",
     "text": [
      "[311 312 313 ..., 434 435 436]\n",
      "[640 640 640 ...,  79  79  79]\n",
      "[1103 1104 1105 ..., 1195 1196 1197]\n",
      "[640 640 640 ..., 239 239 239]\n"
     ]
    },
    {
     "name": "stderr",
     "output_type": "stream",
     "text": [
      "\r",
      " 88%|████████▊ | 1115/1261 [07:01<00:52,  2.79it/s]"
     ]
    },
    {
     "name": "stdout",
     "output_type": "stream",
     "text": [
      "[306 307 308 ..., 422 423 424]\n",
      "[640 640 640 ...,  79  79  79]\n",
      "[1110 1111 1112 ..., 1171 1172 1173]\n",
      "[640 640 640 ..., 319 319 319]\n"
     ]
    },
    {
     "name": "stderr",
     "output_type": "stream",
     "text": [
      "\r",
      " 89%|████████▊ | 1116/1261 [07:01<00:51,  2.81it/s]"
     ]
    },
    {
     "name": "stdout",
     "output_type": "stream",
     "text": [
      "[311 312 313 ..., 434 435 436]\n",
      "[640 640 640 ...,  79  79  79]\n",
      "[1104 1105 1106 ..., 1227 1228 1229]\n",
      "[673 673 673 ...,  59  59  59]\n"
     ]
    },
    {
     "name": "stderr",
     "output_type": "stream",
     "text": [
      "\r",
      " 89%|████████▊ | 1117/1261 [07:02<00:50,  2.85it/s]"
     ]
    },
    {
     "name": "stdout",
     "output_type": "stream",
     "text": [
      "[313 314 315 ..., 434 435 436]\n",
      "[640 640 640 ...,  79  79  79]\n",
      "[1099 1100 1101 ..., 1224 1225 1226]\n",
      "[705 705 705 ...,  79  79  79]\n"
     ]
    },
    {
     "name": "stderr",
     "output_type": "stream",
     "text": [
      "\r",
      " 89%|████████▊ | 1118/1261 [07:02<00:51,  2.79it/s]"
     ]
    },
    {
     "name": "stdout",
     "output_type": "stream",
     "text": [
      "[311 312 313 ..., 452 453 454]\n",
      "[640 640 640 ...,  79  79  79]\n",
      "[1103 1104 1105 ..., 1236 1237 1238]\n",
      "[612 612 612 ...,  79  79  79]\n"
     ]
    },
    {
     "name": "stderr",
     "output_type": "stream",
     "text": [
      "\r",
      " 89%|████████▊ | 1119/1261 [07:02<00:52,  2.73it/s]"
     ]
    },
    {
     "name": "stdout",
     "output_type": "stream",
     "text": [
      "[308 309 310 ..., 440 441 442]\n",
      "[640 640 640 ...,  79  79  79]\n",
      "[1103 1104 1105 ..., 1242 1243 1244]\n",
      "[643 643 643 ...,  79  79  79]\n"
     ]
    },
    {
     "name": "stderr",
     "output_type": "stream",
     "text": [
      "\r",
      " 89%|████████▉ | 1120/1261 [07:03<00:50,  2.79it/s]"
     ]
    },
    {
     "name": "stdout",
     "output_type": "stream",
     "text": [
      "[305 306 307 ..., 416 417 418]\n",
      "[640 640 640 ...,  79  79  79]\n",
      "[1089 1090 1091 ..., 1254 1255 1256]\n",
      "[672 672 672 ...,  79  79  79]\n"
     ]
    },
    {
     "name": "stderr",
     "output_type": "stream",
     "text": [
      "\r",
      " 89%|████████▉ | 1121/1261 [07:03<00:55,  2.50it/s]"
     ]
    },
    {
     "name": "stdout",
     "output_type": "stream",
     "text": [
      "[303 304 305 ..., 405 406 407]\n",
      "[640 640 640 ...,  79  79  79]\n",
      "[1091 1092 1088 ..., 1259 1260 1261]\n",
      "[703 703 704 ...,  79  79  79]\n"
     ]
    },
    {
     "name": "stderr",
     "output_type": "stream",
     "text": [
      "\r",
      " 89%|████████▉ | 1122/1261 [07:04<00:52,  2.63it/s]"
     ]
    },
    {
     "name": "stdout",
     "output_type": "stream",
     "text": [
      "[301 302 303 ..., 399 400 401]\n",
      "[640 640 640 ...,  79  79  79]\n",
      "[1100 1101 1102 ..., 1265 1266 1267]\n",
      "[560 560 560 ...,  79  79  79]\n"
     ]
    },
    {
     "name": "stderr",
     "output_type": "stream",
     "text": [
      "\r",
      " 89%|████████▉ | 1123/1261 [07:04<00:51,  2.70it/s]"
     ]
    },
    {
     "name": "stdout",
     "output_type": "stream",
     "text": [
      "[296 297 298 ..., 387 388 389]\n",
      "[640 640 640 ...,  79  79  79]\n",
      "[1102 1103 1104 ..., 1277 1278 1279]\n",
      "[560 560 560 ...,  79  79  79]\n"
     ]
    },
    {
     "name": "stderr",
     "output_type": "stream",
     "text": [
      "\r",
      " 89%|████████▉ | 1124/1261 [07:04<00:54,  2.50it/s]"
     ]
    },
    {
     "name": "stdout",
     "output_type": "stream",
     "text": [
      "[300 301 302 ..., 399 400 401]\n",
      "[640 640 640 ...,  79  79  79]\n",
      "[1092 1093 1094 ..., 1242 1243 1244]\n",
      "[640 640 640 ..., 159 159 159]\n"
     ]
    },
    {
     "name": "stderr",
     "output_type": "stream",
     "text": [
      "\r",
      " 89%|████████▉ | 1125/1261 [07:05<00:51,  2.62it/s]"
     ]
    },
    {
     "name": "stdout",
     "output_type": "stream",
     "text": [
      "[298 299 300 ..., 393 394 395]\n",
      "[640 640 640 ...,  79  79  79]\n",
      "[1095 1096 1097 ..., 1224 1225 1226]\n",
      "[640 640 640 ..., 239 239 239]\n"
     ]
    },
    {
     "name": "stderr",
     "output_type": "stream",
     "text": [
      "\r",
      " 89%|████████▉ | 1126/1261 [07:05<00:49,  2.72it/s]"
     ]
    },
    {
     "name": "stdout",
     "output_type": "stream",
     "text": [
      "[300 301 302 ..., 393 394 395]\n",
      "[640 640 640 ...,  79  79  79]\n",
      "[1095 1096 1097 ..., 1224 1225 1226]\n",
      "[640 640 640 ..., 239 239 239]\n"
     ]
    },
    {
     "name": "stderr",
     "output_type": "stream",
     "text": [
      "\r",
      " 89%|████████▉ | 1127/1261 [07:06<00:50,  2.67it/s]"
     ]
    },
    {
     "name": "stdout",
     "output_type": "stream",
     "text": [
      "[301 302 303 ..., 405 406 407]\n",
      "[640 640 640 ...,  79  79  79]\n",
      "[1109 1110 1111 ..., 1191 1192 1193]\n",
      "[658 658 658 ..., 319 319 319]\n"
     ]
    },
    {
     "name": "stderr",
     "output_type": "stream",
     "text": [
      "\r",
      " 89%|████████▉ | 1128/1261 [07:06<00:48,  2.76it/s]"
     ]
    },
    {
     "name": "stdout",
     "output_type": "stream",
     "text": [
      "[298 299 300 ..., 399 400 401]\n",
      "[640 640 640 ...,  79  79  79]\n",
      "[1103 1104 1105 ..., 1195 1196 1197]\n",
      "[691 691 691 ..., 319 319 319]\n"
     ]
    },
    {
     "name": "stderr",
     "output_type": "stream",
     "text": [
      "\r",
      " 90%|████████▉ | 1129/1261 [07:06<00:46,  2.85it/s]"
     ]
    },
    {
     "name": "stdout",
     "output_type": "stream",
     "text": [
      "[301 302 303 ..., 416 417 418]\n",
      "[640 640 640 ...,  79  79  79]\n",
      "[1136 1137 1138 ..., 1237 1238 1239]\n",
      "[588 588 588 ...,  77  77  77]\n"
     ]
    },
    {
     "name": "stderr",
     "output_type": "stream",
     "text": [
      "\r",
      " 90%|████████▉ | 1130/1261 [07:07<00:45,  2.91it/s]"
     ]
    },
    {
     "name": "stdout",
     "output_type": "stream",
     "text": [
      "[301 302 303 ..., 422 423 424]\n",
      "[640 640 640 ...,  79  79  79]\n",
      "[1117 1118 1119 ..., 1259 1260 1261]\n",
      "[623 623 623 ...,  79  79  79]\n"
     ]
    },
    {
     "name": "stderr",
     "output_type": "stream",
     "text": [
      "\r",
      " 90%|████████▉ | 1131/1261 [07:07<00:43,  2.97it/s]"
     ]
    },
    {
     "name": "stdout",
     "output_type": "stream",
     "text": [
      "[301 302 303 ..., 416 417 418]\n",
      "[640 640 640 ...,  79  79  79]\n",
      "[1117 1118 1119 ..., 1265 1266 1267]\n",
      "[656 656 656 ...,  79  79  79]\n"
     ]
    },
    {
     "name": "stderr",
     "output_type": "stream",
     "text": [
      "\r",
      " 90%|████████▉ | 1132/1261 [07:07<00:44,  2.93it/s]"
     ]
    },
    {
     "name": "stdout",
     "output_type": "stream",
     "text": [
      "[303 304 305 ..., 446 447 448]\n",
      "[640 640 640 ...,  79  79  79]\n",
      "[1107 1108 1109 ..., 1248 1249 1250]\n",
      "[691 691 691 ...,  79  79  79]\n"
     ]
    },
    {
     "name": "stderr",
     "output_type": "stream",
     "text": [
      "\r",
      " 90%|████████▉ | 1133/1261 [07:08<00:43,  2.98it/s]"
     ]
    },
    {
     "name": "stdout",
     "output_type": "stream",
     "text": [
      "[298 299 300 ..., 422 423 424]\n",
      "[640 640 640 ...,  79  79  79]\n",
      "[1100 1101 1102 ..., 1259 1260 1261]\n",
      "[560 560 560 ...,  79  79  79]\n"
     ]
    },
    {
     "name": "stderr",
     "output_type": "stream",
     "text": [
      "\r",
      " 90%|████████▉ | 1134/1261 [07:08<00:42,  2.97it/s]"
     ]
    },
    {
     "name": "stdout",
     "output_type": "stream",
     "text": [
      "[298 299 300 ..., 428 429 430]\n",
      "[640 640 640 ...,  79  79  79]\n",
      "[1098 1099 1100 ..., 1226 1227 1228]\n",
      "[560 560 560 ..., 159 159 159]\n"
     ]
    },
    {
     "name": "stderr",
     "output_type": "stream",
     "text": [
      "\r",
      " 90%|█████████ | 1135/1261 [07:08<00:42,  2.95it/s]"
     ]
    },
    {
     "name": "stdout",
     "output_type": "stream",
     "text": [
      "[296 297 298 ..., 422 423 424]\n",
      "[640 640 640 ...,  79  79  79]\n",
      "[1089 1090 1091 ..., 1221 1222 1223]\n",
      "[640 640 640 ..., 159 159 159]\n"
     ]
    },
    {
     "name": "stderr",
     "output_type": "stream",
     "text": [
      "\r",
      " 90%|█████████ | 1136/1261 [07:09<00:41,  3.00it/s]"
     ]
    },
    {
     "name": "stdout",
     "output_type": "stream",
     "text": [
      "[293 294 295 ..., 428 429 430]\n",
      "[640 640 640 ...,  79  79  79]\n",
      "[1087 1088 1089 ..., 1195 1196 1197]\n",
      "[640 640 640 ..., 239 239 239]\n"
     ]
    },
    {
     "name": "stderr",
     "output_type": "stream",
     "text": [
      "\r",
      " 90%|█████████ | 1137/1261 [07:09<00:42,  2.93it/s]"
     ]
    },
    {
     "name": "stdout",
     "output_type": "stream",
     "text": [
      "[293 294 295 ..., 434 435 436]\n",
      "[640 640 640 ...,  79  79  79]\n",
      "[1086 1087 1088 ..., 1167 1168 1169]\n",
      "[640 640 640 ..., 319 319 319]\n"
     ]
    },
    {
     "name": "stderr",
     "output_type": "stream",
     "text": [
      "\r",
      " 90%|█████████ | 1138/1261 [07:09<00:41,  2.96it/s]"
     ]
    },
    {
     "name": "stdout",
     "output_type": "stream",
     "text": [
      "[293 294 295 ..., 428 429 430]\n",
      "[640 640 640 ...,  79  79  79]\n",
      "[1091 1092 1093 ..., 1237 1238 1239]\n",
      "[655 655 655 ...,  20  20  20]\n"
     ]
    },
    {
     "name": "stderr",
     "output_type": "stream",
     "text": [
      "\r",
      " 90%|█████████ | 1139/1261 [07:10<00:41,  2.96it/s]"
     ]
    },
    {
     "name": "stdout",
     "output_type": "stream",
     "text": [
      "[293 294 295 ..., 428 429 430]\n",
      "[640 640 640 ...,  79  79  79]\n",
      "[1087 1088 1089 ..., 1221 1222 1223]\n",
      "[687 687 687 ...,  59  59  59]\n"
     ]
    },
    {
     "name": "stderr",
     "output_type": "stream",
     "text": [
      "\r",
      " 90%|█████████ | 1140/1261 [07:10<00:40,  2.99it/s]"
     ]
    },
    {
     "name": "stdout",
     "output_type": "stream",
     "text": [
      "[295 296 297 ..., 428 429 430]\n",
      "[640 640 640 ...,  79  79  79]\n",
      "[1088 1089 1084 ..., 1224 1225 1226]\n",
      "[718 718 719 ...,  79  79  79]\n"
     ]
    },
    {
     "name": "stderr",
     "output_type": "stream",
     "text": [
      "\r",
      " 90%|█████████ | 1141/1261 [07:10<00:40,  2.99it/s]"
     ]
    },
    {
     "name": "stdout",
     "output_type": "stream",
     "text": [
      "[295 296 297 ..., 410 411 412]\n",
      "[640 640 640 ...,  79  79  79]\n",
      "[1127 1128 1129 ..., 1236 1237 1238]\n",
      "[613 613 613 ...,  79  79  79]\n"
     ]
    },
    {
     "name": "stderr",
     "output_type": "stream",
     "text": [
      "\r",
      " 91%|█████████ | 1142/1261 [07:11<00:40,  2.97it/s]"
     ]
    },
    {
     "name": "stdout",
     "output_type": "stream",
     "text": [
      "[296 297 298 ..., 410 411 412]\n",
      "[640 640 640 ...,  79  79  79]\n",
      "[1101 1102 1103 ..., 1236 1237 1238]\n",
      "[648 648 648 ...,  79  79  79]\n"
     ]
    },
    {
     "name": "stderr",
     "output_type": "stream",
     "text": [
      "\r",
      " 91%|█████████ | 1143/1261 [07:11<00:39,  3.02it/s]"
     ]
    },
    {
     "name": "stdout",
     "output_type": "stream",
     "text": [
      "[298 299 300 ..., 416 417 418]\n",
      "[640 640 640 ...,  79  79  79]\n",
      "[1100 1101 1102 ..., 1236 1237 1238]\n",
      "[680 680 680 ...,  79  79  79]\n"
     ]
    },
    {
     "name": "stderr",
     "output_type": "stream",
     "text": [
      "\r",
      " 91%|█████████ | 1144/1261 [07:11<00:39,  2.99it/s]"
     ]
    },
    {
     "name": "stdout",
     "output_type": "stream",
     "text": [
      "[293 294 295 ..., 422 423 424]\n",
      "[640 640 640 ...,  79  79  79]\n",
      "[1085 1086 1087 ..., 1230 1231 1232]\n",
      "[712 712 712 ...,  79  79  79]\n"
     ]
    },
    {
     "name": "stderr",
     "output_type": "stream",
     "text": [
      "\r",
      " 91%|█████████ | 1145/1261 [07:12<00:39,  2.91it/s]"
     ]
    },
    {
     "name": "stdout",
     "output_type": "stream",
     "text": [
      "[298 299 300 ..., 428 429 430]\n",
      "[640 640 640 ...,  79  79  79]\n",
      "[1089 1090 1091 ..., 1200 1201 1202]\n",
      "[560 560 560 ..., 159 159 159]\n"
     ]
    },
    {
     "name": "stderr",
     "output_type": "stream",
     "text": [
      "\r",
      " 91%|█████████ | 1146/1261 [07:12<00:40,  2.82it/s]"
     ]
    },
    {
     "name": "stdout",
     "output_type": "stream",
     "text": [
      "[296 297 298 ..., 416 417 418]\n",
      "[640 640 640 ...,  79  79  79]\n",
      "[1087 1088 1089 ..., 1205 1206 1207]\n",
      "[640 640 640 ..., 159 159 159]\n"
     ]
    },
    {
     "name": "stderr",
     "output_type": "stream",
     "text": [
      "\r",
      " 91%|█████████ | 1147/1261 [07:12<00:39,  2.85it/s]"
     ]
    },
    {
     "name": "stdout",
     "output_type": "stream",
     "text": [
      "[300 301 302 ..., 422 423 424]\n",
      "[640 640 640 ...,  79  79  79]\n",
      "[1089 1090 1091 ..., 1181 1182 1183]\n",
      "[640 640 640 ..., 239 239 239]\n"
     ]
    },
    {
     "name": "stderr",
     "output_type": "stream",
     "text": [
      "\r",
      " 91%|█████████ | 1148/1261 [07:13<00:39,  2.88it/s]"
     ]
    },
    {
     "name": "stdout",
     "output_type": "stream",
     "text": [
      "[300 301 302 ..., 422 423 424]\n",
      "[640 640 640 ...,  79  79  79]\n",
      "[1084 1085 1086 ..., 1177 1178 1179]\n",
      "[640 640 640 ..., 239 239 239]\n"
     ]
    },
    {
     "name": "stderr",
     "output_type": "stream",
     "text": [
      "\r",
      " 91%|█████████ | 1149/1261 [07:13<00:38,  2.93it/s]"
     ]
    },
    {
     "name": "stdout",
     "output_type": "stream",
     "text": [
      "[296 297 298 ..., 410 411 412]\n",
      "[640 640 640 ...,  79  79  79]\n",
      "[1094 1095 1096 ..., 1167 1168 1169]\n",
      "[640 640 640 ..., 319 319 319]\n"
     ]
    },
    {
     "name": "stderr",
     "output_type": "stream",
     "text": [
      "\r",
      " 91%|█████████ | 1150/1261 [07:13<00:40,  2.75it/s]"
     ]
    },
    {
     "name": "stdout",
     "output_type": "stream",
     "text": [
      "[298 299 300 ..., 416 417 418]\n",
      "[640 640 640 ...,  79  79  79]\n",
      "[1101 1102 1103 ..., 1223 1224 1225]\n",
      "[671 671 671 ...,  40  40  40]\n"
     ]
    },
    {
     "name": "stderr",
     "output_type": "stream",
     "text": [
      "\r",
      " 91%|█████████▏| 1151/1261 [07:14<00:43,  2.53it/s]"
     ]
    },
    {
     "name": "stdout",
     "output_type": "stream",
     "text": [
      "[298 299 300 ..., 410 411 412]\n",
      "[640 640 640 ...,  79  79  79]\n",
      "[1097 1098 1099 ..., 1208 1209 1210]\n",
      "[704 704 704 ...,  77  77  77]\n"
     ]
    },
    {
     "name": "stderr",
     "output_type": "stream",
     "text": [
      "\r",
      " 91%|█████████▏| 1152/1261 [07:14<00:42,  2.54it/s]"
     ]
    },
    {
     "name": "stdout",
     "output_type": "stream",
     "text": [
      "[296 297 298 ..., 416 417 418]\n",
      "[640 640 640 ...,  79  79  79]\n",
      "[1111 1112 1113 ..., 1224 1225 1226]\n",
      "[603 603 603 ...,  79  79  79]\n"
     ]
    },
    {
     "name": "stderr",
     "output_type": "stream",
     "text": [
      "\r",
      " 91%|█████████▏| 1153/1261 [07:15<00:41,  2.61it/s]"
     ]
    },
    {
     "name": "stdout",
     "output_type": "stream",
     "text": [
      "[296 297 298 ..., 410 411 412]\n",
      "[640 640 640 ...,  79  79  79]\n",
      "[1091 1092 1093 ..., 1230 1231 1232]\n",
      "[640 640 640 ...,  79  79  79]\n"
     ]
    },
    {
     "name": "stderr",
     "output_type": "stream",
     "text": [
      "\r",
      " 92%|█████████▏| 1154/1261 [07:15<00:43,  2.46it/s]"
     ]
    },
    {
     "name": "stdout",
     "output_type": "stream",
     "text": [
      "[292 293 294 ..., 410 411 412]\n",
      "[640 640 640 ...,  79  79  79]\n",
      "[1114 1115 1116 ..., 1248 1249 1250]\n",
      "[666 666 666 ...,  79  79  79]\n"
     ]
    },
    {
     "name": "stderr",
     "output_type": "stream",
     "text": [
      "\r",
      " 92%|█████████▏| 1155/1261 [07:15<00:42,  2.47it/s]"
     ]
    },
    {
     "name": "stdout",
     "output_type": "stream",
     "text": [
      "[292 293 294 ..., 405 406 407]\n",
      "[640 640 640 ...,  79  79  79]\n",
      "[1085 1086 1104 ..., 1242 1243 1244]\n",
      "[700 700 700 ...,  79  79  79]\n"
     ]
    },
    {
     "name": "stderr",
     "output_type": "stream",
     "text": [
      "\r",
      " 92%|█████████▏| 1156/1261 [07:16<00:43,  2.39it/s]"
     ]
    },
    {
     "name": "stdout",
     "output_type": "stream",
     "text": [
      "[290 291 292 ..., 405 406 407]\n",
      "[640 640 640 ...,  79  79  79]\n",
      "[1093 1094 1095 ..., 1242 1243 1244]\n",
      "[560 560 560 ...,  79  79  79]\n"
     ]
    },
    {
     "name": "stderr",
     "output_type": "stream",
     "text": [
      "\r",
      " 92%|█████████▏| 1157/1261 [07:16<00:42,  2.46it/s]"
     ]
    },
    {
     "name": "stdout",
     "output_type": "stream",
     "text": [
      "[287 288 289 ..., 399 400 401]\n",
      "[640 640 640 ...,  79  79  79]\n",
      "[1100 1101 1102 ..., 1232 1233 1234]\n",
      "[560 560 560 ..., 159 159 159]\n"
     ]
    },
    {
     "name": "stderr",
     "output_type": "stream",
     "text": [
      "\r",
      " 92%|█████████▏| 1158/1261 [07:17<00:40,  2.56it/s]"
     ]
    },
    {
     "name": "stdout",
     "output_type": "stream",
     "text": [
      "[287 288 289 ..., 399 400 401]\n",
      "[640 640 640 ...,  79  79  79]\n",
      "[1091 1092 1093 ..., 1226 1227 1228]\n",
      "[640 640 640 ..., 159 159 159]\n"
     ]
    },
    {
     "name": "stderr",
     "output_type": "stream",
     "text": [
      "\r",
      " 92%|█████████▏| 1159/1261 [07:17<00:39,  2.59it/s]"
     ]
    },
    {
     "name": "stdout",
     "output_type": "stream",
     "text": [
      "[293 294 295 ..., 410 411 412]\n",
      "[640 640 640 ...,  79  79  79]\n",
      "[1092 1093 1094 ..., 1200 1201 1202]\n",
      "[640 640 640 ..., 239 239 239]\n"
     ]
    },
    {
     "name": "stderr",
     "output_type": "stream",
     "text": [
      "\r",
      " 92%|█████████▏| 1160/1261 [07:17<00:38,  2.66it/s]"
     ]
    },
    {
     "name": "stdout",
     "output_type": "stream",
     "text": [
      "[285 286 287 ..., 422 423 424]\n",
      "[640 640 640 ...,  79  79  79]\n",
      "[1089 1090 1091 ..., 1200 1201 1202]\n",
      "[640 640 640 ..., 239 239 239]\n"
     ]
    },
    {
     "name": "stderr",
     "output_type": "stream",
     "text": [
      "\r",
      " 92%|█████████▏| 1161/1261 [07:18<00:36,  2.73it/s]"
     ]
    },
    {
     "name": "stdout",
     "output_type": "stream",
     "text": [
      "[290 291 292 ..., 434 435 436]\n",
      "[640 640 640 ...,  79  79  79]\n",
      "[1102 1103 1104 ..., 1250 1251 1252]\n",
      "[658 658 658 ...,  20  20  20]\n"
     ]
    },
    {
     "name": "stderr",
     "output_type": "stream",
     "text": [
      "\r",
      " 92%|█████████▏| 1162/1261 [07:18<00:36,  2.71it/s]"
     ]
    },
    {
     "name": "stdout",
     "output_type": "stream",
     "text": [
      "[285 286 287 ..., 434 435 436]\n",
      "[640 640 640 ...,  79  79  79]\n",
      "[1100 1101 1102 ..., 1254 1255 1256]\n",
      "[690 690 690 ...,  40  40  40]\n"
     ]
    },
    {
     "name": "stderr",
     "output_type": "stream",
     "text": [
      "\r",
      " 92%|█████████▏| 1163/1261 [07:18<00:35,  2.77it/s]"
     ]
    },
    {
     "name": "stdout",
     "output_type": "stream",
     "text": [
      "[288 289 290 ..., 440 441 442]\n",
      "[640 640 640 ...,  79  79  79]\n",
      "[1105 1106 1107 ..., 1236 1237 1238]\n",
      "[592 592 592 ...,  79  79  79]\n"
     ]
    },
    {
     "name": "stderr",
     "output_type": "stream",
     "text": [
      "\r",
      " 92%|█████████▏| 1164/1261 [07:19<00:35,  2.76it/s]"
     ]
    },
    {
     "name": "stdout",
     "output_type": "stream",
     "text": [
      "[288 289 290 ..., 458 459 460]\n",
      "[640 640 640 ...,  79  79  79]\n",
      "[1104 1105 1106 ..., 1248 1249 1250]\n",
      "[625 625 625 ...,  79  79  79]\n"
     ]
    },
    {
     "name": "stderr",
     "output_type": "stream",
     "text": [
      "\r",
      " 92%|█████████▏| 1165/1261 [07:19<00:34,  2.76it/s]"
     ]
    },
    {
     "name": "stdout",
     "output_type": "stream",
     "text": [
      "[287 288 289 ..., 434 435 436]\n",
      "[640 640 640 ...,  79  79  79]\n",
      "[1104 1105 1106 ..., 1259 1260 1261]\n",
      "[656 656 656 ...,  79  79  79]\n"
     ]
    },
    {
     "name": "stderr",
     "output_type": "stream",
     "text": [
      "\r",
      " 92%|█████████▏| 1166/1261 [07:20<00:35,  2.68it/s]"
     ]
    },
    {
     "name": "stdout",
     "output_type": "stream",
     "text": [
      "[285 286 287 ..., 434 435 436]\n",
      "[640 640 640 ...,  79  79  79]\n",
      "[1084 1085 1096 ..., 1259 1260 1261]\n",
      "[690 690 690 ...,  79  79  79]\n"
     ]
    },
    {
     "name": "stderr",
     "output_type": "stream",
     "text": [
      "\r",
      " 93%|█████████▎| 1167/1261 [07:20<00:35,  2.67it/s]"
     ]
    },
    {
     "name": "stdout",
     "output_type": "stream",
     "text": [
      "[285 286 287 ..., 434 435 436]\n",
      "[640 640 640 ...,  79  79  79]\n",
      "[1093 1094 1095 ..., 1265 1266 1267]\n",
      "[560 560 560 ...,  79  79  79]\n"
     ]
    },
    {
     "name": "stderr",
     "output_type": "stream",
     "text": [
      "\r",
      " 93%|█████████▎| 1168/1261 [07:20<00:34,  2.71it/s]"
     ]
    },
    {
     "name": "stdout",
     "output_type": "stream",
     "text": [
      "[282 283 284 ..., 434 435 436]\n",
      "[640 640 640 ...,  79  79  79]\n",
      "[1093 1094 1095 ..., 1237 1238 1239]\n",
      "[560 560 560 ..., 159 159 159]\n"
     ]
    },
    {
     "name": "stderr",
     "output_type": "stream",
     "text": [
      "\r",
      " 93%|█████████▎| 1169/1261 [07:21<00:33,  2.72it/s]"
     ]
    },
    {
     "name": "stdout",
     "output_type": "stream",
     "text": [
      "[284 285 286 ..., 440 441 442]\n",
      "[640 640 640 ...,  79  79  79]\n",
      "[1084 1085 1086 ..., 1226 1227 1228]\n",
      "[640 640 640 ..., 159 159 159]\n"
     ]
    },
    {
     "name": "stderr",
     "output_type": "stream",
     "text": [
      "\r",
      " 93%|█████████▎| 1170/1261 [07:21<00:33,  2.75it/s]"
     ]
    },
    {
     "name": "stdout",
     "output_type": "stream",
     "text": [
      "[282 283 284 ..., 440 441 442]\n",
      "[640 640 640 ...,  79  79  79]\n",
      "[1084 1085 1086 ..., 1205 1206 1207]\n",
      "[640 640 640 ..., 239 239 239]\n"
     ]
    },
    {
     "name": "stderr",
     "output_type": "stream",
     "text": [
      "\r",
      " 93%|█████████▎| 1171/1261 [07:21<00:32,  2.74it/s]"
     ]
    },
    {
     "name": "stdout",
     "output_type": "stream",
     "text": [
      "[284 285 286 ..., 452 453 454]\n",
      "[640 640 640 ...,  79  79  79]\n",
      "[1084 1085 1086 ..., 1171 1172 1173]\n",
      "[640 640 640 ..., 319 319 319]\n"
     ]
    },
    {
     "name": "stderr",
     "output_type": "stream",
     "text": [
      "\r",
      " 93%|█████████▎| 1172/1261 [07:22<00:31,  2.82it/s]"
     ]
    },
    {
     "name": "stdout",
     "output_type": "stream",
     "text": [
      "[284 285 286 ..., 452 453 454]\n",
      "[640 640 640 ...,  79  79  79]\n",
      "[1087 1088 1089 ..., 1262 1263 1264]\n",
      "[658 658 658 ...,  20  20  20]\n"
     ]
    },
    {
     "name": "stderr",
     "output_type": "stream",
     "text": [
      "\r",
      " 93%|█████████▎| 1173/1261 [07:22<00:31,  2.82it/s]"
     ]
    },
    {
     "name": "stdout",
     "output_type": "stream",
     "text": [
      "[288 289 290 ..., 446 447 448]\n",
      "[640 640 640 ...,  79  79  79]\n",
      "[1087 1088 1089 ..., 1266 1267 1268]\n",
      "[689 689 689 ...,  40  40  40]\n"
     ]
    },
    {
     "name": "stderr",
     "output_type": "stream",
     "text": [
      "\r",
      " 93%|█████████▎| 1174/1261 [07:22<00:31,  2.77it/s]"
     ]
    },
    {
     "name": "stdout",
     "output_type": "stream",
     "text": [
      "[287 288 289 ..., 458 459 460]\n",
      "[640 640 640 ...,  79  79  79]\n",
      "[1109 1110 1111 ..., 1248 1249 1250]\n",
      "[586 586 586 ...,  79  79  79]\n"
     ]
    },
    {
     "name": "stderr",
     "output_type": "stream",
     "text": [
      "\r",
      " 93%|█████████▎| 1175/1261 [07:23<00:31,  2.76it/s]"
     ]
    },
    {
     "name": "stdout",
     "output_type": "stream",
     "text": [
      "[290 291 292 ..., 452 453 454]\n",
      "[640 640 640 ...,  79  79  79]\n",
      "[1100 1101 1102 ..., 1265 1266 1267]\n",
      "[618 618 618 ...,  79  79  79]\n"
     ]
    },
    {
     "name": "stderr",
     "output_type": "stream",
     "text": [
      "\r",
      " 93%|█████████▎| 1176/1261 [07:23<00:31,  2.73it/s]"
     ]
    },
    {
     "name": "stdout",
     "output_type": "stream",
     "text": [
      "[292 293 294 ..., 458 459 460]\n",
      "[640 640 640 ...,  79  79  79]\n",
      "[1100 1101 1102 ..., 1271 1272 1273]\n",
      "[650 650 650 ...,  79  79  79]\n"
     ]
    },
    {
     "name": "stderr",
     "output_type": "stream",
     "text": [
      "\r",
      " 93%|█████████▎| 1177/1261 [07:24<00:31,  2.69it/s]"
     ]
    },
    {
     "name": "stdout",
     "output_type": "stream",
     "text": [
      "[300 301 302 ..., 458 459 460]\n",
      "[640 640 640 ...,  79  79  79]\n",
      "[1105 1106 1107 ..., 1265 1266 1267]\n",
      "[683 683 683 ...,  79  79  79]\n"
     ]
    },
    {
     "name": "stderr",
     "output_type": "stream",
     "text": [
      "\r",
      " 93%|█████████▎| 1178/1261 [07:24<00:29,  2.78it/s]"
     ]
    },
    {
     "name": "stdout",
     "output_type": "stream",
     "text": [
      "[301 302 303 ..., 446 447 448]\n",
      "[640 640 640 ...,  79  79  79]\n",
      "[1079 1080 1099 ..., 1277 1278 1279]\n",
      "[714 714 715 ...,  79  79  79]\n"
     ]
    },
    {
     "name": "stderr",
     "output_type": "stream",
     "text": [
      "\r",
      " 93%|█████████▎| 1179/1261 [07:24<00:29,  2.78it/s]"
     ]
    },
    {
     "name": "stdout",
     "output_type": "stream",
     "text": [
      "[296 297 298 ..., 452 453 454]\n",
      "[640 640 640 ...,  79  79  79]\n",
      "[1100 1101 1102 ..., 1248 1249 1250]\n",
      "[560 560 560 ..., 159 159 159]\n"
     ]
    },
    {
     "name": "stderr",
     "output_type": "stream",
     "text": [
      "\r",
      " 94%|█████████▎| 1180/1261 [07:25<00:28,  2.87it/s]"
     ]
    },
    {
     "name": "stdout",
     "output_type": "stream",
     "text": [
      "[298 299 300 ..., 458 459 460]\n",
      "[640 640 640 ...,  79  79  79]\n",
      "[1091 1092 1093 ..., 1242 1243 1244]\n",
      "[640 640 640 ..., 159 159 159]\n"
     ]
    },
    {
     "name": "stderr",
     "output_type": "stream",
     "text": [
      "\r",
      " 94%|█████████▎| 1181/1261 [07:25<00:27,  2.89it/s]"
     ]
    },
    {
     "name": "stdout",
     "output_type": "stream",
     "text": [
      "[300 301 302 ..., 446 447 448]\n",
      "[640 640 640 ...,  79  79  79]\n",
      "[1095 1096 1097 ..., 1224 1225 1226]\n",
      "[640 640 640 ..., 239 239 239]\n"
     ]
    },
    {
     "name": "stderr",
     "output_type": "stream",
     "text": [
      "\r",
      " 94%|█████████▎| 1182/1261 [07:25<00:27,  2.86it/s]"
     ]
    },
    {
     "name": "stdout",
     "output_type": "stream",
     "text": [
      "[305 306 307 ..., 458 459 460]\n",
      "[640 640 640 ...,  79  79  79]\n",
      "[1097 1098 1099 ..., 1224 1225 1226]\n",
      "[640 640 640 ..., 239 239 239]\n"
     ]
    },
    {
     "name": "stderr",
     "output_type": "stream",
     "text": [
      "\r",
      " 94%|█████████▍| 1183/1261 [07:26<00:27,  2.80it/s]"
     ]
    },
    {
     "name": "stdout",
     "output_type": "stream",
     "text": [
      "[305 306 307 ..., 452 453 454]\n",
      "[640 640 640 ...,  79  79  79]\n",
      "[1118 1119 1120 ..., 1199 1200 1201]\n",
      "[645 645 645 ..., 319 319 319]\n"
     ]
    },
    {
     "name": "stderr",
     "output_type": "stream",
     "text": [
      "\r",
      " 94%|█████████▍| 1184/1261 [07:26<00:28,  2.72it/s]"
     ]
    },
    {
     "name": "stdout",
     "output_type": "stream",
     "text": [
      "[306 307 308 ..., 463 464 465]\n",
      "[640 640 640 ...,  79  79  79]\n",
      "[1100 1101 1102 ..., 1277 1278 1279]\n",
      "[679 679 679 ...,  40  40  40]\n"
     ]
    },
    {
     "name": "stderr",
     "output_type": "stream",
     "text": [
      "\r",
      " 94%|█████████▍| 1185/1261 [07:26<00:27,  2.77it/s]"
     ]
    },
    {
     "name": "stdout",
     "output_type": "stream",
     "text": [
      "[313 314 315 ..., 469 470 471]\n",
      "[640 640 640 ...,  79  79  79]\n",
      "[1100 1101 1108 ..., 1265 1266 1267]\n",
      "[711 711 711 ...,  79  79  79]\n"
     ]
    },
    {
     "name": "stderr",
     "output_type": "stream",
     "text": [
      "\r",
      " 94%|█████████▍| 1186/1261 [07:27<00:26,  2.80it/s]"
     ]
    },
    {
     "name": "stdout",
     "output_type": "stream",
     "text": [
      "[314 315 316 ..., 458 459 460]\n",
      "[640 640 640 ...,  79  79  79]\n",
      "[1128 1129 1130 ..., 1277 1278 1279]\n",
      "[607 607 607 ...,  79  79  79]\n"
     ]
    },
    {
     "name": "stderr",
     "output_type": "stream",
     "text": [
      "\r",
      " 94%|█████████▍| 1187/1261 [07:27<00:27,  2.71it/s]"
     ]
    },
    {
     "name": "stdout",
     "output_type": "stream",
     "text": [
      "[314 315 316 ..., 481 482 483]\n",
      "[640 640 640 ...,  79  79  79]\n",
      "[1123 1124 1125 ..., 1277 1278 1279]\n",
      "[640 640 640 ...,  79  79  79]\n"
     ]
    },
    {
     "name": "stderr",
     "output_type": "stream",
     "text": [
      "\r",
      " 94%|█████████▍| 1188/1261 [07:28<00:27,  2.68it/s]"
     ]
    },
    {
     "name": "stdout",
     "output_type": "stream",
     "text": [
      "[321 322 323 ..., 481 482 483]\n",
      "[640 640 640 ...,  79  79  79]\n",
      "[1139 1140 1141 ..., 1277 1278 1279]\n",
      "[672 672 672 ...,  79  79  79]\n"
     ]
    },
    {
     "name": "stderr",
     "output_type": "stream",
     "text": [
      "\r",
      " 94%|█████████▍| 1189/1261 [07:28<00:26,  2.73it/s]"
     ]
    },
    {
     "name": "stdout",
     "output_type": "stream",
     "text": [
      "[311 312 313 ..., 469 470 471]\n",
      "[640 640 640 ...,  79  79  79]\n",
      "[1107 1108 1109 ..., 1277 1278 1279]\n",
      "[704 704 704 ...,  79  79  79]\n"
     ]
    },
    {
     "name": "stderr",
     "output_type": "stream",
     "text": [
      "\r",
      " 94%|█████████▍| 1190/1261 [07:28<00:26,  2.67it/s]"
     ]
    },
    {
     "name": "stdout",
     "output_type": "stream",
     "text": [
      "[316 317 318 ..., 463 464 465]\n",
      "[640 640 640 ...,  79  79  79]\n",
      "[1116 1117 1118 ..., 1258 1259 1260]\n",
      "[560 560 560 ..., 159 159 159]\n"
     ]
    },
    {
     "name": "stderr",
     "output_type": "stream",
     "text": [
      "\r",
      " 94%|█████████▍| 1191/1261 [07:29<00:25,  2.72it/s]"
     ]
    },
    {
     "name": "stdout",
     "output_type": "stream",
     "text": [
      "[316 317 318 ..., 469 470 471]\n",
      "[640 640 640 ...,  79  79  79]\n",
      "[1108 1109 1110 ..., 1253 1254 1255]\n",
      "[640 640 640 ..., 159 159 159]\n"
     ]
    },
    {
     "name": "stderr",
     "output_type": "stream",
     "text": [
      "\r",
      " 95%|█████████▍| 1192/1261 [07:29<00:24,  2.81it/s]"
     ]
    },
    {
     "name": "stdout",
     "output_type": "stream",
     "text": [
      "[322 323 324 ..., 469 470 471]\n",
      "[640 640 640 ...,  79  79  79]\n",
      "[1103 1104 1105 ..., 1219 1220 1221]\n",
      "[640 640 640 ..., 239 239 239]\n"
     ]
    },
    {
     "name": "stderr",
     "output_type": "stream",
     "text": [
      "\r",
      " 95%|█████████▍| 1193/1261 [07:29<00:24,  2.81it/s]"
     ]
    },
    {
     "name": "stdout",
     "output_type": "stream",
     "text": [
      "[319 320 321 ..., 475 476 477]\n",
      "[640 640 640 ...,  79  79  79]\n",
      "[1100 1101 1102 ..., 1187 1188 1189]\n",
      "[640 640 640 ..., 319 319 319]\n"
     ]
    },
    {
     "name": "stderr",
     "output_type": "stream",
     "text": [
      "\r",
      " 95%|█████████▍| 1194/1261 [07:30<00:23,  2.88it/s]"
     ]
    },
    {
     "name": "stdout",
     "output_type": "stream",
     "text": [
      "[317 318 319 ..., 463 464 465]\n",
      "[640 640 640 ...,  79  79  79]\n",
      "[1116 1117 1118 ..., 1269 1270 1271]\n",
      "[640 640 640 ...,  20  20  20]\n"
     ]
    },
    {
     "name": "stderr",
     "output_type": "stream",
     "text": [
      "\r",
      " 95%|█████████▍| 1195/1261 [07:30<00:22,  2.90it/s]"
     ]
    },
    {
     "name": "stdout",
     "output_type": "stream",
     "text": [
      "[319 320 321 ..., 481 482 483]\n",
      "[640 640 640 ...,  79  79  79]\n",
      "[1104 1105 1106 ..., 1251 1252 1253]\n",
      "[673 673 673 ...,  59  59  59]\n"
     ]
    },
    {
     "name": "stderr",
     "output_type": "stream",
     "text": [
      "\r",
      " 95%|█████████▍| 1196/1261 [07:30<00:23,  2.80it/s]"
     ]
    },
    {
     "name": "stdout",
     "output_type": "stream",
     "text": [
      "[321 322 323 ..., 487 488 489]\n",
      "[640 640 640 ...,  79  79  79]\n",
      "[1108 1109 1110 ..., 1254 1255 1256]\n",
      "[705 705 705 ...,  79  79  79]\n"
     ]
    },
    {
     "name": "stderr",
     "output_type": "stream",
     "text": [
      "\r",
      " 95%|█████████▍| 1197/1261 [07:31<00:22,  2.84it/s]"
     ]
    },
    {
     "name": "stdout",
     "output_type": "stream",
     "text": [
      "[321 322 323 ..., 493 494 495]\n",
      "[640 640 640 ...,  79  79  79]\n",
      "[1119 1120 1121 ..., 1265 1266 1267]\n",
      "[607 607 607 ...,  79  79  79]\n"
     ]
    },
    {
     "name": "stderr",
     "output_type": "stream",
     "text": [
      "\r",
      " 95%|█████████▌| 1198/1261 [07:31<00:22,  2.76it/s]"
     ]
    },
    {
     "name": "stdout",
     "output_type": "stream",
     "text": [
      "[316 317 318 ..., 493 494 495]\n",
      "[640 640 640 ...,  79  79  79]\n",
      "[1108 1109 1110 ..., 1271 1272 1273]\n",
      "[640 640 640 ...,  79  79  79]\n"
     ]
    },
    {
     "name": "stderr",
     "output_type": "stream",
     "text": [
      "\r",
      " 95%|█████████▌| 1199/1261 [07:31<00:22,  2.79it/s]"
     ]
    },
    {
     "name": "stdout",
     "output_type": "stream",
     "text": [
      "[311 312 313 ..., 469 470 471]\n",
      "[640 640 640 ...,  79  79  79]\n",
      "[1124 1125 1126 ..., 1277 1278 1279]\n",
      "[666 666 666 ...,  79  79  79]\n"
     ]
    },
    {
     "name": "stderr",
     "output_type": "stream",
     "text": [
      "\r",
      " 95%|█████████▌| 1200/1261 [07:32<00:22,  2.77it/s]"
     ]
    },
    {
     "name": "stdout",
     "output_type": "stream",
     "text": [
      "[306 307 308 ..., 446 447 448]\n",
      "[640 640 640 ...,  79  79  79]\n",
      "[1121 1122 1123 ..., 1277 1278 1279]\n",
      "[698 698 698 ...,  79  79  79]\n"
     ]
    },
    {
     "name": "stderr",
     "output_type": "stream",
     "text": [
      "\r",
      " 95%|█████████▌| 1201/1261 [07:32<00:21,  2.78it/s]"
     ]
    },
    {
     "name": "stdout",
     "output_type": "stream",
     "text": [
      "[309 310 311 ..., 446 447 448]\n",
      "[640 640 640 ...,  79  79  79]\n",
      "[1129 1130 1131 ..., 1277 1278 1279]\n",
      "[560 560 560 ...,  79  79  79]\n"
     ]
    },
    {
     "name": "stderr",
     "output_type": "stream",
     "text": [
      "\r",
      " 95%|█████████▌| 1202/1261 [07:32<00:20,  2.85it/s]"
     ]
    },
    {
     "name": "stdout",
     "output_type": "stream",
     "text": [
      "[308 309 310 ..., 434 435 436]\n",
      "[640 640 640 ...,  79  79  79]\n",
      "[1131 1132 1133 ..., 1274 1275 1276]\n",
      "[560 560 560 ..., 159 159 159]\n"
     ]
    },
    {
     "name": "stderr",
     "output_type": "stream",
     "text": [
      "\r",
      " 95%|█████████▌| 1203/1261 [07:33<00:20,  2.80it/s]"
     ]
    },
    {
     "name": "stdout",
     "output_type": "stream",
     "text": [
      "[308 309 310 ..., 452 453 454]\n",
      "[640 640 640 ...,  79  79  79]\n",
      "[1124 1125 1126 ..., 1274 1275 1276]\n",
      "[640 640 640 ..., 159 159 159]\n"
     ]
    },
    {
     "name": "stderr",
     "output_type": "stream",
     "text": [
      "\r",
      " 95%|█████████▌| 1204/1261 [07:33<00:20,  2.82it/s]"
     ]
    },
    {
     "name": "stdout",
     "output_type": "stream",
     "text": [
      "[314 315 316 ..., 469 470 471]\n",
      "[640 640 640 ...,  79  79  79]\n",
      "[1123 1124 1125 ..., 1238 1239 1240]\n",
      "[640 640 640 ..., 239 239 239]\n"
     ]
    },
    {
     "name": "stderr",
     "output_type": "stream",
     "text": [
      "\r",
      " 96%|█████████▌| 1205/1261 [07:34<00:23,  2.41it/s]"
     ]
    },
    {
     "name": "stdout",
     "output_type": "stream",
     "text": [
      "[317 318 319 ..., 481 482 483]\n",
      "[640 640 640 ...,  79  79  79]\n",
      "[1123 1124 1125 ..., 1242 1243 1244]\n",
      "[640 640 640 ..., 239 239 239]\n"
     ]
    },
    {
     "name": "stderr",
     "output_type": "stream",
     "text": [
      "\r",
      " 96%|█████████▌| 1206/1261 [07:34<00:23,  2.31it/s]"
     ]
    },
    {
     "name": "stdout",
     "output_type": "stream",
     "text": [
      "[327 328 329 ..., 499 500 501]\n",
      "[640 640 640 ...,  79  79  79]\n",
      "[1126 1127 1128 ..., 1277 1278 1279]\n",
      "[659 659 659 ...,  40  40  40]\n"
     ]
    },
    {
     "name": "stderr",
     "output_type": "stream",
     "text": [
      "\r",
      " 96%|█████████▌| 1207/1261 [07:35<00:21,  2.48it/s]"
     ]
    },
    {
     "name": "stdout",
     "output_type": "stream",
     "text": [
      "[327 328 329 ..., 517 518 519]\n",
      "[640 640 640 ...,  79  79  79]\n",
      "[1118 1119 1120 ..., 1271 1272 1273]\n",
      "[693 693 693 ...,  77  77  77]\n"
     ]
    },
    {
     "name": "stderr",
     "output_type": "stream",
     "text": [
      "\r",
      " 96%|█████████▌| 1208/1261 [07:35<00:20,  2.61it/s]"
     ]
    },
    {
     "name": "stdout",
     "output_type": "stream",
     "text": [
      "[329 330 331 ..., 517 518 519]\n",
      "[640 640 640 ...,  79  79  79]\n",
      "[1132 1133 1134 ..., 1277 1278 1279]\n",
      "[594 594 594 ...,  79  79  79]\n"
     ]
    },
    {
     "name": "stderr",
     "output_type": "stream",
     "text": [
      "\r",
      " 96%|█████████▌| 1209/1261 [07:35<00:21,  2.46it/s]"
     ]
    },
    {
     "name": "stdout",
     "output_type": "stream",
     "text": [
      "[332 333 334 ..., 528 529 530]\n",
      "[640 640 640 ...,  79  79  79]\n",
      "[1124 1125 1126 ..., 1277 1278 1279]\n",
      "[629 629 629 ...,  79  79  79]\n"
     ]
    },
    {
     "name": "stderr",
     "output_type": "stream",
     "text": [
      "\r",
      " 96%|█████████▌| 1210/1261 [07:36<00:22,  2.30it/s]"
     ]
    },
    {
     "name": "stdout",
     "output_type": "stream",
     "text": [
      "[334 335 336 ..., 517 518 519]\n",
      "[640 640 640 ...,  79  79  79]\n",
      "[1121 1122 1123 ..., 1277 1278 1279]\n",
      "[661 661 661 ...,  79  79  79]\n"
     ]
    },
    {
     "name": "stderr",
     "output_type": "stream",
     "text": [
      "\r",
      " 96%|█████████▌| 1211/1261 [07:36<00:20,  2.43it/s]"
     ]
    },
    {
     "name": "stdout",
     "output_type": "stream",
     "text": [
      "[335 336 337 ..., 517 518 519]\n",
      "[640 640 640 ...,  79  79  79]\n",
      "[1109 1110 1111 ..., 1263 1264 1265]\n",
      "[693 693 693 ..., 159 159 159]\n"
     ]
    },
    {
     "name": "stderr",
     "output_type": "stream",
     "text": [
      "\r",
      " 96%|█████████▌| 1212/1261 [07:37<00:19,  2.57it/s]"
     ]
    },
    {
     "name": "stdout",
     "output_type": "stream",
     "text": [
      "[335 336 337 ..., 511 512 513]\n",
      "[640 640 640 ...,  79  79  79]\n",
      "[1120 1121 1122 ..., 1269 1270 1271]\n",
      "[560 560 560 ..., 159 159 159]\n"
     ]
    },
    {
     "name": "stderr",
     "output_type": "stream",
     "text": [
      "\r",
      " 96%|█████████▌| 1213/1261 [07:37<00:17,  2.68it/s]"
     ]
    },
    {
     "name": "stdout",
     "output_type": "stream",
     "text": [
      "[332 333 334 ..., 493 494 495]\n",
      "[640 640 640 ...,  79  79  79]\n",
      "[1127 1128 1129 ..., 1277 1278 1279]\n",
      "[560 560 560 ..., 159 159 159]\n"
     ]
    },
    {
     "name": "stderr",
     "output_type": "stream",
     "text": [
      "\r",
      " 96%|█████████▋| 1214/1261 [07:37<00:17,  2.73it/s]"
     ]
    },
    {
     "name": "stdout",
     "output_type": "stream",
     "text": [
      "[334 335 336 ..., 499 500 501]\n",
      "[640 640 640 ...,  79  79  79]\n",
      "[1116 1117 1118 ..., 1277 1278 1279]\n",
      "[640 640 640 ..., 159 159 159]\n"
     ]
    },
    {
     "name": "stderr",
     "output_type": "stream",
     "text": [
      "\r",
      " 96%|█████████▋| 1215/1261 [07:38<00:16,  2.76it/s]"
     ]
    },
    {
     "name": "stdout",
     "output_type": "stream",
     "text": [
      "[332 333 334 ..., 505 506 507]\n",
      "[640 640 640 ...,  79  79  79]\n",
      "[1115 1116 1117 ..., 1252 1253 1254]\n",
      "[640 640 640 ..., 239 239 239]\n"
     ]
    },
    {
     "name": "stderr",
     "output_type": "stream",
     "text": [
      "\r",
      " 96%|█████████▋| 1216/1261 [07:38<00:15,  2.83it/s]"
     ]
    },
    {
     "name": "stdout",
     "output_type": "stream",
     "text": [
      "[329 330 331 ..., 493 494 495]\n",
      "[640 640 640 ...,  79  79  79]\n",
      "[1118 1119 1120 ..., 1256 1257 1258]\n",
      "[640 640 640 ..., 239 239 239]\n"
     ]
    },
    {
     "name": "stderr",
     "output_type": "stream",
     "text": [
      "\r",
      " 97%|█████████▋| 1217/1261 [07:38<00:15,  2.84it/s]"
     ]
    },
    {
     "name": "stdout",
     "output_type": "stream",
     "text": [
      "[332 333 334 ..., 505 506 507]\n",
      "[640 640 640 ...,  79  79  79]\n",
      "[1133 1134 1135 ..., 1224 1225 1226]\n",
      "[651 651 651 ..., 319 319 319]\n"
     ]
    },
    {
     "name": "stderr",
     "output_type": "stream",
     "text": [
      "\r",
      " 97%|█████████▋| 1218/1261 [07:39<00:14,  2.88it/s]"
     ]
    },
    {
     "name": "stdout",
     "output_type": "stream",
     "text": [
      "[330 331 332 ..., 499 500 501]\n",
      "[640 640 640 ...,  79  79  79]\n",
      "[1117 1118 1119 ..., 1267 1268 1269]\n",
      "[685 685 685 ..., 183 183 183]\n"
     ]
    },
    {
     "name": "stderr",
     "output_type": "stream",
     "text": [
      "\r",
      " 97%|█████████▋| 1219/1261 [07:39<00:14,  2.85it/s]"
     ]
    },
    {
     "name": "stdout",
     "output_type": "stream",
     "text": [
      "[332 333 334 ..., 499 500 501]\n",
      "[640 640 640 ...,  79  79  79]\n",
      "[1116 1117 1118 ..., 1208 1209 1210]\n",
      "[717 717 717 ..., 399 399 399]\n"
     ]
    },
    {
     "name": "stderr",
     "output_type": "stream",
     "text": [
      "\r",
      " 97%|█████████▋| 1220/1261 [07:39<00:14,  2.88it/s]"
     ]
    },
    {
     "name": "stdout",
     "output_type": "stream",
     "text": [
      "[335 336 337 ..., 517 518 519]\n",
      "[640 640 640 ...,  79  79  79]\n",
      "[1147 1148 1149 ..., 1277 1278 1279]\n",
      "[618 618 618 ...,  77  77  77]\n"
     ]
    },
    {
     "name": "stderr",
     "output_type": "stream",
     "text": [
      "\r",
      " 97%|█████████▋| 1221/1261 [07:40<00:13,  2.91it/s]"
     ]
    },
    {
     "name": "stdout",
     "output_type": "stream",
     "text": [
      "[335 336 337 ..., 493 494 495]\n",
      "[640 640 640 ...,  79  79  79]\n",
      "[1150 1151 1152 ..., 1277 1278 1279]\n",
      "[650 650 650 ..., 141 141 141]\n"
     ]
    },
    {
     "name": "stderr",
     "output_type": "stream",
     "text": [
      "\r",
      " 97%|█████████▋| 1222/1261 [07:40<00:13,  2.96it/s]"
     ]
    },
    {
     "name": "stdout",
     "output_type": "stream",
     "text": [
      "[340 341 342 ..., 505 506 507]\n",
      "[640 640 640 ...,  79  79  79]\n",
      "[1119 1120 1121 ..., 1277 1278 1279]\n",
      "[685 685 685 ..., 159 159 159]\n"
     ]
    },
    {
     "name": "stderr",
     "output_type": "stream",
     "text": [
      "\r",
      " 97%|█████████▋| 1223/1261 [07:40<00:12,  2.98it/s]"
     ]
    },
    {
     "name": "stdout",
     "output_type": "stream",
     "text": [
      "[346 347 348 ..., 517 518 519]\n",
      "[640 640 640 ...,  79  79  79]\n",
      "[1126 1127 1128 ..., 1277 1278 1279]\n",
      "[719 719 719 ..., 159 159 159]\n"
     ]
    },
    {
     "name": "stderr",
     "output_type": "stream",
     "text": [
      "\r",
      " 97%|█████████▋| 1224/1261 [07:41<00:12,  2.94it/s]"
     ]
    },
    {
     "name": "stdout",
     "output_type": "stream",
     "text": [
      "[343 344 345 ..., 511 512 513]\n",
      "[640 640 640 ...,  79  79  79]\n",
      "[1136 1137 1138 ..., 1277 1278 1279]\n",
      "[560 560 560 ..., 159 159 159]\n"
     ]
    },
    {
     "name": "stderr",
     "output_type": "stream",
     "text": [
      "\r",
      " 97%|█████████▋| 1225/1261 [07:41<00:12,  2.95it/s]"
     ]
    },
    {
     "name": "stdout",
     "output_type": "stream",
     "text": [
      "[345 346 347 ..., 517 518 519]\n",
      "[640 640 640 ...,  79  79  79]\n",
      "[1123 1124 1125 ..., 1247 1248 1249]\n",
      "[640 640 640 ..., 239 239 239]\n"
     ]
    },
    {
     "name": "stderr",
     "output_type": "stream",
     "text": [
      "\r",
      " 97%|█████████▋| 1226/1261 [07:41<00:12,  2.87it/s]"
     ]
    },
    {
     "name": "stdout",
     "output_type": "stream",
     "text": [
      "[348 349 350 ..., 505 506 507]\n",
      "[640 640 640 ...,  79  79  79]\n",
      "[1126 1127 1128 ..., 1261 1262 1263]\n",
      "[640 640 640 ..., 239 239 239]\n"
     ]
    },
    {
     "name": "stderr",
     "output_type": "stream",
     "text": [
      "\r",
      " 97%|█████████▋| 1227/1261 [07:42<00:11,  2.90it/s]"
     ]
    },
    {
     "name": "stdout",
     "output_type": "stream",
     "text": [
      "[340 341 342 ..., 487 488 489]\n",
      "[640 640 640 ...,  79  79  79]\n",
      "[1131 1132 1133 ..., 1266 1267 1268]\n",
      "[640 640 640 ..., 239 239 239]\n"
     ]
    },
    {
     "name": "stderr",
     "output_type": "stream",
     "text": [
      "\r",
      " 97%|█████████▋| 1228/1261 [07:42<00:11,  2.90it/s]"
     ]
    },
    {
     "name": "stdout",
     "output_type": "stream",
     "text": [
      "[338 339 340 ..., 481 482 483]\n",
      "[640 640 640 ...,  79  79  79]\n",
      "[1143 1144 1145 ..., 1236 1237 1238]\n",
      "[650 650 650 ..., 319 319 319]\n"
     ]
    },
    {
     "name": "stderr",
     "output_type": "stream",
     "text": [
      "\r",
      " 97%|█████████▋| 1229/1261 [07:42<00:11,  2.89it/s]"
     ]
    },
    {
     "name": "stdout",
     "output_type": "stream",
     "text": [
      "[342 343 344 ..., 469 470 471]\n",
      "[640 640 640 ...,  79  79  79]\n",
      "[1142 1143 1144 ..., 1240 1241 1242]\n",
      "[682 682 682 ..., 319 319 319]\n"
     ]
    },
    {
     "name": "stderr",
     "output_type": "stream",
     "text": [
      "\r",
      " 98%|█████████▊| 1230/1261 [07:43<00:10,  2.87it/s]"
     ]
    },
    {
     "name": "stdout",
     "output_type": "stream",
     "text": [
      "[337 338 339 ..., 469 470 471]\n",
      "[640 640 640 ...,  79  79  79]\n",
      "[1139 1140 1141 ..., 1228 1229 1230]\n",
      "[715 715 715 ..., 399 399 399]\n"
     ]
    },
    {
     "name": "stderr",
     "output_type": "stream",
     "text": [
      "\r",
      " 98%|█████████▊| 1231/1261 [07:43<00:10,  2.91it/s]"
     ]
    },
    {
     "name": "stdout",
     "output_type": "stream",
     "text": [
      "[340 341 342 ..., 481 482 483]\n",
      "[640 640 640 ...,  79  79  79]\n",
      "[1159 1160 1161 ..., 1277 1278 1279]\n",
      "[613 613 613 ...,  77  77  77]\n"
     ]
    },
    {
     "name": "stderr",
     "output_type": "stream",
     "text": [
      "\r",
      " 98%|█████████▊| 1232/1261 [07:43<00:09,  2.94it/s]"
     ]
    },
    {
     "name": "stdout",
     "output_type": "stream",
     "text": [
      "[340 341 342 ..., 475 476 477]\n",
      "[640 640 640 ...,  79  79  79]\n",
      "[1154 1155 1156 ..., 1277 1278 1279]\n",
      "[646 646 646 ...,  77  77  77]\n"
     ]
    },
    {
     "name": "stderr",
     "output_type": "stream",
     "text": [
      "\r",
      " 98%|█████████▊| 1233/1261 [07:44<00:09,  2.94it/s]"
     ]
    },
    {
     "name": "stdout",
     "output_type": "stream",
     "text": [
      "[346 347 348 ..., 487 488 489]\n",
      "[640 640 640 ...,  79  79  79]\n",
      "[1148 1149 1150 ..., 1277 1278 1279]\n",
      "[680 680 680 ...,  79  79  79]\n"
     ]
    },
    {
     "name": "stderr",
     "output_type": "stream",
     "text": [
      "\r",
      " 98%|█████████▊| 1234/1261 [07:44<00:09,  2.82it/s]"
     ]
    },
    {
     "name": "stdout",
     "output_type": "stream",
     "text": [
      "[348 349 350 ..., 481 482 483]\n",
      "[640 640 640 ...,  79  79  79]\n",
      "[1128 1129 1130 ..., 1277 1278 1279]\n",
      "[711 711 711 ..., 159 159 159]\n"
     ]
    },
    {
     "name": "stderr",
     "output_type": "stream",
     "text": [
      "\r",
      " 98%|█████████▊| 1235/1261 [07:45<00:09,  2.81it/s]"
     ]
    },
    {
     "name": "stdout",
     "output_type": "stream",
     "text": [
      "[343 344 345 ..., 469 470 471]\n",
      "[640 640 640 ...,  79  79  79]\n",
      "[1140 1141 1142 ..., 1277 1278 1279]\n",
      "[560 560 560 ..., 159 159 159]\n"
     ]
    },
    {
     "name": "stderr",
     "output_type": "stream",
     "text": [
      "\r",
      " 98%|█████████▊| 1236/1261 [07:45<00:08,  2.80it/s]"
     ]
    },
    {
     "name": "stdout",
     "output_type": "stream",
     "text": [
      "[343 344 345 ..., 469 470 471]\n",
      "[640 640 640 ...,  79  79  79]\n",
      "[1132 1133 1134 ..., 1277 1278 1279]\n",
      "[640 640 640 ..., 159 159 159]\n"
     ]
    },
    {
     "name": "stderr",
     "output_type": "stream",
     "text": [
      "\r",
      " 98%|█████████▊| 1237/1261 [07:45<00:08,  2.80it/s]"
     ]
    },
    {
     "name": "stdout",
     "output_type": "stream",
     "text": [
      "[342 343 344 ..., 463 464 465]\n",
      "[640 640 640 ...,  79  79  79]\n",
      "[1136 1137 1138 ..., 1266 1267 1268]\n",
      "[640 640 640 ..., 239 239 239]\n"
     ]
    },
    {
     "name": "stderr",
     "output_type": "stream",
     "text": [
      "\r",
      " 98%|█████████▊| 1238/1261 [07:46<00:08,  2.85it/s]"
     ]
    },
    {
     "name": "stdout",
     "output_type": "stream",
     "text": [
      "[342 343 344 ..., 458 459 460]\n",
      "[640 640 640 ...,  79  79  79]\n",
      "[1137 1138 1139 ..., 1261 1262 1263]\n",
      "[640 640 640 ..., 239 239 239]\n"
     ]
    },
    {
     "name": "stderr",
     "output_type": "stream",
     "text": [
      "\r",
      " 98%|█████████▊| 1239/1261 [07:46<00:07,  2.86it/s]"
     ]
    },
    {
     "name": "stdout",
     "output_type": "stream",
     "text": [
      "[342 343 344 ..., 469 470 471]\n",
      "[640 640 640 ...,  79  79  79]\n",
      "[1149 1150 1151 ..., 1228 1229 1230]\n",
      "[643 643 643 ..., 319 319 319]\n"
     ]
    },
    {
     "name": "stderr",
     "output_type": "stream",
     "text": [
      "\r",
      " 98%|█████████▊| 1240/1261 [07:46<00:08,  2.59it/s]"
     ]
    },
    {
     "name": "stdout",
     "output_type": "stream",
     "text": [
      "[343 344 345 ..., 458 459 460]\n",
      "[640 640 640 ...,  79  79  79]\n",
      "[1143 1144 1145 ..., 1277 1278 1279]\n",
      "[675 675 675 ...,  20  20  20]\n"
     ]
    },
    {
     "name": "stderr",
     "output_type": "stream",
     "text": [
      "\r",
      " 98%|█████████▊| 1241/1261 [07:47<00:08,  2.42it/s]"
     ]
    },
    {
     "name": "stdout",
     "output_type": "stream",
     "text": [
      "[348 349 350 ..., 458 459 460]\n",
      "[640 640 640 ...,  79  79  79]\n",
      "[1139 1140 1141 ..., 1261 1262 1263]\n",
      "[708 708 708 ...,  77  77  77]\n"
     ]
    },
    {
     "name": "stderr",
     "output_type": "stream",
     "text": [
      "\r",
      " 98%|█████████▊| 1242/1261 [07:47<00:07,  2.49it/s]"
     ]
    },
    {
     "name": "stdout",
     "output_type": "stream",
     "text": [
      "[345 346 347 ..., 452 453 454]\n",
      "[640 640 640 ...,  79  79  79]\n",
      "[1169 1170 1171 ..., 1277 1278 1279]\n",
      "[607 607 607 ...,  79  79  79]\n"
     ]
    },
    {
     "name": "stderr",
     "output_type": "stream",
     "text": [
      "\r",
      " 99%|█████████▊| 1243/1261 [07:48<00:06,  2.61it/s]"
     ]
    },
    {
     "name": "stdout",
     "output_type": "stream",
     "text": [
      "[343 344 345 ..., 452 453 454]\n",
      "[640 640 640 ...,  79  79  79]\n",
      "[1160 1161 1162 ..., 1277 1278 1279]\n",
      "[640 640 640 ...,  79  79  79]\n"
     ]
    },
    {
     "name": "stderr",
     "output_type": "stream",
     "text": [
      "\r",
      " 99%|█████████▊| 1244/1261 [07:48<00:06,  2.70it/s]"
     ]
    },
    {
     "name": "stdout",
     "output_type": "stream",
     "text": [
      "[346 347 348 ..., 446 447 448]\n",
      "[640 640 640 ...,  79  79  79]\n",
      "[1158 1159 1160 ..., 1277 1278 1279]\n",
      "[673 673 673 ...,  79  79  79]\n"
     ]
    },
    {
     "name": "stderr",
     "output_type": "stream",
     "text": [
      "\r",
      " 99%|█████████▊| 1245/1261 [07:48<00:05,  2.76it/s]"
     ]
    },
    {
     "name": "stdout",
     "output_type": "stream",
     "text": [
      "[346 347 348 ..., 440 441 442]\n",
      "[640 640 640 ...,  79  79  79]\n",
      "[1140 1141 1151 ..., 1277 1278 1279]\n",
      "[707 707 707 ...,  79  79  79]\n"
     ]
    },
    {
     "name": "stderr",
     "output_type": "stream",
     "text": [
      "\r",
      " 99%|█████████▉| 1246/1261 [07:49<00:05,  2.84it/s]"
     ]
    },
    {
     "name": "stdout",
     "output_type": "stream",
     "text": [
      "[348 349 350 ..., 434 435 436]\n",
      "[640 640 640 ...,  79  79  79]\n",
      "[1153 1154 1155 ..., 1258 1259 1260]\n",
      "[560 560 560 ..., 159 159 159]\n"
     ]
    },
    {
     "name": "stderr",
     "output_type": "stream",
     "text": [
      "\r",
      " 99%|█████████▉| 1247/1261 [07:49<00:04,  2.85it/s]"
     ]
    },
    {
     "name": "stdout",
     "output_type": "stream",
     "text": [
      "[353 354 355 ..., 446 447 448]\n",
      "[640 640 640 ...,  79  79  79]\n",
      "[1142 1143 1144 ..., 1219 1220 1221]\n",
      "[640 640 640 ..., 239 239 239]\n"
     ]
    },
    {
     "name": "stderr",
     "output_type": "stream",
     "text": [
      "\r",
      " 99%|█████████▉| 1248/1261 [07:49<00:04,  2.89it/s]"
     ]
    },
    {
     "name": "stdout",
     "output_type": "stream",
     "text": [
      "[351 352 353 ..., 440 441 442]\n",
      "[640 640 640 ...,  79  79  79]\n",
      "[1145 1146 1147 ..., 1224 1225 1226]\n",
      "[640 640 640 ..., 239 239 239]\n"
     ]
    },
    {
     "name": "stderr",
     "output_type": "stream",
     "text": [
      "\r",
      " 99%|█████████▉| 1249/1261 [07:50<00:04,  2.87it/s]"
     ]
    },
    {
     "name": "stdout",
     "output_type": "stream",
     "text": [
      "[351 352 353 ..., 446 447 448]\n",
      "[640 640 640 ...,  79  79  79]\n",
      "[1144 1145 1146 ..., 1219 1220 1221]\n",
      "[640 640 640 ..., 239 239 239]\n"
     ]
    },
    {
     "name": "stderr",
     "output_type": "stream",
     "text": [
      "\r",
      " 99%|█████████▉| 1250/1261 [07:50<00:03,  2.90it/s]"
     ]
    },
    {
     "name": "stdout",
     "output_type": "stream",
     "text": [
      "[350 351 352 ..., 446 447 448]\n",
      "[640 640 640 ...,  79  79  79]\n",
      "[1142 1143 1144 ..., 1204 1205 1206]\n",
      "[640 640 640 ...,  40  40  40]\n"
     ]
    },
    {
     "name": "stderr",
     "output_type": "stream",
     "text": [
      "\r",
      " 99%|█████████▉| 1251/1261 [07:50<00:03,  2.87it/s]"
     ]
    },
    {
     "name": "stdout",
     "output_type": "stream",
     "text": [
      "[346 347 348 ..., 434 435 436]\n",
      "[640 640 640 ...,  79  79  79]\n",
      "[1159 1160 1161 ..., 1223 1224 1225]\n",
      "[667 667 667 ...,  40  40  40]\n"
     ]
    },
    {
     "name": "stderr",
     "output_type": "stream",
     "text": [
      "\r",
      " 99%|█████████▉| 1252/1261 [07:51<00:03,  2.87it/s]"
     ]
    },
    {
     "name": "stdout",
     "output_type": "stream",
     "text": [
      "[345 346 347 ..., 428 429 430]\n",
      "[640 640 640 ...,  79  79  79]\n",
      "[1147 1148 1149 ..., 1214 1215 1216]\n",
      "[701 701 701 ...,  77  77  77]\n"
     ]
    },
    {
     "name": "stderr",
     "output_type": "stream",
     "text": [
      "\r",
      " 99%|█████████▉| 1253/1261 [07:51<00:02,  2.89it/s]"
     ]
    },
    {
     "name": "stdout",
     "output_type": "stream",
     "text": [
      "[345 346 347 ..., 416 417 418]\n",
      "[640 640 640 ...,  79  79  79]\n",
      "[1161 1162 1163 ..., 1230 1231 1232]\n",
      "[603 603 603 ...,  79  79  79]\n"
     ]
    },
    {
     "name": "stderr",
     "output_type": "stream",
     "text": [
      "\r",
      " 99%|█████████▉| 1254/1261 [07:51<00:02,  2.95it/s]"
     ]
    },
    {
     "name": "stdout",
     "output_type": "stream",
     "text": [
      "[342 343 344 ..., 422 423 424]\n",
      "[640 640 640 ...,  79  79  79]\n",
      "[1149 1150 1151 ..., 1230 1231 1232]\n",
      "[640 640 640 ...,  79  79  79]\n"
     ]
    },
    {
     "name": "stderr",
     "output_type": "stream",
     "text": [
      "\r",
      "100%|█████████▉| 1255/1261 [07:52<00:02,  2.93it/s]"
     ]
    },
    {
     "name": "stdout",
     "output_type": "stream",
     "text": [
      "[342 343 344 ..., 405 406 407]\n",
      "[640 640 640 ...,  79  79  79]\n",
      "[1160 1161 1162 ..., 1218 1219 1220]\n",
      "[668 668 668 ...,  79  79  79]\n"
     ]
    },
    {
     "name": "stderr",
     "output_type": "stream",
     "text": [
      "\r",
      "100%|█████████▉| 1256/1261 [07:52<00:01,  2.98it/s]"
     ]
    },
    {
     "name": "stdout",
     "output_type": "stream",
     "text": [
      "[338 339 340 ..., 405 406 407]\n",
      "[640 640 640 ...,  79  79  79]\n",
      "[1154 1155 1156 ..., 1218 1219 1220]\n",
      "[702 702 702 ...,  79  79  79]\n"
     ]
    },
    {
     "name": "stderr",
     "output_type": "stream",
     "text": [
      "\r",
      "100%|█████████▉| 1257/1261 [07:52<00:01,  2.97it/s]"
     ]
    },
    {
     "name": "stdout",
     "output_type": "stream",
     "text": [
      "[337 338 339 ..., 399 400 401]\n",
      "[640 640 640 ...,  79  79  79]\n",
      "[1138 1139 1140 ..., 1200 1201 1202]\n",
      "[560 560 560 ..., 159 159 159]\n"
     ]
    },
    {
     "name": "stderr",
     "output_type": "stream",
     "text": [
      "\r",
      "100%|█████████▉| 1258/1261 [07:53<00:01,  2.96it/s]"
     ]
    },
    {
     "name": "stdout",
     "output_type": "stream",
     "text": [
      "[335 336 337 ..., 399 400 401]\n",
      "[640 640 640 ...,  79  79  79]\n",
      "[1132 1133 1134 ..., 1184 1185 1186]\n",
      "[640 640 640 ..., 159 159 159]\n"
     ]
    },
    {
     "name": "stderr",
     "output_type": "stream",
     "text": [
      "\r",
      "100%|█████████▉| 1259/1261 [07:53<00:00,  3.01it/s]"
     ]
    },
    {
     "name": "stdout",
     "output_type": "stream",
     "text": [
      "[330 331 332 ..., 381 382 383]\n",
      "[640 640 640 ...,  79  79  79]\n",
      "[1136 1137 1138 ..., 1177 1178 1179]\n",
      "[640 640 640 ..., 239 239 239]\n"
     ]
    },
    {
     "name": "stderr",
     "output_type": "stream",
     "text": [
      "\r",
      "100%|█████████▉| 1260/1261 [07:53<00:00,  3.00it/s]"
     ]
    },
    {
     "name": "stdout",
     "output_type": "stream",
     "text": [
      "[327 328 329 ..., 375 376 377]\n",
      "[640 640 640 ...,  79  79  79]\n",
      "[1134 1135 1136 ..., 1172 1173 1174]\n",
      "[640 640 640 ..., 239 239 239]\n"
     ]
    },
    {
     "name": "stderr",
     "output_type": "stream",
     "text": [
      "\n"
     ]
    },
    {
     "name": "stdout",
     "output_type": "stream",
     "text": [
      "[MoviePy] Done.\n",
      "[MoviePy] >>>> Video ready: project_video_out.mp4 \n",
      "\n"
     ]
    }
   ],
   "source": [
    "from moviepy.video.io.VideoFileClip import VideoFileClip\n",
    "# 1. read in video frame\n",
    "video_in = 'project_video.mp4'\n",
    "video_out = 'project_video_out.mp4'\n",
    "\n",
    "# 2. Set up the fl_image\n",
    "clip = VideoFileClip(video_in)\n",
    "video_clip = clip.fl_image(pipeline)\n",
    "\n",
    "# 3. Output the video frames\n",
    "video_clip.write_videofile(video_out, audio=False)\n"
   ]
  },
  {
   "cell_type": "code",
   "execution_count": null,
   "metadata": {
    "collapsed": true
   },
   "outputs": [],
   "source": []
  }
 ],
 "metadata": {
  "kernelspec": {
   "display_name": "Python 3",
   "language": "python",
   "name": "python3"
  },
  "language_info": {
   "codemirror_mode": {
    "name": "ipython",
    "version": 3
   },
   "file_extension": ".py",
   "mimetype": "text/x-python",
   "name": "python",
   "nbconvert_exporter": "python",
   "pygments_lexer": "ipython3",
   "version": "3.5.1"
  }
 },
 "nbformat": 4,
 "nbformat_minor": 0
}
