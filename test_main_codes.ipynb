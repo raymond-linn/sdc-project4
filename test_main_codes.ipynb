{
 "cells": [
  {
   "cell_type": "code",
   "execution_count": 1,
   "metadata": {
    "collapsed": true
   },
   "outputs": [],
   "source": [
    "import numpy as np\n",
    "import cv2\n",
    "import glob\n",
    "import os\n",
    "import pickle\n",
    "import matplotlib.pyplot as plt\n",
    "%matplotlib inline\n",
    "\n",
    "# Calibrating Cmaera\n",
    "# parameters: image_path - where images used to calibrate camera# pickle_file - saved calibrated data\n",
    "# pickle_file - saved calibrated data file \n",
    "# return: mtx, dist, img_size\n",
    "def calibrate_camera(image_path, pickle_file):\n",
    "    # check if pickle file is not valid file then calibrate the camera\n",
    "    # and save the calibrated data in pickle_file\n",
    "    if not os.path.isfile(pickle_file):\n",
    "        print('picke file does not exist')\n",
    "        # initialize objpoints (3D real world space) and imgpoints (2D image plane)\n",
    "        objpoints = []\n",
    "        imgpoints = []\n",
    "\n",
    "        # check dimension of chessboard images to initialize individual object point\n",
    "        # the camera images in camera_cal folder does not seems to capture \n",
    "        # constant chessboard dimension and I am not getting treturn true from \n",
    "        # find chessboard corenr from every image so I have to change the dimension\n",
    "        # of chessboard images to find the corners [(9,6), (8,6), (9,5), (9,4) (7,6), (5,6)]\n",
    "\n",
    "        objp1 = np.zeros((9*6,3), np.float32)\n",
    "        objp1[:,:2] = np.mgrid[0:9, 0:6].T.reshape(-1,2)\n",
    "        objp2 = np.zeros((8*6,3), np.float32)\n",
    "        objp2[:,:2] = np.mgrid[0:8, 0:6].T.reshape(-1,2)\n",
    "        objp3 = np.zeros((9*5,3), np.float32)\n",
    "        objp3[:,:2] = np.mgrid[0:9, 0:5].T.reshape(-1,2)\n",
    "        objp4 = np.zeros((9*4,3), np.float32)\n",
    "        objp4[:,:2] = np.mgrid[0:9, 0:4].T.reshape(-1,2)\n",
    "        objp5 = np.zeros((7*6,3), np.float32)\n",
    "        objp5[:,:2] = np.mgrid[0:7, 0:6].T.reshape(-1,2)\n",
    "        objp6 = np.zeros((5*6,3), np.float32)\n",
    "        objp6[:,:2] = np.mgrid[0:5, 0:6].T.reshape(-1,2)\n",
    "\n",
    "        images = glob.glob(image_path+'/calibration*.jpg')\n",
    "\n",
    "        for idx, fname in enumerate(images):\n",
    "            # read in image file\n",
    "            img = cv2.imread(fname)\n",
    "            gray = cv2.cvtColor(img, cv2.COLOR_BGR2GRAY)\n",
    "\n",
    "            # find the chessboard corners through all those dimensions\n",
    "            ret, corners = cv2.findChessboardCorners(gray, (9,6), None)\n",
    "            objp = objp1\n",
    "            if not ret:\n",
    "                ret, corners = cv2.findChessboardCorners(gray, (8,6), None)\n",
    "                objp = objp2\n",
    "            if not ret:\n",
    "                ret, corners = cv2.findChessboardCorners(gray, (9,5), None)\n",
    "                objp = objp3\n",
    "            if not ret:\n",
    "                ret, corners = cv2.findChessboardCorners(gray, (9,4), None)\n",
    "                objp = objp4\n",
    "            if not ret:\n",
    "                ret, corners = cv2.findChessboardCorners(gray, (7,6), None)\n",
    "                objp = objp5\n",
    "            if not ret:\n",
    "                ret, corners = cv2.findChessboardCorners(gray, (5,6), None)\n",
    "                objp = objp6\n",
    "\n",
    "            # If found add object points and image points\n",
    "            if ret == True:\n",
    "                # print('found object points and image points')\n",
    "                objpoints.append(objp)\n",
    "                imgpoints.append(corners)\n",
    "                img_size = (img.shape[1], img.shape[0])\n",
    "\n",
    "                # cv2.drawChessboardCorners(img, (corners.shape[1],corners.shape[0]), corners, ret)\n",
    "\n",
    "                # calibrate camera\n",
    "                ret, mtx, dist, rvecs, tvecs = cv2.calibrateCamera(objpoints, \n",
    "                                                                    imgpoints, \n",
    "                                                                    img_size, \n",
    "                                                                    None, \n",
    "                                                                    None)\n",
    "\n",
    "        # save the data in pickel file for later use (we don't worry about rvecs and tvecs)\n",
    "        dist_pickle = {}\n",
    "        dist_pickle[\"img_size\"] = img_size\n",
    "        dist_pickle[\"mtx\"] = mtx\n",
    "        dist_pickle[\"dist\"] = dist\n",
    "        pickle.dump(dist_pickle, open(pickle_file, \"wb\"))\n",
    "        # print('saved distortion data to pickled file')\n",
    "\n",
    "    else:\n",
    "        # use the saved data \n",
    "        print('picke file exists')\n",
    "        with open(pickle_file, 'rb') as pkf:\n",
    "            data = pickle.load(pkf)\n",
    "            img_size = data[\"img_size\"]\n",
    "            mtx = data[\"mtx\"]\n",
    "            dist = data[\"dist\"]\n",
    "            # print('loaded pickle distortion file')\n",
    "\n",
    "    return mtx, dist, img_size"
   ]
  },
  {
   "cell_type": "code",
   "execution_count": 2,
   "metadata": {
    "collapsed": true
   },
   "outputs": [],
   "source": [
    "# undistort the camera image\n",
    "# parameters: img - images to undistort\n",
    "# mtx, dist - calibrated data returned from calibrate_camera()\n",
    "# return: undistorted image\n",
    "def undistort_image(img, mtx, dist):\n",
    "    image = cv2.imread(img)\n",
    "    dst = cv2.undistort(image, mtx, dist, None, mtx)\n",
    "    return dst"
   ]
  },
  {
   "cell_type": "code",
   "execution_count": 3,
   "metadata": {
    "collapsed": true
   },
   "outputs": [],
   "source": [
    "# Gradient Orientation Threshold using Sobel Operators\n",
    "# parameters: image, gradient orientation, kernel size and threshold min/max\n",
    "# return: binary_output of the gradient oreintation image\n",
    "def abs_sobel_thresh(img, orient='x', sobel_kernel=3, thresh=(0,255)):\n",
    "\n",
    "    gray = cv2.cvtColor(img, cv2.COLOR_BGR2GRAY)\n",
    "    # Apply x or y gradient with the OpenCV Sobel() function\n",
    "    # and take the absolute value\n",
    "    if orient == 'x':\n",
    "        abs_sobel = np.absolute(cv2.Sobel(gray, cv2.CV_64F, 1, 0))\n",
    "    if orient == 'y':\n",
    "        abs_sobel = np.absolute(cv2.Sobel(gray, cv2.CV_64F, 0, 1))\n",
    "    # Rescale back to 8 bit integer\n",
    "    scaled_sobel = np.uint8(255*abs_sobel/np.max(abs_sobel))\n",
    "    # Create a copy and apply the threshold\n",
    "    binary_output = np.zeros_like(scaled_sobel)\n",
    "    # Here I'm using inclusive (>=, <=) thresholds, but exclusive is ok too\n",
    "    # binary_output[(scaled_sobel >= thresh[0]) & (scaled_sobel <= thresh[1])] = 1\n",
    "    # using cv2.threshold function\n",
    "    ret, binary_output = cv2.threshold(scaled_sobel, thresh[0], thresh[1], cv2.THRESH_BINARY)\n",
    "\n",
    "    # Return the result\n",
    "    return binary_output\n",
    "\n",
    "# Magnitude of gradient Threshold \n",
    "# parameters: image, kernel size and magnitude threshold min/max\n",
    "# return: binary_output of the magnitude gradient image\n",
    "def mag_thresh(img, sobel_kernel=3, mag_thresh=(0, 255)):\n",
    "\n",
    "    # Take both Sobel x and y gradients\n",
    "    sobelx = cv2.Sobel(img[:,:,2], cv2.CV_64F, 1, 0, ksize=sobel_kernel)\n",
    "    sobely = cv2.Sobel(img[:,:,2], cv2.CV_64F, 0, 1, ksize=sobel_kernel)\n",
    "    # Calculate the gradient magnitude\n",
    "    gradmag = np.sqrt(sobelx**2 + sobely**2)\n",
    "    # Rescale to 8 bit\n",
    "    scale_factor = np.max(gradmag)/255 \n",
    "    gradmag = (gradmag/scale_factor).astype(np.uint8) \n",
    "    # Create a binary image of ones where threshold is met, zeros otherwise\n",
    "    binary_output = np.zeros_like(gradmag)\n",
    "    binary_output[(gradmag >= mag_thresh[0]) & (gradmag <= mag_thresh[1])] = 1\n",
    "    # Return the binary image\n",
    "    return binary_output\n",
    "\n",
    "# Directional gradient Threshold \n",
    "# parameters: image, kernel size and directional threshold range\n",
    "# return: binary_output of the directional gradient image\n",
    "def dir_threshold(img, sobel_kernel=3, thresh=(0, np.pi/2)):\n",
    "\n",
    "    # Calculate the x and y gradients\n",
    "    sobelx = cv2.Sobel(img[:,:,2], cv2.CV_64F, 1, 0, ksize=sobel_kernel)\n",
    "    sobely = cv2.Sobel(img[:,:,2], cv2.CV_64F, 0, 1, ksize=sobel_kernel)\n",
    "    # Take the absolute value of the gradient direction, \n",
    "    # apply a threshold, and create a binary image result\n",
    "    absgraddir = np.arctan2(np.absolute(sobely), np.absolute(sobelx))\n",
    "    binary_output =  np.zeros_like(absgraddir)\n",
    "    binary_output[(absgraddir >= thresh[0]) & (absgraddir <= thresh[1])] = 1\n",
    "\n",
    "    # Return the binary image\n",
    "    return binary_output\n",
    "\n",
    "# S-channel thresholds of HLS\n",
    "# parameters: image, and threshold min/max\n",
    "def hls_select(img, thresh=(0, 255)):\n",
    "\n",
    "    hls = cv2.cvtColor(img, cv2.COLOR_RGB2HLS)\n",
    "    s_channel = hls[:,:,2]\n",
    "    binary_output = np.zeros_like(s_channel)\n",
    "    binary_output[(s_channel > thresh[0]) & (s_channel <= thresh[1])] = 1\n",
    "\n",
    "    return binary_output\n",
    "\n",
    "# hsv yelloe and white thrshold\n",
    "# parameter: image \n",
    "def hsv_threshold(img):\n",
    "    # convet to hsv space\n",
    "    img = cv2.cvtColor(img, cv2.COLOR_RGB2HSV)\n",
    "\n",
    "    # yellow mask\n",
    "    yellow_min = np.array([15, 100, 120], np.uint8)\n",
    "    yellow_max = np.array([80, 255, 255], np.uint8)\n",
    "    yellow_mask = cv2.inRange(img, yellow_min, yellow_max)\n",
    "\n",
    "    # white mask\n",
    "    white_min = np.array([0, 0, 200], np.uint8)\n",
    "    white_max = np.array([255, 30, 255], np.uint8)\n",
    "    white_mask = cv2.inRange(img, white_min, white_max)\n",
    "\n",
    "    binary_output = np.zeros_like(img[:, :, 0])\n",
    "    binary_output[((yellow_mask != 0) | (white_mask != 0))] = 1\n",
    "\n",
    "    # filtered = img\n",
    "    # filtered[((yellow_mask == 0) & (white_mask == 0))] = 0\n",
    "\n",
    "    return binary_output\n",
    "\n",
    "# combining all the thresholding binary \n",
    "# parameter: img \n",
    "def combined_threshold(img):\n",
    "\n",
    "    ksize = 15\n",
    "    # directional gradient\n",
    "    dir_binary = dir_threshold(img, ksize, thresh=(0.7, 1.2))\n",
    "    # magnitude gradient\n",
    "    mag_binary = mag_thresh(img, ksize, mag_thresh=(50, 255))\n",
    "    # s channel binary\n",
    "    hls_binary = hls_select(img, (90,255))\n",
    "\n",
    "    hsv_binary = hsv_threshold(img)\n",
    "\n",
    "    # combine together\n",
    "    combined = np.zeros_like(dir_binary)\n",
    "    # combined[((gradx == 1) & (grady == 1)) | ((mag_binary == 1) & (dir_binary == 1)) | (hls_binary == 1)] = 1\n",
    "    combined[((hsv_binary == 1) & ((mag_binary == 1) | (dir_binary == 1)))] = 1\n",
    "\n",
    "    return combined"
   ]
  },
  {
   "cell_type": "code",
   "execution_count": 5,
   "metadata": {
    "collapsed": false
   },
   "outputs": [],
   "source": [
    "# compute perspective transform and warp image\n",
    "# parameters: img - undistorted image\n",
    "# src - four source points\n",
    "# dst - foour dst points\n",
    "def warp_image(img, src, dst):    \n",
    "    # need to convert gray scale?\n",
    "    M = cv2.getPerspectiveTransform(src, dst)\n",
    "    warped = cv2.warpPerspective(img, M, (img.shape[1], img.shape[0]), flags=cv2.INTER_LINEAR)\n",
    "\n",
    "    return warped, M\n",
    "\n",
    "# compute inverse perspective transform and unwarp image\n",
    "# parameters: img - undistorted image\n",
    "# src - four source points\n",
    "# dst - foour dst points \n",
    "def unwarp_image(img, dst, src):\n",
    "    # need to convert gray scale?\n",
    "    Minv = cv2.getPerspectiveTransform(dst, src)\n",
    "    unwarped = cv2.warpPerspective(img, Minv, (img.shape[1], img.shape[0]), flags=cv2.INTER_LINEAR)\n",
    "\n",
    "    return unwarped, Minv"
   ]
  },
  {
   "cell_type": "code",
   "execution_count": 6,
   "metadata": {
    "collapsed": true
   },
   "outputs": [],
   "source": [
    "# fitting the left and right lane lines using histogram and polyfit sliding window methods\n",
    "# support code is ported from udacity lecture\n",
    "# parameters: img - warped image\n",
    "# return: left_fit, right_fit - second order polynomial\n",
    "def fit_polynomial(img):\n",
    "    \n",
    "    # Assuming you have created a warped binary image called \"binary_warped\"\n",
    "    # Take a histogram of the bottom half of the image\n",
    "    histogram = np.sum(img[img.shape[0]/2:,:], axis=0)\n",
    "\n",
    "    # Create an output image to draw on and  visualize the result\n",
    "    out_img = np.dstack((img, img, img))*255\n",
    "\n",
    "    # Find the peak of the left and right halves of the histogram\n",
    "    # These will be the starting point for the left and right lines\n",
    "    midpoint = np.int(histogram.shape[0]/2)\n",
    "    leftx_base = np.argmax(histogram[:midpoint])\n",
    "    rightx_base = np.argmax(histogram[midpoint:]) + midpoint\n",
    "\n",
    "    # Choose the number of sliding windows\n",
    "    nwindows = 9\n",
    "    # Set height of windows\n",
    "    window_height = np.int(img.shape[0]/nwindows)\n",
    "\n",
    "    # Identify the x and y positions of all nonzero pixels in the image\n",
    "    nonzero = img.nonzero()\n",
    "    nonzeroy = np.array(nonzero[0])\n",
    "    nonzerox = np.array(nonzero[1])\n",
    "\n",
    "    # Current positions to be updated for each window\n",
    "    leftx_current = leftx_base\n",
    "    rightx_current = rightx_base\n",
    "\n",
    "    # Set the width of the windows +/- margin\n",
    "    margin = 100\n",
    "    # Set minimum number of pixels found to recenter window\n",
    "    minpix = 50\n",
    "    # Create empty lists to receive left and right lane pixel indices\n",
    "    left_lane_inds = []\n",
    "    right_lane_inds = []\n",
    "\n",
    "    # Step through the windows one by one\n",
    "    for window in range(nwindows):\n",
    "        # Identify window boundaries in x and y (and right and left)\n",
    "        win_y_low = img.shape[0] - (window+1)*window_height\n",
    "        win_y_high = img.shape[0] - window*window_height\n",
    "        win_xleft_low = leftx_current - margin\n",
    "        win_xleft_high = leftx_current + margin\n",
    "        win_xright_low = rightx_current - margin\n",
    "        win_xright_high = rightx_current + margin\n",
    "        # Draw the windows on the visualization image\n",
    "        cv2.rectangle(out_img,(win_xleft_low,win_y_low),(win_xleft_high,win_y_high),(0,255,0), 2) \n",
    "        cv2.rectangle(out_img,(win_xright_low,win_y_low),(win_xright_high,win_y_high),(0,255,0), 2) \n",
    "        # Identify the nonzero pixels in x and y within the window\n",
    "        good_left_inds = ((nonzeroy >= win_y_low) & (nonzeroy < win_y_high) \n",
    "            & (nonzerox >= win_xleft_low) & (nonzerox < win_xleft_high)).nonzero()[0]\n",
    "        good_right_inds = ((nonzeroy >= win_y_low) & (nonzeroy < win_y_high) \n",
    "            & (nonzerox >= win_xright_low) & (nonzerox < win_xright_high)).nonzero()[0]\n",
    "        # Append these indices to the lists\n",
    "        left_lane_inds.append(good_left_inds)\n",
    "        right_lane_inds.append(good_right_inds)\n",
    "        # If you found > minpix pixels, recenter next window on their mean position\n",
    "        if len(good_left_inds) > minpix:\n",
    "            leftx_current = np.int(np.mean(nonzerox[good_left_inds]))\n",
    "        if len(good_right_inds) > minpix:        \n",
    "            rightx_current = np.int(np.mean(nonzerox[good_right_inds]))\n",
    "\n",
    "    # Concatenate the arrays of indices\n",
    "    left_lane_inds = np.concatenate(left_lane_inds)\n",
    "    right_lane_inds = np.concatenate(right_lane_inds)\n",
    "\n",
    "    # Extract left and right line pixel positions\n",
    "    leftx = nonzerox[left_lane_inds]\n",
    "    print(leftx)\n",
    "    lefty = nonzeroy[left_lane_inds] \n",
    "    print(lefty)\n",
    "    rightx = nonzerox[right_lane_inds]\n",
    "    print(rightx)\n",
    "    righty = nonzeroy[right_lane_inds] \n",
    "    print(righty)\n",
    "\n",
    "    # Fit a second order polynomial to each\n",
    "    left_fit = np.polyfit(lefty, leftx, 2)\n",
    "    right_fit = np.polyfit(righty, rightx, 2)\n",
    "\n",
    "    return left_fit, right_fit"
   ]
  },
  {
   "cell_type": "code",
   "execution_count": 7,
   "metadata": {
    "collapsed": true
   },
   "outputs": [],
   "source": [
    "# Drawing the polynomial on the original image\n",
    "# parameters: img - image to be drawn on\n",
    "# left_fit, right_fit - generated by the polynomial fit \n",
    "# Minv - inverse perspective transform \n",
    "def draw_polygon(img, left_fit, right_fit, Minv):\n",
    "    blank = np.zeros_like(img).astype(np.uint8)\n",
    "\n",
    "    fity = np.linspace(0, img.shape[0] - 1, img.shape[0])\n",
    "    left_fitx = left_fit[0] * fity ** 2 + left_fit[1] * fity + left_fit[2]\n",
    "    right_fitx = right_fit[0] * fity ** 2 + right_fit[1] * fity + right_fit[2]\n",
    "\n",
    "    # Recast the x and y points into usable format for cv2.fillPoly()\n",
    "    left_pts = np.array([np.transpose(np.vstack([left_fitx, fity]))])\n",
    "    right_pts = np.array([np.flipud(np.transpose(np.vstack([right_fitx, fity])))])\n",
    "    # stack left_pts and right_pts to be a single array\n",
    "    pts = np.hstack((left_pts, right_pts))\n",
    "    # saved in np array\n",
    "    pts = np.array(pts, dtype=np.int32)\n",
    "    # draw the plygon\n",
    "    cv2.fillPoly(blank, pts, (0, 255, 0))\n",
    "\n",
    "    # using inverse perspective matrix (Minv)\n",
    "    unwapred = cv2.warpPerspective(blank, Minv, (img.shape[1], img.shape[0]))\n",
    "    # Combine with the original image\n",
    "    new_img = cv2.addWeighted(img, 1, unwapred, 0.3, 0)\n",
    "\n",
    "    return new_img"
   ]
  },
  {
   "cell_type": "code",
   "execution_count": 8,
   "metadata": {
    "collapsed": false
   },
   "outputs": [],
   "source": [
    "def pipeline(image):\n",
    "    # 1) undistort the frame image\n",
    "    # 1.1) read in the calculated coefficients from pickle file\n",
    "    if os.path.isfile('camera_cal/dist_pickle.p'):\n",
    "        with open('camera_cal/dist_pickle.p', 'rb') as pkf:\n",
    "            data = pickle.load(pkf)\n",
    "            mtx = data[\"mtx\"]\n",
    "            dist = data[\"dist\"]\n",
    "            img_size = data[\"img_size\"]\n",
    "    else:\n",
    "        # calibrate the camera using given chessboard images, store in 'dist_pickle.p'\n",
    "        mtx, dist, img_size = p4Util.calibrate_camera('camera_cal', 'camera_cal/dist_pickle.p')\n",
    "\n",
    "    # print(img_size)\n",
    "    # undistort the image\n",
    "    img = cv2.undistort(image, mtx, dist, None, mtx)\n",
    "    # 2) apply threshold\n",
    "    img = combined_threshold(img)\n",
    "    # 3) perspective transform and warp image\n",
    "    src = np.float32(\n",
    "            [[(img_size[0] / 2) - 55, img_size[1] / 2 + 100],\n",
    "            [((img_size[0] / 6) - 10), img_size[1]],\n",
    "            [(img_size[0] * 5 / 6) + 60, img_size[1]],\n",
    "            [(img_size[0] / 2 + 55), img_size[1] / 2 + 100]])\n",
    "    dst = np.float32(\n",
    "            [[(img_size[0] / 4), 0],\n",
    "            [(img_size[0] / 4), img_size[1]],\n",
    "            [(img_size[0] * 3 / 4), img_size[1]],\n",
    "            [(img_size[0] * 3 / 4), 0]])\n",
    "    warped, M = warp_image(img, src, dst)\n",
    "    # to get inverse perspective transform to use to drawback on original image\n",
    "    unwarped, Minv = unwarp_image(img, dst, src)\n",
    "    # 4) poly fit for left lane and right lane\n",
    "    left_fit, right_fit = fit_polynomial(warped)    \n",
    "    # 5) draw left and right with polygon on the original image\n",
    "    new_img = draw_polygon(image, left_fit, right_fit, Minv)\n",
    "\n",
    "    # return the new image \n",
    "    return new_img"
   ]
  },
  {
   "cell_type": "code",
   "execution_count": 9,
   "metadata": {
    "collapsed": false
   },
   "outputs": [
    {
     "name": "stderr",
     "output_type": "stream",
     "text": [
      "WARNING:py.warnings:/Users/raymondlinn/anaconda/lib/python3.5/site-packages/moviepy/audio/io/readers.py:123: VisibleDeprecationWarning: using a non-integer number instead of an integer will result in an error in the future\n",
      "  self.nchannels))\n",
      "\n",
      "WARNING:py.warnings:/Users/raymondlinn/anaconda/lib/python3.5/site-packages/ipykernel/__main__.py:9: VisibleDeprecationWarning: using a non-integer number instead of an integer will result in an error in the future\n",
      "\n"
     ]
    },
    {
     "name": "stdout",
     "output_type": "stream",
     "text": [
      "[360 361 362 ..., 283 284 285]\n",
      "[640 640 640 ...,  79  79  79]\n",
      "[ 999 1000 1001 ..., 1006 1007 1008]\n",
      "[560 560 560 ..., 239 239 239]\n",
      "[MoviePy] >>>> Building video project_video_out.mp4\n",
      "[MoviePy] Writing video project_video_out.mp4\n"
     ]
    },
    {
     "name": "stderr",
     "output_type": "stream",
     "text": [
      "  0%|          | 0/1261 [00:00<?, ?it/s]WARNING:py.warnings:/Users/raymondlinn/anaconda/lib/python3.5/site-packages/ipykernel/__main__.py:9: VisibleDeprecationWarning: using a non-integer number instead of an integer will result in an error in the future\n",
      "\n",
      "  0%|          | 1/1261 [00:00<05:39,  3.71it/s]"
     ]
    },
    {
     "name": "stdout",
     "output_type": "stream",
     "text": [
      "[360 361 362 ..., 283 284 285]\n",
      "[640 640 640 ...,  79  79  79]\n",
      "[ 999 1000 1001 ..., 1006 1007 1008]\n",
      "[560 560 560 ..., 239 239 239]\n",
      "[359 360 361 ..., 283 284 285]"
     ]
    },
    {
     "name": "stderr",
     "output_type": "stream",
     "text": [
      "\r",
      "  0%|          | 2/1261 [00:00<05:50,  3.59it/s]"
     ]
    },
    {
     "name": "stdout",
     "output_type": "stream",
     "text": [
      "\n",
      "[640 640 640 ...,  79  79  79]\n",
      "[ 998  999 1000 ..., 1002 1003 1004]\n",
      "[640 640 640 ..., 239 239 239]\n",
      "[360 361 362 ..., 283 284 285]"
     ]
    },
    {
     "name": "stderr",
     "output_type": "stream",
     "text": [
      "\r",
      "  0%|          | 3/1261 [00:00<05:46,  3.63it/s]"
     ]
    },
    {
     "name": "stdout",
     "output_type": "stream",
     "text": [
      "\n",
      "[640 640 640 ...,  79  79  79]\n",
      "[996 997 998 ..., 994 995 996]\n",
      "[640 640 640 ..., 239 239 239]\n",
      "[361 362 363 ..., 283 284 285]"
     ]
    },
    {
     "name": "stderr",
     "output_type": "stream",
     "text": [
      "\r",
      "  0%|          | 4/1261 [00:01<05:45,  3.64it/s]"
     ]
    },
    {
     "name": "stdout",
     "output_type": "stream",
     "text": [
      "\n",
      "[640 640 640 ...,  79  79  79]\n",
      "[995 996 997 ..., 929 930 931]\n",
      "[640 640 640 ...,  43  43  43]\n",
      "[362 363 364 ..., 289 290 291]"
     ]
    },
    {
     "name": "stderr",
     "output_type": "stream",
     "text": [
      "\r",
      "  0%|          | 5/1261 [00:01<05:45,  3.64it/s]"
     ]
    },
    {
     "name": "stdout",
     "output_type": "stream",
     "text": [
      "\n",
      "[640 640 640 ...,  79  79  79]\n",
      "[995 996 997 ..., 930 931 932]\n",
      "[640 640 640 ...,  79  79  79]\n",
      "[364 365 366 ..., 289 290 291]"
     ]
    },
    {
     "name": "stderr",
     "output_type": "stream",
     "text": [
      "\r",
      "  0%|          | 6/1261 [00:01<05:53,  3.55it/s]"
     ]
    },
    {
     "name": "stdout",
     "output_type": "stream",
     "text": [
      "\n",
      "[640 640 640 ...,  79  79  79]\n",
      "[1009 1010 1011 ...,  946  947  948]\n",
      "[658 658 658 ...,  79  79  79]\n",
      "[366 367 368 ..., 283 284 285]"
     ]
    },
    {
     "name": "stderr",
     "output_type": "stream",
     "text": [
      "\r",
      "  1%|          | 7/1261 [00:02<06:12,  3.37it/s]"
     ]
    },
    {
     "name": "stdout",
     "output_type": "stream",
     "text": [
      "\n",
      "[640 640 640 ...,  79  79  79]\n",
      "[1005 1006 1007 ...,  951  952  953]\n",
      "[684 684 684 ...,  79  79  79]\n",
      "[366 367 368 ..., 278 279 280]"
     ]
    },
    {
     "name": "stderr",
     "output_type": "stream",
     "text": [
      "\r",
      "  1%|          | 8/1261 [00:02<06:06,  3.42it/s]"
     ]
    },
    {
     "name": "stdout",
     "output_type": "stream",
     "text": [
      "\n",
      "[640 640 640 ...,  79  79  79]\n",
      "[1008 1009 1010 ...,  946  947  948]\n",
      "[588 588 588 ...,  79  79  79]\n",
      "[365 366 367 ..., 273 274 275]"
     ]
    },
    {
     "name": "stderr",
     "output_type": "stream",
     "text": [
      "\r",
      "  1%|          | 9/1261 [00:02<06:02,  3.46it/s]"
     ]
    },
    {
     "name": "stdout",
     "output_type": "stream",
     "text": [
      "\n",
      "[640 640 640 ...,  79  79  79]\n",
      "[1013 1014 1015 ...,  951  952  953]\n",
      "[613 613 613 ...,  79  79  79]\n",
      "[365 366 367 ..., 273 274 275]"
     ]
    },
    {
     "name": "stderr",
     "output_type": "stream",
     "text": [
      "\r",
      "  1%|          | 10/1261 [00:02<06:02,  3.45it/s]"
     ]
    },
    {
     "name": "stdout",
     "output_type": "stream",
     "text": [
      "\n",
      "[640 640 640 ...,  79  79  79]\n",
      "[1009 1010 1011 ...,  951  952  953]\n",
      "[640 640 640 ...,  79  79  79]\n",
      "[365 366 367 ..., 278 279 280]"
     ]
    },
    {
     "name": "stderr",
     "output_type": "stream",
     "text": [
      "\r",
      "  1%|          | 11/1261 [00:03<06:05,  3.42it/s]"
     ]
    },
    {
     "name": "stdout",
     "output_type": "stream",
     "text": [
      "\n",
      "[640 640 640 ...,  79  79  79]\n",
      "[1014 1015 1016 ...,  962  963  964]\n",
      "[665 665 665 ..., 159 159 159]\n",
      "[362 363 364 ..., 273 274 275]"
     ]
    },
    {
     "name": "stderr",
     "output_type": "stream",
     "text": [
      "\r",
      "  1%|          | 12/1261 [00:03<06:04,  3.42it/s]"
     ]
    },
    {
     "name": "stdout",
     "output_type": "stream",
     "text": [
      "\n",
      "[640 640 640 ...,  79  79  79]\n",
      "[1017 1018 1019 ...,  980  981  982]\n",
      "[690 690 690 ..., 159 159 159]\n",
      "[362 363 364 ..., 273 274 275]"
     ]
    },
    {
     "name": "stderr",
     "output_type": "stream",
     "text": [
      "\r",
      "  1%|          | 13/1261 [00:03<06:08,  3.38it/s]"
     ]
    },
    {
     "name": "stdout",
     "output_type": "stream",
     "text": [
      "\n",
      "[640 640 640 ...,  79  79  79]\n",
      "[997 998 999 ..., 976 977 978]\n",
      "[560 560 560 ..., 159 159 159]\n",
      "[362 363 364 ..., 273 274 275]"
     ]
    },
    {
     "name": "stderr",
     "output_type": "stream",
     "text": [
      "\r",
      "  1%|          | 14/1261 [00:04<06:07,  3.39it/s]"
     ]
    },
    {
     "name": "stdout",
     "output_type": "stream",
     "text": [
      "\n",
      "[640 640 640 ...,  79  79  79]\n",
      "[995 996 997 ..., 982 983 984]\n",
      "[560 560 560 ..., 239 239 239]\n",
      "[362 363 364 ..., 273 274 275]"
     ]
    },
    {
     "name": "stderr",
     "output_type": "stream",
     "text": [
      "\r",
      "  1%|          | 15/1261 [00:04<05:59,  3.47it/s]"
     ]
    },
    {
     "name": "stdout",
     "output_type": "stream",
     "text": [
      "\n",
      "[640 640 640 ...,  79  79  79]\n",
      "[995 996 997 ..., 969 970 971]\n",
      "[640 640 640 ..., 239 239 239]\n",
      "[364 365 366 ..., 273 274 275]"
     ]
    },
    {
     "name": "stderr",
     "output_type": "stream",
     "text": [
      "\r",
      "  1%|▏         | 16/1261 [00:04<05:55,  3.51it/s]"
     ]
    },
    {
     "name": "stdout",
     "output_type": "stream",
     "text": [
      "\n",
      "[640 640 640 ...,  79  79  79]\n",
      "[991 992 993 ..., 895 896 897]\n",
      "[640 640 640 ...,  43  43  43]\n",
      "[361 362 363 ..., 273 274 275]"
     ]
    },
    {
     "name": "stderr",
     "output_type": "stream",
     "text": [
      "\r",
      "  1%|▏         | 17/1261 [00:04<06:00,  3.45it/s]"
     ]
    },
    {
     "name": "stdout",
     "output_type": "stream",
     "text": [
      "\n",
      "[640 640 640 ...,  79  79  79]\n",
      "[990 991 992 ..., 898 899 900]\n",
      "[640 640 640 ...,  79  79  79]\n",
      "[362 363 364 ..., 278 279 280]"
     ]
    },
    {
     "name": "stderr",
     "output_type": "stream",
     "text": [
      "\r",
      "  1%|▏         | 18/1261 [00:05<05:53,  3.52it/s]"
     ]
    },
    {
     "name": "stdout",
     "output_type": "stream",
     "text": [
      "\n",
      "[640 640 640 ...,  79  79  79]\n",
      "[1000 1001 1002 ...,  909  910  911]\n",
      "[649 649 649 ...,  79  79  79]\n",
      "[364 365 366 ..., 262 263 264]"
     ]
    },
    {
     "name": "stderr",
     "output_type": "stream",
     "text": [
      "\r",
      "  2%|▏         | 19/1261 [00:05<05:52,  3.52it/s]"
     ]
    },
    {
     "name": "stdout",
     "output_type": "stream",
     "text": [
      "\n",
      "[640 640 640 ...,  79  79  79]\n",
      "[ 999 1000 1001 ...,  919  920  921]\n",
      "[674 674 674 ...,  79  79  79]\n",
      "[361 362 363 ..., 262 263 264]"
     ]
    },
    {
     "name": "stderr",
     "output_type": "stream",
     "text": [
      "\r",
      "  2%|▏         | 20/1261 [00:05<05:44,  3.60it/s]"
     ]
    },
    {
     "name": "stdout",
     "output_type": "stream",
     "text": [
      "\n",
      "[640 640 640 ...,  79  79  79]\n",
      "[993 994 994 ..., 930 931 932]\n",
      "[697 697 699 ...,  79  79  79]\n",
      "[359 360 361 ..., 262 263 264]"
     ]
    },
    {
     "name": "stderr",
     "output_type": "stream",
     "text": [
      "\r",
      "  2%|▏         | 21/1261 [00:05<05:41,  3.64it/s]"
     ]
    },
    {
     "name": "stdout",
     "output_type": "stream",
     "text": [
      "\n",
      "[640 640 640 ...,  79  79  79]\n",
      "[1000 1001 1002 ...,  935  936  937]\n",
      "[602 602 602 ...,  79  79  79]\n",
      "[356 357 358 ..., 262 263 264]"
     ]
    },
    {
     "name": "stderr",
     "output_type": "stream",
     "text": [
      "\r",
      "  2%|▏         | 22/1261 [00:06<05:38,  3.66it/s]"
     ]
    },
    {
     "name": "stdout",
     "output_type": "stream",
     "text": [
      "\n",
      "[640 640 640 ...,  79  79  79]\n",
      "[1006 1007 1008 ...,  946  947  948]\n",
      "[626 626 626 ...,  79  79  79]\n",
      "[354 355 356 ..., 257 258 259]"
     ]
    },
    {
     "name": "stderr",
     "output_type": "stream",
     "text": [
      "\r",
      "  2%|▏         | 23/1261 [00:06<05:45,  3.58it/s]"
     ]
    },
    {
     "name": "stdout",
     "output_type": "stream",
     "text": [
      "\n",
      "[640 640 640 ...,  79  79  79]\n",
      "[993 994 991 ..., 956 957 958]\n",
      "[651 651 652 ...,  79  79  79]\n",
      "[352 353 354 ..., 262 263 264]"
     ]
    },
    {
     "name": "stderr",
     "output_type": "stream",
     "text": [
      "\r",
      "  2%|▏         | 24/1261 [00:06<06:06,  3.37it/s]"
     ]
    },
    {
     "name": "stdout",
     "output_type": "stream",
     "text": [
      "\n",
      "[640 640 640 ...,  79  79  79]\n",
      "[992 993 994 ..., 966 967 968]\n",
      "[678 678 678 ..., 159 159 159]\n",
      "[351 352 353 ..., 262 263 264]"
     ]
    },
    {
     "name": "stderr",
     "output_type": "stream",
     "text": [
      "\r",
      "  2%|▏         | 25/1261 [00:07<05:59,  3.44it/s]"
     ]
    },
    {
     "name": "stdout",
     "output_type": "stream",
     "text": [
      "\n",
      "[640 640 640 ...,  79  79  79]\n",
      "[991 992 993 ..., 962 963 964]\n",
      "[703 703 704 ..., 159 159 159]\n",
      "[349 350 351 ..., 257 258 259]"
     ]
    },
    {
     "name": "stderr",
     "output_type": "stream",
     "text": [
      "\r",
      "  2%|▏         | 26/1261 [00:07<05:51,  3.51it/s]"
     ]
    },
    {
     "name": "stdout",
     "output_type": "stream",
     "text": [
      "\n",
      "[640 640 640 ...,  79  79  79]\n",
      "[988 989 990 ..., 976 977 978]\n",
      "[560 560 560 ..., 159 159 159]\n",
      "[347 348 349 ..., 257 258 259]"
     ]
    },
    {
     "name": "stderr",
     "output_type": "stream",
     "text": [
      "\r",
      "  2%|▏         | 27/1261 [00:07<05:54,  3.48it/s]"
     ]
    },
    {
     "name": "stdout",
     "output_type": "stream",
     "text": [
      "\n",
      "[640 640 640 ...,  79  79  79]\n",
      "[990 991 992 ..., 986 987 988]\n",
      "[640 640 640 ..., 239 239 239]\n",
      "[344 345 346 ..., 252 253 254]"
     ]
    },
    {
     "name": "stderr",
     "output_type": "stream",
     "text": [
      "\r",
      "  2%|▏         | 28/1261 [00:07<05:44,  3.58it/s]"
     ]
    },
    {
     "name": "stdout",
     "output_type": "stream",
     "text": [
      "\n",
      "[640 640 640 ...,  79  79  79]\n",
      "[ 994  995  996 ...,  998  999 1000]\n",
      "[640 640 640 ..., 239 239 239]\n",
      "[344 345 346 ..., 257 258 259]"
     ]
    },
    {
     "name": "stderr",
     "output_type": "stream",
     "text": [
      "\r",
      "  2%|▏         | 29/1261 [00:08<05:40,  3.62it/s]"
     ]
    },
    {
     "name": "stdout",
     "output_type": "stream",
     "text": [
      "\n",
      "[640 640 640 ...,  79  79  79]\n",
      "[994 995 996 ..., 994 995 996]\n",
      "[640 640 640 ..., 239 239 239]\n",
      "[344 345 346 ..., 268 269 270]"
     ]
    },
    {
     "name": "stderr",
     "output_type": "stream",
     "text": [
      "\r",
      "  2%|▏         | 30/1261 [00:08<05:36,  3.65it/s]"
     ]
    },
    {
     "name": "stdout",
     "output_type": "stream",
     "text": [
      "\n",
      "[640 640 640 ...,  79  79  79]\n",
      "[991 992 993 ..., 920 921 922]\n",
      "[640 640 640 ...,  22  22  22]\n",
      "[345 346 347 ..., 268 269 270]"
     ]
    },
    {
     "name": "stderr",
     "output_type": "stream",
     "text": [
      "\r",
      "  2%|▏         | 31/1261 [00:08<06:02,  3.39it/s]"
     ]
    },
    {
     "name": "stdout",
     "output_type": "stream",
     "text": [
      "\n",
      "[640 640 640 ...,  79  79  79]\n",
      "[995 996 997 ..., 914 915 916]\n",
      "[654 654 654 ...,  79  79  79]\n",
      "[347 348 349 ..., 257 258 259]"
     ]
    },
    {
     "name": "stderr",
     "output_type": "stream",
     "text": [
      "\r",
      "  3%|▎         | 32/1261 [00:09<05:51,  3.50it/s]"
     ]
    },
    {
     "name": "stdout",
     "output_type": "stream",
     "text": [
      "\n",
      "[640 640 640 ...,  79  79  79]\n",
      "[995 996 992 ..., 930 931 932]\n",
      "[680 680 681 ...,  79  79  79]\n",
      "[347 348 349 ..., 268 269 270]"
     ]
    },
    {
     "name": "stderr",
     "output_type": "stream",
     "text": [
      "\r",
      "  3%|▎         | 33/1261 [00:09<05:43,  3.58it/s]"
     ]
    },
    {
     "name": "stdout",
     "output_type": "stream",
     "text": [
      "\n",
      "[640 640 640 ...,  79  79  79]\n",
      "[993 994 994 ..., 940 941 942]\n",
      "[705 705 706 ...,  79  79  79]\n",
      "[347 348 349 ..., 268 269 270]"
     ]
    },
    {
     "name": "stderr",
     "output_type": "stream",
     "text": [
      "\r",
      "  3%|▎         | 34/1261 [00:09<05:39,  3.61it/s]"
     ]
    },
    {
     "name": "stdout",
     "output_type": "stream",
     "text": [
      "\n",
      "[640 640 640 ...,  79  79  79]\n",
      "[1004 1005 1006 ...,  935  936  937]\n",
      "[610 610 610 ...,  79  79  79]\n",
      "[349 350 351 ..., 262 263 264]"
     ]
    },
    {
     "name": "stderr",
     "output_type": "stream",
     "text": [
      "\r",
      "  3%|▎         | 35/1261 [00:09<05:40,  3.60it/s]"
     ]
    },
    {
     "name": "stdout",
     "output_type": "stream",
     "text": [
      "\n",
      "[640 640 640 ...,  79  79  79]\n",
      "[994 995 996 ..., 930 931 932]\n",
      "[640 640 640 ...,  79  79  79]\n",
      "[351 352 353 ..., 262 263 264]"
     ]
    },
    {
     "name": "stderr",
     "output_type": "stream",
     "text": [
      "\r",
      "  3%|▎         | 36/1261 [00:10<05:35,  3.65it/s]"
     ]
    },
    {
     "name": "stdout",
     "output_type": "stream",
     "text": [
      "\n",
      "[640 640 640 ...,  79  79  79]\n",
      "[1001 1002 1003 ...,  943  944  945]\n",
      "[663 663 663 ..., 159 159 159]\n",
      "[360 361 362 ..., 262 263 264]"
     ]
    },
    {
     "name": "stderr",
     "output_type": "stream",
     "text": [
      "\r",
      "  3%|▎         | 37/1261 [00:10<05:31,  3.69it/s]"
     ]
    },
    {
     "name": "stdout",
     "output_type": "stream",
     "text": [
      "\n",
      "[640 640 640 ...,  79  79  79]\n",
      "[1005 1006 1007 ...,  943  944  945]\n",
      "[689 689 689 ..., 159 159 159]\n",
      "[355 356 357 ..., 247 248 249]"
     ]
    },
    {
     "name": "stderr",
     "output_type": "stream",
     "text": [
      "\r",
      "  3%|▎         | 38/1261 [00:10<05:25,  3.75it/s]"
     ]
    },
    {
     "name": "stdout",
     "output_type": "stream",
     "text": [
      "\n",
      "[640 640 640 ...,  79  79  79]\n",
      "[982 983 984 ..., 961 962 963]\n",
      "[560 560 560 ..., 239 239 239]\n",
      "[357 358 359 ..., 257 258 259]"
     ]
    },
    {
     "name": "stderr",
     "output_type": "stream",
     "text": [
      "\r",
      "  3%|▎         | 39/1261 [00:11<05:23,  3.77it/s]"
     ]
    },
    {
     "name": "stdout",
     "output_type": "stream",
     "text": [
      "\n",
      "[640 640 640 ...,  79  79  79]\n",
      "[979 980 981 ..., 953 954 955]\n",
      "[560 560 560 ..., 239 239 239]\n",
      "[357 358 359 ..., 247 248 249]"
     ]
    },
    {
     "name": "stderr",
     "output_type": "stream",
     "text": [
      "\r",
      "  3%|▎         | 40/1261 [00:11<05:23,  3.77it/s]"
     ]
    },
    {
     "name": "stdout",
     "output_type": "stream",
     "text": [
      "\n",
      "[640 640 640 ...,  79  79  79]\n",
      "[985 986 987 ..., 863 864 865]\n",
      "[640 640 640 ...,  22  22  22]\n",
      "[355 356 357 ..., 268 269 270]"
     ]
    },
    {
     "name": "stderr",
     "output_type": "stream",
     "text": [
      "\r",
      "  3%|▎         | 41/1261 [00:11<05:26,  3.74it/s]"
     ]
    },
    {
     "name": "stdout",
     "output_type": "stream",
     "text": [
      "\n",
      "[640 640 640 ...,  79  79  79]\n",
      "[985 986 987 ..., 873 874 875]\n",
      "[640 640 640 ...,  43  43  43]\n",
      "[356 357 358 ..., 262 263 264]"
     ]
    },
    {
     "name": "stderr",
     "output_type": "stream",
     "text": [
      "\r",
      "  3%|▎         | 42/1261 [00:11<05:33,  3.66it/s]"
     ]
    },
    {
     "name": "stdout",
     "output_type": "stream",
     "text": [
      "\n",
      "[640 640 640 ...,  79  79  79]\n",
      "[986 987 988 ..., 883 884 885]\n",
      "[640 640 640 ...,  63  63  63]\n",
      "[357 358 359 ..., 257 258 259]"
     ]
    },
    {
     "name": "stderr",
     "output_type": "stream",
     "text": [
      "\r",
      "  3%|▎         | 43/1261 [00:12<05:54,  3.44it/s]"
     ]
    },
    {
     "name": "stdout",
     "output_type": "stream",
     "text": [
      "\n",
      "[640 640 640 ...,  79  79  79]\n",
      "[991 992 993 ..., 898 899 900]\n",
      "[640 640 640 ...,  79  79  79]\n",
      "[356 357 358 ..., 257 258 259]"
     ]
    },
    {
     "name": "stderr",
     "output_type": "stream",
     "text": [
      "\r",
      "  3%|▎         | 44/1261 [00:12<05:43,  3.54it/s]"
     ]
    },
    {
     "name": "stdout",
     "output_type": "stream",
     "text": [
      "\n",
      "[640 640 640 ...,  79  79  79]\n",
      "[ 998  999 1000 ...,  919  920  921]\n",
      "[663 663 663 ...,  79  79  79]\n",
      "[356 357 358 ..., 257 258 259]"
     ]
    },
    {
     "name": "stderr",
     "output_type": "stream",
     "text": [
      "\r",
      "  4%|▎         | 45/1261 [00:12<05:40,  3.57it/s]"
     ]
    },
    {
     "name": "stdout",
     "output_type": "stream",
     "text": [
      "\n",
      "[640 640 640 ...,  79  79  79]\n",
      "[997 998 999 ..., 930 931 932]\n",
      "[689 689 689 ...,  79  79  79]\n",
      "[356 357 358 ..., 247 248 249]"
     ]
    },
    {
     "name": "stderr",
     "output_type": "stream",
     "text": [
      "\r",
      "  4%|▎         | 46/1261 [00:12<05:36,  3.61it/s]"
     ]
    },
    {
     "name": "stdout",
     "output_type": "stream",
     "text": [
      "\n",
      "[640 640 640 ...,  79  79  79]\n",
      "[ 999 1000 1001 ...,  925  926  927]\n",
      "[599 599 599 ...,  79  79  79]\n",
      "[355 356 357 ..., 247 248 249]"
     ]
    },
    {
     "name": "stderr",
     "output_type": "stream",
     "text": [
      "\r",
      "  4%|▎         | 47/1261 [00:13<05:35,  3.62it/s]"
     ]
    },
    {
     "name": "stdout",
     "output_type": "stream",
     "text": [
      "\n",
      "[640 640 640 ...,  79  79  79]\n",
      "[1003 1004 1005 ...,  930  931  932]\n",
      "[624 624 624 ...,  79  79  79]\n",
      "[356 357 358 ..., 247 248 249]"
     ]
    },
    {
     "name": "stderr",
     "output_type": "stream",
     "text": [
      "\r",
      "  4%|▍         | 48/1261 [00:13<05:46,  3.50it/s]"
     ]
    },
    {
     "name": "stdout",
     "output_type": "stream",
     "text": [
      "\n",
      "[640 640 640 ...,  79  79  79]\n",
      "[1006 1007 1000 ...,  925  926  927]\n",
      "[650 650 651 ...,  79  79  79]\n",
      "[361 362 363 ..., 241 242 243]"
     ]
    },
    {
     "name": "stderr",
     "output_type": "stream",
     "text": [
      "\r",
      "  4%|▍         | 49/1261 [00:13<06:06,  3.31it/s]"
     ]
    },
    {
     "name": "stdout",
     "output_type": "stream",
     "text": [
      "\n",
      "[640 640 640 ...,  79  79  79]\n",
      "[995 996 997 ..., 957 958 959]\n",
      "[676 676 676 ..., 159 159 159]\n",
      "[355 356 357 ..., 241 242 243]"
     ]
    },
    {
     "name": "stderr",
     "output_type": "stream",
     "text": [
      "\r",
      "  4%|▍         | 50/1261 [00:14<06:00,  3.36it/s]"
     ]
    },
    {
     "name": "stdout",
     "output_type": "stream",
     "text": [
      "\n",
      "[640 640 640 ...,  79  79  79]\n",
      "[996 994 995 ..., 952 953 954]\n",
      "[701 702 702 ..., 159 159 159]\n",
      "[355 356 357 ..., 241 242 243]"
     ]
    },
    {
     "name": "stderr",
     "output_type": "stream",
     "text": [
      "\r",
      "  4%|▍         | 51/1261 [00:14<05:59,  3.36it/s]"
     ]
    },
    {
     "name": "stdout",
     "output_type": "stream",
     "text": [
      "\n",
      "[640 640 640 ...,  79  79  79]\n",
      "[988 989 990 ..., 952 953 954]\n",
      "[560 560 560 ..., 159 159 159]\n",
      "[356 357 358 ..., 247 248 249]"
     ]
    },
    {
     "name": "stderr",
     "output_type": "stream",
     "text": [
      "\r",
      "  4%|▍         | 52/1261 [00:14<05:53,  3.42it/s]"
     ]
    },
    {
     "name": "stdout",
     "output_type": "stream",
     "text": [
      "\n",
      "[640 640 640 ...,  79  79  79]\n",
      "[989 990 991 ..., 957 958 959]\n",
      "[640 640 640 ..., 239 239 239]\n",
      "[356 357 358 ..., 247 248 249]"
     ]
    },
    {
     "name": "stderr",
     "output_type": "stream",
     "text": [
      "\r",
      "  4%|▍         | 53/1261 [00:15<05:47,  3.47it/s]"
     ]
    },
    {
     "name": "stdout",
     "output_type": "stream",
     "text": [
      "\n",
      "[640 640 640 ...,  79  79  79]\n",
      "[987 988 989 ..., 957 958 959]\n",
      "[640 640 640 ..., 239 239 239]\n",
      "[355 356 357 ..., 257 258 259]"
     ]
    },
    {
     "name": "stderr",
     "output_type": "stream",
     "text": [
      "\r",
      "  4%|▍         | 54/1261 [00:15<05:44,  3.51it/s]"
     ]
    },
    {
     "name": "stdout",
     "output_type": "stream",
     "text": [
      "\n",
      "[640 640 640 ...,  79  79  79]\n",
      "[986 987 988 ..., 873 874 875]\n",
      "[640 640 640 ...,  43  43  43]\n",
      "[355 356 357 ..., 252 253 254]"
     ]
    },
    {
     "name": "stderr",
     "output_type": "stream",
     "text": [
      "\r",
      "  4%|▍         | 55/1261 [00:15<05:38,  3.57it/s]"
     ]
    },
    {
     "name": "stdout",
     "output_type": "stream",
     "text": [
      "\n",
      "[640 640 640 ...,  79  79  79]\n",
      "[986 987 988 ..., 883 884 885]\n",
      "[640 640 640 ...,  63  63  63]\n",
      "[354 355 356 ..., 252 253 254]"
     ]
    },
    {
     "name": "stderr",
     "output_type": "stream",
     "text": [
      "\r",
      "  4%|▍         | 56/1261 [00:15<05:43,  3.51it/s]"
     ]
    },
    {
     "name": "stdout",
     "output_type": "stream",
     "text": [
      "\n",
      "[640 640 640 ...,  79  79  79]\n",
      "[994 995 996 ..., 893 894 895]\n",
      "[652 652 652 ...,  79  79  79]\n",
      "[352 353 354 ..., 257 258 259]"
     ]
    },
    {
     "name": "stderr",
     "output_type": "stream",
     "text": [
      "\r",
      "  5%|▍         | 57/1261 [00:16<05:48,  3.46it/s]"
     ]
    },
    {
     "name": "stdout",
     "output_type": "stream",
     "text": [
      "\n",
      "[640 640 640 ...,  79  79  79]\n",
      "[994 995 996 ..., 909 910 911]\n",
      "[678 678 678 ...,  79  79  79]\n",
      "[352 353 354 ..., 257 258 259]"
     ]
    },
    {
     "name": "stderr",
     "output_type": "stream",
     "text": [
      "\r",
      "  5%|▍         | 58/1261 [00:16<05:46,  3.47it/s]"
     ]
    },
    {
     "name": "stdout",
     "output_type": "stream",
     "text": [
      "\n",
      "[640 640 640 ...,  79  79  79]\n",
      "[995 996 992 ..., 914 915 916]\n",
      "[704 704 705 ...,  79  79  79]\n",
      "[354 355 356 ..., 257 258 259]"
     ]
    },
    {
     "name": "stderr",
     "output_type": "stream",
     "text": [
      "\r",
      "  5%|▍         | 59/1261 [00:16<05:45,  3.48it/s]"
     ]
    },
    {
     "name": "stdout",
     "output_type": "stream",
     "text": [
      "\n",
      "[640 640 640 ...,  79  79  79]\n",
      "[992 993 994 ..., 898 899 900]\n",
      "[613 613 613 ...,  79  79  79]\n",
      "[356 357 358 ..., 252 253 254]"
     ]
    },
    {
     "name": "stderr",
     "output_type": "stream",
     "text": [
      "\r",
      "  5%|▍         | 60/1261 [00:17<05:42,  3.51it/s]"
     ]
    },
    {
     "name": "stdout",
     "output_type": "stream",
     "text": [
      "\n",
      "[640 640 640 ...,  79  79  79]\n",
      "[990 991 992 ..., 910 911 912]\n",
      "[641 641 641 ..., 159 159 159]\n",
      "[352 353 354 ..., 236 237 238]"
     ]
    },
    {
     "name": "stderr",
     "output_type": "stream",
     "text": [
      "\r",
      "  5%|▍         | 61/1261 [00:17<05:42,  3.50it/s]"
     ]
    },
    {
     "name": "stdout",
     "output_type": "stream",
     "text": [
      "\n",
      "[640 640 640 ...,  79  79  79]\n",
      "[991 992 993 ..., 905 906 907]\n",
      "[667 667 667 ..., 159 159 159]\n",
      "[352 353 354 ..., 262 263 264]"
     ]
    },
    {
     "name": "stderr",
     "output_type": "stream",
     "text": [
      "\r",
      "  5%|▍         | 62/1261 [00:17<05:36,  3.57it/s]"
     ]
    },
    {
     "name": "stdout",
     "output_type": "stream",
     "text": [
      "\n",
      "[640 640 640 ...,  79  79  79]\n",
      "[985 984 985 ..., 924 925 926]\n",
      "[691 692 692 ..., 239 239 239]\n",
      "[350 351 352 ..., 262 263 264]"
     ]
    },
    {
     "name": "stderr",
     "output_type": "stream",
     "text": [
      "\r",
      "  5%|▍         | 63/1261 [00:17<05:47,  3.45it/s]"
     ]
    },
    {
     "name": "stdout",
     "output_type": "stream",
     "text": [
      "\n",
      "[640 640 640 ...,  79  79  79]\n",
      "[968 969 970 ..., 928 929 930]\n",
      "[560 560 560 ..., 239 239 239]\n",
      "[350 351 352 ..., 262 263 264]"
     ]
    },
    {
     "name": "stderr",
     "output_type": "stream",
     "text": [
      "\r",
      "  5%|▌         | 64/1261 [00:18<06:11,  3.23it/s]"
     ]
    },
    {
     "name": "stdout",
     "output_type": "stream",
     "text": [
      "\n",
      "[640 640 640 ...,  79  79  79]\n",
      "[966 967 968 ..., 846 847 848]\n",
      "[560 560 560 ...,  22  22  22]\n",
      "[347 348 349 ..., 262 263 264]"
     ]
    },
    {
     "name": "stderr",
     "output_type": "stream",
     "text": [
      "\r",
      "  5%|▌         | 65/1261 [00:18<05:57,  3.34it/s]"
     ]
    },
    {
     "name": "stdout",
     "output_type": "stream",
     "text": [
      "\n",
      "[640 640 640 ...,  79  79  79]\n",
      "[975 976 977 ..., 851 852 853]\n",
      "[640 640 640 ...,  43  43  43]\n",
      "[346 347 348 ..., 262 263 264]"
     ]
    },
    {
     "name": "stderr",
     "output_type": "stream",
     "text": [
      "\r",
      "  5%|▌         | 66/1261 [00:18<05:47,  3.44it/s]"
     ]
    },
    {
     "name": "stdout",
     "output_type": "stream",
     "text": [
      "\n",
      "[640 640 640 ...,  79  79  79]\n",
      "[974 975 976 ..., 867 868 869]\n",
      "[640 640 640 ...,  63  63  63]\n",
      "[345 346 347 ..., 268 269 270]"
     ]
    },
    {
     "name": "stderr",
     "output_type": "stream",
     "text": [
      "\r",
      "  5%|▌         | 67/1261 [00:19<05:42,  3.49it/s]"
     ]
    },
    {
     "name": "stdout",
     "output_type": "stream",
     "text": [
      "\n",
      "[640 640 640 ...,  79  79  79]\n",
      "[972 973 974 ..., 877 878 879]\n",
      "[640 640 640 ...,  79  79  79]\n",
      "[342 343 344 ..., 262 263 264]"
     ]
    },
    {
     "name": "stderr",
     "output_type": "stream",
     "text": [
      "\r",
      "  5%|▌         | 68/1261 [00:19<05:41,  3.49it/s]"
     ]
    },
    {
     "name": "stdout",
     "output_type": "stream",
     "text": [
      "\n",
      "[640 640 640 ...,  79  79  79]\n",
      "[977 978 984 ..., 898 899 900]\n",
      "[647 647 647 ...,  79  79  79]\n",
      "[342 343 344 ..., 262 263 264]"
     ]
    },
    {
     "name": "stderr",
     "output_type": "stream",
     "text": [
      "\r",
      "  5%|▌         | 69/1261 [00:19<05:44,  3.46it/s]"
     ]
    },
    {
     "name": "stdout",
     "output_type": "stream",
     "text": [
      "\n",
      "[640 640 640 ...,  79  79  79]\n",
      "[985 986 987 ..., 893 894 895]\n",
      "[673 673 673 ...,  79  79  79]\n",
      "[341 342 343 ..., 268 269 270]"
     ]
    },
    {
     "name": "stderr",
     "output_type": "stream",
     "text": [
      "\r",
      "  6%|▌         | 70/1261 [00:19<05:47,  3.43it/s]"
     ]
    },
    {
     "name": "stdout",
     "output_type": "stream",
     "text": [
      "\n",
      "[640 640 640 ...,  79  79  79]\n",
      "[978 979 976 ..., 898 899 900]\n",
      "[696 696 697 ...,  79  79  79]\n",
      "[342 343 344 ..., 273 274 275]"
     ]
    },
    {
     "name": "stderr",
     "output_type": "stream",
     "text": [
      "\r",
      "  6%|▌         | 71/1261 [00:20<05:43,  3.46it/s]"
     ]
    },
    {
     "name": "stdout",
     "output_type": "stream",
     "text": [
      "\n",
      "[640 640 640 ...,  79  79  79]\n",
      "[979 980 981 ..., 898 899 900]\n",
      "[602 602 602 ...,  79  79  79]\n",
      "[340 341 342 ..., 268 269 270]"
     ]
    },
    {
     "name": "stderr",
     "output_type": "stream",
     "text": [
      "\r",
      "  6%|▌         | 72/1261 [00:20<05:49,  3.40it/s]"
     ]
    },
    {
     "name": "stdout",
     "output_type": "stream",
     "text": [
      "\n",
      "[640 640 640 ...,  79  79  79]\n",
      "[980 981 982 ..., 924 925 926]\n",
      "[628 628 628 ..., 159 159 159]\n",
      "[340 341 342 ..., 268 269 270]"
     ]
    },
    {
     "name": "stderr",
     "output_type": "stream",
     "text": [
      "\r",
      "  6%|▌         | 73/1261 [00:20<05:46,  3.43it/s]"
     ]
    },
    {
     "name": "stdout",
     "output_type": "stream",
     "text": [
      "\n",
      "[640 640 640 ...,  79  79  79]\n",
      "[983 984 985 ..., 929 930 931]\n",
      "[653 653 653 ..., 159 159 159]\n",
      "[340 341 342 ..., 273 274 275]"
     ]
    },
    {
     "name": "stderr",
     "output_type": "stream",
     "text": [
      "\r",
      "  6%|▌         | 74/1261 [00:21<05:41,  3.48it/s]"
     ]
    },
    {
     "name": "stdout",
     "output_type": "stream",
     "text": [
      "\n",
      "[640 640 640 ...,  79  79  79]\n",
      "[976 977 983 ..., 929 930 931]\n",
      "[679 679 679 ..., 159 159 159]\n",
      "[339 340 341 ..., 236 237 238]"
     ]
    },
    {
     "name": "stderr",
     "output_type": "stream",
     "text": [
      "\r",
      "  6%|▌         | 75/1261 [00:21<05:35,  3.53it/s]"
     ]
    },
    {
     "name": "stdout",
     "output_type": "stream",
     "text": [
      "\n",
      "[640 640 640 ...,  79  79  79]\n",
      "[975 976 977 ..., 934 935 936]\n",
      "[704 704 704 ..., 159 159 159]\n",
      "[340 341 342 ..., 268 269 270]"
     ]
    },
    {
     "name": "stderr",
     "output_type": "stream",
     "text": [
      "\r",
      "  6%|▌         | 76/1261 [00:21<05:30,  3.58it/s]"
     ]
    },
    {
     "name": "stdout",
     "output_type": "stream",
     "text": [
      "\n",
      "[640 640 640 ...,  79  79  79]\n",
      "[960 961 962 ..., 945 946 947]\n",
      "[560 560 560 ..., 239 239 239]\n",
      "[337 338 339 ..., 262 263 264]"
     ]
    },
    {
     "name": "stderr",
     "output_type": "stream",
     "text": [
      "\r",
      "  6%|▌         | 77/1261 [00:21<05:37,  3.50it/s]"
     ]
    },
    {
     "name": "stdout",
     "output_type": "stream",
     "text": [
      "\n",
      "[640 640 640 ...,  79  79  79]\n",
      "[967 968 969 ..., 957 958 959]\n",
      "[640 640 640 ..., 239 239 239]\n",
      "[335 336 337 ..., 241 242 243]"
     ]
    },
    {
     "name": "stderr",
     "output_type": "stream",
     "text": [
      "\r",
      "  6%|▌         | 78/1261 [00:22<05:40,  3.47it/s]"
     ]
    },
    {
     "name": "stdout",
     "output_type": "stream",
     "text": [
      "\n",
      "[640 640 640 ...,  79  79  79]\n",
      "[969 970 971 ..., 961 962 963]\n",
      "[640 640 640 ..., 239 239 239]\n",
      "[332 333 334 ..., 236 237 238]"
     ]
    },
    {
     "name": "stderr",
     "output_type": "stream",
     "text": [
      "\r",
      "  6%|▋         | 79/1261 [00:22<06:24,  3.07it/s]"
     ]
    },
    {
     "name": "stdout",
     "output_type": "stream",
     "text": [
      "\n",
      "[640 640 640 ...,  79  79  79]\n",
      "[970 971 972 ..., 892 893 894]\n",
      "[640 640 640 ...,  22  22  22]\n",
      "[330 331 332 ..., 262 263 264]"
     ]
    },
    {
     "name": "stderr",
     "output_type": "stream",
     "text": [
      "\r",
      "  6%|▋         | 80/1261 [00:22<06:31,  3.02it/s]"
     ]
    },
    {
     "name": "stdout",
     "output_type": "stream",
     "text": [
      "\n",
      "[640 640 640 ...,  79  79  79]\n",
      "[969 970 971 ..., 901 902 903]\n",
      "[640 640 640 ...,  43  43  43]\n",
      "[330 331 332 ..., 262 263 264]"
     ]
    },
    {
     "name": "stderr",
     "output_type": "stream",
     "text": [
      "\r",
      "  6%|▋         | 81/1261 [00:23<06:34,  2.99it/s]"
     ]
    },
    {
     "name": "stdout",
     "output_type": "stream",
     "text": [
      "\n",
      "[640 640 640 ...,  79  79  79]\n",
      "[973 974 975 ..., 904 905 906]\n",
      "[652 652 652 ...,  79  79  79]\n",
      "[327 328 329 ..., 257 258 259]"
     ]
    },
    {
     "name": "stderr",
     "output_type": "stream",
     "text": [
      "\r",
      "  7%|▋         | 82/1261 [00:23<06:34,  2.99it/s]"
     ]
    },
    {
     "name": "stdout",
     "output_type": "stream",
     "text": [
      "\n",
      "[640 640 640 ...,  79  79  79]\n",
      "[972 973 974 ..., 919 920 921]\n",
      "[678 678 678 ...,  79  79  79]\n",
      "[326 327 328 ..., 231 232 233]"
     ]
    },
    {
     "name": "stderr",
     "output_type": "stream",
     "text": [
      "\r",
      "  7%|▋         | 83/1261 [00:23<06:23,  3.07it/s]"
     ]
    },
    {
     "name": "stdout",
     "output_type": "stream",
     "text": [
      "\n",
      "[640 640 640 ...,  79  79  79]\n",
      "[972 973 974 ..., 925 926 927]\n",
      "[704 704 704 ...,  79  79  79]\n",
      "[322 323 324 ..., 226 227 228]"
     ]
    },
    {
     "name": "stderr",
     "output_type": "stream",
     "text": [
      "\r",
      "  7%|▋         | 84/1261 [00:24<06:19,  3.10it/s]"
     ]
    },
    {
     "name": "stdout",
     "output_type": "stream",
     "text": [
      "\n",
      "[640 640 640 ...,  79  79  79]\n",
      "[984 985 986 ..., 940 941 942]\n",
      "[607 607 607 ...,  79  79  79]\n",
      "[321 322 323 ..., 262 263 264]"
     ]
    },
    {
     "name": "stderr",
     "output_type": "stream",
     "text": [
      "\r",
      "  7%|▋         | 85/1261 [00:24<06:13,  3.15it/s]"
     ]
    },
    {
     "name": "stdout",
     "output_type": "stream",
     "text": [
      "\n",
      "[640 640 640 ...,  79  79  79]\n",
      "[977 978 979 ..., 940 941 942]\n",
      "[633 633 633 ...,  79  79  79]\n",
      "[322 323 324 ..., 252 253 254]"
     ]
    },
    {
     "name": "stderr",
     "output_type": "stream",
     "text": [
      "\r",
      "  7%|▋         | 86/1261 [00:24<06:23,  3.06it/s]"
     ]
    },
    {
     "name": "stdout",
     "output_type": "stream",
     "text": [
      "\n",
      "[640 640 640 ...,  79  79  79]\n",
      "[976 977 978 ..., 940 941 942]\n",
      "[661 661 661 ...,  79  79  79]\n",
      "[321 322 323 ..., 257 258 259]"
     ]
    },
    {
     "name": "stderr",
     "output_type": "stream",
     "text": [
      "\r",
      "  7%|▋         | 87/1261 [00:25<06:10,  3.17it/s]"
     ]
    },
    {
     "name": "stdout",
     "output_type": "stream",
     "text": [
      "\n",
      "[640 640 640 ...,  79  79  79]\n",
      "[972 973 974 ..., 943 944 945]\n",
      "[687 687 687 ..., 159 159 159]\n",
      "[323 324 325 ..., 268 269 270]"
     ]
    },
    {
     "name": "stderr",
     "output_type": "stream",
     "text": [
      "\r",
      "  7%|▋         | 88/1261 [00:25<06:06,  3.20it/s]"
     ]
    },
    {
     "name": "stdout",
     "output_type": "stream",
     "text": [
      "\n",
      "[640 640 640 ...,  79  79  79]\n",
      "[964 965 966 ..., 934 935 936]\n",
      "[560 560 560 ..., 159 159 159]\n",
      "[325 326 327 ..., 262 263 264]"
     ]
    },
    {
     "name": "stderr",
     "output_type": "stream",
     "text": [
      "\r",
      "  7%|▋         | 89/1261 [00:25<06:06,  3.20it/s]"
     ]
    },
    {
     "name": "stdout",
     "output_type": "stream",
     "text": [
      "\n",
      "[640 640 640 ...,  79  79  79]\n",
      "[962 963 964 ..., 945 946 947]\n",
      "[560 560 560 ..., 239 239 239]\n",
      "[328 329 330 ..., 278 279 280]"
     ]
    },
    {
     "name": "stderr",
     "output_type": "stream",
     "text": [
      "\r",
      "  7%|▋         | 90/1261 [00:26<06:01,  3.24it/s]"
     ]
    },
    {
     "name": "stdout",
     "output_type": "stream",
     "text": [
      "\n",
      "[640 640 640 ...,  79  79  79]\n",
      "[962 963 964 ..., 862 863 864]\n",
      "[640 640 640 ...,  43  43  43]\n",
      "[335 336 337 ..., 278 279 280]"
     ]
    },
    {
     "name": "stderr",
     "output_type": "stream",
     "text": [
      "\r",
      "  7%|▋         | 91/1261 [00:26<05:55,  3.30it/s]"
     ]
    },
    {
     "name": "stdout",
     "output_type": "stream",
     "text": [
      "\n",
      "[640 640 640 ...,  79  79  79]\n",
      "[965 966 967 ..., 872 873 874]\n",
      "[640 640 640 ...,  63  63  63]\n",
      "[335 336 337 ..., 278 279 280]"
     ]
    },
    {
     "name": "stderr",
     "output_type": "stream",
     "text": [
      "\r",
      "  7%|▋         | 92/1261 [00:26<05:54,  3.30it/s]"
     ]
    },
    {
     "name": "stdout",
     "output_type": "stream",
     "text": [
      "\n",
      "[640 640 640 ...,  79  79  79]\n",
      "[965 966 967 ..., 883 884 885]\n",
      "[640 640 640 ...,  79  79  79]\n",
      "[335 336 337 ..., 268 269 270]"
     ]
    },
    {
     "name": "stderr",
     "output_type": "stream",
     "text": [
      "\r",
      "  7%|▋         | 93/1261 [00:27<05:57,  3.26it/s]"
     ]
    },
    {
     "name": "stdout",
     "output_type": "stream",
     "text": [
      "\n",
      "[640 640 640 ...,  79  79  79]\n",
      "[963 964 965 ..., 904 905 906]\n",
      "[640 640 640 ...,  79  79  79]\n",
      "[333 334 335 ..., 273 274 275]"
     ]
    },
    {
     "name": "stderr",
     "output_type": "stream",
     "text": [
      "\r",
      "  7%|▋         | 94/1261 [00:27<06:06,  3.18it/s]"
     ]
    },
    {
     "name": "stdout",
     "output_type": "stream",
     "text": [
      "\n",
      "[640 640 640 ...,  79  79  79]\n",
      "[970 971 972 ..., 898 899 900]\n",
      "[662 662 662 ...,  79  79  79]\n",
      "[331 332 333 ..., 273 274 275]"
     ]
    },
    {
     "name": "stderr",
     "output_type": "stream",
     "text": [
      "\r",
      "  8%|▊         | 95/1261 [00:27<06:02,  3.21it/s]"
     ]
    },
    {
     "name": "stdout",
     "output_type": "stream",
     "text": [
      "\n",
      "[640 640 640 ...,  79  79  79]\n",
      "[977 978 979 ..., 909 910 911]\n",
      "[687 687 687 ...,  79  79  79]\n",
      "[336 337 339 ..., 278 279 280]"
     ]
    },
    {
     "name": "stderr",
     "output_type": "stream",
     "text": [
      "\r",
      "  8%|▊         | 96/1261 [00:28<05:58,  3.25it/s]"
     ]
    },
    {
     "name": "stdout",
     "output_type": "stream",
     "text": [
      "\n",
      "[640 640 640 ...,  79  79  79]\n",
      "[974 975 976 ..., 909 910 911]\n",
      "[595 595 595 ...,  79  79  79]\n",
      "[333 334 335 ..., 268 269 270]"
     ]
    },
    {
     "name": "stderr",
     "output_type": "stream",
     "text": [
      "\r",
      "  8%|▊         | 97/1261 [00:28<05:52,  3.30it/s]"
     ]
    },
    {
     "name": "stdout",
     "output_type": "stream",
     "text": [
      "\n",
      "[640 640 640 ...,  79  79  79]\n",
      "[975 976 977 ..., 909 910 911]\n",
      "[621 621 621 ...,  79  79  79]\n",
      "[332 333 334 ..., 273 274 275]"
     ]
    },
    {
     "name": "stderr",
     "output_type": "stream",
     "text": [
      "\r",
      "  8%|▊         | 98/1261 [00:28<05:53,  3.29it/s]"
     ]
    },
    {
     "name": "stdout",
     "output_type": "stream",
     "text": [
      "\n",
      "[640 640 640 ...,  79  79  79]\n",
      "[974 975 976 ..., 938 939 940]\n",
      "[647 647 647 ..., 159 159 159]\n",
      "[336 337 338 ..., 278 279 280]"
     ]
    },
    {
     "name": "stderr",
     "output_type": "stream",
     "text": [
      "\r",
      "  8%|▊         | 99/1261 [00:28<05:57,  3.25it/s]"
     ]
    },
    {
     "name": "stdout",
     "output_type": "stream",
     "text": [
      "\n",
      "[640 640 640 ...,  79  79  79]\n",
      "[966 967 978 ..., 934 935 936]\n",
      "[673 673 673 ..., 159 159 159]\n",
      "[335 336 337 ..., 278 279 280]"
     ]
    },
    {
     "name": "stderr",
     "output_type": "stream",
     "text": [
      "\r",
      "  8%|▊         | 100/1261 [00:29<05:52,  3.30it/s]"
     ]
    },
    {
     "name": "stdout",
     "output_type": "stream",
     "text": [
      "\n",
      "[640 640 640 ...,  79  79  79]\n",
      "[966 964 965 ..., 938 939 940]\n",
      "[697 698 698 ..., 159 159 159]\n",
      "[337 338 339 ..., 273 274 275]"
     ]
    },
    {
     "name": "stderr",
     "output_type": "stream",
     "text": [
      "\r",
      "  8%|▊         | 101/1261 [00:29<05:44,  3.37it/s]"
     ]
    },
    {
     "name": "stdout",
     "output_type": "stream",
     "text": [
      "\n",
      "[640 640 640 ...,  79  79  79]\n",
      "[960 961 962 ..., 953 954 955]\n",
      "[560 560 560 ..., 239 239 239]\n",
      "[337 338 339 ..., 273 274 275]"
     ]
    },
    {
     "name": "stderr",
     "output_type": "stream",
     "text": [
      "\r",
      "  8%|▊         | 102/1261 [00:29<05:40,  3.40it/s]"
     ]
    },
    {
     "name": "stdout",
     "output_type": "stream",
     "text": [
      "\n",
      "[640 640 640 ...,  79  79  79]\n",
      "[960 961 962 ..., 949 950 951]\n",
      "[640 640 640 ..., 239 239 239]\n",
      "[339 340 341 ..., 278 279 280]"
     ]
    },
    {
     "name": "stderr",
     "output_type": "stream",
     "text": [
      "\r",
      "  8%|▊         | 103/1261 [00:30<05:42,  3.38it/s]"
     ]
    },
    {
     "name": "stdout",
     "output_type": "stream",
     "text": [
      "\n",
      "[640 640 640 ...,  79  79  79]\n",
      "[961 962 963 ..., 875 876 877]\n",
      "[640 640 640 ...,  22  22  22]\n",
      "[342 343 344 ..., 278 279 280]"
     ]
    },
    {
     "name": "stderr",
     "output_type": "stream",
     "text": [
      "\r",
      "  8%|▊         | 104/1261 [00:30<05:42,  3.38it/s]"
     ]
    },
    {
     "name": "stdout",
     "output_type": "stream",
     "text": [
      "\n",
      "[640 640 640 ...,  79  79  79]\n",
      "[963 964 965 ..., 890 891 892]\n",
      "[640 640 640 ...,  43  43  43]\n",
      "[339 340 341 ..., 273 274 275]"
     ]
    },
    {
     "name": "stderr",
     "output_type": "stream",
     "text": [
      "\r",
      "  8%|▊         | 105/1261 [00:30<05:47,  3.32it/s]"
     ]
    },
    {
     "name": "stdout",
     "output_type": "stream",
     "text": [
      "\n",
      "[640 640 640 ...,  79  79  79]\n",
      "[967 968 969 ..., 906 907 908]\n",
      "[640 640 640 ...,  43  43  43]\n",
      "[339 340 341 ..., 278 279 280]"
     ]
    },
    {
     "name": "stderr",
     "output_type": "stream",
     "text": [
      "\r",
      "  8%|▊         | 106/1261 [00:30<05:48,  3.31it/s]"
     ]
    },
    {
     "name": "stdout",
     "output_type": "stream",
     "text": [
      "\n",
      "[640 640 640 ...,  79  79  79]\n",
      "[985 986 987 ..., 915 916 917]\n",
      "[647 647 647 ...,  63  63  63]\n",
      "[339 340 341 ..., 268 269 270]"
     ]
    },
    {
     "name": "stderr",
     "output_type": "stream",
     "text": [
      "\r",
      "  8%|▊         | 107/1261 [00:31<05:40,  3.39it/s]"
     ]
    },
    {
     "name": "stdout",
     "output_type": "stream",
     "text": [
      "\n",
      "[640 640 640 ...,  79  79  79]\n",
      "[976 977 985 ..., 930 931 932]\n",
      "[673 673 673 ...,  79  79  79]\n",
      "[342 343 344 ..., 252 253 254]"
     ]
    },
    {
     "name": "stderr",
     "output_type": "stream",
     "text": [
      "\r",
      "  9%|▊         | 108/1261 [00:31<05:39,  3.39it/s]"
     ]
    },
    {
     "name": "stdout",
     "output_type": "stream",
     "text": [
      "\n",
      "[640 640 640 ...,  79  79  79]\n",
      "[976 973 974 ..., 946 947 948]\n",
      "[698 699 699 ...,  79  79  79]\n",
      "[341 342 343 ..., 252 253 254]"
     ]
    },
    {
     "name": "stderr",
     "output_type": "stream",
     "text": [
      "\r",
      "  9%|▊         | 109/1261 [00:31<05:51,  3.28it/s]"
     ]
    },
    {
     "name": "stdout",
     "output_type": "stream",
     "text": [
      "\n",
      "[640 640 640 ...,  79  79  79]\n",
      "[987 988 989 ..., 946 947 948]\n",
      "[600 600 600 ...,  79  79  79]\n",
      "[341 342 343 ..., 278 279 280]"
     ]
    },
    {
     "name": "stderr",
     "output_type": "stream",
     "text": [
      "\r",
      "  9%|▊         | 110/1261 [00:32<05:51,  3.28it/s]"
     ]
    },
    {
     "name": "stdout",
     "output_type": "stream",
     "text": [
      "\n",
      "[640 640 640 ...,  79  79  79]\n",
      "[989 990 991 ..., 946 947 948]\n",
      "[626 626 626 ...,  79  79  79]\n",
      "[342 343 344 ..., 278 279 280]"
     ]
    },
    {
     "name": "stderr",
     "output_type": "stream",
     "text": [
      "\r",
      "  9%|▉         | 111/1261 [00:32<06:05,  3.15it/s]"
     ]
    },
    {
     "name": "stdout",
     "output_type": "stream",
     "text": [
      "\n",
      "[640 640 640 ...,  79  79  79]\n",
      "[978 979 990 ..., 940 941 942]\n",
      "[653 653 653 ...,  79  79  79]\n",
      "[340 341 342 ..., 273 274 275]"
     ]
    },
    {
     "name": "stderr",
     "output_type": "stream",
     "text": [
      "\r",
      "  9%|▉         | 112/1261 [00:32<06:27,  2.97it/s]"
     ]
    },
    {
     "name": "stdout",
     "output_type": "stream",
     "text": [
      "\n",
      "[640 640 640 ...,  79  79  79]\n",
      "[981 982 992 ..., 976 977 978]\n",
      "[678 678 678 ..., 159 159 159]\n",
      "[342 343 344 ..., 268 269 270]"
     ]
    },
    {
     "name": "stderr",
     "output_type": "stream",
     "text": [
      "\r",
      "  9%|▉         | 113/1261 [00:33<06:17,  3.04it/s]"
     ]
    },
    {
     "name": "stdout",
     "output_type": "stream",
     "text": [
      "\n",
      "[640 640 640 ...,  79  79  79]\n",
      "[980 981 979 ..., 966 967 968]\n",
      "[703 703 704 ..., 159 159 159]\n",
      "[344 345 346 ..., 273 274 275]"
     ]
    },
    {
     "name": "stderr",
     "output_type": "stream",
     "text": [
      "\r",
      "  9%|▉         | 114/1261 [00:33<06:07,  3.12it/s]"
     ]
    },
    {
     "name": "stdout",
     "output_type": "stream",
     "text": [
      "\n",
      "[640 640 640 ...,  79  79  79]\n",
      "[977 978 979 ..., 978 979 980]\n",
      "[560 560 560 ..., 239 239 239]\n",
      "[346 347 348 ..., 278 279 280]"
     ]
    },
    {
     "name": "stderr",
     "output_type": "stream",
     "text": [
      "\r",
      "  9%|▉         | 115/1261 [00:33<05:57,  3.21it/s]"
     ]
    },
    {
     "name": "stdout",
     "output_type": "stream",
     "text": [
      "\n",
      "[640 640 640 ...,  79  79  79]\n",
      "[977 978 979 ..., 969 970 971]\n",
      "[640 640 640 ..., 239 239 239]\n",
      "[347 348 349 ..., 278 279 280]"
     ]
    },
    {
     "name": "stderr",
     "output_type": "stream",
     "text": [
      "\r",
      "  9%|▉         | 116/1261 [00:34<05:42,  3.34it/s]"
     ]
    },
    {
     "name": "stdout",
     "output_type": "stream",
     "text": [
      "\n",
      "[640 640 640 ...,  79  79  79]\n",
      "[976 977 978 ..., 892 893 894]\n",
      "[640 640 640 ...,  22  22  22]\n",
      "[351 352 353 ..., 283 284 285]"
     ]
    },
    {
     "name": "stderr",
     "output_type": "stream",
     "text": [
      "\r",
      "  9%|▉         | 117/1261 [00:34<05:30,  3.46it/s]"
     ]
    },
    {
     "name": "stdout",
     "output_type": "stream",
     "text": [
      "\n",
      "[640 640 640 ...,  79  79  79]\n",
      "[976 977 978 ..., 901 902 903]\n",
      "[640 640 640 ...,  43  43  43]\n",
      "[349 350 351 ..., 278 279 280]"
     ]
    },
    {
     "name": "stderr",
     "output_type": "stream",
     "text": [
      "\r",
      "  9%|▉         | 118/1261 [00:34<05:28,  3.48it/s]"
     ]
    },
    {
     "name": "stdout",
     "output_type": "stream",
     "text": [
      "\n",
      "[640 640 640 ...,  79  79  79]\n",
      "[976 977 978 ..., 904 905 906]\n",
      "[640 640 640 ...,  79  79  79]\n",
      "[350 351 352 ..., 257 258 259]"
     ]
    },
    {
     "name": "stderr",
     "output_type": "stream",
     "text": [
      "\r",
      "  9%|▉         | 119/1261 [00:34<05:28,  3.47it/s]"
     ]
    },
    {
     "name": "stdout",
     "output_type": "stream",
     "text": [
      "\n",
      "[640 640 640 ...,  79  79  79]\n",
      "[981 982 983 ..., 919 920 921]\n",
      "[656 656 656 ...,  79  79  79]\n",
      "[354 355 356 ..., 257 258 259]"
     ]
    },
    {
     "name": "stderr",
     "output_type": "stream",
     "text": [
      "\r",
      " 10%|▉         | 120/1261 [00:35<05:19,  3.57it/s]"
     ]
    },
    {
     "name": "stdout",
     "output_type": "stream",
     "text": [
      "\n",
      "[640 640 640 ...,  79  79  79]\n",
      "[987 988 989 ..., 914 915 916]\n",
      "[681 681 681 ...,  79  79  79]\n",
      "[354 355 356 ..., 278 279 280]"
     ]
    },
    {
     "name": "stderr",
     "output_type": "stream",
     "text": [
      "\r",
      " 10%|▉         | 121/1261 [00:35<05:20,  3.56it/s]"
     ]
    },
    {
     "name": "stdout",
     "output_type": "stream",
     "text": [
      "\n",
      "[640 640 640 ...,  79  79  79]\n",
      "[982 983 984 ..., 919 920 921]\n",
      "[707 707 707 ...,  79  79  79]\n",
      "[354 355 356 ..., 257 258 259]"
     ]
    },
    {
     "name": "stderr",
     "output_type": "stream",
     "text": [
      "\r",
      " 10%|▉         | 122/1261 [00:35<05:36,  3.38it/s]"
     ]
    },
    {
     "name": "stdout",
     "output_type": "stream",
     "text": [
      "\n",
      "[640 640 640 ...,  79  79  79]\n",
      "[989 990 991 ..., 914 915 916]\n",
      "[613 613 613 ...,  79  79  79]\n",
      "[355 356 357 ..., 278 279 280]"
     ]
    },
    {
     "name": "stderr",
     "output_type": "stream",
     "text": [
      "\r",
      " 10%|▉         | 123/1261 [00:36<05:35,  3.39it/s]"
     ]
    },
    {
     "name": "stdout",
     "output_type": "stream",
     "text": [
      "\n",
      "[640 640 640 ...,  79  79  79]\n",
      "[990 991 992 ..., 934 935 936]\n",
      "[640 640 640 ..., 159 159 159]\n",
      "[360 361 362 ..., 257 258 259]"
     ]
    },
    {
     "name": "stderr",
     "output_type": "stream",
     "text": [
      "\r",
      " 10%|▉         | 124/1261 [00:36<05:28,  3.46it/s]"
     ]
    },
    {
     "name": "stdout",
     "output_type": "stream",
     "text": [
      "\n",
      "[640 640 640 ...,  79  79  79]\n",
      "[994 995 996 ..., 929 930 931]\n",
      "[665 665 665 ..., 159 159 159]\n",
      "[357 358 359 ..., 257 258 259]"
     ]
    },
    {
     "name": "stderr",
     "output_type": "stream",
     "text": [
      "\r",
      " 10%|▉         | 125/1261 [00:36<05:25,  3.49it/s]"
     ]
    },
    {
     "name": "stdout",
     "output_type": "stream",
     "text": [
      "\n",
      "[640 640 640 ...,  79  79  79]\n",
      "[994 995 996 ..., 949 950 951]\n",
      "[691 691 691 ..., 239 239 239]\n",
      "[355 356 357 ..., 247 248 249]"
     ]
    },
    {
     "name": "stderr",
     "output_type": "stream",
     "text": [
      "\r",
      " 10%|▉         | 126/1261 [00:36<05:20,  3.54it/s]"
     ]
    },
    {
     "name": "stdout",
     "output_type": "stream",
     "text": [
      "\n",
      "[640 640 640 ...,  79  79  79]\n",
      "[979 980 981 ..., 961 962 963]\n",
      "[560 560 560 ..., 239 239 239]\n",
      "[357 358 359 ..., 257 258 259]"
     ]
    },
    {
     "name": "stderr",
     "output_type": "stream",
     "text": [
      "\r",
      " 10%|█         | 127/1261 [00:37<05:11,  3.64it/s]"
     ]
    },
    {
     "name": "stdout",
     "output_type": "stream",
     "text": [
      "\n",
      "[640 640 640 ...,  79  79  79]\n",
      "[981 982 983 ..., 957 958 959]\n",
      "[560 560 560 ..., 239 239 239]\n",
      "[356 357 358 ..., 278 279 280]"
     ]
    },
    {
     "name": "stderr",
     "output_type": "stream",
     "text": [
      "\r",
      " 10%|█         | 128/1261 [00:37<05:13,  3.61it/s]"
     ]
    },
    {
     "name": "stdout",
     "output_type": "stream",
     "text": [
      "\n",
      "[640 640 640 ...,  79  79  79]\n",
      "[984 985 986 ..., 875 876 877]\n",
      "[640 640 640 ...,  22  22  22]\n",
      "[360 361 362 ..., 278 279 280]"
     ]
    },
    {
     "name": "stderr",
     "output_type": "stream",
     "text": [
      "\r",
      " 10%|█         | 129/1261 [00:37<05:17,  3.56it/s]"
     ]
    },
    {
     "name": "stdout",
     "output_type": "stream",
     "text": [
      "\n",
      "[640 640 640 ...,  79  79  79]\n",
      "[981 982 983 ..., 878 879 880]\n",
      "[640 640 640 ...,  63  63  63]\n",
      "[360 361 362 ..., 273 274 275]"
     ]
    },
    {
     "name": "stderr",
     "output_type": "stream",
     "text": [
      "\r",
      " 10%|█         | 130/1261 [00:38<05:22,  3.51it/s]"
     ]
    },
    {
     "name": "stdout",
     "output_type": "stream",
     "text": [
      "\n",
      "[640 640 640 ...,  79  79  79]\n",
      "[982 983 984 ..., 888 889 890]\n",
      "[640 640 640 ...,  79  79  79]\n",
      "[360 361 362 ..., 262 263 264]"
     ]
    },
    {
     "name": "stderr",
     "output_type": "stream",
     "text": [
      "\r",
      " 10%|█         | 131/1261 [00:38<05:22,  3.51it/s]"
     ]
    },
    {
     "name": "stdout",
     "output_type": "stream",
     "text": [
      "\n",
      "[640 640 640 ...,  79  79  79]\n",
      "[985 986 987 ..., 893 894 895]\n",
      "[640 640 640 ...,  79  79  79]\n",
      "[364 365 366 ..., 245 246 247]"
     ]
    },
    {
     "name": "stderr",
     "output_type": "stream",
     "text": [
      "\r",
      " 10%|█         | 132/1261 [00:38<05:25,  3.47it/s]"
     ]
    },
    {
     "name": "stdout",
     "output_type": "stream",
     "text": [
      "\n",
      "[640 640 640 ...,  43  43  43]\n",
      "[990 991 992 ..., 893 894 895]\n",
      "[663 663 663 ...,  79  79  79]\n",
      "[361 362 363 ..., 255 256 257]"
     ]
    },
    {
     "name": "stderr",
     "output_type": "stream",
     "text": [
      "\r",
      " 11%|█         | 133/1261 [00:38<05:30,  3.41it/s]"
     ]
    },
    {
     "name": "stdout",
     "output_type": "stream",
     "text": [
      "\n",
      "[640 640 640 ...,  63  63  63]\n",
      "[992 993 994 ..., 909 910 911]\n",
      "[688 688 688 ...,  79  79  79]\n",
      "[366 367 368 ..., 273 274 275]"
     ]
    },
    {
     "name": "stderr",
     "output_type": "stream",
     "text": [
      "\r",
      " 11%|█         | 134/1261 [00:39<05:19,  3.53it/s]"
     ]
    },
    {
     "name": "stdout",
     "output_type": "stream",
     "text": [
      "\n",
      "[640 640 640 ...,  79  79  79]\n",
      "[993 994 995 ..., 904 905 906]\n",
      "[599 599 599 ...,  79  79  79]\n",
      "[364 365 366 ..., 257 258 259]"
     ]
    },
    {
     "name": "stderr",
     "output_type": "stream",
     "text": [
      "\r",
      " 11%|█         | 135/1261 [00:39<05:21,  3.50it/s]"
     ]
    },
    {
     "name": "stdout",
     "output_type": "stream",
     "text": [
      "\n",
      "[640 640 640 ...,  79  79  79]\n",
      "[997 998 999 ..., 934 935 936]\n",
      "[624 624 624 ..., 159 159 159]\n",
      "[365 366 367 ..., 263 264 265]"
     ]
    },
    {
     "name": "stderr",
     "output_type": "stream",
     "text": [
      "\r",
      " 11%|█         | 136/1261 [00:39<05:17,  3.54it/s]"
     ]
    },
    {
     "name": "stdout",
     "output_type": "stream",
     "text": [
      "\n",
      "[640 640 640 ...,  22  22  22]\n",
      "[1000 1001 1002 ...,  938  939  940]\n",
      "[649 649 649 ..., 159 159 159]\n",
      "[364 365 366 ..., 273 274 275]"
     ]
    },
    {
     "name": "stderr",
     "output_type": "stream",
     "text": [
      "\r",
      " 11%|█         | 137/1261 [00:40<05:20,  3.51it/s]"
     ]
    },
    {
     "name": "stdout",
     "output_type": "stream",
     "text": [
      "\n",
      "[640 640 640 ...,  79  79  79]\n",
      "[1005 1006 1007 ...,  948  949  950]\n",
      "[674 674 674 ..., 159 159 159]\n",
      "[362 363 364 ..., 273 274 275]"
     ]
    },
    {
     "name": "stderr",
     "output_type": "stream",
     "text": [
      "\r",
      " 11%|█         | 138/1261 [00:40<05:20,  3.51it/s]"
     ]
    },
    {
     "name": "stdout",
     "output_type": "stream",
     "text": [
      "\n",
      "[640 640 640 ...,  79  79  79]\n",
      "[993 994 995 ..., 957 958 959]\n",
      "[699 699 699 ..., 159 159 159]\n",
      "[361 362 363 ..., 268 269 270]"
     ]
    },
    {
     "name": "stderr",
     "output_type": "stream",
     "text": [
      "\r",
      " 11%|█         | 139/1261 [00:40<05:18,  3.53it/s]"
     ]
    },
    {
     "name": "stdout",
     "output_type": "stream",
     "text": [
      "\n",
      "[640 640 640 ...,  79  79  79]\n",
      "[988 989 990 ..., 973 974 975]\n",
      "[560 560 560 ..., 239 239 239]\n",
      "[359 360 361 ..., 252 253 254]"
     ]
    },
    {
     "name": "stderr",
     "output_type": "stream",
     "text": [
      "\r",
      " 11%|█         | 140/1261 [00:40<05:17,  3.53it/s]"
     ]
    },
    {
     "name": "stdout",
     "output_type": "stream",
     "text": [
      "\n",
      "[640 640 640 ...,  79  79  79]\n",
      "[995 996 997 ..., 978 979 980]\n",
      "[640 640 640 ..., 239 239 239]\n",
      "[359 360 361 ..., 283 284 285]"
     ]
    },
    {
     "name": "stderr",
     "output_type": "stream",
     "text": [
      "\r",
      " 11%|█         | 141/1261 [00:41<05:14,  3.56it/s]"
     ]
    },
    {
     "name": "stdout",
     "output_type": "stream",
     "text": [
      "\n",
      "[640 640 640 ...,  79  79  79]\n",
      "[994 995 996 ..., 978 979 980]\n",
      "[640 640 640 ..., 239 239 239]\n",
      "[359 360 361 ..., 278 279 280]"
     ]
    },
    {
     "name": "stderr",
     "output_type": "stream",
     "text": [
      "\r",
      " 11%|█▏        | 142/1261 [00:41<05:11,  3.60it/s]"
     ]
    },
    {
     "name": "stdout",
     "output_type": "stream",
     "text": [
      "\n",
      "[640 640 640 ...,  79  79  79]\n",
      "[993 994 995 ..., 909 910 911]\n",
      "[640 640 640 ...,  22  22  22]\n",
      "[359 360 361 ..., 289 290 291]"
     ]
    },
    {
     "name": "stderr",
     "output_type": "stream",
     "text": [
      "\r",
      " 11%|█▏        | 143/1261 [00:41<05:16,  3.53it/s]"
     ]
    },
    {
     "name": "stdout",
     "output_type": "stream",
     "text": [
      "\n",
      "[640 640 640 ...,  79  79  79]\n",
      "[990 991 992 ..., 914 915 916]\n",
      "[640 640 640 ...,  79  79  79]\n",
      "[357 358 359 ..., 257 258 259]"
     ]
    },
    {
     "name": "stderr",
     "output_type": "stream",
     "text": [
      "\r",
      " 11%|█▏        | 144/1261 [00:42<05:15,  3.54it/s]"
     ]
    },
    {
     "name": "stdout",
     "output_type": "stream",
     "text": [
      "\n",
      "[640 640 640 ...,  79  79  79]\n",
      "[993 994 995 ..., 925 926 927]\n",
      "[654 654 654 ...,  79  79  79]\n",
      "[357 358 359 ..., 278 279 280]"
     ]
    },
    {
     "name": "stderr",
     "output_type": "stream",
     "text": [
      "\r",
      " 11%|█▏        | 145/1261 [00:42<05:14,  3.55it/s]"
     ]
    },
    {
     "name": "stdout",
     "output_type": "stream",
     "text": [
      "\n",
      "[640 640 640 ...,  79  79  79]\n",
      "[1006 1007 1008 ...,  935  936  937]\n",
      "[678 678 678 ...,  79  79  79]\n",
      "[357 358 359 ..., 278 279 280]"
     ]
    },
    {
     "name": "stderr",
     "output_type": "stream",
     "text": [
      "\r",
      " 12%|█▏        | 146/1261 [00:42<05:11,  3.58it/s]"
     ]
    },
    {
     "name": "stdout",
     "output_type": "stream",
     "text": [
      "\n",
      "[640 640 640 ...,  79  79  79]\n",
      "[995 992 996 ..., 935 936 937]\n",
      "[704 705 705 ...,  79  79  79]\n",
      "[356 357 358 ..., 278 279 280]"
     ]
    },
    {
     "name": "stderr",
     "output_type": "stream",
     "text": [
      "\r",
      " 12%|█▏        | 147/1261 [00:42<05:16,  3.52it/s]"
     ]
    },
    {
     "name": "stdout",
     "output_type": "stream",
     "text": [
      "\n",
      "[640 640 640 ...,  79  79  79]\n",
      "[1002 1003 1004 ...,  940  941  942]\n",
      "[610 610 610 ...,  79  79  79]\n",
      "[361 362 363 ..., 289 290 291]"
     ]
    },
    {
     "name": "stderr",
     "output_type": "stream",
     "text": [
      "\r",
      " 12%|█▏        | 148/1261 [00:43<05:20,  3.47it/s]"
     ]
    },
    {
     "name": "stdout",
     "output_type": "stream",
     "text": [
      "\n",
      "[640 640 640 ...,  79  79  79]\n",
      "[994 995 996 ..., 943 944 945]\n",
      "[640 640 640 ..., 159 159 159]\n",
      "[361 362 363 ..., 289 290 291]"
     ]
    },
    {
     "name": "stderr",
     "output_type": "stream",
     "text": [
      "\r",
      " 12%|█▏        | 149/1261 [00:43<05:22,  3.45it/s]"
     ]
    },
    {
     "name": "stdout",
     "output_type": "stream",
     "text": [
      "\n",
      "[640 640 640 ...,  79  79  79]\n",
      "[1001 1002 1003 ...,  943  944  945]\n",
      "[663 663 663 ..., 159 159 159]\n",
      "[360 361 362 ..., 289 290 291]"
     ]
    },
    {
     "name": "stderr",
     "output_type": "stream",
     "text": [
      "\r",
      " 12%|█▏        | 150/1261 [00:43<05:43,  3.24it/s]"
     ]
    },
    {
     "name": "stdout",
     "output_type": "stream",
     "text": [
      "\n",
      "[640 640 640 ...,  79  79  79]\n",
      "[1001 1002 1003 ...,  948  949  950]\n",
      "[689 689 689 ..., 159 159 159]\n",
      "[359 360 361 ..., 283 284 285]"
     ]
    },
    {
     "name": "stderr",
     "output_type": "stream",
     "text": [
      "\r",
      " 12%|█▏        | 151/1261 [00:44<05:39,  3.27it/s]"
     ]
    },
    {
     "name": "stdout",
     "output_type": "stream",
     "text": [
      "\n",
      "[640 640 640 ...,  79  79  79]\n",
      "[981 982 983 ..., 969 970 971]\n",
      "[560 560 560 ..., 239 239 239]\n",
      "[359 360 361 ..., 289 290 291]"
     ]
    },
    {
     "name": "stderr",
     "output_type": "stream",
     "text": [
      "\r",
      " 12%|█▏        | 152/1261 [00:44<05:32,  3.33it/s]"
     ]
    },
    {
     "name": "stdout",
     "output_type": "stream",
     "text": [
      "\n",
      "[640 640 640 ...,  79  79  79]\n",
      "[982 983 984 ..., 973 974 975]\n",
      "[560 560 560 ..., 239 239 239]\n",
      "[357 358 359 ..., 289 290 291]"
     ]
    },
    {
     "name": "stderr",
     "output_type": "stream",
     "text": [
      "\r",
      " 12%|█▏        | 153/1261 [00:44<05:35,  3.31it/s]"
     ]
    },
    {
     "name": "stdout",
     "output_type": "stream",
     "text": [
      "\n",
      "[640 640 640 ...,  79  79  79]\n",
      "[985 986 987 ..., 886 887 888]\n",
      "[640 640 640 ...,  22  22  22]\n",
      "[355 356 357 ..., 283 284 285]"
     ]
    },
    {
     "name": "stderr",
     "output_type": "stream",
     "text": [
      "\r",
      " 12%|█▏        | 154/1261 [00:45<05:55,  3.11it/s]"
     ]
    },
    {
     "name": "stdout",
     "output_type": "stream",
     "text": [
      "\n",
      "[640 640 640 ...,  79  79  79]\n",
      "[986 987 988 ..., 906 907 908]\n",
      "[640 640 640 ...,  43  43  43]\n",
      "[355 356 357 ..., 289 290 291]"
     ]
    },
    {
     "name": "stderr",
     "output_type": "stream",
     "text": [
      "\r",
      " 12%|█▏        | 155/1261 [00:45<06:10,  2.99it/s]"
     ]
    },
    {
     "name": "stdout",
     "output_type": "stream",
     "text": [
      "\n",
      "[640 640 640 ...,  79  79  79]\n",
      "[987 988 989 ..., 910 911 912]\n",
      "[640 640 640 ...,  63  63  63]\n",
      "[355 356 357 ..., 278 279 280]"
     ]
    },
    {
     "name": "stderr",
     "output_type": "stream",
     "text": [
      "\r",
      " 12%|█▏        | 156/1261 [00:45<06:00,  3.06it/s]"
     ]
    },
    {
     "name": "stdout",
     "output_type": "stream",
     "text": [
      "\n",
      "[640 640 640 ...,  79  79  79]\n",
      "[985 986 987 ..., 925 926 927]\n",
      "[640 640 640 ...,  79  79  79]\n",
      "[354 355 357 ..., 262 263 264]"
     ]
    },
    {
     "name": "stderr",
     "output_type": "stream",
     "text": [
      "\r",
      " 12%|█▏        | 157/1261 [00:46<05:48,  3.17it/s]"
     ]
    },
    {
     "name": "stdout",
     "output_type": "stream",
     "text": [
      "\n",
      "[640 640 640 ...,  79  79  79]\n",
      "[990 991 992 ..., 935 936 937]\n",
      "[663 663 663 ...,  79  79  79]\n",
      "[354 355 356 ..., 278 279 280]"
     ]
    },
    {
     "name": "stderr",
     "output_type": "stream",
     "text": [
      "\r",
      " 13%|█▎        | 158/1261 [00:46<05:36,  3.27it/s]"
     ]
    },
    {
     "name": "stdout",
     "output_type": "stream",
     "text": [
      "\n",
      "[640 640 640 ...,  79  79  79]\n",
      "[987 988 989 ..., 909 910 911]\n",
      "[690 690 690 ...,  79  79  79]\n",
      "[350 351 352 ..., 268 269 270]"
     ]
    },
    {
     "name": "stderr",
     "output_type": "stream",
     "text": [
      "\r",
      " 13%|█▎        | 159/1261 [00:46<05:29,  3.34it/s]"
     ]
    },
    {
     "name": "stdout",
     "output_type": "stream",
     "text": [
      "\n",
      "[640 640 640 ...,  79  79  79]\n",
      "[993 994 995 ..., 914 915 916]\n",
      "[599 599 599 ...,  79  79  79]\n",
      "[347 348 349 ..., 273 274 275]"
     ]
    },
    {
     "name": "stderr",
     "output_type": "stream",
     "text": [
      "\r",
      " 13%|█▎        | 160/1261 [00:46<05:27,  3.37it/s]"
     ]
    },
    {
     "name": "stdout",
     "output_type": "stream",
     "text": [
      "\n",
      "[640 640 640 ...,  79  79  79]\n",
      "[991 992 993 ..., 938 939 940]\n",
      "[626 626 626 ..., 159 159 159]\n",
      "[345 346 347 ..., 262 263 264]"
     ]
    },
    {
     "name": "stderr",
     "output_type": "stream",
     "text": [
      "\r",
      " 13%|█▎        | 161/1261 [00:47<05:20,  3.43it/s]"
     ]
    },
    {
     "name": "stdout",
     "output_type": "stream",
     "text": [
      "\n",
      "[640 640 640 ...,  79  79  79]\n",
      "[993 994 995 ..., 948 949 950]\n",
      "[651 651 651 ..., 159 159 159]\n",
      "[345 346 347 ..., 268 269 270]"
     ]
    },
    {
     "name": "stderr",
     "output_type": "stream",
     "text": [
      "\r",
      " 13%|█▎        | 162/1261 [00:47<05:11,  3.53it/s]"
     ]
    },
    {
     "name": "stdout",
     "output_type": "stream",
     "text": [
      "\n",
      "[640 640 640 ...,  79  79  79]\n",
      "[ 999 1000 1001 ...,  948  949  950]\n",
      "[676 676 676 ..., 159 159 159]\n",
      "[344 345 346 ..., 247 248 249]"
     ]
    },
    {
     "name": "stderr",
     "output_type": "stream",
     "text": [
      "\r",
      " 13%|█▎        | 163/1261 [00:47<05:14,  3.49it/s]"
     ]
    },
    {
     "name": "stdout",
     "output_type": "stream",
     "text": [
      "\n",
      "[640 640 640 ...,  79  79  79]\n",
      "[986 992 993 ..., 957 958 959]\n",
      "[701 703 703 ..., 159 159 159]\n",
      "[345 346 347 ..., 268 269 270]"
     ]
    },
    {
     "name": "stderr",
     "output_type": "stream",
     "text": [
      "\r",
      " 13%|█▎        | 164/1261 [00:48<05:22,  3.40it/s]"
     ]
    },
    {
     "name": "stdout",
     "output_type": "stream",
     "text": [
      "\n",
      "[640 640 640 ...,  79  79  79]\n",
      "[979 980 981 ..., 957 958 959]\n",
      "[560 560 560 ..., 239 239 239]\n",
      "[346 347 348 ..., 247 248 249]"
     ]
    },
    {
     "name": "stderr",
     "output_type": "stream",
     "text": [
      "\r",
      " 13%|█▎        | 165/1261 [00:48<05:14,  3.48it/s]"
     ]
    },
    {
     "name": "stdout",
     "output_type": "stream",
     "text": [
      "\n",
      "[640 640 640 ...,  79  79  79]\n",
      "[979 980 981 ..., 869 870 871]\n",
      "[640 640 640 ...,  22  22  22]\n",
      "[345 346 347 ..., 262 263 264]"
     ]
    },
    {
     "name": "stderr",
     "output_type": "stream",
     "text": [
      "\r",
      " 13%|█▎        | 166/1261 [00:48<05:08,  3.55it/s]"
     ]
    },
    {
     "name": "stdout",
     "output_type": "stream",
     "text": [
      "\n",
      "[640 640 640 ...,  79  79  79]\n",
      "[979 980 981 ..., 879 880 881]\n",
      "[640 640 640 ...,  43  43  43]\n",
      "[347 348 349 ..., 268 269 270]"
     ]
    },
    {
     "name": "stderr",
     "output_type": "stream",
     "text": [
      "\r",
      " 13%|█▎        | 167/1261 [00:48<05:05,  3.58it/s]"
     ]
    },
    {
     "name": "stdout",
     "output_type": "stream",
     "text": [
      "\n",
      "[640 640 640 ...,  79  79  79]\n",
      "[977 978 979 ..., 888 889 890]\n",
      "[640 640 640 ...,  79  79  79]\n",
      "[344 345 346 ..., 262 263 264]"
     ]
    },
    {
     "name": "stderr",
     "output_type": "stream",
     "text": [
      "\r",
      " 13%|█▎        | 168/1261 [00:49<05:04,  3.58it/s]"
     ]
    },
    {
     "name": "stdout",
     "output_type": "stream",
     "text": [
      "\n",
      "[640 640 640 ...,  79  79  79]\n",
      "[981 982 983 ..., 904 905 906]\n",
      "[640 640 640 ...,  79  79  79]\n",
      "[342 343 344 ..., 257 258 259]"
     ]
    },
    {
     "name": "stderr",
     "output_type": "stream",
     "text": [
      "\r",
      " 13%|█▎        | 169/1261 [00:49<05:04,  3.59it/s]"
     ]
    },
    {
     "name": "stdout",
     "output_type": "stream",
     "text": [
      "\n",
      "[640 640 640 ...,  79  79  79]\n",
      "[988 989 990 ..., 919 920 921]\n",
      "[656 656 656 ...,  79  79  79]\n",
      "[341 342 343 ..., 247 248 249]"
     ]
    },
    {
     "name": "stderr",
     "output_type": "stream",
     "text": [
      "\r",
      " 13%|█▎        | 170/1261 [00:49<05:03,  3.59it/s]"
     ]
    },
    {
     "name": "stdout",
     "output_type": "stream",
     "text": [
      "\n",
      "[640 640 640 ...,  79  79  79]\n",
      "[990 991 992 ..., 935 936 937]\n",
      "[681 681 681 ...,  79  79  79]\n",
      "[340 341 342 ..., 247 248 249]"
     ]
    },
    {
     "name": "stderr",
     "output_type": "stream",
     "text": [
      "\r",
      " 14%|█▎        | 171/1261 [00:49<05:03,  3.59it/s]"
     ]
    },
    {
     "name": "stdout",
     "output_type": "stream",
     "text": [
      "\n",
      "[640 640 640 ...,  79  79  79]\n",
      "[998 999 984 ..., 935 936 937]\n",
      "[707 707 708 ...,  79  79  79]\n",
      "[337 338 339 ..., 247 248 249]"
     ]
    },
    {
     "name": "stderr",
     "output_type": "stream",
     "text": [
      "\r",
      " 14%|█▎        | 172/1261 [00:50<05:06,  3.55it/s]"
     ]
    },
    {
     "name": "stdout",
     "output_type": "stream",
     "text": [
      "\n",
      "[640 640 640 ...,  79  79  79]\n",
      "[985 986 987 ..., 919 920 921]\n",
      "[616 616 616 ...,  79  79  79]\n",
      "[339 340 341 ..., 247 248 249]"
     ]
    },
    {
     "name": "stderr",
     "output_type": "stream",
     "text": [
      "\r",
      " 14%|█▎        | 173/1261 [00:50<05:10,  3.51it/s]"
     ]
    },
    {
     "name": "stdout",
     "output_type": "stream",
     "text": [
      "\n",
      "[640 640 640 ...,  79  79  79]\n",
      "[979 980 981 ..., 943 944 945]\n",
      "[641 641 641 ..., 159 159 159]\n",
      "[339 340 341 ..., 247 248 249]"
     ]
    },
    {
     "name": "stderr",
     "output_type": "stream",
     "text": [
      "\r",
      " 14%|█▍        | 174/1261 [00:50<05:18,  3.41it/s]"
     ]
    },
    {
     "name": "stdout",
     "output_type": "stream",
     "text": [
      "\n",
      "[640 640 640 ...,  79  79  79]\n",
      "[985 986 987 ..., 929 930 931]\n",
      "[670 670 670 ..., 159 159 159]\n",
      "[337 338 339 ..., 247 248 249]"
     ]
    },
    {
     "name": "stderr",
     "output_type": "stream",
     "text": [
      "\r",
      " 14%|█▍        | 175/1261 [00:51<05:12,  3.48it/s]"
     ]
    },
    {
     "name": "stdout",
     "output_type": "stream",
     "text": [
      "\n",
      "[640 640 640 ...,  79  79  79]\n",
      "[974 975 981 ..., 945 946 947]\n",
      "[695 695 697 ..., 239 239 239]\n",
      "[337 338 339 ..., 252 253 254]"
     ]
    },
    {
     "name": "stderr",
     "output_type": "stream",
     "text": [
      "\r",
      " 14%|█▍        | 176/1261 [00:51<05:13,  3.46it/s]"
     ]
    },
    {
     "name": "stdout",
     "output_type": "stream",
     "text": [
      "\n",
      "[640 640 640 ...,  79  79  79]\n",
      "[966 967 968 ..., 940 941 942]\n",
      "[560 560 560 ..., 239 239 239]\n",
      "[336 337 338 ..., 247 248 249]"
     ]
    },
    {
     "name": "stderr",
     "output_type": "stream",
     "text": [
      "\r",
      " 14%|█▍        | 177/1261 [00:51<05:12,  3.47it/s]"
     ]
    },
    {
     "name": "stdout",
     "output_type": "stream",
     "text": [
      "\n",
      "[640 640 640 ...,  79  79  79]\n",
      "[970 971 972 ..., 841 842 843]\n",
      "[560 560 560 ...,  22  22  22]\n",
      "[337 338 339 ..., 247 248 249]"
     ]
    },
    {
     "name": "stderr",
     "output_type": "stream",
     "text": [
      "\r",
      " 14%|█▍        | 178/1261 [00:51<05:04,  3.56it/s]"
     ]
    },
    {
     "name": "stdout",
     "output_type": "stream",
     "text": [
      "\n",
      "[640 640 640 ...,  79  79  79]\n",
      "[975 976 977 ..., 857 858 859]\n",
      "[640 640 640 ...,  43  43  43]\n",
      "[341 342 343 ..., 247 248 249]"
     ]
    },
    {
     "name": "stderr",
     "output_type": "stream",
     "text": [
      "\r",
      " 14%|█▍        | 179/1261 [00:52<05:01,  3.59it/s]"
     ]
    },
    {
     "name": "stdout",
     "output_type": "stream",
     "text": [
      "\n",
      "[640 640 640 ...,  79  79  79]\n",
      "[977 978 979 ..., 867 868 869]\n",
      "[640 640 640 ...,  63  63  63]\n",
      "[333 334 335 ..., 247 248 249]"
     ]
    },
    {
     "name": "stderr",
     "output_type": "stream",
     "text": [
      "\r",
      " 14%|█▍        | 180/1261 [00:52<05:01,  3.59it/s]"
     ]
    },
    {
     "name": "stdout",
     "output_type": "stream",
     "text": [
      "\n",
      "[640 640 640 ...,  79  79  79]\n",
      "[980 981 982 ..., 873 874 875]\n",
      "[640 640 640 ...,  43  43  43]\n",
      "[335 336 337 ..., 228 229 230]"
     ]
    },
    {
     "name": "stderr",
     "output_type": "stream",
     "text": [
      "\r",
      " 14%|█▍        | 181/1261 [00:52<05:09,  3.49it/s]"
     ]
    },
    {
     "name": "stdout",
     "output_type": "stream",
     "text": [
      "\n",
      "[640 640 640 ...,  63  63  63]\n",
      "[987 988 989 ..., 877 878 879]\n",
      "[646 646 646 ...,  79  79  79]\n",
      "[332 333 334 ..., 212 213 214]"
     ]
    },
    {
     "name": "stderr",
     "output_type": "stream",
     "text": [
      "\r",
      " 14%|█▍        | 182/1261 [00:53<05:15,  3.42it/s]"
     ]
    },
    {
     "name": "stdout",
     "output_type": "stream",
     "text": [
      "\n",
      "[640 640 640 ...,  22  22  22]\n",
      "[989 990 986 ..., 909 910 911]\n",
      "[672 672 673 ...,  79  79  79]\n",
      "[333 334 335 ..., 247 248 249]"
     ]
    },
    {
     "name": "stderr",
     "output_type": "stream",
     "text": [
      "\r",
      " 15%|█▍        | 183/1261 [00:53<05:09,  3.49it/s]"
     ]
    },
    {
     "name": "stdout",
     "output_type": "stream",
     "text": [
      "\n",
      "[640 640 640 ...,  79  79  79]\n",
      "[985 986 987 ..., 893 894 895]\n",
      "[700 700 700 ...,  79  79  79]\n",
      "[333 334 335 ..., 235 236 237]"
     ]
    },
    {
     "name": "stderr",
     "output_type": "stream",
     "text": [
      "\r",
      " 15%|█▍        | 184/1261 [00:53<05:17,  3.39it/s]"
     ]
    },
    {
     "name": "stdout",
     "output_type": "stream",
     "text": [
      "\n",
      "[640 640 640 ...,  22  22  22]\n",
      "[994 995 996 ..., 915 916 917]\n",
      "[607 607 607 ..., 159 159 159]\n",
      "[333 334 335 ..., 236 237 238]"
     ]
    },
    {
     "name": "stderr",
     "output_type": "stream",
     "text": [
      "\r",
      " 15%|█▍        | 185/1261 [00:54<05:13,  3.43it/s]"
     ]
    },
    {
     "name": "stdout",
     "output_type": "stream",
     "text": [
      "\n",
      "[640 640 640 ...,  79  79  79]\n",
      "[991 992 993 ..., 910 911 912]\n",
      "[635 635 635 ..., 159 159 159]\n",
      "[336 337 338 ..., 257 258 259]"
     ]
    },
    {
     "name": "stderr",
     "output_type": "stream",
     "text": [
      "\r",
      " 15%|█▍        | 186/1261 [00:54<05:06,  3.51it/s]"
     ]
    },
    {
     "name": "stdout",
     "output_type": "stream",
     "text": [
      "\n",
      "[640 640 640 ...,  79  79  79]\n",
      "[988 989 990 ..., 916 917 918]\n",
      "[663 663 663 ..., 239 239 239]\n",
      "[337 338 339 ..., 262 263 264]"
     ]
    },
    {
     "name": "stderr",
     "output_type": "stream",
     "text": [
      "\r",
      " 15%|█▍        | 187/1261 [00:54<05:06,  3.50it/s]"
     ]
    },
    {
     "name": "stdout",
     "output_type": "stream",
     "text": [
      "\n",
      "[640 640 640 ...,  79  79  79]\n",
      "[990 991 992 ..., 801 802 803]\n",
      "[689 689 689 ...,  22  22  22]\n",
      "[339 340 341 ..., 257 258 259]"
     ]
    },
    {
     "name": "stderr",
     "output_type": "stream",
     "text": [
      "\r",
      " 15%|█▍        | 188/1261 [00:54<05:02,  3.55it/s]"
     ]
    },
    {
     "name": "stdout",
     "output_type": "stream",
     "text": [
      "\n",
      "[640 640 640 ...,  79  79  79]\n",
      "[971 972 973 ..., 912 913 914]\n",
      "[560 560 560 ..., 239 239 239]\n",
      "[340 341 342 ..., 241 242 243]"
     ]
    },
    {
     "name": "stderr",
     "output_type": "stream",
     "text": [
      "\r",
      " 15%|█▍        | 189/1261 [00:55<05:05,  3.51it/s]"
     ]
    },
    {
     "name": "stdout",
     "output_type": "stream",
     "text": [
      "\n",
      "[640 640 640 ...,  79  79  79]\n",
      "[971 972 973 ..., 938 939 940]\n",
      "[560 560 560 ..., 319 319 319]\n",
      "[344 345 346 ..., 241 242 243]"
     ]
    },
    {
     "name": "stderr",
     "output_type": "stream",
     "text": [
      "\r",
      " 15%|█▌        | 190/1261 [00:55<05:03,  3.53it/s]"
     ]
    },
    {
     "name": "stdout",
     "output_type": "stream",
     "text": [
      "\n",
      "[640 640 640 ...,  22  22  22]\n",
      "[979 980 981 ..., 840 841 842]\n",
      "[640 640 640 ...,  79  79  79]\n",
      "[349 350 351 ..., 241 242 243]"
     ]
    },
    {
     "name": "stderr",
     "output_type": "stream",
     "text": [
      "\r",
      " 15%|█▌        | 191/1261 [00:55<05:01,  3.55it/s]"
     ]
    },
    {
     "name": "stdout",
     "output_type": "stream",
     "text": [
      "\n",
      "[640 640 640 ...,  79  79  79]\n",
      "[977 978 979 ..., 840 841 842]\n",
      "[640 640 640 ...,  79  79  79]\n",
      "[350 351 352 ..., 262 263 264]"
     ]
    },
    {
     "name": "stderr",
     "output_type": "stream",
     "text": [
      "\r",
      " 15%|█▌        | 192/1261 [00:55<05:05,  3.49it/s]"
     ]
    },
    {
     "name": "stdout",
     "output_type": "stream",
     "text": [
      "\n",
      "[640 640 640 ...,  79  79  79]\n",
      "[979 980 981 ..., 846 847 848]\n",
      "[640 640 640 ...,  79  79  79]\n",
      "[354 355 356 ..., 262 263 264]"
     ]
    },
    {
     "name": "stderr",
     "output_type": "stream",
     "text": [
      "\r",
      " 15%|█▌        | 193/1261 [00:56<05:09,  3.45it/s]"
     ]
    },
    {
     "name": "stdout",
     "output_type": "stream",
     "text": [
      "\n",
      "[640 640 640 ...,  79  79  79]\n",
      "[991 992 993 ..., 835 836 837]\n",
      "[647 647 647 ...,  79  79  79]\n",
      "[354 355 356 ..., 241 242 243]"
     ]
    },
    {
     "name": "stderr",
     "output_type": "stream",
     "text": [
      "\r",
      " 15%|█▌        | 194/1261 [00:56<05:08,  3.46it/s]"
     ]
    },
    {
     "name": "stdout",
     "output_type": "stream",
     "text": [
      "\n",
      "[640 640 640 ...,  79  79  79]\n",
      "[996 997 998 ..., 882 883 884]\n",
      "[672 672 672 ..., 159 159 159]\n",
      "[355 356 357 ..., 241 242 243]"
     ]
    },
    {
     "name": "stderr",
     "output_type": "stream",
     "text": [
      "\r",
      " 15%|█▌        | 195/1261 [00:56<05:12,  3.41it/s]"
     ]
    },
    {
     "name": "stdout",
     "output_type": "stream",
     "text": [
      "\n",
      "[640 640 640 ...,  79  79  79]\n",
      "[983 984 984 ..., 891 892 893]\n",
      "[696 696 697 ..., 159 159 159]\n",
      "[350 351 352 ..., 257 258 259]"
     ]
    },
    {
     "name": "stderr",
     "output_type": "stream",
     "text": [
      "\r",
      " 16%|█▌        | 196/1261 [00:57<05:08,  3.45it/s]"
     ]
    },
    {
     "name": "stdout",
     "output_type": "stream",
     "text": [
      "\n",
      "[640 640 640 ...,  79  79  79]\n",
      "[987 988 989 ..., 919 920 921]\n",
      "[604 604 604 ..., 159 159 159]\n",
      "[346 347 348 ..., 247 248 249]"
     ]
    },
    {
     "name": "stderr",
     "output_type": "stream",
     "text": [
      "\r",
      " 16%|█▌        | 197/1261 [00:57<05:02,  3.51it/s]"
     ]
    },
    {
     "name": "stdout",
     "output_type": "stream",
     "text": [
      "\n",
      "[640 640 640 ...,  79  79  79]\n",
      "[997 998 999 ..., 914 915 916]\n",
      "[626 626 626 ...,  79  79  79]\n",
      "[342 343 344 ..., 241 242 243]"
     ]
    },
    {
     "name": "stderr",
     "output_type": "stream",
     "text": [
      "\r",
      " 16%|█▌        | 198/1261 [00:57<04:56,  3.58it/s]"
     ]
    },
    {
     "name": "stdout",
     "output_type": "stream",
     "text": [
      "\n",
      "[640 640 640 ...,  79  79  79]\n",
      "[1012 1013 1014 ...,  940  941  942]\n",
      "[651 651 651 ...,  79  79  79]\n",
      "[339 340 341 ..., 236 237 238]"
     ]
    },
    {
     "name": "stderr",
     "output_type": "stream",
     "text": [
      "\r",
      " 16%|█▌        | 199/1261 [00:57<04:51,  3.64it/s]"
     ]
    },
    {
     "name": "stdout",
     "output_type": "stream",
     "text": [
      "\n",
      "[640 640 640 ...,  79  79  79]\n",
      "[ 995  996 1005 ...,  961  962  963]\n",
      "[677 677 677 ...,  79  79  79]\n",
      "[337 338 339 ..., 236 237 238]"
     ]
    },
    {
     "name": "stderr",
     "output_type": "stream",
     "text": [
      "\r",
      " 16%|█▌        | 200/1261 [00:58<04:57,  3.56it/s]"
     ]
    },
    {
     "name": "stdout",
     "output_type": "stream",
     "text": [
      "\n",
      "[640 640 640 ...,  79  79  79]\n",
      "[ 998  999 1000 ...,  971  972  973]\n",
      "[705 705 705 ..., 159 159 159]\n",
      "[335 336 337 ..., 236 237 238]"
     ]
    },
    {
     "name": "stderr",
     "output_type": "stream",
     "text": [
      "\r",
      " 16%|█▌        | 201/1261 [00:58<05:03,  3.49it/s]"
     ]
    },
    {
     "name": "stdout",
     "output_type": "stream",
     "text": [
      "\n",
      "[640 640 640 ...,  79  79  79]\n",
      "[990 991 992 ..., 976 977 978]\n",
      "[560 560 560 ..., 159 159 159]\n",
      "[335 336 337 ..., 241 242 243]"
     ]
    },
    {
     "name": "stderr",
     "output_type": "stream",
     "text": [
      "\r",
      " 16%|█▌        | 202/1261 [00:58<05:11,  3.40it/s]"
     ]
    },
    {
     "name": "stdout",
     "output_type": "stream",
     "text": [
      "\n",
      "[640 640 640 ...,  79  79  79]\n",
      "[990 991 992 ..., 973 974 975]\n",
      "[640 640 640 ..., 239 239 239]\n",
      "[335 336 337 ..., 236 237 238]"
     ]
    },
    {
     "name": "stderr",
     "output_type": "stream",
     "text": [
      "\r",
      " 16%|█▌        | 203/1261 [00:59<05:03,  3.48it/s]"
     ]
    },
    {
     "name": "stdout",
     "output_type": "stream",
     "text": [
      "\n",
      "[640 640 640 ...,  79  79  79]\n",
      "[985 986 987 ..., 965 966 967]\n",
      "[640 640 640 ..., 239 239 239]\n",
      "[335 336 337 ..., 236 237 238]"
     ]
    },
    {
     "name": "stderr",
     "output_type": "stream",
     "text": [
      "\r",
      " 16%|█▌        | 204/1261 [00:59<05:07,  3.44it/s]"
     ]
    },
    {
     "name": "stdout",
     "output_type": "stream",
     "text": [
      "\n",
      "[640 640 640 ...,  79  79  79]\n",
      "[985 986 987 ..., 880 881 882]\n",
      "[640 640 640 ...,  22  22  22]\n",
      "[335 336 337 ..., 252 253 254]"
     ]
    },
    {
     "name": "stderr",
     "output_type": "stream",
     "text": [
      "\r",
      " 16%|█▋        | 205/1261 [00:59<05:17,  3.32it/s]"
     ]
    },
    {
     "name": "stdout",
     "output_type": "stream",
     "text": [
      "\n",
      "[640 640 640 ...,  79  79  79]\n",
      "[984 985 986 ..., 873 874 875]\n",
      "[640 640 640 ...,  43  43  43]\n",
      "[336 337 338 ..., 233 234 235]"
     ]
    },
    {
     "name": "stderr",
     "output_type": "stream",
     "text": [
      "\r",
      " 16%|█▋        | 206/1261 [01:00<05:12,  3.37it/s]"
     ]
    },
    {
     "name": "stdout",
     "output_type": "stream",
     "text": [
      "\n",
      "[640 640 640 ...,  63  63  63]\n",
      "[1000 1001 1002 ...,  898  899  900]\n",
      "[662 662 662 ...,  79  79  79]\n",
      "[340 341 344 ..., 241 242 243]"
     ]
    },
    {
     "name": "stderr",
     "output_type": "stream",
     "text": [
      "\r",
      " 16%|█▋        | 207/1261 [01:00<05:09,  3.40it/s]"
     ]
    },
    {
     "name": "stdout",
     "output_type": "stream",
     "text": [
      "\n",
      "[640 640 640 ...,  79  79  79]\n",
      "[996 997 998 ..., 872 873 874]\n",
      "[689 689 689 ...,  79  79  79]\n",
      "[341 342 343 ..., 241 242 243]"
     ]
    },
    {
     "name": "stderr",
     "output_type": "stream",
     "text": [
      "\r",
      " 16%|█▋        | 208/1261 [01:00<05:03,  3.47it/s]"
     ]
    },
    {
     "name": "stdout",
     "output_type": "stream",
     "text": [
      "\n",
      "[640 640 640 ...,  79  79  79]\n",
      "[987 988 989 ..., 872 873 874]\n",
      "[594 594 594 ...,  79  79  79]\n",
      "[341 342 343 ..., 241 242 243]"
     ]
    },
    {
     "name": "stderr",
     "output_type": "stream",
     "text": [
      "\r",
      " 17%|█▋        | 209/1261 [01:00<04:58,  3.52it/s]"
     ]
    },
    {
     "name": "stdout",
     "output_type": "stream",
     "text": [
      "\n",
      "[640 640 640 ...,  79  79  79]\n",
      "[993 994 995 ..., 919 920 921]\n",
      "[619 619 619 ..., 159 159 159]\n",
      "[340 341 342 ..., 231 232 233]"
     ]
    },
    {
     "name": "stderr",
     "output_type": "stream",
     "text": [
      "\r",
      " 17%|█▋        | 210/1261 [01:01<04:55,  3.55it/s]"
     ]
    },
    {
     "name": "stdout",
     "output_type": "stream",
     "text": [
      "\n",
      "[640 640 640 ...,  79  79  79]\n",
      "[992 993 994 ..., 924 925 926]\n",
      "[645 645 645 ..., 159 159 159]\n",
      "[337 338 339 ..., 226 227 228]"
     ]
    },
    {
     "name": "stderr",
     "output_type": "stream",
     "text": [
      "\r",
      " 17%|█▋        | 211/1261 [01:01<04:54,  3.57it/s]"
     ]
    },
    {
     "name": "stdout",
     "output_type": "stream",
     "text": [
      "\n",
      "[640 640 640 ...,  79  79  79]\n",
      "[993 994 995 ..., 938 939 940]\n",
      "[671 671 671 ..., 159 159 159]\n",
      "[337 338 339 ..., 184 185 186]"
     ]
    },
    {
     "name": "stderr",
     "output_type": "stream",
     "text": [
      "\r",
      " 17%|█▋        | 212/1261 [01:01<04:52,  3.58it/s]"
     ]
    },
    {
     "name": "stdout",
     "output_type": "stream",
     "text": [
      "\n",
      "[640 640 640 ...,  22  22  22]\n",
      "[993 994 995 ..., 934 935 936]\n",
      "[698 698 698 ..., 159 159 159]\n",
      "[337 338 339 ..., 220 221 222]"
     ]
    },
    {
     "name": "stderr",
     "output_type": "stream",
     "text": [
      "\r",
      " 17%|█▋        | 213/1261 [01:02<04:55,  3.55it/s]"
     ]
    },
    {
     "name": "stdout",
     "output_type": "stream",
     "text": [
      "\n",
      "[640 640 640 ...,  79  79  79]\n",
      "[977 978 979 ..., 953 954 955]\n",
      "[560 560 560 ..., 239 239 239]\n",
      "[336 337 338 ..., 220 221 222]"
     ]
    },
    {
     "name": "stderr",
     "output_type": "stream",
     "text": [
      "\r",
      " 17%|█▋        | 214/1261 [01:02<04:51,  3.59it/s]"
     ]
    },
    {
     "name": "stdout",
     "output_type": "stream",
     "text": [
      "\n",
      "[640 640 640 ...,  79  79  79]\n",
      "[975 976 977 ..., 945 946 947]\n",
      "[560 560 560 ..., 239 239 239]\n",
      "[335 336 337 ..., 231 232 233]"
     ]
    },
    {
     "name": "stderr",
     "output_type": "stream",
     "text": [
      "\r",
      " 17%|█▋        | 215/1261 [01:02<04:54,  3.55it/s]"
     ]
    },
    {
     "name": "stdout",
     "output_type": "stream",
     "text": [
      "\n",
      "[640 640 640 ...,  79  79  79]\n",
      "[979 980 981 ..., 940 941 942]\n",
      "[640 640 640 ..., 239 239 239]\n",
      "[333 334 335 ..., 236 237 238]"
     ]
    },
    {
     "name": "stderr",
     "output_type": "stream",
     "text": [
      "\r",
      " 17%|█▋        | 216/1261 [01:02<05:00,  3.48it/s]"
     ]
    },
    {
     "name": "stdout",
     "output_type": "stream",
     "text": [
      "\n",
      "[640 640 640 ...,  79  79  79]\n",
      "[976 977 978 ..., 857 858 859]\n",
      "[640 640 640 ...,  43  43  43]\n",
      "[332 333 334 ..., 241 242 243]"
     ]
    },
    {
     "name": "stderr",
     "output_type": "stream",
     "text": [
      "\r",
      " 17%|█▋        | 217/1261 [01:03<04:55,  3.54it/s]"
     ]
    },
    {
     "name": "stdout",
     "output_type": "stream",
     "text": [
      "\n",
      "[640 640 640 ...,  79  79  79]\n",
      "[975 976 977 ..., 872 873 874]\n",
      "[640 640 640 ...,  63  63  63]\n",
      "[331 332 333 ..., 236 237 238]"
     ]
    },
    {
     "name": "stderr",
     "output_type": "stream",
     "text": [
      "\r",
      " 17%|█▋        | 218/1261 [01:03<04:57,  3.50it/s]"
     ]
    },
    {
     "name": "stdout",
     "output_type": "stream",
     "text": [
      "\n",
      "[640 640 640 ...,  79  79  79]\n",
      "[981 982 983 ..., 888 889 890]\n",
      "[649 649 649 ...,  79  79  79]\n",
      "[335 336 337 ..., 236 237 238]"
     ]
    },
    {
     "name": "stderr",
     "output_type": "stream",
     "text": [
      "\r",
      " 17%|█▋        | 219/1261 [01:03<04:51,  3.58it/s]"
     ]
    },
    {
     "name": "stdout",
     "output_type": "stream",
     "text": [
      "\n",
      "[640 640 640 ...,  79  79  79]\n",
      "[979 980 981 ..., 888 889 890]\n",
      "[676 676 676 ...,  79  79  79]\n",
      "[335 336 337 ..., 231 232 233]"
     ]
    },
    {
     "name": "stderr",
     "output_type": "stream",
     "text": [
      "\r",
      " 17%|█▋        | 220/1261 [01:03<04:48,  3.61it/s]"
     ]
    },
    {
     "name": "stdout",
     "output_type": "stream",
     "text": [
      "\n",
      "[640 640 640 ...,  79  79  79]\n",
      "[980 981 982 ..., 898 899 900]\n",
      "[702 702 702 ...,  79  79  79]\n",
      "[336 337 338 ..., 231 232 233]"
     ]
    },
    {
     "name": "stderr",
     "output_type": "stream",
     "text": [
      "\r",
      " 18%|█▊        | 221/1261 [01:04<04:47,  3.62it/s]"
     ]
    },
    {
     "name": "stdout",
     "output_type": "stream",
     "text": [
      "\n",
      "[640 640 640 ...,  79  79  79]\n",
      "[980 981 982 ..., 898 899 900]\n",
      "[610 610 610 ...,  79  79  79]\n",
      "[336 337 338 ..., 220 221 222]"
     ]
    },
    {
     "name": "stderr",
     "output_type": "stream",
     "text": [
      "\r",
      " 18%|█▊        | 222/1261 [01:04<04:44,  3.65it/s]"
     ]
    },
    {
     "name": "stdout",
     "output_type": "stream",
     "text": [
      "\n",
      "[640 640 640 ...,  79  79  79]\n",
      "[974 975 976 ..., 898 899 900]\n",
      "[640 640 640 ...,  79  79  79]\n",
      "[332 333 334 ..., 226 227 228]"
     ]
    },
    {
     "name": "stderr",
     "output_type": "stream",
     "text": [
      "\r",
      " 18%|█▊        | 223/1261 [01:04<04:49,  3.58it/s]"
     ]
    },
    {
     "name": "stdout",
     "output_type": "stream",
     "text": [
      "\n",
      "[640 640 640 ...,  79  79  79]\n",
      "[985 986 987 ..., 924 925 926]\n",
      "[663 663 663 ..., 159 159 159]\n",
      "[335 336 337 ..., 236 237 238]"
     ]
    },
    {
     "name": "stderr",
     "output_type": "stream",
     "text": [
      "\r",
      " 18%|█▊        | 224/1261 [01:05<04:48,  3.59it/s]"
     ]
    },
    {
     "name": "stdout",
     "output_type": "stream",
     "text": [
      "\n",
      "[640 640 640 ...,  79  79  79]\n",
      "[972 973 980 ..., 910 911 912]\n",
      "[691 691 691 ..., 159 159 159]\n",
      "[333 334 335 ..., 220 221 222]"
     ]
    },
    {
     "name": "stderr",
     "output_type": "stream",
     "text": [
      "\r",
      " 18%|█▊        | 225/1261 [01:05<04:47,  3.60it/s]"
     ]
    },
    {
     "name": "stdout",
     "output_type": "stream",
     "text": [
      "\n",
      "[640 640 640 ...,  79  79  79]\n",
      "[959 960 961 ..., 932 933 934]\n",
      "[560 560 560 ..., 239 239 239]\n",
      "[336 337 339 ..., 231 232 233]"
     ]
    },
    {
     "name": "stderr",
     "output_type": "stream",
     "text": [
      "\r",
      " 18%|█▊        | 226/1261 [01:05<04:47,  3.60it/s]"
     ]
    },
    {
     "name": "stdout",
     "output_type": "stream",
     "text": [
      "\n",
      "[640 640 640 ...,  79  79  79]\n",
      "[953 954 955 ..., 928 929 930]\n",
      "[560 560 560 ..., 239 239 239]\n",
      "[331 332 336 ..., 231 232 233]"
     ]
    },
    {
     "name": "stderr",
     "output_type": "stream",
     "text": [
      "\r",
      " 18%|█▊        | 227/1261 [01:05<04:58,  3.46it/s]"
     ]
    },
    {
     "name": "stdout",
     "output_type": "stream",
     "text": [
      "\n",
      "[640 640 640 ...,  79  79  79]\n",
      "[965 966 967 ..., 846 847 848]\n",
      "[640 640 640 ...,  22  22  22]\n",
      "[328 329 330 ..., 236 237 238]"
     ]
    },
    {
     "name": "stderr",
     "output_type": "stream",
     "text": [
      "\r",
      " 18%|█▊        | 228/1261 [01:06<05:00,  3.44it/s]"
     ]
    },
    {
     "name": "stdout",
     "output_type": "stream",
     "text": [
      "\n",
      "[640 640 640 ...,  79  79  79]\n",
      "[962 963 964 ..., 857 858 859]\n",
      "[640 640 640 ...,  43  43  43]\n",
      "[328 329 330 ..., 231 232 233]"
     ]
    },
    {
     "name": "stderr",
     "output_type": "stream",
     "text": [
      "\r",
      " 18%|█▊        | 229/1261 [01:06<05:02,  3.42it/s]"
     ]
    },
    {
     "name": "stdout",
     "output_type": "stream",
     "text": [
      "\n",
      "[640 640 640 ...,  79  79  79]\n",
      "[960 961 962 ..., 867 868 869]\n",
      "[640 640 640 ...,  63  63  63]\n",
      "[326 327 328 ..., 226 227 228]"
     ]
    },
    {
     "name": "stderr",
     "output_type": "stream",
     "text": [
      "\r",
      " 18%|█▊        | 230/1261 [01:06<04:57,  3.47it/s]"
     ]
    },
    {
     "name": "stdout",
     "output_type": "stream",
     "text": [
      "\n",
      "[640 640 640 ...,  79  79  79]\n",
      "[965 966 967 ..., 877 878 879]\n",
      "[645 645 645 ...,  79  79  79]\n",
      "[326 327 328 ..., 199 200 201]"
     ]
    },
    {
     "name": "stderr",
     "output_type": "stream",
     "text": [
      "\r",
      " 18%|█▊        | 231/1261 [01:07<04:55,  3.49it/s]"
     ]
    },
    {
     "name": "stdout",
     "output_type": "stream",
     "text": [
      "\n",
      "[640 640 640 ...,  79  79  79]\n",
      "[973 974 975 ..., 893 894 895]\n",
      "[671 671 671 ...,  79  79  79]\n",
      "[323 324 325 ..., 220 221 222]"
     ]
    },
    {
     "name": "stderr",
     "output_type": "stream",
     "text": [
      "\r",
      " 18%|█▊        | 232/1261 [01:07<04:52,  3.52it/s]"
     ]
    },
    {
     "name": "stdout",
     "output_type": "stream",
     "text": [
      "\n",
      "[640 640 640 ...,  79  79  79]\n",
      "[964 965 966 ..., 898 899 900]\n",
      "[698 698 698 ...,  79  79  79]\n",
      "[321 322 323 ..., 220 221 222]"
     ]
    },
    {
     "name": "stderr",
     "output_type": "stream",
     "text": [
      "\r",
      " 18%|█▊        | 233/1261 [01:07<04:49,  3.55it/s]"
     ]
    },
    {
     "name": "stdout",
     "output_type": "stream",
     "text": [
      "\n",
      "[640 640 640 ...,  79  79  79]\n",
      "[964 965 966 ..., 898 899 900]\n",
      "[607 607 607 ...,  79  79  79]\n",
      "[320 321 322 ..., 215 216 217]"
     ]
    },
    {
     "name": "stderr",
     "output_type": "stream",
     "text": [
      "\r",
      " 19%|█▊        | 234/1261 [01:07<04:47,  3.58it/s]"
     ]
    },
    {
     "name": "stdout",
     "output_type": "stream",
     "text": [
      "\n",
      "[640 640 640 ...,  79  79  79]\n",
      "[956 957 958 ..., 893 894 895]\n",
      "[640 640 640 ...,  79  79  79]\n",
      "[317 318 319 ..., 220 221 222]"
     ]
    },
    {
     "name": "stderr",
     "output_type": "stream",
     "text": [
      "\r",
      " 19%|█▊        | 235/1261 [01:08<04:54,  3.49it/s]"
     ]
    },
    {
     "name": "stdout",
     "output_type": "stream",
     "text": [
      "\n",
      "[640 640 640 ...,  79  79  79]\n",
      "[960 961 970 ..., 915 916 917]\n",
      "[660 660 660 ..., 159 159 159]\n",
      "[318 319 320 ..., 226 227 228]"
     ]
    },
    {
     "name": "stderr",
     "output_type": "stream",
     "text": [
      "\r",
      " 19%|█▊        | 236/1261 [01:08<05:15,  3.25it/s]"
     ]
    },
    {
     "name": "stdout",
     "output_type": "stream",
     "text": [
      "\n",
      "[640 640 640 ...,  79  79  79]\n",
      "[959 960 958 ..., 896 897 898]\n",
      "[686 686 687 ..., 159 159 159]\n",
      "[317 318 319 ..., 220 221 222]"
     ]
    },
    {
     "name": "stderr",
     "output_type": "stream",
     "text": [
      "\r",
      " 19%|█▉        | 237/1261 [01:08<05:05,  3.35it/s]"
     ]
    },
    {
     "name": "stdout",
     "output_type": "stream",
     "text": [
      "\n",
      "[640 640 640 ...,  79  79  79]\n",
      "[946 947 948 ..., 920 921 922]\n",
      "[560 560 560 ..., 239 239 239]\n",
      "[317 318 319 ..., 226 227 228]"
     ]
    },
    {
     "name": "stderr",
     "output_type": "stream",
     "text": [
      "\r",
      " 19%|█▉        | 238/1261 [01:09<05:00,  3.40it/s]"
     ]
    },
    {
     "name": "stdout",
     "output_type": "stream",
     "text": [
      "\n",
      "[640 640 640 ...,  79  79  79]\n",
      "[944 945 946 ..., 916 917 918]\n",
      "[560 560 560 ..., 239 239 239]\n",
      "[317 318 319 ..., 226 227 228]"
     ]
    },
    {
     "name": "stderr",
     "output_type": "stream",
     "text": [
      "\r",
      " 19%|█▉        | 239/1261 [01:09<05:11,  3.28it/s]"
     ]
    },
    {
     "name": "stdout",
     "output_type": "stream",
     "text": [
      "\n",
      "[640 640 640 ...,  79  79  79]\n",
      "[950 951 952 ..., 818 819 820]\n",
      "[640 640 640 ...,  43  43  43]\n",
      "[316 317 322 ..., 231 232 233]"
     ]
    },
    {
     "name": "stderr",
     "output_type": "stream",
     "text": [
      "\r",
      " 19%|█▉        | 240/1261 [01:09<05:24,  3.14it/s]"
     ]
    },
    {
     "name": "stdout",
     "output_type": "stream",
     "text": [
      "\n",
      "[640 640 640 ...,  79  79  79]\n",
      "[951 952 953 ..., 829 830 831]\n",
      "[640 640 640 ...,  63  63  63]\n",
      "[315 316 317 ..., 226 227 228]"
     ]
    },
    {
     "name": "stderr",
     "output_type": "stream",
     "text": [
      "\r",
      " 19%|█▉        | 241/1261 [01:10<05:21,  3.17it/s]"
     ]
    },
    {
     "name": "stdout",
     "output_type": "stream",
     "text": [
      "\n",
      "[640 640 640 ...,  79  79  79]\n",
      "[950 951 952 ..., 829 830 831]\n",
      "[640 640 640 ...,  43  43  43]\n",
      "[311 312 313 ..., 210 211 212]"
     ]
    },
    {
     "name": "stderr",
     "output_type": "stream",
     "text": [
      "\r",
      " 19%|█▉        | 242/1261 [01:10<05:08,  3.30it/s]"
     ]
    },
    {
     "name": "stdout",
     "output_type": "stream",
     "text": [
      "\n",
      "[640 640 640 ...,  79  79  79]\n",
      "[953 954 955 ..., 851 852 853]\n",
      "[640 640 640 ...,  79  79  79]\n",
      "[313 314 315 ..., 210 211 212]"
     ]
    },
    {
     "name": "stderr",
     "output_type": "stream",
     "text": [
      "\r",
      " 19%|█▉        | 243/1261 [01:10<05:05,  3.33it/s]"
     ]
    },
    {
     "name": "stdout",
     "output_type": "stream",
     "text": [
      "\n",
      "[640 640 640 ...,  79  79  79]\n",
      "[962 963 964 ..., 856 857 858]\n",
      "[665 665 665 ...,  79  79  79]\n",
      "[311 312 313 ..., 210 211 212]"
     ]
    },
    {
     "name": "stderr",
     "output_type": "stream",
     "text": [
      "\r",
      " 19%|█▉        | 244/1261 [01:10<04:59,  3.40it/s]"
     ]
    },
    {
     "name": "stdout",
     "output_type": "stream",
     "text": [
      "\n",
      "[640 640 640 ...,  79  79  79]\n",
      "[957 958 959 ..., 867 868 869]\n",
      "[692 692 692 ...,  79  79  79]\n",
      "[311 312 330 ..., 205 206 207]"
     ]
    },
    {
     "name": "stderr",
     "output_type": "stream",
     "text": [
      "\r",
      " 19%|█▉        | 245/1261 [01:11<04:51,  3.48it/s]"
     ]
    },
    {
     "name": "stdout",
     "output_type": "stream",
     "text": [
      "\n",
      "[640 640 640 ...,  79  79  79]\n",
      "[959 960 961 ..., 846 847 848]\n",
      "[604 604 604 ...,  79  79  79]\n",
      "[311 312 313 ..., 205 206 207]"
     ]
    },
    {
     "name": "stderr",
     "output_type": "stream",
     "text": [
      "\r",
      " 20%|█▉        | 246/1261 [01:11<04:47,  3.53it/s]"
     ]
    },
    {
     "name": "stdout",
     "output_type": "stream",
     "text": [
      "\n",
      "[640 640 640 ...,  79  79  79]\n",
      "[958 959 960 ..., 882 883 884]\n",
      "[631 631 631 ..., 159 159 159]\n",
      "[308 309 310 ..., 210 211 212]"
     ]
    },
    {
     "name": "stderr",
     "output_type": "stream",
     "text": [
      "\r",
      " 20%|█▉        | 247/1261 [01:11<04:50,  3.49it/s]"
     ]
    },
    {
     "name": "stdout",
     "output_type": "stream",
     "text": [
      "\n",
      "[640 640 640 ...,  79  79  79]\n",
      "[961 962 963 ..., 887 888 889]\n",
      "[657 657 657 ..., 159 159 159]\n",
      "[311 312 313 ..., 231 232 233]"
     ]
    },
    {
     "name": "stderr",
     "output_type": "stream",
     "text": [
      "\r",
      " 20%|█▉        | 248/1261 [01:12<04:47,  3.53it/s]"
     ]
    },
    {
     "name": "stdout",
     "output_type": "stream",
     "text": [
      "\n",
      "[640 640 640 ...,  79  79  79]\n",
      "[972 973 974 ..., 895 896 897]\n",
      "[684 684 684 ..., 239 239 239]\n",
      "[309 310 311 ..., 231 232 233]"
     ]
    },
    {
     "name": "stderr",
     "output_type": "stream",
     "text": [
      "\r",
      " 20%|█▉        | 249/1261 [01:12<04:42,  3.58it/s]"
     ]
    },
    {
     "name": "stdout",
     "output_type": "stream",
     "text": [
      "\n",
      "[640 640 640 ...,  79  79  79]\n",
      "[953 940 941 ..., 903 904 905]\n",
      "[709 560 560 ..., 239 239 239]\n",
      "[309 310 311 ..., 231 232 233]"
     ]
    },
    {
     "name": "stderr",
     "output_type": "stream",
     "text": [
      "\r",
      " 20%|█▉        | 250/1261 [01:12<04:39,  3.61it/s]"
     ]
    },
    {
     "name": "stdout",
     "output_type": "stream",
     "text": [
      "\n",
      "[640 640 640 ...,  79  79  79]\n",
      "[938 939 940 ..., 807 808 809]\n",
      "[560 560 560 ...,  22  22  22]\n",
      "[308 309 310 ..., 236 237 238]"
     ]
    },
    {
     "name": "stderr",
     "output_type": "stream",
     "text": [
      "\r",
      " 20%|█▉        | 251/1261 [01:12<04:34,  3.68it/s]"
     ]
    },
    {
     "name": "stdout",
     "output_type": "stream",
     "text": [
      "\n",
      "[640 640 640 ...,  79  79  79]\n",
      "[948 949 950 ..., 824 825 826]\n",
      "[640 640 640 ...,  43  43  43]\n",
      "[309 310 311 ..., 231 232 233]"
     ]
    },
    {
     "name": "stderr",
     "output_type": "stream",
     "text": [
      "\r",
      " 20%|█▉        | 252/1261 [01:13<04:34,  3.68it/s]"
     ]
    },
    {
     "name": "stdout",
     "output_type": "stream",
     "text": [
      "\n",
      "[640 640 640 ...,  79  79  79]\n",
      "[948 949 950 ..., 840 841 842]\n",
      "[640 640 640 ...,  63  63  63]\n",
      "[309 310 311 ..., 231 232 233]"
     ]
    },
    {
     "name": "stderr",
     "output_type": "stream",
     "text": [
      "\r",
      " 20%|██        | 253/1261 [01:13<04:35,  3.66it/s]"
     ]
    },
    {
     "name": "stdout",
     "output_type": "stream",
     "text": [
      "\n",
      "[640 640 640 ...,  79  79  79]\n",
      "[947 948 949 ..., 846 847 848]\n",
      "[640 640 640 ...,  79  79  79]\n",
      "[309 310 311 ..., 226 227 228]"
     ]
    },
    {
     "name": "stderr",
     "output_type": "stream",
     "text": [
      "\r",
      " 20%|██        | 254/1261 [01:13<04:58,  3.37it/s]"
     ]
    },
    {
     "name": "stdout",
     "output_type": "stream",
     "text": [
      "\n",
      "[640 640 640 ...,  79  79  79]\n",
      "[950 951 952 ..., 872 873 874]\n",
      "[640 640 640 ...,  79  79  79]\n",
      "[311 312 313 ..., 236 237 238]"
     ]
    },
    {
     "name": "stderr",
     "output_type": "stream",
     "text": [
      "\r",
      " 20%|██        | 255/1261 [01:14<05:05,  3.29it/s]"
     ]
    },
    {
     "name": "stdout",
     "output_type": "stream",
     "text": [
      "\n",
      "[640 640 640 ...,  79  79  79]\n",
      "[956 957 958 ..., 856 857 858]\n",
      "[660 660 660 ...,  79  79  79]\n",
      "[311 312 313 ..., 236 237 238]"
     ]
    },
    {
     "name": "stderr",
     "output_type": "stream",
     "text": [
      "\r",
      " 20%|██        | 256/1261 [01:14<05:08,  3.26it/s]"
     ]
    },
    {
     "name": "stdout",
     "output_type": "stream",
     "text": [
      "\n",
      "[640 640 640 ...,  79  79  79]\n",
      "[955 956 957 ..., 867 868 869]\n",
      "[687 687 687 ...,  79  79  79]\n",
      "[311 312 313 ..., 241 242 243]"
     ]
    },
    {
     "name": "stderr",
     "output_type": "stream",
     "text": [
      "\r",
      " 20%|██        | 257/1261 [01:14<05:16,  3.17it/s]"
     ]
    },
    {
     "name": "stdout",
     "output_type": "stream",
     "text": [
      "\n",
      "[640 640 640 ...,  79  79  79]\n",
      "[959 960 961 ..., 901 902 903]\n",
      "[602 602 602 ..., 159 159 159]\n",
      "[312 313 314 ..., 247 248 249]"
     ]
    },
    {
     "name": "stderr",
     "output_type": "stream",
     "text": [
      "\r",
      " 20%|██        | 258/1261 [01:15<05:07,  3.26it/s]"
     ]
    },
    {
     "name": "stdout",
     "output_type": "stream",
     "text": [
      "\n",
      "[640 640 640 ...,  79  79  79]\n",
      "[962 963 964 ..., 896 897 898]\n",
      "[629 629 629 ..., 159 159 159]\n",
      "[312 313 314 ..., 247 248 249]"
     ]
    },
    {
     "name": "stderr",
     "output_type": "stream",
     "text": [
      "\r",
      " 21%|██        | 259/1261 [01:15<04:56,  3.37it/s]"
     ]
    },
    {
     "name": "stdout",
     "output_type": "stream",
     "text": [
      "\n",
      "[640 640 640 ...,  79  79  79]\n",
      "[960 961 962 ..., 891 892 893]\n",
      "[656 656 656 ..., 159 159 159]\n",
      "[315 316 317 ..., 252 253 254]"
     ]
    },
    {
     "name": "stderr",
     "output_type": "stream",
     "text": [
      "\r",
      " 21%|██        | 260/1261 [01:15<04:56,  3.38it/s]"
     ]
    },
    {
     "name": "stdout",
     "output_type": "stream",
     "text": [
      "\n",
      "[640 640 640 ...,  79  79  79]\n",
      "[962 963 964 ..., 920 921 922]\n",
      "[682 682 682 ..., 239 239 239]\n",
      "[313 314 315 ..., 247 248 249]"
     ]
    },
    {
     "name": "stderr",
     "output_type": "stream",
     "text": [
      "\r",
      " 21%|██        | 261/1261 [01:15<04:53,  3.41it/s]"
     ]
    },
    {
     "name": "stdout",
     "output_type": "stream",
     "text": [
      "\n",
      "[640 640 640 ...,  79  79  79]\n",
      "[955 956 957 ..., 932 933 934]\n",
      "[707 707 707 ..., 239 239 239]\n",
      "[316 317 318 ..., 252 253 254]"
     ]
    },
    {
     "name": "stderr",
     "output_type": "stream",
     "text": [
      "\r",
      " 21%|██        | 262/1261 [01:16<04:44,  3.51it/s]"
     ]
    },
    {
     "name": "stdout",
     "output_type": "stream",
     "text": [
      "\n",
      "[640 640 640 ...,  79  79  79]\n",
      "[949 950 951 ..., 932 933 934]\n",
      "[560 560 560 ..., 239 239 239]\n",
      "[316 317 318 ..., 257 258 259]"
     ]
    },
    {
     "name": "stderr",
     "output_type": "stream",
     "text": [
      "\r",
      " 21%|██        | 263/1261 [01:16<04:39,  3.57it/s]"
     ]
    },
    {
     "name": "stdout",
     "output_type": "stream",
     "text": [
      "\n",
      "[640 640 640 ...,  79  79  79]\n",
      "[966 967 968 ..., 863 864 865]\n",
      "[642 642 642 ...,  22  22  22]\n",
      "[315 316 317 ..., 268 269 270]"
     ]
    },
    {
     "name": "stderr",
     "output_type": "stream",
     "text": [
      "\r",
      " 21%|██        | 264/1261 [01:16<04:47,  3.47it/s]"
     ]
    },
    {
     "name": "stdout",
     "output_type": "stream",
     "text": [
      "\n",
      "[640 640 640 ...,  79  79  79]\n",
      "[955 956 957 ..., 857 858 859]\n",
      "[640 640 640 ...,  43  43  43]\n",
      "[315 316 317 ..., 257 258 259]"
     ]
    },
    {
     "name": "stderr",
     "output_type": "stream",
     "text": [
      "\r",
      " 21%|██        | 265/1261 [01:17<04:43,  3.51it/s]"
     ]
    },
    {
     "name": "stdout",
     "output_type": "stream",
     "text": [
      "\n",
      "[640 640 640 ...,  79  79  79]\n",
      "[955 956 957 ..., 877 878 879]\n",
      "[640 640 640 ...,  79  79  79]\n",
      "[313 314 315 ..., 257 258 259]"
     ]
    },
    {
     "name": "stderr",
     "output_type": "stream",
     "text": [
      "\r",
      " 21%|██        | 266/1261 [01:17<04:42,  3.52it/s]"
     ]
    },
    {
     "name": "stdout",
     "output_type": "stream",
     "text": [
      "\n",
      "[640 640 640 ...,  79  79  79]\n",
      "[957 958 959 ..., 898 899 900]\n",
      "[640 640 640 ...,  79  79  79]\n",
      "[313 314 315 ..., 252 253 254]"
     ]
    },
    {
     "name": "stderr",
     "output_type": "stream",
     "text": [
      "\r",
      " 21%|██        | 267/1261 [01:17<04:39,  3.56it/s]"
     ]
    },
    {
     "name": "stdout",
     "output_type": "stream",
     "text": [
      "\n",
      "[640 640 640 ...,  79  79  79]\n",
      "[963 964 965 ..., 914 915 916]\n",
      "[640 640 640 ...,  79  79  79]\n",
      "[313 314 315 ..., 257 258 259]"
     ]
    },
    {
     "name": "stderr",
     "output_type": "stream",
     "text": [
      "\r",
      " 21%|██▏       | 268/1261 [01:17<04:43,  3.50it/s]"
     ]
    },
    {
     "name": "stdout",
     "output_type": "stream",
     "text": [
      "\n",
      "[640 640 640 ...,  79  79  79]\n",
      "[963 964 965 ..., 919 920 921]\n",
      "[667 667 667 ...,  79  79  79]\n",
      "[311 312 313 ..., 257 258 259]"
     ]
    },
    {
     "name": "stderr",
     "output_type": "stream",
     "text": [
      "\r",
      " 21%|██▏       | 269/1261 [01:18<04:51,  3.40it/s]"
     ]
    },
    {
     "name": "stdout",
     "output_type": "stream",
     "text": [
      "\n",
      "[640 640 640 ...,  79  79  79]\n",
      "[964 965 966 ..., 930 931 932]\n",
      "[693 693 693 ...,  79  79  79]\n",
      "[312 313 314 ..., 257 258 259]"
     ]
    },
    {
     "name": "stderr",
     "output_type": "stream",
     "text": [
      "\r",
      " 21%|██▏       | 270/1261 [01:18<05:11,  3.18it/s]"
     ]
    },
    {
     "name": "stdout",
     "output_type": "stream",
     "text": [
      "\n",
      "[640 640 640 ...,  79  79  79]\n",
      "[971 972 973 ..., 914 915 916]\n",
      "[624 624 624 ...,  79  79  79]\n",
      "[313 314 315 ..., 257 258 259]"
     ]
    },
    {
     "name": "stderr",
     "output_type": "stream",
     "text": [
      "\r",
      " 21%|██▏       | 271/1261 [01:18<05:09,  3.20it/s]"
     ]
    },
    {
     "name": "stdout",
     "output_type": "stream",
     "text": [
      "\n",
      "[640 640 640 ...,  79  79  79]\n",
      "[970 971 972 ..., 938 939 940]\n",
      "[652 652 652 ..., 159 159 159]\n",
      "[320 321 322 ..., 247 248 249]"
     ]
    },
    {
     "name": "stderr",
     "output_type": "stream",
     "text": [
      "\r",
      " 22%|██▏       | 272/1261 [01:19<05:05,  3.24it/s]"
     ]
    },
    {
     "name": "stdout",
     "output_type": "stream",
     "text": [
      "\n",
      "[640 640 640 ...,  79  79  79]\n",
      "[963 964 966 ..., 929 930 931]\n",
      "[677 677 680 ..., 159 159 159]\n",
      "[317 318 319 ..., 268 269 270]"
     ]
    },
    {
     "name": "stderr",
     "output_type": "stream",
     "text": [
      "\r",
      " 22%|██▏       | 273/1261 [01:19<04:55,  3.34it/s]"
     ]
    },
    {
     "name": "stdout",
     "output_type": "stream",
     "text": [
      "\n",
      "[640 640 640 ...,  79  79  79]\n",
      "[963 960 961 ..., 945 946 947]\n",
      "[704 705 705 ..., 239 239 239]\n",
      "[321 322 323 ..., 278 279 280]"
     ]
    },
    {
     "name": "stderr",
     "output_type": "stream",
     "text": [
      "\r",
      " 22%|██▏       | 274/1261 [01:19<04:46,  3.44it/s]"
     ]
    },
    {
     "name": "stdout",
     "output_type": "stream",
     "text": [
      "\n",
      "[640 640 640 ...,  79  79  79]\n",
      "[955 956 957 ..., 858 859 860]\n",
      "[560 560 560 ...,  22  22  22]\n",
      "[320 321 322 ..., 273 274 275]"
     ]
    },
    {
     "name": "stderr",
     "output_type": "stream",
     "text": [
      "\r",
      " 22%|██▏       | 275/1261 [01:20<04:48,  3.42it/s]"
     ]
    },
    {
     "name": "stdout",
     "output_type": "stream",
     "text": [
      "\n",
      "[640 640 640 ...,  79  79  79]\n",
      "[960 961 962 ..., 873 874 875]\n",
      "[640 640 640 ...,  43  43  43]\n",
      "[320 321 322 ..., 278 279 280]"
     ]
    },
    {
     "name": "stderr",
     "output_type": "stream",
     "text": [
      "\r",
      " 22%|██▏       | 276/1261 [01:20<04:48,  3.42it/s]"
     ]
    },
    {
     "name": "stdout",
     "output_type": "stream",
     "text": [
      "\n",
      "[640 640 640 ...,  79  79  79]\n",
      "[962 963 964 ..., 888 889 890]\n",
      "[640 640 640 ...,  63  63  63]\n",
      "[321 322 323 ..., 278 279 280]"
     ]
    },
    {
     "name": "stderr",
     "output_type": "stream",
     "text": [
      "\r",
      " 22%|██▏       | 277/1261 [01:20<04:46,  3.43it/s]"
     ]
    },
    {
     "name": "stdout",
     "output_type": "stream",
     "text": [
      "\n",
      "[640 640 640 ...,  79  79  79]\n",
      "[962 963 964 ..., 904 905 906]\n",
      "[640 640 640 ...,  79  79  79]\n",
      "[320 321 322 ..., 278 279 280]"
     ]
    },
    {
     "name": "stderr",
     "output_type": "stream",
     "text": [
      "\r",
      " 22%|██▏       | 278/1261 [01:20<04:43,  3.47it/s]"
     ]
    },
    {
     "name": "stdout",
     "output_type": "stream",
     "text": [
      "\n",
      "[640 640 640 ...,  79  79  79]\n",
      "[963 964 965 ..., 919 920 921]\n",
      "[640 640 640 ...,  79  79  79]\n",
      "[322 323 324 ..., 283 284 285]"
     ]
    },
    {
     "name": "stderr",
     "output_type": "stream",
     "text": [
      "\r",
      " 22%|██▏       | 279/1261 [01:21<04:35,  3.56it/s]"
     ]
    },
    {
     "name": "stdout",
     "output_type": "stream",
     "text": [
      "\n",
      "[640 640 640 ...,  79  79  79]\n",
      "[976 977 978 ..., 925 926 927]\n",
      "[657 657 657 ...,  79  79  79]\n",
      "[323 324 325 ..., 289 290 291]"
     ]
    },
    {
     "name": "stderr",
     "output_type": "stream",
     "text": [
      "\r",
      " 22%|██▏       | 280/1261 [01:21<04:32,  3.60it/s]"
     ]
    },
    {
     "name": "stdout",
     "output_type": "stream",
     "text": [
      "\n",
      "[640 640 640 ...,  79  79  79]\n",
      "[976 977 967 ..., 919 920 921]\n",
      "[684 684 685 ...,  79  79  79]\n",
      "[325 326 327 ..., 289 290 291]"
     ]
    },
    {
     "name": "stderr",
     "output_type": "stream",
     "text": [
      "\r",
      " 22%|██▏       | 281/1261 [01:21<04:28,  3.65it/s]"
     ]
    },
    {
     "name": "stdout",
     "output_type": "stream",
     "text": [
      "\n",
      "[640 640 640 ...,  79  79  79]\n",
      "[976 977 978 ..., 930 931 932]\n",
      "[597 597 597 ...,  79  79  79]\n",
      "[327 328 329 ..., 289 290 291]"
     ]
    },
    {
     "name": "stderr",
     "output_type": "stream",
     "text": [
      "\r",
      " 22%|██▏       | 282/1261 [01:21<04:27,  3.66it/s]"
     ]
    },
    {
     "name": "stdout",
     "output_type": "stream",
     "text": [
      "\n",
      "[640 640 640 ...,  79  79  79]\n",
      "[973 974 975 ..., 943 944 945]\n",
      "[625 625 625 ..., 159 159 159]\n",
      "[327 328 329 ..., 299 300 301]"
     ]
    },
    {
     "name": "stderr",
     "output_type": "stream",
     "text": [
      "\r",
      " 22%|██▏       | 283/1261 [01:22<04:25,  3.69it/s]"
     ]
    },
    {
     "name": "stdout",
     "output_type": "stream",
     "text": [
      "\n",
      "[640 640 640 ...,  79  79  79]\n",
      "[975 976 977 ..., 952 953 954]\n",
      "[651 651 651 ..., 159 159 159]\n",
      "[330 331 332 ..., 289 290 291]"
     ]
    },
    {
     "name": "stderr",
     "output_type": "stream",
     "text": [
      "\r",
      " 23%|██▎       | 284/1261 [01:22<04:25,  3.68it/s]"
     ]
    },
    {
     "name": "stdout",
     "output_type": "stream",
     "text": [
      "\n",
      "[640 640 640 ...,  79  79  79]\n",
      "[983 984 986 ..., 952 953 954]\n",
      "[677 677 677 ..., 159 159 159]\n",
      "[330 331 332 ..., 294 295 296]"
     ]
    },
    {
     "name": "stderr",
     "output_type": "stream",
     "text": [
      "\r",
      " 23%|██▎       | 285/1261 [01:22<04:45,  3.42it/s]"
     ]
    },
    {
     "name": "stdout",
     "output_type": "stream",
     "text": [
      "\n",
      "[640 640 640 ...,  79  79  79]\n",
      "[979 980 981 ..., 973 974 975]\n",
      "[704 704 704 ..., 239 239 239]\n",
      "[330 331 332 ..., 299 300 301]"
     ]
    },
    {
     "name": "stderr",
     "output_type": "stream",
     "text": [
      "\r",
      " 23%|██▎       | 286/1261 [01:23<04:46,  3.40it/s]"
     ]
    },
    {
     "name": "stdout",
     "output_type": "stream",
     "text": [
      "\n",
      "[640 640 640 ...,  79  79  79]\n",
      "[975 976 977 ..., 982 983 984]\n",
      "[560 560 560 ..., 239 239 239]\n",
      "[330 331 332 ..., 304 305 306]"
     ]
    },
    {
     "name": "stderr",
     "output_type": "stream",
     "text": [
      "\r",
      " 23%|██▎       | 287/1261 [01:23<04:44,  3.43it/s]"
     ]
    },
    {
     "name": "stdout",
     "output_type": "stream",
     "text": [
      "\n",
      "[640 640 640 ...,  79  79  79]\n",
      "[975 976 977 ..., 982 983 984]\n",
      "[640 640 640 ..., 239 239 239]\n",
      "[330 331 332 ..., 299 300 301]"
     ]
    },
    {
     "name": "stderr",
     "output_type": "stream",
     "text": [
      "\r",
      " 23%|██▎       | 288/1261 [01:23<04:50,  3.35it/s]"
     ]
    },
    {
     "name": "stdout",
     "output_type": "stream",
     "text": [
      "\n",
      "[640 640 640 ...,  79  79  79]\n",
      "[976 977 978 ..., 937 938 939]\n",
      "[640 640 640 ...,  22  22  22]\n",
      "[335 336 337 ..., 310 311 312]"
     ]
    },
    {
     "name": "stderr",
     "output_type": "stream",
     "text": [
      "\r",
      " 23%|██▎       | 289/1261 [01:24<04:49,  3.35it/s]"
     ]
    },
    {
     "name": "stdout",
     "output_type": "stream",
     "text": [
      "\n",
      "[640 640 640 ...,  79  79  79]\n",
      "[976 977 978 ..., 942 943 944]\n",
      "[640 640 640 ...,  63  63  63]\n",
      "[335 336 337 ..., 310 311 312]"
     ]
    },
    {
     "name": "stderr",
     "output_type": "stream",
     "text": [
      "\r",
      " 23%|██▎       | 290/1261 [01:24<05:04,  3.19it/s]"
     ]
    },
    {
     "name": "stdout",
     "output_type": "stream",
     "text": [
      "\n",
      "[640 640 640 ...,  79  79  79]\n",
      "[977 978 979 ..., 951 952 953]\n",
      "[640 640 640 ...,  79  79  79]\n",
      "[336 337 338 ..., 304 305 306]"
     ]
    },
    {
     "name": "stderr",
     "output_type": "stream",
     "text": [
      "\r",
      " 23%|██▎       | 291/1261 [01:24<05:14,  3.09it/s]"
     ]
    },
    {
     "name": "stdout",
     "output_type": "stream",
     "text": [
      "\n",
      "[640 640 640 ...,  79  79  79]\n",
      "[985 986 987 ..., 961 962 963]\n",
      "[660 660 660 ...,  79  79  79]\n",
      "[337 338 339 ..., 325 326 327]"
     ]
    },
    {
     "name": "stderr",
     "output_type": "stream",
     "text": [
      "\r",
      " 23%|██▎       | 292/1261 [01:25<05:12,  3.10it/s]"
     ]
    },
    {
     "name": "stdout",
     "output_type": "stream",
     "text": [
      "\n",
      "[640 640 640 ...,  79  79  79]\n",
      "[981 982 983 ..., 946 947 948]\n",
      "[687 687 687 ...,  79  79  79]\n",
      "[337 338 339 ..., 325 326 327]"
     ]
    },
    {
     "name": "stderr",
     "output_type": "stream",
     "text": [
      "\r",
      " 23%|██▎       | 293/1261 [01:25<05:06,  3.16it/s]"
     ]
    },
    {
     "name": "stdout",
     "output_type": "stream",
     "text": [
      "\n",
      "[640 640 640 ...,  79  79  79]\n",
      "[990 991 992 ..., 961 962 963]\n",
      "[595 595 595 ...,  79  79  79]\n",
      "[341 342 343 ..., 325 326 327]"
     ]
    },
    {
     "name": "stderr",
     "output_type": "stream",
     "text": [
      "\r",
      " 23%|██▎       | 294/1261 [01:25<04:53,  3.29it/s]"
     ]
    },
    {
     "name": "stdout",
     "output_type": "stream",
     "text": [
      "\n",
      "[640 640 640 ...,  79  79  79]\n",
      "[985 986 987 ..., 971 972 973]\n",
      "[624 624 624 ..., 159 159 159]\n",
      "[341 342 343 ..., 325 326 327]"
     ]
    },
    {
     "name": "stderr",
     "output_type": "stream",
     "text": [
      "\r",
      " 23%|██▎       | 295/1261 [01:25<04:50,  3.33it/s]"
     ]
    },
    {
     "name": "stdout",
     "output_type": "stream",
     "text": [
      "\n",
      "[640 640 640 ...,  79  79  79]\n",
      "[987 988 989 ..., 976 977 978]\n",
      "[650 650 650 ..., 159 159 159]\n",
      "[342 343 344 ..., 325 326 327]"
     ]
    },
    {
     "name": "stderr",
     "output_type": "stream",
     "text": [
      "\r",
      " 23%|██▎       | 296/1261 [01:26<04:47,  3.36it/s]"
     ]
    },
    {
     "name": "stdout",
     "output_type": "stream",
     "text": [
      "\n",
      "[640 640 640 ...,  79  79  79]\n",
      "[978 979 991 ..., 971 972 973]\n",
      "[676 676 676 ..., 159 159 159]\n",
      "[340 341 342 ..., 320 321 322]"
     ]
    },
    {
     "name": "stderr",
     "output_type": "stream",
     "text": [
      "\r",
      " 24%|██▎       | 297/1261 [01:26<04:46,  3.36it/s]"
     ]
    },
    {
     "name": "stdout",
     "output_type": "stream",
     "text": [
      "\n",
      "[640 640 640 ...,  79  79  79]\n",
      "[976 977 976 ..., 982 983 984]\n",
      "[702 702 703 ..., 239 239 239]\n",
      "[339 340 341 ..., 320 321 322]"
     ]
    },
    {
     "name": "stderr",
     "output_type": "stream",
     "text": [
      "\r",
      " 24%|██▎       | 298/1261 [01:26<04:46,  3.37it/s]"
     ]
    },
    {
     "name": "stdout",
     "output_type": "stream",
     "text": [
      "\n",
      "[640 640 640 ...,  79  79  79]\n",
      "[977 978 979 ..., 982 983 984]\n",
      "[560 560 560 ..., 239 239 239]\n",
      "[339 340 341 ..., 320 321 322]"
     ]
    },
    {
     "name": "stderr",
     "output_type": "stream",
     "text": [
      "\r",
      " 24%|██▎       | 299/1261 [01:27<04:38,  3.45it/s]"
     ]
    },
    {
     "name": "stdout",
     "output_type": "stream",
     "text": [
      "\n",
      "[640 640 640 ...,  79  79  79]\n",
      "[975 976 977 ..., 937 938 939]\n",
      "[640 640 640 ...,  22  22  22]\n",
      "[337 338 339 ..., 320 321 322]"
     ]
    },
    {
     "name": "stderr",
     "output_type": "stream",
     "text": [
      "\r",
      " 24%|██▍       | 300/1261 [01:27<04:33,  3.51it/s]"
     ]
    },
    {
     "name": "stdout",
     "output_type": "stream",
     "text": [
      "\n",
      "[640 640 640 ...,  79  79  79]\n",
      "[977 978 979 ..., 940 941 942]\n",
      "[640 640 640 ...,  43  43  43]\n",
      "[337 338 339 ..., 325 326 327]"
     ]
    },
    {
     "name": "stderr",
     "output_type": "stream",
     "text": [
      "\r",
      " 24%|██▍       | 301/1261 [01:27<04:30,  3.55it/s]"
     ]
    },
    {
     "name": "stdout",
     "output_type": "stream",
     "text": [
      "\n",
      "[640 640 640 ...,  79  79  79]\n",
      "[977 978 979 ..., 947 948 949]\n",
      "[640 640 640 ...,  63  63  63]\n",
      "[335 336 337 ..., 315 316 317]"
     ]
    },
    {
     "name": "stderr",
     "output_type": "stream",
     "text": [
      "\r",
      " 24%|██▍       | 302/1261 [01:27<04:28,  3.57it/s]"
     ]
    },
    {
     "name": "stdout",
     "output_type": "stream",
     "text": [
      "\n",
      "[640 640 640 ...,  79  79  79]\n",
      "[980 981 982 ..., 963 964 965]\n",
      "[640 640 640 ...,  63  63  63]\n",
      "[335 336 337 ..., 315 316 317]"
     ]
    },
    {
     "name": "stderr",
     "output_type": "stream",
     "text": [
      "\r",
      " 24%|██▍       | 303/1261 [01:28<04:23,  3.63it/s]"
     ]
    },
    {
     "name": "stdout",
     "output_type": "stream",
     "text": [
      "\n",
      "[640 640 640 ...,  79  79  79]\n",
      "[993 994 995 ..., 972 973 974]\n",
      "[658 658 658 ...,  79  79  79]\n",
      "[335 336 337 ..., 304 305 306]"
     ]
    },
    {
     "name": "stderr",
     "output_type": "stream",
     "text": [
      "\r",
      " 24%|██▍       | 304/1261 [01:28<04:33,  3.50it/s]"
     ]
    },
    {
     "name": "stdout",
     "output_type": "stream",
     "text": [
      "\n",
      "[640 640 640 ...,  79  79  79]\n",
      "[983 984 985 ..., 972 973 974]\n",
      "[686 686 686 ...,  79  79  79]\n",
      "[333 334 335 ..., 315 316 317]"
     ]
    },
    {
     "name": "stderr",
     "output_type": "stream",
     "text": [
      "\r",
      " 24%|██▍       | 305/1261 [01:28<04:41,  3.40it/s]"
     ]
    },
    {
     "name": "stdout",
     "output_type": "stream",
     "text": [
      "\n",
      "[640 640 640 ...,  79  79  79]\n",
      "[ 999 1000 1001 ...,  982  983  984]\n",
      "[590 590 590 ...,  79  79  79]\n",
      "[335 336 337 ..., 325 326 327]"
     ]
    },
    {
     "name": "stderr",
     "output_type": "stream",
     "text": [
      "\r",
      " 24%|██▍       | 306/1261 [01:29<04:55,  3.23it/s]"
     ]
    },
    {
     "name": "stdout",
     "output_type": "stream",
     "text": [
      "\n",
      "[640 640 640 ...,  79  79  79]\n",
      "[992 993 994 ..., 967 968 969]\n",
      "[620 620 620 ...,  79  79  79]\n",
      "[335 336 337 ..., 320 321 322]"
     ]
    },
    {
     "name": "stderr",
     "output_type": "stream",
     "text": [
      "\r",
      " 24%|██▍       | 307/1261 [01:29<04:51,  3.27it/s]"
     ]
    },
    {
     "name": "stdout",
     "output_type": "stream",
     "text": [
      "\n",
      "[640 640 640 ...,  79  79  79]\n",
      "[993 994 995 ..., 990 991 992]\n",
      "[646 646 646 ..., 159 159 159]\n",
      "[339 340 341 ..., 331 332 333]"
     ]
    },
    {
     "name": "stderr",
     "output_type": "stream",
     "text": [
      "\r",
      " 24%|██▍       | 308/1261 [01:29<04:50,  3.28it/s]"
     ]
    },
    {
     "name": "stdout",
     "output_type": "stream",
     "text": [
      "\n",
      "[640 640 640 ...,  79  79  79]\n",
      "[991 992 993 ..., 976 977 978]\n",
      "[674 674 674 ..., 159 159 159]\n",
      "[340 341 342 ..., 331 332 333]"
     ]
    },
    {
     "name": "stderr",
     "output_type": "stream",
     "text": [
      "\r",
      " 25%|██▍       | 309/1261 [01:29<04:38,  3.42it/s]"
     ]
    },
    {
     "name": "stdout",
     "output_type": "stream",
     "text": [
      "\n",
      "[640 640 640 ...,  79  79  79]\n",
      "[984 985 991 ..., 986 987 988]\n",
      "[701 701 701 ..., 239 239 239]\n",
      "[341 342 343 ..., 336 337 338]"
     ]
    },
    {
     "name": "stderr",
     "output_type": "stream",
     "text": [
      "\r",
      " 25%|██▍       | 310/1261 [01:30<04:32,  3.50it/s]"
     ]
    },
    {
     "name": "stdout",
     "output_type": "stream",
     "text": [
      "\n",
      "[640 640 640 ...,  79  79  79]\n",
      "[979 980 981 ..., 986 987 988]\n",
      "[560 560 560 ..., 239 239 239]\n",
      "[342 343 344 ..., 341 342 343]"
     ]
    },
    {
     "name": "stderr",
     "output_type": "stream",
     "text": [
      "\r",
      " 25%|██▍       | 311/1261 [01:30<04:28,  3.53it/s]"
     ]
    },
    {
     "name": "stdout",
     "output_type": "stream",
     "text": [
      "\n",
      "[640 640 640 ...,  79  79  79]\n",
      "[979 980 981 ..., 945 946 947]\n",
      "[640 640 640 ...,  43  43  43]\n",
      "[342 343 344 ..., 352 353 354]"
     ]
    },
    {
     "name": "stderr",
     "output_type": "stream",
     "text": [
      "\r",
      " 25%|██▍       | 312/1261 [01:30<04:24,  3.59it/s]"
     ]
    },
    {
     "name": "stdout",
     "output_type": "stream",
     "text": [
      "\n",
      "[640 640 640 ...,  79  79  79]\n",
      "[979 980 981 ..., 953 954 955]\n",
      "[640 640 640 ...,  63  63  63]\n",
      "[346 347 348 ..., 367 368 369]"
     ]
    },
    {
     "name": "stderr",
     "output_type": "stream",
     "text": [
      "\r",
      " 25%|██▍       | 313/1261 [01:31<04:19,  3.65it/s]"
     ]
    },
    {
     "name": "stdout",
     "output_type": "stream",
     "text": [
      "\n",
      "[640 640 640 ...,  79  79  79]\n",
      "[976 977 978 ..., 967 968 969]\n",
      "[640 640 640 ...,  79  79  79]\n",
      "[347 348 349 ..., 367 368 369]"
     ]
    },
    {
     "name": "stderr",
     "output_type": "stream",
     "text": [
      "\r",
      " 25%|██▍       | 314/1261 [01:31<04:22,  3.61it/s]"
     ]
    },
    {
     "name": "stdout",
     "output_type": "stream",
     "text": [
      "\n",
      "[640 640 640 ...,  79  79  79]\n",
      "[976 977 978 ..., 972 973 974]\n",
      "[640 640 640 ...,  79  79  79]\n",
      "[350 351 352 ..., 367 368 369]"
     ]
    },
    {
     "name": "stderr",
     "output_type": "stream",
     "text": [
      "\r",
      " 25%|██▍       | 315/1261 [01:31<04:24,  3.57it/s]"
     ]
    },
    {
     "name": "stdout",
     "output_type": "stream",
     "text": [
      "\n",
      "[640 640 640 ...,  79  79  79]\n",
      "[989 990 991 ..., 977 978 979]\n",
      "[660 660 660 ...,  79  79  79]\n",
      "[347 348 349 ..., 367 368 369]"
     ]
    },
    {
     "name": "stderr",
     "output_type": "stream",
     "text": [
      "\r",
      " 25%|██▌       | 316/1261 [01:31<04:26,  3.55it/s]"
     ]
    },
    {
     "name": "stdout",
     "output_type": "stream",
     "text": [
      "\n",
      "[640 640 640 ...,  79  79  79]\n",
      "[981 982 983 ..., 977 978 979]\n",
      "[686 686 686 ...,  79  79  79]\n",
      "[350 351 354 ..., 367 368 369]"
     ]
    },
    {
     "name": "stderr",
     "output_type": "stream",
     "text": [
      "\r",
      " 25%|██▌       | 317/1261 [01:32<04:21,  3.62it/s]"
     ]
    },
    {
     "name": "stdout",
     "output_type": "stream",
     "text": [
      "\n",
      "[640 640 640 ...,  79  79  79]\n",
      "[992 993 994 ..., 993 994 995]\n",
      "[594 594 594 ...,  79  79  79]\n",
      "[352 353 354 ..., 373 374 375]"
     ]
    },
    {
     "name": "stderr",
     "output_type": "stream",
     "text": [
      "\r",
      " 25%|██▌       | 318/1261 [01:32<04:20,  3.62it/s]"
     ]
    },
    {
     "name": "stdout",
     "output_type": "stream",
     "text": [
      "\n",
      "[640 640 640 ...,  79  79  79]\n",
      "[987 988 989 ..., 990 991 992]\n",
      "[623 623 623 ..., 159 159 159]\n",
      "[347 348 349 ..., 373 374 375]"
     ]
    },
    {
     "name": "stderr",
     "output_type": "stream",
     "text": [
      "\r",
      " 25%|██▌       | 319/1261 [01:32<04:26,  3.54it/s]"
     ]
    },
    {
     "name": "stdout",
     "output_type": "stream",
     "text": [
      "\n",
      "[640 640 640 ...,  79  79  79]\n",
      "[991 992 993 ..., 994 995 996]\n",
      "[648 648 648 ..., 159 159 159]\n",
      "[350 351 352 ..., 383 384 385]"
     ]
    },
    {
     "name": "stderr",
     "output_type": "stream",
     "text": [
      "\r",
      " 25%|██▌       | 320/1261 [01:33<04:19,  3.63it/s]"
     ]
    },
    {
     "name": "stdout",
     "output_type": "stream",
     "text": [
      "\n",
      "[640 640 640 ...,  79  79  79]\n",
      "[987 988 989 ..., 994 995 996]\n",
      "[675 675 675 ..., 239 239 239]\n",
      "[350 351 352 ..., 378 379 380]"
     ]
    },
    {
     "name": "stderr",
     "output_type": "stream",
     "text": [
      "\r",
      " 25%|██▌       | 321/1261 [01:33<04:14,  3.69it/s]"
     ]
    },
    {
     "name": "stdout",
     "output_type": "stream",
     "text": [
      "\n",
      "[640 640 640 ...,  79  79  79]\n",
      "[ 983  984  985 ..., 1002 1003 1004]\n",
      "[702 702 702 ..., 239 239 239]\n",
      "[350 351 352 ..., 378 379 380]"
     ]
    },
    {
     "name": "stderr",
     "output_type": "stream",
     "text": [
      "\r",
      " 26%|██▌       | 322/1261 [01:33<04:16,  3.66it/s]"
     ]
    },
    {
     "name": "stdout",
     "output_type": "stream",
     "text": [
      "\n",
      "[640 640 640 ...,  79  79  79]\n",
      "[977 978 979 ..., 977 978 979]\n",
      "[560 560 560 ...,  22  22  22]\n",
      "[351 352 353 ..., 388 389 390]"
     ]
    },
    {
     "name": "stderr",
     "output_type": "stream",
     "text": [
      "\r",
      " 26%|██▌       | 323/1261 [01:33<04:16,  3.66it/s]"
     ]
    },
    {
     "name": "stdout",
     "output_type": "stream",
     "text": [
      "\n",
      "[640 640 640 ...,  79  79  79]\n",
      "[975 976 977 ..., 969 970 971]\n",
      "[640 640 640 ...,  63  63  63]\n",
      "[349 350 351 ..., 383 384 385]"
     ]
    },
    {
     "name": "stderr",
     "output_type": "stream",
     "text": [
      "\r",
      " 26%|██▌       | 324/1261 [01:34<04:20,  3.59it/s]"
     ]
    },
    {
     "name": "stdout",
     "output_type": "stream",
     "text": [
      "\n",
      "[640 640 640 ...,  79  79  79]\n",
      "[977 978 979 ..., 985 986 987]\n",
      "[640 640 640 ...,  63  63  63]\n",
      "[350 351 352 ..., 383 384 385]"
     ]
    },
    {
     "name": "stderr",
     "output_type": "stream",
     "text": [
      "\r",
      " 26%|██▌       | 325/1261 [01:34<04:17,  3.63it/s]"
     ]
    },
    {
     "name": "stdout",
     "output_type": "stream",
     "text": [
      "\n",
      "[640 640 640 ...,  79  79  79]\n",
      "[977 978 979 ..., 993 994 995]\n",
      "[640 640 640 ...,  79  79  79]\n",
      "[350 351 352 ..., 378 379 380]"
     ]
    },
    {
     "name": "stderr",
     "output_type": "stream",
     "text": [
      "\r",
      " 26%|██▌       | 326/1261 [01:34<04:18,  3.61it/s]"
     ]
    },
    {
     "name": "stdout",
     "output_type": "stream",
     "text": [
      "\n",
      "[640 640 640 ...,  79  79  79]\n",
      "[ 977  978  979 ..., 1003 1004 1005]\n",
      "[640 640 640 ...,  79  79  79]\n",
      "[346 347 348 ..., 367 368 369]"
     ]
    },
    {
     "name": "stderr",
     "output_type": "stream",
     "text": [
      "\r",
      " 26%|██▌       | 327/1261 [01:34<04:16,  3.64it/s]"
     ]
    },
    {
     "name": "stdout",
     "output_type": "stream",
     "text": [
      "\n",
      "[640 640 640 ...,  79  79  79]\n",
      "[ 984  985  986 ..., 1014 1015 1016]\n",
      "[658 658 658 ...,  79  79  79]\n",
      "[345 346 347 ..., 373 374 375]"
     ]
    },
    {
     "name": "stderr",
     "output_type": "stream",
     "text": [
      "\r",
      " 26%|██▌       | 328/1261 [01:35<04:15,  3.66it/s]"
     ]
    },
    {
     "name": "stdout",
     "output_type": "stream",
     "text": [
      "\n",
      "[640 640 640 ...,  79  79  79]\n",
      "[ 981  982  983 ..., 1014 1015 1016]\n",
      "[685 685 685 ...,  79  79  79]\n",
      "[342 343 344 ..., 362 363 364]"
     ]
    },
    {
     "name": "stderr",
     "output_type": "stream",
     "text": [
      "\r",
      " 26%|██▌       | 329/1261 [01:35<04:15,  3.65it/s]"
     ]
    },
    {
     "name": "stdout",
     "output_type": "stream",
     "text": [
      "\n",
      "[640 640 640 ...,  79  79  79]\n",
      "[ 997  998  999 ..., 1030 1031 1032]\n",
      "[590 590 590 ...,  79  79  79]\n",
      "[345 346 347 ..., 373 374 375]"
     ]
    },
    {
     "name": "stderr",
     "output_type": "stream",
     "text": [
      "\r",
      " 26%|██▌       | 330/1261 [01:35<04:23,  3.53it/s]"
     ]
    },
    {
     "name": "stdout",
     "output_type": "stream",
     "text": [
      "\n",
      "[640 640 640 ...,  79  79  79]\n",
      "[ 994  995  996 ..., 1023 1024 1025]\n",
      "[619 619 619 ..., 159 159 159]\n",
      "[347 348 349 ..., 373 374 375]"
     ]
    },
    {
     "name": "stderr",
     "output_type": "stream",
     "text": [
      "\r",
      " 26%|██▌       | 331/1261 [01:36<04:21,  3.55it/s]"
     ]
    },
    {
     "name": "stdout",
     "output_type": "stream",
     "text": [
      "\n",
      "[640 640 640 ...,  79  79  79]\n",
      "[ 992  993  994 ..., 1018 1019 1020]\n",
      "[646 646 646 ..., 159 159 159]\n",
      "[351 352 353 ..., 388 389 390]"
     ]
    },
    {
     "name": "stderr",
     "output_type": "stream",
     "text": [
      "\r",
      " 26%|██▋       | 332/1261 [01:36<04:17,  3.60it/s]"
     ]
    },
    {
     "name": "stdout",
     "output_type": "stream",
     "text": [
      "\n",
      "[640 640 640 ...,  79  79  79]\n",
      "[ 979  980  989 ..., 1002 1003 1004]\n",
      "[674 674 674 ..., 239 239 239]\n",
      "[347 348 349 ..., 399 400 401]"
     ]
    },
    {
     "name": "stderr",
     "output_type": "stream",
     "text": [
      "\r",
      " 26%|██▋       | 333/1261 [01:36<04:17,  3.61it/s]"
     ]
    },
    {
     "name": "stdout",
     "output_type": "stream",
     "text": [
      "\n",
      "[640 640 640 ...,  79  79  79]\n",
      "[991 998 999 ..., 977 978 979]\n",
      "[701 701 701 ...,  22  22  22]\n",
      "[347 348 349 ..., 394 395 396]"
     ]
    },
    {
     "name": "stderr",
     "output_type": "stream",
     "text": [
      "\r",
      " 26%|██▋       | 334/1261 [01:36<04:18,  3.59it/s]"
     ]
    },
    {
     "name": "stdout",
     "output_type": "stream",
     "text": [
      "\n",
      "[640 640 640 ...,  79  79  79]\n",
      "[981 982 983 ..., 978 979 980]\n",
      "[560 560 560 ...,  43  43  43]\n",
      "[347 348 349 ..., 394 395 396]"
     ]
    },
    {
     "name": "stderr",
     "output_type": "stream",
     "text": [
      "\r",
      " 27%|██▋       | 335/1261 [01:37<04:15,  3.63it/s]"
     ]
    },
    {
     "name": "stdout",
     "output_type": "stream",
     "text": [
      "\n",
      "[640 640 640 ...,  79  79  79]\n",
      "[979 980 981 ..., 980 981 982]\n",
      "[640 640 640 ...,  63  63  63]\n",
      "[346 347 348 ..., 388 389 390]"
     ]
    },
    {
     "name": "stderr",
     "output_type": "stream",
     "text": [
      "\r",
      " 27%|██▋       | 336/1261 [01:37<04:15,  3.61it/s]"
     ]
    },
    {
     "name": "stdout",
     "output_type": "stream",
     "text": [
      "\n",
      "[640 640 640 ...,  79  79  79]\n",
      "[ 984  985  986 ..., 1006 1007 1008]\n",
      "[640 640 640 ...,  43  43  43]\n",
      "[346 347 348 ..., 388 389 390]"
     ]
    },
    {
     "name": "stderr",
     "output_type": "stream",
     "text": [
      "\r",
      " 27%|██▋       | 337/1261 [01:37<04:20,  3.55it/s]"
     ]
    },
    {
     "name": "stdout",
     "output_type": "stream",
     "text": [
      "\n",
      "[640 640 640 ...,  79  79  79]\n",
      "[ 985  986  987 ...,  998  999 1000]\n",
      "[640 640 640 ...,  79  79  79]\n",
      "[350 351 352 ..., 388 389 390]"
     ]
    },
    {
     "name": "stderr",
     "output_type": "stream",
     "text": [
      "\r",
      " 27%|██▋       | 338/1261 [01:38<04:19,  3.56it/s]"
     ]
    },
    {
     "name": "stdout",
     "output_type": "stream",
     "text": [
      "\n",
      "[640 640 640 ...,  79  79  79]\n",
      "[ 985  986  987 ..., 1014 1015 1016]\n",
      "[640 640 640 ...,  79  79  79]\n",
      "[346 347 348 ..., 383 384 385]"
     ]
    },
    {
     "name": "stderr",
     "output_type": "stream",
     "text": [
      "\r",
      " 27%|██▋       | 339/1261 [01:38<04:21,  3.52it/s]"
     ]
    },
    {
     "name": "stdout",
     "output_type": "stream",
     "text": [
      "\n",
      "[640 640 640 ...,  79  79  79]\n",
      "[ 990  991  992 ..., 1024 1025 1026]\n",
      "[655 655 655 ...,  79  79  79]\n",
      "[346 347 348 ..., 394 395 396]"
     ]
    },
    {
     "name": "stderr",
     "output_type": "stream",
     "text": [
      "\r",
      " 27%|██▋       | 340/1261 [01:38<04:26,  3.45it/s]"
     ]
    },
    {
     "name": "stdout",
     "output_type": "stream",
     "text": [
      "\n",
      "[640 640 640 ...,  79  79  79]\n",
      "[ 986  987  988 ..., 1014 1015 1016]\n",
      "[682 682 682 ...,  79  79  79]\n",
      "[347 348 349 ..., 394 395 396]"
     ]
    },
    {
     "name": "stderr",
     "output_type": "stream",
     "text": [
      "\r",
      " 27%|██▋       | 341/1261 [01:38<04:23,  3.49it/s]"
     ]
    },
    {
     "name": "stdout",
     "output_type": "stream",
     "text": [
      "\n",
      "[640 640 640 ...,  79  79  79]\n",
      "[ 990  991  992 ..., 1019 1020 1021]\n",
      "[708 708 708 ...,  79  79  79]\n",
      "[351 352 353 ..., 404 405 406]"
     ]
    },
    {
     "name": "stderr",
     "output_type": "stream",
     "text": [
      "\r",
      " 27%|██▋       | 342/1261 [01:39<04:42,  3.25it/s]"
     ]
    },
    {
     "name": "stdout",
     "output_type": "stream",
     "text": [
      "\n",
      "[640 640 640 ...,  79  79  79]\n",
      "[ 992  993  994 ..., 1009 1010 1011]\n",
      "[624 624 624 ..., 159 159 159]\n",
      "[350 351 352 ..., 404 405 406]"
     ]
    },
    {
     "name": "stderr",
     "output_type": "stream",
     "text": [
      "\r",
      " 27%|██▋       | 343/1261 [01:39<04:44,  3.23it/s]"
     ]
    },
    {
     "name": "stdout",
     "output_type": "stream",
     "text": [
      "\n",
      "[640 640 640 ...,  79  79  79]\n",
      "[ 994  995  996 ..., 1013 1014 1015]\n",
      "[649 649 649 ..., 159 159 159]\n",
      "[349 350 351 ..., 394 395 396]"
     ]
    },
    {
     "name": "stderr",
     "output_type": "stream",
     "text": [
      "\r",
      " 27%|██▋       | 344/1261 [01:39<04:40,  3.27it/s]"
     ]
    },
    {
     "name": "stdout",
     "output_type": "stream",
     "text": [
      "\n",
      "[640 640 640 ...,  79  79  79]\n",
      "[ 994  995  996 ..., 1018 1019 1020]\n",
      "[675 675 675 ..., 159 159 159]\n",
      "[349 350 351 ..., 388 389 390]"
     ]
    },
    {
     "name": "stderr",
     "output_type": "stream",
     "text": [
      "\r",
      " 27%|██▋       | 345/1261 [01:40<04:34,  3.34it/s]"
     ]
    },
    {
     "name": "stdout",
     "output_type": "stream",
     "text": [
      "\n",
      "[640 640 640 ...,  79  79  79]\n",
      "[ 983  984  985 ..., 1019 1020 1021]\n",
      "[701 701 701 ..., 239 239 239]\n",
      "[349 350 351 ..., 383 384 385]"
     ]
    },
    {
     "name": "stderr",
     "output_type": "stream",
     "text": [
      "\r",
      " 27%|██▋       | 346/1261 [01:40<04:33,  3.35it/s]"
     ]
    },
    {
     "name": "stdout",
     "output_type": "stream",
     "text": [
      "\n",
      "[640 640 640 ...,  79  79  79]\n",
      "[ 988  989  990 ..., 1027 1028 1029]\n",
      "[560 560 560 ..., 239 239 239]\n",
      "[350 351 352 ..., 383 384 385]"
     ]
    },
    {
     "name": "stderr",
     "output_type": "stream",
     "text": [
      "\r",
      " 28%|██▊       | 347/1261 [01:40<04:35,  3.32it/s]"
     ]
    },
    {
     "name": "stdout",
     "output_type": "stream",
     "text": [
      "\n",
      "[640 640 640 ...,  79  79  79]\n",
      "[ 980  981  982 ..., 1005 1006 1007]\n",
      "[640 640 640 ...,  22  22  22]\n",
      "[350 351 352 ..., 383 384 385]"
     ]
    },
    {
     "name": "stderr",
     "output_type": "stream",
     "text": [
      "\r",
      " 28%|██▊       | 348/1261 [01:41<04:29,  3.38it/s]"
     ]
    },
    {
     "name": "stdout",
     "output_type": "stream",
     "text": [
      "\n",
      "[640 640 640 ...,  79  79  79]\n",
      "[ 984  985  986 ..., 1022 1023 1024]\n",
      "[640 640 640 ...,  22  22  22]\n",
      "[350 351 352 ..., 383 384 385]"
     ]
    },
    {
     "name": "stderr",
     "output_type": "stream",
     "text": [
      "\r",
      " 28%|██▊       | 349/1261 [01:41<04:26,  3.43it/s]"
     ]
    },
    {
     "name": "stdout",
     "output_type": "stream",
     "text": [
      "\n",
      "[640 640 640 ...,  79  79  79]\n",
      "[ 982  983  984 ..., 1012 1013 1014]\n",
      "[640 640 640 ...,  63  63  63]\n",
      "[349 350 351 ..., 378 379 380]"
     ]
    },
    {
     "name": "stderr",
     "output_type": "stream",
     "text": [
      "\r",
      " 28%|██▊       | 350/1261 [01:41<04:29,  3.39it/s]"
     ]
    },
    {
     "name": "stdout",
     "output_type": "stream",
     "text": [
      "\n",
      "[640 640 640 ...,  79  79  79]\n",
      "[ 985  986  987 ..., 1019 1020 1021]\n",
      "[640 640 640 ...,  79  79  79]\n",
      "[349 350 351 ..., 378 379 380]"
     ]
    },
    {
     "name": "stderr",
     "output_type": "stream",
     "text": [
      "\r",
      " 28%|██▊       | 351/1261 [01:41<04:31,  3.35it/s]"
     ]
    },
    {
     "name": "stdout",
     "output_type": "stream",
     "text": [
      "\n",
      "[640 640 640 ...,  79  79  79]\n",
      "[ 999 1000  989 ..., 1035 1036 1037]\n",
      "[651 651 652 ...,  79  79  79]\n",
      "[349 350 351 ..., 383 384 385]"
     ]
    },
    {
     "name": "stderr",
     "output_type": "stream",
     "text": [
      "\r",
      " 28%|██▊       | 352/1261 [01:42<04:28,  3.39it/s]"
     ]
    },
    {
     "name": "stdout",
     "output_type": "stream",
     "text": [
      "\n",
      "[640 640 640 ...,  79  79  79]\n",
      "[ 988  989  990 ..., 1035 1036 1037]\n",
      "[678 678 678 ...,  79  79  79]\n",
      "[346 347 348 ..., 378 379 380]"
     ]
    },
    {
     "name": "stderr",
     "output_type": "stream",
     "text": [
      "\r",
      " 28%|██▊       | 353/1261 [01:42<04:25,  3.41it/s]"
     ]
    },
    {
     "name": "stdout",
     "output_type": "stream",
     "text": [
      "\n",
      "[640 640 640 ...,  79  79  79]\n",
      "[ 988  989  990 ..., 1045 1046 1047]\n",
      "[704 704 704 ...,  79  79  79]\n",
      "[346 347 348 ..., 373 374 375]"
     ]
    },
    {
     "name": "stderr",
     "output_type": "stream",
     "text": [
      "\r",
      " 28%|██▊       | 354/1261 [01:42<04:26,  3.41it/s]"
     ]
    },
    {
     "name": "stdout",
     "output_type": "stream",
     "text": [
      "\n",
      "[640 640 640 ...,  79  79  79]\n",
      "[1001 1002 1003 ..., 1040 1041 1042]\n",
      "[617 617 617 ...,  79  79  79]\n",
      "[345 346 347 ..., 362 363 364]"
     ]
    },
    {
     "name": "stderr",
     "output_type": "stream",
     "text": [
      "\r",
      " 28%|██▊       | 355/1261 [01:43<04:28,  3.38it/s]"
     ]
    },
    {
     "name": "stdout",
     "output_type": "stream",
     "text": [
      "\n",
      "[640 640 640 ...,  79  79  79]\n",
      "[ 999 1000 1001 ..., 1041 1042 1043]\n",
      "[644 644 644 ..., 159 159 159]\n",
      "[345 346 347 ..., 367 368 369]"
     ]
    },
    {
     "name": "stderr",
     "output_type": "stream",
     "text": [
      "\r",
      " 28%|██▊       | 356/1261 [01:43<04:27,  3.38it/s]"
     ]
    },
    {
     "name": "stdout",
     "output_type": "stream",
     "text": [
      "\n",
      "[640 640 640 ...,  79  79  79]\n",
      "[ 988  989  988 ..., 1041 1042 1043]\n",
      "[670 670 671 ..., 159 159 159]\n",
      "[347 348 349 ..., 378 379 380]"
     ]
    },
    {
     "name": "stderr",
     "output_type": "stream",
     "text": [
      "\r",
      " 28%|██▊       | 357/1261 [01:43<04:27,  3.38it/s]"
     ]
    },
    {
     "name": "stdout",
     "output_type": "stream",
     "text": [
      "\n",
      "[640 640 640 ...,  79  79  79]\n",
      "[ 984  985  986 ..., 1032 1033 1034]\n",
      "[697 697 697 ..., 159 159 159]\n",
      "[347 348 349 ..., 378 379 380]"
     ]
    },
    {
     "name": "stderr",
     "output_type": "stream",
     "text": [
      "\r",
      " 28%|██▊       | 358/1261 [01:43<04:25,  3.41it/s]"
     ]
    },
    {
     "name": "stdout",
     "output_type": "stream",
     "text": [
      "\n",
      "[640 640 640 ...,  79  79  79]\n",
      "[ 988  989  990 ..., 1031 1032 1033]\n",
      "[560 560 560 ..., 239 239 239]\n",
      "[350 351 352 ..., 373 374 375]"
     ]
    },
    {
     "name": "stderr",
     "output_type": "stream",
     "text": [
      "\r",
      " 28%|██▊       | 359/1261 [01:44<04:20,  3.46it/s]"
     ]
    },
    {
     "name": "stdout",
     "output_type": "stream",
     "text": [
      "\n",
      "[640 640 640 ...,  79  79  79]\n",
      "[ 981  982  983 ..., 1011 1012 1013]\n",
      "[640 640 640 ...,  22  22  22]\n",
      "[350 351 352 ..., 378 379 380]"
     ]
    },
    {
     "name": "stderr",
     "output_type": "stream",
     "text": [
      "\r",
      " 29%|██▊       | 360/1261 [01:44<04:27,  3.36it/s]"
     ]
    },
    {
     "name": "stdout",
     "output_type": "stream",
     "text": [
      "\n",
      "[640 640 640 ...,  79  79  79]\n",
      "[ 982  983  984 ..., 1017 1018 1019]\n",
      "[640 640 640 ...,  43  43  43]\n",
      "[351 352 353 ..., 394 395 396]"
     ]
    },
    {
     "name": "stderr",
     "output_type": "stream",
     "text": [
      "\r",
      " 29%|██▊       | 361/1261 [01:44<04:29,  3.34it/s]"
     ]
    },
    {
     "name": "stdout",
     "output_type": "stream",
     "text": [
      "\n",
      "[640 640 640 ...,  79  79  79]\n",
      "[ 982  983  984 ..., 1017 1018 1019]\n",
      "[640 640 640 ...,  63  63  63]\n",
      "[352 353 354 ..., 399 400 401]"
     ]
    },
    {
     "name": "stderr",
     "output_type": "stream",
     "text": [
      "\r",
      " 29%|██▊       | 362/1261 [01:45<04:28,  3.34it/s]"
     ]
    },
    {
     "name": "stdout",
     "output_type": "stream",
     "text": [
      "\n",
      "[640 640 640 ...,  79  79  79]\n",
      "[ 981  982  983 ..., 1024 1025 1026]\n",
      "[640 640 640 ...,  79  79  79]\n",
      "[352 353 354 ..., 399 400 401]"
     ]
    },
    {
     "name": "stderr",
     "output_type": "stream",
     "text": [
      "\r",
      " 29%|██▉       | 363/1261 [01:45<04:24,  3.39it/s]"
     ]
    },
    {
     "name": "stdout",
     "output_type": "stream",
     "text": [
      "\n",
      "[640 640 640 ...,  79  79  79]\n",
      "[ 985  986  987 ..., 1030 1031 1032]\n",
      "[657 657 657 ...,  79  79  79]\n",
      "[355 356 357 ..., 404 405 406]"
     ]
    },
    {
     "name": "stderr",
     "output_type": "stream",
     "text": [
      "\r",
      " 29%|██▉       | 364/1261 [01:45<04:17,  3.48it/s]"
     ]
    },
    {
     "name": "stdout",
     "output_type": "stream",
     "text": [
      "\n",
      "[640 640 640 ...,  79  79  79]\n",
      "[ 982  983  984 ..., 1014 1015 1016]\n",
      "[684 684 684 ...,  79  79  79]\n",
      "[356 357 358 ..., 388 389 390]"
     ]
    },
    {
     "name": "stderr",
     "output_type": "stream",
     "text": [
      "\r",
      " 29%|██▉       | 365/1261 [01:45<04:13,  3.54it/s]"
     ]
    },
    {
     "name": "stdout",
     "output_type": "stream",
     "text": [
      "\n",
      "[640 640 640 ...,  79  79  79]\n",
      "[ 998  999 1000 ..., 1023 1024 1025]\n",
      "[592 592 592 ..., 159 159 159]\n",
      "[357 358 359 ..., 404 405 406]"
     ]
    },
    {
     "name": "stderr",
     "output_type": "stream",
     "text": [
      "\r",
      " 29%|██▉       | 366/1261 [01:46<04:09,  3.59it/s]"
     ]
    },
    {
     "name": "stdout",
     "output_type": "stream",
     "text": [
      "\n",
      "[640 640 640 ...,  79  79  79]\n",
      "[ 998  999 1000 ..., 1023 1024 1025]\n",
      "[619 619 619 ..., 159 159 159]\n",
      "[356 357 358 ..., 404 405 406]"
     ]
    },
    {
     "name": "stderr",
     "output_type": "stream",
     "text": [
      "\r",
      " 29%|██▉       | 367/1261 [01:46<04:09,  3.58it/s]"
     ]
    },
    {
     "name": "stdout",
     "output_type": "stream",
     "text": [
      "\n",
      "[640 640 640 ...,  79  79  79]\n",
      "[ 999 1000 1001 ..., 1027 1028 1029]\n",
      "[645 645 645 ..., 159 159 159]\n",
      "[355 356 357 ..., 388 389 390]"
     ]
    },
    {
     "name": "stderr",
     "output_type": "stream",
     "text": [
      "\r",
      " 29%|██▉       | 368/1261 [01:46<04:12,  3.54it/s]"
     ]
    },
    {
     "name": "stdout",
     "output_type": "stream",
     "text": [
      "\n",
      "[640 640 640 ...,  79  79  79]\n",
      "[1001 1002 1003 ..., 1032 1033 1034]\n",
      "[671 671 671 ..., 159 159 159]\n",
      "[355 356 357 ..., 415 416 417]"
     ]
    },
    {
     "name": "stderr",
     "output_type": "stream",
     "text": [
      "\r",
      " 29%|██▉       | 369/1261 [01:47<04:11,  3.55it/s]"
     ]
    },
    {
     "name": "stdout",
     "output_type": "stream",
     "text": [
      "\n",
      "[640 640 640 ...,  79  79  79]\n",
      "[ 978  979  993 ..., 1023 1024 1025]\n",
      "[698 698 699 ..., 239 239 239]\n",
      "[354 355 356 ..., 415 416 417]"
     ]
    },
    {
     "name": "stderr",
     "output_type": "stream",
     "text": [
      "\r",
      " 29%|██▉       | 370/1261 [01:47<04:18,  3.45it/s]"
     ]
    },
    {
     "name": "stdout",
     "output_type": "stream",
     "text": [
      "\n",
      "[640 640 640 ...,  79  79  79]\n",
      "[ 986  987  988 ..., 1027 1028 1029]\n",
      "[560 560 560 ..., 239 239 239]\n",
      "[352 353 354 ..., 399 400 401]"
     ]
    },
    {
     "name": "stderr",
     "output_type": "stream",
     "text": [
      "\r",
      " 29%|██▉       | 371/1261 [01:47<04:25,  3.36it/s]"
     ]
    },
    {
     "name": "stdout",
     "output_type": "stream",
     "text": [
      "\n",
      "[640 640 640 ...,  79  79  79]\n",
      "[ 982  983  984 ..., 1011 1012 1013]\n",
      "[640 640 640 ...,  43  43  43]\n",
      "[349 350 351 ..., 410 411 412]"
     ]
    },
    {
     "name": "stderr",
     "output_type": "stream",
     "text": [
      "\r",
      " 30%|██▉       | 372/1261 [01:48<04:17,  3.45it/s]"
     ]
    },
    {
     "name": "stdout",
     "output_type": "stream",
     "text": [
      "\n",
      "[640 640 640 ...,  79  79  79]\n",
      "[ 984  985  986 ..., 1012 1013 1014]\n",
      "[640 640 640 ...,  63  63  63]\n",
      "[347 348 349 ..., 394 395 396]"
     ]
    },
    {
     "name": "stderr",
     "output_type": "stream",
     "text": [
      "\r",
      " 30%|██▉       | 373/1261 [01:48<04:11,  3.53it/s]"
     ]
    },
    {
     "name": "stdout",
     "output_type": "stream",
     "text": [
      "\n",
      "[640 640 640 ...,  79  79  79]\n",
      "[ 984  985  986 ..., 1023 1024 1025]\n",
      "[640 640 640 ...,  63  63  63]\n",
      "[346 347 348 ..., 399 400 401]"
     ]
    },
    {
     "name": "stderr",
     "output_type": "stream",
     "text": [
      "\r",
      " 30%|██▉       | 374/1261 [01:48<04:27,  3.32it/s]"
     ]
    },
    {
     "name": "stdout",
     "output_type": "stream",
     "text": [
      "\n",
      "[640 640 640 ...,  79  79  79]\n",
      "[ 980  981  982 ..., 1030 1031 1032]\n",
      "[640 640 640 ...,  79  79  79]\n",
      "[344 345 346 ..., 394 395 396]"
     ]
    },
    {
     "name": "stderr",
     "output_type": "stream",
     "text": [
      "\r",
      " 30%|██▉       | 375/1261 [01:48<04:23,  3.36it/s]"
     ]
    },
    {
     "name": "stdout",
     "output_type": "stream",
     "text": [
      "\n",
      "[640 640 640 ...,  79  79  79]\n",
      "[ 989  990  991 ..., 1030 1031 1032]\n",
      "[657 657 657 ...,  79  79  79]\n",
      "[345 346 347 ..., 399 400 401]"
     ]
    },
    {
     "name": "stderr",
     "output_type": "stream",
     "text": [
      "\r",
      " 30%|██▉       | 376/1261 [01:49<04:43,  3.13it/s]"
     ]
    },
    {
     "name": "stdout",
     "output_type": "stream",
     "text": [
      "\n",
      "[640 640 640 ...,  79  79  79]\n",
      "[ 985  986  987 ..., 1014 1015 1016]\n",
      "[684 684 684 ...,  79  79  79]\n",
      "[347 348 349 ..., 404 405 406]"
     ]
    },
    {
     "name": "stderr",
     "output_type": "stream",
     "text": [
      "\r",
      " 30%|██▉       | 377/1261 [01:49<05:05,  2.90it/s]"
     ]
    },
    {
     "name": "stdout",
     "output_type": "stream",
     "text": [
      "\n",
      "[640 640 640 ...,  79  79  79]\n",
      "[ 992  993  994 ..., 1013 1014 1015]\n",
      "[597 597 597 ..., 159 159 159]\n",
      "[346 347 348 ..., 410 411 412]"
     ]
    },
    {
     "name": "stderr",
     "output_type": "stream",
     "text": [
      "\r",
      " 30%|██▉       | 378/1261 [01:50<05:01,  2.93it/s]"
     ]
    },
    {
     "name": "stdout",
     "output_type": "stream",
     "text": [
      "\n",
      "[640 640 640 ...,  79  79  79]\n",
      "[ 991  992  993 ..., 1013 1014 1015]\n",
      "[623 623 623 ..., 159 159 159]\n",
      "[344 345 346 ..., 404 405 406]"
     ]
    },
    {
     "name": "stderr",
     "output_type": "stream",
     "text": [
      "\r",
      " 30%|███       | 379/1261 [01:50<04:53,  3.00it/s]"
     ]
    },
    {
     "name": "stdout",
     "output_type": "stream",
     "text": [
      "\n",
      "[640 640 640 ...,  79  79  79]\n",
      "[ 993  994  995 ..., 1023 1024 1025]\n",
      "[648 648 648 ..., 159 159 159]\n",
      "[342 343 344 ..., 399 400 401]"
     ]
    },
    {
     "name": "stderr",
     "output_type": "stream",
     "text": [
      "\r",
      " 30%|███       | 380/1261 [01:50<04:49,  3.04it/s]"
     ]
    },
    {
     "name": "stdout",
     "output_type": "stream",
     "text": [
      "\n",
      "[640 640 640 ...,  79  79  79]\n",
      "[ 984  985  981 ..., 1027 1028 1029]\n",
      "[671 671 672 ..., 159 159 159]\n",
      "[342 343 344 ..., 399 400 401]"
     ]
    },
    {
     "name": "stderr",
     "output_type": "stream",
     "text": [
      "\r",
      " 30%|███       | 381/1261 [01:51<05:00,  2.93it/s]"
     ]
    },
    {
     "name": "stdout",
     "output_type": "stream",
     "text": [
      "\n",
      "[640 640 640 ...,  79  79  79]\n",
      "[ 984  981  982 ..., 1027 1028 1029]\n",
      "[697 698 698 ..., 239 239 239]\n",
      "[342 343 344 ..., 394 395 396]"
     ]
    },
    {
     "name": "stderr",
     "output_type": "stream",
     "text": [
      "\r",
      " 30%|███       | 382/1261 [01:51<04:56,  2.97it/s]"
     ]
    },
    {
     "name": "stdout",
     "output_type": "stream",
     "text": [
      "\n",
      "[640 640 640 ...,  79  79  79]\n",
      "[ 984  985  986 ..., 1027 1028 1029]\n",
      "[560 560 560 ..., 239 239 239]\n",
      "[344 345 346 ..., 404 405 406]"
     ]
    },
    {
     "name": "stderr",
     "output_type": "stream",
     "text": [
      "\r",
      " 30%|███       | 383/1261 [01:51<05:10,  2.83it/s]"
     ]
    },
    {
     "name": "stdout",
     "output_type": "stream",
     "text": [
      "\n",
      "[640 640 640 ...,  79  79  79]\n",
      "[ 979  980  981 ..., 1016 1017 1018]\n",
      "[640 640 640 ...,  22  22  22]\n",
      "[344 345 346 ..., 394 395 396]"
     ]
    },
    {
     "name": "stderr",
     "output_type": "stream",
     "text": [
      "\r",
      " 30%|███       | 384/1261 [01:52<05:09,  2.83it/s]"
     ]
    },
    {
     "name": "stdout",
     "output_type": "stream",
     "text": [
      "\n",
      "[640 640 640 ...,  79  79  79]\n",
      "[ 980  981  982 ..., 1017 1018 1019]\n",
      "[640 640 640 ...,  43  43  43]\n",
      "[345 346 347 ..., 404 405 406]"
     ]
    },
    {
     "name": "stderr",
     "output_type": "stream",
     "text": [
      "\r",
      " 31%|███       | 385/1261 [01:52<05:09,  2.83it/s]"
     ]
    },
    {
     "name": "stdout",
     "output_type": "stream",
     "text": [
      "\n",
      "[640 640 640 ...,  79  79  79]\n",
      "[ 980  981  982 ..., 1017 1018 1019]\n",
      "[640 640 640 ...,  63  63  63]\n",
      "[344 345 346 ..., 399 400 401]"
     ]
    },
    {
     "name": "stderr",
     "output_type": "stream",
     "text": [
      "\r",
      " 31%|███       | 386/1261 [01:52<05:17,  2.75it/s]"
     ]
    },
    {
     "name": "stdout",
     "output_type": "stream",
     "text": [
      "\n",
      "[640 640 640 ...,  79  79  79]\n",
      "[ 981  982  983 ..., 1024 1025 1026]\n",
      "[640 640 640 ...,  79  79  79]\n",
      "[345 346 347 ..., 394 395 396]"
     ]
    },
    {
     "name": "stderr",
     "output_type": "stream",
     "text": [
      "\r",
      " 31%|███       | 387/1261 [01:53<05:39,  2.58it/s]"
     ]
    },
    {
     "name": "stdout",
     "output_type": "stream",
     "text": [
      "\n",
      "[640 640 640 ...,  79  79  79]\n",
      "[ 987  988  989 ..., 1035 1036 1037]\n",
      "[651 651 651 ...,  79  79  79]\n",
      "[345 346 347 ..., 383 384 385]"
     ]
    },
    {
     "name": "stderr",
     "output_type": "stream",
     "text": [
      "\r",
      " 31%|███       | 388/1261 [01:53<05:28,  2.65it/s]"
     ]
    },
    {
     "name": "stdout",
     "output_type": "stream",
     "text": [
      "\n",
      "[640 640 640 ...,  79  79  79]\n",
      "[ 986  987  988 ..., 1040 1041 1042]\n",
      "[677 677 677 ...,  79  79  79]\n",
      "[345 346 347 ..., 383 384 385]"
     ]
    },
    {
     "name": "stderr",
     "output_type": "stream",
     "text": [
      "\r",
      " 31%|███       | 389/1261 [01:53<05:10,  2.81it/s]"
     ]
    },
    {
     "name": "stdout",
     "output_type": "stream",
     "text": [
      "\n",
      "[640 640 640 ...,  79  79  79]\n",
      "[ 985  986  987 ..., 1040 1041 1042]\n",
      "[703 703 703 ...,  79  79  79]\n",
      "[344 345 346 ..., 373 374 375]"
     ]
    },
    {
     "name": "stderr",
     "output_type": "stream",
     "text": [
      "\r",
      " 31%|███       | 390/1261 [01:54<04:58,  2.92it/s]"
     ]
    },
    {
     "name": "stdout",
     "output_type": "stream",
     "text": [
      "\n",
      "[640 640 640 ...,  79  79  79]\n",
      "[ 995  996  997 ..., 1045 1046 1047]\n",
      "[617 617 617 ...,  79  79  79]\n",
      "[345 346 347 ..., 367 368 369]"
     ]
    },
    {
     "name": "stderr",
     "output_type": "stream",
     "text": [
      "\r",
      " 31%|███       | 391/1261 [01:54<04:51,  2.98it/s]"
     ]
    },
    {
     "name": "stdout",
     "output_type": "stream",
     "text": [
      "\n",
      "[640 640 640 ...,  79  79  79]\n",
      "[ 994  995  996 ..., 1045 1046 1047]\n",
      "[644 644 644 ...,  79  79  79]\n",
      "[342 343 344 ..., 362 363 364]"
     ]
    },
    {
     "name": "stderr",
     "output_type": "stream",
     "text": [
      "\r",
      " 31%|███       | 392/1261 [01:54<04:46,  3.04it/s]"
     ]
    },
    {
     "name": "stdout",
     "output_type": "stream",
     "text": [
      "\n",
      "[640 640 640 ...,  79  79  79]\n",
      "[ 984  985  986 ..., 1041 1042 1043]\n",
      "[671 671 671 ..., 159 159 159]\n",
      "[346 347 348 ..., 362 363 364]"
     ]
    },
    {
     "name": "stderr",
     "output_type": "stream",
     "text": [
      "\r",
      " 31%|███       | 393/1261 [01:55<04:35,  3.15it/s]"
     ]
    },
    {
     "name": "stdout",
     "output_type": "stream",
     "text": [
      "\n",
      "[640 640 640 ...,  79  79  79]\n",
      "[ 981  982  980 ..., 1032 1033 1034]\n",
      "[696 696 698 ..., 159 159 159]\n",
      "[344 345 346 ..., 362 363 364]"
     ]
    },
    {
     "name": "stderr",
     "output_type": "stream",
     "text": [
      "\r",
      " 31%|███       | 394/1261 [01:55<04:30,  3.20it/s]"
     ]
    },
    {
     "name": "stdout",
     "output_type": "stream",
     "text": [
      "\n",
      "[640 640 640 ...,  79  79  79]\n",
      "[ 982  983  984 ..., 1027 1028 1029]\n",
      "[560 560 560 ..., 239 239 239]\n",
      "[344 345 346 ..., 357 358 359]"
     ]
    },
    {
     "name": "stderr",
     "output_type": "stream",
     "text": [
      "\r",
      " 31%|███▏      | 395/1261 [01:55<04:25,  3.26it/s]"
     ]
    },
    {
     "name": "stdout",
     "output_type": "stream",
     "text": [
      "\n",
      "[640 640 640 ...,  79  79  79]\n",
      "[ 975  976  977 ..., 1027 1028 1029]\n",
      "[640 640 640 ..., 239 239 239]\n",
      "[342 343 344 ..., 357 358 359]"
     ]
    },
    {
     "name": "stderr",
     "output_type": "stream",
     "text": [
      "\r",
      " 31%|███▏      | 396/1261 [01:56<04:35,  3.14it/s]"
     ]
    },
    {
     "name": "stdout",
     "output_type": "stream",
     "text": [
      "\n",
      "[640 640 640 ...,  79  79  79]\n",
      "[ 976  977  978 ..., 1023 1024 1025]\n",
      "[640 640 640 ..., 239 239 239]\n",
      "[340 341 342 ..., 352 353 354]"
     ]
    },
    {
     "name": "stderr",
     "output_type": "stream",
     "text": [
      "\r",
      " 31%|███▏      | 397/1261 [01:56<04:37,  3.11it/s]"
     ]
    },
    {
     "name": "stdout",
     "output_type": "stream",
     "text": [
      "\n",
      "[640 640 640 ...,  79  79  79]\n",
      "[ 977  978  979 ..., 1020 1021 1022]\n",
      "[640 640 640 ..., 319 319 319]\n",
      "[339 340 341 ..., 352 353 354]"
     ]
    },
    {
     "name": "stderr",
     "output_type": "stream",
     "text": [
      "\r",
      " 32%|███▏      | 398/1261 [01:56<04:35,  3.13it/s]"
     ]
    },
    {
     "name": "stdout",
     "output_type": "stream",
     "text": [
      "\n",
      "[640 640 640 ...,  79  79  79]\n",
      "[ 977  978  979 ..., 1022 1023 1024]\n",
      "[640 640 640 ...,  43  43  43]\n",
      "[337 338 339 ..., 362 363 364]"
     ]
    },
    {
     "name": "stderr",
     "output_type": "stream",
     "text": [
      "\r",
      " 32%|███▏      | 399/1261 [01:57<04:26,  3.24it/s]"
     ]
    },
    {
     "name": "stdout",
     "output_type": "stream",
     "text": [
      "\n",
      "[640 640 640 ...,  79  79  79]\n",
      "[ 983  984  985 ..., 1023 1024 1025]\n",
      "[650 650 650 ...,  63  63  63]\n",
      "[337 338 339 ..., 341 342 343]"
     ]
    },
    {
     "name": "stderr",
     "output_type": "stream",
     "text": [
      "\r",
      " 32%|███▏      | 400/1261 [01:57<04:21,  3.29it/s]"
     ]
    },
    {
     "name": "stdout",
     "output_type": "stream",
     "text": [
      "\n",
      "[640 640 640 ...,  79  79  79]\n",
      "[ 991  992  993 ..., 1030 1031 1032]\n",
      "[676 676 676 ...,  79  79  79]\n",
      "[336 337 338 ..., 346 347 348]"
     ]
    },
    {
     "name": "stderr",
     "output_type": "stream",
     "text": [
      "\r",
      " 32%|███▏      | 401/1261 [01:57<04:16,  3.35it/s]"
     ]
    },
    {
     "name": "stdout",
     "output_type": "stream",
     "text": [
      "\n",
      "[640 640 640 ...,  79  79  79]\n",
      "[ 981  982  983 ..., 1040 1041 1042]\n",
      "[703 703 703 ...,  79  79  79]\n",
      "[336 337 338 ..., 341 342 343]"
     ]
    },
    {
     "name": "stderr",
     "output_type": "stream",
     "text": [
      "\r",
      " 32%|███▏      | 402/1261 [01:57<04:19,  3.31it/s]"
     ]
    },
    {
     "name": "stdout",
     "output_type": "stream",
     "text": [
      "\n",
      "[640 640 640 ...,  79  79  79]\n",
      "[1004 1005 1006 ..., 1040 1041 1042]\n",
      "[613 613 613 ...,  79  79  79]\n",
      "[336 337 338 ..., 346 347 348]"
     ]
    },
    {
     "name": "stderr",
     "output_type": "stream",
     "text": [
      "\r",
      " 32%|███▏      | 403/1261 [01:58<04:18,  3.32it/s]"
     ]
    },
    {
     "name": "stdout",
     "output_type": "stream",
     "text": [
      "\n",
      "[640 640 640 ...,  79  79  79]\n",
      "[ 997  998  999 ..., 1035 1036 1037]\n",
      "[642 642 642 ...,  79  79  79]\n",
      "[335 336 337 ..., 341 342 343]"
     ]
    },
    {
     "name": "stderr",
     "output_type": "stream",
     "text": [
      "\r",
      " 32%|███▏      | 404/1261 [01:58<04:20,  3.29it/s]"
     ]
    },
    {
     "name": "stdout",
     "output_type": "stream",
     "text": [
      "\n",
      "[640 640 640 ...,  79  79  79]\n",
      "[ 976  977 1000 ..., 1040 1041 1042]\n",
      "[668 668 668 ...,  79  79  79]\n",
      "[336 337 338 ..., 357 358 359]"
     ]
    },
    {
     "name": "stderr",
     "output_type": "stream",
     "text": [
      "\r",
      " 32%|███▏      | 405/1261 [01:58<04:27,  3.20it/s]"
     ]
    },
    {
     "name": "stdout",
     "output_type": "stream",
     "text": [
      "\n",
      "[640 640 640 ...,  79  79  79]\n",
      "[ 974  975  970 ..., 1032 1033 1034]\n",
      "[695 695 696 ..., 159 159 159]\n",
      "[335 336 337 ..., 352 353 354]"
     ]
    },
    {
     "name": "stderr",
     "output_type": "stream",
     "text": [
      "\r",
      " 32%|███▏      | 406/1261 [01:59<04:30,  3.16it/s]"
     ]
    },
    {
     "name": "stdout",
     "output_type": "stream",
     "text": [
      "\n",
      "[640 640 640 ...,  79  79  79]\n",
      "[ 977  978  979 ..., 1032 1033 1034]\n",
      "[560 560 560 ..., 159 159 159]\n",
      "[335 336 337 ..., 346 347 348]"
     ]
    },
    {
     "name": "stderr",
     "output_type": "stream",
     "text": [
      "\r",
      " 32%|███▏      | 407/1261 [01:59<04:28,  3.18it/s]"
     ]
    },
    {
     "name": "stdout",
     "output_type": "stream",
     "text": [
      "\n",
      "[640 640 640 ...,  79  79  79]\n",
      "[ 972  973  974 ..., 1027 1028 1029]\n",
      "[640 640 640 ..., 239 239 239]\n",
      "[333 334 335 ..., 352 353 354]"
     ]
    },
    {
     "name": "stderr",
     "output_type": "stream",
     "text": [
      "\r",
      " 32%|███▏      | 408/1261 [01:59<04:23,  3.24it/s]"
     ]
    },
    {
     "name": "stdout",
     "output_type": "stream",
     "text": [
      "\n",
      "[640 640 640 ...,  79  79  79]\n",
      "[ 971  972  973 ..., 1027 1028 1029]\n",
      "[640 640 640 ..., 239 239 239]\n",
      "[332 333 334 ..., 346 347 348]"
     ]
    },
    {
     "name": "stderr",
     "output_type": "stream",
     "text": [
      "\r",
      " 32%|███▏      | 409/1261 [02:00<04:12,  3.37it/s]"
     ]
    },
    {
     "name": "stdout",
     "output_type": "stream",
     "text": [
      "\n",
      "[640 640 640 ...,  79  79  79]\n",
      "[ 970  971  972 ..., 1027 1028 1029]\n",
      "[640 640 640 ..., 239 239 239]\n",
      "[333 334 335 ..., 352 353 354]"
     ]
    },
    {
     "name": "stderr",
     "output_type": "stream",
     "text": [
      "\r",
      " 33%|███▎      | 410/1261 [02:00<04:20,  3.27it/s]"
     ]
    },
    {
     "name": "stdout",
     "output_type": "stream",
     "text": [
      "\n",
      "[640 640 640 ...,  79  79  79]\n",
      "[ 969  970  971 ..., 1006 1007 1008]\n",
      "[640 640 640 ...,  43  43  43]\n",
      "[333 334 335 ..., 352 353 354]"
     ]
    },
    {
     "name": "stderr",
     "output_type": "stream",
     "text": [
      "\r",
      " 33%|███▎      | 411/1261 [02:00<04:51,  2.91it/s]"
     ]
    },
    {
     "name": "stdout",
     "output_type": "stream",
     "text": [
      "\n",
      "[640 640 640 ...,  79  79  79]\n",
      "[ 969  970  971 ..., 1012 1013 1014]\n",
      "[655 655 655 ...,  63  63  63]\n",
      "[335 336 337 ..., 346 347 348]"
     ]
    },
    {
     "name": "stderr",
     "output_type": "stream",
     "text": [
      "\r",
      " 33%|███▎      | 412/1261 [02:01<05:03,  2.80it/s]"
     ]
    },
    {
     "name": "stdout",
     "output_type": "stream",
     "text": [
      "\n",
      "[640 640 640 ...,  79  79  79]\n",
      "[ 972  973  974 ..., 1019 1020 1021]\n",
      "[681 681 681 ...,  79  79  79]\n",
      "[328 329 330 ..., 346 347 348]"
     ]
    },
    {
     "name": "stderr",
     "output_type": "stream",
     "text": [
      "\r",
      " 33%|███▎      | 413/1261 [02:01<05:23,  2.62it/s]"
     ]
    },
    {
     "name": "stdout",
     "output_type": "stream",
     "text": [
      "\n",
      "[640 640 640 ...,  79  79  79]\n",
      "[ 965  966  967 ..., 1030 1031 1032]\n",
      "[708 708 708 ...,  79  79  79]\n",
      "[328 329 330 ..., 352 353 354]"
     ]
    },
    {
     "name": "stderr",
     "output_type": "stream",
     "text": [
      "\r",
      " 33%|███▎      | 414/1261 [02:02<05:15,  2.68it/s]"
     ]
    },
    {
     "name": "stdout",
     "output_type": "stream",
     "text": [
      "\n",
      "[640 640 640 ...,  79  79  79]\n",
      "[ 983  984  985 ..., 1030 1031 1032]\n",
      "[616 616 616 ...,  79  79  79]\n",
      "[328 329 330 ..., 352 353 354]"
     ]
    },
    {
     "name": "stderr",
     "output_type": "stream",
     "text": [
      "\r",
      " 33%|███▎      | 415/1261 [02:02<05:08,  2.74it/s]"
     ]
    },
    {
     "name": "stdout",
     "output_type": "stream",
     "text": [
      "\n",
      "[640 640 640 ...,  79  79  79]\n",
      "[ 984  985  986 ..., 1019 1020 1021]\n",
      "[644 644 644 ...,  79  79  79]\n",
      "[326 327 328 ..., 346 347 348]"
     ]
    },
    {
     "name": "stderr",
     "output_type": "stream",
     "text": [
      "\r",
      " 33%|███▎      | 416/1261 [02:02<04:56,  2.85it/s]"
     ]
    },
    {
     "name": "stdout",
     "output_type": "stream",
     "text": [
      "\n",
      "[640 640 640 ...,  79  79  79]\n",
      "[ 973  974  975 ..., 1030 1031 1032]\n",
      "[671 671 671 ...,  79  79  79]\n",
      "[326 327 328 ..., 352 353 354]"
     ]
    },
    {
     "name": "stderr",
     "output_type": "stream",
     "text": [
      "\r",
      " 33%|███▎      | 417/1261 [02:02<04:42,  2.99it/s]"
     ]
    },
    {
     "name": "stdout",
     "output_type": "stream",
     "text": [
      "\n",
      "[640 640 640 ...,  79  79  79]\n",
      "[ 972  973  974 ..., 1018 1019 1020]\n",
      "[698 698 698 ..., 159 159 159]\n",
      "[326 327 328 ..., 341 342 343]"
     ]
    },
    {
     "name": "stderr",
     "output_type": "stream",
     "text": [
      "\r",
      " 33%|███▎      | 418/1261 [02:03<04:33,  3.08it/s]"
     ]
    },
    {
     "name": "stdout",
     "output_type": "stream",
     "text": [
      "\n",
      "[640 640 640 ...,  79  79  79]\n",
      "[ 968  969  970 ..., 1018 1019 1020]\n",
      "[560 560 560 ..., 159 159 159]\n",
      "[325 326 327 ..., 341 342 343]"
     ]
    },
    {
     "name": "stderr",
     "output_type": "stream",
     "text": [
      "\r",
      " 33%|███▎      | 419/1261 [02:03<04:25,  3.17it/s]"
     ]
    },
    {
     "name": "stdout",
     "output_type": "stream",
     "text": [
      "\n",
      "[640 640 640 ...,  79  79  79]\n",
      "[ 963  964  965 ..., 1015 1016 1017]\n",
      "[640 640 640 ..., 239 239 239]\n",
      "[326 327 328 ..., 341 342 343]"
     ]
    },
    {
     "name": "stderr",
     "output_type": "stream",
     "text": [
      "\r",
      " 33%|███▎      | 420/1261 [02:03<04:34,  3.06it/s]"
     ]
    },
    {
     "name": "stdout",
     "output_type": "stream",
     "text": [
      "\n",
      "[640 640 640 ...,  79  79  79]\n",
      "[ 962  963  964 ..., 1010 1011 1012]\n",
      "[640 640 640 ..., 239 239 239]\n",
      "[326 327 328 ..., 341 342 343]"
     ]
    },
    {
     "name": "stderr",
     "output_type": "stream",
     "text": [
      "\r",
      " 33%|███▎      | 421/1261 [02:04<04:40,  3.00it/s]"
     ]
    },
    {
     "name": "stdout",
     "output_type": "stream",
     "text": [
      "\n",
      "[640 640 640 ...,  79  79  79]\n",
      "[ 962  963  964 ..., 1006 1007 1008]\n",
      "[640 640 640 ..., 319 319 319]\n",
      "[327 328 329 ..., 352 353 354]"
     ]
    },
    {
     "name": "stderr",
     "output_type": "stream",
     "text": [
      "\r",
      " 33%|███▎      | 422/1261 [02:04<04:37,  3.03it/s]"
     ]
    },
    {
     "name": "stdout",
     "output_type": "stream",
     "text": [
      "\n",
      "[640 640 640 ...,  79  79  79]\n",
      "[961 962 963 ..., 990 991 992]\n",
      "[640 640 640 ...,  63  63  63]\n",
      "[325 326 327 ..., 352 353 354]"
     ]
    },
    {
     "name": "stderr",
     "output_type": "stream",
     "text": [
      "\r",
      " 34%|███▎      | 423/1261 [02:04<04:30,  3.09it/s]"
     ]
    },
    {
     "name": "stdout",
     "output_type": "stream",
     "text": [
      "\n",
      "[640 640 640 ...,  79  79  79]\n",
      "[ 966  967  968 ...,  998  999 1000]\n",
      "[654 654 654 ...,  79  79  79]\n",
      "[323 324 325 ..., 346 347 348]"
     ]
    },
    {
     "name": "stderr",
     "output_type": "stream",
     "text": [
      "\r",
      " 34%|███▎      | 424/1261 [02:05<04:23,  3.18it/s]"
     ]
    },
    {
     "name": "stdout",
     "output_type": "stream",
     "text": [
      "\n",
      "[640 640 640 ...,  79  79  79]\n",
      "[ 965  966  970 ..., 1014 1015 1016]\n",
      "[680 680 680 ...,  79  79  79]\n",
      "[323 324 325 ..., 341 342 343]"
     ]
    },
    {
     "name": "stderr",
     "output_type": "stream",
     "text": [
      "\r",
      " 34%|███▎      | 425/1261 [02:05<04:14,  3.29it/s]"
     ]
    },
    {
     "name": "stdout",
     "output_type": "stream",
     "text": [
      "\n",
      "[640 640 640 ...,  79  79  79]\n",
      "[ 960  961  962 ..., 1014 1015 1016]\n",
      "[708 708 708 ...,  79  79  79]\n",
      "[321 322 323 ..., 336 337 338]"
     ]
    },
    {
     "name": "stderr",
     "output_type": "stream",
     "text": [
      "\r",
      " 34%|███▍      | 426/1261 [02:05<04:10,  3.34it/s]"
     ]
    },
    {
     "name": "stdout",
     "output_type": "stream",
     "text": [
      "\n",
      "[640 640 640 ...,  79  79  79]\n",
      "[ 973  974  975 ..., 1024 1025 1026]\n",
      "[614 614 614 ...,  79  79  79]\n",
      "[322 323 324 ..., 336 337 338]"
     ]
    },
    {
     "name": "stderr",
     "output_type": "stream",
     "text": [
      "\r",
      " 34%|███▍      | 427/1261 [02:06<04:22,  3.18it/s]"
     ]
    },
    {
     "name": "stdout",
     "output_type": "stream",
     "text": [
      "\n",
      "[640 640 640 ...,  79  79  79]\n",
      "[ 982  983  984 ..., 1019 1020 1021]\n",
      "[642 642 642 ...,  79  79  79]\n",
      "[321 322 323 ..., 336 337 338]"
     ]
    },
    {
     "name": "stderr",
     "output_type": "stream",
     "text": [
      "\r",
      " 34%|███▍      | 428/1261 [02:06<04:15,  3.26it/s]"
     ]
    },
    {
     "name": "stdout",
     "output_type": "stream",
     "text": [
      "\n",
      "[640 640 640 ...,  79  79  79]\n",
      "[ 978  979  980 ..., 1013 1014 1015]\n",
      "[670 670 670 ..., 159 159 159]\n",
      "[321 322 323 ..., 341 342 343]"
     ]
    },
    {
     "name": "stderr",
     "output_type": "stream",
     "text": [
      "\r",
      " 34%|███▍      | 429/1261 [02:06<04:13,  3.29it/s]"
     ]
    },
    {
     "name": "stdout",
     "output_type": "stream",
     "text": [
      "\n",
      "[640 640 640 ...,  79  79  79]\n",
      "[ 967  968  969 ..., 1009 1010 1011]\n",
      "[698 698 698 ..., 159 159 159]\n",
      "[321 322 323 ..., 341 342 343]"
     ]
    },
    {
     "name": "stderr",
     "output_type": "stream",
     "text": [
      "\r",
      " 34%|███▍      | 430/1261 [02:06<04:05,  3.38it/s]"
     ]
    },
    {
     "name": "stdout",
     "output_type": "stream",
     "text": [
      "\n",
      "[640 640 640 ...,  79  79  79]\n",
      "[ 957  958  959 ..., 1009 1010 1011]\n",
      "[560 560 560 ..., 159 159 159]\n",
      "[317 318 319 ..., 325 326 327]"
     ]
    },
    {
     "name": "stderr",
     "output_type": "stream",
     "text": [
      "\r",
      " 34%|███▍      | 431/1261 [02:07<04:14,  3.26it/s]"
     ]
    },
    {
     "name": "stdout",
     "output_type": "stream",
     "text": [
      "\n",
      "[640 640 640 ...,  79  79  79]\n",
      "[ 955  956  957 ..., 1010 1011 1012]\n",
      "[640 640 640 ..., 239 239 239]\n",
      "[317 318 319 ..., 325 326 327]"
     ]
    },
    {
     "name": "stderr",
     "output_type": "stream",
     "text": [
      "\r",
      " 34%|███▍      | 432/1261 [02:07<04:27,  3.10it/s]"
     ]
    },
    {
     "name": "stdout",
     "output_type": "stream",
     "text": [
      "\n",
      "[640 640 640 ...,  79  79  79]\n",
      "[ 953  954  955 ..., 1006 1007 1008]\n",
      "[640 640 640 ..., 239 239 239]\n",
      "[315 316 317 ..., 320 321 322]"
     ]
    },
    {
     "name": "stderr",
     "output_type": "stream",
     "text": [
      "\r",
      " 34%|███▍      | 433/1261 [02:07<04:19,  3.19it/s]"
     ]
    },
    {
     "name": "stdout",
     "output_type": "stream",
     "text": [
      "\n",
      "[640 640 640 ...,  79  79  79]\n",
      "[ 956  957  958 ..., 1015 1016 1017]\n",
      "[640 640 640 ..., 239 239 239]\n",
      "[313 314 315 ..., 315 316 317]"
     ]
    },
    {
     "name": "stderr",
     "output_type": "stream",
     "text": [
      "\r",
      " 34%|███▍      | 434/1261 [02:08<04:11,  3.29it/s]"
     ]
    },
    {
     "name": "stdout",
     "output_type": "stream",
     "text": [
      "\n",
      "[640 640 640 ...,  79  79  79]\n",
      "[ 956  957  958 ..., 1011 1012 1013]\n",
      "[640 640 640 ...,  22  22  22]\n",
      "[313 314 315 ..., 304 305 306]"
     ]
    },
    {
     "name": "stderr",
     "output_type": "stream",
     "text": [
      "\r",
      " 34%|███▍      | 435/1261 [02:08<04:14,  3.24it/s]"
     ]
    },
    {
     "name": "stdout",
     "output_type": "stream",
     "text": [
      "\n",
      "[640 640 640 ...,  79  79  79]\n",
      "[ 969  970  971 ..., 1001 1002 1003]\n",
      "[655 655 655 ...,  63  63  63]\n",
      "[313 314 315 ..., 331 332 333]"
     ]
    },
    {
     "name": "stderr",
     "output_type": "stream",
     "text": [
      "\r",
      " 35%|███▍      | 436/1261 [02:08<04:24,  3.12it/s]"
     ]
    },
    {
     "name": "stdout",
     "output_type": "stream",
     "text": [
      "\n",
      "[640 640 640 ...,  79  79  79]\n",
      "[ 968  969  970 ..., 1009 1010 1011]\n",
      "[682 682 682 ...,  79  79  79]\n",
      "[316 317 318 ..., 341 342 343]"
     ]
    },
    {
     "name": "stderr",
     "output_type": "stream",
     "text": [
      "\r",
      " 35%|███▍      | 437/1261 [02:09<04:33,  3.02it/s]"
     ]
    },
    {
     "name": "stdout",
     "output_type": "stream",
     "text": [
      "\n",
      "[640 640 640 ...,  79  79  79]\n",
      "[ 968  969  970 ..., 1009 1010 1011]\n",
      "[590 590 590 ...,  79  79  79]\n",
      "[315 316 317 ..., 336 337 338]"
     ]
    },
    {
     "name": "stderr",
     "output_type": "stream",
     "text": [
      "\r",
      " 35%|███▍      | 438/1261 [02:09<04:34,  2.99it/s]"
     ]
    },
    {
     "name": "stdout",
     "output_type": "stream",
     "text": [
      "\n",
      "[640 640 640 ...,  79  79  79]\n",
      "[ 967  968  969 ..., 1014 1015 1016]\n",
      "[617 617 617 ...,  79  79  79]\n",
      "[316 317 318 ..., 336 337 338]"
     ]
    },
    {
     "name": "stderr",
     "output_type": "stream",
     "text": [
      "\r",
      " 35%|███▍      | 439/1261 [02:09<04:43,  2.90it/s]"
     ]
    },
    {
     "name": "stdout",
     "output_type": "stream",
     "text": [
      "\n",
      "[640 640 640 ...,  79  79  79]\n",
      "[ 967  968  969 ...,  999 1000 1001]\n",
      "[645 645 645 ..., 159 159 159]\n",
      "[317 318 319 ..., 352 353 354]"
     ]
    },
    {
     "name": "stderr",
     "output_type": "stream",
     "text": [
      "\r",
      " 35%|███▍      | 440/1261 [02:10<04:43,  2.89it/s]"
     ]
    },
    {
     "name": "stdout",
     "output_type": "stream",
     "text": [
      "\n",
      "[640 640 640 ...,  79  79  79]\n",
      "[950 951 957 ..., 994 995 996]\n",
      "[674 674 674 ..., 159 159 159]\n",
      "[316 317 318 ..., 352 353 354]"
     ]
    },
    {
     "name": "stderr",
     "output_type": "stream",
     "text": [
      "\r",
      " 35%|███▍      | 441/1261 [02:10<04:49,  2.83it/s]"
     ]
    },
    {
     "name": "stdout",
     "output_type": "stream",
     "text": [
      "\n",
      "[640 640 640 ...,  79  79  79]\n",
      "[ 949  950  951 ...,  999 1000 1001]\n",
      "[699 699 699 ..., 159 159 159]\n",
      "[315 316 317 ..., 346 347 348]"
     ]
    },
    {
     "name": "stderr",
     "output_type": "stream",
     "text": [
      "\r",
      " 35%|███▌      | 442/1261 [02:11<04:47,  2.85it/s]"
     ]
    },
    {
     "name": "stdout",
     "output_type": "stream",
     "text": [
      "\n",
      "[640 640 640 ...,  79  79  79]\n",
      "[955 956 957 ..., 994 995 996]\n",
      "[560 560 560 ..., 239 239 239]\n",
      "[309 310 311 ..., 331 332 333]"
     ]
    },
    {
     "name": "stderr",
     "output_type": "stream",
     "text": [
      "\r",
      " 35%|███▌      | 443/1261 [02:11<04:53,  2.79it/s]"
     ]
    },
    {
     "name": "stdout",
     "output_type": "stream",
     "text": [
      "\n",
      "[640 640 640 ...,  79  79  79]\n",
      "[ 955  956  957 ..., 1006 1007 1008]\n",
      "[640 640 640 ..., 239 239 239]\n",
      "[309 310 311 ..., 331 332 333]"
     ]
    },
    {
     "name": "stderr",
     "output_type": "stream",
     "text": [
      "\r",
      " 35%|███▌      | 444/1261 [02:11<04:51,  2.80it/s]"
     ]
    },
    {
     "name": "stdout",
     "output_type": "stream",
     "text": [
      "\n",
      "[640 640 640 ...,  79  79  79]\n",
      "[ 955  956  957 ..., 1006 1007 1008]\n",
      "[640 640 640 ..., 239 239 239]\n",
      "[307 308 309 ..., 336 337 338]"
     ]
    },
    {
     "name": "stderr",
     "output_type": "stream",
     "text": [
      "\r",
      " 35%|███▌      | 445/1261 [02:12<04:48,  2.83it/s]"
     ]
    },
    {
     "name": "stdout",
     "output_type": "stream",
     "text": [
      "\n",
      "[640 640 640 ...,  79  79  79]\n",
      "[955 956 957 ..., 994 995 996]\n",
      "[640 640 640 ...,  22  22  22]\n",
      "[307 308 309 ..., 331 332 333]"
     ]
    },
    {
     "name": "stderr",
     "output_type": "stream",
     "text": [
      "\r",
      " 35%|███▌      | 446/1261 [02:12<04:40,  2.91it/s]"
     ]
    },
    {
     "name": "stdout",
     "output_type": "stream",
     "text": [
      "\n",
      "[640 640 640 ...,  79  79  79]\n",
      "[ 953  954  955 ..., 1000 1001 1002]\n",
      "[640 640 640 ...,  43  43  43]\n",
      "[308 309 310 ..., 352 353 354]"
     ]
    },
    {
     "name": "stderr",
     "output_type": "stream",
     "text": [
      "\r",
      " 35%|███▌      | 447/1261 [02:12<04:35,  2.95it/s]"
     ]
    },
    {
     "name": "stdout",
     "output_type": "stream",
     "text": [
      "\n",
      "[640 640 640 ...,  79  79  79]\n",
      "[965 966 967 ..., 993 994 995]\n",
      "[659 659 659 ...,  79  79  79]\n",
      "[307 308 309 ..., 352 353 354]"
     ]
    },
    {
     "name": "stderr",
     "output_type": "stream",
     "text": [
      "\r",
      " 36%|███▌      | 448/1261 [02:13<04:39,  2.91it/s]"
     ]
    },
    {
     "name": "stdout",
     "output_type": "stream",
     "text": [
      "\n",
      "[640 640 640 ...,  79  79  79]\n",
      "[ 963  964  965 ..., 1003 1004 1005]\n",
      "[686 686 686 ...,  79  79  79]\n",
      "[307 308 309 ..., 352 353 354]"
     ]
    },
    {
     "name": "stderr",
     "output_type": "stream",
     "text": [
      "\r",
      " 36%|███▌      | 449/1261 [02:13<04:35,  2.95it/s]"
     ]
    },
    {
     "name": "stdout",
     "output_type": "stream",
     "text": [
      "\n",
      "[640 640 640 ...,  79  79  79]\n",
      "[ 965  966  967 ...,  998  999 1000]\n",
      "[594 594 594 ...,  79  79  79]\n",
      "[306 307 308 ..., 352 353 354]"
     ]
    },
    {
     "name": "stderr",
     "output_type": "stream",
     "text": [
      "\r",
      " 36%|███▌      | 450/1261 [02:13<04:39,  2.90it/s]"
     ]
    },
    {
     "name": "stdout",
     "output_type": "stream",
     "text": [
      "\n",
      "[640 640 640 ...,  79  79  79]\n",
      "[ 964  965  966 ...,  998  999 1000]\n",
      "[621 621 621 ...,  79  79  79]\n",
      "[307 308 309 ..., 357 358 359]"
     ]
    },
    {
     "name": "stderr",
     "output_type": "stream",
     "text": [
      "\r",
      " 36%|███▌      | 451/1261 [02:14<04:59,  2.70it/s]"
     ]
    },
    {
     "name": "stdout",
     "output_type": "stream",
     "text": [
      "\n",
      "[640 640 640 ...,  79  79  79]\n",
      "[ 954  955  952 ...,  999 1000 1001]\n",
      "[648 648 649 ..., 159 159 159]\n",
      "[303 304 305 ..., 357 358 359]"
     ]
    },
    {
     "name": "stderr",
     "output_type": "stream",
     "text": [
      "\r",
      " 36%|███▌      | 452/1261 [02:14<05:09,  2.61it/s]"
     ]
    },
    {
     "name": "stdout",
     "output_type": "stream",
     "text": [
      "\n",
      "[640 640 640 ...,  79  79  79]\n",
      "[ 951  952  959 ...,  999 1000 1001]\n",
      "[676 676 676 ..., 159 159 159]\n",
      "[302 303 304 ..., 352 353 354]"
     ]
    },
    {
     "name": "stderr",
     "output_type": "stream",
     "text": [
      "\r",
      " 36%|███▌      | 453/1261 [02:15<05:05,  2.64it/s]"
     ]
    },
    {
     "name": "stdout",
     "output_type": "stream",
     "text": [
      "\n",
      "[640 640 640 ...,  79  79  79]\n",
      "[ 949  950  951 ..., 1004 1005 1006]\n",
      "[702 702 702 ..., 159 159 159]\n",
      "[306 307 308 ..., 362 363 364]"
     ]
    },
    {
     "name": "stderr",
     "output_type": "stream",
     "text": [
      "\r",
      " 36%|███▌      | 454/1261 [02:15<05:04,  2.65it/s]"
     ]
    },
    {
     "name": "stdout",
     "output_type": "stream",
     "text": [
      "\n",
      "[640 640 640 ...,  79  79  79]\n",
      "[957 958 959 ..., 994 995 996]\n",
      "[560 560 560 ..., 239 239 239]\n",
      "[307 308 309 ..., 362 363 364]"
     ]
    },
    {
     "name": "stderr",
     "output_type": "stream",
     "text": [
      "\r",
      " 36%|███▌      | 455/1261 [02:15<05:20,  2.52it/s]"
     ]
    },
    {
     "name": "stdout",
     "output_type": "stream",
     "text": [
      "\n",
      "[640 640 640 ...,  79  79  79]\n",
      "[ 952  953  954 ...,  998  999 1000]\n",
      "[640 640 640 ..., 239 239 239]\n",
      "[307 308 309 ..., 357 358 359]"
     ]
    },
    {
     "name": "stderr",
     "output_type": "stream",
     "text": [
      "\r",
      " 36%|███▌      | 456/1261 [02:16<05:31,  2.43it/s]"
     ]
    },
    {
     "name": "stdout",
     "output_type": "stream",
     "text": [
      "\n",
      "[640 640 640 ...,  79  79  79]\n",
      "[953 954 955 ..., 994 995 996]\n",
      "[640 640 640 ...,  22  22  22]\n",
      "[309 310 311 ..., 352 353 354]"
     ]
    },
    {
     "name": "stderr",
     "output_type": "stream",
     "text": [
      "\r",
      " 36%|███▌      | 457/1261 [02:16<05:27,  2.45it/s]"
     ]
    },
    {
     "name": "stdout",
     "output_type": "stream",
     "text": [
      "\n",
      "[640 640 640 ...,  79  79  79]\n",
      "[953 954 955 ..., 985 986 987]\n",
      "[640 640 640 ...,  63  63  63]\n",
      "[309 310 311 ..., 367 368 369]"
     ]
    },
    {
     "name": "stderr",
     "output_type": "stream",
     "text": [
      "\r",
      " 36%|███▋      | 458/1261 [02:17<05:26,  2.46it/s]"
     ]
    },
    {
     "name": "stdout",
     "output_type": "stream",
     "text": [
      "\n",
      "[640 640 640 ...,  79  79  79]\n",
      "[953 954 955 ..., 993 994 995]\n",
      "[640 640 640 ...,  79  79  79]\n",
      "[315 316 317 ..., 378 379 380]"
     ]
    },
    {
     "name": "stderr",
     "output_type": "stream",
     "text": [
      "\r",
      " 36%|███▋      | 459/1261 [02:17<05:30,  2.43it/s]"
     ]
    },
    {
     "name": "stdout",
     "output_type": "stream",
     "text": [
      "\n",
      "[640 640 640 ...,  79  79  79]\n",
      "[ 957  958  959 ...,  998  999 1000]\n",
      "[661 661 661 ...,  79  79  79]\n",
      "[313 314 315 ..., 367 368 369]"
     ]
    },
    {
     "name": "stderr",
     "output_type": "stream",
     "text": [
      "\r",
      " 36%|███▋      | 460/1261 [02:17<05:28,  2.44it/s]"
     ]
    },
    {
     "name": "stdout",
     "output_type": "stream",
     "text": [
      "\n",
      "[640 640 640 ...,  79  79  79]\n",
      "[ 955  956  957 ..., 1003 1004 1005]\n",
      "[688 688 688 ...,  79  79  79]\n",
      "[313 314 315 ..., 367 368 369]"
     ]
    },
    {
     "name": "stderr",
     "output_type": "stream",
     "text": [
      "\r",
      " 37%|███▋      | 461/1261 [02:18<05:39,  2.36it/s]"
     ]
    },
    {
     "name": "stdout",
     "output_type": "stream",
     "text": [
      "\n",
      "[640 640 640 ...,  79  79  79]\n",
      "[ 968  969  970 ..., 1003 1004 1005]\n",
      "[595 595 595 ...,  79  79  79]\n",
      "[311 312 313 ..., 357 358 359]"
     ]
    },
    {
     "name": "stderr",
     "output_type": "stream",
     "text": [
      "\r",
      " 37%|███▋      | 462/1261 [02:18<05:39,  2.35it/s]"
     ]
    },
    {
     "name": "stdout",
     "output_type": "stream",
     "text": [
      "\n",
      "[640 640 640 ...,  79  79  79]\n",
      "[ 965  966  967 ..., 1014 1015 1016]\n",
      "[623 623 623 ...,  79  79  79]\n",
      "[309 310 311 ..., 357 358 359]"
     ]
    },
    {
     "name": "stderr",
     "output_type": "stream",
     "text": [
      "\r",
      " 37%|███▋      | 463/1261 [02:19<05:25,  2.45it/s]"
     ]
    },
    {
     "name": "stdout",
     "output_type": "stream",
     "text": [
      "\n",
      "[640 640 640 ...,  79  79  79]\n",
      "[ 966  967  968 ..., 1024 1025 1026]\n",
      "[649 649 649 ...,  79  79  79]\n",
      "[313 314 315 ..., 362 363 364]"
     ]
    },
    {
     "name": "stderr",
     "output_type": "stream",
     "text": [
      "\r",
      " 37%|███▋      | 464/1261 [02:19<05:19,  2.50it/s]"
     ]
    },
    {
     "name": "stdout",
     "output_type": "stream",
     "text": [
      "\n",
      "[640 640 640 ...,  79  79  79]\n",
      "[ 975  976  977 ..., 1009 1010 1011]\n",
      "[677 677 677 ..., 159 159 159]\n",
      "[313 314 315 ..., 362 363 364]"
     ]
    },
    {
     "name": "stderr",
     "output_type": "stream",
     "text": [
      "\r",
      " 37%|███▋      | 465/1261 [02:19<05:29,  2.42it/s]"
     ]
    },
    {
     "name": "stdout",
     "output_type": "stream",
     "text": [
      "\n",
      "[640 640 640 ...,  79  79  79]\n",
      "[ 954  955  960 ..., 1013 1014 1015]\n",
      "[703 703 705 ..., 159 159 159]\n",
      "[315 316 317 ..., 367 368 369]"
     ]
    },
    {
     "name": "stderr",
     "output_type": "stream",
     "text": [
      "\r",
      " 37%|███▋      | 466/1261 [02:20<05:27,  2.43it/s]"
     ]
    },
    {
     "name": "stdout",
     "output_type": "stream",
     "text": [
      "\n",
      "[640 640 640 ...,  79  79  79]\n",
      "[ 957  958  959 ...,  998  999 1000]\n",
      "[560 560 560 ..., 239 239 239]\n",
      "[313 314 315 ..., 362 363 364]"
     ]
    },
    {
     "name": "stderr",
     "output_type": "stream",
     "text": [
      "\r",
      " 37%|███▋      | 467/1261 [02:20<05:21,  2.47it/s]"
     ]
    },
    {
     "name": "stdout",
     "output_type": "stream",
     "text": [
      "\n",
      "[640 640 640 ...,  79  79  79]\n",
      "[ 953  954  955 ..., 1002 1003 1004]\n",
      "[640 640 640 ..., 239 239 239]\n",
      "[315 316 317 ..., 346 347 348]"
     ]
    },
    {
     "name": "stderr",
     "output_type": "stream",
     "text": [
      "\r",
      " 37%|███▋      | 468/1261 [02:21<05:16,  2.51it/s]"
     ]
    },
    {
     "name": "stdout",
     "output_type": "stream",
     "text": [
      "\n",
      "[640 640 640 ...,  79  79  79]\n",
      "[ 953  954  955 ..., 1005 1006 1007]\n",
      "[640 640 640 ...,  22  22  22]\n",
      "[316 317 318 ..., 362 363 364]"
     ]
    },
    {
     "name": "stderr",
     "output_type": "stream",
     "text": [
      "\r",
      " 37%|███▋      | 469/1261 [02:21<05:10,  2.55it/s]"
     ]
    },
    {
     "name": "stdout",
     "output_type": "stream",
     "text": [
      "\n",
      "[640 640 640 ...,  79  79  79]\n",
      "[ 953  954  955 ..., 1006 1007 1008]\n",
      "[640 640 640 ...,  43  43  43]\n",
      "[315 316 317 ..., 346 347 348]"
     ]
    },
    {
     "name": "stderr",
     "output_type": "stream",
     "text": [
      "\r",
      " 37%|███▋      | 470/1261 [02:21<05:03,  2.60it/s]"
     ]
    },
    {
     "name": "stdout",
     "output_type": "stream",
     "text": [
      "\n",
      "[640 640 640 ...,  79  79  79]\n",
      "[ 955  956  957 ..., 1022 1023 1024]\n",
      "[640 640 640 ...,  43  43  43]\n",
      "[318 319 320 ..., 352 353 354]"
     ]
    },
    {
     "name": "stderr",
     "output_type": "stream",
     "text": [
      "\r",
      " 37%|███▋      | 471/1261 [02:22<04:45,  2.76it/s]"
     ]
    },
    {
     "name": "stdout",
     "output_type": "stream",
     "text": [
      "\n",
      "[640 640 640 ...,  79  79  79]\n",
      "[ 958  959  960 ..., 1014 1015 1016]\n",
      "[663 663 663 ...,  79  79  79]\n",
      "[318 319 320 ..., 357 358 359]"
     ]
    },
    {
     "name": "stderr",
     "output_type": "stream",
     "text": [
      "\r",
      " 37%|███▋      | 472/1261 [02:22<04:34,  2.88it/s]"
     ]
    },
    {
     "name": "stdout",
     "output_type": "stream",
     "text": [
      "\n",
      "[640 640 640 ...,  79  79  79]\n",
      "[ 955  956  957 ..., 1024 1025 1026]\n",
      "[690 690 690 ...,  79  79  79]\n",
      "[317 318 319 ..., 352 353 354]"
     ]
    },
    {
     "name": "stderr",
     "output_type": "stream",
     "text": [
      "\r",
      " 38%|███▊      | 473/1261 [02:22<04:26,  2.96it/s]"
     ]
    },
    {
     "name": "stdout",
     "output_type": "stream",
     "text": [
      "\n",
      "[640 640 640 ...,  79  79  79]\n",
      "[ 968  969  970 ..., 1024 1025 1026]\n",
      "[599 599 599 ...,  79  79  79]\n",
      "[318 319 320 ..., 357 358 359]"
     ]
    },
    {
     "name": "stderr",
     "output_type": "stream",
     "text": [
      "\r",
      " 38%|███▊      | 474/1261 [02:23<04:14,  3.09it/s]"
     ]
    },
    {
     "name": "stdout",
     "output_type": "stream",
     "text": [
      "\n",
      "[640 640 640 ...,  79  79  79]\n",
      "[ 962  963  964 ..., 1024 1025 1026]\n",
      "[628 628 628 ...,  79  79  79]\n",
      "[317 318 319 ..., 346 347 348]"
     ]
    },
    {
     "name": "stderr",
     "output_type": "stream",
     "text": [
      "\r",
      " 38%|███▊      | 475/1261 [02:23<04:03,  3.23it/s]"
     ]
    },
    {
     "name": "stdout",
     "output_type": "stream",
     "text": [
      "\n",
      "[640 640 640 ...,  79  79  79]\n",
      "[ 963  964  965 ..., 1035 1036 1037]\n",
      "[654 654 654 ...,  79  79  79]\n",
      "[318 319 320 ..., 346 347 348]"
     ]
    },
    {
     "name": "stderr",
     "output_type": "stream",
     "text": [
      "\r",
      " 38%|███▊      | 476/1261 [02:23<03:59,  3.27it/s]"
     ]
    },
    {
     "name": "stdout",
     "output_type": "stream",
     "text": [
      "\n",
      "[640 640 640 ...,  79  79  79]\n",
      "[ 954  955  956 ..., 1027 1028 1029]\n",
      "[680 680 680 ..., 159 159 159]\n",
      "[316 317 318 ..., 341 342 343]"
     ]
    },
    {
     "name": "stderr",
     "output_type": "stream",
     "text": [
      "\r",
      " 38%|███▊      | 477/1261 [02:23<03:52,  3.37it/s]"
     ]
    },
    {
     "name": "stdout",
     "output_type": "stream",
     "text": [
      "\n",
      "[640 640 640 ...,  79  79  79]\n",
      "[ 953  954  955 ..., 1032 1033 1034]\n",
      "[706 706 706 ..., 159 159 159]\n",
      "[317 318 319 ..., 341 342 343]"
     ]
    },
    {
     "name": "stderr",
     "output_type": "stream",
     "text": [
      "\r",
      " 38%|███▊      | 478/1261 [02:24<03:50,  3.40it/s]"
     ]
    },
    {
     "name": "stdout",
     "output_type": "stream",
     "text": [
      "\n",
      "[640 640 640 ...,  79  79  79]\n",
      "[ 962  963  964 ..., 1037 1038 1039]\n",
      "[560 560 560 ..., 159 159 159]\n",
      "[317 318 319 ..., 341 342 343]"
     ]
    },
    {
     "name": "stderr",
     "output_type": "stream",
     "text": [
      "\r",
      " 38%|███▊      | 479/1261 [02:24<03:45,  3.47it/s]"
     ]
    },
    {
     "name": "stdout",
     "output_type": "stream",
     "text": [
      "\n",
      "[640 640 640 ...,  79  79  79]\n",
      "[ 956  957  958 ..., 1031 1032 1033]\n",
      "[640 640 640 ..., 239 239 239]\n",
      "[316 317 318 ..., 336 337 338]"
     ]
    },
    {
     "name": "stderr",
     "output_type": "stream",
     "text": [
      "\r",
      " 38%|███▊      | 480/1261 [02:24<03:48,  3.42it/s]"
     ]
    },
    {
     "name": "stdout",
     "output_type": "stream",
     "text": [
      "\n",
      "[640 640 640 ...,  79  79  79]\n",
      "[ 958  959  960 ..., 1035 1036 1037]\n",
      "[640 640 640 ..., 239 239 239]\n",
      "[317 318 319 ..., 341 342 343]"
     ]
    },
    {
     "name": "stderr",
     "output_type": "stream",
     "text": [
      "\r",
      " 38%|███▊      | 481/1261 [02:25<03:43,  3.49it/s]"
     ]
    },
    {
     "name": "stdout",
     "output_type": "stream",
     "text": [
      "\n",
      "[640 640 640 ...,  79  79  79]\n",
      "[ 958  959  960 ..., 1024 1025 1026]\n",
      "[640 640 640 ..., 319 319 319]\n",
      "[313 314 315 ..., 336 337 338]"
     ]
    },
    {
     "name": "stderr",
     "output_type": "stream",
     "text": [
      "\r",
      " 38%|███▊      | 482/1261 [02:25<03:47,  3.43it/s]"
     ]
    },
    {
     "name": "stdout",
     "output_type": "stream",
     "text": [
      "\n",
      "[640 640 640 ...,  79  79  79]\n",
      "[ 960  961  962 ..., 1027 1028 1029]\n",
      "[640 640 640 ..., 319 319 319]\n",
      "[312 313 314 ..., 336 337 338]"
     ]
    },
    {
     "name": "stderr",
     "output_type": "stream",
     "text": [
      "\r",
      " 38%|███▊      | 483/1261 [02:25<03:45,  3.45it/s]"
     ]
    },
    {
     "name": "stdout",
     "output_type": "stream",
     "text": [
      "\n",
      "[640 640 640 ...,  79  79  79]\n",
      "[ 963  964  965 ..., 1056 1057 1058]\n",
      "[663 663 663 ...,  22  22  22]\n",
      "[313 314 315 ..., 341 342 343]"
     ]
    },
    {
     "name": "stderr",
     "output_type": "stream",
     "text": [
      "\r",
      " 38%|███▊      | 484/1261 [02:25<03:40,  3.53it/s]"
     ]
    },
    {
     "name": "stdout",
     "output_type": "stream",
     "text": [
      "\n",
      "[640 640 640 ...,  79  79  79]\n",
      "[ 968  969  959 ..., 1040 1041 1042]\n",
      "[690 690 691 ...,  79  79  79]\n",
      "[312 313 314 ..., 341 342 343]"
     ]
    },
    {
     "name": "stderr",
     "output_type": "stream",
     "text": [
      "\r",
      " 38%|███▊      | 485/1261 [02:26<03:36,  3.58it/s]"
     ]
    },
    {
     "name": "stdout",
     "output_type": "stream",
     "text": [
      "\n",
      "[640 640 640 ...,  79  79  79]\n",
      "[ 992  993  994 ..., 1056 1057 1058]\n",
      "[594 594 594 ...,  79  79  79]\n",
      "[313 314 315 ..., 336 337 338]"
     ]
    },
    {
     "name": "stderr",
     "output_type": "stream",
     "text": [
      "\r",
      " 39%|███▊      | 486/1261 [02:26<03:34,  3.61it/s]"
     ]
    },
    {
     "name": "stdout",
     "output_type": "stream",
     "text": [
      "\n",
      "[640 640 640 ...,  79  79  79]\n",
      "[ 972  973  974 ..., 1045 1046 1047]\n",
      "[625 625 625 ...,  79  79  79]\n",
      "[315 316 320 ..., 352 353 354]"
     ]
    },
    {
     "name": "stderr",
     "output_type": "stream",
     "text": [
      "\r",
      " 39%|███▊      | 487/1261 [02:26<03:37,  3.56it/s]"
     ]
    },
    {
     "name": "stdout",
     "output_type": "stream",
     "text": [
      "\n",
      "[640 640 640 ...,  79  79  79]\n",
      "[ 972  973  974 ..., 1045 1046 1047]\n",
      "[653 653 653 ...,  79  79  79]\n",
      "[316 317 318 ..., 362 363 364]"
     ]
    },
    {
     "name": "stderr",
     "output_type": "stream",
     "text": [
      "\r",
      " 39%|███▊      | 488/1261 [02:27<03:32,  3.63it/s]"
     ]
    },
    {
     "name": "stdout",
     "output_type": "stream",
     "text": [
      "\n",
      "[640 640 640 ...,  79  79  79]\n",
      "[ 959  960  963 ..., 1032 1033 1034]\n",
      "[682 682 682 ..., 159 159 159]\n",
      "[318 319 320 ..., 362 363 364]"
     ]
    },
    {
     "name": "stderr",
     "output_type": "stream",
     "text": [
      "\r",
      " 39%|███▉      | 489/1261 [02:27<03:29,  3.69it/s]"
     ]
    },
    {
     "name": "stdout",
     "output_type": "stream",
     "text": [
      "\n",
      "[640 640 640 ...,  79  79  79]\n",
      "[ 955  956  957 ..., 1027 1028 1029]\n",
      "[708 708 708 ..., 159 159 159]\n",
      "[315 316 317 ..., 362 363 364]"
     ]
    },
    {
     "name": "stderr",
     "output_type": "stream",
     "text": [
      "\r",
      " 39%|███▉      | 490/1261 [02:27<03:29,  3.67it/s]"
     ]
    },
    {
     "name": "stdout",
     "output_type": "stream",
     "text": [
      "\n",
      "[640 640 640 ...,  79  79  79]\n",
      "[ 968  969  970 ..., 1019 1020 1021]\n",
      "[560 560 560 ..., 239 239 239]\n",
      "[318 319 320 ..., 367 368 369]"
     ]
    },
    {
     "name": "stderr",
     "output_type": "stream",
     "text": [
      "\r",
      " 39%|███▉      | 491/1261 [02:27<03:29,  3.68it/s]"
     ]
    },
    {
     "name": "stdout",
     "output_type": "stream",
     "text": [
      "\n",
      "[640 640 640 ...,  79  79  79]\n",
      "[ 961  962  963 ..., 1019 1020 1021]\n",
      "[640 640 640 ..., 239 239 239]\n",
      "[317 318 319 ..., 357 358 359]"
     ]
    },
    {
     "name": "stderr",
     "output_type": "stream",
     "text": [
      "\r",
      " 39%|███▉      | 492/1261 [02:28<03:27,  3.71it/s]"
     ]
    },
    {
     "name": "stdout",
     "output_type": "stream",
     "text": [
      "\n",
      "[640 640 640 ...,  79  79  79]\n",
      "[ 962  963  964 ..., 1023 1024 1025]\n",
      "[640 640 640 ..., 239 239 239]\n",
      "[317 318 319 ..., 357 358 359]"
     ]
    },
    {
     "name": "stderr",
     "output_type": "stream",
     "text": [
      "\r",
      " 39%|███▉      | 493/1261 [02:28<03:28,  3.69it/s]"
     ]
    },
    {
     "name": "stdout",
     "output_type": "stream",
     "text": [
      "\n",
      "[640 640 640 ...,  79  79  79]\n",
      "[ 962  963  964 ..., 1011 1012 1013]\n",
      "[640 640 640 ...,  43  43  43]\n",
      "[318 319 320 ..., 352 353 354]"
     ]
    },
    {
     "name": "stderr",
     "output_type": "stream",
     "text": [
      "\r",
      " 39%|███▉      | 494/1261 [02:28<03:30,  3.64it/s]"
     ]
    },
    {
     "name": "stdout",
     "output_type": "stream",
     "text": [
      "\n",
      "[640 640 640 ...,  79  79  79]\n",
      "[ 976  977  978 ..., 1028 1029 1030]\n",
      "[640 640 640 ...,  43  43  43]\n",
      "[312 313 317 ..., 346 347 348]"
     ]
    },
    {
     "name": "stderr",
     "output_type": "stream",
     "text": [
      "\r",
      " 39%|███▉      | 495/1261 [02:28<03:29,  3.65it/s]"
     ]
    },
    {
     "name": "stdout",
     "output_type": "stream",
     "text": [
      "\n",
      "[640 640 640 ...,  79  79  79]\n",
      "[ 973  974  975 ..., 1033 1034 1035]\n",
      "[667 667 667 ...,  63  63  63]\n",
      "[317 318 319 ..., 352 353 354]"
     ]
    },
    {
     "name": "stderr",
     "output_type": "stream",
     "text": [
      "\r",
      " 39%|███▉      | 496/1261 [02:29<03:27,  3.69it/s]"
     ]
    },
    {
     "name": "stdout",
     "output_type": "stream",
     "text": [
      "\n",
      "[640 640 640 ...,  79  79  79]\n",
      "[ 966  967  968 ..., 1040 1041 1042]\n",
      "[695 695 695 ...,  79  79  79]\n",
      "[316 317 318 ..., 352 353 354]"
     ]
    },
    {
     "name": "stderr",
     "output_type": "stream",
     "text": [
      "\r",
      " 39%|███▉      | 497/1261 [02:29<03:27,  3.68it/s]"
     ]
    },
    {
     "name": "stdout",
     "output_type": "stream",
     "text": [
      "\n",
      "[640 640 640 ...,  79  79  79]\n",
      "[ 974  975  976 ..., 1040 1041 1042]\n",
      "[602 602 602 ...,  79  79  79]\n",
      "[316 317 318 ..., 352 353 354]"
     ]
    },
    {
     "name": "stderr",
     "output_type": "stream",
     "text": [
      "\r",
      " 39%|███▉      | 498/1261 [02:29<03:35,  3.54it/s]"
     ]
    },
    {
     "name": "stdout",
     "output_type": "stream",
     "text": [
      "\n",
      "[640 640 640 ...,  79  79  79]\n",
      "[ 973  974  975 ..., 1035 1036 1037]\n",
      "[630 630 630 ...,  79  79  79]\n",
      "[320 321 322 ..., 341 342 343]"
     ]
    },
    {
     "name": "stderr",
     "output_type": "stream",
     "text": [
      "\r",
      " 40%|███▉      | 499/1261 [02:30<03:31,  3.60it/s]"
     ]
    },
    {
     "name": "stdout",
     "output_type": "stream",
     "text": [
      "\n",
      "[640 640 640 ...,  79  79  79]\n",
      "[ 965  966  972 ..., 1040 1041 1042]\n",
      "[657 657 657 ...,  79  79  79]\n",
      "[312 313 314 ..., 341 342 343]"
     ]
    },
    {
     "name": "stderr",
     "output_type": "stream",
     "text": [
      "\r",
      " 40%|███▉      | 500/1261 [02:30<03:32,  3.57it/s]"
     ]
    },
    {
     "name": "stdout",
     "output_type": "stream",
     "text": [
      "\n",
      "[640 640 640 ...,  79  79  79]\n",
      "[ 968  969  970 ..., 1045 1046 1047]\n",
      "[684 684 684 ...,  79  79  79]\n",
      "[315 316 317 ..., 336 337 338]"
     ]
    },
    {
     "name": "stderr",
     "output_type": "stream",
     "text": [
      "\r",
      " 40%|███▉      | 501/1261 [02:30<03:33,  3.56it/s]"
     ]
    },
    {
     "name": "stdout",
     "output_type": "stream",
     "text": [
      "\n",
      "[640 640 640 ...,  79  79  79]\n",
      "[ 977  978  979 ..., 1046 1047 1048]\n",
      "[560 560 560 ..., 159 159 159]\n",
      "[311 312 313 ..., 331 332 333]"
     ]
    },
    {
     "name": "stderr",
     "output_type": "stream",
     "text": [
      "\r",
      " 40%|███▉      | 502/1261 [02:30<03:31,  3.59it/s]"
     ]
    },
    {
     "name": "stdout",
     "output_type": "stream",
     "text": [
      "\n",
      "[640 640 640 ...,  79  79  79]\n",
      "[ 982  983  984 ..., 1055 1056 1057]\n",
      "[560 560 560 ..., 159 159 159]\n",
      "[313 314 315 ..., 336 337 338]"
     ]
    },
    {
     "name": "stderr",
     "output_type": "stream",
     "text": [
      "\r",
      " 40%|███▉      | 503/1261 [02:31<03:28,  3.64it/s]"
     ]
    },
    {
     "name": "stdout",
     "output_type": "stream",
     "text": [
      "\n",
      "[640 640 640 ...,  79  79  79]\n",
      "[ 971  972  973 ..., 1051 1052 1053]\n",
      "[640 640 640 ..., 159 159 159]\n",
      "[312 313 314 ..., 331 332 333]"
     ]
    },
    {
     "name": "stderr",
     "output_type": "stream",
     "text": [
      "\r",
      " 40%|███▉      | 504/1261 [02:31<03:25,  3.68it/s]"
     ]
    },
    {
     "name": "stdout",
     "output_type": "stream",
     "text": [
      "\n",
      "[640 640 640 ...,  79  79  79]\n",
      "[ 972  973  974 ..., 1039 1040 1041]\n",
      "[640 640 640 ..., 239 239 239]\n",
      "[313 314 315 ..., 336 337 338]"
     ]
    },
    {
     "name": "stderr",
     "output_type": "stream",
     "text": [
      "\r",
      " 40%|████      | 505/1261 [02:31<03:27,  3.64it/s]"
     ]
    },
    {
     "name": "stdout",
     "output_type": "stream",
     "text": [
      "\n",
      "[640 640 640 ...,  79  79  79]\n",
      "[ 971  972  973 ..., 1039 1040 1041]\n",
      "[640 640 640 ..., 239 239 239]\n",
      "[317 318 319 ..., 331 332 333]"
     ]
    },
    {
     "name": "stderr",
     "output_type": "stream",
     "text": [
      "\r",
      " 40%|████      | 506/1261 [02:32<03:28,  3.62it/s]"
     ]
    },
    {
     "name": "stdout",
     "output_type": "stream",
     "text": [
      "\n",
      "[640 640 640 ...,  79  79  79]\n",
      "[ 972  973  974 ..., 1027 1028 1029]\n",
      "[640 640 640 ..., 319 319 319]\n",
      "[311 312 313 ..., 325 326 327]"
     ]
    },
    {
     "name": "stderr",
     "output_type": "stream",
     "text": [
      "\r",
      " 40%|████      | 507/1261 [02:32<03:26,  3.66it/s]"
     ]
    },
    {
     "name": "stdout",
     "output_type": "stream",
     "text": [
      "\n",
      "[640 640 640 ...,  79  79  79]\n",
      "[ 987  988  976 ..., 1045 1046 1047]\n",
      "[663 663 664 ...,  22  22  22]\n",
      "[312 313 314 ..., 352 353 354]"
     ]
    },
    {
     "name": "stderr",
     "output_type": "stream",
     "text": [
      "\r",
      " 40%|████      | 508/1261 [02:32<03:25,  3.66it/s]"
     ]
    },
    {
     "name": "stdout",
     "output_type": "stream",
     "text": [
      "\n",
      "[640 640 640 ...,  79  79  79]\n",
      "[ 972  973  974 ..., 1039 1040 1041]\n",
      "[692 692 692 ...,  63  63  63]\n",
      "[309 310 311 ..., 331 332 333]"
     ]
    },
    {
     "name": "stderr",
     "output_type": "stream",
     "text": [
      "\r",
      " 40%|████      | 509/1261 [02:32<03:29,  3.58it/s]"
     ]
    },
    {
     "name": "stdout",
     "output_type": "stream",
     "text": [
      "\n",
      "[640 640 640 ...,  79  79  79]\n",
      "[ 995  996  997 ..., 1045 1046 1047]\n",
      "[595 595 595 ...,  79  79  79]\n",
      "[309 310 311 ..., 325 326 327]"
     ]
    },
    {
     "name": "stderr",
     "output_type": "stream",
     "text": [
      "\r",
      " 40%|████      | 510/1261 [02:33<03:27,  3.61it/s]"
     ]
    },
    {
     "name": "stdout",
     "output_type": "stream",
     "text": [
      "\n",
      "[640 640 640 ...,  79  79  79]\n",
      "[ 987  988  989 ..., 1051 1052 1053]\n",
      "[625 625 625 ...,  79  79  79]\n",
      "[312 313 314 ..., 325 326 327]"
     ]
    },
    {
     "name": "stderr",
     "output_type": "stream",
     "text": [
      "\r",
      " 41%|████      | 511/1261 [02:33<03:26,  3.63it/s]"
     ]
    },
    {
     "name": "stdout",
     "output_type": "stream",
     "text": [
      "\n",
      "[640 640 640 ...,  79  79  79]\n",
      "[ 971  972  969 ..., 1051 1052 1053]\n",
      "[653 653 654 ...,  79  79  79]\n",
      "[312 313 314 ..., 331 332 333]"
     ]
    },
    {
     "name": "stderr",
     "output_type": "stream",
     "text": [
      "\r",
      " 41%|████      | 512/1261 [02:33<03:23,  3.68it/s]"
     ]
    },
    {
     "name": "stdout",
     "output_type": "stream",
     "text": [
      "\n",
      "[640 640 640 ...,  79  79  79]\n",
      "[ 968  969  966 ..., 1045 1046 1047]\n",
      "[680 680 681 ...,  79  79  79]\n",
      "[313 314 315 ..., 341 342 343]"
     ]
    },
    {
     "name": "stderr",
     "output_type": "stream",
     "text": [
      "\r",
      " 41%|████      | 513/1261 [02:33<03:21,  3.70it/s]"
     ]
    },
    {
     "name": "stdout",
     "output_type": "stream",
     "text": [
      "\n",
      "[640 640 640 ...,  79  79  79]\n",
      "[ 962  963  964 ..., 1027 1028 1029]\n",
      "[709 709 709 ..., 159 159 159]\n",
      "[313 314 315 ..., 331 332 333]"
     ]
    },
    {
     "name": "stderr",
     "output_type": "stream",
     "text": [
      "\r",
      " 41%|████      | 514/1261 [02:34<03:24,  3.64it/s]"
     ]
    },
    {
     "name": "stdout",
     "output_type": "stream",
     "text": [
      "\n",
      "[640 640 640 ...,  79  79  79]\n",
      "[ 970  971  972 ..., 1027 1028 1029]\n",
      "[560 560 560 ..., 159 159 159]\n",
      "[313 314 315 ..., 294 295 296]"
     ]
    },
    {
     "name": "stderr",
     "output_type": "stream",
     "text": [
      "\r",
      " 41%|████      | 515/1261 [02:34<03:27,  3.59it/s]"
     ]
    },
    {
     "name": "stdout",
     "output_type": "stream",
     "text": [
      "\n",
      "[640 640 640 ...,  79  79  79]\n",
      "[ 962  963  964 ..., 1023 1024 1025]\n",
      "[640 640 640 ..., 239 239 239]\n",
      "[311 312 313 ..., 294 295 296]"
     ]
    },
    {
     "name": "stderr",
     "output_type": "stream",
     "text": [
      "\r",
      " 41%|████      | 516/1261 [02:34<03:25,  3.62it/s]"
     ]
    },
    {
     "name": "stdout",
     "output_type": "stream",
     "text": [
      "\n",
      "[640 640 640 ...,  79  79  79]\n",
      "[ 963  964  965 ..., 1027 1028 1029]\n",
      "[640 640 640 ..., 239 239 239]\n",
      "[312 313 314 ..., 289 290 291]"
     ]
    },
    {
     "name": "stderr",
     "output_type": "stream",
     "text": [
      "\r",
      " 41%|████      | 517/1261 [02:35<03:22,  3.67it/s]"
     ]
    },
    {
     "name": "stdout",
     "output_type": "stream",
     "text": [
      "\n",
      "[640 640 640 ...,  79  79  79]\n",
      "[ 965  966  967 ..., 1027 1028 1029]\n",
      "[640 640 640 ..., 239 239 239]\n",
      "[311 312 313 ..., 325 326 327]"
     ]
    },
    {
     "name": "stderr",
     "output_type": "stream",
     "text": [
      "\r",
      " 41%|████      | 518/1261 [02:35<03:22,  3.66it/s]"
     ]
    },
    {
     "name": "stdout",
     "output_type": "stream",
     "text": [
      "\n",
      "[640 640 640 ...,  79  79  79]\n",
      "[ 963  964  965 ..., 1020 1021 1022]\n",
      "[640 640 640 ..., 319 319 319]\n",
      "[313 314 315 ..., 331 332 333]"
     ]
    },
    {
     "name": "stderr",
     "output_type": "stream",
     "text": [
      "\r",
      " 41%|████      | 519/1261 [02:35<03:21,  3.69it/s]"
     ]
    },
    {
     "name": "stdout",
     "output_type": "stream",
     "text": [
      "\n",
      "[640 640 640 ...,  79  79  79]\n",
      "[ 969  970  971 ..., 1033 1034 1035]\n",
      "[662 662 662 ...,  22  22  22]\n",
      "[315 316 317 ..., 325 326 327]"
     ]
    },
    {
     "name": "stderr",
     "output_type": "stream",
     "text": [
      "\r",
      " 41%|████      | 520/1261 [02:35<03:29,  3.54it/s]"
     ]
    },
    {
     "name": "stdout",
     "output_type": "stream",
     "text": [
      "\n",
      "[640 640 640 ...,  79  79  79]\n",
      "[ 964  965  966 ..., 1019 1020 1021]\n",
      "[690 690 690 ...,  79  79  79]\n",
      "[315 316 317 ..., 325 326 327]"
     ]
    },
    {
     "name": "stderr",
     "output_type": "stream",
     "text": [
      "\r",
      " 41%|████▏     | 521/1261 [02:36<03:23,  3.63it/s]"
     ]
    },
    {
     "name": "stdout",
     "output_type": "stream",
     "text": [
      "\n",
      "[640 640 640 ...,  79  79  79]\n",
      "[ 984  985  986 ..., 1040 1041 1042]\n",
      "[594 594 594 ...,  79  79  79]\n",
      "[313 314 315 ..., 336 337 338]"
     ]
    },
    {
     "name": "stderr",
     "output_type": "stream",
     "text": [
      "\r",
      " 41%|████▏     | 522/1261 [02:36<03:23,  3.64it/s]"
     ]
    },
    {
     "name": "stdout",
     "output_type": "stream",
     "text": [
      "\n",
      "[640 640 640 ...,  79  79  79]\n",
      "[ 973  974  975 ..., 1045 1046 1047]\n",
      "[623 623 623 ...,  79  79  79]\n",
      "[313 314 315 ..., 341 342 343]"
     ]
    },
    {
     "name": "stderr",
     "output_type": "stream",
     "text": [
      "\r",
      " 41%|████▏     | 523/1261 [02:36<03:20,  3.68it/s]"
     ]
    },
    {
     "name": "stdout",
     "output_type": "stream",
     "text": [
      "\n",
      "[640 640 640 ...,  79  79  79]\n",
      "[ 969  970  971 ..., 1045 1046 1047]\n",
      "[651 651 651 ...,  79  79  79]\n",
      "[315 316 317 ..., 341 342 343]"
     ]
    },
    {
     "name": "stderr",
     "output_type": "stream",
     "text": [
      "\r",
      " 42%|████▏     | 524/1261 [02:36<03:17,  3.72it/s]"
     ]
    },
    {
     "name": "stdout",
     "output_type": "stream",
     "text": [
      "\n",
      "[640 640 640 ...,  79  79  79]\n",
      "[ 964  965  971 ..., 1040 1041 1042]\n",
      "[680 680 680 ...,  79  79  79]\n",
      "[318 319 320 ..., 304 305 306]"
     ]
    },
    {
     "name": "stderr",
     "output_type": "stream",
     "text": [
      "\r",
      " 42%|████▏     | 525/1261 [02:37<03:16,  3.75it/s]"
     ]
    },
    {
     "name": "stdout",
     "output_type": "stream",
     "text": [
      "\n",
      "[640 640 640 ...,  79  79  79]\n",
      "[ 961  962  960 ..., 1032 1033 1034]\n",
      "[706 706 707 ..., 159 159 159]\n",
      "[313 314 315 ..., 304 305 306]"
     ]
    },
    {
     "name": "stderr",
     "output_type": "stream",
     "text": [
      "\r",
      " 42%|████▏     | 526/1261 [02:37<03:21,  3.65it/s]"
     ]
    },
    {
     "name": "stdout",
     "output_type": "stream",
     "text": [
      "\n",
      "[640 640 640 ...,  79  79  79]\n",
      "[ 975  976  977 ..., 1041 1042 1043]\n",
      "[560 560 560 ..., 159 159 159]\n",
      "[311 312 313 ..., 304 305 306]"
     ]
    },
    {
     "name": "stderr",
     "output_type": "stream",
     "text": [
      "\r",
      " 42%|████▏     | 527/1261 [02:37<03:25,  3.57it/s]"
     ]
    },
    {
     "name": "stdout",
     "output_type": "stream",
     "text": [
      "\n",
      "[640 640 640 ...,  79  79  79]\n",
      "[ 969  970  971 ..., 1046 1047 1048]\n",
      "[640 640 640 ..., 159 159 159]\n",
      "[308 309 310 ..., 299 300 301]"
     ]
    },
    {
     "name": "stderr",
     "output_type": "stream",
     "text": [
      "\r",
      " 42%|████▏     | 528/1261 [02:38<03:20,  3.65it/s]"
     ]
    },
    {
     "name": "stdout",
     "output_type": "stream",
     "text": [
      "\n",
      "[640 640 640 ...,  79  79  79]\n",
      "[ 970  971  972 ..., 1046 1047 1048]\n",
      "[640 640 640 ..., 159 159 159]\n",
      "[309 310 311 ..., 325 326 327]"
     ]
    },
    {
     "name": "stderr",
     "output_type": "stream",
     "text": [
      "\r",
      " 42%|████▏     | 529/1261 [02:38<03:18,  3.69it/s]"
     ]
    },
    {
     "name": "stdout",
     "output_type": "stream",
     "text": [
      "\n",
      "[640 640 640 ...,  79  79  79]\n",
      "[ 969  970  971 ..., 1033 1034 1035]\n",
      "[640 640 640 ...,  43  43  43]\n",
      "[316 317 318 ..., 346 347 348]"
     ]
    },
    {
     "name": "stderr",
     "output_type": "stream",
     "text": [
      "\r",
      " 42%|████▏     | 530/1261 [02:38<03:19,  3.67it/s]"
     ]
    },
    {
     "name": "stdout",
     "output_type": "stream",
     "text": [
      "\n",
      "[640 640 640 ...,  79  79  79]\n",
      "[ 965  966  967 ..., 1030 1031 1032]\n",
      "[640 640 640 ...,  79  79  79]\n",
      "[317 318 319 ..., 362 363 364]"
     ]
    },
    {
     "name": "stderr",
     "output_type": "stream",
     "text": [
      "\r",
      " 42%|████▏     | 531/1261 [02:38<03:24,  3.57it/s]"
     ]
    },
    {
     "name": "stdout",
     "output_type": "stream",
     "text": [
      "\n",
      "[640 640 640 ...,  79  79  79]\n",
      "[ 966  967  968 ..., 1019 1020 1021]\n",
      "[662 662 662 ...,  79  79  79]\n",
      "[322 323 324 ..., 310 311 312]"
     ]
    },
    {
     "name": "stderr",
     "output_type": "stream",
     "text": [
      "\r",
      " 42%|████▏     | 532/1261 [02:39<03:22,  3.61it/s]"
     ]
    },
    {
     "name": "stdout",
     "output_type": "stream",
     "text": [
      "\n",
      "[640 640 640 ...,  79  79  79]\n",
      "[ 960  961  962 ..., 1009 1010 1011]\n",
      "[690 690 690 ...,  79  79  79]\n",
      "[321 322 323 ..., 371 372 373]"
     ]
    },
    {
     "name": "stderr",
     "output_type": "stream",
     "text": [
      "\r",
      " 42%|████▏     | 533/1261 [02:39<03:21,  3.61it/s]"
     ]
    },
    {
     "name": "stdout",
     "output_type": "stream",
     "text": [
      "\n",
      "[640 640 640 ..., 159 159 159]\n",
      "[ 977  978  979 ..., 1003 1004 1005]\n",
      "[599 599 599 ...,  79  79  79]\n",
      "[321 322 323 ..., 362 363 364]"
     ]
    },
    {
     "name": "stderr",
     "output_type": "stream",
     "text": [
      "\r",
      " 42%|████▏     | 534/1261 [02:39<03:21,  3.60it/s]"
     ]
    },
    {
     "name": "stdout",
     "output_type": "stream",
     "text": [
      "\n",
      "[640 640 640 ..., 159 159 159]\n",
      "[ 987  988  989 ..., 1013 1014 1015]\n",
      "[625 625 625 ..., 159 159 159]\n",
      "[323 324 325 ..., 362 363 364]"
     ]
    },
    {
     "name": "stderr",
     "output_type": "stream",
     "text": [
      "\r",
      " 42%|████▏     | 535/1261 [02:39<03:20,  3.62it/s]"
     ]
    },
    {
     "name": "stdout",
     "output_type": "stream",
     "text": [
      "\n",
      "[640 640 640 ..., 159 159 159]\n",
      "[ 976  977  978 ..., 1030 1031 1032]\n",
      "[652 652 652 ...,  79  79  79]\n",
      "[325 326 327 ..., 334 335 336]"
     ]
    },
    {
     "name": "stderr",
     "output_type": "stream",
     "text": [
      "\r",
      " 43%|████▎     | 536/1261 [02:40<03:18,  3.65it/s]"
     ]
    },
    {
     "name": "stdout",
     "output_type": "stream",
     "text": [
      "\n",
      "[640 640 640 ..., 159 159 159]\n",
      "[ 974  975  976 ..., 1027 1028 1029]\n",
      "[678 678 678 ..., 239 239 239]\n",
      "[327 328 329 ..., 315 316 317]"
     ]
    },
    {
     "name": "stderr",
     "output_type": "stream",
     "text": [
      "\r",
      " 43%|████▎     | 537/1261 [02:40<03:16,  3.69it/s]"
     ]
    },
    {
     "name": "stdout",
     "output_type": "stream",
     "text": [
      "\n",
      "[640 640 640 ..., 159 159 159]\n",
      "[ 964  965  966 ..., 1033 1034 1035]\n",
      "[705 705 705 ...,  22  22  22]\n",
      "[321 322 323 ..., 339 340 341]"
     ]
    },
    {
     "name": "stderr",
     "output_type": "stream",
     "text": [
      "\r",
      " 43%|████▎     | 538/1261 [02:40<03:26,  3.50it/s]"
     ]
    },
    {
     "name": "stdout",
     "output_type": "stream",
     "text": [
      "\n",
      "[640 640 640 ..., 239 239 239]\n",
      "[ 977  978  979 ..., 1045 1046 1047]\n",
      "[560 560 560 ...,  22  22  22]\n",
      "[323 324 325 ..., 331 332 333]"
     ]
    },
    {
     "name": "stderr",
     "output_type": "stream",
     "text": [
      "\r",
      " 43%|████▎     | 539/1261 [02:41<03:21,  3.59it/s]"
     ]
    },
    {
     "name": "stdout",
     "output_type": "stream",
     "text": [
      "\n",
      "[640 640 640 ..., 239 239 239]\n",
      "[ 970  971  972 ..., 1033 1034 1035]\n",
      "[640 640 640 ...,  63  63  63]\n",
      "[322 323 324 ..., 332 333 334]"
     ]
    },
    {
     "name": "stderr",
     "output_type": "stream",
     "text": [
      "\r",
      " 43%|████▎     | 540/1261 [02:41<03:22,  3.56it/s]"
     ]
    },
    {
     "name": "stdout",
     "output_type": "stream",
     "text": [
      "\n",
      "[640 640 640 ..., 232 232 232]\n",
      "[ 969  970  971 ..., 1045 1046 1047]\n",
      "[640 640 640 ...,  79  79  79]\n",
      "[325 326 327 ..., 329 330 331]"
     ]
    },
    {
     "name": "stderr",
     "output_type": "stream",
     "text": [
      "\r",
      " 43%|████▎     | 541/1261 [02:41<03:22,  3.56it/s]"
     ]
    },
    {
     "name": "stdout",
     "output_type": "stream",
     "text": [
      "\n",
      "[640 640 640 ..., 159 159 159]\n",
      "[ 967  968  969 ..., 1045 1046 1047]\n",
      "[640 640 640 ...,  79  79  79]\n",
      "[323 324 325 ..., 335 336 337]"
     ]
    },
    {
     "name": "stderr",
     "output_type": "stream",
     "text": [
      "\r",
      " 43%|████▎     | 542/1261 [02:41<03:23,  3.53it/s]"
     ]
    },
    {
     "name": "stdout",
     "output_type": "stream",
     "text": [
      "\n",
      "[640 640 640 ..., 239 239 239]\n",
      "[ 965  966  967 ..., 1040 1041 1042]\n",
      "[640 640 640 ...,  79  79  79]\n",
      "[321 322 323 ..., 331 332 333]"
     ]
    },
    {
     "name": "stderr",
     "output_type": "stream",
     "text": [
      "\r",
      " 43%|████▎     | 543/1261 [02:42<03:18,  3.61it/s]"
     ]
    },
    {
     "name": "stdout",
     "output_type": "stream",
     "text": [
      "\n",
      "[640 640 640 ..., 239 239 239]\n",
      "[ 969  970  983 ..., 1045 1046 1047]\n",
      "[654 654 654 ...,  79  79  79]\n",
      "[323 324 325 ..., 331 332 333]"
     ]
    },
    {
     "name": "stderr",
     "output_type": "stream",
     "text": [
      "\r",
      " 43%|████▎     | 544/1261 [02:42<03:17,  3.64it/s]"
     ]
    },
    {
     "name": "stdout",
     "output_type": "stream",
     "text": [
      "\n",
      "[640 640 640 ..., 239 239 239]\n",
      "[ 966  967  977 ..., 1037 1038 1039]\n",
      "[655 655 655 ..., 159 159 159]\n",
      "[328 329 330 ..., 335 336 337]"
     ]
    },
    {
     "name": "stderr",
     "output_type": "stream",
     "text": [
      "\r",
      " 43%|████▎     | 545/1261 [02:42<03:16,  3.64it/s]"
     ]
    },
    {
     "name": "stdout",
     "output_type": "stream",
     "text": [
      "\n",
      "[640 640 640 ..., 239 239 239]\n",
      "[ 964  965  966 ..., 1046 1047 1048]\n",
      "[681 681 681 ..., 159 159 159]\n",
      "[341 342 343 ..., 323 324 325]"
     ]
    },
    {
     "name": "stderr",
     "output_type": "stream",
     "text": [
      "\r",
      " 43%|████▎     | 546/1261 [02:43<03:17,  3.61it/s]"
     ]
    },
    {
     "name": "stdout",
     "output_type": "stream",
     "text": [
      "\n",
      "[640 640 640 ..., 239 239 239]\n",
      "[ 959  960  960 ..., 1031 1032 1033]\n",
      "[708 708 709 ..., 239 239 239]\n",
      "[327 328 329 ..., 324 325 326]"
     ]
    },
    {
     "name": "stderr",
     "output_type": "stream",
     "text": [
      "\r",
      " 43%|████▎     | 547/1261 [02:43<03:14,  3.68it/s]"
     ]
    },
    {
     "name": "stdout",
     "output_type": "stream",
     "text": [
      "\n",
      "[640 640 640 ..., 232 232 232]\n",
      "[ 971  972  973 ..., 1035 1036 1037]\n",
      "[560 560 560 ..., 239 239 239]\n",
      "[326 327 328 ..., 323 324 325]"
     ]
    },
    {
     "name": "stderr",
     "output_type": "stream",
     "text": [
      "\r",
      " 43%|████▎     | 548/1261 [02:43<03:12,  3.71it/s]"
     ]
    },
    {
     "name": "stdout",
     "output_type": "stream",
     "text": [
      "\n",
      "[640 640 640 ..., 239 239 239]\n",
      "[ 963  964  965 ..., 1039 1040 1041]\n",
      "[640 640 640 ..., 239 239 239]\n",
      "[330 331 332 ..., 319 320 321]"
     ]
    },
    {
     "name": "stderr",
     "output_type": "stream",
     "text": [
      "\r",
      " 44%|████▎     | 549/1261 [02:43<03:11,  3.71it/s]"
     ]
    },
    {
     "name": "stdout",
     "output_type": "stream",
     "text": [
      "\n",
      "[640 640 640 ..., 239 239 239]\n",
      "[ 965  966  967 ..., 1027 1028 1029]\n",
      "[640 640 640 ..., 319 319 319]\n",
      "[320 321 322 ..., 306 307 308]"
     ]
    },
    {
     "name": "stderr",
     "output_type": "stream",
     "text": [
      "\r",
      " 44%|████▎     | 550/1261 [02:44<03:09,  3.76it/s]"
     ]
    },
    {
     "name": "stdout",
     "output_type": "stream",
     "text": [
      "\n",
      "[640 640 640 ..., 159 159 159]\n",
      "[ 970  971  972 ..., 1041 1042 1043]\n",
      "[640 640 640 ..., 319 319 319]\n",
      "[318 319 320 ..., 306 307 308]"
     ]
    },
    {
     "name": "stderr",
     "output_type": "stream",
     "text": [
      "\r",
      " 44%|████▎     | 551/1261 [02:44<03:09,  3.76it/s]"
     ]
    },
    {
     "name": "stdout",
     "output_type": "stream",
     "text": [
      "\n",
      "[640 640 640 ..., 159 159 159]\n",
      "[ 969  970  971 ..., 1065 1066 1067]\n",
      "[640 640 640 ..., 159 159 159]\n",
      "[315 316 317 ..., 327 328 329]"
     ]
    },
    {
     "name": "stderr",
     "output_type": "stream",
     "text": [
      "\r",
      " 44%|████▍     | 552/1261 [02:44<03:08,  3.76it/s]"
     ]
    },
    {
     "name": "stdout",
     "output_type": "stream",
     "text": [
      "\n",
      "[640 640 640 ..., 239 239 239]\n",
      "[ 970  971  972 ..., 1067 1068 1069]\n",
      "[640 640 640 ...,  22  22  22]\n",
      "[317 318 319 ..., 301 302 303]"
     ]
    },
    {
     "name": "stderr",
     "output_type": "stream",
     "text": [
      "\r",
      " 44%|████▍     | 553/1261 [02:44<03:11,  3.70it/s]"
     ]
    },
    {
     "name": "stdout",
     "output_type": "stream",
     "text": [
      "\n",
      "[640 640 640 ..., 159 159 159]\n",
      "[ 978  979  980 ..., 1066 1067 1068]\n",
      "[649 649 649 ...,  79  79  79]\n",
      "[322 323 324 ..., 315 316 317]"
     ]
    },
    {
     "name": "stderr",
     "output_type": "stream",
     "text": [
      "\r",
      " 44%|████▍     | 554/1261 [02:45<03:11,  3.70it/s]"
     ]
    },
    {
     "name": "stdout",
     "output_type": "stream",
     "text": [
      "\n",
      "[640 640 640 ..., 239 239 239]\n",
      "[ 968  969  965 ..., 1082 1083 1084]\n",
      "[641 641 642 ...,  79  79  79]\n",
      "[323 324 325 ..., 306 307 308]"
     ]
    },
    {
     "name": "stderr",
     "output_type": "stream",
     "text": [
      "\r",
      " 44%|████▍     | 555/1261 [02:45<03:16,  3.59it/s]"
     ]
    },
    {
     "name": "stdout",
     "output_type": "stream",
     "text": [
      "\n",
      "[640 640 640 ..., 239 239 239]\n",
      "[ 980  981  982 ..., 1088 1089 1090]\n",
      "[652 652 652 ...,  79  79  79]\n",
      "[323 324 325 ..., 327 328 329]"
     ]
    },
    {
     "name": "stderr",
     "output_type": "stream",
     "text": [
      "\r",
      " 44%|████▍     | 556/1261 [02:45<03:15,  3.60it/s]"
     ]
    },
    {
     "name": "stdout",
     "output_type": "stream",
     "text": [
      "\n",
      "[640 640 640 ..., 239 239 239]\n",
      "[ 975  976  977 ..., 1077 1078 1079]\n",
      "[680 680 680 ...,  79  79  79]\n",
      "[321 322 323 ..., 323 324 325]"
     ]
    },
    {
     "name": "stderr",
     "output_type": "stream",
     "text": [
      "\r",
      " 44%|████▍     | 557/1261 [02:46<03:16,  3.59it/s]"
     ]
    },
    {
     "name": "stdout",
     "output_type": "stream",
     "text": [
      "\n",
      "[640 640 640 ..., 239 239 239]\n",
      "[ 968  969  970 ..., 1065 1066 1067]\n",
      "[708 708 708 ..., 159 159 159]\n",
      "[318 319 320 ..., 311 312 313]"
     ]
    },
    {
     "name": "stderr",
     "output_type": "stream",
     "text": [
      "\r",
      " 44%|████▍     | 558/1261 [02:46<03:11,  3.67it/s]"
     ]
    },
    {
     "name": "stdout",
     "output_type": "stream",
     "text": [
      "\n",
      "[640 640 640 ..., 239 239 239]\n",
      "[1005 1006 1007 ..., 1069 1070 1071]\n",
      "[645 645 645 ..., 159 159 159]\n",
      "[308 309 310 ..., 306 307 308]"
     ]
    },
    {
     "name": "stderr",
     "output_type": "stream",
     "text": [
      "\r",
      " 44%|████▍     | 559/1261 [02:46<03:07,  3.74it/s]"
     ]
    },
    {
     "name": "stdout",
     "output_type": "stream",
     "text": [
      "\n",
      "[640 640 640 ..., 239 239 239]\n",
      "[ 985  986  987 ..., 1098 1099 1100]\n",
      "[640 640 640 ..., 159 159 159]\n",
      "[302 303 304 ..., 201 202 203]"
     ]
    },
    {
     "name": "stderr",
     "output_type": "stream",
     "text": [
      "\r",
      " 44%|████▍     | 560/1261 [02:46<03:09,  3.71it/s]"
     ]
    },
    {
     "name": "stdout",
     "output_type": "stream",
     "text": [
      "\n",
      "[640 640 640 ..., 118 118 118]\n",
      "[ 996  997  998 ..., 1161 1162 1163]\n",
      "[640 640 640 ...,  79  79  79]\n",
      "[294 295 296 ..., 241 242 243]"
     ]
    },
    {
     "name": "stderr",
     "output_type": "stream",
     "text": [
      "\r",
      " 44%|████▍     | 561/1261 [02:47<03:07,  3.73it/s]"
     ]
    },
    {
     "name": "stdout",
     "output_type": "stream",
     "text": [
      "\n",
      "[640 640 640 ...,  79  79  79]\n",
      "[ 999 1000 1001 ..., 1177 1178 1179]\n",
      "[640 640 640 ...,  79  79  79]\n",
      "[193 194 195 ..., 205 206 207]"
     ]
    },
    {
     "name": "stderr",
     "output_type": "stream",
     "text": [
      "\r",
      " 45%|████▍     | 562/1261 [02:47<03:07,  3.73it/s]"
     ]
    },
    {
     "name": "stdout",
     "output_type": "stream",
     "text": [
      "\n",
      "[640 640 640 ...,  79  79  79]\n",
      "[1008 1009 1010 ..., 1173 1174 1175]\n",
      "[640 640 640 ..., 159 159 159]\n",
      "[297 298 299 ..., 278 279 280]"
     ]
    },
    {
     "name": "stderr",
     "output_type": "stream",
     "text": [
      "\r",
      " 45%|████▍     | 563/1261 [02:47<03:05,  3.76it/s]"
     ]
    },
    {
     "name": "stdout",
     "output_type": "stream",
     "text": [
      "\n",
      "[640 640 640 ..., 239 239 239]\n",
      "[1012 1013 1014 ..., 1146 1147 1148]\n",
      "[650 650 650 ...,  63  63  63]\n",
      "[303 304 305 ..., 310 311 312]"
     ]
    },
    {
     "name": "stderr",
     "output_type": "stream",
     "text": [
      "\r",
      " 45%|████▍     | 564/1261 [02:47<03:09,  3.68it/s]"
     ]
    },
    {
     "name": "stdout",
     "output_type": "stream",
     "text": [
      "\n",
      "[640 640 640 ..., 319 319 319]\n",
      "[ 995  996  997 ..., 1090 1091 1092]\n",
      "[683 683 683 ...,  22  22  22]\n",
      "[311 312 313 ..., 314 315 316]"
     ]
    },
    {
     "name": "stderr",
     "output_type": "stream",
     "text": [
      "\r",
      " 45%|████▍     | 565/1261 [02:48<03:07,  3.71it/s]"
     ]
    },
    {
     "name": "stdout",
     "output_type": "stream",
     "text": [
      "\n",
      "[640 640 640 ..., 319 319 319]\n",
      "[1003 1004 1005 ..., 1072 1073 1074]\n",
      "[595 595 595 ...,  79  79  79]\n",
      "[318 319 320 ..., 336 337 338]"
     ]
    },
    {
     "name": "stderr",
     "output_type": "stream",
     "text": [
      "\r",
      " 45%|████▍     | 566/1261 [02:48<03:04,  3.76it/s]"
     ]
    },
    {
     "name": "stdout",
     "output_type": "stream",
     "text": [
      "\n",
      "[640 640 640 ..., 314 314 314]\n",
      "[ 993  994  995 ..., 1061 1062 1063]\n",
      "[626 626 626 ...,  79  79  79]\n",
      "[291 292 293 ..., 332 333 334]"
     ]
    },
    {
     "name": "stderr",
     "output_type": "stream",
     "text": [
      "\r",
      " 45%|████▍     | 567/1261 [02:48<03:02,  3.81it/s]"
     ]
    },
    {
     "name": "stdout",
     "output_type": "stream",
     "text": [
      "\n",
      "[640 640 640 ..., 319 319 319]\n",
      "[ 981  982  984 ..., 1041 1042 1043]\n",
      "[656 656 656 ..., 159 159 159]\n",
      "[322 323 324 ..., 336 337 338]"
     ]
    },
    {
     "name": "stderr",
     "output_type": "stream",
     "text": [
      "\r",
      " 45%|████▌     | 568/1261 [02:48<03:02,  3.80it/s]"
     ]
    },
    {
     "name": "stdout",
     "output_type": "stream",
     "text": [
      "\n",
      "[640 640 640 ..., 399 399 399]\n",
      "[ 977  978  979 ..., 1046 1047 1048]\n",
      "[682 682 682 ..., 159 159 159]\n",
      "[321 322 323 ..., 333 334 335]"
     ]
    },
    {
     "name": "stderr",
     "output_type": "stream",
     "text": [
      "\r",
      " 45%|████▌     | 569/1261 [02:49<03:01,  3.82it/s]"
     ]
    },
    {
     "name": "stdout",
     "output_type": "stream",
     "text": [
      "\n",
      "[640 640 640 ..., 399 399 399]\n",
      "[ 978  979  973 ..., 1055 1056 1057]\n",
      "[708 708 709 ..., 159 159 159]\n",
      "[318 319 320 ..., 330 331 332]"
     ]
    },
    {
     "name": "stderr",
     "output_type": "stream",
     "text": [
      "\r",
      " 45%|████▌     | 570/1261 [02:49<02:59,  3.85it/s]"
     ]
    },
    {
     "name": "stdout",
     "output_type": "stream",
     "text": [
      "\n",
      "[640 640 640 ..., 399 399 399]\n",
      "[ 984  985  986 ..., 1060 1061 1062]\n",
      "[560 560 560 ..., 159 159 159]\n",
      "[313 314 315 ..., 314 315 316]"
     ]
    },
    {
     "name": "stderr",
     "output_type": "stream",
     "text": [
      "\r",
      " 45%|████▌     | 571/1261 [02:49<03:04,  3.74it/s]"
     ]
    },
    {
     "name": "stdout",
     "output_type": "stream",
     "text": [
      "\n",
      "[640 640 640 ..., 319 319 319]\n",
      "[ 977  978  979 ..., 1074 1075 1076]\n",
      "[640 640 640 ..., 159 159 159]\n",
      "[311 312 313 ..., 318 319 320]"
     ]
    },
    {
     "name": "stderr",
     "output_type": "stream",
     "text": [
      "\r",
      " 45%|████▌     | 572/1261 [02:50<03:05,  3.71it/s]"
     ]
    },
    {
     "name": "stdout",
     "output_type": "stream",
     "text": [
      "\n",
      "[640 640 640 ..., 399 399 399]\n",
      "[ 979  980  981 ..., 1077 1078 1079]\n",
      "[640 640 640 ...,  79  79  79]\n",
      "[316 317 318 ..., 314 315 316]"
     ]
    },
    {
     "name": "stderr",
     "output_type": "stream",
     "text": [
      "\r",
      " 45%|████▌     | 573/1261 [02:50<03:07,  3.68it/s]"
     ]
    },
    {
     "name": "stdout",
     "output_type": "stream",
     "text": [
      "\n",
      "[640 640 640 ..., 319 319 319]\n",
      "[ 981  982  983 ..., 1068 1069 1070]\n",
      "[640 640 640 ..., 118 118 118]\n",
      "[318 319 320 ..., 246 247 248]"
     ]
    },
    {
     "name": "stderr",
     "output_type": "stream",
     "text": [
      "\r",
      " 46%|████▌     | 574/1261 [02:50<03:04,  3.73it/s]"
     ]
    },
    {
     "name": "stdout",
     "output_type": "stream",
     "text": [
      "\n",
      "[640 640 640 ...,  22  22  22]\n",
      "[ 984  985  986 ..., 1055 1056 1057]\n",
      "[640 640 640 ...,  43  43  43]\n",
      "[320 321 322 ..., 324 325 326]"
     ]
    },
    {
     "name": "stderr",
     "output_type": "stream",
     "text": [
      "\r",
      " 46%|████▌     | 575/1261 [02:50<03:08,  3.63it/s]"
     ]
    },
    {
     "name": "stdout",
     "output_type": "stream",
     "text": [
      "\n",
      "[640 640 640 ..., 399 399 399]\n",
      "[ 996  997  999 ..., 1051 1052 1053]\n",
      "[658 658 658 ...,  79  79  79]\n",
      "[321 322 323 ..., 328 329 330]"
     ]
    },
    {
     "name": "stderr",
     "output_type": "stream",
     "text": [
      "\r",
      " 46%|████▌     | 576/1261 [02:51<03:15,  3.51it/s]"
     ]
    },
    {
     "name": "stdout",
     "output_type": "stream",
     "text": [
      "\n",
      "[640 640 640 ..., 319 319 319]\n",
      "[ 983  984  985 ..., 1045 1046 1047]\n",
      "[687 687 687 ...,  79  79  79]\n",
      "[321 322 323 ..., 335 336 337]"
     ]
    },
    {
     "name": "stderr",
     "output_type": "stream",
     "text": [
      "\r",
      " 46%|████▌     | 577/1261 [02:51<03:13,  3.54it/s]"
     ]
    },
    {
     "name": "stdout",
     "output_type": "stream",
     "text": [
      "\n",
      "[640 640 640 ..., 319 319 319]\n",
      "[ 996  997  998 ..., 1066 1067 1068]\n",
      "[611 611 611 ...,  79  79  79]\n",
      "[321 322 323 ..., 327 328 329]"
     ]
    },
    {
     "name": "stderr",
     "output_type": "stream",
     "text": [
      "\r",
      " 46%|████▌     | 578/1261 [02:51<03:09,  3.61it/s]"
     ]
    },
    {
     "name": "stdout",
     "output_type": "stream",
     "text": [
      "\n",
      "[640 640 640 ..., 399 399 399]\n",
      "[ 991  992  993 ..., 1045 1046 1047]\n",
      "[640 640 640 ...,  79  79  79]\n",
      "[321 322 323 ..., 339 340 341]"
     ]
    },
    {
     "name": "stderr",
     "output_type": "stream",
     "text": [
      "\r",
      " 46%|████▌     | 579/1261 [02:51<03:07,  3.63it/s]"
     ]
    },
    {
     "name": "stdout",
     "output_type": "stream",
     "text": [
      "\n",
      "[640 640 640 ..., 399 399 399]\n",
      "[ 985  986  987 ..., 1041 1042 1043]\n",
      "[668 668 668 ..., 159 159 159]\n",
      "[322 323 324 ..., 338 339 340]"
     ]
    },
    {
     "name": "stderr",
     "output_type": "stream",
     "text": [
      "\r",
      " 46%|████▌     | 580/1261 [02:52<03:08,  3.62it/s]"
     ]
    },
    {
     "name": "stdout",
     "output_type": "stream",
     "text": [
      "\n",
      "[640 640 640 ..., 389 389 389]\n",
      "[ 987  988  989 ..., 1046 1047 1048]\n",
      "[693 693 693 ..., 159 159 159]\n",
      "[322 323 324 ..., 339 340 341]"
     ]
    },
    {
     "name": "stderr",
     "output_type": "stream",
     "text": [
      "\r",
      " 46%|████▌     | 581/1261 [02:52<03:08,  3.62it/s]"
     ]
    },
    {
     "name": "stdout",
     "output_type": "stream",
     "text": [
      "\n",
      "[640 640 640 ..., 399 399 399]\n",
      "[ 990  991  992 ..., 1037 1038 1039]\n",
      "[560 560 560 ..., 159 159 159]\n",
      "[321 322 323 ..., 327 328 329]"
     ]
    },
    {
     "name": "stderr",
     "output_type": "stream",
     "text": [
      "\r",
      " 46%|████▌     | 582/1261 [02:52<03:09,  3.59it/s]"
     ]
    },
    {
     "name": "stdout",
     "output_type": "stream",
     "text": [
      "\n",
      "[640 640 640 ..., 399 399 399]\n",
      "[ 990  991  992 ..., 1039 1040 1041]\n",
      "[560 560 560 ..., 239 239 239]\n",
      "[322 323 324 ..., 324 325 326]"
     ]
    },
    {
     "name": "stderr",
     "output_type": "stream",
     "text": [
      "\r",
      " 46%|████▌     | 583/1261 [02:53<03:05,  3.65it/s]"
     ]
    },
    {
     "name": "stdout",
     "output_type": "stream",
     "text": [
      "\n",
      "[640 640 640 ..., 399 399 399]\n",
      "[ 981  982  983 ..., 1031 1032 1033]\n",
      "[640 640 640 ..., 239 239 239]\n",
      "[323 324 325 ..., 333 334 335]"
     ]
    },
    {
     "name": "stderr",
     "output_type": "stream",
     "text": [
      "\r",
      " 46%|████▋     | 584/1261 [02:53<03:06,  3.63it/s]"
     ]
    },
    {
     "name": "stdout",
     "output_type": "stream",
     "text": [
      "\n",
      "[640 640 640 ..., 399 399 399]\n",
      "[ 977  978  979 ..., 1017 1018 1019]\n",
      "[640 640 640 ...,  43  43  43]\n",
      "[318 319 320 ..., 325 326 327]"
     ]
    },
    {
     "name": "stderr",
     "output_type": "stream",
     "text": [
      "\r",
      " 46%|████▋     | 585/1261 [02:53<03:06,  3.62it/s]"
     ]
    },
    {
     "name": "stdout",
     "output_type": "stream",
     "text": [
      "\n",
      "[640 640 640 ..., 314 314 314]\n",
      "[ 980  981  982 ..., 1028 1029 1030]\n",
      "[640 640 640 ...,  43  43  43]\n",
      "[323 324 325 ..., 332 333 334]"
     ]
    },
    {
     "name": "stderr",
     "output_type": "stream",
     "text": [
      "\r",
      " 46%|████▋     | 586/1261 [02:53<03:07,  3.59it/s]"
     ]
    },
    {
     "name": "stdout",
     "output_type": "stream",
     "text": [
      "\n",
      "[640 640 640 ..., 389 389 389]\n",
      "[ 981  982  983 ..., 1030 1031 1032]\n",
      "[640 640 640 ...,  79  79  79]\n",
      "[321 322 323 ..., 333 334 335]"
     ]
    },
    {
     "name": "stderr",
     "output_type": "stream",
     "text": [
      "\r",
      " 47%|████▋     | 587/1261 [02:54<03:05,  3.63it/s]"
     ]
    },
    {
     "name": "stdout",
     "output_type": "stream",
     "text": [
      "\n",
      "[640 640 640 ..., 399 399 399]\n",
      "[ 983  984  985 ..., 1019 1020 1021]\n",
      "[664 664 664 ...,  79  79  79]\n",
      "[323 324 325 ..., 321 322 323]"
     ]
    },
    {
     "name": "stderr",
     "output_type": "stream",
     "text": [
      "\r",
      " 47%|████▋     | 588/1261 [02:54<03:06,  3.62it/s]"
     ]
    },
    {
     "name": "stdout",
     "output_type": "stream",
     "text": [
      "\n",
      "[640 640 640 ..., 399 399 399]\n",
      "[ 978  979  980 ..., 1040 1041 1042]\n",
      "[691 691 691 ...,  79  79  79]\n",
      "[321 322 323 ..., 333 334 335]"
     ]
    },
    {
     "name": "stderr",
     "output_type": "stream",
     "text": [
      "\r",
      " 47%|████▋     | 589/1261 [02:54<03:04,  3.65it/s]"
     ]
    },
    {
     "name": "stdout",
     "output_type": "stream",
     "text": [
      "\n",
      "[640 640 640 ..., 399 399 399]\n",
      "[ 992  993  990 ..., 1045 1046 1047]\n",
      "[611 611 612 ...,  79  79  79]\n",
      "[317 318 319 ..., 321 322 323]"
     ]
    },
    {
     "name": "stderr",
     "output_type": "stream",
     "text": [
      "\r",
      " 47%|████▋     | 590/1261 [02:54<02:59,  3.73it/s]"
     ]
    },
    {
     "name": "stdout",
     "output_type": "stream",
     "text": [
      "\n",
      "[640 640 640 ..., 399 399 399]\n",
      "[1000 1001 1002 ..., 1061 1062 1063]\n",
      "[640 640 640 ...,  79  79  79]\n",
      "[315 316 317 ..., 314 315 316]"
     ]
    },
    {
     "name": "stderr",
     "output_type": "stream",
     "text": [
      "\r",
      " 47%|████▋     | 591/1261 [02:55<02:57,  3.78it/s]"
     ]
    },
    {
     "name": "stdout",
     "output_type": "stream",
     "text": [
      "\n",
      "[640 640 640 ..., 319 319 319]\n",
      "[ 987  988  989 ..., 1066 1067 1068]\n",
      "[668 668 668 ...,  79  79  79]\n",
      "[308 309 310 ..., 300 301 302]"
     ]
    },
    {
     "name": "stderr",
     "output_type": "stream",
     "text": [
      "\r",
      " 47%|████▋     | 592/1261 [02:55<02:56,  3.80it/s]"
     ]
    },
    {
     "name": "stdout",
     "output_type": "stream",
     "text": [
      "\n",
      "[640 640 640 ..., 319 319 319]\n",
      "[ 982  983  984 ..., 1061 1062 1063]\n",
      "[691 691 691 ...,  79  79  79]\n",
      "[311 312 313 ..., 300 301 302]"
     ]
    },
    {
     "name": "stderr",
     "output_type": "stream",
     "text": [
      "\r",
      " 47%|████▋     | 593/1261 [02:55<02:56,  3.79it/s]"
     ]
    },
    {
     "name": "stdout",
     "output_type": "stream",
     "text": [
      "\n",
      "[640 640 640 ..., 319 319 319]\n",
      "[ 977  978  979 ..., 1055 1056 1057]\n",
      "[560 560 560 ..., 159 159 159]\n",
      "[311 312 313 ..., 304 305 306]"
     ]
    },
    {
     "name": "stderr",
     "output_type": "stream",
     "text": [
      "\r",
      " 47%|████▋     | 594/1261 [02:56<02:54,  3.81it/s]"
     ]
    },
    {
     "name": "stdout",
     "output_type": "stream",
     "text": [
      "\n",
      "[640 640 640 ..., 314 314 314]\n",
      "[ 979  980  981 ..., 1055 1056 1057]\n",
      "[560 560 560 ..., 159 159 159]\n",
      "[311 312 313 ..., 307 308 309]"
     ]
    },
    {
     "name": "stderr",
     "output_type": "stream",
     "text": [
      "\r",
      " 47%|████▋     | 595/1261 [02:56<02:58,  3.72it/s]"
     ]
    },
    {
     "name": "stdout",
     "output_type": "stream",
     "text": [
      "\n",
      "[640 640 640 ..., 314 314 314]\n",
      "[ 970  971  972 ..., 1043 1044 1045]\n",
      "[640 640 640 ..., 239 239 239]\n",
      "[308 309 310 ..., 282 283 284]"
     ]
    },
    {
     "name": "stderr",
     "output_type": "stream",
     "text": [
      "\r",
      " 47%|████▋     | 596/1261 [02:56<02:56,  3.77it/s]"
     ]
    },
    {
     "name": "stdout",
     "output_type": "stream",
     "text": [
      "\n",
      "[640 640 640 ..., 319 319 319]\n",
      "[ 970  971  972 ..., 1052 1053 1054]\n",
      "[640 640 640 ..., 239 239 239]\n",
      "[306 307 308 ..., 289 290 291]"
     ]
    },
    {
     "name": "stderr",
     "output_type": "stream",
     "text": [
      "\r",
      " 47%|████▋     | 597/1261 [02:56<03:02,  3.64it/s]"
     ]
    },
    {
     "name": "stdout",
     "output_type": "stream",
     "text": [
      "\n",
      "[640 640 640 ..., 319 319 319]\n",
      "[ 972  973  974 ..., 1052 1053 1054]\n",
      "[640 640 640 ..., 239 239 239]\n",
      "[304 305 306 ..., 303 304 305]"
     ]
    },
    {
     "name": "stderr",
     "output_type": "stream",
     "text": [
      "\r",
      " 47%|████▋     | 598/1261 [02:57<02:57,  3.74it/s]"
     ]
    },
    {
     "name": "stdout",
     "output_type": "stream",
     "text": [
      "\n",
      "[640 640 640 ..., 399 399 399]\n",
      "[ 979  980  981 ..., 1041 1042 1043]\n",
      "[647 647 647 ..., 319 319 319]\n",
      "[301 302 303 ..., 289 290 291]"
     ]
    },
    {
     "name": "stderr",
     "output_type": "stream",
     "text": [
      "\r",
      " 48%|████▊     | 599/1261 [02:57<02:54,  3.79it/s]"
     ]
    },
    {
     "name": "stdout",
     "output_type": "stream",
     "text": [
      "\n",
      "[640 640 640 ..., 319 319 319]\n",
      "[ 975  976  977 ..., 1041 1042 1043]\n",
      "[674 674 674 ..., 319 319 319]\n",
      "[299 300 301 ..., 289 290 291]"
     ]
    },
    {
     "name": "stderr",
     "output_type": "stream",
     "text": [
      "\r",
      " 48%|████▊     | 600/1261 [02:57<02:54,  3.78it/s]"
     ]
    },
    {
     "name": "stdout",
     "output_type": "stream",
     "text": [
      "\n",
      "[640 640 640 ..., 319 319 319]\n",
      "[ 969  970  971 ..., 1030 1031 1032]\n",
      "[701 701 701 ..., 399 399 399]\n",
      "[297 298 299 ..., 306 307 308]"
     ]
    },
    {
     "name": "stderr",
     "output_type": "stream",
     "text": [
      "\r",
      " 48%|████▊     | 601/1261 [02:57<02:57,  3.73it/s]"
     ]
    },
    {
     "name": "stdout",
     "output_type": "stream",
     "text": [
      "\n",
      "[640 640 640 ...,  43  43  43]\n",
      "[ 988  989  990 ..., 1039 1040 1041]\n",
      "[599 599 599 ..., 399 399 399]\n",
      "[294 295 296 ..., 287 288 289]"
     ]
    },
    {
     "name": "stderr",
     "output_type": "stream",
     "text": [
      "\r",
      " 48%|████▊     | 602/1261 [02:58<02:56,  3.72it/s]"
     ]
    },
    {
     "name": "stdout",
     "output_type": "stream",
     "text": [
      "\n",
      "[640 640 640 ...,  63  63  63]\n",
      "[ 990  991  992 ..., 1045 1046 1047]\n",
      "[625 625 625 ..., 399 399 399]\n",
      "[291 292 293 ..., 278 279 280]"
     ]
    },
    {
     "name": "stderr",
     "output_type": "stream",
     "text": [
      "\r",
      " 48%|████▊     | 603/1261 [02:58<02:55,  3.76it/s]"
     ]
    },
    {
     "name": "stdout",
     "output_type": "stream",
     "text": [
      "\n",
      "[640 640 640 ...,  79  79  79]\n",
      "[ 985  986  993 ..., 1028 1029 1030]\n",
      "[653 653 653 ..., 479 479 479]\n",
      "[294 295 296 ..., 289 290 291]"
     ]
    },
    {
     "name": "stderr",
     "output_type": "stream",
     "text": [
      "\r",
      " 48%|████▊     | 604/1261 [02:58<02:57,  3.69it/s]"
     ]
    },
    {
     "name": "stdout",
     "output_type": "stream",
     "text": [
      "\n",
      "[640 640 640 ...,  79  79  79]\n",
      "[ 979  980  981 ..., 1028 1029 1030]\n",
      "[681 681 681 ..., 479 479 479]\n",
      "[294 295 296 ..., 257 258 259]"
     ]
    },
    {
     "name": "stderr",
     "output_type": "stream",
     "text": [
      "\r",
      " 48%|████▊     | 605/1261 [02:58<02:58,  3.69it/s]"
     ]
    },
    {
     "name": "stdout",
     "output_type": "stream",
     "text": [
      "\n",
      "[640 640 640 ...,  79  79  79]\n",
      "[ 972  973  974 ..., 1082 1083 1084]\n",
      "[710 710 710 ...,  79  79  79]\n",
      "[297 298 299 ..., 346 347 348]"
     ]
    },
    {
     "name": "stderr",
     "output_type": "stream",
     "text": [
      "\r",
      " 48%|████▊     | 606/1261 [02:59<02:58,  3.66it/s]"
     ]
    },
    {
     "name": "stdout",
     "output_type": "stream",
     "text": [
      "\n",
      "[640 640 640 ...,  79  79  79]\n",
      "[ 977  978  979 ..., 1077 1078 1079]\n",
      "[560 560 560 ...,  79  79  79]\n",
      "[297 298 299 ..., 319 320 321]"
     ]
    },
    {
     "name": "stderr",
     "output_type": "stream",
     "text": [
      "\r",
      " 48%|████▊     | 607/1261 [02:59<02:56,  3.72it/s]"
     ]
    },
    {
     "name": "stdout",
     "output_type": "stream",
     "text": [
      "\n",
      "[640 640 640 ..., 239 239 239]\n",
      "[ 965  966  967 ..., 1051 1052 1053]\n",
      "[640 640 640 ..., 159 159 159]\n",
      "[291 292 293 ..., 351 352 353]"
     ]
    },
    {
     "name": "stderr",
     "output_type": "stream",
     "text": [
      "\r",
      " 48%|████▊     | 608/1261 [02:59<02:59,  3.64it/s]"
     ]
    },
    {
     "name": "stdout",
     "output_type": "stream",
     "text": [
      "\n",
      "[640 640 640 ..., 118 118 118]\n",
      "[ 966  967  968 ..., 1055 1056 1057]\n",
      "[640 640 640 ..., 159 159 159]\n",
      "[289 290 291 ..., 299 300 301]"
     ]
    },
    {
     "name": "stderr",
     "output_type": "stream",
     "text": [
      "\r",
      " 48%|████▊     | 609/1261 [03:00<02:55,  3.71it/s]"
     ]
    },
    {
     "name": "stdout",
     "output_type": "stream",
     "text": [
      "\n",
      "[640 640 640 ...,  79  79  79]\n",
      "[ 963  964  965 ..., 1060 1061 1062]\n",
      "[640 640 640 ..., 159 159 159]\n",
      "[289 290 291 ..., 299 300 301]"
     ]
    },
    {
     "name": "stderr",
     "output_type": "stream",
     "text": [
      "\r",
      " 48%|████▊     | 610/1261 [03:00<02:58,  3.65it/s]"
     ]
    },
    {
     "name": "stdout",
     "output_type": "stream",
     "text": [
      "\n",
      "[640 640 640 ...,  79  79  79]\n",
      "[ 969  970  971 ..., 1060 1061 1062]\n",
      "[644 644 644 ..., 159 159 159]\n",
      "[287 288 289 ..., 294 295 296]"
     ]
    },
    {
     "name": "stderr",
     "output_type": "stream",
     "text": [
      "\r",
      " 48%|████▊     | 611/1261 [03:00<02:56,  3.68it/s]"
     ]
    },
    {
     "name": "stdout",
     "output_type": "stream",
     "text": [
      "\n",
      "[640 640 640 ...,  79  79  79]\n",
      "[ 964  965  966 ..., 1039 1040 1041]\n",
      "[671 671 671 ..., 239 239 239]\n",
      "[289 290 291 ..., 301 302 303]"
     ]
    },
    {
     "name": "stderr",
     "output_type": "stream",
     "text": [
      "\r",
      " 49%|████▊     | 612/1261 [03:00<02:56,  3.68it/s]"
     ]
    },
    {
     "name": "stdout",
     "output_type": "stream",
     "text": [
      "\n",
      "[640 640 640 ..., 159 159 159]\n",
      "[ 959  960  961 ..., 1039 1040 1041]\n",
      "[698 698 698 ..., 239 239 239]\n",
      "[284 285 286 ..., 334 335 336]"
     ]
    },
    {
     "name": "stderr",
     "output_type": "stream",
     "text": [
      "\r",
      " 49%|████▊     | 613/1261 [03:01<02:54,  3.71it/s]"
     ]
    },
    {
     "name": "stdout",
     "output_type": "stream",
     "text": [
      "\n",
      "[640 640 640 ..., 159 159 159]\n",
      "[ 967  968  969 ..., 1090 1091 1092]\n",
      "[614 614 614 ...,  22  22  22]\n",
      "[284 285 286 ..., 334 335 336]"
     ]
    },
    {
     "name": "stderr",
     "output_type": "stream",
     "text": [
      "\r",
      " 49%|████▊     | 614/1261 [03:01<03:00,  3.59it/s]"
     ]
    },
    {
     "name": "stdout",
     "output_type": "stream",
     "text": [
      "\n",
      "[640 640 640 ..., 159 159 159]\n",
      "[ 959  960  961 ..., 1082 1083 1084]\n",
      "[643 643 643 ...,  63  63  63]\n",
      "[282 283 284 ..., 301 302 303]"
     ]
    },
    {
     "name": "stderr",
     "output_type": "stream",
     "text": [
      "\r",
      " 49%|████▉     | 615/1261 [03:01<03:01,  3.56it/s]"
     ]
    },
    {
     "name": "stdout",
     "output_type": "stream",
     "text": [
      "\n",
      "[640 640 640 ..., 159 159 159]\n",
      "[ 957  958  959 ..., 1082 1083 1084]\n",
      "[669 669 669 ...,  79  79  79]\n",
      "[284 285 286 ..., 306 307 308]"
     ]
    },
    {
     "name": "stderr",
     "output_type": "stream",
     "text": [
      "\r",
      " 49%|████▉     | 616/1261 [03:02<02:58,  3.61it/s]"
     ]
    },
    {
     "name": "stdout",
     "output_type": "stream",
     "text": [
      "\n",
      "[640 640 640 ..., 159 159 159]\n",
      "[ 952  953  954 ..., 1088 1089 1090]\n",
      "[696 696 696 ...,  79  79  79]\n",
      "[284 285 286 ..., 339 340 341]"
     ]
    },
    {
     "name": "stderr",
     "output_type": "stream",
     "text": [
      "\r",
      " 49%|████▉     | 617/1261 [03:02<02:56,  3.66it/s]"
     ]
    },
    {
     "name": "stdout",
     "output_type": "stream",
     "text": [
      "\n",
      "[640 640 640 ..., 239 239 239]\n",
      "[ 957  958  959 ..., 1088 1089 1090]\n",
      "[602 602 602 ...,  79  79  79]\n",
      "[282 283 284 ..., 348 349 350]"
     ]
    },
    {
     "name": "stderr",
     "output_type": "stream",
     "text": [
      "\r",
      " 49%|████▉     | 618/1261 [03:02<02:55,  3.67it/s]"
     ]
    },
    {
     "name": "stdout",
     "output_type": "stream",
     "text": [
      "\n",
      "[640 640 640 ..., 239 239 239]\n",
      "[ 953  954  955 ..., 1065 1066 1067]\n",
      "[629 629 629 ..., 159 159 159]\n",
      "[285 286 287 ..., 360 361 362]"
     ]
    },
    {
     "name": "stderr",
     "output_type": "stream",
     "text": [
      "\r",
      " 49%|████▉     | 619/1261 [03:02<02:59,  3.59it/s]"
     ]
    },
    {
     "name": "stdout",
     "output_type": "stream",
     "text": [
      "\n",
      "[640 640 640 ..., 239 239 239]\n",
      "[ 947  948  949 ..., 1060 1061 1062]\n",
      "[657 657 657 ..., 159 159 159]\n",
      "[291 292 293 ..., 390 391 392]"
     ]
    },
    {
     "name": "stderr",
     "output_type": "stream",
     "text": [
      "\r",
      " 49%|████▉     | 620/1261 [03:03<02:55,  3.65it/s]"
     ]
    },
    {
     "name": "stdout",
     "output_type": "stream",
     "text": [
      "\n",
      "[640 640 640 ..., 159 159 159]\n",
      "[ 946  947  948 ..., 1065 1066 1067]\n",
      "[682 682 682 ..., 159 159 159]\n",
      "[285 286 287 ..., 409 410 411]"
     ]
    },
    {
     "name": "stderr",
     "output_type": "stream",
     "text": [
      "\r",
      " 49%|████▉     | 621/1261 [03:03<02:57,  3.61it/s]"
     ]
    },
    {
     "name": "stdout",
     "output_type": "stream",
     "text": [
      "\n",
      "[640 640 640 ..., 159 159 159]\n",
      "[ 934  935  943 ..., 1043 1044 1045]\n",
      "[708 708 708 ..., 239 239 239]\n",
      "[283 284 285 ..., 395 396 397]"
     ]
    },
    {
     "name": "stderr",
     "output_type": "stream",
     "text": [
      "\r",
      " 49%|████▉     | 622/1261 [03:03<02:58,  3.57it/s]"
     ]
    },
    {
     "name": "stdout",
     "output_type": "stream",
     "text": [
      "\n",
      "[640 640 640 ..., 159 159 159]\n",
      "[ 955  956  957 ..., 1056 1057 1058]\n",
      "[560 560 560 ..., 239 239 239]\n",
      "[284 285 286 ..., 409 410 411]"
     ]
    },
    {
     "name": "stderr",
     "output_type": "stream",
     "text": [
      "\r",
      " 49%|████▉     | 623/1261 [03:03<02:55,  3.63it/s]"
     ]
    },
    {
     "name": "stdout",
     "output_type": "stream",
     "text": [
      "\n",
      "[640 640 640 ..., 159 159 159]\n",
      "[ 945  946  947 ..., 1064 1065 1066]\n",
      "[640 640 640 ..., 239 239 239]\n",
      "[289 290 291 ..., 446 447 448]"
     ]
    },
    {
     "name": "stderr",
     "output_type": "stream",
     "text": [
      "\r",
      " 49%|████▉     | 624/1261 [03:04<02:52,  3.70it/s]"
     ]
    },
    {
     "name": "stdout",
     "output_type": "stream",
     "text": [
      "\n",
      "[640 640 640 ...,  79  79  79]\n",
      "[ 947  948  949 ..., 1129 1130 1131]\n",
      "[640 640 640 ...,  22  22  22]\n",
      "[306 307 308 ..., 463 464 465]"
     ]
    },
    {
     "name": "stderr",
     "output_type": "stream",
     "text": [
      "\r",
      " 50%|████▉     | 625/1261 [03:04<02:50,  3.72it/s]"
     ]
    },
    {
     "name": "stdout",
     "output_type": "stream",
     "text": [
      "\n",
      "[640 640 640 ..., 151 151 151]\n",
      "[ 943  944  945 ..., 1103 1104 1105]\n",
      "[640 640 640 ...,  79  79  79]\n",
      "[315 316 317 ..., 465 466 467]"
     ]
    },
    {
     "name": "stderr",
     "output_type": "stream",
     "text": [
      "\r",
      " 50%|████▉     | 626/1261 [03:04<02:53,  3.67it/s]"
     ]
    },
    {
     "name": "stdout",
     "output_type": "stream",
     "text": [
      "\n",
      "[640 640 640 ..., 159 159 159]\n",
      "[ 946  947  948 ..., 1109 1110 1111]\n",
      "[640 640 640 ...,  79  79  79]\n",
      "[309 310 311 ..., 460 461 462]"
     ]
    },
    {
     "name": "stderr",
     "output_type": "stream",
     "text": [
      "\r",
      " 50%|████▉     | 627/1261 [03:05<02:52,  3.68it/s]"
     ]
    },
    {
     "name": "stdout",
     "output_type": "stream",
     "text": [
      "\n",
      "[640 640 640 ..., 159 159 159]\n",
      "[ 950  951  952 ..., 1114 1115 1116]\n",
      "[661 661 661 ...,  79  79  79]\n",
      "[312 313 316 ..., 446 447 448]"
     ]
    },
    {
     "name": "stderr",
     "output_type": "stream",
     "text": [
      "\r",
      " 50%|████▉     | 628/1261 [03:05<02:50,  3.71it/s]"
     ]
    },
    {
     "name": "stdout",
     "output_type": "stream",
     "text": [
      "\n",
      "[640 640 640 ..., 239 239 239]\n",
      "[ 944  945  946 ..., 1083 1084 1085]\n",
      "[687 687 687 ..., 159 159 159]\n",
      "[315 316 317 ..., 491 492 493]"
     ]
    },
    {
     "name": "stderr",
     "output_type": "stream",
     "text": [
      "\r",
      " 50%|████▉     | 629/1261 [03:05<02:50,  3.71it/s]"
     ]
    },
    {
     "name": "stdout",
     "output_type": "stream",
     "text": [
      "\n",
      "[640 640 640 ..., 151 151 151]\n",
      "[ 973  974  975 ..., 1093 1094 1095]\n",
      "[597 597 597 ..., 159 159 159]\n",
      "[309 310 311 ..., 478 479 480]"
     ]
    },
    {
     "name": "stderr",
     "output_type": "stream",
     "text": [
      "\r",
      " 50%|████▉     | 630/1261 [03:05<02:57,  3.56it/s]"
     ]
    },
    {
     "name": "stdout",
     "output_type": "stream",
     "text": [
      "\n",
      "[640 640 640 ...,  79  79  79]\n",
      "[ 978  979  980 ..., 1145 1146 1147]\n",
      "[617 617 617 ...,  79  79  79]\n",
      "[297 298 299 ..., 467 468 469]"
     ]
    },
    {
     "name": "stderr",
     "output_type": "stream",
     "text": [
      "\r",
      " 50%|█████     | 631/1261 [03:06<02:54,  3.61it/s]"
     ]
    },
    {
     "name": "stdout",
     "output_type": "stream",
     "text": [
      "\n",
      "[640 640 640 ...,  79  79  79]\n",
      "[ 979  980  981 ..., 1161 1162 1163]\n",
      "[641 641 641 ...,  79  79  79]\n",
      "[296 297 299 ..., 446 447 448]"
     ]
    },
    {
     "name": "stderr",
     "output_type": "stream",
     "text": [
      "\r",
      " 50%|█████     | 632/1261 [03:06<02:55,  3.58it/s]"
     ]
    },
    {
     "name": "stdout",
     "output_type": "stream",
     "text": [
      "\n",
      "[640 640 640 ...,  79  79  79]\n",
      "[ 979  980  981 ..., 1172 1173 1174]\n",
      "[666 666 666 ...,  79  79  79]\n",
      "[292 293 294 ..., 446 447 448]"
     ]
    },
    {
     "name": "stderr",
     "output_type": "stream",
     "text": [
      "\r",
      " 50%|█████     | 633/1261 [03:06<02:55,  3.58it/s]"
     ]
    },
    {
     "name": "stdout",
     "output_type": "stream",
     "text": [
      "\n",
      "[640 640 640 ...,  79  79  79]\n",
      "[ 965  969  970 ..., 1166 1167 1168]\n",
      "[694 694 694 ...,  79  79  79]\n",
      "[296 297 298 ..., 457 458 459]"
     ]
    },
    {
     "name": "stderr",
     "output_type": "stream",
     "text": [
      "\r",
      " 50%|█████     | 634/1261 [03:06<02:54,  3.59it/s]"
     ]
    },
    {
     "name": "stdout",
     "output_type": "stream",
     "text": [
      "\n",
      "[640 640 640 ...,  79  79  79]\n",
      "[ 988  989  990 ..., 1130 1131 1132]\n",
      "[560 560 560 ..., 159 159 159]\n",
      "[302 303 306 ..., 483 484 485]"
     ]
    },
    {
     "name": "stderr",
     "output_type": "stream",
     "text": [
      "\r",
      " 50%|█████     | 635/1261 [03:07<02:52,  3.62it/s]"
     ]
    },
    {
     "name": "stdout",
     "output_type": "stream",
     "text": [
      "\n",
      "[640 640 640 ...,  79  79  79]\n",
      "[ 981  982  983 ..., 1085 1086 1087]\n",
      "[560 560 560 ..., 239 239 239]\n",
      "[315 316 317 ..., 515 516 517]"
     ]
    },
    {
     "name": "stderr",
     "output_type": "stream",
     "text": [
      "\r",
      " 50%|█████     | 636/1261 [03:07<02:49,  3.68it/s]"
     ]
    },
    {
     "name": "stdout",
     "output_type": "stream",
     "text": [
      "\n",
      "[640 640 640 ...,  79  79  79]\n",
      "[ 958  959  960 ..., 1114 1115 1116]\n",
      "[640 640 640 ...,  79  79  79]\n",
      "[326 327 328 ..., 512 513 514]"
     ]
    },
    {
     "name": "stderr",
     "output_type": "stream",
     "text": [
      "\r",
      " 51%|█████     | 637/1261 [03:07<02:51,  3.63it/s]"
     ]
    },
    {
     "name": "stdout",
     "output_type": "stream",
     "text": [
      "\n",
      "[640 640 640 ..., 159 159 159]\n",
      "[ 955  956  957 ..., 1109 1110 1111]\n",
      "[640 640 640 ...,  79  79  79]\n",
      "[326 327 328 ..., 541 542 543]"
     ]
    },
    {
     "name": "stderr",
     "output_type": "stream",
     "text": [
      "\r",
      " 51%|█████     | 638/1261 [03:08<02:50,  3.66it/s]"
     ]
    },
    {
     "name": "stdout",
     "output_type": "stream",
     "text": [
      "\n",
      "[640 640 640 ...,  79  79  79]\n",
      "[ 956  957  958 ..., 1109 1110 1111]\n",
      "[640 640 640 ...,  79  79  79]\n",
      "[323 324 325 ..., 525 526 527]"
     ]
    },
    {
     "name": "stderr",
     "output_type": "stream",
     "text": [
      "\r",
      " 51%|█████     | 639/1261 [03:08<02:47,  3.72it/s]"
     ]
    },
    {
     "name": "stdout",
     "output_type": "stream",
     "text": [
      "\n",
      "[640 640 640 ...,  79  79  79]\n",
      "[ 964  965  966 ..., 1119 1120 1121]\n",
      "[652 652 652 ...,  79  79  79]\n",
      "[323 324 325 ..., 509 510 511]"
     ]
    },
    {
     "name": "stderr",
     "output_type": "stream",
     "text": [
      "\r",
      " 51%|█████     | 640/1261 [03:08<02:47,  3.72it/s]"
     ]
    },
    {
     "name": "stdout",
     "output_type": "stream",
     "text": [
      "\n",
      "[640 640 640 ...,  79  79  79]\n",
      "[ 966  967  968 ..., 1140 1141 1142]\n",
      "[674 674 674 ...,  79  79  79]\n",
      "[317 318 319 ..., 473 474 475]"
     ]
    },
    {
     "name": "stderr",
     "output_type": "stream",
     "text": [
      "\r",
      " 51%|█████     | 641/1261 [03:08<02:53,  3.58it/s]"
     ]
    },
    {
     "name": "stdout",
     "output_type": "stream",
     "text": [
      "\n",
      "[640 640 640 ...,  79  79  79]\n",
      "[ 968  969  970 ..., 1161 1162 1163]\n",
      "[697 697 697 ...,  79  79  79]\n",
      "[316 317 318 ..., 457 458 459]"
     ]
    },
    {
     "name": "stderr",
     "output_type": "stream",
     "text": [
      "\r",
      " 51%|█████     | 642/1261 [03:09<02:50,  3.63it/s]"
     ]
    },
    {
     "name": "stdout",
     "output_type": "stream",
     "text": [
      "\n",
      "[640 640 640 ...,  79  79  79]\n",
      "[ 991  992  993 ..., 1166 1167 1168]\n",
      "[602 602 602 ...,  79  79  79]\n",
      "[321 322 323 ..., 483 484 485]"
     ]
    },
    {
     "name": "stderr",
     "output_type": "stream",
     "text": [
      "\r",
      " 51%|█████     | 643/1261 [03:09<02:49,  3.65it/s]"
     ]
    },
    {
     "name": "stdout",
     "output_type": "stream",
     "text": [
      "\n",
      "[640 640 640 ...,  79  79  79]\n",
      "[ 986  987  988 ..., 1161 1162 1163]\n",
      "[629 629 629 ...,  79  79  79]\n",
      "[327 328 329 ..., 483 484 485]"
     ]
    },
    {
     "name": "stderr",
     "output_type": "stream",
     "text": [
      "\r",
      " 51%|█████     | 644/1261 [03:09<02:48,  3.66it/s]"
     ]
    },
    {
     "name": "stdout",
     "output_type": "stream",
     "text": [
      "\n",
      "[640 640 640 ...,  79  79  79]\n",
      "[ 985  986  987 ..., 1126 1127 1128]\n",
      "[656 656 656 ..., 159 159 159]\n",
      "[328 329 330 ..., 494 495 496]"
     ]
    },
    {
     "name": "stderr",
     "output_type": "stream",
     "text": [
      "\r",
      " 51%|█████     | 645/1261 [03:09<02:51,  3.59it/s]"
     ]
    },
    {
     "name": "stdout",
     "output_type": "stream",
     "text": [
      "\n",
      "[640 640 640 ...,  79  79  79]\n",
      "[ 969  970  976 ..., 1126 1127 1128]\n",
      "[682 682 682 ..., 159 159 159]\n",
      "[332 333 334 ..., 504 505 506]"
     ]
    },
    {
     "name": "stderr",
     "output_type": "stream",
     "text": [
      "\r",
      " 51%|█████     | 646/1261 [03:10<02:50,  3.61it/s]"
     ]
    },
    {
     "name": "stdout",
     "output_type": "stream",
     "text": [
      "\n",
      "[640 640 640 ...,  79  79  79]\n",
      "[ 962  963  964 ..., 1089 1090 1091]\n",
      "[708 708 708 ..., 239 239 239]\n",
      "[333 334 335 ..., 499 500 501]"
     ]
    },
    {
     "name": "stderr",
     "output_type": "stream",
     "text": [
      "\r",
      " 51%|█████▏    | 647/1261 [03:10<02:46,  3.69it/s]"
     ]
    },
    {
     "name": "stdout",
     "output_type": "stream",
     "text": [
      "\n",
      "[640 640 640 ...,  79  79  79]\n",
      "[ 986  987  988 ..., 1093 1094 1095]\n",
      "[560 560 560 ..., 239 239 239]\n",
      "[335 336 337 ..., 499 500 501]"
     ]
    },
    {
     "name": "stderr",
     "output_type": "stream",
     "text": [
      "\r",
      " 51%|█████▏    | 648/1261 [03:10<02:47,  3.67it/s]"
     ]
    },
    {
     "name": "stdout",
     "output_type": "stream",
     "text": [
      "\n",
      "[640 640 640 ...,  79  79  79]\n",
      "[ 971  972  973 ..., 1158 1159 1160]\n",
      "[640 640 640 ...,  22  22  22]\n",
      "[336 337 338 ..., 499 500 501]"
     ]
    },
    {
     "name": "stderr",
     "output_type": "stream",
     "text": [
      "\r",
      " 51%|█████▏    | 649/1261 [03:11<02:49,  3.61it/s]"
     ]
    },
    {
     "name": "stdout",
     "output_type": "stream",
     "text": [
      "\n",
      "[640 640 640 ...,  79  79  79]\n",
      "[ 971  972  973 ..., 1149 1150 1151]\n",
      "[640 640 640 ...,  43  43  43]\n",
      "[335 336 337 ..., 488 489 490]"
     ]
    },
    {
     "name": "stderr",
     "output_type": "stream",
     "text": [
      "\r",
      " 52%|█████▏    | 650/1261 [03:11<02:48,  3.63it/s]"
     ]
    },
    {
     "name": "stdout",
     "output_type": "stream",
     "text": [
      "\n",
      "[640 640 640 ...,  79  79  79]\n",
      "[ 971  972  973 ..., 1141 1142 1143]\n",
      "[640 640 640 ...,  63  63  63]\n",
      "[336 337 338 ..., 488 489 490]"
     ]
    },
    {
     "name": "stderr",
     "output_type": "stream",
     "text": [
      "\r",
      " 52%|█████▏    | 651/1261 [03:11<02:53,  3.52it/s]"
     ]
    },
    {
     "name": "stdout",
     "output_type": "stream",
     "text": [
      "\n",
      "[640 640 640 ...,  79  79  79]\n",
      "[ 971  972  973 ..., 1135 1136 1137]\n",
      "[640 640 640 ...,  79  79  79]\n",
      "[336 337 338 ..., 488 489 490]"
     ]
    },
    {
     "name": "stderr",
     "output_type": "stream",
     "text": [
      "\r",
      " 52%|█████▏    | 652/1261 [03:11<02:51,  3.54it/s]"
     ]
    },
    {
     "name": "stdout",
     "output_type": "stream",
     "text": [
      "\n",
      "[640 640 640 ...,  79  79  79]\n",
      "[ 980  981  982 ..., 1145 1146 1147]\n",
      "[659 659 659 ...,  79  79  79]\n",
      "[339 340 341 ..., 494 495 496]"
     ]
    },
    {
     "name": "stderr",
     "output_type": "stream",
     "text": [
      "\r",
      " 52%|█████▏    | 653/1261 [03:12<02:49,  3.60it/s]"
     ]
    },
    {
     "name": "stdout",
     "output_type": "stream",
     "text": [
      "\n",
      "[640 640 640 ...,  79  79  79]\n",
      "[ 981  982  971 ..., 1140 1141 1142]\n",
      "[684 684 685 ...,  79  79  79]\n",
      "[345 346 347 ..., 499 500 501]"
     ]
    },
    {
     "name": "stderr",
     "output_type": "stream",
     "text": [
      "\r",
      " 52%|█████▏    | 654/1261 [03:12<02:46,  3.65it/s]"
     ]
    },
    {
     "name": "stdout",
     "output_type": "stream",
     "text": [
      "\n",
      "[640 640 640 ...,  79  79  79]\n",
      "[ 975  976  977 ..., 1140 1141 1142]\n",
      "[710 710 710 ...,  79  79  79]\n",
      "[345 346 347 ..., 499 500 501]"
     ]
    },
    {
     "name": "stderr",
     "output_type": "stream",
     "text": [
      "\r",
      " 52%|█████▏    | 655/1261 [03:12<02:43,  3.70it/s]"
     ]
    },
    {
     "name": "stdout",
     "output_type": "stream",
     "text": [
      "\n",
      "[640 640 640 ...,  79  79  79]\n",
      "[ 985  986  987 ..., 1116 1117 1118]\n",
      "[621 621 621 ..., 159 159 159]\n",
      "[345 346 347 ..., 499 500 501]"
     ]
    },
    {
     "name": "stderr",
     "output_type": "stream",
     "text": [
      "\r",
      " 52%|█████▏    | 656/1261 [03:12<02:42,  3.71it/s]"
     ]
    },
    {
     "name": "stdout",
     "output_type": "stream",
     "text": [
      "\n",
      "[640 640 640 ...,  79  79  79]\n",
      "[ 984  985  986 ..., 1116 1117 1118]\n",
      "[646 646 646 ..., 159 159 159]\n",
      "[345 346 347 ..., 499 500 501]"
     ]
    },
    {
     "name": "stderr",
     "output_type": "stream",
     "text": [
      "\r",
      " 52%|█████▏    | 657/1261 [03:13<02:41,  3.74it/s]"
     ]
    },
    {
     "name": "stdout",
     "output_type": "stream",
     "text": [
      "\n",
      "[640 640 640 ...,  79  79  79]\n",
      "[ 992  993  994 ..., 1116 1117 1118]\n",
      "[671 671 671 ..., 159 159 159]\n",
      "[350 351 352 ..., 499 500 501]"
     ]
    },
    {
     "name": "stderr",
     "output_type": "stream",
     "text": [
      "\r",
      " 52%|█████▏    | 658/1261 [03:13<02:40,  3.76it/s]"
     ]
    },
    {
     "name": "stdout",
     "output_type": "stream",
     "text": [
      "\n",
      "[640 640 640 ...,  79  79  79]\n",
      "[ 966  967  968 ..., 1085 1086 1087]\n",
      "[697 697 697 ..., 239 239 239]\n",
      "[346 347 348 ..., 499 500 501]"
     ]
    },
    {
     "name": "stderr",
     "output_type": "stream",
     "text": [
      "\r",
      " 52%|█████▏    | 659/1261 [03:13<02:41,  3.72it/s]"
     ]
    },
    {
     "name": "stdout",
     "output_type": "stream",
     "text": [
      "\n",
      "[640 640 640 ...,  79  79  79]\n",
      "[ 986  987  988 ..., 1089 1090 1091]\n",
      "[560 560 560 ..., 239 239 239]\n",
      "[349 350 351 ..., 499 500 501]"
     ]
    },
    {
     "name": "stderr",
     "output_type": "stream",
     "text": [
      "\r",
      " 52%|█████▏    | 660/1261 [03:14<02:40,  3.75it/s]"
     ]
    },
    {
     "name": "stdout",
     "output_type": "stream",
     "text": [
      "\n",
      "[640 640 640 ...,  79  79  79]\n",
      "[ 984  985  986 ..., 1146 1147 1148]\n",
      "[560 560 560 ...,  22  22  22]\n",
      "[346 347 348 ..., 499 500 501]"
     ]
    },
    {
     "name": "stderr",
     "output_type": "stream",
     "text": [
      "\r",
      " 52%|█████▏    | 661/1261 [03:14<02:39,  3.77it/s]"
     ]
    },
    {
     "name": "stdout",
     "output_type": "stream",
     "text": [
      "\n",
      "[640 640 640 ...,  79  79  79]\n",
      "[ 971  972  973 ..., 1152 1153 1154]\n",
      "[640 640 640 ...,  22  22  22]\n",
      "[345 346 347 ..., 488 489 490]"
     ]
    },
    {
     "name": "stderr",
     "output_type": "stream",
     "text": [
      "\r",
      " 52%|█████▏    | 662/1261 [03:14<02:38,  3.77it/s]"
     ]
    },
    {
     "name": "stdout",
     "output_type": "stream",
     "text": [
      "\n",
      "[640 640 640 ...,  79  79  79]\n",
      "[ 974  975  976 ..., 1143 1144 1145]\n",
      "[640 640 640 ...,  43  43  43]\n",
      "[345 346 347 ..., 488 489 490]"
     ]
    },
    {
     "name": "stderr",
     "output_type": "stream",
     "text": [
      "\r",
      " 53%|█████▎    | 663/1261 [03:14<02:44,  3.63it/s]"
     ]
    },
    {
     "name": "stdout",
     "output_type": "stream",
     "text": [
      "\n",
      "[640 640 640 ...,  79  79  79]\n",
      "[ 975  976  977 ..., 1141 1142 1143]\n",
      "[640 640 640 ...,  63  63  63]\n",
      "[342 343 344 ..., 488 489 490]"
     ]
    },
    {
     "name": "stderr",
     "output_type": "stream",
     "text": [
      "\r",
      " 53%|█████▎    | 664/1261 [03:15<02:42,  3.67it/s]"
     ]
    },
    {
     "name": "stdout",
     "output_type": "stream",
     "text": [
      "\n",
      "[640 640 640 ...,  79  79  79]\n",
      "[ 981  982  983 ..., 1135 1136 1137]\n",
      "[647 647 647 ...,  79  79  79]\n",
      "[344 345 346 ..., 494 495 496]"
     ]
    },
    {
     "name": "stderr",
     "output_type": "stream",
     "text": [
      "\r",
      " 53%|█████▎    | 665/1261 [03:15<02:41,  3.69it/s]"
     ]
    },
    {
     "name": "stdout",
     "output_type": "stream",
     "text": [
      "\n",
      "[640 640 640 ...,  79  79  79]\n",
      "[ 980  981  982 ..., 1140 1141 1142]\n",
      "[672 672 672 ...,  79  79  79]\n",
      "[344 345 346 ..., 488 489 490]"
     ]
    },
    {
     "name": "stderr",
     "output_type": "stream",
     "text": [
      "\r",
      " 53%|█████▎    | 666/1261 [03:15<02:41,  3.69it/s]"
     ]
    },
    {
     "name": "stdout",
     "output_type": "stream",
     "text": [
      "\n",
      "[640 640 640 ...,  79  79  79]\n",
      "[ 975  976  977 ..., 1135 1136 1137]\n",
      "[698 698 698 ...,  79  79  79]\n",
      "[345 346 347 ..., 509 510 511]"
     ]
    },
    {
     "name": "stderr",
     "output_type": "stream",
     "text": [
      "\r",
      " 53%|█████▎    | 667/1261 [03:15<02:39,  3.72it/s]"
     ]
    },
    {
     "name": "stdout",
     "output_type": "stream",
     "text": [
      "\n",
      "[640 640 640 ...,  79  79  79]\n",
      "[1004 1005 1006 ..., 1130 1131 1132]\n",
      "[610 610 610 ...,  79  79  79]\n",
      "[344 345 346 ..., 499 500 501]"
     ]
    },
    {
     "name": "stderr",
     "output_type": "stream",
     "text": [
      "\r",
      " 53%|█████▎    | 668/1261 [03:16<02:39,  3.72it/s]"
     ]
    },
    {
     "name": "stdout",
     "output_type": "stream",
     "text": [
      "\n",
      "[640 640 640 ...,  79  79  79]\n",
      "[ 981  982  983 ..., 1112 1113 1114]\n",
      "[640 640 640 ..., 159 159 159]\n",
      "[344 345 346 ..., 499 500 501]"
     ]
    },
    {
     "name": "stderr",
     "output_type": "stream",
     "text": [
      "\r",
      " 53%|█████▎    | 669/1261 [03:16<02:41,  3.67it/s]"
     ]
    },
    {
     "name": "stdout",
     "output_type": "stream",
     "text": [
      "\n",
      "[640 640 640 ...,  79  79  79]\n",
      "[ 991  992  993 ..., 1112 1113 1114]\n",
      "[660 660 660 ..., 159 159 159]\n",
      "[342 343 344 ..., 494 495 496]"
     ]
    },
    {
     "name": "stderr",
     "output_type": "stream",
     "text": [
      "\r",
      " 53%|█████▎    | 670/1261 [03:16<02:48,  3.51it/s]"
     ]
    },
    {
     "name": "stdout",
     "output_type": "stream",
     "text": [
      "\n",
      "[640 640 640 ...,  79  79  79]\n",
      "[ 979  980  976 ..., 1116 1117 1118]\n",
      "[684 684 685 ..., 159 159 159]\n",
      "[342 343 344 ..., 494 495 496]"
     ]
    },
    {
     "name": "stderr",
     "output_type": "stream",
     "text": [
      "\r",
      " 53%|█████▎    | 671/1261 [03:17<02:46,  3.55it/s]"
     ]
    },
    {
     "name": "stdout",
     "output_type": "stream",
     "text": [
      "\n",
      "[640 640 640 ...,  79  79  79]\n",
      "[ 974  975  976 ..., 1116 1117 1118]\n",
      "[710 710 710 ..., 159 159 159]\n",
      "[345 346 347 ..., 494 495 496]"
     ]
    },
    {
     "name": "stderr",
     "output_type": "stream",
     "text": [
      "\r",
      " 53%|█████▎    | 672/1261 [03:17<02:44,  3.58it/s]"
     ]
    },
    {
     "name": "stdout",
     "output_type": "stream",
     "text": [
      "\n",
      "[640 640 640 ...,  79  79  79]\n",
      "[ 993  994  995 ..., 1089 1090 1091]\n",
      "[560 560 560 ..., 239 239 239]\n",
      "[345 346 347 ..., 494 495 496]"
     ]
    },
    {
     "name": "stderr",
     "output_type": "stream",
     "text": [
      "\r",
      " 53%|█████▎    | 673/1261 [03:17<02:45,  3.56it/s]"
     ]
    },
    {
     "name": "stdout",
     "output_type": "stream",
     "text": [
      "\n",
      "[640 640 640 ...,  79  79  79]\n",
      "[ 980  981  982 ..., 1089 1090 1091]\n",
      "[640 640 640 ..., 239 239 239]\n",
      "[345 346 347 ..., 499 500 501]"
     ]
    },
    {
     "name": "stderr",
     "output_type": "stream",
     "text": [
      "\r",
      " 53%|█████▎    | 674/1261 [03:17<02:45,  3.56it/s]"
     ]
    },
    {
     "name": "stdout",
     "output_type": "stream",
     "text": [
      "\n",
      "[640 640 640 ...,  79  79  79]\n",
      "[ 981  982  983 ..., 1132 1133 1134]\n",
      "[640 640 640 ...,  43  43  43]\n",
      "[345 346 347 ..., 499 500 501]"
     ]
    },
    {
     "name": "stderr",
     "output_type": "stream",
     "text": [
      "\r",
      " 54%|█████▎    | 675/1261 [03:18<02:42,  3.61it/s]"
     ]
    },
    {
     "name": "stdout",
     "output_type": "stream",
     "text": [
      "\n",
      "[640 640 640 ...,  79  79  79]\n",
      "[ 981  982  983 ..., 1130 1131 1132]\n",
      "[640 640 640 ...,  63  63  63]\n",
      "[346 347 348 ..., 499 500 501]"
     ]
    },
    {
     "name": "stderr",
     "output_type": "stream",
     "text": [
      "\r",
      " 54%|█████▎    | 676/1261 [03:18<02:40,  3.64it/s]"
     ]
    },
    {
     "name": "stdout",
     "output_type": "stream",
     "text": [
      "\n",
      "[640 640 640 ...,  79  79  79]\n",
      "[ 981  982  983 ..., 1124 1125 1126]\n",
      "[640 640 640 ...,  79  79  79]\n",
      "[347 348 349 ..., 504 505 506]"
     ]
    },
    {
     "name": "stderr",
     "output_type": "stream",
     "text": [
      "\r",
      " 54%|█████▎    | 677/1261 [03:18<02:41,  3.62it/s]"
     ]
    },
    {
     "name": "stdout",
     "output_type": "stream",
     "text": [
      "\n",
      "[640 640 640 ...,  79  79  79]\n",
      "[ 985  986  982 ..., 1130 1131 1132]\n",
      "[661 661 662 ...,  79  79  79]\n",
      "[347 348 349 ..., 509 510 511]"
     ]
    },
    {
     "name": "stderr",
     "output_type": "stream",
     "text": [
      "\r",
      " 54%|█████▍    | 678/1261 [03:19<02:39,  3.65it/s]"
     ]
    },
    {
     "name": "stdout",
     "output_type": "stream",
     "text": [
      "\n",
      "[640 640 640 ...,  79  79  79]\n",
      "[ 982  983  984 ..., 1135 1136 1137]\n",
      "[686 686 686 ...,  79  79  79]\n",
      "[349 350 351 ..., 504 505 506]"
     ]
    },
    {
     "name": "stderr",
     "output_type": "stream",
     "text": [
      "\r",
      " 54%|█████▍    | 679/1261 [03:19<02:37,  3.70it/s]"
     ]
    },
    {
     "name": "stdout",
     "output_type": "stream",
     "text": [
      "\n",
      "[640 640 640 ...,  79  79  79]\n",
      "[ 996  997  998 ..., 1130 1131 1132]\n",
      "[600 600 600 ...,  79  79  79]\n",
      "[349 350 351 ..., 499 500 501]"
     ]
    },
    {
     "name": "stderr",
     "output_type": "stream",
     "text": [
      "\r",
      " 54%|█████▍    | 680/1261 [03:19<02:39,  3.64it/s]"
     ]
    },
    {
     "name": "stdout",
     "output_type": "stream",
     "text": [
      "\n",
      "[640 640 640 ...,  79  79  79]\n",
      "[ 995  996  997 ..., 1107 1108 1109]\n",
      "[625 625 625 ..., 159 159 159]\n",
      "[350 351 352 ..., 499 500 501]"
     ]
    },
    {
     "name": "stderr",
     "output_type": "stream",
     "text": [
      "\r",
      " 54%|█████▍    | 681/1261 [03:19<02:42,  3.58it/s]"
     ]
    },
    {
     "name": "stdout",
     "output_type": "stream",
     "text": [
      "\n",
      "[640 640 640 ...,  79  79  79]\n",
      "[ 991  992  993 ..., 1107 1108 1109]\n",
      "[651 651 651 ..., 159 159 159]\n",
      "[350 351 352 ..., 494 495 496]"
     ]
    },
    {
     "name": "stderr",
     "output_type": "stream",
     "text": [
      "\r",
      " 54%|█████▍    | 682/1261 [03:20<02:38,  3.64it/s]"
     ]
    },
    {
     "name": "stdout",
     "output_type": "stream",
     "text": [
      "\n",
      "[640 640 640 ...,  79  79  79]\n",
      "[ 984  985  986 ..., 1107 1108 1109]\n",
      "[677 677 677 ..., 159 159 159]\n",
      "[350 351 352 ..., 488 489 490]"
     ]
    },
    {
     "name": "stderr",
     "output_type": "stream",
     "text": [
      "\r",
      " 54%|█████▍    | 683/1261 [03:20<02:38,  3.65it/s]"
     ]
    },
    {
     "name": "stdout",
     "output_type": "stream",
     "text": [
      "\n",
      "[640 640 640 ...,  79  79  79]\n",
      "[ 987  979  980 ..., 1080 1081 1082]\n",
      "[702 703 703 ..., 239 239 239]\n",
      "[351 352 353 ..., 483 484 485]"
     ]
    },
    {
     "name": "stderr",
     "output_type": "stream",
     "text": [
      "\r",
      " 54%|█████▍    | 684/1261 [03:20<02:43,  3.53it/s]"
     ]
    },
    {
     "name": "stdout",
     "output_type": "stream",
     "text": [
      "\n",
      "[640 640 640 ...,  79  79  79]\n",
      "[ 992  993  994 ..., 1085 1086 1087]\n",
      "[560 560 560 ..., 239 239 239]\n",
      "[351 352 353 ..., 478 479 480]"
     ]
    },
    {
     "name": "stderr",
     "output_type": "stream",
     "text": [
      "\r",
      " 54%|█████▍    | 685/1261 [03:20<02:43,  3.52it/s]"
     ]
    },
    {
     "name": "stdout",
     "output_type": "stream",
     "text": [
      "\n",
      "[640 640 640 ...,  79  79  79]\n",
      "[ 979  980  981 ..., 1085 1086 1087]\n",
      "[640 640 640 ..., 239 239 239]\n",
      "[352 353 354 ..., 488 489 490]"
     ]
    },
    {
     "name": "stderr",
     "output_type": "stream",
     "text": [
      "\r",
      " 54%|█████▍    | 686/1261 [03:21<02:39,  3.60it/s]"
     ]
    },
    {
     "name": "stdout",
     "output_type": "stream",
     "text": [
      "\n",
      "[640 640 640 ...,  79  79  79]\n",
      "[ 977  978  979 ..., 1127 1128 1129]\n",
      "[640 640 640 ...,  43  43  43]\n",
      "[352 353 354 ..., 494 495 496]"
     ]
    },
    {
     "name": "stderr",
     "output_type": "stream",
     "text": [
      "\r",
      " 54%|█████▍    | 687/1261 [03:21<02:37,  3.65it/s]"
     ]
    },
    {
     "name": "stdout",
     "output_type": "stream",
     "text": [
      "\n",
      "[640 640 640 ...,  79  79  79]\n",
      "[ 979  980  981 ..., 1125 1126 1127]\n",
      "[640 640 640 ...,  63  63  63]\n",
      "[351 352 353 ..., 488 489 490]"
     ]
    },
    {
     "name": "stderr",
     "output_type": "stream",
     "text": [
      "\r",
      " 55%|█████▍    | 688/1261 [03:21<02:45,  3.46it/s]"
     ]
    },
    {
     "name": "stdout",
     "output_type": "stream",
     "text": [
      "\n",
      "[640 640 640 ...,  79  79  79]\n",
      "[ 979  980  981 ..., 1124 1125 1126]\n",
      "[640 640 640 ...,  79  79  79]\n",
      "[351 352 353 ..., 478 479 480]"
     ]
    },
    {
     "name": "stderr",
     "output_type": "stream",
     "text": [
      "\r",
      " 55%|█████▍    | 689/1261 [03:22<02:41,  3.54it/s]"
     ]
    },
    {
     "name": "stdout",
     "output_type": "stream",
     "text": [
      "\n",
      "[640 640 640 ...,  79  79  79]\n",
      "[ 990  991  992 ..., 1130 1131 1132]\n",
      "[651 651 651 ...,  79  79  79]\n",
      "[350 351 352 ..., 478 479 480]"
     ]
    },
    {
     "name": "stderr",
     "output_type": "stream",
     "text": [
      "\r",
      " 55%|█████▍    | 690/1261 [03:22<02:37,  3.63it/s]"
     ]
    },
    {
     "name": "stdout",
     "output_type": "stream",
     "text": [
      "\n",
      "[640 640 640 ...,  79  79  79]\n",
      "[ 981  982  983 ..., 1135 1136 1137]\n",
      "[677 677 677 ...,  79  79  79]\n",
      "[350 351 352 ..., 473 474 475]"
     ]
    },
    {
     "name": "stderr",
     "output_type": "stream",
     "text": [
      "\r",
      " 55%|█████▍    | 691/1261 [03:22<02:35,  3.67it/s]"
     ]
    },
    {
     "name": "stdout",
     "output_type": "stream",
     "text": [
      "\n",
      "[640 640 640 ...,  79  79  79]\n",
      "[ 977  978  979 ..., 1135 1136 1137]\n",
      "[703 703 703 ...,  79  79  79]\n",
      "[351 352 353 ..., 488 489 490]"
     ]
    },
    {
     "name": "stderr",
     "output_type": "stream",
     "text": [
      "\r",
      " 55%|█████▍    | 692/1261 [03:22<02:36,  3.64it/s]"
     ]
    },
    {
     "name": "stdout",
     "output_type": "stream",
     "text": [
      "\n",
      "[640 640 640 ...,  79  79  79]\n",
      "[1003 1004 1005 ..., 1124 1125 1126]\n",
      "[616 616 616 ...,  79  79  79]\n",
      "[351 352 353 ..., 488 489 490]"
     ]
    },
    {
     "name": "stderr",
     "output_type": "stream",
     "text": [
      "\r",
      " 55%|█████▍    | 693/1261 [03:23<02:38,  3.58it/s]"
     ]
    },
    {
     "name": "stdout",
     "output_type": "stream",
     "text": [
      "\n",
      "[640 640 640 ...,  79  79  79]\n",
      "[ 987  988  989 ..., 1107 1108 1109]\n",
      "[643 643 643 ..., 159 159 159]\n",
      "[350 351 352 ..., 488 489 490]"
     ]
    },
    {
     "name": "stderr",
     "output_type": "stream",
     "text": [
      "\r",
      " 55%|█████▌    | 694/1261 [03:23<02:37,  3.61it/s]"
     ]
    },
    {
     "name": "stdout",
     "output_type": "stream",
     "text": [
      "\n",
      "[640 640 640 ...,  79  79  79]\n",
      "[ 991  992  993 ..., 1107 1108 1109]\n",
      "[668 668 668 ..., 159 159 159]\n",
      "[350 351 352 ..., 488 489 490]"
     ]
    },
    {
     "name": "stderr",
     "output_type": "stream",
     "text": [
      "\r",
      " 55%|█████▌    | 695/1261 [03:23<02:39,  3.55it/s]"
     ]
    },
    {
     "name": "stdout",
     "output_type": "stream",
     "text": [
      "\n",
      "[640 640 640 ...,  79  79  79]\n",
      "[ 975  976  979 ..., 1102 1103 1104]\n",
      "[695 695 695 ..., 159 159 159]\n",
      "[351 352 353 ..., 488 489 490]"
     ]
    },
    {
     "name": "stderr",
     "output_type": "stream",
     "text": [
      "\r",
      " 55%|█████▌    | 696/1261 [03:24<02:40,  3.53it/s]"
     ]
    },
    {
     "name": "stdout",
     "output_type": "stream",
     "text": [
      "\n",
      "[640 640 640 ...,  79  79  79]\n",
      "[ 990  991  992 ..., 1080 1081 1082]\n",
      "[560 560 560 ..., 239 239 239]\n",
      "[351 352 353 ..., 494 495 496]"
     ]
    },
    {
     "name": "stderr",
     "output_type": "stream",
     "text": [
      "\r",
      " 55%|█████▌    | 697/1261 [03:24<02:37,  3.57it/s]"
     ]
    },
    {
     "name": "stdout",
     "output_type": "stream",
     "text": [
      "\n",
      "[640 640 640 ...,  79  79  79]\n",
      "[ 977  978  979 ..., 1076 1077 1078]\n",
      "[640 640 640 ..., 239 239 239]\n",
      "[351 352 353 ..., 499 500 501]"
     ]
    },
    {
     "name": "stderr",
     "output_type": "stream",
     "text": [
      "\r",
      " 55%|█████▌    | 698/1261 [03:24<02:36,  3.59it/s]"
     ]
    },
    {
     "name": "stdout",
     "output_type": "stream",
     "text": [
      "\n",
      "[640 640 640 ...,  79  79  79]\n",
      "[ 977  978  979 ..., 1121 1122 1123]\n",
      "[640 640 640 ...,  43  43  43]\n",
      "[352 353 354 ..., 504 505 506]"
     ]
    },
    {
     "name": "stderr",
     "output_type": "stream",
     "text": [
      "\r",
      " 55%|█████▌    | 699/1261 [03:24<02:34,  3.65it/s]"
     ]
    },
    {
     "name": "stdout",
     "output_type": "stream",
     "text": [
      "\n",
      "[640 640 640 ...,  79  79  79]\n",
      "[ 976  977  978 ..., 1119 1120 1121]\n",
      "[640 640 640 ...,  63  63  63]\n",
      "[352 353 354 ..., 504 505 506]"
     ]
    },
    {
     "name": "stderr",
     "output_type": "stream",
     "text": [
      "\r",
      " 56%|█████▌    | 700/1261 [03:25<02:32,  3.67it/s]"
     ]
    },
    {
     "name": "stdout",
     "output_type": "stream",
     "text": [
      "\n",
      "[640 640 640 ...,  79  79  79]\n",
      "[ 975  976  977 ..., 1114 1115 1116]\n",
      "[640 640 640 ...,  79  79  79]\n",
      "[352 353 354 ..., 515 516 517]"
     ]
    },
    {
     "name": "stderr",
     "output_type": "stream",
     "text": [
      "\r",
      " 56%|█████▌    | 701/1261 [03:25<02:33,  3.64it/s]"
     ]
    },
    {
     "name": "stdout",
     "output_type": "stream",
     "text": [
      "\n",
      "[640 640 640 ...,  79  79  79]\n",
      "[ 975  976  977 ..., 1114 1115 1116]\n",
      "[653 653 653 ...,  79  79  79]\n",
      "[351 352 353 ..., 520 521 522]"
     ]
    },
    {
     "name": "stderr",
     "output_type": "stream",
     "text": [
      "\r",
      " 56%|█████▌    | 702/1261 [03:25<02:32,  3.65it/s]"
     ]
    },
    {
     "name": "stdout",
     "output_type": "stream",
     "text": [
      "\n",
      "[640 640 640 ...,  79  79  79]\n",
      "[ 973  974  971 ..., 1119 1120 1121]\n",
      "[677 677 678 ...,  79  79  79]\n",
      "[350 351 354 ..., 515 516 517]"
     ]
    },
    {
     "name": "stderr",
     "output_type": "stream",
     "text": [
      "\r",
      " 56%|█████▌    | 703/1261 [03:25<02:32,  3.67it/s]"
     ]
    },
    {
     "name": "stdout",
     "output_type": "stream",
     "text": [
      "\n",
      "[640 640 640 ...,  79  79  79]\n",
      "[ 969  970  971 ..., 1119 1120 1121]\n",
      "[703 703 703 ...,  79  79  79]\n",
      "[349 350 351 ..., 509 510 511]"
     ]
    },
    {
     "name": "stderr",
     "output_type": "stream",
     "text": [
      "\r",
      " 56%|█████▌    | 704/1261 [03:26<02:32,  3.65it/s]"
     ]
    },
    {
     "name": "stdout",
     "output_type": "stream",
     "text": [
      "\n",
      "[640 640 640 ...,  79  79  79]\n",
      "[ 990  991  992 ..., 1093 1094 1095]\n",
      "[610 610 610 ..., 159 159 159]\n",
      "[349 350 351 ..., 509 510 511]"
     ]
    },
    {
     "name": "stderr",
     "output_type": "stream",
     "text": [
      "\r",
      " 56%|█████▌    | 705/1261 [03:26<02:32,  3.64it/s]"
     ]
    },
    {
     "name": "stdout",
     "output_type": "stream",
     "text": [
      "\n",
      "[640 640 640 ...,  79  79  79]\n",
      "[ 977  978  979 ..., 1093 1094 1095]\n",
      "[640 640 640 ..., 159 159 159]\n",
      "[347 348 349 ..., 509 510 511]"
     ]
    },
    {
     "name": "stderr",
     "output_type": "stream",
     "text": [
      "\r",
      " 56%|█████▌    | 706/1261 [03:26<02:33,  3.61it/s]"
     ]
    },
    {
     "name": "stdout",
     "output_type": "stream",
     "text": [
      "\n",
      "[640 640 640 ...,  79  79  79]\n",
      "[ 983  984  985 ..., 1093 1094 1095]\n",
      "[662 662 662 ..., 159 159 159]\n",
      "[346 347 348 ..., 504 505 506]"
     ]
    },
    {
     "name": "stderr",
     "output_type": "stream",
     "text": [
      "\r",
      " 56%|█████▌    | 707/1261 [03:27<02:34,  3.58it/s]"
     ]
    },
    {
     "name": "stdout",
     "output_type": "stream",
     "text": [
      "\n",
      "[640 640 640 ...,  79  79  79]\n",
      "[ 981  982  983 ..., 1072 1073 1074]\n",
      "[687 687 687 ..., 239 239 239]\n",
      "[346 347 348 ..., 504 505 506]"
     ]
    },
    {
     "name": "stderr",
     "output_type": "stream",
     "text": [
      "\r",
      " 56%|█████▌    | 708/1261 [03:27<02:33,  3.59it/s]"
     ]
    },
    {
     "name": "stdout",
     "output_type": "stream",
     "text": [
      "\n",
      "[640 640 640 ...,  79  79  79]\n",
      "[ 984  985  986 ..., 1072 1073 1074]\n",
      "[560 560 560 ..., 239 239 239]\n",
      "[346 347 348 ..., 509 510 511]"
     ]
    },
    {
     "name": "stderr",
     "output_type": "stream",
     "text": [
      "\r",
      " 56%|█████▌    | 709/1261 [03:27<02:35,  3.55it/s]"
     ]
    },
    {
     "name": "stdout",
     "output_type": "stream",
     "text": [
      "\n",
      "[640 640 640 ...,  79  79  79]\n",
      "[ 981  982  983 ..., 1129 1130 1131]\n",
      "[560 560 560 ...,  22  22  22]\n",
      "[346 347 348 ..., 494 495 496]"
     ]
    },
    {
     "name": "stderr",
     "output_type": "stream",
     "text": [
      "\r",
      " 56%|█████▋    | 710/1261 [03:27<02:33,  3.58it/s]"
     ]
    },
    {
     "name": "stdout",
     "output_type": "stream",
     "text": [
      "\n",
      "[640 640 640 ...,  79  79  79]\n",
      "[ 972  973  974 ..., 1121 1122 1123]\n",
      "[640 640 640 ...,  43  43  43]\n",
      "[347 348 349 ..., 509 510 511]"
     ]
    },
    {
     "name": "stderr",
     "output_type": "stream",
     "text": [
      "\r",
      " 56%|█████▋    | 711/1261 [03:28<02:30,  3.65it/s]"
     ]
    },
    {
     "name": "stdout",
     "output_type": "stream",
     "text": [
      "\n",
      "[640 640 640 ...,  79  79  79]\n",
      "[ 972  973  974 ..., 1103 1104 1105]\n",
      "[640 640 640 ...,  79  79  79]\n",
      "[346 347 348 ..., 499 500 501]"
     ]
    },
    {
     "name": "stderr",
     "output_type": "stream",
     "text": [
      "\r",
      " 56%|█████▋    | 712/1261 [03:28<02:30,  3.65it/s]"
     ]
    },
    {
     "name": "stdout",
     "output_type": "stream",
     "text": [
      "\n",
      "[640 640 640 ...,  79  79  79]\n",
      "[ 971  972  973 ..., 1114 1115 1116]\n",
      "[640 640 640 ...,  79  79  79]\n",
      "[345 346 347 ..., 494 495 496]"
     ]
    },
    {
     "name": "stderr",
     "output_type": "stream",
     "text": [
      "\r",
      " 57%|█████▋    | 713/1261 [03:28<02:33,  3.57it/s]"
     ]
    },
    {
     "name": "stdout",
     "output_type": "stream",
     "text": [
      "\n",
      "[640 640 640 ...,  79  79  79]\n",
      "[ 984  985  986 ..., 1124 1125 1126]\n",
      "[647 647 647 ...,  79  79  79]\n",
      "[347 348 349 ..., 499 500 501]"
     ]
    },
    {
     "name": "stderr",
     "output_type": "stream",
     "text": [
      "\r",
      " 57%|█████▋    | 714/1261 [03:29<02:31,  3.61it/s]"
     ]
    },
    {
     "name": "stdout",
     "output_type": "stream",
     "text": [
      "\n",
      "[640 640 640 ...,  79  79  79]\n",
      "[ 969  970  973 ..., 1119 1120 1121]\n",
      "[674 674 674 ...,  79  79  79]\n",
      "[350 351 352 ..., 520 521 522]"
     ]
    },
    {
     "name": "stderr",
     "output_type": "stream",
     "text": [
      "\r",
      " 57%|█████▋    | 715/1261 [03:29<02:29,  3.64it/s]"
     ]
    },
    {
     "name": "stdout",
     "output_type": "stream",
     "text": [
      "\n",
      "[640 640 640 ...,  79  79  79]\n",
      "[ 970  971  972 ..., 1119 1120 1121]\n",
      "[700 700 700 ...,  79  79  79]\n",
      "[351 352 353 ..., 509 510 511]"
     ]
    },
    {
     "name": "stderr",
     "output_type": "stream",
     "text": [
      "\r",
      " 57%|█████▋    | 716/1261 [03:29<02:27,  3.70it/s]"
     ]
    },
    {
     "name": "stdout",
     "output_type": "stream",
     "text": [
      "\n",
      "[640 640 640 ...,  79  79  79]\n",
      "[ 982  983  984 ..., 1098 1099 1100]\n",
      "[607 607 607 ..., 159 159 159]\n",
      "[350 351 352 ..., 504 505 506]"
     ]
    },
    {
     "name": "stderr",
     "output_type": "stream",
     "text": [
      "\r",
      " 57%|█████▋    | 717/1261 [03:29<02:32,  3.57it/s]"
     ]
    },
    {
     "name": "stdout",
     "output_type": "stream",
     "text": [
      "\n",
      "[640 640 640 ...,  79  79  79]\n",
      "[ 985  986  987 ..., 1102 1103 1104]\n",
      "[631 631 631 ..., 159 159 159]\n",
      "[354 355 357 ..., 499 500 501]"
     ]
    },
    {
     "name": "stderr",
     "output_type": "stream",
     "text": [
      "\r",
      " 57%|█████▋    | 718/1261 [03:30<02:30,  3.62it/s]"
     ]
    },
    {
     "name": "stdout",
     "output_type": "stream",
     "text": [
      "\n",
      "[640 640 640 ...,  79  79  79]\n",
      "[ 980  981  982 ..., 1112 1113 1114]\n",
      "[657 657 657 ..., 159 159 159]\n",
      "[349 350 351 ..., 504 505 506]"
     ]
    },
    {
     "name": "stderr",
     "output_type": "stream",
     "text": [
      "\r",
      " 57%|█████▋    | 719/1261 [03:30<02:28,  3.66it/s]"
     ]
    },
    {
     "name": "stdout",
     "output_type": "stream",
     "text": [
      "\n",
      "[640 640 640 ...,  79  79  79]\n",
      "[ 977  978  979 ..., 1112 1113 1114]\n",
      "[683 683 683 ..., 159 159 159]\n",
      "[347 348 349 ..., 499 500 501]"
     ]
    },
    {
     "name": "stderr",
     "output_type": "stream",
     "text": [
      "\r",
      " 57%|█████▋    | 720/1261 [03:30<02:26,  3.71it/s]"
     ]
    },
    {
     "name": "stdout",
     "output_type": "stream",
     "text": [
      "\n",
      "[640 640 640 ...,  79  79  79]\n",
      "[ 968  969  974 ..., 1089 1090 1091]\n",
      "[709 709 709 ..., 239 239 239]\n",
      "[349 350 351 ..., 499 500 501]"
     ]
    },
    {
     "name": "stderr",
     "output_type": "stream",
     "text": [
      "\r",
      " 57%|█████▋    | 721/1261 [03:30<02:27,  3.67it/s]"
     ]
    },
    {
     "name": "stdout",
     "output_type": "stream",
     "text": [
      "\n",
      "[640 640 640 ...,  79  79  79]\n",
      "[ 990  991  992 ..., 1093 1094 1095]\n",
      "[560 560 560 ..., 239 239 239]\n",
      "[349 350 351 ..., 499 500 501]"
     ]
    },
    {
     "name": "stderr",
     "output_type": "stream",
     "text": [
      "\r",
      " 57%|█████▋    | 722/1261 [03:31<02:26,  3.68it/s]"
     ]
    },
    {
     "name": "stdout",
     "output_type": "stream",
     "text": [
      "\n",
      "[640 640 640 ...,  79  79  79]\n",
      "[ 979  980  981 ..., 1097 1098 1099]\n",
      "[640 640 640 ..., 239 239 239]\n",
      "[349 350 351 ..., 504 505 506]"
     ]
    },
    {
     "name": "stderr",
     "output_type": "stream",
     "text": [
      "\r",
      " 57%|█████▋    | 723/1261 [03:31<02:25,  3.70it/s]"
     ]
    },
    {
     "name": "stdout",
     "output_type": "stream",
     "text": [
      "\n",
      "[640 640 640 ...,  79  79  79]\n",
      "[ 980  981  982 ..., 1163 1164 1165]\n",
      "[640 640 640 ...,  22  22  22]\n",
      "[350 351 352 ..., 504 505 506]"
     ]
    },
    {
     "name": "stderr",
     "output_type": "stream",
     "text": [
      "\r",
      " 57%|█████▋    | 724/1261 [03:31<02:26,  3.65it/s]"
     ]
    },
    {
     "name": "stdout",
     "output_type": "stream",
     "text": [
      "\n",
      "[640 640 640 ...,  79  79  79]\n",
      "[ 980  981  982 ..., 1160 1161 1162]\n",
      "[640 640 640 ...,  43  43  43]\n",
      "[350 351 352 ..., 499 500 501]"
     ]
    },
    {
     "name": "stderr",
     "output_type": "stream",
     "text": [
      "\r",
      " 57%|█████▋    | 725/1261 [03:32<02:32,  3.51it/s]"
     ]
    },
    {
     "name": "stdout",
     "output_type": "stream",
     "text": [
      "\n",
      "[640 640 640 ...,  79  79  79]\n",
      "[ 982  983  984 ..., 1157 1158 1159]\n",
      "[640 640 640 ...,  63  63  63]\n",
      "[352 353 354 ..., 504 505 506]"
     ]
    },
    {
     "name": "stderr",
     "output_type": "stream",
     "text": [
      "\r",
      " 58%|█████▊    | 726/1261 [03:32<02:31,  3.53it/s]"
     ]
    },
    {
     "name": "stdout",
     "output_type": "stream",
     "text": [
      "\n",
      "[640 640 640 ...,  79  79  79]\n",
      "[ 985  986  987 ..., 1156 1157 1158]\n",
      "[659 659 659 ...,  79  79  79]\n",
      "[352 353 354 ..., 504 505 506]"
     ]
    },
    {
     "name": "stderr",
     "output_type": "stream",
     "text": [
      "\r",
      " 58%|█████▊    | 727/1261 [03:32<02:27,  3.61it/s]"
     ]
    },
    {
     "name": "stdout",
     "output_type": "stream",
     "text": [
      "\n",
      "[640 640 640 ...,  79  79  79]\n",
      "[ 979  980  981 ..., 1166 1167 1168]\n",
      "[686 686 686 ...,  79  79  79]\n",
      "[354 355 360 ..., 520 521 522]"
     ]
    },
    {
     "name": "stderr",
     "output_type": "stream",
     "text": [
      "\r",
      " 58%|█████▊    | 728/1261 [03:32<02:31,  3.51it/s]"
     ]
    },
    {
     "name": "stdout",
     "output_type": "stream",
     "text": [
      "\n",
      "[640 640 640 ...,  79  79  79]\n",
      "[1002 1003 1004 ..., 1161 1162 1163]\n",
      "[599 599 599 ...,  79  79  79]\n",
      "[355 356 357 ..., 520 521 522]"
     ]
    },
    {
     "name": "stderr",
     "output_type": "stream",
     "text": [
      "\r",
      " 58%|█████▊    | 729/1261 [03:33<02:31,  3.51it/s]"
     ]
    },
    {
     "name": "stdout",
     "output_type": "stream",
     "text": [
      "\n",
      "[640 640 640 ...,  79  79  79]\n",
      "[ 999 1000 1001 ..., 1166 1167 1168]\n",
      "[626 626 626 ...,  79  79  79]\n",
      "[359 360 361 ..., 520 521 522]"
     ]
    },
    {
     "name": "stderr",
     "output_type": "stream",
     "text": [
      "\r",
      " 58%|█████▊    | 730/1261 [03:33<02:31,  3.51it/s]"
     ]
    },
    {
     "name": "stdout",
     "output_type": "stream",
     "text": [
      "\n",
      "[640 640 640 ...,  79  79  79]\n",
      "[ 998  999 1000 ..., 1140 1141 1142]\n",
      "[652 652 652 ..., 159 159 159]\n",
      "[365 366 367 ..., 525 526 527]"
     ]
    },
    {
     "name": "stderr",
     "output_type": "stream",
     "text": [
      "\r",
      " 58%|█████▊    | 731/1261 [03:33<02:28,  3.56it/s]"
     ]
    },
    {
     "name": "stdout",
     "output_type": "stream",
     "text": [
      "\n",
      "[640 640 640 ...,  79  79  79]\n",
      "[ 993  994  995 ..., 1140 1141 1142]\n",
      "[679 679 679 ..., 159 159 159]\n",
      "[362 363 364 ..., 530 531 532]"
     ]
    },
    {
     "name": "stderr",
     "output_type": "stream",
     "text": [
      "\r",
      " 58%|█████▊    | 732/1261 [03:33<02:25,  3.63it/s]"
     ]
    },
    {
     "name": "stdout",
     "output_type": "stream",
     "text": [
      "\n",
      "[640 640 640 ...,  79  79  79]\n",
      "[ 978  975  976 ..., 1105 1106 1107]\n",
      "[706 707 707 ..., 239 239 239]\n",
      "[362 363 364 ..., 541 542 543]"
     ]
    },
    {
     "name": "stderr",
     "output_type": "stream",
     "text": [
      "\r",
      " 58%|█████▊    | 733/1261 [03:34<02:24,  3.66it/s]"
     ]
    },
    {
     "name": "stdout",
     "output_type": "stream",
     "text": [
      "\n",
      "[640 640 640 ...,  79  79  79]\n",
      "[ 997  998  999 ..., 1105 1106 1107]\n",
      "[560 560 560 ..., 239 239 239]\n",
      "[365 366 367 ..., 541 542 543]"
     ]
    },
    {
     "name": "stderr",
     "output_type": "stream",
     "text": [
      "\r",
      " 58%|█████▊    | 734/1261 [03:34<02:23,  3.69it/s]"
     ]
    },
    {
     "name": "stdout",
     "output_type": "stream",
     "text": [
      "\n",
      "[640 640 640 ...,  79  79  79]\n",
      "[ 985  986  987 ..., 1169 1170 1171]\n",
      "[640 640 640 ...,  22  22  22]\n",
      "[364 365 366 ..., 541 542 543]"
     ]
    },
    {
     "name": "stderr",
     "output_type": "stream",
     "text": [
      "\r",
      " 58%|█████▊    | 735/1261 [03:34<02:22,  3.69it/s]"
     ]
    },
    {
     "name": "stdout",
     "output_type": "stream",
     "text": [
      "\n",
      "[640 640 640 ...,  79  79  79]\n",
      "[ 985  986  987 ..., 1166 1167 1168]\n",
      "[640 640 640 ...,  43  43  43]\n",
      "[364 365 366 ..., 541 542 543]"
     ]
    },
    {
     "name": "stderr",
     "output_type": "stream",
     "text": [
      "\r",
      " 58%|█████▊    | 736/1261 [03:35<02:20,  3.73it/s]"
     ]
    },
    {
     "name": "stdout",
     "output_type": "stream",
     "text": [
      "\n",
      "[640 640 640 ...,  79  79  79]\n",
      "[ 985  986  987 ..., 1145 1146 1147]\n",
      "[640 640 640 ...,  79  79  79]\n",
      "[364 365 366 ..., 546 547 548]"
     ]
    },
    {
     "name": "stderr",
     "output_type": "stream",
     "text": [
      "\r",
      " 58%|█████▊    | 737/1261 [03:35<02:20,  3.74it/s]"
     ]
    },
    {
     "name": "stdout",
     "output_type": "stream",
     "text": [
      "\n",
      "[640 640 640 ...,  79  79  79]\n",
      "[ 989  990  991 ..., 1161 1162 1163]\n",
      "[640 640 640 ...,  79  79  79]\n",
      "[365 366 367 ..., 546 547 548]"
     ]
    },
    {
     "name": "stderr",
     "output_type": "stream",
     "text": [
      "\r",
      " 59%|█████▊    | 738/1261 [03:35<02:19,  3.74it/s]"
     ]
    },
    {
     "name": "stdout",
     "output_type": "stream",
     "text": [
      "\n",
      "[640 640 640 ...,  79  79  79]\n",
      "[ 987  988  989 ..., 1161 1162 1163]\n",
      "[665 665 665 ...,  79  79  79]\n",
      "[365 366 367 ..., 541 542 543]"
     ]
    },
    {
     "name": "stderr",
     "output_type": "stream",
     "text": [
      "\r",
      " 59%|█████▊    | 739/1261 [03:35<02:23,  3.63it/s]"
     ]
    },
    {
     "name": "stdout",
     "output_type": "stream",
     "text": [
      "\n",
      "[640 640 640 ...,  79  79  79]\n",
      "[ 984  986  987 ..., 1166 1167 1168]\n",
      "[691 691 691 ...,  79  79  79]\n",
      "[369 370 371 ..., 551 552 553]"
     ]
    },
    {
     "name": "stderr",
     "output_type": "stream",
     "text": [
      "\r",
      " 59%|█████▊    | 740/1261 [03:36<02:20,  3.70it/s]"
     ]
    },
    {
     "name": "stdout",
     "output_type": "stream",
     "text": [
      "\n",
      "[640 640 640 ...,  79  79  79]\n",
      "[1019 1020 1021 ..., 1166 1167 1168]\n",
      "[599 599 599 ...,  79  79  79]\n",
      "[368 369 370 ..., 546 547 548]"
     ]
    },
    {
     "name": "stderr",
     "output_type": "stream",
     "text": [
      "\r",
      " 59%|█████▉    | 741/1261 [03:36<02:21,  3.69it/s]"
     ]
    },
    {
     "name": "stdout",
     "output_type": "stream",
     "text": [
      "\n",
      "[640 640 640 ...,  79  79  79]\n",
      "[1007 1008 1009 ..., 1135 1136 1137]\n",
      "[626 626 626 ..., 159 159 159]\n",
      "[370 371 372 ..., 557 558 559]"
     ]
    },
    {
     "name": "stderr",
     "output_type": "stream",
     "text": [
      "\r",
      " 59%|█████▉    | 742/1261 [03:36<02:21,  3.67it/s]"
     ]
    },
    {
     "name": "stdout",
     "output_type": "stream",
     "text": [
      "\n",
      "[640 640 640 ...,  79  79  79]\n",
      "[1005 1006 1007 ..., 1135 1136 1137]\n",
      "[653 653 653 ..., 159 159 159]\n",
      "[371 372 373 ..., 557 558 559]"
     ]
    },
    {
     "name": "stderr",
     "output_type": "stream",
     "text": [
      "\r",
      " 59%|█████▉    | 743/1261 [03:36<02:19,  3.72it/s]"
     ]
    },
    {
     "name": "stdout",
     "output_type": "stream",
     "text": [
      "\n",
      "[640 640 640 ...,  79  79  79]\n",
      "[ 987  988  989 ..., 1135 1136 1137]\n",
      "[679 679 679 ..., 159 159 159]\n",
      "[371 372 373 ..., 557 558 559]"
     ]
    },
    {
     "name": "stderr",
     "output_type": "stream",
     "text": [
      "\r",
      " 59%|█████▉    | 744/1261 [03:37<02:19,  3.70it/s]"
     ]
    },
    {
     "name": "stdout",
     "output_type": "stream",
     "text": [
      "\n",
      "[640 640 640 ...,  79  79  79]\n",
      "[ 981  982  981 ..., 1105 1106 1107]\n",
      "[705 705 706 ..., 239 239 239]\n",
      "[371 372 373 ..., 546 547 548]"
     ]
    },
    {
     "name": "stderr",
     "output_type": "stream",
     "text": [
      "\r",
      " 59%|█████▉    | 745/1261 [03:37<02:18,  3.72it/s]"
     ]
    },
    {
     "name": "stdout",
     "output_type": "stream",
     "text": [
      "\n",
      "[640 640 640 ...,  79  79  79]\n",
      "[1003 1004 1005 ..., 1109 1110 1111]\n",
      "[560 560 560 ..., 239 239 239]\n",
      "[373 374 375 ..., 551 552 553]"
     ]
    },
    {
     "name": "stderr",
     "output_type": "stream",
     "text": [
      "\r",
      " 59%|█████▉    | 746/1261 [03:37<02:20,  3.66it/s]"
     ]
    },
    {
     "name": "stdout",
     "output_type": "stream",
     "text": [
      "\n",
      "[640 640 640 ...,  79  79  79]\n",
      "[ 991  992  993 ..., 1186 1187 1188]\n",
      "[640 640 640 ...,  22  22  22]\n",
      "[376 377 378 ..., 546 547 548]"
     ]
    },
    {
     "name": "stderr",
     "output_type": "stream",
     "text": [
      "\r",
      " 59%|█████▉    | 747/1261 [03:38<02:19,  3.68it/s]"
     ]
    },
    {
     "name": "stdout",
     "output_type": "stream",
     "text": [
      "\n",
      "[640 640 640 ...,  79  79  79]\n",
      "[ 993  994  995 ..., 1182 1183 1184]\n",
      "[640 640 640 ...,  43  43  43]\n",
      "[379 380 381 ..., 551 552 553]"
     ]
    },
    {
     "name": "stderr",
     "output_type": "stream",
     "text": [
      "\r",
      " 59%|█████▉    | 748/1261 [03:38<02:20,  3.64it/s]"
     ]
    },
    {
     "name": "stdout",
     "output_type": "stream",
     "text": [
      "\n",
      "[640 640 640 ...,  79  79  79]\n",
      "[ 994  995  996 ..., 1178 1179 1180]\n",
      "[640 640 640 ...,  63  63  63]\n",
      "[381 382 383 ..., 546 547 548]"
     ]
    },
    {
     "name": "stderr",
     "output_type": "stream",
     "text": [
      "\r",
      " 59%|█████▉    | 749/1261 [03:38<02:23,  3.58it/s]"
     ]
    },
    {
     "name": "stdout",
     "output_type": "stream",
     "text": [
      "\n",
      "[640 640 640 ...,  79  79  79]\n",
      "[ 999 1000 1001 ..., 1177 1178 1179]\n",
      "[640 640 640 ...,  79  79  79]\n",
      "[376 377 378 ..., 546 547 548]"
     ]
    },
    {
     "name": "stderr",
     "output_type": "stream",
     "text": [
      "\r",
      " 59%|█████▉    | 750/1261 [03:38<02:23,  3.56it/s]"
     ]
    },
    {
     "name": "stdout",
     "output_type": "stream",
     "text": [
      "\n",
      "[640 640 640 ...,  79  79  79]\n",
      "[1010 1011 1000 ..., 1187 1188 1189]\n",
      "[664 664 665 ...,  79  79  79]\n",
      "[378 379 381 ..., 551 552 553]"
     ]
    },
    {
     "name": "stderr",
     "output_type": "stream",
     "text": [
      "\r",
      " 60%|█████▉    | 751/1261 [03:39<02:20,  3.62it/s]"
     ]
    },
    {
     "name": "stdout",
     "output_type": "stream",
     "text": [
      "\n",
      "[640 640 640 ...,  79  79  79]\n",
      "[ 993  994  993 ..., 1193 1194 1195]\n",
      "[690 690 691 ...,  79  79  79]\n",
      "[380 381 382 ..., 562 563 564]"
     ]
    },
    {
     "name": "stderr",
     "output_type": "stream",
     "text": [
      "\r",
      " 60%|█████▉    | 752/1261 [03:39<02:19,  3.65it/s]"
     ]
    },
    {
     "name": "stdout",
     "output_type": "stream",
     "text": [
      "\n",
      "[640 640 640 ...,  79  79  79]\n",
      "[1025 1026 1027 ..., 1198 1199 1200]\n",
      "[597 597 597 ...,  79  79  79]\n",
      "[380 381 382 ..., 562 563 564]"
     ]
    },
    {
     "name": "stderr",
     "output_type": "stream",
     "text": [
      "\r",
      " 60%|█████▉    | 753/1261 [03:39<02:19,  3.65it/s]"
     ]
    },
    {
     "name": "stdout",
     "output_type": "stream",
     "text": [
      "\n",
      "[640 640 640 ...,  79  79  79]\n",
      "[1016 1017 1018 ..., 1198 1199 1200]\n",
      "[625 625 625 ...,  79  79  79]\n",
      "[383 384 385 ..., 562 563 564]"
     ]
    },
    {
     "name": "stderr",
     "output_type": "stream",
     "text": [
      "\r",
      " 60%|█████▉    | 754/1261 [03:39<02:17,  3.68it/s]"
     ]
    },
    {
     "name": "stdout",
     "output_type": "stream",
     "text": [
      "\n",
      "[640 640 640 ...,  79  79  79]\n",
      "[1018 1019 1009 ..., 1168 1169 1170]\n",
      "[652 652 653 ..., 159 159 159]\n",
      "[385 386 387 ..., 567 568 569]"
     ]
    },
    {
     "name": "stderr",
     "output_type": "stream",
     "text": [
      "\r",
      " 60%|█████▉    | 755/1261 [03:40<02:16,  3.70it/s]"
     ]
    },
    {
     "name": "stdout",
     "output_type": "stream",
     "text": [
      "\n",
      "[640 640 640 ...,  79  79  79]\n",
      "[1011 1012 1013 ..., 1173 1174 1175]\n",
      "[678 678 678 ..., 159 159 159]\n",
      "[386 387 388 ..., 562 563 564]"
     ]
    },
    {
     "name": "stderr",
     "output_type": "stream",
     "text": [
      "\r",
      " 60%|█████▉    | 756/1261 [03:40<02:16,  3.70it/s]"
     ]
    },
    {
     "name": "stdout",
     "output_type": "stream",
     "text": [
      "\n",
      "[640 640 640 ...,  79  79  79]\n",
      "[ 996  997  998 ..., 1177 1178 1179]\n",
      "[704 704 704 ..., 159 159 159]\n",
      "[392 393 394 ..., 562 563 564]"
     ]
    },
    {
     "name": "stderr",
     "output_type": "stream",
     "text": [
      "\r",
      " 60%|██████    | 757/1261 [03:40<02:21,  3.56it/s]"
     ]
    },
    {
     "name": "stdout",
     "output_type": "stream",
     "text": [
      "\n",
      "[640 640 640 ...,  79  79  79]\n",
      "[1025 1026 1027 ..., 1150 1151 1152]\n",
      "[560 560 560 ..., 239 239 239]\n",
      "[388 389 390 ..., 557 558 559]"
     ]
    },
    {
     "name": "stderr",
     "output_type": "stream",
     "text": [
      "\r",
      " 60%|██████    | 758/1261 [03:41<02:21,  3.56it/s]"
     ]
    },
    {
     "name": "stdout",
     "output_type": "stream",
     "text": [
      "\n",
      "[640 640 640 ...,  79  79  79]\n",
      "[1008 1009 1010 ..., 1155 1156 1157]\n",
      "[640 640 640 ..., 239 239 239]\n",
      "[390 391 392 ..., 551 552 553]"
     ]
    },
    {
     "name": "stderr",
     "output_type": "stream",
     "text": [
      "\r",
      " 60%|██████    | 759/1261 [03:41<02:19,  3.61it/s]"
     ]
    },
    {
     "name": "stdout",
     "output_type": "stream",
     "text": [
      "\n",
      "[640 640 640 ...,  79  79  79]\n",
      "[1010 1011 1012 ..., 1220 1221 1222]\n",
      "[640 640 640 ...,  22  22  22]\n",
      "[394 395 396 ..., 557 558 559]"
     ]
    },
    {
     "name": "stderr",
     "output_type": "stream",
     "text": [
      "\r",
      " 60%|██████    | 760/1261 [03:41<02:16,  3.66it/s]"
     ]
    },
    {
     "name": "stdout",
     "output_type": "stream",
     "text": [
      "\n",
      "[640 640 640 ...,  79  79  79]\n",
      "[1011 1012 1013 ..., 1220 1221 1222]\n",
      "[640 640 640 ...,  43  43  43]\n",
      "[395 396 397 ..., 557 558 559]"
     ]
    },
    {
     "name": "stderr",
     "output_type": "stream",
     "text": [
      "\r",
      " 60%|██████    | 761/1261 [03:41<02:18,  3.61it/s]"
     ]
    },
    {
     "name": "stdout",
     "output_type": "stream",
     "text": [
      "\n",
      "[640 640 640 ...,  79  79  79]\n",
      "[1013 1014 1015 ..., 1203 1204 1205]\n",
      "[640 640 640 ...,  79  79  79]\n",
      "[389 390 391 ..., 546 547 548]"
     ]
    },
    {
     "name": "stderr",
     "output_type": "stream",
     "text": [
      "\r",
      " 60%|██████    | 762/1261 [03:42<02:18,  3.60it/s]"
     ]
    },
    {
     "name": "stdout",
     "output_type": "stream",
     "text": [
      "\n",
      "[640 640 640 ...,  79  79  79]\n",
      "[1014 1015 1016 ..., 1208 1209 1210]\n",
      "[663 663 663 ...,  79  79  79]\n",
      "[390 391 392 ..., 546 547 548]"
     ]
    },
    {
     "name": "stderr",
     "output_type": "stream",
     "text": [
      "\r",
      " 61%|██████    | 763/1261 [03:42<02:16,  3.65it/s]"
     ]
    },
    {
     "name": "stdout",
     "output_type": "stream",
     "text": [
      "\n",
      "[640 640 640 ...,  79  79  79]\n",
      "[1009 1010 1011 ..., 1214 1215 1216]\n",
      "[690 690 690 ...,  79  79  79]\n",
      "[390 391 392 ..., 567 568 569]"
     ]
    },
    {
     "name": "stderr",
     "output_type": "stream",
     "text": [
      "\r",
      " 61%|██████    | 764/1261 [03:42<02:16,  3.65it/s]"
     ]
    },
    {
     "name": "stdout",
     "output_type": "stream",
     "text": [
      "\n",
      "[640 640 640 ...,  79  79  79]\n",
      "[1039 1040 1041 ..., 1219 1220 1221]\n",
      "[597 597 597 ...,  79  79  79]\n",
      "[390 391 392 ..., 557 558 559]"
     ]
    },
    {
     "name": "stderr",
     "output_type": "stream",
     "text": [
      "\r",
      " 61%|██████    | 765/1261 [03:43<02:15,  3.66it/s]"
     ]
    },
    {
     "name": "stdout",
     "output_type": "stream",
     "text": [
      "\n",
      "[640 640 640 ...,  79  79  79]\n",
      "[1032 1033 1034 ..., 1219 1220 1221]\n",
      "[625 625 625 ...,  79  79  79]\n",
      "[392 393 394 ..., 562 563 564]"
     ]
    },
    {
     "name": "stderr",
     "output_type": "stream",
     "text": [
      "\r",
      " 61%|██████    | 766/1261 [03:43<02:14,  3.69it/s]"
     ]
    },
    {
     "name": "stdout",
     "output_type": "stream",
     "text": [
      "\n",
      "[640 640 640 ...,  79  79  79]\n",
      "[1025 1026 1027 ..., 1182 1183 1184]\n",
      "[653 653 653 ..., 159 159 159]\n",
      "[392 393 394 ..., 546 547 548]"
     ]
    },
    {
     "name": "stderr",
     "output_type": "stream",
     "text": [
      "\r",
      " 61%|██████    | 767/1261 [03:43<02:13,  3.70it/s]"
     ]
    },
    {
     "name": "stdout",
     "output_type": "stream",
     "text": [
      "\n",
      "[640 640 640 ...,  79  79  79]\n",
      "[1025 1026 1027 ..., 1182 1183 1184]\n",
      "[679 679 679 ..., 159 159 159]\n",
      "[393 394 395 ..., 562 563 564]"
     ]
    },
    {
     "name": "stderr",
     "output_type": "stream",
     "text": [
      "\r",
      " 61%|██████    | 768/1261 [03:43<02:13,  3.69it/s]"
     ]
    },
    {
     "name": "stdout",
     "output_type": "stream",
     "text": [
      "\n",
      "[640 640 640 ...,  79  79  79]\n",
      "[1009 1010 1014 ..., 1182 1183 1184]\n",
      "[705 705 707 ..., 159 159 159]\n",
      "[395 396 397 ..., 562 563 564]"
     ]
    },
    {
     "name": "stderr",
     "output_type": "stream",
     "text": [
      "\r",
      " 61%|██████    | 769/1261 [03:44<02:13,  3.70it/s]"
     ]
    },
    {
     "name": "stdout",
     "output_type": "stream",
     "text": [
      "\n",
      "[640 640 640 ...,  79  79  79]\n",
      "[1036 1037 1038 ..., 1146 1147 1148]\n",
      "[560 560 560 ..., 239 239 239]\n",
      "[395 396 397 ..., 562 563 564]"
     ]
    },
    {
     "name": "stderr",
     "output_type": "stream",
     "text": [
      "\r",
      " 61%|██████    | 770/1261 [03:44<02:13,  3.67it/s]"
     ]
    },
    {
     "name": "stdout",
     "output_type": "stream",
     "text": [
      "\n",
      "[640 640 640 ...,  79  79  79]\n",
      "[1017 1018 1019 ..., 1209 1210 1211]\n",
      "[640 640 640 ...,  22  22  22]\n",
      "[398 399 400 ..., 562 563 564]"
     ]
    },
    {
     "name": "stderr",
     "output_type": "stream",
     "text": [
      "\r",
      " 61%|██████    | 771/1261 [03:44<02:12,  3.70it/s]"
     ]
    },
    {
     "name": "stdout",
     "output_type": "stream",
     "text": [
      "\n",
      "[640 640 640 ...,  79  79  79]\n",
      "[1020 1021 1022 ..., 1199 1200 1201]\n",
      "[640 640 640 ...,  43  43  43]\n",
      "[394 395 396 ..., 562 563 564]"
     ]
    },
    {
     "name": "stderr",
     "output_type": "stream",
     "text": [
      "\r",
      " 61%|██████    | 772/1261 [03:44<02:13,  3.67it/s]"
     ]
    },
    {
     "name": "stdout",
     "output_type": "stream",
     "text": [
      "\n",
      "[640 640 640 ...,  79  79  79]\n",
      "[1024 1025 1026 ..., 1210 1211 1212]\n",
      "[640 640 640 ...,  43  43  43]\n",
      "[393 394 395 ..., 557 558 559]"
     ]
    },
    {
     "name": "stderr",
     "output_type": "stream",
     "text": [
      "\r",
      " 61%|██████▏   | 773/1261 [03:45<02:12,  3.67it/s]"
     ]
    },
    {
     "name": "stdout",
     "output_type": "stream",
     "text": [
      "\n",
      "[640 640 640 ...,  79  79  79]\n",
      "[1025 1026 1027 ..., 1205 1206 1207]\n",
      "[640 640 640 ...,  63  63  63]\n",
      "[392 393 394 ..., 551 552 553]"
     ]
    },
    {
     "name": "stderr",
     "output_type": "stream",
     "text": [
      "\r",
      " 61%|██████▏   | 774/1261 [03:45<02:13,  3.66it/s]"
     ]
    },
    {
     "name": "stdout",
     "output_type": "stream",
     "text": [
      "\n",
      "[640 640 640 ...,  79  79  79]\n",
      "[1031 1032 1028 ..., 1203 1204 1205]\n",
      "[659 659 660 ...,  79  79  79]\n",
      "[390 391 392 ..., 551 552 553]"
     ]
    },
    {
     "name": "stderr",
     "output_type": "stream",
     "text": [
      "\r",
      " 61%|██████▏   | 775/1261 [03:45<02:11,  3.70it/s]"
     ]
    },
    {
     "name": "stdout",
     "output_type": "stream",
     "text": [
      "\n",
      "[640 640 640 ...,  79  79  79]\n",
      "[1024 1025 1026 ..., 1208 1209 1210]\n",
      "[686 686 686 ...,  79  79  79]\n",
      "[392 393 394 ..., 557 558 559]"
     ]
    },
    {
     "name": "stderr",
     "output_type": "stream",
     "text": [
      "\r",
      " 62%|██████▏   | 776/1261 [03:45<02:10,  3.71it/s]"
     ]
    },
    {
     "name": "stdout",
     "output_type": "stream",
     "text": [
      "\n",
      "[640 640 640 ...,  79  79  79]\n",
      "[1044 1045 1046 ..., 1198 1199 1200]\n",
      "[600 600 600 ...,  79  79  79]\n",
      "[395 396 397 ..., 562 563 564]"
     ]
    },
    {
     "name": "stderr",
     "output_type": "stream",
     "text": [
      "\r",
      " 62%|██████▏   | 777/1261 [03:46<02:11,  3.67it/s]"
     ]
    },
    {
     "name": "stdout",
     "output_type": "stream",
     "text": [
      "\n",
      "[640 640 640 ...,  79  79  79]\n",
      "[1045 1046 1047 ..., 1168 1169 1170]\n",
      "[626 626 626 ..., 159 159 159]\n",
      "[393 394 395 ..., 562 563 564]"
     ]
    },
    {
     "name": "stderr",
     "output_type": "stream",
     "text": [
      "\r",
      " 62%|██████▏   | 778/1261 [03:46<02:11,  3.68it/s]"
     ]
    },
    {
     "name": "stdout",
     "output_type": "stream",
     "text": [
      "\n",
      "[640 640 640 ...,  79  79  79]\n",
      "[1032 1033 1034 ..., 1163 1164 1165]\n",
      "[655 655 655 ..., 159 159 159]\n",
      "[392 393 394 ..., 562 563 564]"
     ]
    },
    {
     "name": "stderr",
     "output_type": "stream",
     "text": [
      "\r",
      " 62%|██████▏   | 779/1261 [03:46<02:11,  3.68it/s]"
     ]
    },
    {
     "name": "stdout",
     "output_type": "stream",
     "text": [
      "\n",
      "[640 640 640 ...,  79  79  79]\n",
      "[1034 1035 1036 ..., 1163 1164 1165]\n",
      "[680 680 680 ..., 159 159 159]\n",
      "[393 394 395 ..., 562 563 564]"
     ]
    },
    {
     "name": "stderr",
     "output_type": "stream",
     "text": [
      "\r",
      " 62%|██████▏   | 780/1261 [03:47<02:09,  3.72it/s]"
     ]
    },
    {
     "name": "stdout",
     "output_type": "stream",
     "text": [
      "\n",
      "[640 640 640 ...,  79  79  79]\n",
      "[1020 1018 1030 ..., 1138 1139 1140]\n",
      "[705 706 707 ..., 239 239 239]\n",
      "[392 393 394 ..., 551 552 553]"
     ]
    },
    {
     "name": "stderr",
     "output_type": "stream",
     "text": [
      "\r",
      " 62%|██████▏   | 781/1261 [03:47<02:11,  3.64it/s]"
     ]
    },
    {
     "name": "stdout",
     "output_type": "stream",
     "text": [
      "\n",
      "[640 640 640 ...,  79  79  79]\n",
      "[1039 1040 1041 ..., 1138 1139 1140]\n",
      "[560 560 560 ..., 239 239 239]\n",
      "[397 398 399 ..., 541 542 543]"
     ]
    },
    {
     "name": "stderr",
     "output_type": "stream",
     "text": [
      "\r",
      " 62%|██████▏   | 782/1261 [03:47<02:11,  3.66it/s]"
     ]
    },
    {
     "name": "stdout",
     "output_type": "stream",
     "text": [
      "\n",
      "[640 640 640 ...,  79  79  79]\n",
      "[1028 1029 1030 ..., 1142 1143 1144]\n",
      "[640 640 640 ..., 239 239 239]\n",
      "[390 391 392 ..., 541 542 543]"
     ]
    },
    {
     "name": "stderr",
     "output_type": "stream",
     "text": [
      "\r",
      " 62%|██████▏   | 783/1261 [03:47<02:12,  3.62it/s]"
     ]
    },
    {
     "name": "stdout",
     "output_type": "stream",
     "text": [
      "\n",
      "[640 640 640 ...,  79  79  79]\n",
      "[1027 1028 1029 ..., 1197 1198 1199]\n",
      "[640 640 640 ...,  22  22  22]\n",
      "[392 393 394 ..., 541 542 543]"
     ]
    },
    {
     "name": "stderr",
     "output_type": "stream",
     "text": [
      "\r",
      " 62%|██████▏   | 784/1261 [03:48<02:10,  3.66it/s]"
     ]
    },
    {
     "name": "stdout",
     "output_type": "stream",
     "text": [
      "\n",
      "[640 640 640 ...,  79  79  79]\n",
      "[1027 1028 1029 ..., 1188 1189 1190]\n",
      "[640 640 640 ...,  43  43  43]\n",
      "[390 391 392 ..., 536 537 538]"
     ]
    },
    {
     "name": "stderr",
     "output_type": "stream",
     "text": [
      "\r",
      " 62%|██████▏   | 785/1261 [03:48<02:09,  3.66it/s]"
     ]
    },
    {
     "name": "stdout",
     "output_type": "stream",
     "text": [
      "\n",
      "[640 640 640 ...,  79  79  79]\n",
      "[1028 1029 1030 ..., 1184 1185 1186]\n",
      "[640 640 640 ...,  63  63  63]\n",
      "[389 390 391 ..., 536 537 538]"
     ]
    },
    {
     "name": "stderr",
     "output_type": "stream",
     "text": [
      "\r",
      " 62%|██████▏   | 786/1261 [03:48<02:10,  3.64it/s]"
     ]
    },
    {
     "name": "stdout",
     "output_type": "stream",
     "text": [
      "\n",
      "[640 640 640 ...,  79  79  79]\n",
      "[1032 1033 1034 ..., 1182 1183 1184]\n",
      "[659 659 659 ...,  79  79  79]\n",
      "[392 393 394 ..., 530 531 532]"
     ]
    },
    {
     "name": "stderr",
     "output_type": "stream",
     "text": [
      "\r",
      " 62%|██████▏   | 787/1261 [03:48<02:09,  3.65it/s]"
     ]
    },
    {
     "name": "stdout",
     "output_type": "stream",
     "text": [
      "\n",
      "[640 640 640 ...,  79  79  79]\n",
      "[1025 1026 1027 ..., 1187 1188 1189]\n",
      "[686 686 686 ...,  79  79  79]\n",
      "[390 391 392 ..., 530 531 532]"
     ]
    },
    {
     "name": "stderr",
     "output_type": "stream",
     "text": [
      "\r",
      " 62%|██████▏   | 788/1261 [03:49<02:08,  3.67it/s]"
     ]
    },
    {
     "name": "stdout",
     "output_type": "stream",
     "text": [
      "\n",
      "[640 640 640 ...,  79  79  79]\n",
      "[1044 1045 1046 ..., 1182 1183 1184]\n",
      "[600 600 600 ...,  79  79  79]\n",
      "[392 393 394 ..., 551 552 553]"
     ]
    },
    {
     "name": "stderr",
     "output_type": "stream",
     "text": [
      "\r",
      " 63%|██████▎   | 789/1261 [03:49<02:09,  3.64it/s]"
     ]
    },
    {
     "name": "stdout",
     "output_type": "stream",
     "text": [
      "\n",
      "[640 640 640 ...,  79  79  79]\n",
      "[1042 1043 1044 ..., 1154 1155 1156]\n",
      "[628 628 628 ..., 159 159 159]\n",
      "[394 395 396 ..., 541 542 543]"
     ]
    },
    {
     "name": "stderr",
     "output_type": "stream",
     "text": [
      "\r",
      " 63%|██████▎   | 790/1261 [03:49<02:08,  3.66it/s]"
     ]
    },
    {
     "name": "stdout",
     "output_type": "stream",
     "text": [
      "\n",
      "[640 640 640 ...,  79  79  79]\n",
      "[1033 1034 1035 ..., 1149 1150 1151]\n",
      "[656 656 656 ..., 159 159 159]\n",
      "[395 396 397 ..., 536 537 538]"
     ]
    },
    {
     "name": "stderr",
     "output_type": "stream",
     "text": [
      "\r",
      " 63%|██████▎   | 791/1261 [03:50<02:08,  3.66it/s]"
     ]
    },
    {
     "name": "stdout",
     "output_type": "stream",
     "text": [
      "\n",
      "[640 640 640 ...,  79  79  79]\n",
      "[1029 1030 1031 ..., 1154 1155 1156]\n",
      "[682 682 682 ..., 159 159 159]\n",
      "[393 394 395 ..., 530 531 532]"
     ]
    },
    {
     "name": "stderr",
     "output_type": "stream",
     "text": [
      "\r",
      " 63%|██████▎   | 792/1261 [03:50<02:07,  3.69it/s]"
     ]
    },
    {
     "name": "stdout",
     "output_type": "stream",
     "text": [
      "\n",
      "[640 640 640 ...,  79  79  79]\n",
      "[1032 1033 1034 ..., 1158 1159 1160]\n",
      "[560 560 560 ..., 159 159 159]\n",
      "[394 395 396 ..., 536 537 538]"
     ]
    },
    {
     "name": "stderr",
     "output_type": "stream",
     "text": [
      "\r",
      " 63%|██████▎   | 793/1261 [03:50<02:06,  3.69it/s]"
     ]
    },
    {
     "name": "stdout",
     "output_type": "stream",
     "text": [
      "\n",
      "[640 640 640 ...,  79  79  79]\n",
      "[1030 1031 1032 ..., 1126 1127 1128]\n",
      "[560 560 560 ..., 239 239 239]\n",
      "[393 394 395 ..., 530 531 532]"
     ]
    },
    {
     "name": "stderr",
     "output_type": "stream",
     "text": [
      "\r",
      " 63%|██████▎   | 794/1261 [03:50<02:09,  3.60it/s]"
     ]
    },
    {
     "name": "stdout",
     "output_type": "stream",
     "text": [
      "\n",
      "[640 640 640 ...,  79  79  79]\n",
      "[1019 1020 1021 ..., 1169 1170 1171]\n",
      "[640 640 640 ...,  22  22  22]\n",
      "[394 395 396 ..., 530 531 532]"
     ]
    },
    {
     "name": "stderr",
     "output_type": "stream",
     "text": [
      "\r",
      " 63%|██████▎   | 795/1261 [03:51<02:08,  3.63it/s]"
     ]
    },
    {
     "name": "stdout",
     "output_type": "stream",
     "text": [
      "\n",
      "[640 640 640 ...,  79  79  79]\n",
      "[1017 1018 1019 ..., 1151 1152 1153]\n",
      "[640 640 640 ...,  63  63  63]\n",
      "[395 396 397 ..., 530 531 532]"
     ]
    },
    {
     "name": "stderr",
     "output_type": "stream",
     "text": [
      "\r",
      " 63%|██████▎   | 796/1261 [03:51<02:07,  3.65it/s]"
     ]
    },
    {
     "name": "stdout",
     "output_type": "stream",
     "text": [
      "\n",
      "[640 640 640 ...,  79  79  79]\n",
      "[1015 1016 1017 ..., 1151 1152 1153]\n",
      "[640 640 640 ...,  79  79  79]\n",
      "[394 395 396 ..., 530 531 532]"
     ]
    },
    {
     "name": "stderr",
     "output_type": "stream",
     "text": [
      "\r",
      " 63%|██████▎   | 797/1261 [03:51<02:07,  3.64it/s]"
     ]
    },
    {
     "name": "stdout",
     "output_type": "stream",
     "text": [
      "\n",
      "[640 640 640 ...,  79  79  79]\n",
      "[1020 1021 1022 ..., 1156 1157 1158]\n",
      "[642 642 642 ...,  79  79  79]\n",
      "[397 398 399 ..., 520 521 522]"
     ]
    },
    {
     "name": "stderr",
     "output_type": "stream",
     "text": [
      "\r",
      " 63%|██████▎   | 798/1261 [03:52<02:06,  3.66it/s]"
     ]
    },
    {
     "name": "stdout",
     "output_type": "stream",
     "text": [
      "\n",
      "[640 640 640 ...,  79  79  79]\n",
      "[1016 1017 1018 ..., 1156 1157 1158]\n",
      "[668 668 668 ...,  79  79  79]\n",
      "[394 395 396 ..., 509 510 511]"
     ]
    },
    {
     "name": "stderr",
     "output_type": "stream",
     "text": [
      "\r",
      " 63%|██████▎   | 799/1261 [03:52<02:06,  3.64it/s]"
     ]
    },
    {
     "name": "stdout",
     "output_type": "stream",
     "text": [
      "\n",
      "[640 640 640 ...,  79  79  79]\n",
      "[1017 1018 1019 ..., 1156 1157 1158]\n",
      "[692 692 692 ...,  79  79  79]\n",
      "[399 400 401 ..., 515 516 517]"
     ]
    },
    {
     "name": "stderr",
     "output_type": "stream",
     "text": [
      "\r",
      " 63%|██████▎   | 800/1261 [03:52<02:08,  3.58it/s]"
     ]
    },
    {
     "name": "stdout",
     "output_type": "stream",
     "text": [
      "\n",
      "[640 640 640 ...,  79  79  79]\n",
      "[1030 1031 1032 ..., 1161 1162 1163]\n",
      "[607 607 607 ...,  79  79  79]\n",
      "[390 391 392 ..., 504 505 506]"
     ]
    },
    {
     "name": "stderr",
     "output_type": "stream",
     "text": [
      "\r",
      " 64%|██████▎   | 801/1261 [03:52<02:09,  3.55it/s]"
     ]
    },
    {
     "name": "stdout",
     "output_type": "stream",
     "text": [
      "\n",
      "[640 640 640 ...,  79  79  79]\n",
      "[1030 1031 1032 ..., 1161 1162 1163]\n",
      "[633 633 633 ...,  79  79  79]\n",
      "[389 390 391 ..., 494 495 496]"
     ]
    },
    {
     "name": "stderr",
     "output_type": "stream",
     "text": [
      "\r",
      " 64%|██████▎   | 802/1261 [03:53<02:08,  3.57it/s]"
     ]
    },
    {
     "name": "stdout",
     "output_type": "stream",
     "text": [
      "\n",
      "[640 640 640 ...,  79  79  79]\n",
      "[1035 1036 1037 ..., 1140 1141 1142]\n",
      "[659 659 659 ..., 159 159 159]\n",
      "[388 389 390 ..., 494 495 496]"
     ]
    },
    {
     "name": "stderr",
     "output_type": "stream",
     "text": [
      "\r",
      " 64%|██████▎   | 803/1261 [03:53<02:08,  3.56it/s]"
     ]
    },
    {
     "name": "stdout",
     "output_type": "stream",
     "text": [
      "\n",
      "[640 640 640 ...,  79  79  79]\n",
      "[1016 1017 1018 ..., 1140 1141 1142]\n",
      "[687 687 687 ..., 159 159 159]\n",
      "[393 394 395 ..., 499 500 501]"
     ]
    },
    {
     "name": "stderr",
     "output_type": "stream",
     "text": [
      "\r",
      " 64%|██████▍   | 804/1261 [03:53<02:09,  3.54it/s]"
     ]
    },
    {
     "name": "stdout",
     "output_type": "stream",
     "text": [
      "\n",
      "[640 640 640 ...,  79  79  79]\n",
      "[1023 1024 1025 ..., 1109 1110 1111]\n",
      "[560 560 560 ..., 239 239 239]\n",
      "[392 393 394 ..., 504 505 506]"
     ]
    },
    {
     "name": "stderr",
     "output_type": "stream",
     "text": [
      "\r",
      " 64%|██████▍   | 805/1261 [03:53<02:06,  3.61it/s]"
     ]
    },
    {
     "name": "stdout",
     "output_type": "stream",
     "text": [
      "\n",
      "[640 640 640 ...,  79  79  79]\n",
      "[1017 1018 1019 ..., 1124 1125 1126]\n",
      "[560 560 560 ...,  22  22  22]\n",
      "[392 393 394 ..., 504 505 506]"
     ]
    },
    {
     "name": "stderr",
     "output_type": "stream",
     "text": [
      "\r",
      " 64%|██████▍   | 806/1261 [03:54<02:05,  3.63it/s]"
     ]
    },
    {
     "name": "stdout",
     "output_type": "stream",
     "text": [
      "\n",
      "[640 640 640 ...,  79  79  79]\n",
      "[1009 1010 1011 ..., 1116 1117 1118]\n",
      "[640 640 640 ...,  43  43  43]\n",
      "[394 395 396 ..., 499 500 501]"
     ]
    },
    {
     "name": "stderr",
     "output_type": "stream",
     "text": [
      "\r",
      " 64%|██████▍   | 807/1261 [03:54<02:04,  3.64it/s]"
     ]
    },
    {
     "name": "stdout",
     "output_type": "stream",
     "text": [
      "\n",
      "[640 640 640 ...,  79  79  79]\n",
      "[1009 1010 1011 ..., 1098 1099 1100]\n",
      "[640 640 640 ...,  79  79  79]\n",
      "[393 394 395 ..., 504 505 506]"
     ]
    },
    {
     "name": "stderr",
     "output_type": "stream",
     "text": [
      "\r",
      " 64%|██████▍   | 808/1261 [03:54<02:04,  3.64it/s]"
     ]
    },
    {
     "name": "stdout",
     "output_type": "stream",
     "text": [
      "\n",
      "[640 640 640 ...,  79  79  79]\n",
      "[1008 1009 1010 ..., 1114 1115 1116]\n",
      "[640 640 640 ...,  79  79  79]\n",
      "[392 393 394 ..., 499 500 501]"
     ]
    },
    {
     "name": "stderr",
     "output_type": "stream",
     "text": [
      "\r",
      " 64%|██████▍   | 809/1261 [03:55<02:02,  3.68it/s]"
     ]
    },
    {
     "name": "stdout",
     "output_type": "stream",
     "text": [
      "\n",
      "[640 640 640 ...,  79  79  79]\n",
      "[1023 1024 1025 ..., 1124 1125 1126]\n",
      "[646 646 646 ...,  79  79  79]\n",
      "[389 390 391 ..., 488 489 490]"
     ]
    },
    {
     "name": "stderr",
     "output_type": "stream",
     "text": [
      "\r",
      " 64%|██████▍   | 810/1261 [03:55<02:01,  3.70it/s]"
     ]
    },
    {
     "name": "stdout",
     "output_type": "stream",
     "text": [
      "\n",
      "[640 640 640 ...,  79  79  79]\n",
      "[1022 1023 1017 ..., 1130 1131 1132]\n",
      "[672 672 673 ...,  79  79  79]\n",
      "[389 390 391 ..., 488 489 490]"
     ]
    },
    {
     "name": "stderr",
     "output_type": "stream",
     "text": [
      "\r",
      " 64%|██████▍   | 811/1261 [03:55<02:01,  3.71it/s]"
     ]
    },
    {
     "name": "stdout",
     "output_type": "stream",
     "text": [
      "\n",
      "[640 640 640 ...,  79  79  79]\n",
      "[1016 1017 1018 ..., 1130 1131 1132]\n",
      "[699 699 699 ...,  79  79  79]\n",
      "[384 385 386 ..., 478 479 480]"
     ]
    },
    {
     "name": "stderr",
     "output_type": "stream",
     "text": [
      "\r",
      " 64%|██████▍   | 812/1261 [03:55<02:00,  3.72it/s]"
     ]
    },
    {
     "name": "stdout",
     "output_type": "stream",
     "text": [
      "\n",
      "[640 640 640 ...,  79  79  79]\n",
      "[1035 1036 1037 ..., 1135 1136 1137]\n",
      "[607 607 607 ...,  79  79  79]\n",
      "[381 382 383 ..., 483 484 485]"
     ]
    },
    {
     "name": "stderr",
     "output_type": "stream",
     "text": [
      "\r",
      " 64%|██████▍   | 813/1261 [03:56<02:00,  3.73it/s]"
     ]
    },
    {
     "name": "stdout",
     "output_type": "stream",
     "text": [
      "\n",
      "[640 640 640 ...,  79  79  79]\n",
      "[1018 1019 1020 ..., 1140 1141 1142]\n",
      "[640 640 640 ...,  79  79  79]\n",
      "[378 379 380 ..., 467 468 469]"
     ]
    },
    {
     "name": "stderr",
     "output_type": "stream",
     "text": [
      "\r",
      " 65%|██████▍   | 814/1261 [03:56<02:01,  3.69it/s]"
     ]
    },
    {
     "name": "stdout",
     "output_type": "stream",
     "text": [
      "\n",
      "[640 640 640 ...,  79  79  79]\n",
      "[1019 1020 1016 ..., 1135 1136 1137]\n",
      "[661 661 662 ...,  79  79  79]\n",
      "[375 376 377 ..., 467 468 469]"
     ]
    },
    {
     "name": "stderr",
     "output_type": "stream",
     "text": [
      "\r",
      " 65%|██████▍   | 815/1261 [03:56<02:03,  3.60it/s]"
     ]
    },
    {
     "name": "stdout",
     "output_type": "stream",
     "text": [
      "\n",
      "[640 640 640 ...,  79  79  79]\n",
      "[1011 1012 1013 ..., 1116 1117 1118]\n",
      "[689 689 689 ..., 159 159 159]\n",
      "[375 376 377 ..., 473 474 475]"
     ]
    },
    {
     "name": "stderr",
     "output_type": "stream",
     "text": [
      "\r",
      " 65%|██████▍   | 816/1261 [03:56<02:01,  3.65it/s]"
     ]
    },
    {
     "name": "stdout",
     "output_type": "stream",
     "text": [
      "\n",
      "[640 640 640 ...,  79  79  79]\n",
      "[1017 1018 1019 ..., 1085 1086 1087]\n",
      "[560 560 560 ..., 239 239 239]\n",
      "[376 377 378 ..., 483 484 485]"
     ]
    },
    {
     "name": "stderr",
     "output_type": "stream",
     "text": [
      "\r",
      " 65%|██████▍   | 817/1261 [03:57<02:00,  3.69it/s]"
     ]
    },
    {
     "name": "stdout",
     "output_type": "stream",
     "text": [
      "\n",
      "[640 640 640 ...,  79  79  79]\n",
      "[1003 1004 1005 ..., 1107 1108 1109]\n",
      "[640 640 640 ...,  22  22  22]\n",
      "[376 377 378 ..., 488 489 490]"
     ]
    },
    {
     "name": "stderr",
     "output_type": "stream",
     "text": [
      "\r",
      " 65%|██████▍   | 818/1261 [03:57<02:02,  3.61it/s]"
     ]
    },
    {
     "name": "stdout",
     "output_type": "stream",
     "text": [
      "\n",
      "[640 640 640 ...,  79  79  79]\n",
      "[1004 1005 1006 ..., 1105 1106 1107]\n",
      "[640 640 640 ...,  43  43  43]\n",
      "[375 376 377 ..., 478 479 480]"
     ]
    },
    {
     "name": "stderr",
     "output_type": "stream",
     "text": [
      "\r",
      " 65%|██████▍   | 819/1261 [03:57<02:03,  3.57it/s]"
     ]
    },
    {
     "name": "stdout",
     "output_type": "stream",
     "text": [
      "\n",
      "[640 640 640 ...,  79  79  79]\n",
      "[1004 1005 1006 ..., 1098 1099 1100]\n",
      "[640 640 640 ...,  63  63  63]\n",
      "[373 374 375 ..., 478 479 480]"
     ]
    },
    {
     "name": "stderr",
     "output_type": "stream",
     "text": [
      "\r",
      " 65%|██████▌   | 820/1261 [03:58<02:00,  3.65it/s]"
     ]
    },
    {
     "name": "stdout",
     "output_type": "stream",
     "text": [
      "\n",
      "[640 640 640 ...,  79  79  79]\n",
      "[1004 1005 1006 ..., 1098 1099 1100]\n",
      "[640 640 640 ...,  79  79  79]\n",
      "[370 371 372 ..., 467 468 469]"
     ]
    },
    {
     "name": "stderr",
     "output_type": "stream",
     "text": [
      "\r",
      " 65%|██████▌   | 821/1261 [03:58<01:58,  3.70it/s]"
     ]
    },
    {
     "name": "stdout",
     "output_type": "stream",
     "text": [
      "\n",
      "[640 640 640 ...,  79  79  79]\n",
      "[1014 1015 1016 ..., 1114 1115 1116]\n",
      "[654 654 654 ...,  79  79  79]\n",
      "[365 366 367 ..., 457 458 459]"
     ]
    },
    {
     "name": "stderr",
     "output_type": "stream",
     "text": [
      "\r",
      " 65%|██████▌   | 822/1261 [03:58<01:58,  3.71it/s]"
     ]
    },
    {
     "name": "stdout",
     "output_type": "stream",
     "text": [
      "\n",
      "[640 640 640 ...,  79  79  79]\n",
      "[1014 1015 1016 ..., 1124 1125 1126]\n",
      "[680 680 680 ...,  79  79  79]\n",
      "[362 363 364 ..., 457 458 459]"
     ]
    },
    {
     "name": "stderr",
     "output_type": "stream",
     "text": [
      "\r",
      " 65%|██████▌   | 823/1261 [03:58<01:59,  3.68it/s]"
     ]
    },
    {
     "name": "stdout",
     "output_type": "stream",
     "text": [
      "\n",
      "[640 640 640 ...,  79  79  79]\n",
      "[ 998  999 1000 ..., 1130 1131 1132]\n",
      "[707 707 707 ...,  79  79  79]\n",
      "[360 361 362 ..., 478 479 480]"
     ]
    },
    {
     "name": "stderr",
     "output_type": "stream",
     "text": [
      "\r",
      " 65%|██████▌   | 824/1261 [03:59<01:57,  3.71it/s]"
     ]
    },
    {
     "name": "stdout",
     "output_type": "stream",
     "text": [
      "\n",
      "[640 640 640 ...,  79  79  79]\n",
      "[1017 1018 1019 ..., 1130 1131 1132]\n",
      "[613 613 613 ...,  79  79  79]\n",
      "[359 360 361 ..., 462 463 464]"
     ]
    },
    {
     "name": "stderr",
     "output_type": "stream",
     "text": [
      "\r",
      " 65%|██████▌   | 825/1261 [03:59<01:56,  3.74it/s]"
     ]
    },
    {
     "name": "stdout",
     "output_type": "stream",
     "text": [
      "\n",
      "[640 640 640 ...,  79  79  79]\n",
      "[1015 1016 1017 ..., 1130 1131 1132]\n",
      "[642 642 642 ...,  79  79  79]\n",
      "[359 360 361 ..., 457 458 459]"
     ]
    },
    {
     "name": "stderr",
     "output_type": "stream",
     "text": [
      "\r",
      " 66%|██████▌   | 826/1261 [03:59<01:58,  3.67it/s]"
     ]
    },
    {
     "name": "stdout",
     "output_type": "stream",
     "text": [
      "\n",
      "[640 640 640 ...,  79  79  79]\n",
      "[ 994  995  992 ..., 1102 1103 1104]\n",
      "[669 669 670 ..., 159 159 159]\n",
      "[357 358 359 ..., 467 468 469]"
     ]
    },
    {
     "name": "stderr",
     "output_type": "stream",
     "text": [
      "\r",
      " 66%|██████▌   | 827/1261 [03:59<01:59,  3.64it/s]"
     ]
    },
    {
     "name": "stdout",
     "output_type": "stream",
     "text": [
      "\n",
      "[640 640 640 ...,  79  79  79]\n",
      "[ 988  989  988 ..., 1102 1103 1104]\n",
      "[696 696 697 ..., 159 159 159]\n",
      "[357 358 359 ..., 467 468 469]"
     ]
    },
    {
     "name": "stderr",
     "output_type": "stream",
     "text": [
      "\r",
      " 66%|██████▌   | 828/1261 [04:00<01:58,  3.64it/s]"
     ]
    },
    {
     "name": "stdout",
     "output_type": "stream",
     "text": [
      "\n",
      "[640 640 640 ...,  79  79  79]\n",
      "[ 992  993  994 ..., 1080 1081 1082]\n",
      "[560 560 560 ..., 239 239 239]\n",
      "[357 358 359 ..., 467 468 469]"
     ]
    },
    {
     "name": "stderr",
     "output_type": "stream",
     "text": [
      "\r",
      " 66%|██████▌   | 829/1261 [04:00<01:57,  3.67it/s]"
     ]
    },
    {
     "name": "stdout",
     "output_type": "stream",
     "text": [
      "\n",
      "[640 640 640 ...,  79  79  79]\n",
      "[ 984  985  986 ..., 1076 1077 1078]\n",
      "[640 640 640 ..., 239 239 239]\n",
      "[357 358 359 ..., 462 463 464]"
     ]
    },
    {
     "name": "stderr",
     "output_type": "stream",
     "text": [
      "\r",
      " 66%|██████▌   | 830/1261 [04:00<01:58,  3.62it/s]"
     ]
    },
    {
     "name": "stdout",
     "output_type": "stream",
     "text": [
      "\n",
      "[640 640 640 ...,  79  79  79]\n",
      "[ 981  982  983 ..., 1076 1077 1078]\n",
      "[640 640 640 ..., 239 239 239]\n",
      "[357 358 359 ..., 467 468 469]"
     ]
    },
    {
     "name": "stderr",
     "output_type": "stream",
     "text": [
      "\r",
      " 66%|██████▌   | 831/1261 [04:01<01:57,  3.65it/s]"
     ]
    },
    {
     "name": "stdout",
     "output_type": "stream",
     "text": [
      "\n",
      "[640 640 640 ...,  79  79  79]\n",
      "[ 981  982  983 ..., 1121 1122 1123]\n",
      "[640 640 640 ...,  43  43  43]\n",
      "[356 357 358 ..., 457 458 459]"
     ]
    },
    {
     "name": "stderr",
     "output_type": "stream",
     "text": [
      "\r",
      " 66%|██████▌   | 832/1261 [04:01<01:55,  3.70it/s]"
     ]
    },
    {
     "name": "stdout",
     "output_type": "stream",
     "text": [
      "\n",
      "[640 640 640 ...,  79  79  79]\n",
      "[ 981  982  983 ..., 1119 1120 1121]\n",
      "[640 640 640 ...,  63  63  63]\n",
      "[356 357 358 ..., 457 458 459]"
     ]
    },
    {
     "name": "stderr",
     "output_type": "stream",
     "text": [
      "\r",
      " 66%|██████▌   | 833/1261 [04:01<01:54,  3.73it/s]"
     ]
    },
    {
     "name": "stdout",
     "output_type": "stream",
     "text": [
      "\n",
      "[640 640 640 ...,  79  79  79]\n",
      "[ 983  984  992 ..., 1124 1125 1126]\n",
      "[662 662 662 ...,  79  79  79]\n",
      "[352 353 354 ..., 446 447 448]"
     ]
    },
    {
     "name": "stderr",
     "output_type": "stream",
     "text": [
      "\r",
      " 66%|██████▌   | 834/1261 [04:01<01:57,  3.64it/s]"
     ]
    },
    {
     "name": "stdout",
     "output_type": "stream",
     "text": [
      "\n",
      "[640 640 640 ...,  79  79  79]\n",
      "[ 980  981  979 ..., 1135 1136 1137]\n",
      "[687 687 689 ...,  79  79  79]\n",
      "[350 351 352 ..., 446 447 448]"
     ]
    },
    {
     "name": "stderr",
     "output_type": "stream",
     "text": [
      "\r",
      " 66%|██████▌   | 835/1261 [04:02<01:56,  3.66it/s]"
     ]
    },
    {
     "name": "stdout",
     "output_type": "stream",
     "text": [
      "\n",
      "[640 640 640 ...,  79  79  79]\n",
      "[1008 1009 1010 ..., 1135 1136 1137]\n",
      "[592 592 592 ...,  79  79  79]\n",
      "[350 351 352 ..., 457 458 459]"
     ]
    },
    {
     "name": "stderr",
     "output_type": "stream",
     "text": [
      "\r",
      " 66%|██████▋   | 836/1261 [04:02<01:55,  3.68it/s]"
     ]
    },
    {
     "name": "stdout",
     "output_type": "stream",
     "text": [
      "\n",
      "[640 640 640 ...,  79  79  79]\n",
      "[ 997  998  999 ..., 1140 1141 1142]\n",
      "[620 620 620 ...,  79  79  79]\n",
      "[346 347 348 ..., 446 447 448]"
     ]
    },
    {
     "name": "stderr",
     "output_type": "stream",
     "text": [
      "\r",
      " 66%|██████▋   | 837/1261 [04:02<01:57,  3.60it/s]"
     ]
    },
    {
     "name": "stdout",
     "output_type": "stream",
     "text": [
      "\n",
      "[640 640 640 ...,  79  79  79]\n",
      "[1002 1003 1004 ..., 1145 1146 1147]\n",
      "[647 647 647 ...,  79  79  79]\n",
      "[347 348 349 ..., 425 426 427]"
     ]
    },
    {
     "name": "stderr",
     "output_type": "stream",
     "text": [
      "\r",
      " 66%|██████▋   | 838/1261 [04:02<01:57,  3.60it/s]"
     ]
    },
    {
     "name": "stdout",
     "output_type": "stream",
     "text": [
      "\n",
      "[640 640 640 ...,  79  79  79]\n",
      "[ 990  991  992 ..., 1140 1141 1142]\n",
      "[676 676 676 ...,  79  79  79]\n",
      "[342 343 344 ..., 441 442 443]"
     ]
    },
    {
     "name": "stderr",
     "output_type": "stream",
     "text": [
      "\r",
      " 67%|██████▋   | 839/1261 [04:03<01:57,  3.60it/s]"
     ]
    },
    {
     "name": "stdout",
     "output_type": "stream",
     "text": [
      "\n",
      "[640 640 640 ...,  79  79  79]\n",
      "[ 974  971  972 ..., 1112 1113 1114]\n",
      "[703 704 704 ..., 159 159 159]\n",
      "[339 340 342 ..., 436 437 438]"
     ]
    },
    {
     "name": "stderr",
     "output_type": "stream",
     "text": [
      "\r",
      " 67%|██████▋   | 840/1261 [04:03<01:58,  3.57it/s]"
     ]
    },
    {
     "name": "stdout",
     "output_type": "stream",
     "text": [
      "\n",
      "[640 640 640 ...,  79  79  79]\n",
      "[ 982  983  984 ..., 1107 1108 1109]\n",
      "[560 560 560 ..., 159 159 159]\n",
      "[339 340 341 ..., 431 432 433]"
     ]
    },
    {
     "name": "stderr",
     "output_type": "stream",
     "text": [
      "\r",
      " 67%|██████▋   | 841/1261 [04:03<01:57,  3.58it/s]"
     ]
    },
    {
     "name": "stdout",
     "output_type": "stream",
     "text": [
      "\n",
      "[640 640 640 ...,  79  79  79]\n",
      "[ 972  973  974 ..., 1085 1086 1087]\n",
      "[640 640 640 ..., 239 239 239]\n",
      "[333 334 335 ..., 425 426 427]"
     ]
    },
    {
     "name": "stderr",
     "output_type": "stream",
     "text": [
      "\r",
      " 67%|██████▋   | 842/1261 [04:04<01:55,  3.63it/s]"
     ]
    },
    {
     "name": "stdout",
     "output_type": "stream",
     "text": [
      "\n",
      "[640 640 640 ...,  79  79  79]\n",
      "[ 972  973  974 ..., 1093 1094 1095]\n",
      "[640 640 640 ..., 239 239 239]\n",
      "[330 331 332 ..., 420 421 422]"
     ]
    },
    {
     "name": "stderr",
     "output_type": "stream",
     "text": [
      "\r",
      " 67%|██████▋   | 843/1261 [04:04<01:55,  3.62it/s]"
     ]
    },
    {
     "name": "stdout",
     "output_type": "stream",
     "text": [
      "\n",
      "[640 640 640 ...,  79  79  79]\n",
      "[ 971  972  973 ..., 1093 1094 1095]\n",
      "[640 640 640 ..., 239 239 239]\n",
      "[328 329 330 ..., 399 400 401]"
     ]
    },
    {
     "name": "stderr",
     "output_type": "stream",
     "text": [
      "\r",
      " 67%|██████▋   | 844/1261 [04:04<01:54,  3.65it/s]"
     ]
    },
    {
     "name": "stdout",
     "output_type": "stream",
     "text": [
      "\n",
      "[640 640 640 ...,  79  79  79]\n",
      "[ 972  973  974 ..., 1070 1071 1072]\n",
      "[640 640 640 ..., 319 319 319]\n",
      "[326 327 328 ..., 399 400 401]"
     ]
    },
    {
     "name": "stderr",
     "output_type": "stream",
     "text": [
      "\r",
      " 67%|██████▋   | 845/1261 [04:04<01:54,  3.63it/s]"
     ]
    },
    {
     "name": "stdout",
     "output_type": "stream",
     "text": [
      "\n",
      "[640 640 640 ...,  79  79  79]\n",
      "[ 986  987  976 ..., 1158 1159 1160]\n",
      "[663 663 664 ...,  22  22  22]\n",
      "[330 331 332 ..., 425 426 427]"
     ]
    },
    {
     "name": "stderr",
     "output_type": "stream",
     "text": [
      "\r",
      " 67%|██████▋   | 846/1261 [04:05<01:54,  3.62it/s]"
     ]
    },
    {
     "name": "stdout",
     "output_type": "stream",
     "text": [
      "\n",
      "[640 640 640 ...,  79  79  79]\n",
      "[ 971  972  973 ..., 1124 1125 1126]\n",
      "[692 692 692 ...,  79  79  79]\n",
      "[323 324 325 ..., 420 421 422]"
     ]
    },
    {
     "name": "stderr",
     "output_type": "stream",
     "text": [
      "\r",
      " 67%|██████▋   | 847/1261 [04:05<01:53,  3.65it/s]"
     ]
    },
    {
     "name": "stdout",
     "output_type": "stream",
     "text": [
      "\n",
      "[640 640 640 ...,  79  79  79]\n",
      "[ 993  994  995 ..., 1140 1141 1142]\n",
      "[600 600 600 ...,  79  79  79]\n",
      "[320 321 322 ..., 425 426 427]"
     ]
    },
    {
     "name": "stderr",
     "output_type": "stream",
     "text": [
      "\r",
      " 67%|██████▋   | 848/1261 [04:05<01:55,  3.58it/s]"
     ]
    },
    {
     "name": "stdout",
     "output_type": "stream",
     "text": [
      "\n",
      "[640 640 640 ...,  79  79  79]\n",
      "[ 987  988  989 ..., 1151 1152 1153]\n",
      "[629 629 629 ...,  79  79  79]\n",
      "[318 319 320 ..., 415 416 417]"
     ]
    },
    {
     "name": "stderr",
     "output_type": "stream",
     "text": [
      "\r",
      " 67%|██████▋   | 849/1261 [04:06<01:53,  3.63it/s]"
     ]
    },
    {
     "name": "stdout",
     "output_type": "stream",
     "text": [
      "\n",
      "[640 640 640 ...,  79  79  79]\n",
      "[ 984  985  986 ..., 1151 1152 1153]\n",
      "[657 657 657 ...,  79  79  79]\n",
      "[317 318 319 ..., 420 421 422]"
     ]
    },
    {
     "name": "stderr",
     "output_type": "stream",
     "text": [
      "\r",
      " 67%|██████▋   | 850/1261 [04:06<01:52,  3.65it/s]"
     ]
    },
    {
     "name": "stdout",
     "output_type": "stream",
     "text": [
      "\n",
      "[640 640 640 ...,  79  79  79]\n",
      "[ 965  966  979 ..., 1151 1152 1153]\n",
      "[686 686 686 ...,  79  79  79]\n",
      "[318 319 320 ..., 425 426 427]"
     ]
    },
    {
     "name": "stderr",
     "output_type": "stream",
     "text": [
      "\r",
      " 67%|██████▋   | 851/1261 [04:06<01:51,  3.68it/s]"
     ]
    },
    {
     "name": "stdout",
     "output_type": "stream",
     "text": [
      "\n",
      "[640 640 640 ...,  79  79  79]\n",
      "[ 988  989  990 ..., 1126 1127 1128]\n",
      "[560 560 560 ..., 159 159 159]\n",
      "[317 318 319 ..., 431 432 433]"
     ]
    },
    {
     "name": "stderr",
     "output_type": "stream",
     "text": [
      "\r",
      " 68%|██████▊   | 852/1261 [04:06<01:53,  3.62it/s]"
     ]
    },
    {
     "name": "stdout",
     "output_type": "stream",
     "text": [
      "\n",
      "[640 640 640 ...,  79  79  79]\n",
      "[ 990  991  992 ..., 1130 1131 1132]\n",
      "[560 560 560 ..., 159 159 159]\n",
      "[316 317 318 ..., 441 442 443]"
     ]
    },
    {
     "name": "stderr",
     "output_type": "stream",
     "text": [
      "\r",
      " 68%|██████▊   | 853/1261 [04:07<01:52,  3.64it/s]"
     ]
    },
    {
     "name": "stdout",
     "output_type": "stream",
     "text": [
      "\n",
      "[640 640 640 ...,  79  79  79]\n",
      "[ 974  975  976 ..., 1101 1102 1103]\n",
      "[640 640 640 ..., 239 239 239]\n",
      "[316 317 318 ..., 436 437 438]"
     ]
    },
    {
     "name": "stderr",
     "output_type": "stream",
     "text": [
      "\r",
      " 68%|██████▊   | 854/1261 [04:07<01:53,  3.59it/s]"
     ]
    },
    {
     "name": "stdout",
     "output_type": "stream",
     "text": [
      "\n",
      "[640 640 640 ...,  79  79  79]\n",
      "[ 976  977  978 ..., 1105 1106 1107]\n",
      "[640 640 640 ..., 239 239 239]\n",
      "[315 316 317 ..., 425 426 427]"
     ]
    },
    {
     "name": "stderr",
     "output_type": "stream",
     "text": [
      "\r",
      " 68%|██████▊   | 855/1261 [04:07<01:52,  3.61it/s]"
     ]
    },
    {
     "name": "stdout",
     "output_type": "stream",
     "text": [
      "\n",
      "[640 640 640 ...,  79  79  79]\n",
      "[ 976  977  978 ..., 1109 1110 1111]\n",
      "[640 640 640 ..., 239 239 239]\n",
      "[316 317 318 ..., 436 437 438]"
     ]
    },
    {
     "name": "stderr",
     "output_type": "stream",
     "text": [
      "\r",
      " 68%|██████▊   | 856/1261 [04:07<01:54,  3.54it/s]"
     ]
    },
    {
     "name": "stdout",
     "output_type": "stream",
     "text": [
      "\n",
      "[640 640 640 ...,  79  79  79]\n",
      "[ 982  983  984 ..., 1084 1085 1086]\n",
      "[642 642 642 ..., 319 319 319]\n",
      "[316 317 318 ..., 436 437 438]"
     ]
    },
    {
     "name": "stderr",
     "output_type": "stream",
     "text": [
      "\r",
      " 68%|██████▊   | 857/1261 [04:08<01:52,  3.60it/s]"
     ]
    },
    {
     "name": "stdout",
     "output_type": "stream",
     "text": [
      "\n",
      "[640 640 640 ...,  79  79  79]\n",
      "[ 985  986  987 ..., 1160 1161 1162]\n",
      "[670 670 670 ...,  43  43  43]\n",
      "[316 317 318 ..., 441 442 443]"
     ]
    },
    {
     "name": "stderr",
     "output_type": "stream",
     "text": [
      "\r",
      " 68%|██████▊   | 858/1261 [04:08<01:51,  3.63it/s]"
     ]
    },
    {
     "name": "stdout",
     "output_type": "stream",
     "text": [
      "\n",
      "[640 640 640 ...,  79  79  79]\n",
      "[1115 1116  971 ..., 1151 1152 1153]\n",
      "[668 668 699 ...,  79  79  79]\n",
      "[317 318 319 ..., 441 442 443]"
     ]
    },
    {
     "name": "stderr",
     "output_type": "stream",
     "text": [
      "\r",
      " 68%|██████▊   | 859/1261 [04:08<01:52,  3.58it/s]"
     ]
    },
    {
     "name": "stdout",
     "output_type": "stream",
     "text": [
      "\n",
      "[640 640 640 ...,  79  79  79]\n",
      "[1106 1107 1108 ..., 1151 1152 1153]\n",
      "[696 696 696 ...,  79  79  79]\n",
      "[318 319 320 ..., 446 447 448]"
     ]
    },
    {
     "name": "stderr",
     "output_type": "stream",
     "text": [
      "\r",
      " 68%|██████▊   | 860/1261 [04:09<01:49,  3.65it/s]"
     ]
    },
    {
     "name": "stdout",
     "output_type": "stream",
     "text": [
      "\n",
      "[640 640 640 ...,  79  79  79]\n",
      "[ 979  980  981 ..., 1151 1152 1153]\n",
      "[640 640 640 ...,  79  79  79]\n",
      "[325 326 327 ..., 446 447 448]"
     ]
    },
    {
     "name": "stderr",
     "output_type": "stream",
     "text": [
      "\r",
      " 68%|██████▊   | 861/1261 [04:09<01:48,  3.70it/s]"
     ]
    },
    {
     "name": "stdout",
     "output_type": "stream",
     "text": [
      "\n",
      "[640 640 640 ...,  79  79  79]\n",
      "[ 975  976  973 ..., 1151 1152 1153]\n",
      "[664 664 665 ...,  79  79  79]\n",
      "[320 321 322 ..., 431 432 433]"
     ]
    },
    {
     "name": "stderr",
     "output_type": "stream",
     "text": [
      "\r",
      " 68%|██████▊   | 862/1261 [04:09<01:49,  3.66it/s]"
     ]
    },
    {
     "name": "stdout",
     "output_type": "stream",
     "text": [
      "\n",
      "[640 640 640 ...,  79  79  79]\n",
      "[ 970  971  967 ..., 1126 1127 1128]\n",
      "[692 692 693 ..., 159 159 159]\n",
      "[320 321 325 ..., 425 426 427]"
     ]
    },
    {
     "name": "stderr",
     "output_type": "stream",
     "text": [
      "\r",
      " 68%|██████▊   | 863/1261 [04:09<01:50,  3.62it/s]"
     ]
    },
    {
     "name": "stdout",
     "output_type": "stream",
     "text": [
      "\n",
      "[640 640 640 ...,  79  79  79]\n",
      "[ 990  991  992 ..., 1126 1127 1128]\n",
      "[560 560 560 ..., 159 159 159]\n",
      "[320 321 322 ..., 425 426 427]"
     ]
    },
    {
     "name": "stderr",
     "output_type": "stream",
     "text": [
      "\r",
      " 69%|██████▊   | 864/1261 [04:10<01:48,  3.65it/s]"
     ]
    },
    {
     "name": "stdout",
     "output_type": "stream",
     "text": [
      "\n",
      "[640 640 640 ...,  79  79  79]\n",
      "[ 992  993  994 ..., 1130 1131 1132]\n",
      "[560 560 560 ..., 159 159 159]\n",
      "[317 318 319 ..., 425 426 427]"
     ]
    },
    {
     "name": "stderr",
     "output_type": "stream",
     "text": [
      "\r",
      " 69%|██████▊   | 865/1261 [04:10<01:47,  3.68it/s]"
     ]
    },
    {
     "name": "stdout",
     "output_type": "stream",
     "text": [
      "\n",
      "[640 640 640 ...,  79  79  79]\n",
      "[ 977  978  979 ..., 1109 1110 1111]\n",
      "[640 640 640 ..., 239 239 239]\n",
      "[320 321 322 ..., 425 426 427]"
     ]
    },
    {
     "name": "stderr",
     "output_type": "stream",
     "text": [
      "\r",
      " 69%|██████▊   | 866/1261 [04:10<01:49,  3.62it/s]"
     ]
    },
    {
     "name": "stdout",
     "output_type": "stream",
     "text": [
      "\n",
      "[640 640 640 ...,  79  79  79]\n",
      "[ 976  977  978 ..., 1105 1106 1107]\n",
      "[640 640 640 ..., 239 239 239]\n",
      "[318 319 320 ..., 415 416 417]"
     ]
    },
    {
     "name": "stderr",
     "output_type": "stream",
     "text": [
      "\r",
      " 69%|██████▉   | 867/1261 [04:10<01:48,  3.63it/s]"
     ]
    },
    {
     "name": "stdout",
     "output_type": "stream",
     "text": [
      "\n",
      "[640 640 640 ...,  79  79  79]\n",
      "[ 977  978  979 ..., 1113 1114 1115]\n",
      "[640 640 640 ..., 239 239 239]\n",
      "[318 319 320 ..., 415 416 417]"
     ]
    },
    {
     "name": "stderr",
     "output_type": "stream",
     "text": [
      "\r",
      " 69%|██████▉   | 868/1261 [04:11<01:47,  3.66it/s]"
     ]
    },
    {
     "name": "stdout",
     "output_type": "stream",
     "text": [
      "\n",
      "[640 640 640 ...,  79  79  79]\n",
      "[ 981  982  983 ..., 1084 1085 1086]\n",
      "[649 649 649 ..., 319 319 319]\n",
      "[320 321 325 ..., 420 421 422]"
     ]
    },
    {
     "name": "stderr",
     "output_type": "stream",
     "text": [
      "\r",
      " 69%|██████▉   | 869/1261 [04:11<01:46,  3.69it/s]"
     ]
    },
    {
     "name": "stdout",
     "output_type": "stream",
     "text": [
      "\n",
      "[640 640 640 ...,  79  79  79]\n",
      "[ 976  977  978 ..., 1172 1173 1174]\n",
      "[677 677 677 ...,  22  22  22]\n",
      "[318 319 320 ..., 420 421 422]"
     ]
    },
    {
     "name": "stderr",
     "output_type": "stream",
     "text": [
      "\r",
      " 69%|██████▉   | 870/1261 [04:11<01:48,  3.59it/s]"
     ]
    },
    {
     "name": "stdout",
     "output_type": "stream",
     "text": [
      "\n",
      "[640 640 640 ...,  79  79  79]\n",
      "[ 971  972  973 ..., 1151 1152 1153]\n",
      "[705 705 705 ...,  63  63  63]\n",
      "[320 321 322 ..., 425 426 427]"
     ]
    },
    {
     "name": "stderr",
     "output_type": "stream",
     "text": [
      "\r",
      " 69%|██████▉   | 871/1261 [04:12<01:47,  3.64it/s]"
     ]
    },
    {
     "name": "stdout",
     "output_type": "stream",
     "text": [
      "\n",
      "[640 640 640 ...,  79  79  79]\n",
      "[ 991  992  993 ..., 1172 1173 1174]\n",
      "[616 616 616 ...,  79  79  79]\n",
      "[316 317 320 ..., 415 416 417]"
     ]
    },
    {
     "name": "stderr",
     "output_type": "stream",
     "text": [
      "\r",
      " 69%|██████▉   | 872/1261 [04:12<01:46,  3.64it/s]"
     ]
    },
    {
     "name": "stdout",
     "output_type": "stream",
     "text": [
      "\n",
      "[640 640 640 ...,  79  79  79]\n",
      "[ 987  988  989 ..., 1177 1178 1179]\n",
      "[644 644 644 ...,  79  79  79]\n",
      "[320 321 322 ..., 415 416 417]"
     ]
    },
    {
     "name": "stderr",
     "output_type": "stream",
     "text": [
      "\r",
      " 69%|██████▉   | 873/1261 [04:12<01:45,  3.69it/s]"
     ]
    },
    {
     "name": "stdout",
     "output_type": "stream",
     "text": [
      "\n",
      "[640 640 640 ...,  79  79  79]\n",
      "[ 981  982  983 ..., 1182 1183 1184]\n",
      "[673 673 673 ...,  79  79  79]\n",
      "[317 318 319 ..., 420 421 422]"
     ]
    },
    {
     "name": "stderr",
     "output_type": "stream",
     "text": [
      "\r",
      " 69%|██████▉   | 874/1261 [04:12<01:47,  3.60it/s]"
     ]
    },
    {
     "name": "stdout",
     "output_type": "stream",
     "text": [
      "\n",
      "[640 640 640 ...,  79  79  79]\n",
      "[ 968  969  976 ..., 1187 1188 1189]\n",
      "[699 699 701 ...,  79  79  79]\n",
      "[316 317 318 ..., 415 416 417]"
     ]
    },
    {
     "name": "stderr",
     "output_type": "stream",
     "text": [
      "\r",
      " 69%|██████▉   | 875/1261 [04:13<01:46,  3.62it/s]"
     ]
    },
    {
     "name": "stdout",
     "output_type": "stream",
     "text": [
      "\n",
      "[640 640 640 ...,  79  79  79]\n",
      "[ 997  998  999 ..., 1182 1183 1184]\n",
      "[560 560 560 ...,  79  79  79]\n",
      "[318 319 320 ..., 415 416 417]"
     ]
    },
    {
     "name": "stderr",
     "output_type": "stream",
     "text": [
      "\r",
      " 69%|██████▉   | 876/1261 [04:13<01:44,  3.67it/s]"
     ]
    },
    {
     "name": "stdout",
     "output_type": "stream",
     "text": [
      "\n",
      "[640 640 640 ...,  79  79  79]\n",
      "[ 977  978  979 ..., 1149 1150 1151]\n",
      "[640 640 640 ..., 159 159 159]\n",
      "[318 319 320 ..., 415 416 417]"
     ]
    },
    {
     "name": "stderr",
     "output_type": "stream",
     "text": [
      "\r",
      " 70%|██████▉   | 877/1261 [04:13<01:45,  3.63it/s]"
     ]
    },
    {
     "name": "stdout",
     "output_type": "stream",
     "text": [
      "\n",
      "[640 640 640 ...,  79  79  79]\n",
      "[ 979  980  981 ..., 1154 1155 1156]\n",
      "[640 640 640 ..., 159 159 159]\n",
      "[318 319 320 ..., 415 416 417]"
     ]
    },
    {
     "name": "stderr",
     "output_type": "stream",
     "text": [
      "\r",
      " 70%|██████▉   | 878/1261 [04:13<01:46,  3.60it/s]"
     ]
    },
    {
     "name": "stdout",
     "output_type": "stream",
     "text": [
      "\n",
      "[640 640 640 ...,  79  79  79]\n",
      "[ 980  981  982 ..., 1130 1131 1132]\n",
      "[640 640 640 ..., 239 239 239]\n",
      "[318 319 320 ..., 420 421 422]"
     ]
    },
    {
     "name": "stderr",
     "output_type": "stream",
     "text": [
      "\r",
      " 70%|██████▉   | 879/1261 [04:14<01:45,  3.63it/s]"
     ]
    },
    {
     "name": "stdout",
     "output_type": "stream",
     "text": [
      "\n",
      "[640 640 640 ...,  79  79  79]\n",
      "[ 980  981  982 ..., 1126 1127 1128]\n",
      "[640 640 640 ..., 239 239 239]\n",
      "[318 319 320 ..., 420 421 422]"
     ]
    },
    {
     "name": "stderr",
     "output_type": "stream",
     "text": [
      "\r",
      " 70%|██████▉   | 880/1261 [04:14<01:52,  3.39it/s]"
     ]
    },
    {
     "name": "stdout",
     "output_type": "stream",
     "text": [
      "\n",
      "[640 640 640 ...,  79  79  79]\n",
      "[ 983  984  985 ..., 1098 1099 1100]\n",
      "[657 657 657 ..., 319 319 319]\n",
      "[318 319 320 ..., 431 432 433]"
     ]
    },
    {
     "name": "stderr",
     "output_type": "stream",
     "text": [
      "\r",
      " 70%|██████▉   | 881/1261 [04:14<01:52,  3.37it/s]"
     ]
    },
    {
     "name": "stdout",
     "output_type": "stream",
     "text": [
      "\n",
      "[640 640 640 ...,  79  79  79]\n",
      "[ 982  983  984 ..., 1186 1187 1188]\n",
      "[685 685 685 ...,  22  22  22]\n",
      "[315 316 317 ..., 420 421 422]"
     ]
    },
    {
     "name": "stderr",
     "output_type": "stream",
     "text": [
      "\r",
      " 70%|██████▉   | 882/1261 [04:15<01:50,  3.43it/s]"
     ]
    },
    {
     "name": "stdout",
     "output_type": "stream",
     "text": [
      "\n",
      "[640 640 640 ...,  79  79  79]\n",
      "[1008 1009 1010 ..., 1167 1168 1169]\n",
      "[588 588 588 ...,  43  43  43]\n",
      "[315 316 317 ..., 425 426 427]"
     ]
    },
    {
     "name": "stderr",
     "output_type": "stream",
     "text": [
      "\r",
      " 70%|███████   | 883/1261 [04:15<01:50,  3.43it/s]"
     ]
    },
    {
     "name": "stdout",
     "output_type": "stream",
     "text": [
      "\n",
      "[640 640 640 ...,  79  79  79]\n",
      "[1004 1005 1006 ..., 1172 1173 1174]\n",
      "[619 619 619 ...,  79  79  79]\n",
      "[315 316 317 ..., 431 432 433]"
     ]
    },
    {
     "name": "stderr",
     "output_type": "stream",
     "text": [
      "\r",
      " 70%|███████   | 884/1261 [04:15<01:59,  3.14it/s]"
     ]
    },
    {
     "name": "stdout",
     "output_type": "stream",
     "text": [
      "\n",
      "[640 640 640 ...,  79  79  79]\n",
      "[ 993  994  995 ..., 1172 1173 1174]\n",
      "[649 649 649 ...,  79  79  79]\n",
      "[316 317 318 ..., 415 416 417]"
     ]
    },
    {
     "name": "stderr",
     "output_type": "stream",
     "text": [
      "\r",
      " 70%|███████   | 885/1261 [04:16<01:59,  3.15it/s]"
     ]
    },
    {
     "name": "stdout",
     "output_type": "stream",
     "text": [
      "\n",
      "[640 640 640 ...,  79  79  79]\n",
      "[ 976  977  978 ..., 1166 1167 1168]\n",
      "[677 677 677 ...,  79  79  79]\n",
      "[320 321 322 ..., 452 453 454]"
     ]
    },
    {
     "name": "stderr",
     "output_type": "stream",
     "text": [
      "\r",
      " 70%|███████   | 886/1261 [04:16<01:56,  3.22it/s]"
     ]
    },
    {
     "name": "stdout",
     "output_type": "stream",
     "text": [
      "\n",
      "[640 640 640 ...,  79  79  79]\n",
      "[ 969  970  969 ..., 1130 1131 1132]\n",
      "[705 705 706 ..., 159 159 159]\n",
      "[318 319 320 ..., 441 442 443]"
     ]
    },
    {
     "name": "stderr",
     "output_type": "stream",
     "text": [
      "\r",
      " 70%|███████   | 887/1261 [04:16<01:53,  3.28it/s]"
     ]
    },
    {
     "name": "stdout",
     "output_type": "stream",
     "text": [
      "\n",
      "[640 640 640 ...,  79  79  79]\n",
      "[ 997  998  999 ..., 1135 1136 1137]\n",
      "[560 560 560 ..., 159 159 159]\n",
      "[327 328 329 ..., 457 458 459]"
     ]
    },
    {
     "name": "stderr",
     "output_type": "stream",
     "text": [
      "\r",
      " 70%|███████   | 888/1261 [04:17<02:00,  3.09it/s]"
     ]
    },
    {
     "name": "stdout",
     "output_type": "stream",
     "text": [
      "\n",
      "[640 640 640 ...,  79  79  79]\n",
      "[ 977  978  979 ..., 1101 1102 1103]\n",
      "[640 640 640 ..., 239 239 239]\n",
      "[321 322 323 ..., 446 447 448]"
     ]
    },
    {
     "name": "stderr",
     "output_type": "stream",
     "text": [
      "\r",
      " 70%|███████   | 889/1261 [04:17<02:01,  3.05it/s]"
     ]
    },
    {
     "name": "stdout",
     "output_type": "stream",
     "text": [
      "\n",
      "[640 640 640 ...,  79  79  79]\n",
      "[ 977  978  979 ..., 1101 1102 1103]\n",
      "[640 640 640 ..., 239 239 239]\n",
      "[318 319 320 ..., 436 437 438]"
     ]
    },
    {
     "name": "stderr",
     "output_type": "stream",
     "text": [
      "\r",
      " 71%|███████   | 890/1261 [04:17<02:23,  2.59it/s]"
     ]
    },
    {
     "name": "stdout",
     "output_type": "stream",
     "text": [
      "\n",
      "[640 640 640 ...,  79  79  79]\n",
      "[ 980  981  982 ..., 1105 1106 1107]\n",
      "[640 640 640 ..., 239 239 239]\n",
      "[318 319 320 ..., 436 437 438]"
     ]
    },
    {
     "name": "stderr",
     "output_type": "stream",
     "text": [
      "\r",
      " 71%|███████   | 891/1261 [04:18<02:29,  2.48it/s]"
     ]
    },
    {
     "name": "stdout",
     "output_type": "stream",
     "text": [
      "\n",
      "[640 640 640 ...,  79  79  79]\n",
      "[ 981  982  983 ..., 1080 1081 1082]\n",
      "[640 640 640 ..., 319 319 319]\n",
      "[318 319 320 ..., 425 426 427]"
     ]
    },
    {
     "name": "stderr",
     "output_type": "stream",
     "text": [
      "\r",
      " 71%|███████   | 892/1261 [04:18<02:17,  2.69it/s]"
     ]
    },
    {
     "name": "stdout",
     "output_type": "stream",
     "text": [
      "\n",
      "[640 640 640 ...,  79  79  79]\n",
      "[ 984  985  986 ..., 1084 1085 1086]\n",
      "[661 661 661 ..., 319 319 319]\n",
      "[318 319 320 ..., 431 432 433]"
     ]
    },
    {
     "name": "stderr",
     "output_type": "stream",
     "text": [
      "\r",
      " 71%|███████   | 893/1261 [04:19<02:07,  2.88it/s]"
     ]
    },
    {
     "name": "stdout",
     "output_type": "stream",
     "text": [
      "\n",
      "[640 640 640 ...,  79  79  79]\n",
      "[ 979  980  981 ..., 1155 1156 1157]\n",
      "[689 689 689 ...,  43  43  43]\n",
      "[321 322 323 ..., 431 432 433]"
     ]
    },
    {
     "name": "stderr",
     "output_type": "stream",
     "text": [
      "\r",
      " 71%|███████   | 894/1261 [04:19<02:01,  3.02it/s]"
     ]
    },
    {
     "name": "stdout",
     "output_type": "stream",
     "text": [
      "\n",
      "[640 640 640 ...,  79  79  79]\n",
      "[1004 1005 1006 ..., 1151 1152 1153]\n",
      "[597 597 597 ...,  79  79  79]\n",
      "[323 324 325 ..., 441 442 443]"
     ]
    },
    {
     "name": "stderr",
     "output_type": "stream",
     "text": [
      "\r",
      " 71%|███████   | 895/1261 [04:19<01:56,  3.15it/s]"
     ]
    },
    {
     "name": "stdout",
     "output_type": "stream",
     "text": [
      "\n",
      "[640 640 640 ...,  79  79  79]\n",
      "[1000 1001 1002 ..., 1156 1157 1158]\n",
      "[626 626 626 ...,  79  79  79]\n",
      "[328 329 330 ..., 457 458 459]"
     ]
    },
    {
     "name": "stderr",
     "output_type": "stream",
     "text": [
      "\r",
      " 71%|███████   | 896/1261 [04:19<01:54,  3.19it/s]"
     ]
    },
    {
     "name": "stdout",
     "output_type": "stream",
     "text": [
      "\n",
      "[640 640 640 ...,  79  79  79]\n",
      "[ 997  998  999 ..., 1156 1157 1158]\n",
      "[655 655 655 ...,  79  79  79]\n",
      "[331 332 333 ..., 452 453 454]"
     ]
    },
    {
     "name": "stderr",
     "output_type": "stream",
     "text": [
      "\r",
      " 71%|███████   | 897/1261 [04:20<01:51,  3.26it/s]"
     ]
    },
    {
     "name": "stdout",
     "output_type": "stream",
     "text": [
      "\n",
      "[640 640 640 ...,  79  79  79]\n",
      "[ 989  990  991 ..., 1161 1162 1163]\n",
      "[683 683 683 ...,  79  79  79]\n",
      "[332 333 334 ..., 441 442 443]"
     ]
    },
    {
     "name": "stderr",
     "output_type": "stream",
     "text": [
      "\r",
      " 71%|███████   | 898/1261 [04:20<01:51,  3.27it/s]"
     ]
    },
    {
     "name": "stdout",
     "output_type": "stream",
     "text": [
      "\n",
      "[640 640 640 ...,  79  79  79]\n",
      "[ 977  978  976 ..., 1135 1136 1137]\n",
      "[709 709 710 ..., 159 159 159]\n",
      "[332 333 334 ..., 441 442 443]"
     ]
    },
    {
     "name": "stderr",
     "output_type": "stream",
     "text": [
      "\r",
      " 71%|███████▏  | 899/1261 [04:20<01:50,  3.28it/s]"
     ]
    },
    {
     "name": "stdout",
     "output_type": "stream",
     "text": [
      "\n",
      "[640 640 640 ...,  79  79  79]\n",
      "[1001 1002 1003 ..., 1140 1141 1142]\n",
      "[560 560 560 ..., 159 159 159]\n",
      "[333 334 335 ..., 436 437 438]"
     ]
    },
    {
     "name": "stderr",
     "output_type": "stream",
     "text": [
      "\r",
      " 71%|███████▏  | 900/1261 [04:21<01:47,  3.37it/s]"
     ]
    },
    {
     "name": "stdout",
     "output_type": "stream",
     "text": [
      "\n",
      "[640 640 640 ...,  79  79  79]\n",
      "[ 980  981  982 ..., 1105 1106 1107]\n",
      "[640 640 640 ..., 239 239 239]\n",
      "[336 337 338 ..., 457 458 459]"
     ]
    },
    {
     "name": "stderr",
     "output_type": "stream",
     "text": [
      "\r",
      " 71%|███████▏  | 901/1261 [04:21<01:45,  3.42it/s]"
     ]
    },
    {
     "name": "stdout",
     "output_type": "stream",
     "text": [
      "\n",
      "[640 640 640 ...,  79  79  79]\n",
      "[ 980  981  982 ..., 1105 1106 1107]\n",
      "[640 640 640 ..., 239 239 239]\n",
      "[335 336 337 ..., 446 447 448]"
     ]
    },
    {
     "name": "stderr",
     "output_type": "stream",
     "text": [
      "\r",
      " 72%|███████▏  | 902/1261 [04:21<01:44,  3.45it/s]"
     ]
    },
    {
     "name": "stdout",
     "output_type": "stream",
     "text": [
      "\n",
      "[640 640 640 ...,  79  79  79]\n",
      "[ 984  985  986 ..., 1105 1106 1107]\n",
      "[640 640 640 ..., 239 239 239]\n",
      "[337 338 339 ..., 446 447 448]"
     ]
    },
    {
     "name": "stderr",
     "output_type": "stream",
     "text": [
      "\r",
      " 72%|███████▏  | 903/1261 [04:21<01:45,  3.40it/s]"
     ]
    },
    {
     "name": "stdout",
     "output_type": "stream",
     "text": [
      "\n",
      "[640 640 640 ...,  79  79  79]\n",
      "[ 989  990  991 ..., 1084 1085 1086]\n",
      "[640 640 640 ..., 319 319 319]\n",
      "[336 337 338 ..., 436 437 438]"
     ]
    },
    {
     "name": "stderr",
     "output_type": "stream",
     "text": [
      "\r",
      " 72%|███████▏  | 904/1261 [04:22<01:43,  3.44it/s]"
     ]
    },
    {
     "name": "stdout",
     "output_type": "stream",
     "text": [
      "\n",
      "[640 640 640 ...,  79  79  79]\n",
      "[ 989  990  992 ..., 1174 1175 1176]\n",
      "[666 666 666 ...,  22  22  22]\n",
      "[335 336 337 ..., 436 437 438]"
     ]
    },
    {
     "name": "stderr",
     "output_type": "stream",
     "text": [
      "\r",
      " 72%|███████▏  | 905/1261 [04:22<01:42,  3.47it/s]"
     ]
    },
    {
     "name": "stdout",
     "output_type": "stream",
     "text": [
      "\n",
      "[640 640 640 ...,  79  79  79]\n",
      "[ 982  983  984 ..., 1158 1159 1160]\n",
      "[694 694 694 ...,  43  43  43]\n",
      "[335 336 337 ..., 420 421 422]"
     ]
    },
    {
     "name": "stderr",
     "output_type": "stream",
     "text": [
      "\r",
      " 72%|███████▏  | 906/1261 [04:22<01:43,  3.43it/s]"
     ]
    },
    {
     "name": "stdout",
     "output_type": "stream",
     "text": [
      "\n",
      "[640 640 640 ...,  79  79  79]\n",
      "[1008 1009 1010 ..., 1156 1157 1158]\n",
      "[600 600 600 ...,  79  79  79]\n",
      "[336 337 338 ..., 431 432 433]"
     ]
    },
    {
     "name": "stderr",
     "output_type": "stream",
     "text": [
      "\r",
      " 72%|███████▏  | 907/1261 [04:23<01:42,  3.47it/s]"
     ]
    },
    {
     "name": "stdout",
     "output_type": "stream",
     "text": [
      "\n",
      "[640 640 640 ...,  79  79  79]\n",
      "[1002 1003 1004 ..., 1166 1167 1168]\n",
      "[629 629 629 ...,  79  79  79]\n",
      "[333 334 335 ..., 436 437 438]"
     ]
    },
    {
     "name": "stderr",
     "output_type": "stream",
     "text": [
      "\r",
      " 72%|███████▏  | 908/1261 [04:23<01:44,  3.39it/s]"
     ]
    },
    {
     "name": "stdout",
     "output_type": "stream",
     "text": [
      "\n",
      "[640 640 640 ...,  79  79  79]\n",
      "[ 994  995  996 ..., 1161 1162 1163]\n",
      "[659 659 659 ...,  79  79  79]\n",
      "[333 334 335 ..., 441 442 443]"
     ]
    },
    {
     "name": "stderr",
     "output_type": "stream",
     "text": [
      "\r",
      " 72%|███████▏  | 909/1261 [04:23<01:44,  3.38it/s]"
     ]
    },
    {
     "name": "stdout",
     "output_type": "stream",
     "text": [
      "\n",
      "[640 640 640 ...,  79  79  79]\n",
      "[ 978  979  991 ..., 1161 1162 1163]\n",
      "[686 686 687 ...,  79  79  79]\n",
      "[336 337 338 ..., 436 437 438]"
     ]
    },
    {
     "name": "stderr",
     "output_type": "stream",
     "text": [
      "\r",
      " 72%|███████▏  | 910/1261 [04:23<01:42,  3.41it/s]"
     ]
    },
    {
     "name": "stdout",
     "output_type": "stream",
     "text": [
      "\n",
      "[640 640 640 ...,  79  79  79]\n",
      "[ 993  994  995 ..., 1130 1131 1132]\n",
      "[560 560 560 ..., 159 159 159]\n",
      "[335 336 337 ..., 436 437 438]"
     ]
    },
    {
     "name": "stderr",
     "output_type": "stream",
     "text": [
      "\r",
      " 72%|███████▏  | 911/1261 [04:24<01:41,  3.46it/s]"
     ]
    },
    {
     "name": "stdout",
     "output_type": "stream",
     "text": [
      "\n",
      "[640 640 640 ...,  79  79  79]\n",
      "[ 993  994  995 ..., 1130 1131 1132]\n",
      "[560 560 560 ..., 159 159 159]\n",
      "[331 332 333 ..., 425 426 427]"
     ]
    },
    {
     "name": "stderr",
     "output_type": "stream",
     "text": [
      "\r",
      " 72%|███████▏  | 912/1261 [04:24<01:39,  3.49it/s]"
     ]
    },
    {
     "name": "stdout",
     "output_type": "stream",
     "text": [
      "\n",
      "[640 640 640 ...,  79  79  79]\n",
      "[ 980  981  982 ..., 1105 1106 1107]\n",
      "[640 640 640 ..., 239 239 239]\n",
      "[332 333 334 ..., 431 432 433]"
     ]
    },
    {
     "name": "stderr",
     "output_type": "stream",
     "text": [
      "\r",
      " 72%|███████▏  | 913/1261 [04:24<01:39,  3.50it/s]"
     ]
    },
    {
     "name": "stdout",
     "output_type": "stream",
     "text": [
      "\n",
      "[640 640 640 ...,  79  79  79]\n",
      "[ 977  978  979 ..., 1101 1102 1103]\n",
      "[640 640 640 ..., 239 239 239]\n",
      "[332 333 334 ..., 436 437 438]"
     ]
    },
    {
     "name": "stderr",
     "output_type": "stream",
     "text": [
      "\r",
      " 72%|███████▏  | 914/1261 [04:25<01:37,  3.55it/s]"
     ]
    },
    {
     "name": "stdout",
     "output_type": "stream",
     "text": [
      "\n",
      "[640 640 640 ...,  79  79  79]\n",
      "[ 977  978  979 ..., 1073 1074 1075]\n",
      "[640 640 640 ..., 319 319 319]\n",
      "[333 334 335 ..., 431 432 433]"
     ]
    },
    {
     "name": "stderr",
     "output_type": "stream",
     "text": [
      "\r",
      " 73%|███████▎  | 915/1261 [04:25<01:36,  3.58it/s]"
     ]
    },
    {
     "name": "stdout",
     "output_type": "stream",
     "text": [
      "\n",
      "[640 640 640 ...,  79  79  79]\n",
      "[ 990  991  992 ..., 1167 1168 1169]\n",
      "[642 642 642 ...,  22  22  22]\n",
      "[332 333 334 ..., 436 437 438]"
     ]
    },
    {
     "name": "stderr",
     "output_type": "stream",
     "text": [
      "\r",
      " 73%|███████▎  | 916/1261 [04:25<01:37,  3.53it/s]"
     ]
    },
    {
     "name": "stdout",
     "output_type": "stream",
     "text": [
      "\n",
      "[640 640 640 ...,  79  79  79]\n",
      "[ 982  983  985 ..., 1146 1147 1148]\n",
      "[670 670 670 ...,  63  63  63]\n",
      "[330 331 332 ..., 431 432 433]"
     ]
    },
    {
     "name": "stderr",
     "output_type": "stream",
     "text": [
      "\r",
      " 73%|███████▎  | 917/1261 [04:25<01:36,  3.55it/s]"
     ]
    },
    {
     "name": "stdout",
     "output_type": "stream",
     "text": [
      "\n",
      "[640 640 640 ...,  79  79  79]\n",
      "[ 979  980  973 ..., 1151 1152 1153]\n",
      "[697 697 698 ...,  79  79  79]\n",
      "[330 331 332 ..., 431 432 433]"
     ]
    },
    {
     "name": "stderr",
     "output_type": "stream",
     "text": [
      "\r",
      " 73%|███████▎  | 918/1261 [04:26<01:36,  3.55it/s]"
     ]
    },
    {
     "name": "stdout",
     "output_type": "stream",
     "text": [
      "\n",
      "[640 640 640 ...,  79  79  79]\n",
      "[ 990  991  992 ..., 1166 1167 1168]\n",
      "[607 607 607 ...,  79  79  79]\n",
      "[327 328 329 ..., 425 426 427]"
     ]
    },
    {
     "name": "stderr",
     "output_type": "stream",
     "text": [
      "\r",
      " 73%|███████▎  | 919/1261 [04:26<01:35,  3.57it/s]"
     ]
    },
    {
     "name": "stdout",
     "output_type": "stream",
     "text": [
      "\n",
      "[640 640 640 ...,  79  79  79]\n",
      "[ 976  977  978 ..., 1166 1167 1168]\n",
      "[640 640 640 ...,  79  79  79]\n",
      "[327 328 329 ..., 452 453 454]"
     ]
    },
    {
     "name": "stderr",
     "output_type": "stream",
     "text": [
      "\r",
      " 73%|███████▎  | 920/1261 [04:26<01:37,  3.51it/s]"
     ]
    },
    {
     "name": "stdout",
     "output_type": "stream",
     "text": [
      "\n",
      "[640 640 640 ...,  79  79  79]\n",
      "[ 993  994  995 ..., 1161 1162 1163]\n",
      "[663 663 663 ...,  79  79  79]\n",
      "[327 328 329 ..., 452 453 454]"
     ]
    },
    {
     "name": "stderr",
     "output_type": "stream",
     "text": [
      "\r",
      " 73%|███████▎  | 921/1261 [04:27<01:35,  3.56it/s]"
     ]
    },
    {
     "name": "stdout",
     "output_type": "stream",
     "text": [
      "\n",
      "[640 640 640 ...,  79  79  79]\n",
      "[ 967  975  976 ..., 1130 1131 1132]\n",
      "[692 692 692 ..., 159 159 159]\n",
      "[325 326 327 ..., 452 453 454]"
     ]
    },
    {
     "name": "stderr",
     "output_type": "stream",
     "text": [
      "\r",
      " 73%|███████▎  | 922/1261 [04:27<01:34,  3.58it/s]"
     ]
    },
    {
     "name": "stdout",
     "output_type": "stream",
     "text": [
      "\n",
      "[640 640 640 ...,  79  79  79]\n",
      "[ 990  991  992 ..., 1130 1131 1132]\n",
      "[560 560 560 ..., 159 159 159]\n",
      "[323 324 325 ..., 446 447 448]"
     ]
    },
    {
     "name": "stderr",
     "output_type": "stream",
     "text": [
      "\r",
      " 73%|███████▎  | 923/1261 [04:27<01:33,  3.63it/s]"
     ]
    },
    {
     "name": "stdout",
     "output_type": "stream",
     "text": [
      "\n",
      "[640 640 640 ...,  79  79  79]\n",
      "[ 988  989  990 ..., 1126 1127 1128]\n",
      "[560 560 560 ..., 159 159 159]\n",
      "[321 322 323 ..., 441 442 443]"
     ]
    },
    {
     "name": "stderr",
     "output_type": "stream",
     "text": [
      "\r",
      " 73%|███████▎  | 924/1261 [04:27<01:36,  3.48it/s]"
     ]
    },
    {
     "name": "stdout",
     "output_type": "stream",
     "text": [
      "\n",
      "[640 640 640 ...,  79  79  79]\n",
      "[ 974  975  976 ..., 1105 1106 1107]\n",
      "[640 640 640 ..., 239 239 239]\n",
      "[322 323 324 ..., 457 458 459]"
     ]
    },
    {
     "name": "stderr",
     "output_type": "stream",
     "text": [
      "\r",
      " 73%|███████▎  | 925/1261 [04:28<01:36,  3.49it/s]"
     ]
    },
    {
     "name": "stdout",
     "output_type": "stream",
     "text": [
      "\n",
      "[640 640 640 ...,  79  79  79]\n",
      "[ 971  972  973 ..., 1073 1074 1075]\n",
      "[640 640 640 ..., 319 319 319]\n",
      "[325 326 327 ..., 457 458 459]"
     ]
    },
    {
     "name": "stderr",
     "output_type": "stream",
     "text": [
      "\r",
      " 73%|███████▎  | 926/1261 [04:28<01:38,  3.41it/s]"
     ]
    },
    {
     "name": "stdout",
     "output_type": "stream",
     "text": [
      "\n",
      "[640 640 640 ...,  79  79  79]\n",
      "[ 971  972  973 ..., 1152 1153 1154]\n",
      "[640 640 640 ...,  22  22  22]\n",
      "[321 322 323 ..., 446 447 448]"
     ]
    },
    {
     "name": "stderr",
     "output_type": "stream",
     "text": [
      "\r",
      " 74%|███████▎  | 927/1261 [04:28<01:38,  3.38it/s]"
     ]
    },
    {
     "name": "stdout",
     "output_type": "stream",
     "text": [
      "\n",
      "[640 640 640 ...,  79  79  79]\n",
      "[ 979  980  981 ..., 1149 1150 1151]\n",
      "[650 650 650 ...,  43  43  43]\n",
      "[321 322 323 ..., 446 447 448]"
     ]
    },
    {
     "name": "stderr",
     "output_type": "stream",
     "text": [
      "\r",
      " 74%|███████▎  | 928/1261 [04:29<01:38,  3.39it/s]"
     ]
    },
    {
     "name": "stdout",
     "output_type": "stream",
     "text": [
      "\n",
      "[640 640 640 ...,  79  79  79]\n",
      "[ 982  983  984 ..., 1135 1136 1137]\n",
      "[677 677 677 ...,  79  79  79]\n",
      "[321 322 323 ..., 441 442 443]"
     ]
    },
    {
     "name": "stderr",
     "output_type": "stream",
     "text": [
      "\r",
      " 74%|███████▎  | 929/1261 [04:29<01:37,  3.39it/s]"
     ]
    },
    {
     "name": "stdout",
     "output_type": "stream",
     "text": [
      "\n",
      "[640 640 640 ...,  79  79  79]\n",
      "[ 979  980  981 ..., 1151 1152 1153]\n",
      "[704 704 704 ...,  79  79  79]\n",
      "[320 321 322 ..., 446 447 448]"
     ]
    },
    {
     "name": "stderr",
     "output_type": "stream",
     "text": [
      "\r",
      " 74%|███████▍  | 930/1261 [04:29<01:36,  3.44it/s]"
     ]
    },
    {
     "name": "stdout",
     "output_type": "stream",
     "text": [
      "\n",
      "[640 640 640 ...,  79  79  79]\n",
      "[ 983  984  990 ..., 1151 1152 1153]\n",
      "[616 616 616 ...,  79  79  79]\n",
      "[321 322 323 ..., 462 463 464]"
     ]
    },
    {
     "name": "stderr",
     "output_type": "stream",
     "text": [
      "\r",
      " 74%|███████▍  | 931/1261 [04:29<01:33,  3.51it/s]"
     ]
    },
    {
     "name": "stdout",
     "output_type": "stream",
     "text": [
      "\n",
      "[640 640 640 ...,  79  79  79]\n",
      "[ 978  979  976 ..., 1151 1152 1153]\n",
      "[643 643 644 ...,  79  79  79]\n",
      "[321 322 323 ..., 457 458 459]"
     ]
    },
    {
     "name": "stderr",
     "output_type": "stream",
     "text": [
      "\r",
      " 74%|███████▍  | 932/1261 [04:30<01:33,  3.53it/s]"
     ]
    },
    {
     "name": "stdout",
     "output_type": "stream",
     "text": [
      "\n",
      "[640 640 640 ...,  79  79  79]\n",
      "[ 974  975  974 ..., 1151 1152 1153]\n",
      "[670 670 671 ...,  79  79  79]\n",
      "[326 327 328 ..., 457 458 459]"
     ]
    },
    {
     "name": "stderr",
     "output_type": "stream",
     "text": [
      "\r",
      " 74%|███████▍  | 933/1261 [04:30<01:32,  3.56it/s]"
     ]
    },
    {
     "name": "stdout",
     "output_type": "stream",
     "text": [
      "\n",
      "[640 640 640 ...,  79  79  79]\n",
      "[ 969  970  971 ..., 1121 1122 1123]\n",
      "[697 697 697 ..., 159 159 159]\n",
      "[323 324 325 ..., 452 453 454]"
     ]
    },
    {
     "name": "stderr",
     "output_type": "stream",
     "text": [
      "\r",
      " 74%|███████▍  | 934/1261 [04:30<01:31,  3.55it/s]"
     ]
    },
    {
     "name": "stdout",
     "output_type": "stream",
     "text": [
      "\n",
      "[640 640 640 ...,  79  79  79]\n",
      "[ 993  994  995 ..., 1126 1127 1128]\n",
      "[560 560 560 ..., 159 159 159]\n",
      "[327 328 329 ..., 452 453 454]"
     ]
    },
    {
     "name": "stderr",
     "output_type": "stream",
     "text": [
      "\r",
      " 74%|███████▍  | 935/1261 [04:31<01:31,  3.57it/s]"
     ]
    },
    {
     "name": "stdout",
     "output_type": "stream",
     "text": [
      "\n",
      "[640 640 640 ...,  79  79  79]\n",
      "[ 977  978  979 ..., 1097 1098 1099]\n",
      "[640 640 640 ..., 239 239 239]\n",
      "[330 331 332 ..., 436 437 438]"
     ]
    },
    {
     "name": "stderr",
     "output_type": "stream",
     "text": [
      "\r",
      " 74%|███████▍  | 936/1261 [04:31<01:31,  3.56it/s]"
     ]
    },
    {
     "name": "stdout",
     "output_type": "stream",
     "text": [
      "\n",
      "[640 640 640 ...,  79  79  79]\n",
      "[ 977  978  979 ..., 1097 1098 1099]\n",
      "[640 640 640 ..., 239 239 239]\n",
      "[332 333 334 ..., 441 442 443]"
     ]
    },
    {
     "name": "stderr",
     "output_type": "stream",
     "text": [
      "\r",
      " 74%|███████▍  | 937/1261 [04:31<01:30,  3.59it/s]"
     ]
    },
    {
     "name": "stdout",
     "output_type": "stream",
     "text": [
      "\n",
      "[640 640 640 ...,  79  79  79]\n",
      "[ 979  980  981 ..., 1073 1074 1075]\n",
      "[640 640 640 ..., 319 319 319]\n",
      "[333 334 335 ..., 467 468 469]"
     ]
    },
    {
     "name": "stderr",
     "output_type": "stream",
     "text": [
      "\r",
      " 74%|███████▍  | 938/1261 [04:31<01:30,  3.57it/s]"
     ]
    },
    {
     "name": "stdout",
     "output_type": "stream",
     "text": [
      "\n",
      "[640 640 640 ...,  79  79  79]\n",
      "[ 977  978  979 ..., 1166 1167 1168]\n",
      "[640 640 640 ...,  22  22  22]\n",
      "[332 333 334 ..., 473 474 475]"
     ]
    },
    {
     "name": "stderr",
     "output_type": "stream",
     "text": [
      "\r",
      " 74%|███████▍  | 939/1261 [04:32<01:28,  3.62it/s]"
     ]
    },
    {
     "name": "stdout",
     "output_type": "stream",
     "text": [
      "\n",
      "[640 640 640 ...,  79  79  79]\n",
      "[ 981  982  983 ..., 1157 1158 1159]\n",
      "[657 657 657 ...,  63  63  63]\n",
      "[333 334 335 ..., 467 468 469]"
     ]
    },
    {
     "name": "stderr",
     "output_type": "stream",
     "text": [
      "\r",
      " 75%|███████▍  | 940/1261 [04:32<01:29,  3.57it/s]"
     ]
    },
    {
     "name": "stdout",
     "output_type": "stream",
     "text": [
      "\n",
      "[640 640 640 ...,  79  79  79]\n",
      "[ 975  976  977 ..., 1156 1157 1158]\n",
      "[685 685 685 ...,  79  79  79]\n",
      "[333 334 335 ..., 467 468 469]"
     ]
    },
    {
     "name": "stderr",
     "output_type": "stream",
     "text": [
      "\r",
      " 75%|███████▍  | 941/1261 [04:32<01:31,  3.51it/s]"
     ]
    },
    {
     "name": "stdout",
     "output_type": "stream",
     "text": [
      "\n",
      "[640 640 640 ...,  79  79  79]\n",
      "[1000 1001 1002 ..., 1161 1162 1163]\n",
      "[592 592 592 ...,  79  79  79]\n",
      "[331 332 333 ..., 462 463 464]"
     ]
    },
    {
     "name": "stderr",
     "output_type": "stream",
     "text": [
      "\r",
      " 75%|███████▍  | 942/1261 [04:33<01:30,  3.52it/s]"
     ]
    },
    {
     "name": "stdout",
     "output_type": "stream",
     "text": [
      "\n",
      "[640 640 640 ...,  79  79  79]\n",
      "[ 995  996  997 ..., 1166 1167 1168]\n",
      "[620 620 620 ...,  79  79  79]\n",
      "[335 336 337 ..., 473 474 475]"
     ]
    },
    {
     "name": "stderr",
     "output_type": "stream",
     "text": [
      "\r",
      " 75%|███████▍  | 943/1261 [04:33<01:30,  3.52it/s]"
     ]
    },
    {
     "name": "stdout",
     "output_type": "stream",
     "text": [
      "\n",
      "[640 640 640 ...,  79  79  79]\n",
      "[ 988  989  990 ..., 1166 1167 1168]\n",
      "[649 649 649 ...,  79  79  79]\n",
      "[332 333 334 ..., 467 468 469]"
     ]
    },
    {
     "name": "stderr",
     "output_type": "stream",
     "text": [
      "\r",
      " 75%|███████▍  | 944/1261 [04:33<01:33,  3.39it/s]"
     ]
    },
    {
     "name": "stdout",
     "output_type": "stream",
     "text": [
      "\n",
      "[640 640 640 ...,  79  79  79]\n",
      "[ 976  977  985 ..., 1177 1178 1179]\n",
      "[675 675 676 ...,  79  79  79]\n",
      "[332 333 334 ..., 457 458 459]"
     ]
    },
    {
     "name": "stderr",
     "output_type": "stream",
     "text": [
      "\r",
      " 75%|███████▍  | 945/1261 [04:33<01:32,  3.41it/s]"
     ]
    },
    {
     "name": "stdout",
     "output_type": "stream",
     "text": [
      "\n",
      "[640 640 640 ...,  79  79  79]\n",
      "[ 968  969  970 ..., 1140 1141 1142]\n",
      "[703 703 703 ..., 159 159 159]\n",
      "[336 337 338 ..., 462 463 464]"
     ]
    },
    {
     "name": "stderr",
     "output_type": "stream",
     "text": [
      "\r",
      " 75%|███████▌  | 946/1261 [04:34<01:31,  3.44it/s]"
     ]
    },
    {
     "name": "stdout",
     "output_type": "stream",
     "text": [
      "\n",
      "[640 640 640 ...,  79  79  79]\n",
      "[ 990  991  992 ..., 1140 1141 1142]\n",
      "[560 560 560 ..., 159 159 159]\n",
      "[330 331 332 ..., 457 458 459]"
     ]
    },
    {
     "name": "stderr",
     "output_type": "stream",
     "text": [
      "\r",
      " 75%|███████▌  | 947/1261 [04:34<01:31,  3.43it/s]"
     ]
    },
    {
     "name": "stdout",
     "output_type": "stream",
     "text": [
      "\n",
      "[640 640 640 ...,  79  79  79]\n",
      "[ 977  978  979 ..., 1117 1118 1119]\n",
      "[640 640 640 ..., 239 239 239]\n",
      "[339 340 341 ..., 467 468 469]"
     ]
    },
    {
     "name": "stderr",
     "output_type": "stream",
     "text": [
      "\r",
      " 75%|███████▌  | 948/1261 [04:34<01:31,  3.44it/s]"
     ]
    },
    {
     "name": "stdout",
     "output_type": "stream",
     "text": [
      "\n",
      "[640 640 640 ...,  79  79  79]\n",
      "[ 976  977  978 ..., 1113 1114 1115]\n",
      "[640 640 640 ..., 239 239 239]\n",
      "[336 337 338 ..., 462 463 464]"
     ]
    },
    {
     "name": "stderr",
     "output_type": "stream",
     "text": [
      "\r",
      " 75%|███████▌  | 949/1261 [04:35<01:28,  3.53it/s]"
     ]
    },
    {
     "name": "stdout",
     "output_type": "stream",
     "text": [
      "\n",
      "[640 640 640 ...,  79  79  79]\n",
      "[ 977  978  979 ..., 1091 1092 1093]\n",
      "[640 640 640 ..., 319 319 319]\n",
      "[332 333 334 ..., 462 463 464]"
     ]
    },
    {
     "name": "stderr",
     "output_type": "stream",
     "text": [
      "\r",
      " 75%|███████▌  | 950/1261 [04:35<01:26,  3.58it/s]"
     ]
    },
    {
     "name": "stdout",
     "output_type": "stream",
     "text": [
      "\n",
      "[640 640 640 ...,  79  79  79]\n",
      "[ 977  978  979 ..., 1182 1183 1184]\n",
      "[640 640 640 ...,  22  22  22]\n",
      "[328 329 330 ..., 462 463 464]"
     ]
    },
    {
     "name": "stderr",
     "output_type": "stream",
     "text": [
      "\r",
      " 75%|███████▌  | 951/1261 [04:35<01:25,  3.62it/s]"
     ]
    },
    {
     "name": "stdout",
     "output_type": "stream",
     "text": [
      "\n",
      "[640 640 640 ...,  79  79  79]\n",
      "[ 981  982  983 ..., 1182 1183 1184]\n",
      "[663 663 663 ...,  43  43  43]\n",
      "[327 328 329 ..., 452 453 454]"
     ]
    },
    {
     "name": "stderr",
     "output_type": "stream",
     "text": [
      "\r",
      " 75%|███████▌  | 952/1261 [04:35<01:26,  3.56it/s]"
     ]
    },
    {
     "name": "stdout",
     "output_type": "stream",
     "text": [
      "\n",
      "[640 640 640 ...,  79  79  79]\n",
      "[ 978  979  987 ..., 1168 1169 1170]\n",
      "[690 690 690 ...,  63  63  63]\n",
      "[331 332 335 ..., 457 458 459]"
     ]
    },
    {
     "name": "stderr",
     "output_type": "stream",
     "text": [
      "\r",
      " 76%|███████▌  | 953/1261 [04:36<01:25,  3.61it/s]"
     ]
    },
    {
     "name": "stdout",
     "output_type": "stream",
     "text": [
      "\n",
      "[640 640 640 ...,  79  79  79]\n",
      "[1006 1007 1008 ..., 1182 1183 1184]\n",
      "[597 597 597 ...,  79  79  79]\n",
      "[326 327 328 ..., 452 453 454]"
     ]
    },
    {
     "name": "stderr",
     "output_type": "stream",
     "text": [
      "\r",
      " 76%|███████▌  | 954/1261 [04:36<01:25,  3.60it/s]"
     ]
    },
    {
     "name": "stdout",
     "output_type": "stream",
     "text": [
      "\n",
      "[640 640 640 ...,  79  79  79]\n",
      "[ 992  993  994 ..., 1193 1194 1195]\n",
      "[625 625 625 ...,  79  79  79]\n",
      "[326 327 328 ..., 478 479 480]"
     ]
    },
    {
     "name": "stderr",
     "output_type": "stream",
     "text": [
      "\r",
      " 76%|███████▌  | 955/1261 [04:36<01:25,  3.57it/s]"
     ]
    },
    {
     "name": "stdout",
     "output_type": "stream",
     "text": [
      "\n",
      "[640 640 640 ...,  79  79  79]\n",
      "[ 984  985  982 ..., 1187 1188 1189]\n",
      "[654 654 655 ...,  79  79  79]\n",
      "[331 332 333 ..., 488 489 490]"
     ]
    },
    {
     "name": "stderr",
     "output_type": "stream",
     "text": [
      "\r",
      " 76%|███████▌  | 956/1261 [04:37<01:25,  3.57it/s]"
     ]
    },
    {
     "name": "stdout",
     "output_type": "stream",
     "text": [
      "\n",
      "[640 640 640 ...,  79  79  79]\n",
      "[ 989  990  991 ..., 1154 1155 1156]\n",
      "[683 683 683 ..., 159 159 159]\n",
      "[328 329 330 ..., 478 479 480]"
     ]
    },
    {
     "name": "stderr",
     "output_type": "stream",
     "text": [
      "\r",
      " 76%|███████▌  | 957/1261 [04:37<01:24,  3.58it/s]"
     ]
    },
    {
     "name": "stdout",
     "output_type": "stream",
     "text": [
      "\n",
      "[640 640 640 ...,  79  79  79]\n",
      "[ 974  975  976 ..., 1158 1159 1160]\n",
      "[709 709 709 ..., 159 159 159]\n",
      "[333 334 335 ..., 473 474 475]"
     ]
    },
    {
     "name": "stderr",
     "output_type": "stream",
     "text": [
      "\r",
      " 76%|███████▌  | 958/1261 [04:37<01:23,  3.64it/s]"
     ]
    },
    {
     "name": "stdout",
     "output_type": "stream",
     "text": [
      "\n",
      "[640 640 640 ...,  79  79  79]\n",
      "[1006 1007 1008 ..., 1154 1155 1156]\n",
      "[560 560 560 ..., 159 159 159]\n",
      "[335 336 337 ..., 467 468 469]"
     ]
    },
    {
     "name": "stderr",
     "output_type": "stream",
     "text": [
      "\r",
      " 76%|███████▌  | 959/1261 [04:37<01:23,  3.60it/s]"
     ]
    },
    {
     "name": "stdout",
     "output_type": "stream",
     "text": [
      "\n",
      "[640 640 640 ...,  79  79  79]\n",
      "[ 990  991  992 ..., 1134 1135 1136]\n",
      "[640 640 640 ..., 239 239 239]\n",
      "[339 340 345 ..., 478 479 480]"
     ]
    },
    {
     "name": "stderr",
     "output_type": "stream",
     "text": [
      "\r",
      " 76%|███████▌  | 960/1261 [04:38<01:24,  3.56it/s]"
     ]
    },
    {
     "name": "stdout",
     "output_type": "stream",
     "text": [
      "\n",
      "[640 640 640 ...,  79  79  79]\n",
      "[ 990  991  992 ..., 1126 1127 1128]\n",
      "[640 640 640 ..., 239 239 239]\n",
      "[341 342 343 ..., 478 479 480]"
     ]
    },
    {
     "name": "stderr",
     "output_type": "stream",
     "text": [
      "\r",
      " 76%|███████▌  | 961/1261 [04:38<01:24,  3.54it/s]"
     ]
    },
    {
     "name": "stdout",
     "output_type": "stream",
     "text": [
      "\n",
      "[640 640 640 ...,  79  79  79]\n",
      "[ 993  994  995 ..., 1186 1187 1188]\n",
      "[640 640 640 ...,  22  22  22]\n",
      "[341 342 343 ..., 478 479 480]"
     ]
    },
    {
     "name": "stderr",
     "output_type": "stream",
     "text": [
      "\r",
      " 76%|███████▋  | 962/1261 [04:38<01:28,  3.37it/s]"
     ]
    },
    {
     "name": "stdout",
     "output_type": "stream",
     "text": [
      "\n",
      "[640 640 640 ...,  79  79  79]\n",
      "[ 996  997  998 ..., 1182 1183 1184]\n",
      "[645 645 645 ...,  43  43  43]\n",
      "[350 351 352 ..., 473 474 475]"
     ]
    },
    {
     "name": "stderr",
     "output_type": "stream",
     "text": [
      "\r",
      " 76%|███████▋  | 963/1261 [04:39<01:27,  3.41it/s]"
     ]
    },
    {
     "name": "stdout",
     "output_type": "stream",
     "text": [
      "\n",
      "[640 640 640 ...,  79  79  79]\n",
      "[1003 1004 1005 ..., 1172 1173 1174]\n",
      "[672 672 672 ...,  79  79  79]\n",
      "[345 346 347 ..., 457 458 459]"
     ]
    },
    {
     "name": "stderr",
     "output_type": "stream",
     "text": [
      "\r",
      " 76%|███████▋  | 964/1261 [04:39<01:27,  3.39it/s]"
     ]
    },
    {
     "name": "stdout",
     "output_type": "stream",
     "text": [
      "\n",
      "[640 640 640 ...,  79  79  79]\n",
      "[ 987  988  985 ..., 1182 1183 1184]\n",
      "[699 699 700 ...,  79  79  79]\n",
      "[345 346 347 ..., 478 479 480]"
     ]
    },
    {
     "name": "stderr",
     "output_type": "stream",
     "text": [
      "\r",
      " 77%|███████▋  | 965/1261 [04:39<01:26,  3.41it/s]"
     ]
    },
    {
     "name": "stdout",
     "output_type": "stream",
     "text": [
      "\n",
      "[640 640 640 ...,  79  79  79]\n",
      "[1018 1019 1020 ..., 1182 1183 1184]\n",
      "[607 607 607 ...,  79  79  79]\n",
      "[354 355 356 ..., 462 463 464]"
     ]
    },
    {
     "name": "stderr",
     "output_type": "stream",
     "text": [
      "\r",
      " 77%|███████▋  | 966/1261 [04:39<01:24,  3.47it/s]"
     ]
    },
    {
     "name": "stdout",
     "output_type": "stream",
     "text": [
      "\n",
      "[640 640 640 ...,  79  79  79]\n",
      "[1001 1002 1003 ..., 1182 1183 1184]\n",
      "[640 640 640 ...,  79  79  79]\n",
      "[349 350 351 ..., 452 453 454]"
     ]
    },
    {
     "name": "stderr",
     "output_type": "stream",
     "text": [
      "\r",
      " 77%|███████▋  | 967/1261 [04:40<01:23,  3.52it/s]"
     ]
    },
    {
     "name": "stdout",
     "output_type": "stream",
     "text": [
      "\n",
      "[640 640 640 ...,  79  79  79]\n",
      "[1009 1010 1011 ..., 1154 1155 1156]\n",
      "[663 663 663 ..., 159 159 159]\n",
      "[351 352 353 ..., 478 479 480]"
     ]
    },
    {
     "name": "stderr",
     "output_type": "stream",
     "text": [
      "\r",
      " 77%|███████▋  | 968/1261 [04:40<01:23,  3.51it/s]"
     ]
    },
    {
     "name": "stdout",
     "output_type": "stream",
     "text": [
      "\n",
      "[640 640 640 ...,  22  22  22]\n",
      "[ 991  992  993 ..., 1154 1155 1156]\n",
      "[691 691 691 ..., 159 159 159]\n",
      "[352 353 354 ..., 459 460 461]"
     ]
    },
    {
     "name": "stderr",
     "output_type": "stream",
     "text": [
      "\r",
      " 77%|███████▋  | 969/1261 [04:40<01:23,  3.49it/s]"
     ]
    },
    {
     "name": "stdout",
     "output_type": "stream",
     "text": [
      "\n",
      "[640 640 640 ...,  63  63  63]\n",
      "[1017 1018 1019 ..., 1154 1155 1156]\n",
      "[560 560 560 ..., 159 159 159]\n",
      "[351 352 353 ..., 453 454 455]"
     ]
    },
    {
     "name": "stderr",
     "output_type": "stream",
     "text": [
      "\r",
      " 77%|███████▋  | 970/1261 [04:41<01:21,  3.55it/s]"
     ]
    },
    {
     "name": "stdout",
     "output_type": "stream",
     "text": [
      "\n",
      "[640 640 640 ...,  63  63  63]\n",
      "[1019 1020 1021 ..., 1144 1145 1146]\n",
      "[560 560 560 ..., 159 159 159]\n",
      "[354 355 356 ..., 446 447 448]"
     ]
    },
    {
     "name": "stderr",
     "output_type": "stream",
     "text": [
      "\r",
      " 77%|███████▋  | 971/1261 [04:41<01:22,  3.53it/s]"
     ]
    },
    {
     "name": "stdout",
     "output_type": "stream",
     "text": [
      "\n",
      "[640 640 640 ...,  79  79  79]\n",
      "[1005 1006 1007 ..., 1130 1131 1132]\n",
      "[640 640 640 ..., 239 239 239]\n",
      "[352 353 354 ..., 467 468 469]"
     ]
    },
    {
     "name": "stderr",
     "output_type": "stream",
     "text": [
      "\r",
      " 77%|███████▋  | 972/1261 [04:41<01:22,  3.52it/s]"
     ]
    },
    {
     "name": "stdout",
     "output_type": "stream",
     "text": [
      "\n",
      "[640 640 640 ...,  79  79  79]\n",
      "[1005 1006 1007 ..., 1130 1131 1132]\n",
      "[640 640 640 ..., 239 239 239]\n",
      "[354 355 356 ..., 478 479 480]"
     ]
    },
    {
     "name": "stderr",
     "output_type": "stream",
     "text": [
      "\r",
      " 77%|███████▋  | 973/1261 [04:41<01:23,  3.47it/s]"
     ]
    },
    {
     "name": "stdout",
     "output_type": "stream",
     "text": [
      "\n",
      "[640 640 640 ...,  79  79  79]\n",
      "[1003 1004 1005 ..., 1102 1103 1104]\n",
      "[640 640 640 ..., 319 319 319]\n",
      "[354 355 356 ..., 473 474 475]"
     ]
    },
    {
     "name": "stderr",
     "output_type": "stream",
     "text": [
      "\r",
      " 77%|███████▋  | 974/1261 [04:42<01:21,  3.52it/s]"
     ]
    },
    {
     "name": "stdout",
     "output_type": "stream",
     "text": [
      "\n",
      "[640 640 640 ...,  79  79  79]\n",
      "[1016 1017 1018 ..., 1180 1181 1182]\n",
      "[651 651 651 ...,  22  22  22]\n",
      "[357 358 359 ..., 457 458 459]"
     ]
    },
    {
     "name": "stderr",
     "output_type": "stream",
     "text": [
      "\r",
      " 77%|███████▋  | 975/1261 [04:42<01:20,  3.56it/s]"
     ]
    },
    {
     "name": "stdout",
     "output_type": "stream",
     "text": [
      "\n",
      "[640 640 640 ...,  79  79  79]\n",
      "[1009 1010 1011 ..., 1157 1158 1159]\n",
      "[679 679 679 ...,  63  63  63]\n",
      "[357 358 359 ..., 465 466 467]"
     ]
    },
    {
     "name": "stderr",
     "output_type": "stream",
     "text": [
      "\r",
      " 77%|███████▋  | 976/1261 [04:42<01:22,  3.45it/s]"
     ]
    },
    {
     "name": "stdout",
     "output_type": "stream",
     "text": [
      "\n",
      "[640 640 640 ..., 159 159 159]\n",
      "[ 995  996  997 ..., 1161 1162 1163]\n",
      "[707 707 707 ...,  79  79  79]\n",
      "[359 360 361 ..., 465 466 467]"
     ]
    },
    {
     "name": "stderr",
     "output_type": "stream",
     "text": [
      "\r",
      " 77%|███████▋  | 977/1261 [04:43<01:22,  3.44it/s]"
     ]
    },
    {
     "name": "stdout",
     "output_type": "stream",
     "text": [
      "\n",
      "[640 640 640 ..., 159 159 159]\n",
      "[1018 1019 1020 ..., 1166 1167 1168]\n",
      "[619 619 619 ...,  79  79  79]\n",
      "[369 370 371 ..., 484 485 486]"
     ]
    },
    {
     "name": "stderr",
     "output_type": "stream",
     "text": [
      "\r",
      " 78%|███████▊  | 978/1261 [04:43<01:21,  3.47it/s]"
     ]
    },
    {
     "name": "stdout",
     "output_type": "stream",
     "text": [
      "\n",
      "[640 640 640 ..., 159 159 159]\n",
      "[1015 1016 1017 ..., 1140 1141 1142]\n",
      "[647 647 647 ...,  79  79  79]\n",
      "[364 365 366 ..., 463 464 465]"
     ]
    },
    {
     "name": "stderr",
     "output_type": "stream",
     "text": [
      "\r",
      " 78%|███████▊  | 979/1261 [04:43<01:21,  3.47it/s]"
     ]
    },
    {
     "name": "stdout",
     "output_type": "stream",
     "text": [
      "\n",
      "[640 640 640 ..., 151 151 151]\n",
      "[1008 1009 1010 ..., 1130 1131 1132]\n",
      "[675 675 675 ...,  79  79  79]\n",
      "[361 362 363 ..., 456 457 458]"
     ]
    },
    {
     "name": "stderr",
     "output_type": "stream",
     "text": [
      "\r",
      " 78%|███████▊  | 980/1261 [04:43<01:23,  3.37it/s]"
     ]
    },
    {
     "name": "stdout",
     "output_type": "stream",
     "text": [
      "\n",
      "[640 640 640 ..., 159 159 159]\n",
      "[1001 1002 1003 ..., 1126 1127 1128]\n",
      "[703 703 703 ..., 159 159 159]\n",
      "[364 365 366 ..., 434 435 436]"
     ]
    },
    {
     "name": "stderr",
     "output_type": "stream",
     "text": [
      "\r",
      " 78%|███████▊  | 981/1261 [04:44<01:21,  3.42it/s]"
     ]
    },
    {
     "name": "stdout",
     "output_type": "stream",
     "text": [
      "\n",
      "[640 640 640 ..., 239 239 239]\n",
      "[1014 1015 1016 ..., 1112 1113 1114]\n",
      "[560 560 560 ..., 159 159 159]\n",
      "[365 366 367 ..., 420 421 422]"
     ]
    },
    {
     "name": "stderr",
     "output_type": "stream",
     "text": [
      "\r",
      " 78%|███████▊  | 982/1261 [04:44<01:21,  3.43it/s]"
     ]
    },
    {
     "name": "stdout",
     "output_type": "stream",
     "text": [
      "\n",
      "[640 640 640 ...,  79  79  79]\n",
      "[ 999 1000 1001 ..., 1109 1110 1111]\n",
      "[640 640 640 ..., 239 239 239]\n",
      "[366 367 368 ..., 423 424 425]"
     ]
    },
    {
     "name": "stderr",
     "output_type": "stream",
     "text": [
      "\r",
      " 78%|███████▊  | 983/1261 [04:44<01:20,  3.46it/s]"
     ]
    },
    {
     "name": "stdout",
     "output_type": "stream",
     "text": [
      "\n",
      "[640 640 640 ..., 159 159 159]\n",
      "[1001 1002 1003 ..., 1101 1102 1103]\n",
      "[640 640 640 ..., 239 239 239]\n",
      "[368 369 370 ..., 413 414 415]"
     ]
    },
    {
     "name": "stderr",
     "output_type": "stream",
     "text": [
      "\r",
      " 78%|███████▊  | 984/1261 [04:45<01:18,  3.52it/s]"
     ]
    },
    {
     "name": "stdout",
     "output_type": "stream",
     "text": [
      "\n",
      "[640 640 640 ..., 159 159 159]\n",
      "[1004 1005 1006 ..., 1093 1094 1095]\n",
      "[640 640 640 ..., 239 239 239]\n",
      "[366 367 368 ..., 404 405 406]"
     ]
    },
    {
     "name": "stderr",
     "output_type": "stream",
     "text": [
      "\r",
      " 78%|███████▊  | 985/1261 [04:45<01:16,  3.59it/s]"
     ]
    },
    {
     "name": "stdout",
     "output_type": "stream",
     "text": [
      "\n",
      "[640 640 640 ..., 159 159 159]\n",
      "[1004 1005 1006 ..., 1091 1092 1093]\n",
      "[640 640 640 ..., 319 319 319]\n",
      "[362 363 364 ..., 399 400 401]"
     ]
    },
    {
     "name": "stderr",
     "output_type": "stream",
     "text": [
      "\r",
      " 78%|███████▊  | 986/1261 [04:45<01:15,  3.66it/s]"
     ]
    },
    {
     "name": "stdout",
     "output_type": "stream",
     "text": [
      "\n",
      "[640 640 640 ..., 159 159 159]\n",
      "[1005 1006 1002 ..., 1084 1085 1086]\n",
      "[659 659 660 ..., 319 319 319]\n",
      "[368 369 371 ..., 395 396 397]"
     ]
    },
    {
     "name": "stderr",
     "output_type": "stream",
     "text": [
      "\r",
      " 78%|███████▊  | 987/1261 [04:45<01:16,  3.58it/s]"
     ]
    },
    {
     "name": "stdout",
     "output_type": "stream",
     "text": [
      "\n",
      "[640 640 640 ..., 159 159 159]\n",
      "[1003 1004 1012 ..., 1077 1078 1079]\n",
      "[660 660 660 ..., 319 319 319]\n",
      "[356 357 358 ..., 409 410 411]"
     ]
    },
    {
     "name": "stderr",
     "output_type": "stream",
     "text": [
      "\r",
      " 78%|███████▊  | 988/1261 [04:46<01:15,  3.62it/s]"
     ]
    },
    {
     "name": "stdout",
     "output_type": "stream",
     "text": [
      "\n",
      "[640 640 640 ..., 159 159 159]\n",
      "[ 999 1000 1009 ..., 1060 1061 1062]\n",
      "[687 687 688 ..., 399 399 399]\n",
      "[360 361 364 ..., 404 405 406]"
     ]
    },
    {
     "name": "stderr",
     "output_type": "stream",
     "text": [
      "\r",
      " 78%|███████▊  | 989/1261 [04:46<01:15,  3.61it/s]"
     ]
    },
    {
     "name": "stdout",
     "output_type": "stream",
     "text": [
      "\n",
      "[640 640 640 ..., 159 159 159]\n",
      "[1024 1025 1026 ..., 1145 1144 1145]\n",
      "[590 590 590 ...,  21  22  22]\n",
      "[357 358 359 ..., 390 391 392]"
     ]
    },
    {
     "name": "stderr",
     "output_type": "stream",
     "text": [
      "\r",
      " 79%|███████▊  | 990/1261 [04:46<01:14,  3.64it/s]"
     ]
    },
    {
     "name": "stdout",
     "output_type": "stream",
     "text": [
      "\n",
      "[640 640 640 ..., 159 159 159]\n",
      "[1032 1033 1034 ..., 1050 1051 1052]\n",
      "[617 617 617 ..., 479 479 479]\n",
      "[352 353 354 ..., 390 391 392]"
     ]
    },
    {
     "name": "stderr",
     "output_type": "stream",
     "text": [
      "\r",
      " 79%|███████▊  | 991/1261 [04:46<01:13,  3.67it/s]"
     ]
    },
    {
     "name": "stdout",
     "output_type": "stream",
     "text": [
      "\n",
      "[640 640 640 ..., 159 159 159]\n",
      "[1020 1021 1022 ..., 1140 1141 1142]\n",
      "[646 646 646 ...,  79  79  79]\n",
      "[351 352 353 ..., 385 386 387]"
     ]
    },
    {
     "name": "stderr",
     "output_type": "stream",
     "text": [
      "\r",
      " 79%|███████▊  | 992/1261 [04:47<01:13,  3.65it/s]"
     ]
    },
    {
     "name": "stdout",
     "output_type": "stream",
     "text": [
      "\n",
      "[640 640 640 ..., 159 159 159]\n",
      "[1008 1009 1010 ..., 1145 1146 1147]\n",
      "[674 674 674 ...,  79  79  79]\n",
      "[347 348 349 ..., 393 394 395]"
     ]
    },
    {
     "name": "stderr",
     "output_type": "stream",
     "text": [
      "\r",
      " 79%|███████▊  | 993/1261 [04:47<01:12,  3.68it/s]"
     ]
    },
    {
     "name": "stdout",
     "output_type": "stream",
     "text": [
      "\n",
      "[640 640 640 ..., 239 239 239]\n",
      "[ 993  994 1001 ..., 1130 1131 1132]\n",
      "[703 703 703 ...,  79  79  79]\n",
      "[347 348 349 ..., 381 382 383]"
     ]
    },
    {
     "name": "stderr",
     "output_type": "stream",
     "text": [
      "\r",
      " 79%|███████▉  | 994/1261 [04:47<01:14,  3.57it/s]"
     ]
    },
    {
     "name": "stdout",
     "output_type": "stream",
     "text": [
      "\n",
      "[640 640 640 ..., 159 159 159]\n",
      "[ 999 1000 1001 ..., 1135 1136 1137]\n",
      "[560 560 560 ...,  79  79  79]\n",
      "[350 351 352 ..., 393 394 395]"
     ]
    },
    {
     "name": "stderr",
     "output_type": "stream",
     "text": [
      "\r",
      " 79%|███████▉  | 995/1261 [04:48<01:14,  3.58it/s]"
     ]
    },
    {
     "name": "stdout",
     "output_type": "stream",
     "text": [
      "\n",
      "[640 640 640 ..., 239 239 239]\n",
      "[ 989  990  991 ..., 1098 1099 1100]\n",
      "[640 640 640 ..., 159 159 159]\n",
      "[351 352 353 ..., 381 382 383]"
     ]
    },
    {
     "name": "stderr",
     "output_type": "stream",
     "text": [
      "\r",
      " 79%|███████▉  | 996/1261 [04:48<01:14,  3.57it/s]"
     ]
    },
    {
     "name": "stdout",
     "output_type": "stream",
     "text": [
      "\n",
      "[640 640 640 ..., 239 239 239]\n",
      "[ 985  986  987 ..., 1102 1103 1104]\n",
      "[640 640 640 ..., 159 159 159]\n",
      "[345 346 347 ..., 376 377 378]"
     ]
    },
    {
     "name": "stderr",
     "output_type": "stream",
     "text": [
      "\r",
      " 79%|███████▉  | 997/1261 [04:48<01:13,  3.57it/s]"
     ]
    },
    {
     "name": "stdout",
     "output_type": "stream",
     "text": [
      "\n",
      "[640 640 640 ..., 239 239 239]\n",
      "[ 985  986  987 ..., 1089 1090 1091]\n",
      "[640 640 640 ..., 239 239 239]\n",
      "[340 341 342 ..., 360 361 362]"
     ]
    },
    {
     "name": "stderr",
     "output_type": "stream",
     "text": [
      "\r",
      " 79%|███████▉  | 998/1261 [04:48<01:14,  3.53it/s]"
     ]
    },
    {
     "name": "stdout",
     "output_type": "stream",
     "text": [
      "\n",
      "[640 640 640 ..., 239 239 239]\n",
      "[ 981  982  983 ..., 1076 1077 1078]\n",
      "[640 640 640 ..., 239 239 239]\n",
      "[335 336 337 ..., 364 365 366]"
     ]
    },
    {
     "name": "stderr",
     "output_type": "stream",
     "text": [
      "\r",
      " 79%|███████▉  | 999/1261 [04:49<01:13,  3.56it/s]"
     ]
    },
    {
     "name": "stdout",
     "output_type": "stream",
     "text": [
      "\n",
      "[640 640 640 ..., 319 319 319]\n",
      "[ 984  985  986 ..., 1089 1090 1091]\n",
      "[663 663 663 ..., 239 239 239]\n",
      "[328 329 330 ..., 364 365 366]"
     ]
    },
    {
     "name": "stderr",
     "output_type": "stream",
     "text": [
      "\r",
      " 79%|███████▉  | 1000/1261 [04:49<01:13,  3.53it/s]"
     ]
    },
    {
     "name": "stdout",
     "output_type": "stream",
     "text": [
      "\n",
      "[640 640 640 ..., 319 319 319]\n",
      "[ 992  993 1004 ..., 1066 1067 1068]\n",
      "[662 662 682 ..., 319 319 319]\n",
      "[322 323 324 ..., 348 349 350]"
     ]
    },
    {
     "name": "stderr",
     "output_type": "stream",
     "text": [
      "\r",
      " 79%|███████▉  | 1001/1261 [04:49<01:12,  3.57it/s]"
     ]
    },
    {
     "name": "stdout",
     "output_type": "stream",
     "text": [
      "\n",
      "[640 640 640 ..., 239 239 239]\n",
      "[ 983  984  985 ..., 1063 1064 1065]\n",
      "[689 689 689 ..., 319 319 319]\n",
      "[313 314 315 ..., 335 336 337]"
     ]
    },
    {
     "name": "stderr",
     "output_type": "stream",
     "text": [
      "\r",
      " 79%|███████▉  | 1002/1261 [04:50<01:10,  3.65it/s]"
     ]
    },
    {
     "name": "stdout",
     "output_type": "stream",
     "text": [
      "\n",
      "[640 640 640 ..., 239 239 239]\n",
      "[1015 1016 1017 ..., 1077 1078 1079]\n",
      "[585 585 585 ..., 319 319 319]\n",
      "[304 305 306 ..., 325 326 327]"
     ]
    },
    {
     "name": "stderr",
     "output_type": "stream",
     "text": [
      "\r",
      " 80%|███████▉  | 1003/1261 [04:50<01:11,  3.63it/s]"
     ]
    },
    {
     "name": "stdout",
     "output_type": "stream",
     "text": [
      "\n",
      "[640 640 640 ..., 151 151 151]\n",
      "[ 992  993 1015 ..., 1091 1092 1093]\n",
      "[699 699 611 ..., 319 319 319]\n",
      "[297 298 299 ..., 294 295 296]"
     ]
    },
    {
     "name": "stderr",
     "output_type": "stream",
     "text": [
      "\r",
      " 80%|███████▉  | 1004/1261 [04:50<01:10,  3.62it/s]"
     ]
    },
    {
     "name": "stdout",
     "output_type": "stream",
     "text": [
      "\n",
      "[640 640 640 ...,  79  79  79]\n",
      "[1009 1010 1011 ..., 1083 1084 1085]\n",
      "[640 640 640 ..., 399 399 399]\n",
      "[294 295 296 ..., 339 340 341]"
     ]
    },
    {
     "name": "stderr",
     "output_type": "stream",
     "text": [
      "\r",
      " 80%|███████▉  | 1005/1261 [04:50<01:12,  3.55it/s]"
     ]
    },
    {
     "name": "stdout",
     "output_type": "stream",
     "text": [
      "\n",
      "[640 640 640 ...,  43  43  43]\n",
      "[1012 1013 1014 ..., 1083 1084 1085]\n",
      "[667 667 667 ..., 399 399 399]\n",
      "[313 314 315 ..., 352 353 354]"
     ]
    },
    {
     "name": "stderr",
     "output_type": "stream",
     "text": [
      "\r",
      " 80%|███████▉  | 1006/1261 [04:51<01:11,  3.56it/s]"
     ]
    },
    {
     "name": "stdout",
     "output_type": "stream",
     "text": [
      "\n",
      "[640 640 640 ..., 239 239 239]\n",
      "[ 955  956  957 ..., 1145 1146 1147]\n",
      "[651 651 651 ...,  79  79  79]\n",
      "[311 312 313 ..., 368 369 370]"
     ]
    },
    {
     "name": "stderr",
     "output_type": "stream",
     "text": [
      "\r",
      " 80%|███████▉  | 1007/1261 [04:51<01:10,  3.59it/s]"
     ]
    },
    {
     "name": "stdout",
     "output_type": "stream",
     "text": [
      "\n",
      "[640 640 640 ..., 239 239 239]\n",
      "[1018 1019 1020 ..., 1126 1127 1128]\n",
      "[668 668 668 ..., 159 159 159]\n",
      "[318 319 320 ..., 376 377 378]"
     ]
    },
    {
     "name": "stderr",
     "output_type": "stream",
     "text": [
      "\r",
      " 80%|███████▉  | 1008/1261 [04:51<01:10,  3.60it/s]"
     ]
    },
    {
     "name": "stdout",
     "output_type": "stream",
     "text": [
      "\n",
      "[640 640 640 ..., 239 239 239]\n",
      "[ 997  998  999 ..., 1072 1073 1074]\n",
      "[560 560 560 ..., 239 239 239]\n",
      "[316 317 318 ..., 299 300 301]"
     ]
    },
    {
     "name": "stderr",
     "output_type": "stream",
     "text": [
      "\r",
      " 80%|████████  | 1009/1261 [04:51<01:09,  3.62it/s]"
     ]
    },
    {
     "name": "stdout",
     "output_type": "stream",
     "text": [
      "\n",
      "[640 640 640 ..., 135 135 135]\n",
      "[ 995  996  997 ..., 1080 1081 1082]\n",
      "[560 560 560 ..., 239 239 239]\n",
      "[308 309 310 ..., 292 293 294]"
     ]
    },
    {
     "name": "stderr",
     "output_type": "stream",
     "text": [
      "\r",
      " 80%|████████  | 1010/1261 [04:52<01:10,  3.58it/s]"
     ]
    },
    {
     "name": "stdout",
     "output_type": "stream",
     "text": [
      "\n",
      "[640 640 640 ..., 151 151 151]\n",
      "[ 984  985  986 ..., 1093 1094 1095]\n",
      "[640 640 640 ..., 239 239 239]\n",
      "[306 307 308 ..., 352 353 354]"
     ]
    },
    {
     "name": "stderr",
     "output_type": "stream",
     "text": [
      "\r",
      " 80%|████████  | 1011/1261 [04:52<01:09,  3.57it/s]"
     ]
    },
    {
     "name": "stdout",
     "output_type": "stream",
     "text": [
      "\n",
      "[640 640 640 ..., 239 239 239]\n",
      "[ 980  981  982 ..., 1085 1086 1087]\n",
      "[640 640 640 ..., 239 239 239]\n",
      "[297 298 299 ..., 329 330 331]"
     ]
    },
    {
     "name": "stderr",
     "output_type": "stream",
     "text": [
      "\r",
      " 80%|████████  | 1012/1261 [04:52<01:10,  3.52it/s]"
     ]
    },
    {
     "name": "stdout",
     "output_type": "stream",
     "text": [
      "\n",
      "[640 640 640 ..., 159 159 159]\n",
      "[ 982  983  984 ..., 1101 1102 1103]\n",
      "[640 640 640 ..., 239 239 239]\n",
      "[293 294 295 ..., 320 321 322]"
     ]
    },
    {
     "name": "stderr",
     "output_type": "stream",
     "text": [
      "\r",
      " 80%|████████  | 1013/1261 [04:53<01:10,  3.53it/s]"
     ]
    },
    {
     "name": "stdout",
     "output_type": "stream",
     "text": [
      "\n",
      "[640 640 640 ...,  79  79  79]\n",
      "[ 989  990  991 ..., 1077 1078 1079]\n",
      "[649 649 649 ..., 319 319 319]\n",
      "[294 295 296 ..., 310 311 312]"
     ]
    },
    {
     "name": "stderr",
     "output_type": "stream",
     "text": [
      "\r",
      " 80%|████████  | 1014/1261 [04:53<01:10,  3.52it/s]"
     ]
    },
    {
     "name": "stdout",
     "output_type": "stream",
     "text": [
      "\n",
      "[640 640 640 ...,  79  79  79]\n",
      "[ 979  980  981 ..., 1070 1071 1072]\n",
      "[677 677 677 ..., 319 319 319]\n",
      "[294 295 296 ..., 299 300 301]"
     ]
    },
    {
     "name": "stderr",
     "output_type": "stream",
     "text": [
      "\r",
      " 80%|████████  | 1015/1261 [04:53<01:11,  3.42it/s]"
     ]
    },
    {
     "name": "stdout",
     "output_type": "stream",
     "text": [
      "\n",
      "[640 640 640 ...,  79  79  79]\n",
      "[ 974  975  976 ..., 1048 1049 1050]\n",
      "[706 706 706 ..., 399 399 399]\n",
      "[297 298 299 ..., 320 321 322]"
     ]
    },
    {
     "name": "stderr",
     "output_type": "stream",
     "text": [
      "\r",
      " 81%|████████  | 1016/1261 [04:54<01:12,  3.36it/s]"
     ]
    },
    {
     "name": "stdout",
     "output_type": "stream",
     "text": [
      "\n",
      "[640 640 640 ..., 159 159 159]\n",
      "[ 984  985  986 ..., 1140 1141 1142]\n",
      "[608 608 608 ...,  79  79  79]\n",
      "[291 292 293 ..., 310 311 312]"
     ]
    },
    {
     "name": "stderr",
     "output_type": "stream",
     "text": [
      "\r",
      " 81%|████████  | 1017/1261 [04:54<01:13,  3.34it/s]"
     ]
    },
    {
     "name": "stdout",
     "output_type": "stream",
     "text": [
      "\n",
      "[640 640 640 ..., 159 159 159]\n",
      "[ 972  973  974 ..., 1140 1141 1142]\n",
      "[640 640 640 ...,  79  79  79]\n",
      "[292 293 294 ..., 304 305 306]"
     ]
    },
    {
     "name": "stderr",
     "output_type": "stream",
     "text": [
      "\r",
      " 81%|████████  | 1018/1261 [04:54<01:13,  3.29it/s]"
     ]
    },
    {
     "name": "stdout",
     "output_type": "stream",
     "text": [
      "\n",
      "[640 640 640 ...,  79  79  79]\n",
      "[ 969  970  971 ..., 1156 1157 1158]\n",
      "[668 668 668 ...,  79  79  79]\n",
      "[292 293 294 ..., 335 336 337]"
     ]
    },
    {
     "name": "stderr",
     "output_type": "stream",
     "text": [
      "\r",
      " 81%|████████  | 1019/1261 [04:54<01:13,  3.31it/s]"
     ]
    },
    {
     "name": "stdout",
     "output_type": "stream",
     "text": [
      "\n",
      "[640 640 640 ...,  63  63  63]\n",
      "[ 965  966  967 ..., 1151 1152 1153]\n",
      "[696 696 696 ...,  79  79  79]\n",
      "[289 290 291 ..., 320 321 322]"
     ]
    },
    {
     "name": "stderr",
     "output_type": "stream",
     "text": [
      "\r",
      " 81%|████████  | 1020/1261 [04:55<01:11,  3.36it/s]"
     ]
    },
    {
     "name": "stdout",
     "output_type": "stream",
     "text": [
      "\n",
      "[640 640 640 ...,  79  79  79]\n",
      "[ 992  993  994 ..., 1140 1141 1142]\n",
      "[560 560 560 ..., 159 159 159]\n",
      "[294 295 296 ..., 331 332 333]"
     ]
    },
    {
     "name": "stderr",
     "output_type": "stream",
     "text": [
      "\r",
      " 81%|████████  | 1021/1261 [04:55<01:09,  3.46it/s]"
     ]
    },
    {
     "name": "stdout",
     "output_type": "stream",
     "text": [
      "\n",
      "[640 640 640 ...,  79  79  79]\n",
      "[ 974  975  976 ..., 1093 1094 1095]\n",
      "[640 640 640 ..., 239 239 239]\n",
      "[289 290 291 ..., 343 344 345]"
     ]
    },
    {
     "name": "stderr",
     "output_type": "stream",
     "text": [
      "\r",
      " 81%|████████  | 1022/1261 [04:55<01:08,  3.51it/s]"
     ]
    },
    {
     "name": "stdout",
     "output_type": "stream",
     "text": [
      "\n",
      "[640 640 640 ..., 159 159 159]\n",
      "[ 975  976  977 ..., 1101 1102 1103]\n",
      "[640 640 640 ..., 239 239 239]\n",
      "[283 284 285 ..., 324 325 326]"
     ]
    },
    {
     "name": "stderr",
     "output_type": "stream",
     "text": [
      "\r",
      " 81%|████████  | 1023/1261 [04:56<01:07,  3.55it/s]"
     ]
    },
    {
     "name": "stdout",
     "output_type": "stream",
     "text": [
      "\n",
      "[640 640 640 ..., 159 159 159]\n",
      "[ 976  977  978 ..., 1109 1110 1111]\n",
      "[640 640 640 ..., 239 239 239]\n",
      "[279 280 281 ..., 296 297 298]"
     ]
    },
    {
     "name": "stderr",
     "output_type": "stream",
     "text": [
      "\r",
      " 81%|████████  | 1024/1261 [04:56<01:08,  3.48it/s]"
     ]
    },
    {
     "name": "stdout",
     "output_type": "stream",
     "text": [
      "\n",
      "[640 640 640 ..., 159 159 159]\n",
      "[ 976  977  978 ..., 1077 1078 1079]\n",
      "[640 640 640 ..., 319 319 319]\n",
      "[278 279 280 ..., 311 312 313]"
     ]
    },
    {
     "name": "stderr",
     "output_type": "stream",
     "text": [
      "\r",
      " 81%|████████▏ | 1025/1261 [04:56<01:07,  3.47it/s]"
     ]
    },
    {
     "name": "stdout",
     "output_type": "stream",
     "text": [
      "\n",
      "[640 640 640 ..., 239 239 239]\n",
      "[ 981  982  983 ..., 1087 1088 1089]\n",
      "[663 663 663 ..., 319 319 319]\n",
      "[282 283 284 ..., 321 322 323]"
     ]
    },
    {
     "name": "stderr",
     "output_type": "stream",
     "text": [
      "\r",
      " 81%|████████▏ | 1026/1261 [04:56<01:08,  3.43it/s]"
     ]
    },
    {
     "name": "stdout",
     "output_type": "stream",
     "text": [
      "\n",
      "[640 640 640 ..., 319 319 319]\n",
      "[ 969  970  971 ..., 1124 1125 1126]\n",
      "[694 694 694 ...,  79  79  79]\n",
      "[282 283 284 ..., 343 344 345]"
     ]
    },
    {
     "name": "stderr",
     "output_type": "stream",
     "text": [
      "\r",
      " 81%|████████▏ | 1027/1261 [04:57<01:08,  3.42it/s]"
     ]
    },
    {
     "name": "stdout",
     "output_type": "stream",
     "text": [
      "\n",
      "[640 640 640 ..., 220 220 220]\n",
      "[ 987  988  989 ..., 1089 1090 1091]\n",
      "[608 608 608 ..., 151 151 151]\n",
      "[284 285 286 ..., 341 342 343]"
     ]
    },
    {
     "name": "stderr",
     "output_type": "stream",
     "text": [
      "\r",
      " 82%|████████▏ | 1028/1261 [04:57<01:07,  3.46it/s]"
     ]
    },
    {
     "name": "stdout",
     "output_type": "stream",
     "text": [
      "\n",
      "[640 640 640 ..., 296 296 296]\n",
      "[ 976  977  978 ..., 1098 1099 1100]\n",
      "[640 640 640 ..., 159 159 159]\n",
      "[289 290 291 ..., 342 343 344]"
     ]
    },
    {
     "name": "stderr",
     "output_type": "stream",
     "text": [
      "\r",
      " 82%|████████▏ | 1029/1261 [04:57<01:06,  3.47it/s]"
     ]
    },
    {
     "name": "stdout",
     "output_type": "stream",
     "text": [
      "\n",
      "[640 640 640 ..., 319 319 319]\n",
      "[ 971  972  973 ..., 1056 1057 1058]\n",
      "[668 668 668 ..., 239 239 239]\n",
      "[284 285 286 ..., 325 326 327]"
     ]
    },
    {
     "name": "stderr",
     "output_type": "stream",
     "text": [
      "\r",
      " 82%|████████▏ | 1030/1261 [04:58<01:05,  3.53it/s]"
     ]
    },
    {
     "name": "stdout",
     "output_type": "stream",
     "text": [
      "\n",
      "[640 640 640 ..., 319 319 319]\n",
      "[ 967  968  969 ..., 1072 1073 1074]\n",
      "[696 696 696 ..., 239 239 239]\n",
      "[282 283 284 ..., 330 331 332]"
     ]
    },
    {
     "name": "stderr",
     "output_type": "stream",
     "text": [
      "\r",
      " 82%|████████▏ | 1031/1261 [04:58<01:04,  3.54it/s]"
     ]
    },
    {
     "name": "stdout",
     "output_type": "stream",
     "text": [
      "\n",
      "[640 640 640 ..., 399 399 399]\n",
      "[ 977  978  979 ..., 1042 1043 1044]\n",
      "[560 560 560 ..., 305 305 305]\n",
      "[282 283 284 ..., 321 322 323]"
     ]
    },
    {
     "name": "stderr",
     "output_type": "stream",
     "text": [
      "\r",
      " 82%|████████▏ | 1032/1261 [04:58<01:04,  3.55it/s]"
     ]
    },
    {
     "name": "stdout",
     "output_type": "stream",
     "text": [
      "\n",
      "[640 640 640 ..., 399 399 399]\n",
      "[ 967  968  969 ..., 1045 1046 1047]\n",
      "[640 640 640 ..., 319 319 319]\n",
      "[279 280 281 ..., 306 307 308]"
     ]
    },
    {
     "name": "stderr",
     "output_type": "stream",
     "text": [
      "\r",
      " 82%|████████▏ | 1033/1261 [04:58<01:03,  3.56it/s]"
     ]
    },
    {
     "name": "stdout",
     "output_type": "stream",
     "text": [
      "\n",
      "[640 640 640 ..., 399 399 399]\n",
      "[ 969  970  971 ..., 1052 1053 1054]\n",
      "[640 640 640 ..., 319 319 319]\n",
      "[282 283 284 ..., 315 316 317]"
     ]
    },
    {
     "name": "stderr",
     "output_type": "stream",
     "text": [
      "\r",
      " 82%|████████▏ | 1034/1261 [04:59<01:04,  3.50it/s]"
     ]
    },
    {
     "name": "stdout",
     "output_type": "stream",
     "text": [
      "\n",
      "[640 640 640 ..., 399 399 399]\n",
      "[ 966  967  968 ..., 1123 1124 1125]\n",
      "[640 640 640 ...,  22  22  22]\n",
      "[283 284 285 ..., 416 417 418]"
     ]
    },
    {
     "name": "stderr",
     "output_type": "stream",
     "text": [
      "\r",
      " 82%|████████▏ | 1035/1261 [04:59<01:03,  3.55it/s]"
     ]
    },
    {
     "name": "stdout",
     "output_type": "stream",
     "text": [
      "\n",
      "[640 640 640 ...,  43  43  43]\n",
      "[ 967  968  969 ..., 1116 1117 1118]\n",
      "[640 640 640 ...,  63  63  63]\n",
      "[285 286 287 ..., 436 437 438]"
     ]
    },
    {
     "name": "stderr",
     "output_type": "stream",
     "text": [
      "\r",
      " 82%|████████▏ | 1036/1261 [04:59<01:03,  3.52it/s]"
     ]
    },
    {
     "name": "stdout",
     "output_type": "stream",
     "text": [
      "\n",
      "[640 640 640 ...,  79  79  79]\n",
      "[ 965  966  967 ..., 1119 1120 1121]\n",
      "[663 663 663 ...,  79  79  79]\n",
      "[291 292 293 ..., 431 432 433]"
     ]
    },
    {
     "name": "stderr",
     "output_type": "stream",
     "text": [
      "\r",
      " 82%|████████▏ | 1037/1261 [05:00<01:02,  3.59it/s]"
     ]
    },
    {
     "name": "stdout",
     "output_type": "stream",
     "text": [
      "\n",
      "[640 640 640 ...,  79  79  79]\n",
      "[ 966  967  968 ..., 1124 1125 1126]\n",
      "[690 690 690 ...,  79  79  79]\n",
      "[293 294 295 ..., 404 405 406]"
     ]
    },
    {
     "name": "stderr",
     "output_type": "stream",
     "text": [
      "\r",
      " 82%|████████▏ | 1038/1261 [05:00<01:01,  3.64it/s]"
     ]
    },
    {
     "name": "stdout",
     "output_type": "stream",
     "text": [
      "\n",
      "[644 644 644 ...,  79  79  79]\n",
      "[ 974  975  976 ..., 1130 1131 1132]\n",
      "[626 626 626 ...,  79  79  79]\n",
      "[298 299 300 ..., 441 442 443]"
     ]
    },
    {
     "name": "stderr",
     "output_type": "stream",
     "text": [
      "\r",
      " 82%|████████▏ | 1039/1261 [05:00<01:00,  3.69it/s]"
     ]
    },
    {
     "name": "stdout",
     "output_type": "stream",
     "text": [
      "\n",
      "[640 640 640 ...,  79  79  79]\n",
      "[ 973  974  976 ..., 1098 1099 1100]\n",
      "[656 656 656 ..., 159 159 159]\n",
      "[303 304 305 ..., 425 426 427]"
     ]
    },
    {
     "name": "stderr",
     "output_type": "stream",
     "text": [
      "\r",
      " 82%|████████▏ | 1040/1261 [05:00<00:59,  3.69it/s]"
     ]
    },
    {
     "name": "stdout",
     "output_type": "stream",
     "text": [
      "\n",
      "[640 640 640 ...,  79  79  79]\n",
      "[ 970  971  972 ..., 1107 1108 1109]\n",
      "[682 682 682 ..., 159 159 159]\n",
      "[299 300 301 ..., 404 405 406]"
     ]
    },
    {
     "name": "stderr",
     "output_type": "stream",
     "text": [
      "\r",
      " 83%|████████▎ | 1041/1261 [05:01<00:59,  3.71it/s]"
     ]
    },
    {
     "name": "stdout",
     "output_type": "stream",
     "text": [
      "\n",
      "[640 640 640 ...,  79  79  79]\n",
      "[ 973  974  975 ..., 1112 1113 1114]\n",
      "[560 560 560 ..., 159 159 159]\n",
      "[296 297 298 ..., 436 437 438]"
     ]
    },
    {
     "name": "stderr",
     "output_type": "stream",
     "text": [
      "\r",
      " 83%|████████▎ | 1042/1261 [05:01<01:01,  3.59it/s]"
     ]
    },
    {
     "name": "stdout",
     "output_type": "stream",
     "text": [
      "\n",
      "[640 640 640 ...,  79  79  79]\n",
      "[ 967  968  969 ..., 1080 1081 1082]\n",
      "[583 583 583 ..., 239 239 239]\n",
      "[301 302 303 ..., 400 401 402]"
     ]
    },
    {
     "name": "stderr",
     "output_type": "stream",
     "text": [
      "\r",
      " 83%|████████▎ | 1043/1261 [05:01<01:00,  3.59it/s]"
     ]
    },
    {
     "name": "stdout",
     "output_type": "stream",
     "text": [
      "\n",
      "[640 640 640 ...,  63  63  63]\n",
      "[ 961  962  963 ..., 1085 1086 1087]\n",
      "[640 640 640 ..., 239 239 239]\n",
      "[298 299 300 ..., 394 395 396]"
     ]
    },
    {
     "name": "stderr",
     "output_type": "stream",
     "text": [
      "\r",
      " 83%|████████▎ | 1044/1261 [05:01<00:59,  3.64it/s]"
     ]
    },
    {
     "name": "stdout",
     "output_type": "stream",
     "text": [
      "\n",
      "[640 640 640 ...,  63  63  63]\n",
      "[ 956  957  958 ..., 1089 1090 1091]\n",
      "[640 640 640 ..., 239 239 239]\n",
      "[301 302 303 ..., 399 400 401]"
     ]
    },
    {
     "name": "stderr",
     "output_type": "stream",
     "text": [
      "\r",
      " 83%|████████▎ | 1045/1261 [05:02<00:59,  3.66it/s]"
     ]
    },
    {
     "name": "stdout",
     "output_type": "stream",
     "text": [
      "\n",
      "[658 658 658 ...,  79  79  79]\n",
      "[ 962  963  960 ..., 1105 1106 1107]\n",
      "[661 661 662 ..., 239 239 239]\n",
      "[308 309 296 ..., 436 437 438]"
     ]
    },
    {
     "name": "stderr",
     "output_type": "stream",
     "text": [
      "\r",
      " 83%|████████▎ | 1046/1261 [05:02<00:58,  3.68it/s]"
     ]
    },
    {
     "name": "stdout",
     "output_type": "stream",
     "text": [
      "\n",
      "[686 686 687 ...,  79  79  79]\n",
      "[ 954  955  956 ..., 1155 1156 1157]\n",
      "[650 650 650 ...,  43  43  43]\n",
      "[309 310 312 ..., 431 432 433]"
     ]
    },
    {
     "name": "stderr",
     "output_type": "stream",
     "text": [
      "\r",
      " 83%|████████▎ | 1047/1261 [05:02<00:59,  3.60it/s]"
     ]
    },
    {
     "name": "stdout",
     "output_type": "stream",
     "text": [
      "\n",
      "[713 713 713 ...,  79  79  79]\n",
      "[ 952  953  954 ..., 1151 1152 1153]\n",
      "[677 677 677 ...,  63  63  63]\n",
      "[292 293 298 ..., 404 405 406]"
     ]
    },
    {
     "name": "stderr",
     "output_type": "stream",
     "text": [
      "\r",
      " 83%|████████▎ | 1048/1261 [05:03<00:59,  3.57it/s]"
     ]
    },
    {
     "name": "stdout",
     "output_type": "stream",
     "text": [
      "\n",
      "[640 640 640 ...,  79  79  79]\n",
      "[ 948  949  954 ..., 1051 1052 1053]\n",
      "[704 704 704 ..., 399 399 399]\n",
      "[285 286 287 ..., 394 395 396]"
     ]
    },
    {
     "name": "stderr",
     "output_type": "stream",
     "text": [
      "\r",
      " 83%|████████▎ | 1049/1261 [05:03<01:00,  3.52it/s]"
     ]
    },
    {
     "name": "stdout",
     "output_type": "stream",
     "text": [
      "\n",
      "[643 643 643 ...,  79  79  79]\n",
      "[1008 1009 1010 ..., 1148 1149 1150]\n",
      "[480 480 480 ...,  79  79  79]\n",
      "[278 279 280 ..., 383 384 385]"
     ]
    },
    {
     "name": "stderr",
     "output_type": "stream",
     "text": [
      "\r",
      " 83%|████████▎ | 1050/1261 [05:03<01:01,  3.45it/s]"
     ]
    },
    {
     "name": "stdout",
     "output_type": "stream",
     "text": [
      "\n",
      "[640 640 640 ...,  79  79  79]\n",
      "[1011 1012 1013 ..., 1177 1178 1179]\n",
      "[480 480 480 ...,  79  79  79]\n",
      "[296 297 297 ..., 410 411 412]"
     ]
    },
    {
     "name": "stderr",
     "output_type": "stream",
     "text": [
      "\r",
      " 83%|████████▎ | 1051/1261 [05:03<01:00,  3.49it/s]"
     ]
    },
    {
     "name": "stdout",
     "output_type": "stream",
     "text": [
      "\n",
      "[640 640 641 ...,  79  79  79]\n",
      "[ 979  980 1006 ..., 1172 1173 1174]\n",
      "[667 667 480 ...,  79  79  79]\n",
      "[275 276 277 ..., 410 411 412]"
     ]
    },
    {
     "name": "stderr",
     "output_type": "stream",
     "text": [
      "\r",
      " 83%|████████▎ | 1052/1261 [05:04<01:00,  3.46it/s]"
     ]
    },
    {
     "name": "stdout",
     "output_type": "stream",
     "text": [
      "\n",
      "[640 640 640 ...,  79  79  79]\n",
      "[ 974  975  986 ..., 1172 1173 1174]\n",
      "[695 695 560 ...,  79  79  79]\n",
      "[277 278 279 ..., 399 400 401]"
     ]
    },
    {
     "name": "stderr",
     "output_type": "stream",
     "text": [
      "\r",
      " 84%|████████▎ | 1053/1261 [05:04<01:01,  3.39it/s]"
     ]
    },
    {
     "name": "stdout",
     "output_type": "stream",
     "text": [
      "\n",
      "[640 640 640 ...,  79  79  79]\n",
      "[ 990  991  992 ..., 1172 1173 1174]\n",
      "[560 560 560 ...,  79  79  79]\n",
      "[284 285 286 ..., 441 442 443]"
     ]
    },
    {
     "name": "stderr",
     "output_type": "stream",
     "text": [
      "\r",
      " 84%|████████▎ | 1054/1261 [05:04<01:00,  3.43it/s]"
     ]
    },
    {
     "name": "stdout",
     "output_type": "stream",
     "text": [
      "\n",
      "[640 640 640 ...,  79  79  79]\n",
      "[ 984  985  986 ..., 1101 1102 1103]\n",
      "[560 560 560 ..., 239 239 239]\n",
      "[285 286 287 ..., 467 468 469]"
     ]
    },
    {
     "name": "stderr",
     "output_type": "stream",
     "text": [
      "\r",
      " 84%|████████▎ | 1055/1261 [05:05<00:58,  3.51it/s]"
     ]
    },
    {
     "name": "stdout",
     "output_type": "stream",
     "text": [
      "\n",
      "[640 640 640 ...,  79  79  79]\n",
      "[ 965  966  967 ..., 1097 1098 1099]\n",
      "[640 640 640 ..., 239 239 239]\n",
      "[291 292 293 ..., 467 468 469]"
     ]
    },
    {
     "name": "stderr",
     "output_type": "stream",
     "text": [
      "\r",
      " 84%|████████▎ | 1056/1261 [05:05<00:57,  3.56it/s]"
     ]
    },
    {
     "name": "stdout",
     "output_type": "stream",
     "text": [
      "\n",
      "[640 640 640 ...,  79  79  79]\n",
      "[ 965  966  967 ..., 1143 1144 1145]\n",
      "[640 640 640 ...,  43  43  43]\n",
      "[297 298 299 ..., 478 479 480]"
     ]
    },
    {
     "name": "stderr",
     "output_type": "stream",
     "text": [
      "\r",
      " 84%|████████▍ | 1057/1261 [05:05<00:57,  3.56it/s]"
     ]
    },
    {
     "name": "stdout",
     "output_type": "stream",
     "text": [
      "\n",
      "[640 640 640 ...,  79  79  79]\n",
      "[ 962  963  964 ..., 1130 1131 1132]\n",
      "[640 640 640 ...,  79  79  79]\n",
      "[301 302 303 ..., 462 463 464]"
     ]
    },
    {
     "name": "stderr",
     "output_type": "stream",
     "text": [
      "\r",
      " 84%|████████▍ | 1058/1261 [05:05<00:57,  3.53it/s]"
     ]
    },
    {
     "name": "stdout",
     "output_type": "stream",
     "text": [
      "\n",
      "[640 640 640 ...,  79  79  79]\n",
      "[ 973  974  975 ..., 1135 1136 1137]\n",
      "[658 658 658 ...,  79  79  79]\n",
      "[309 310 311 ..., 515 516 517]"
     ]
    },
    {
     "name": "stderr",
     "output_type": "stream",
     "text": [
      "\r",
      " 84%|████████▍ | 1059/1261 [05:06<00:56,  3.59it/s]"
     ]
    },
    {
     "name": "stdout",
     "output_type": "stream",
     "text": [
      "\n",
      "[640 640 640 ...,  79  79  79]\n",
      "[ 959  960  961 ..., 1124 1125 1126]\n",
      "[687 687 687 ...,  79  79  79]\n",
      "[320 321 322 ..., 520 521 522]"
     ]
    },
    {
     "name": "stderr",
     "output_type": "stream",
     "text": [
      "\r",
      " 84%|████████▍ | 1060/1261 [05:06<00:55,  3.61it/s]"
     ]
    },
    {
     "name": "stdout",
     "output_type": "stream",
     "text": [
      "\n",
      "[640 640 640 ...,  79  79  79]\n",
      "[ 977  978  979 ..., 1088 1089 1090]\n",
      "[602 602 602 ..., 159 159 159]\n",
      "[328 329 330 ..., 536 537 538]"
     ]
    },
    {
     "name": "stderr",
     "output_type": "stream",
     "text": [
      "\r",
      " 84%|████████▍ | 1061/1261 [05:06<00:55,  3.60it/s]"
     ]
    },
    {
     "name": "stdout",
     "output_type": "stream",
     "text": [
      "\n",
      "[640 640 640 ...,  79  79  79]\n",
      "[ 968  969  970 ..., 1079 1080 1081]\n",
      "[631 631 631 ..., 159 159 159]\n",
      "[332 333 334 ..., 530 531 532]"
     ]
    },
    {
     "name": "stderr",
     "output_type": "stream",
     "text": [
      "\r",
      " 84%|████████▍ | 1062/1261 [05:07<00:54,  3.65it/s]"
     ]
    },
    {
     "name": "stdout",
     "output_type": "stream",
     "text": [
      "\n",
      "[640 640 640 ...,  79  79  79]\n",
      "[ 965  966  967 ..., 1060 1061 1062]\n",
      "[657 657 657 ..., 239 239 239]\n",
      "[330 331 332 ..., 499 500 501]"
     ]
    },
    {
     "name": "stderr",
     "output_type": "stream",
     "text": [
      "\r",
      " 84%|████████▍ | 1063/1261 [05:07<00:53,  3.68it/s]"
     ]
    },
    {
     "name": "stdout",
     "output_type": "stream",
     "text": [
      "\n",
      "[640 640 640 ...,  79  79  79]\n",
      "[ 970  971  972 ..., 1102 1103 1104]\n",
      "[681 681 681 ..., 159 159 159]\n",
      "[328 329 330 ..., 478 479 480]"
     ]
    },
    {
     "name": "stderr",
     "output_type": "stream",
     "text": [
      "\r",
      " 84%|████████▍ | 1064/1261 [05:07<00:53,  3.66it/s]"
     ]
    },
    {
     "name": "stdout",
     "output_type": "stream",
     "text": [
      "\n",
      "[640 640 640 ...,  79  79  79]\n",
      "[ 961  962  965 ..., 1116 1117 1118]\n",
      "[707 707 708 ..., 159 159 159]\n",
      "[323 324 325 ..., 457 458 459]"
     ]
    },
    {
     "name": "stderr",
     "output_type": "stream",
     "text": [
      "\r",
      " 84%|████████▍ | 1065/1261 [05:07<00:54,  3.62it/s]"
     ]
    },
    {
     "name": "stdout",
     "output_type": "stream",
     "text": [
      "\n",
      "[640 640 640 ...,  79  79  79]\n",
      "[ 992  993  994 ..., 1130 1131 1132]\n",
      "[560 560 560 ..., 159 159 159]\n",
      "[320 321 322 ..., 441 442 443]"
     ]
    },
    {
     "name": "stderr",
     "output_type": "stream",
     "text": [
      "\r",
      " 85%|████████▍ | 1066/1261 [05:08<00:55,  3.54it/s]"
     ]
    },
    {
     "name": "stdout",
     "output_type": "stream",
     "text": [
      "\n",
      "[640 640 640 ...,  79  79  79]\n",
      "[ 977  978  979 ..., 1144 1145 1146]\n",
      "[640 640 640 ..., 159 159 159]\n",
      "[321 322 323 ..., 446 447 448]"
     ]
    },
    {
     "name": "stderr",
     "output_type": "stream",
     "text": [
      "\r",
      " 85%|████████▍ | 1067/1261 [05:08<00:55,  3.49it/s]"
     ]
    },
    {
     "name": "stdout",
     "output_type": "stream",
     "text": [
      "\n",
      "[640 640 640 ...,  79  79  79]\n",
      "[ 979  980  981 ..., 1113 1114 1115]\n",
      "[640 640 640 ..., 239 239 239]\n",
      "[323 324 325 ..., 436 437 438]"
     ]
    },
    {
     "name": "stderr",
     "output_type": "stream",
     "text": [
      "\r",
      " 85%|████████▍ | 1068/1261 [05:08<00:57,  3.38it/s]"
     ]
    },
    {
     "name": "stdout",
     "output_type": "stream",
     "text": [
      "\n",
      "[640 640 640 ...,  79  79  79]\n",
      "[ 980  981  982 ..., 1113 1114 1115]\n",
      "[640 640 640 ..., 239 239 239]\n",
      "[326 327 328 ..., 446 447 448]"
     ]
    },
    {
     "name": "stderr",
     "output_type": "stream",
     "text": [
      "\r",
      " 85%|████████▍ | 1069/1261 [05:09<00:56,  3.40it/s]"
     ]
    },
    {
     "name": "stdout",
     "output_type": "stream",
     "text": [
      "\n",
      "[640 640 640 ...,  79  79  79]\n",
      "[ 985  986  987 ..., 1084 1085 1086]\n",
      "[640 640 640 ..., 319 319 319]\n",
      "[328 329 330 ..., 452 453 454]"
     ]
    },
    {
     "name": "stderr",
     "output_type": "stream",
     "text": [
      "\r",
      " 85%|████████▍ | 1070/1261 [05:09<00:56,  3.37it/s]"
     ]
    },
    {
     "name": "stdout",
     "output_type": "stream",
     "text": [
      "\n",
      "[640 640 640 ...,  79  79  79]\n",
      "[ 981  982  983 ..., 1166 1167 1168]\n",
      "[668 668 668 ...,  43  43  43]\n",
      "[325 326 327 ..., 441 442 443]"
     ]
    },
    {
     "name": "stderr",
     "output_type": "stream",
     "text": [
      "\r",
      " 85%|████████▍ | 1071/1261 [05:09<00:56,  3.36it/s]"
     ]
    },
    {
     "name": "stdout",
     "output_type": "stream",
     "text": [
      "\n",
      "[640 640 640 ...,  79  79  79]\n",
      "[ 979  980  976 ..., 1159 1158 1159]\n",
      "[695 695 696 ...,  42  43  43]\n",
      "[328 329 330 ..., 478 479 480]"
     ]
    },
    {
     "name": "stderr",
     "output_type": "stream",
     "text": [
      "\r",
      " 85%|████████▌ | 1072/1261 [05:09<00:54,  3.45it/s]"
     ]
    },
    {
     "name": "stdout",
     "output_type": "stream",
     "text": [
      "\n",
      "[640 640 640 ...,  79  79  79]\n",
      "[1005 1006 1007 ..., 1172 1173 1174]\n",
      "[602 602 602 ...,  79  79  79]\n",
      "[328 329 330 ..., 462 463 464]"
     ]
    },
    {
     "name": "stderr",
     "output_type": "stream",
     "text": [
      "\r",
      " 85%|████████▌ | 1073/1261 [05:10<00:53,  3.51it/s]"
     ]
    },
    {
     "name": "stdout",
     "output_type": "stream",
     "text": [
      "\n",
      "[640 640 640 ...,  79  79  79]\n",
      "[1004 1005 1006 ..., 1177 1178 1179]\n",
      "[630 630 630 ...,  79  79  79]\n",
      "[328 329 330 ..., 462 463 464]"
     ]
    },
    {
     "name": "stderr",
     "output_type": "stream",
     "text": [
      "\r",
      " 85%|████████▌ | 1074/1261 [05:10<00:54,  3.44it/s]"
     ]
    },
    {
     "name": "stdout",
     "output_type": "stream",
     "text": [
      "\n",
      "[640 640 640 ...,  79  79  79]\n",
      "[1006 1007 1008 ..., 1177 1178 1179]\n",
      "[659 659 659 ...,  79  79  79]\n",
      "[331 332 333 ..., 462 463 464]"
     ]
    },
    {
     "name": "stderr",
     "output_type": "stream",
     "text": [
      "\r",
      " 85%|████████▌ | 1075/1261 [05:10<00:54,  3.40it/s]"
     ]
    },
    {
     "name": "stdout",
     "output_type": "stream",
     "text": [
      "\n",
      "[640 640 640 ...,  79  79  79]\n",
      "[ 989  990  991 ..., 1177 1178 1179]\n",
      "[689 689 689 ...,  79  79  79]\n",
      "[333 334 335 ..., 462 463 464]"
     ]
    },
    {
     "name": "stderr",
     "output_type": "stream",
     "text": [
      "\r",
      " 85%|████████▌ | 1076/1261 [05:11<00:53,  3.43it/s]"
     ]
    },
    {
     "name": "stdout",
     "output_type": "stream",
     "text": [
      "\n",
      "[640 640 640 ...,  79  79  79]\n",
      "[ 999 1000 1001 ..., 1154 1155 1156]\n",
      "[560 560 560 ..., 159 159 159]\n",
      "[340 341 342 ..., 483 484 485]"
     ]
    },
    {
     "name": "stderr",
     "output_type": "stream",
     "text": [
      "\r",
      " 85%|████████▌ | 1077/1261 [05:11<00:53,  3.42it/s]"
     ]
    },
    {
     "name": "stdout",
     "output_type": "stream",
     "text": [
      "\n",
      "[640 640 640 ...,  79  79  79]\n",
      "[ 993  994  995 ..., 1113 1114 1115]\n",
      "[560 560 560 ..., 239 239 239]\n",
      "[342 343 344 ..., 483 484 485]"
     ]
    },
    {
     "name": "stderr",
     "output_type": "stream",
     "text": [
      "\r",
      " 85%|████████▌ | 1078/1261 [05:11<00:53,  3.44it/s]"
     ]
    },
    {
     "name": "stdout",
     "output_type": "stream",
     "text": [
      "\n",
      "[640 640 640 ...,  79  79  79]\n",
      "[ 980  981  982 ..., 1113 1114 1115]\n",
      "[640 640 640 ..., 239 239 239]\n",
      "[344 345 346 ..., 478 479 480]"
     ]
    },
    {
     "name": "stderr",
     "output_type": "stream",
     "text": [
      "\r",
      " 86%|████████▌ | 1079/1261 [05:11<00:53,  3.39it/s]"
     ]
    },
    {
     "name": "stdout",
     "output_type": "stream",
     "text": [
      "\n",
      "[640 640 640 ...,  79  79  79]\n",
      "[ 980  981  982 ..., 1122 1123 1124]\n",
      "[640 640 640 ..., 239 239 239]\n",
      "[345 346 347 ..., 478 479 480]"
     ]
    },
    {
     "name": "stderr",
     "output_type": "stream",
     "text": [
      "\r",
      " 86%|████████▌ | 1080/1261 [05:12<00:52,  3.46it/s]"
     ]
    },
    {
     "name": "stdout",
     "output_type": "stream",
     "text": [
      "\n",
      "[640 640 640 ...,  79  79  79]\n",
      "[ 982  983  984 ..., 1094 1095 1096]\n",
      "[640 640 640 ..., 319 319 319]\n",
      "[349 350 351 ..., 462 463 464]"
     ]
    },
    {
     "name": "stderr",
     "output_type": "stream",
     "text": [
      "\r",
      " 86%|████████▌ | 1081/1261 [05:12<00:52,  3.45it/s]"
     ]
    },
    {
     "name": "stdout",
     "output_type": "stream",
     "text": [
      "\n",
      "[640 640 640 ...,  79  79  79]\n",
      "[1001 1002 1003 ..., 1109 1110 1111]\n",
      "[648 648 648 ..., 319 319 319]\n",
      "[347 348 349 ..., 467 468 469]"
     ]
    },
    {
     "name": "stderr",
     "output_type": "stream",
     "text": [
      "\r",
      " 86%|████████▌ | 1082/1261 [05:12<00:52,  3.39it/s]"
     ]
    },
    {
     "name": "stdout",
     "output_type": "stream",
     "text": [
      "\n",
      "[640 640 640 ...,  79  79  79]\n",
      "[ 986  987  988 ..., 1198 1199 1200]\n",
      "[678 678 678 ...,  22  22  22]\n",
      "[345 346 347 ..., 462 463 464]"
     ]
    },
    {
     "name": "stderr",
     "output_type": "stream",
     "text": [
      "\r",
      " 86%|████████▌ | 1083/1261 [05:13<00:53,  3.35it/s]"
     ]
    },
    {
     "name": "stdout",
     "output_type": "stream",
     "text": [
      "\n",
      "[640 640 640 ...,  79  79  79]\n",
      "[ 979  980  981 ..., 1175 1176 1177]\n",
      "[707 707 707 ...,  63  63  63]\n",
      "[344 345 346 ..., 462 463 464]"
     ]
    },
    {
     "name": "stderr",
     "output_type": "stream",
     "text": [
      "\r",
      " 86%|████████▌ | 1084/1261 [05:13<00:52,  3.35it/s]"
     ]
    },
    {
     "name": "stdout",
     "output_type": "stream",
     "text": [
      "\n",
      "[640 640 640 ...,  79  79  79]\n",
      "[1017 1018 1019 ..., 1198 1199 1200]\n",
      "[614 614 614 ...,  79  79  79]\n",
      "[345 346 347 ..., 478 479 480]"
     ]
    },
    {
     "name": "stderr",
     "output_type": "stream",
     "text": [
      "\r",
      " 86%|████████▌ | 1085/1261 [05:13<00:52,  3.37it/s]"
     ]
    },
    {
     "name": "stdout",
     "output_type": "stream",
     "text": [
      "\n",
      "[640 640 640 ...,  79  79  79]\n",
      "[1016 1017 1018 ..., 1198 1199 1200]\n",
      "[644 644 644 ...,  79  79  79]\n",
      "[345 346 347 ..., 452 453 454]"
     ]
    },
    {
     "name": "stderr",
     "output_type": "stream",
     "text": [
      "\r",
      " 86%|████████▌ | 1086/1261 [05:14<00:51,  3.41it/s]"
     ]
    },
    {
     "name": "stdout",
     "output_type": "stream",
     "text": [
      "\n",
      "[640 640 640 ...,  79  79  79]\n",
      "[1007 1008 1009 ..., 1208 1209 1210]\n",
      "[673 673 673 ...,  79  79  79]\n",
      "[342 343 344 ..., 467 468 469]"
     ]
    },
    {
     "name": "stderr",
     "output_type": "stream",
     "text": [
      "\r",
      " 86%|████████▌ | 1087/1261 [05:14<00:50,  3.45it/s]"
     ]
    },
    {
     "name": "stdout",
     "output_type": "stream",
     "text": [
      "\n",
      "[640 640 640 ...,  79  79  79]\n",
      "[ 997  998  999 ..., 1198 1199 1200]\n",
      "[703 703 703 ...,  79  79  79]\n",
      "[344 345 346 ..., 467 468 469]"
     ]
    },
    {
     "name": "stderr",
     "output_type": "stream",
     "text": [
      "\r",
      " 86%|████████▋ | 1088/1261 [05:14<00:50,  3.41it/s]"
     ]
    },
    {
     "name": "stdout",
     "output_type": "stream",
     "text": [
      "\n",
      "[640 640 640 ...,  79  79  79]\n",
      "[1015 1016 1017 ..., 1163 1164 1165]\n",
      "[560 560 560 ..., 159 159 159]\n",
      "[344 345 346 ..., 467 468 469]"
     ]
    },
    {
     "name": "stderr",
     "output_type": "stream",
     "text": [
      "\r",
      " 86%|████████▋ | 1089/1261 [05:14<00:51,  3.35it/s]"
     ]
    },
    {
     "name": "stdout",
     "output_type": "stream",
     "text": [
      "\n",
      "[640 640 640 ...,  79  79  79]\n",
      "[ 994  995  996 ..., 1163 1164 1165]\n",
      "[640 640 640 ..., 159 159 159]\n",
      "[346 347 348 ..., 478 479 480]"
     ]
    },
    {
     "name": "stderr",
     "output_type": "stream",
     "text": [
      "\r",
      " 86%|████████▋ | 1090/1261 [05:15<00:49,  3.43it/s]"
     ]
    },
    {
     "name": "stdout",
     "output_type": "stream",
     "text": [
      "\n",
      "[640 640 640 ...,  79  79  79]\n",
      "[ 993  994  995 ..., 1122 1123 1124]\n",
      "[640 640 640 ..., 239 239 239]\n",
      "[346 347 348 ..., 467 468 469]"
     ]
    },
    {
     "name": "stderr",
     "output_type": "stream",
     "text": [
      "\r",
      " 87%|████████▋ | 1091/1261 [05:15<00:48,  3.51it/s]"
     ]
    },
    {
     "name": "stdout",
     "output_type": "stream",
     "text": [
      "\n",
      "[640 640 640 ...,  79  79  79]\n",
      "[ 994  995  996 ..., 1126 1127 1128]\n",
      "[640 640 640 ..., 239 239 239]\n",
      "[346 347 348 ..., 462 463 464]"
     ]
    },
    {
     "name": "stderr",
     "output_type": "stream",
     "text": [
      "\r",
      " 87%|████████▋ | 1092/1261 [05:15<00:48,  3.46it/s]"
     ]
    },
    {
     "name": "stdout",
     "output_type": "stream",
     "text": [
      "\n",
      "[640 640 640 ...,  79  79  79]\n",
      "[ 994  995  996 ..., 1098 1099 1100]\n",
      "[640 640 640 ..., 319 319 319]\n",
      "[346 347 348 ..., 457 458 459]"
     ]
    },
    {
     "name": "stderr",
     "output_type": "stream",
     "text": [
      "\r",
      " 87%|████████▋ | 1093/1261 [05:16<00:47,  3.53it/s]"
     ]
    },
    {
     "name": "stdout",
     "output_type": "stream",
     "text": [
      "\n",
      "[640 640 640 ...,  79  79  79]\n",
      "[ 996  997  998 ..., 1149 1150 1151]\n",
      "[662 662 662 ..., 159 159 159]\n",
      "[346 347 348 ..., 446 447 448]"
     ]
    },
    {
     "name": "stderr",
     "output_type": "stream",
     "text": [
      "\r",
      " 87%|████████▋ | 1094/1261 [05:16<00:47,  3.54it/s]"
     ]
    },
    {
     "name": "stdout",
     "output_type": "stream",
     "text": [
      "\n",
      "[640 640 640 ...,  79  79  79]\n",
      "[ 992  993  994 ..., 1203 1204 1205]\n",
      "[690 690 690 ...,  22  22  22]\n",
      "[349 350 351 ..., 457 458 459]"
     ]
    },
    {
     "name": "stderr",
     "output_type": "stream",
     "text": [
      "\r",
      " 87%|████████▋ | 1095/1261 [05:16<00:46,  3.58it/s]"
     ]
    },
    {
     "name": "stdout",
     "output_type": "stream",
     "text": [
      "\n",
      "[640 640 640 ...,  79  79  79]\n",
      "[1009 1010 1011 ..., 1172 1173 1174]\n",
      "[604 604 604 ...,  79  79  79]\n",
      "[349 350 351 ..., 467 468 469]"
     ]
    },
    {
     "name": "stderr",
     "output_type": "stream",
     "text": [
      "\r",
      " 87%|████████▋ | 1096/1261 [05:16<00:46,  3.58it/s]"
     ]
    },
    {
     "name": "stdout",
     "output_type": "stream",
     "text": [
      "\n",
      "[640 640 640 ...,  79  79  79]\n",
      "[1018 1019 1001 ..., 1177 1178 1179]\n",
      "[633 633 634 ...,  79  79  79]\n",
      "[350 351 352 ..., 457 458 459]"
     ]
    },
    {
     "name": "stderr",
     "output_type": "stream",
     "text": [
      "\r",
      " 87%|████████▋ | 1097/1261 [05:17<00:45,  3.57it/s]"
     ]
    },
    {
     "name": "stdout",
     "output_type": "stream",
     "text": [
      "\n",
      "[640 640 640 ...,  79  79  79]\n",
      "[1001 1002 1003 ..., 1172 1173 1174]\n",
      "[662 662 662 ...,  79  79  79]\n",
      "[350 351 352 ..., 462 463 464]"
     ]
    },
    {
     "name": "stderr",
     "output_type": "stream",
     "text": [
      "\r",
      " 87%|████████▋ | 1098/1261 [05:17<00:45,  3.61it/s]"
     ]
    },
    {
     "name": "stdout",
     "output_type": "stream",
     "text": [
      "\n",
      "[640 640 640 ...,  79  79  79]\n",
      "[ 993  994  995 ..., 1144 1145 1146]\n",
      "[691 691 691 ..., 159 159 159]\n",
      "[350 351 352 ..., 462 463 464]"
     ]
    },
    {
     "name": "stderr",
     "output_type": "stream",
     "text": [
      "\r",
      " 87%|████████▋ | 1099/1261 [05:17<00:45,  3.56it/s]"
     ]
    },
    {
     "name": "stdout",
     "output_type": "stream",
     "text": [
      "\n",
      "[640 640 640 ...,  79  79  79]\n",
      "[1004 1005 1006 ..., 1144 1145 1146]\n",
      "[560 560 560 ..., 159 159 159]\n",
      "[352 353 354 ..., 462 463 464]"
     ]
    },
    {
     "name": "stderr",
     "output_type": "stream",
     "text": [
      "\r",
      " 87%|████████▋ | 1100/1261 [05:18<00:45,  3.50it/s]"
     ]
    },
    {
     "name": "stdout",
     "output_type": "stream",
     "text": [
      "\n",
      "[640 640 640 ...,  79  79  79]\n",
      "[1006 1007 1008 ..., 1144 1145 1146]\n",
      "[560 560 560 ..., 159 159 159]\n",
      "[354 355 356 ..., 462 463 464]"
     ]
    },
    {
     "name": "stderr",
     "output_type": "stream",
     "text": [
      "\r",
      " 87%|████████▋ | 1101/1261 [05:18<00:45,  3.50it/s]"
     ]
    },
    {
     "name": "stdout",
     "output_type": "stream",
     "text": [
      "\n",
      "[640 640 640 ...,  79  79  79]\n",
      "[ 991  992  993 ..., 1117 1118 1119]\n",
      "[640 640 640 ..., 239 239 239]\n",
      "[350 351 352 ..., 446 447 448]"
     ]
    },
    {
     "name": "stderr",
     "output_type": "stream",
     "text": [
      "\r",
      " 87%|████████▋ | 1102/1261 [05:18<00:46,  3.43it/s]"
     ]
    },
    {
     "name": "stdout",
     "output_type": "stream",
     "text": [
      "\n",
      "[640 640 640 ...,  79  79  79]\n",
      "[ 998  999 1000 ..., 1138 1139 1140]\n",
      "[640 640 640 ..., 239 239 239]\n",
      "[354 355 356 ..., 452 453 454]"
     ]
    },
    {
     "name": "stderr",
     "output_type": "stream",
     "text": [
      "\r",
      " 87%|████████▋ | 1103/1261 [05:18<00:46,  3.40it/s]"
     ]
    },
    {
     "name": "stdout",
     "output_type": "stream",
     "text": [
      "\n",
      "[640 640 640 ...,  79  79  79]\n",
      "[ 998  999 1000 ..., 1130 1131 1132]\n",
      "[640 640 640 ..., 239 239 239]\n",
      "[355 356 357 ..., 446 447 448]"
     ]
    },
    {
     "name": "stderr",
     "output_type": "stream",
     "text": [
      "\r",
      " 88%|████████▊ | 1104/1261 [05:19<00:46,  3.41it/s]"
     ]
    },
    {
     "name": "stdout",
     "output_type": "stream",
     "text": [
      "\n",
      "[640 640 640 ...,  79  79  79]\n",
      "[1014 1015 1016 ..., 1112 1113 1114]\n",
      "[646 646 646 ..., 319 319 319]\n",
      "[356 357 358 ..., 452 453 454]"
     ]
    },
    {
     "name": "stderr",
     "output_type": "stream",
     "text": [
      "\r",
      " 88%|████████▊ | 1105/1261 [05:19<00:45,  3.44it/s]"
     ]
    },
    {
     "name": "stdout",
     "output_type": "stream",
     "text": [
      "\n",
      "[640 640 640 ...,  79  79  79]\n",
      "[1001 1002 1003 ..., 1192 1193 1194]\n",
      "[675 675 675 ...,  22  22  22]\n",
      "[360 361 362 ..., 462 463 464]"
     ]
    },
    {
     "name": "stderr",
     "output_type": "stream",
     "text": [
      "\r",
      " 88%|████████▊ | 1106/1261 [05:19<00:45,  3.40it/s]"
     ]
    },
    {
     "name": "stdout",
     "output_type": "stream",
     "text": [
      "\n",
      "[640 640 640 ...,  79  79  79]\n",
      "[ 996 1003 1004 ..., 1166 1167 1168]\n",
      "[704 704 704 ...,  79  79  79]\n",
      "[359 360 361 ..., 452 453 454]"
     ]
    },
    {
     "name": "stderr",
     "output_type": "stream",
     "text": [
      "\r",
      " 88%|████████▊ | 1107/1261 [05:20<00:44,  3.47it/s]"
     ]
    },
    {
     "name": "stdout",
     "output_type": "stream",
     "text": [
      "\n",
      "[640 640 640 ...,  79  79  79]\n",
      "[1036 1037 1038 ..., 1182 1183 1184]\n",
      "[613 613 613 ...,  79  79  79]\n",
      "[361 362 363 ..., 462 463 464]"
     ]
    },
    {
     "name": "stderr",
     "output_type": "stream",
     "text": [
      "\r",
      " 88%|████████▊ | 1108/1261 [05:20<00:43,  3.52it/s]"
     ]
    },
    {
     "name": "stdout",
     "output_type": "stream",
     "text": [
      "\n",
      "[640 640 640 ...,  79  79  79]\n",
      "[1015 1016 1017 ..., 1177 1178 1179]\n",
      "[645 645 645 ...,  79  79  79]\n",
      "[360 361 362 ..., 452 453 454]"
     ]
    },
    {
     "name": "stderr",
     "output_type": "stream",
     "text": [
      "\r",
      " 88%|████████▊ | 1109/1261 [05:20<00:42,  3.56it/s]"
     ]
    },
    {
     "name": "stdout",
     "output_type": "stream",
     "text": [
      "\n",
      "[640 640 640 ...,  79  79  79]\n",
      "[1022 1023 1024 ..., 1182 1183 1184]\n",
      "[673 673 673 ...,  79  79  79]\n",
      "[360 361 362 ..., 457 458 459]"
     ]
    },
    {
     "name": "stderr",
     "output_type": "stream",
     "text": [
      "\r",
      " 88%|████████▊ | 1110/1261 [05:20<00:42,  3.54it/s]"
     ]
    },
    {
     "name": "stdout",
     "output_type": "stream",
     "text": [
      "\n",
      "[640 640 640 ...,  79  79  79]\n",
      "[1005 1006 1007 ..., 1177 1178 1179]\n",
      "[703 703 703 ...,  79  79  79]\n",
      "[364 365 366 ..., 467 468 469]"
     ]
    },
    {
     "name": "stderr",
     "output_type": "stream",
     "text": [
      "\r",
      " 88%|████████▊ | 1111/1261 [05:21<00:42,  3.51it/s]"
     ]
    },
    {
     "name": "stdout",
     "output_type": "stream",
     "text": [
      "\n",
      "[640 640 640 ...,  79  79  79]\n",
      "[1017 1018 1019 ..., 1140 1141 1142]\n",
      "[560 560 560 ..., 159 159 159]\n",
      "[359 360 361 ..., 457 458 459]"
     ]
    },
    {
     "name": "stderr",
     "output_type": "stream",
     "text": [
      "\r",
      " 88%|████████▊ | 1112/1261 [05:21<00:43,  3.46it/s]"
     ]
    },
    {
     "name": "stdout",
     "output_type": "stream",
     "text": [
      "\n",
      "[640 640 640 ...,  79  79  79]\n",
      "[1001 1002 1003 ..., 1144 1145 1146]\n",
      "[640 640 640 ..., 159 159 159]\n",
      "[359 360 361 ..., 457 458 459]"
     ]
    },
    {
     "name": "stderr",
     "output_type": "stream",
     "text": [
      "\r",
      " 88%|████████▊ | 1113/1261 [05:21<00:42,  3.47it/s]"
     ]
    },
    {
     "name": "stdout",
     "output_type": "stream",
     "text": [
      "\n",
      "[640 640 640 ...,  79  79  79]\n",
      "[ 998  999 1000 ..., 1109 1110 1111]\n",
      "[640 640 640 ..., 239 239 239]\n",
      "[357 358 359 ..., 452 453 454]"
     ]
    },
    {
     "name": "stderr",
     "output_type": "stream",
     "text": [
      "\r",
      " 88%|████████▊ | 1114/1261 [05:22<00:41,  3.53it/s]"
     ]
    },
    {
     "name": "stdout",
     "output_type": "stream",
     "text": [
      "\n",
      "[640 640 640 ...,  79  79  79]\n",
      "[ 999 1000 1001 ..., 1087 1088 1089]\n",
      "[640 640 640 ..., 319 319 319]\n",
      "[355 356 357 ..., 441 442 443]"
     ]
    },
    {
     "name": "stderr",
     "output_type": "stream",
     "text": [
      "\r",
      " 88%|████████▊ | 1115/1261 [05:22<00:41,  3.51it/s]"
     ]
    },
    {
     "name": "stdout",
     "output_type": "stream",
     "text": [
      "\n",
      "[640 640 640 ...,  79  79  79]\n",
      "[ 999 1000 1001 ..., 1087 1088 1089]\n",
      "[640 640 640 ..., 319 319 319]\n",
      "[359 360 361 ..., 452 453 454]"
     ]
    },
    {
     "name": "stderr",
     "output_type": "stream",
     "text": [
      "\r",
      " 89%|████████▊ | 1116/1261 [05:22<00:41,  3.53it/s]"
     ]
    },
    {
     "name": "stdout",
     "output_type": "stream",
     "text": [
      "\n",
      "[640 640 640 ...,  79  79  79]\n",
      "[ 999 1000 1001 ..., 1149 1150 1151]\n",
      "[663 663 663 ...,  63  63  63]\n",
      "[359 360 361 ..., 457 458 459]"
     ]
    },
    {
     "name": "stderr",
     "output_type": "stream",
     "text": [
      "\r",
      " 89%|████████▊ | 1117/1261 [05:22<00:41,  3.50it/s]"
     ]
    },
    {
     "name": "stdout",
     "output_type": "stream",
     "text": [
      "\n",
      "[640 640 640 ...,  79  79  79]\n",
      "[ 992  993  994 ..., 1151 1152 1153]\n",
      "[692 692 692 ...,  79  79  79]\n",
      "[357 358 359 ..., 462 463 464]"
     ]
    },
    {
     "name": "stderr",
     "output_type": "stream",
     "text": [
      "\r",
      " 89%|████████▊ | 1118/1261 [05:23<00:40,  3.50it/s]"
     ]
    },
    {
     "name": "stdout",
     "output_type": "stream",
     "text": [
      "\n",
      "[640 640 640 ...,  79  79  79]\n",
      "[1003 1004 1005 ..., 1156 1157 1158]\n",
      "[608 608 608 ...,  79  79  79]\n",
      "[356 357 358 ..., 452 453 454]"
     ]
    },
    {
     "name": "stderr",
     "output_type": "stream",
     "text": [
      "\r",
      " 89%|████████▊ | 1119/1261 [05:23<00:40,  3.49it/s]"
     ]
    },
    {
     "name": "stdout",
     "output_type": "stream",
     "text": [
      "\n",
      "[640 640 640 ...,  79  79  79]\n",
      "[ 990  991  992 ..., 1161 1162 1163]\n",
      "[640 640 640 ...,  79  79  79]\n",
      "[354 355 356 ..., 436 437 438]"
     ]
    },
    {
     "name": "stderr",
     "output_type": "stream",
     "text": [
      "\r",
      " 89%|████████▉ | 1120/1261 [05:23<00:42,  3.35it/s]"
     ]
    },
    {
     "name": "stdout",
     "output_type": "stream",
     "text": [
      "\n",
      "[640 640 640 ...,  79  79  79]\n",
      "[ 985  986  987 ..., 1166 1167 1168]\n",
      "[663 663 663 ...,  79  79  79]\n",
      "[351 352 353 ..., 431 432 433]"
     ]
    },
    {
     "name": "stderr",
     "output_type": "stream",
     "text": [
      "\r",
      " 89%|████████▉ | 1121/1261 [05:24<00:40,  3.44it/s]"
     ]
    },
    {
     "name": "stdout",
     "output_type": "stream",
     "text": [
      "\n",
      "[640 640 640 ...,  79  79  79]\n",
      "[ 986  997  998 ..., 1177 1178 1179]\n",
      "[690 691 691 ...,  79  79  79]\n",
      "[350 351 352 ..., 420 421 422]"
     ]
    },
    {
     "name": "stderr",
     "output_type": "stream",
     "text": [
      "\r",
      " 89%|████████▉ | 1122/1261 [05:24<00:40,  3.43it/s]"
     ]
    },
    {
     "name": "stdout",
     "output_type": "stream",
     "text": [
      "\n",
      "[640 640 640 ...,  79  79  79]\n",
      "[1004 1005 1006 ..., 1182 1183 1184]\n",
      "[560 560 560 ...,  79  79  79]\n",
      "[352 353 354 ..., 410 411 412]"
     ]
    },
    {
     "name": "stderr",
     "output_type": "stream",
     "text": [
      "\r",
      " 89%|████████▉ | 1123/1261 [05:24<00:40,  3.43it/s]"
     ]
    },
    {
     "name": "stdout",
     "output_type": "stream",
     "text": [
      "\n",
      "[640 640 640 ...,  79  79  79]\n",
      "[1006 1007 1008 ..., 1163 1164 1165]\n",
      "[560 560 560 ..., 159 159 159]\n",
      "[350 351 352 ..., 425 426 427]"
     ]
    },
    {
     "name": "stderr",
     "output_type": "stream",
     "text": [
      "\r",
      " 89%|████████▉ | 1124/1261 [05:24<00:39,  3.44it/s]"
     ]
    },
    {
     "name": "stdout",
     "output_type": "stream",
     "text": [
      "\n",
      "[640 640 640 ...,  79  79  79]\n",
      "[ 990  991  992 ..., 1158 1159 1160]\n",
      "[640 640 640 ..., 159 159 159]\n",
      "[347 348 349 ..., 415 416 417]"
     ]
    },
    {
     "name": "stderr",
     "output_type": "stream",
     "text": [
      "\r",
      " 89%|████████▉ | 1125/1261 [05:25<00:38,  3.52it/s]"
     ]
    },
    {
     "name": "stdout",
     "output_type": "stream",
     "text": [
      "\n",
      "[640 640 640 ...,  79  79  79]\n",
      "[ 993  994  995 ..., 1134 1135 1136]\n",
      "[640 640 640 ..., 239 239 239]\n",
      "[349 350 351 ..., 420 421 422]"
     ]
    },
    {
     "name": "stderr",
     "output_type": "stream",
     "text": [
      "\r",
      " 89%|████████▉ | 1126/1261 [05:25<00:37,  3.57it/s]"
     ]
    },
    {
     "name": "stdout",
     "output_type": "stream",
     "text": [
      "\n",
      "[640 640 640 ...,  79  79  79]\n",
      "[ 991  992  993 ..., 1134 1135 1136]\n",
      "[640 640 640 ..., 239 239 239]\n",
      "[350 351 352 ..., 425 426 427]"
     ]
    },
    {
     "name": "stderr",
     "output_type": "stream",
     "text": [
      "\r",
      " 89%|████████▉ | 1127/1261 [05:25<00:38,  3.51it/s]"
     ]
    },
    {
     "name": "stdout",
     "output_type": "stream",
     "text": [
      "\n",
      "[640 640 640 ...,  79  79  79]\n",
      "[1004 1005  994 ..., 1105 1106 1107]\n",
      "[650 650 651 ..., 319 319 319]\n",
      "[349 350 351 ..., 420 421 422]"
     ]
    },
    {
     "name": "stderr",
     "output_type": "stream",
     "text": [
      "\r",
      " 89%|████████▉ | 1128/1261 [05:26<00:37,  3.55it/s]"
     ]
    },
    {
     "name": "stdout",
     "output_type": "stream",
     "text": [
      "\n",
      "[640 640 640 ...,  79  79  79]\n",
      "[ 997  998  999 ..., 1109 1110 1111]\n",
      "[679 679 679 ..., 319 319 319]\n",
      "[351 352 353 ..., 436 437 438]"
     ]
    },
    {
     "name": "stderr",
     "output_type": "stream",
     "text": [
      "\r",
      " 90%|████████▉ | 1129/1261 [05:26<00:37,  3.52it/s]"
     ]
    },
    {
     "name": "stdout",
     "output_type": "stream",
     "text": [
      "\n",
      "[640 640 640 ...,  79  79  79]\n",
      "[ 984  985  986 ..., 1161 1162 1163]\n",
      "[709 709 709 ...,  79  79  79]\n",
      "[351 352 353 ..., 441 442 443]"
     ]
    },
    {
     "name": "stderr",
     "output_type": "stream",
     "text": [
      "\r",
      " 90%|████████▉ | 1130/1261 [05:26<00:36,  3.55it/s]"
     ]
    },
    {
     "name": "stdout",
     "output_type": "stream",
     "text": [
      "\n",
      "[640 640 640 ...,  79  79  79]\n",
      "[1011 1012 1013 ..., 1182 1183 1184]\n",
      "[619 619 619 ...,  79  79  79]\n",
      "[350 351 352 ..., 441 442 443]"
     ]
    },
    {
     "name": "stderr",
     "output_type": "stream",
     "text": [
      "\r",
      " 90%|████████▉ | 1131/1261 [05:26<00:37,  3.49it/s]"
     ]
    },
    {
     "name": "stdout",
     "output_type": "stream",
     "text": [
      "\n",
      "[640 640 640 ...,  79  79  79]\n",
      "[1011 1012 1013 ..., 1177 1178 1179]\n",
      "[648 648 648 ...,  79  79  79]\n",
      "[351 352 353 ..., 462 463 464]"
     ]
    },
    {
     "name": "stderr",
     "output_type": "stream",
     "text": [
      "\r",
      " 90%|████████▉ | 1132/1261 [05:27<00:36,  3.52it/s]"
     ]
    },
    {
     "name": "stdout",
     "output_type": "stream",
     "text": [
      "\n",
      "[640 640 640 ...,  79  79  79]\n",
      "[1000 1001 1002 ..., 1161 1162 1163]\n",
      "[679 679 679 ...,  79  79  79]\n",
      "[347 348 349 ..., 446 447 448]"
     ]
    },
    {
     "name": "stderr",
     "output_type": "stream",
     "text": [
      "\r",
      " 90%|████████▉ | 1133/1261 [05:27<00:35,  3.57it/s]"
     ]
    },
    {
     "name": "stdout",
     "output_type": "stream",
     "text": [
      "\n",
      "[640 640 640 ...,  79  79  79]\n",
      "[ 979  980  981 ..., 1149 1150 1151]\n",
      "[707 707 707 ..., 159 159 159]\n",
      "[346 347 348 ..., 446 447 448]"
     ]
    },
    {
     "name": "stderr",
     "output_type": "stream",
     "text": [
      "\r",
      " 90%|████████▉ | 1134/1261 [05:27<00:35,  3.55it/s]"
     ]
    },
    {
     "name": "stdout",
     "output_type": "stream",
     "text": [
      "\n",
      "[640 640 640 ...,  79  79  79]\n",
      "[1003 1004 1005 ..., 1144 1145 1146]\n",
      "[560 560 560 ..., 159 159 159]\n",
      "[352 353 354 ..., 446 447 448]"
     ]
    },
    {
     "name": "stderr",
     "output_type": "stream",
     "text": [
      "\r",
      " 90%|█████████ | 1135/1261 [05:28<00:35,  3.54it/s]"
     ]
    },
    {
     "name": "stdout",
     "output_type": "stream",
     "text": [
      "\n",
      "[640 640 640 ...,  79  79  79]\n",
      "[ 987  988  989 ..., 1113 1114 1115]\n",
      "[640 640 640 ..., 239 239 239]\n",
      "[347 348 349 ..., 446 447 448]"
     ]
    },
    {
     "name": "stderr",
     "output_type": "stream",
     "text": [
      "\r",
      " 90%|█████████ | 1136/1261 [05:28<00:35,  3.54it/s]"
     ]
    },
    {
     "name": "stdout",
     "output_type": "stream",
     "text": [
      "\n",
      "[640 640 640 ...,  79  79  79]\n",
      "[ 985  986  987 ..., 1109 1110 1111]\n",
      "[640 640 640 ..., 239 239 239]\n",
      "[345 346 347 ..., 457 458 459]"
     ]
    },
    {
     "name": "stderr",
     "output_type": "stream",
     "text": [
      "\r",
      " 90%|█████████ | 1137/1261 [05:28<00:35,  3.54it/s]"
     ]
    },
    {
     "name": "stdout",
     "output_type": "stream",
     "text": [
      "\n",
      "[640 640 640 ...,  79  79  79]\n",
      "[ 984  985  986 ..., 1080 1081 1082]\n",
      "[640 640 640 ..., 319 319 319]\n",
      "[344 345 346 ..., 452 453 454]"
     ]
    },
    {
     "name": "stderr",
     "output_type": "stream",
     "text": [
      "\r",
      " 90%|█████████ | 1138/1261 [05:28<00:34,  3.52it/s]"
     ]
    },
    {
     "name": "stdout",
     "output_type": "stream",
     "text": [
      "\n",
      "[640 640 640 ...,  79  79  79]\n",
      "[ 990  991  992 ..., 1163 1164 1165]\n",
      "[647 647 647 ...,  22  22  22]\n",
      "[346 347 348 ..., 446 447 448]"
     ]
    },
    {
     "name": "stderr",
     "output_type": "stream",
     "text": [
      "\r",
      " 90%|█████████ | 1139/1261 [05:29<00:34,  3.51it/s]"
     ]
    },
    {
     "name": "stdout",
     "output_type": "stream",
     "text": [
      "\n",
      "[640 640 640 ...,  79  79  79]\n",
      "[ 984  985  986 ..., 1146 1147 1148]\n",
      "[676 676 676 ...,  63  63  63]\n",
      "[345 346 347 ..., 478 479 480]"
     ]
    },
    {
     "name": "stderr",
     "output_type": "stream",
     "text": [
      "\r",
      " 90%|█████████ | 1140/1261 [05:29<00:34,  3.52it/s]"
     ]
    },
    {
     "name": "stdout",
     "output_type": "stream",
     "text": [
      "\n",
      "[640 640 640 ...,  79  79  79]\n",
      "[ 983  979  980 ..., 1151 1152 1153]\n",
      "[703 704 704 ...,  79  79  79]\n",
      "[342 343 344 ..., 436 437 438]"
     ]
    },
    {
     "name": "stderr",
     "output_type": "stream",
     "text": [
      "\r",
      " 90%|█████████ | 1141/1261 [05:29<00:34,  3.50it/s]"
     ]
    },
    {
     "name": "stdout",
     "output_type": "stream",
     "text": [
      "\n",
      "[640 640 640 ...,  79  79  79]\n",
      "[1020 1021 1022 ..., 1156 1157 1158]\n",
      "[610 610 610 ...,  79  79  79]\n",
      "[344 345 346 ..., 441 442 443]"
     ]
    },
    {
     "name": "stderr",
     "output_type": "stream",
     "text": [
      "\r",
      " 91%|█████████ | 1142/1261 [05:30<00:33,  3.52it/s]"
     ]
    },
    {
     "name": "stdout",
     "output_type": "stream",
     "text": [
      "\n",
      "[640 640 640 ...,  79  79  79]\n",
      "[ 998  999 1000 ..., 1151 1152 1153]\n",
      "[641 641 641 ...,  79  79  79]\n",
      "[344 345 346 ..., 441 442 443]"
     ]
    },
    {
     "name": "stderr",
     "output_type": "stream",
     "text": [
      "\r",
      " 91%|█████████ | 1143/1261 [05:30<00:33,  3.49it/s]"
     ]
    },
    {
     "name": "stdout",
     "output_type": "stream",
     "text": [
      "\n",
      "[640 640 640 ...,  79  79  79]\n",
      "[ 994  995  996 ..., 1151 1152 1153]\n",
      "[670 670 670 ...,  79  79  79]\n",
      "[345 346 347 ..., 441 442 443]"
     ]
    },
    {
     "name": "stderr",
     "output_type": "stream",
     "text": [
      "\r",
      " 91%|█████████ | 1144/1261 [05:30<00:33,  3.53it/s]"
     ]
    },
    {
     "name": "stdout",
     "output_type": "stream",
     "text": [
      "\n",
      "[640 640 640 ...,  79  79  79]\n",
      "[ 980  981  996 ..., 1126 1127 1128]\n",
      "[698 698 698 ..., 159 159 159]\n",
      "[347 348 349 ..., 446 447 448]"
     ]
    },
    {
     "name": "stderr",
     "output_type": "stream",
     "text": [
      "\r",
      " 91%|█████████ | 1145/1261 [05:30<00:32,  3.54it/s]"
     ]
    },
    {
     "name": "stdout",
     "output_type": "stream",
     "text": [
      "\n",
      "[640 640 640 ...,  79  79  79]\n",
      "[ 995  996  997 ..., 1116 1117 1118]\n",
      "[560 560 560 ..., 159 159 159]\n",
      "[347 348 349 ..., 441 442 443]"
     ]
    },
    {
     "name": "stderr",
     "output_type": "stream",
     "text": [
      "\r",
      " 91%|█████████ | 1146/1261 [05:31<00:32,  3.58it/s]"
     ]
    },
    {
     "name": "stdout",
     "output_type": "stream",
     "text": [
      "\n",
      "[640 640 640 ...,  79  79  79]\n",
      "[ 986  987  988 ..., 1101 1102 1103]\n",
      "[640 640 640 ..., 239 239 239]\n",
      "[346 347 348 ..., 441 442 443]"
     ]
    },
    {
     "name": "stderr",
     "output_type": "stream",
     "text": [
      "\r",
      " 91%|█████████ | 1147/1261 [05:31<00:32,  3.52it/s]"
     ]
    },
    {
     "name": "stdout",
     "output_type": "stream",
     "text": [
      "\n",
      "[640 640 640 ...,  79  79  79]\n",
      "[ 985  986  987 ..., 1097 1098 1099]\n",
      "[640 640 640 ..., 239 239 239]\n",
      "[349 350 354 ..., 446 447 448]"
     ]
    },
    {
     "name": "stderr",
     "output_type": "stream",
     "text": [
      "\r",
      " 91%|█████████ | 1148/1261 [05:31<00:32,  3.51it/s]"
     ]
    },
    {
     "name": "stdout",
     "output_type": "stream",
     "text": [
      "\n",
      "[640 640 640 ...,  79  79  79]\n",
      "[ 982  983  984 ..., 1073 1074 1075]\n",
      "[640 640 640 ..., 319 319 319]\n",
      "[349 350 351 ..., 431 432 433]"
     ]
    },
    {
     "name": "stderr",
     "output_type": "stream",
     "text": [
      "\r",
      " 91%|█████████ | 1149/1261 [05:32<00:31,  3.57it/s]"
     ]
    },
    {
     "name": "stdout",
     "output_type": "stream",
     "text": [
      "\n",
      "[640 640 640 ...,  79  79  79]\n",
      "[ 986  987  988 ..., 1080 1081 1082]\n",
      "[640 640 640 ..., 319 319 319]\n",
      "[347 348 349 ..., 436 437 438]"
     ]
    },
    {
     "name": "stderr",
     "output_type": "stream",
     "text": [
      "\r",
      " 91%|█████████ | 1150/1261 [05:32<00:30,  3.62it/s]"
     ]
    },
    {
     "name": "stdout",
     "output_type": "stream",
     "text": [
      "\n",
      "[640 640 640 ...,  79  79  79]\n",
      "[ 995  996  997 ..., 1149 1150 1151]\n",
      "[662 662 662 ...,  43  43  43]\n",
      "[351 352 353 ..., 436 437 438]"
     ]
    },
    {
     "name": "stderr",
     "output_type": "stream",
     "text": [
      "\r",
      " 91%|█████████▏| 1151/1261 [05:32<00:30,  3.64it/s]"
     ]
    },
    {
     "name": "stdout",
     "output_type": "stream",
     "text": [
      "\n",
      "[640 640 640 ...,  79  79  79]\n",
      "[ 986  987  988 ..., 1135 1136 1137]\n",
      "[691 691 691 ...,  79  79  79]\n",
      "[347 348 349 ..., 457 458 459]"
     ]
    },
    {
     "name": "stderr",
     "output_type": "stream",
     "text": [
      "\r",
      " 91%|█████████▏| 1152/1261 [05:32<00:31,  3.52it/s]"
     ]
    },
    {
     "name": "stdout",
     "output_type": "stream",
     "text": [
      "\n",
      "[640 640 640 ...,  79  79  79]\n",
      "[1010 1011 1012 ..., 1151 1152 1153]\n",
      "[600 600 600 ...,  79  79  79]\n",
      "[347 348 349 ..., 441 442 443]"
     ]
    },
    {
     "name": "stderr",
     "output_type": "stream",
     "text": [
      "\r",
      " 91%|█████████▏| 1153/1261 [05:33<00:30,  3.51it/s]"
     ]
    },
    {
     "name": "stdout",
     "output_type": "stream",
     "text": [
      "\n",
      "[640 640 640 ...,  79  79  79]\n",
      "[1004 1005 1006 ..., 1151 1152 1153]\n",
      "[630 630 630 ...,  79  79  79]\n",
      "[344 345 346 ..., 425 426 427]"
     ]
    },
    {
     "name": "stderr",
     "output_type": "stream",
     "text": [
      "\r",
      " 92%|█████████▏| 1154/1261 [05:33<00:30,  3.50it/s]"
     ]
    },
    {
     "name": "stdout",
     "output_type": "stream",
     "text": [
      "\n",
      "[640 640 640 ...,  79  79  79]\n",
      "[1007 1008 1009 ..., 1161 1162 1163]\n",
      "[657 657 657 ...,  79  79  79]\n",
      "[344 345 346 ..., 431 432 433]"
     ]
    },
    {
     "name": "stderr",
     "output_type": "stream",
     "text": [
      "\r",
      " 92%|█████████▏| 1155/1261 [05:33<00:30,  3.44it/s]"
     ]
    },
    {
     "name": "stdout",
     "output_type": "stream",
     "text": [
      "\n",
      "[640 640 640 ...,  79  79  79]\n",
      "[ 982  983  997 ..., 1161 1162 1163]\n",
      "[687 687 687 ...,  79  79  79]\n",
      "[342 343 344 ..., 431 432 433]"
     ]
    },
    {
     "name": "stderr",
     "output_type": "stream",
     "text": [
      "\r",
      " 92%|█████████▏| 1156/1261 [05:34<00:31,  3.38it/s]"
     ]
    },
    {
     "name": "stdout",
     "output_type": "stream",
     "text": [
      "\n",
      "[640 640 640 ...,  79  79  79]\n",
      "[ 999 1000 1001 ..., 1135 1136 1137]\n",
      "[560 560 560 ..., 159 159 159]\n",
      "[339 340 341 ..., 415 416 417]"
     ]
    },
    {
     "name": "stderr",
     "output_type": "stream",
     "text": [
      "\r",
      " 92%|█████████▏| 1157/1261 [05:34<00:30,  3.39it/s]"
     ]
    },
    {
     "name": "stdout",
     "output_type": "stream",
     "text": [
      "\n",
      "[640 640 640 ...,  79  79  79]\n",
      "[1004 1005 1006 ..., 1144 1145 1146]\n",
      "[560 560 560 ..., 159 159 159]\n",
      "[340 341 342 ..., 425 426 427]"
     ]
    },
    {
     "name": "stderr",
     "output_type": "stream",
     "text": [
      "\r",
      " 92%|█████████▏| 1158/1261 [05:34<00:29,  3.46it/s]"
     ]
    },
    {
     "name": "stdout",
     "output_type": "stream",
     "text": [
      "\n",
      "[640 640 640 ...,  79  79  79]\n",
      "[ 989  990  991 ..., 1144 1145 1146]\n",
      "[640 640 640 ..., 159 159 159]\n",
      "[337 338 339 ..., 436 437 438]"
     ]
    },
    {
     "name": "stderr",
     "output_type": "stream",
     "text": [
      "\r",
      " 92%|█████████▏| 1159/1261 [05:34<00:29,  3.47it/s]"
     ]
    },
    {
     "name": "stdout",
     "output_type": "stream",
     "text": [
      "\n",
      "[640 640 640 ...,  79  79  79]\n",
      "[ 989  990  991 ..., 1117 1118 1119]\n",
      "[640 640 640 ..., 239 239 239]\n",
      "[339 340 341 ..., 441 442 443]"
     ]
    },
    {
     "name": "stderr",
     "output_type": "stream",
     "text": [
      "\r",
      " 92%|█████████▏| 1160/1261 [05:35<00:29,  3.45it/s]"
     ]
    },
    {
     "name": "stdout",
     "output_type": "stream",
     "text": [
      "\n",
      "[640 640 640 ...,  79  79  79]\n",
      "[ 986  987  988 ..., 1087 1088 1089]\n",
      "[640 640 640 ..., 319 319 319]\n",
      "[341 342 343 ..., 457 458 459]"
     ]
    },
    {
     "name": "stderr",
     "output_type": "stream",
     "text": [
      "\r",
      " 92%|█████████▏| 1161/1261 [05:35<00:28,  3.52it/s]"
     ]
    },
    {
     "name": "stdout",
     "output_type": "stream",
     "text": [
      "\n",
      "[640 640 640 ...,  79  79  79]\n",
      "[ 998  999  992 ..., 1171 1172 1173]\n",
      "[650 650 651 ...,  22  22  22]\n",
      "[339 340 341 ..., 452 453 454]"
     ]
    },
    {
     "name": "stderr",
     "output_type": "stream",
     "text": [
      "\r",
      " 92%|█████████▏| 1162/1261 [05:35<00:28,  3.50it/s]"
     ]
    },
    {
     "name": "stdout",
     "output_type": "stream",
     "text": [
      "\n",
      "[640 640 640 ...,  79  79  79]\n",
      "[ 995  996  997 ..., 1159 1160 1161]\n",
      "[678 678 678 ...,  43  43  43]\n",
      "[341 342 343 ..., 452 453 454]"
     ]
    },
    {
     "name": "stderr",
     "output_type": "stream",
     "text": [
      "\r",
      " 92%|█████████▏| 1163/1261 [05:36<00:27,  3.58it/s]"
     ]
    },
    {
     "name": "stdout",
     "output_type": "stream",
     "text": [
      "\n",
      "[640 640 640 ...,  79  79  79]\n",
      "[ 987  988  989 ..., 1161 1162 1163]\n",
      "[708 708 708 ...,  79  79  79]\n",
      "[340 341 342 ..., 467 468 469]"
     ]
    },
    {
     "name": "stderr",
     "output_type": "stream",
     "text": [
      "\r",
      " 92%|█████████▏| 1164/1261 [05:36<00:27,  3.54it/s]"
     ]
    },
    {
     "name": "stdout",
     "output_type": "stream",
     "text": [
      "\n",
      "[640 640 640 ...,  79  79  79]\n",
      "[1002 1003 1004 ..., 1166 1167 1168]\n",
      "[620 620 620 ...,  79  79  79]\n",
      "[337 338 339 ..., 446 447 448]"
     ]
    },
    {
     "name": "stderr",
     "output_type": "stream",
     "text": [
      "\r",
      " 92%|█████████▏| 1165/1261 [05:36<00:27,  3.55it/s]"
     ]
    },
    {
     "name": "stdout",
     "output_type": "stream",
     "text": [
      "\n",
      "[640 640 640 ...,  79  79  79]\n",
      "[1000 1001 1002 ..., 1177 1178 1179]\n",
      "[648 648 648 ...,  79  79  79]\n",
      "[337 338 339 ..., 452 453 454]"
     ]
    },
    {
     "name": "stderr",
     "output_type": "stream",
     "text": [
      "\r",
      " 92%|█████████▏| 1166/1261 [05:36<00:26,  3.55it/s]"
     ]
    },
    {
     "name": "stdout",
     "output_type": "stream",
     "text": [
      "\n",
      "[640 640 640 ...,  79  79  79]\n",
      "[ 982  983  992 ..., 1177 1178 1179]\n",
      "[678 678 678 ...,  79  79  79]\n",
      "[336 337 338 ..., 452 453 454]"
     ]
    },
    {
     "name": "stderr",
     "output_type": "stream",
     "text": [
      "\r",
      " 93%|█████████▎| 1167/1261 [05:37<00:26,  3.59it/s]"
     ]
    },
    {
     "name": "stdout",
     "output_type": "stream",
     "text": [
      "\n",
      "[640 640 640 ...,  79  79  79]\n",
      "[ 975  976  976 ..., 1177 1178 1179]\n",
      "[706 706 708 ...,  79  79  79]\n",
      "[335 336 337 ..., 457 458 459]"
     ]
    },
    {
     "name": "stderr",
     "output_type": "stream",
     "text": [
      "\r",
      " 93%|█████████▎| 1168/1261 [05:37<00:26,  3.57it/s]"
     ]
    },
    {
     "name": "stdout",
     "output_type": "stream",
     "text": [
      "\n",
      "[640 640 640 ...,  79  79  79]\n",
      "[ 999 1000 1001 ..., 1149 1150 1151]\n",
      "[560 560 560 ..., 159 159 159]\n",
      "[337 338 339 ..., 457 458 459]"
     ]
    },
    {
     "name": "stderr",
     "output_type": "stream",
     "text": [
      "\r",
      " 93%|█████████▎| 1169/1261 [05:37<00:25,  3.58it/s]"
     ]
    },
    {
     "name": "stdout",
     "output_type": "stream",
     "text": [
      "\n",
      "[640 640 640 ...,  79  79  79]\n",
      "[ 982  983  984 ..., 1113 1114 1115]\n",
      "[640 640 640 ..., 239 239 239]\n",
      "[335 336 337 ..., 457 458 459]"
     ]
    },
    {
     "name": "stderr",
     "output_type": "stream",
     "text": [
      "\r",
      " 93%|█████████▎| 1170/1261 [05:37<00:25,  3.57it/s]"
     ]
    },
    {
     "name": "stdout",
     "output_type": "stream",
     "text": [
      "\n",
      "[640 640 640 ...,  79  79  79]\n",
      "[ 982  983  984 ..., 1117 1118 1119]\n",
      "[640 640 640 ..., 239 239 239]\n",
      "[341 342 343 ..., 467 468 469]"
     ]
    },
    {
     "name": "stderr",
     "output_type": "stream",
     "text": [
      "\r",
      " 93%|█████████▎| 1171/1261 [05:38<00:25,  3.56it/s]"
     ]
    },
    {
     "name": "stdout",
     "output_type": "stream",
     "text": [
      "\n",
      "[640 640 640 ...,  79  79  79]\n",
      "[ 981  982  983 ..., 1084 1085 1086]\n",
      "[640 640 640 ..., 319 319 319]\n",
      "[340 341 342 ..., 467 468 469]"
     ]
    },
    {
     "name": "stderr",
     "output_type": "stream",
     "text": [
      "\r",
      " 93%|█████████▎| 1172/1261 [05:38<00:25,  3.52it/s]"
     ]
    },
    {
     "name": "stdout",
     "output_type": "stream",
     "text": [
      "\n",
      "[640 640 640 ...,  79  79  79]\n",
      "[ 986  987  988 ..., 1176 1177 1178]\n",
      "[650 650 650 ...,  22  22  22]\n",
      "[335 336 337 ..., 467 468 469]"
     ]
    },
    {
     "name": "stderr",
     "output_type": "stream",
     "text": [
      "\r",
      " 93%|█████████▎| 1173/1261 [05:38<00:25,  3.42it/s]"
     ]
    },
    {
     "name": "stdout",
     "output_type": "stream",
     "text": [
      "\n",
      "[640 640 640 ...,  79  79  79]\n",
      "[ 982  983  984 ..., 1161 1162 1163]\n",
      "[678 678 678 ...,  43  43  43]\n",
      "[344 345 346 ..., 473 474 475]"
     ]
    },
    {
     "name": "stderr",
     "output_type": "stream",
     "text": [
      "\r",
      " 93%|█████████▎| 1174/1261 [05:39<00:25,  3.44it/s]"
     ]
    },
    {
     "name": "stdout",
     "output_type": "stream",
     "text": [
      "\n",
      "[640 640 640 ...,  79  79  79]\n",
      "[ 974  976  977 ..., 1172 1173 1174]\n",
      "[705 707 707 ...,  79  79  79]\n",
      "[340 341 342 ..., 488 489 490]"
     ]
    },
    {
     "name": "stderr",
     "output_type": "stream",
     "text": [
      "\r",
      " 93%|█████████▎| 1175/1261 [05:39<00:24,  3.46it/s]"
     ]
    },
    {
     "name": "stdout",
     "output_type": "stream",
     "text": [
      "\n",
      "[640 640 640 ...,  79  79  79]\n",
      "[ 999 1000 1001 ..., 1177 1178 1179]\n",
      "[614 614 614 ...,  79  79  79]\n",
      "[342 343 344 ..., 478 479 480]"
     ]
    },
    {
     "name": "stderr",
     "output_type": "stream",
     "text": [
      "\r",
      " 93%|█████████▎| 1176/1261 [05:39<00:24,  3.46it/s]"
     ]
    },
    {
     "name": "stdout",
     "output_type": "stream",
     "text": [
      "\n",
      "[640 640 640 ...,  79  79  79]\n",
      "[ 996  997  998 ..., 1182 1183 1184]\n",
      "[643 643 643 ...,  79  79  79]\n",
      "[346 347 348 ..., 473 474 475]"
     ]
    },
    {
     "name": "stderr",
     "output_type": "stream",
     "text": [
      "\r",
      " 93%|█████████▎| 1177/1261 [05:39<00:23,  3.52it/s]"
     ]
    },
    {
     "name": "stdout",
     "output_type": "stream",
     "text": [
      "\n",
      "[640 640 640 ...,  79  79  79]\n",
      "[ 999 1000 1001 ..., 1177 1178 1179]\n",
      "[672 672 672 ...,  79  79  79]\n",
      "[345 346 347 ..., 467 468 469]"
     ]
    },
    {
     "name": "stderr",
     "output_type": "stream",
     "text": [
      "\r",
      " 93%|█████████▎| 1178/1261 [05:40<00:23,  3.54it/s]"
     ]
    },
    {
     "name": "stdout",
     "output_type": "stream",
     "text": [
      "\n",
      "[640 640 640 ...,  79  79  79]\n",
      "[ 978  985  986 ..., 1163 1164 1165]\n",
      "[699 701 701 ..., 159 159 159]\n",
      "[347 348 349 ..., 473 474 475]"
     ]
    },
    {
     "name": "stderr",
     "output_type": "stream",
     "text": [
      "\r",
      " 93%|█████████▎| 1179/1261 [05:40<00:22,  3.59it/s]"
     ]
    },
    {
     "name": "stdout",
     "output_type": "stream",
     "text": [
      "\n",
      "[640 640 640 ...,  79  79  79]\n",
      "[1004 1005 1006 ..., 1158 1159 1160]\n",
      "[560 560 560 ..., 159 159 159]\n",
      "[349 350 351 ..., 473 474 475]"
     ]
    },
    {
     "name": "stderr",
     "output_type": "stream",
     "text": [
      "\r",
      " 94%|█████████▎| 1180/1261 [05:40<00:22,  3.58it/s]"
     ]
    },
    {
     "name": "stdout",
     "output_type": "stream",
     "text": [
      "\n",
      "[640 640 640 ...,  79  79  79]\n",
      "[ 987  988  989 ..., 1130 1131 1132]\n",
      "[640 640 640 ..., 239 239 239]\n",
      "[349 350 351 ..., 467 468 469]"
     ]
    },
    {
     "name": "stderr",
     "output_type": "stream",
     "text": [
      "\r",
      " 94%|█████████▎| 1181/1261 [05:41<00:22,  3.62it/s]"
     ]
    },
    {
     "name": "stdout",
     "output_type": "stream",
     "text": [
      "\n",
      "[640 640 640 ...,  79  79  79]\n",
      "[ 990  991  992 ..., 1138 1139 1140]\n",
      "[640 640 640 ..., 239 239 239]\n",
      "[359 360 361 ..., 473 474 475]"
     ]
    },
    {
     "name": "stderr",
     "output_type": "stream",
     "text": [
      "\r",
      " 94%|█████████▎| 1182/1261 [05:41<00:21,  3.61it/s]"
     ]
    },
    {
     "name": "stdout",
     "output_type": "stream",
     "text": [
      "\n",
      "[640 640 640 ...,  79  79  79]\n",
      "[ 993  994  995 ..., 1109 1110 1111]\n",
      "[640 640 640 ..., 319 319 319]\n",
      "[352 353 354 ..., 473 474 475]"
     ]
    },
    {
     "name": "stderr",
     "output_type": "stream",
     "text": [
      "\r",
      " 94%|█████████▍| 1183/1261 [05:41<00:22,  3.54it/s]"
     ]
    },
    {
     "name": "stdout",
     "output_type": "stream",
     "text": [
      "\n",
      "[640 640 640 ...,  79  79  79]\n",
      "[1000 1001 1002 ..., 1112 1113 1114]\n",
      "[640 640 640 ..., 319 319 319]\n",
      "[359 360 361 ..., 478 479 480]"
     ]
    },
    {
     "name": "stderr",
     "output_type": "stream",
     "text": [
      "\r",
      " 94%|█████████▍| 1184/1261 [05:41<00:22,  3.49it/s]"
     ]
    },
    {
     "name": "stdout",
     "output_type": "stream",
     "text": [
      "\n",
      "[640 640 640 ...,  79  79  79]\n",
      "[ 997  998  999 ..., 1199 1200 1201]\n",
      "[668 668 668 ...,  43  43  43]\n",
      "[359 360 361 ..., 483 484 485]"
     ]
    },
    {
     "name": "stderr",
     "output_type": "stream",
     "text": [
      "\r",
      " 94%|█████████▍| 1185/1261 [05:42<00:21,  3.56it/s]"
     ]
    },
    {
     "name": "stdout",
     "output_type": "stream",
     "text": [
      "\n",
      "[640 640 640 ...,  79  79  79]\n",
      "[ 992  993  999 ..., 1187 1188 1189]\n",
      "[697 697 697 ...,  79  79  79]\n",
      "[361 362 363 ..., 478 479 480]"
     ]
    },
    {
     "name": "stderr",
     "output_type": "stream",
     "text": [
      "\r",
      " 94%|█████████▍| 1186/1261 [05:42<00:21,  3.55it/s]"
     ]
    },
    {
     "name": "stdout",
     "output_type": "stream",
     "text": [
      "\n",
      "[640 640 640 ...,  79  79  79]\n",
      "[1022 1023 1024 ..., 1203 1204 1205]\n",
      "[604 604 604 ...,  79  79  79]\n",
      "[360 361 362 ..., 494 495 496]"
     ]
    },
    {
     "name": "stderr",
     "output_type": "stream",
     "text": [
      "\r",
      " 94%|█████████▍| 1187/1261 [05:42<00:21,  3.48it/s]"
     ]
    },
    {
     "name": "stdout",
     "output_type": "stream",
     "text": [
      "\n",
      "[640 640 640 ...,  79  79  79]\n",
      "[1023 1024 1025 ..., 1203 1204 1205]\n",
      "[633 633 633 ...,  79  79  79]\n",
      "[360 361 362 ..., 488 489 490]"
     ]
    },
    {
     "name": "stderr",
     "output_type": "stream",
     "text": [
      "\r",
      " 94%|█████████▍| 1188/1261 [05:43<00:21,  3.44it/s]"
     ]
    },
    {
     "name": "stdout",
     "output_type": "stream",
     "text": [
      "\n",
      "[640 640 640 ...,  79  79  79]\n",
      "[1014 1015 1016 ..., 1203 1204 1205]\n",
      "[663 663 663 ...,  79  79  79]\n",
      "[359 360 361 ..., 488 489 490]"
     ]
    },
    {
     "name": "stderr",
     "output_type": "stream",
     "text": [
      "\r",
      " 94%|█████████▍| 1189/1261 [05:43<00:20,  3.43it/s]"
     ]
    },
    {
     "name": "stdout",
     "output_type": "stream",
     "text": [
      "\n",
      "[640 640 640 ...,  79  79  79]\n",
      "[ 998  999 1000 ..., 1208 1209 1210]\n",
      "[691 691 691 ...,  79  79  79]\n",
      "[360 361 362 ..., 483 484 485]"
     ]
    },
    {
     "name": "stderr",
     "output_type": "stream",
     "text": [
      "\r",
      " 94%|█████████▍| 1190/1261 [05:43<00:20,  3.45it/s]"
     ]
    },
    {
     "name": "stdout",
     "output_type": "stream",
     "text": [
      "\n",
      "[640 640 640 ...,  79  79  79]\n",
      "[1017 1018 1019 ..., 1173 1174 1175]\n",
      "[560 560 560 ..., 159 159 159]\n",
      "[361 362 363 ..., 483 484 485]"
     ]
    },
    {
     "name": "stderr",
     "output_type": "stream",
     "text": [
      "\r",
      " 94%|█████████▍| 1191/1261 [05:43<00:20,  3.47it/s]"
     ]
    },
    {
     "name": "stdout",
     "output_type": "stream",
     "text": [
      "\n",
      "[640 640 640 ...,  79  79  79]\n",
      "[1015 1016 1017 ..., 1138 1139 1140]\n",
      "[560 560 560 ..., 239 239 239]\n",
      "[362 363 364 ..., 488 489 490]"
     ]
    },
    {
     "name": "stderr",
     "output_type": "stream",
     "text": [
      "\r",
      " 95%|█████████▍| 1192/1261 [05:44<00:19,  3.47it/s]"
     ]
    },
    {
     "name": "stdout",
     "output_type": "stream",
     "text": [
      "\n",
      "[640 640 640 ...,  79  79  79]\n",
      "[ 999 1000 1001 ..., 1130 1131 1132]\n",
      "[640 640 640 ..., 239 239 239]\n",
      "[365 366 367 ..., 494 495 496]"
     ]
    },
    {
     "name": "stderr",
     "output_type": "stream",
     "text": [
      "\r",
      " 95%|█████████▍| 1193/1261 [05:44<00:19,  3.42it/s]"
     ]
    },
    {
     "name": "stdout",
     "output_type": "stream",
     "text": [
      "\n",
      "[640 640 640 ...,  79  79  79]\n",
      "[ 996  997  998 ..., 1098 1099 1100]\n",
      "[640 640 640 ..., 319 319 319]\n",
      "[362 363 364 ..., 494 495 496]"
     ]
    },
    {
     "name": "stderr",
     "output_type": "stream",
     "text": [
      "\r",
      " 95%|█████████▍| 1194/1261 [05:44<00:19,  3.41it/s]"
     ]
    },
    {
     "name": "stdout",
     "output_type": "stream",
     "text": [
      "\n",
      "[640 640 640 ...,  79  79  79]\n",
      "[ 998  999 1000 ..., 1192 1193 1194]\n",
      "[640 640 640 ...,  22  22  22]\n",
      "[364 365 366 ..., 494 495 496]"
     ]
    },
    {
     "name": "stderr",
     "output_type": "stream",
     "text": [
      "\r",
      " 95%|█████████▍| 1195/1261 [05:45<00:18,  3.49it/s]"
     ]
    },
    {
     "name": "stdout",
     "output_type": "stream",
     "text": [
      "\n",
      "[640 640 640 ...,  79  79  79]\n",
      "[ 999 1000 1001 ..., 1169 1170 1171]\n",
      "[663 663 663 ...,  63  63  63]\n",
      "[366 367 368 ..., 499 500 501]"
     ]
    },
    {
     "name": "stderr",
     "output_type": "stream",
     "text": [
      "\r",
      " 95%|█████████▍| 1196/1261 [05:45<00:18,  3.47it/s]"
     ]
    },
    {
     "name": "stdout",
     "output_type": "stream",
     "text": [
      "\n",
      "[640 640 640 ...,  79  79  79]\n",
      "[ 992  993  994 ..., 1172 1173 1174]\n",
      "[692 692 692 ...,  79  79  79]\n",
      "[361 362 363 ..., 499 500 501]"
     ]
    },
    {
     "name": "stderr",
     "output_type": "stream",
     "text": [
      "\r",
      " 95%|█████████▍| 1197/1261 [05:45<00:18,  3.49it/s]"
     ]
    },
    {
     "name": "stdout",
     "output_type": "stream",
     "text": [
      "\n",
      "[640 640 640 ...,  79  79  79]\n",
      "[1015 1016 1017 ..., 1177 1178 1179]\n",
      "[604 604 604 ...,  79  79  79]\n",
      "[362 363 364 ..., 488 489 490]"
     ]
    },
    {
     "name": "stderr",
     "output_type": "stream",
     "text": [
      "\r",
      " 95%|█████████▌| 1198/1261 [05:45<00:17,  3.51it/s]"
     ]
    },
    {
     "name": "stdout",
     "output_type": "stream",
     "text": [
      "\n",
      "[640 640 640 ...,  79  79  79]\n",
      "[1013 1014 1015 ..., 1187 1188 1189]\n",
      "[631 631 631 ...,  79  79  79]\n",
      "[357 358 359 ..., 473 474 475]"
     ]
    },
    {
     "name": "stderr",
     "output_type": "stream",
     "text": [
      "\r",
      " 95%|█████████▌| 1199/1261 [05:46<00:17,  3.50it/s]"
     ]
    },
    {
     "name": "stdout",
     "output_type": "stream",
     "text": [
      "\n",
      "[640 640 640 ...,  79  79  79]\n",
      "[1015 1016 1017 ..., 1203 1204 1205]\n",
      "[657 657 657 ...,  79  79  79]\n",
      "[354 355 356 ..., 467 468 469]"
     ]
    },
    {
     "name": "stderr",
     "output_type": "stream",
     "text": [
      "\r",
      " 95%|█████████▌| 1200/1261 [05:46<00:17,  3.47it/s]"
     ]
    },
    {
     "name": "stdout",
     "output_type": "stream",
     "text": [
      "\n",
      "[640 640 640 ...,  79  79  79]\n",
      "[1007 1008 1009 ..., 1219 1220 1221]\n",
      "[686 686 686 ...,  79  79  79]\n",
      "[360 361 362 ..., 462 463 464]"
     ]
    },
    {
     "name": "stderr",
     "output_type": "stream",
     "text": [
      "\r",
      " 95%|█████████▌| 1201/1261 [05:46<00:17,  3.46it/s]"
     ]
    },
    {
     "name": "stdout",
     "output_type": "stream",
     "text": [
      "\n",
      "[640 640 640 ...,  79  79  79]\n",
      "[1028 1029 1030 ..., 1214 1215 1216]\n",
      "[560 560 560 ...,  79  79  79]\n",
      "[357 358 359 ..., 457 458 459]"
     ]
    },
    {
     "name": "stderr",
     "output_type": "stream",
     "text": [
      "\r",
      " 95%|█████████▌| 1202/1261 [05:47<00:17,  3.42it/s]"
     ]
    },
    {
     "name": "stdout",
     "output_type": "stream",
     "text": [
      "\n",
      "[640 640 640 ...,  79  79  79]\n",
      "[1030 1031 1032 ..., 1187 1188 1189]\n",
      "[560 560 560 ..., 159 159 159]\n",
      "[357 358 359 ..., 446 447 448]"
     ]
    },
    {
     "name": "stderr",
     "output_type": "stream",
     "text": [
      "\r",
      " 95%|█████████▌| 1203/1261 [05:47<00:17,  3.36it/s]"
     ]
    },
    {
     "name": "stdout",
     "output_type": "stream",
     "text": [
      "\n",
      "[640 640 640 ...,  79  79  79]\n",
      "[1017 1018 1019 ..., 1182 1183 1184]\n",
      "[640 640 640 ..., 159 159 159]\n",
      "[360 361 362 ..., 488 489 490]"
     ]
    },
    {
     "name": "stderr",
     "output_type": "stream",
     "text": [
      "\r",
      " 95%|█████████▌| 1204/1261 [05:47<00:17,  3.28it/s]"
     ]
    },
    {
     "name": "stdout",
     "output_type": "stream",
     "text": [
      "\n",
      "[640 640 640 ...,  79  79  79]\n",
      "[1014 1015 1016 ..., 1150 1151 1152]\n",
      "[640 640 640 ..., 239 239 239]\n",
      "[364 365 366 ..., 499 500 501]"
     ]
    },
    {
     "name": "stderr",
     "output_type": "stream",
     "text": [
      "\r",
      " 96%|█████████▌| 1205/1261 [05:48<00:17,  3.28it/s]"
     ]
    },
    {
     "name": "stdout",
     "output_type": "stream",
     "text": [
      "\n",
      "[640 640 640 ...,  79  79  79]\n",
      "[1014 1015 1016 ..., 1119 1120 1121]\n",
      "[640 640 640 ..., 319 319 319]\n",
      "[368 369 370 ..., 520 521 522]"
     ]
    },
    {
     "name": "stderr",
     "output_type": "stream",
     "text": [
      "\r",
      " 96%|█████████▌| 1206/1261 [05:48<00:16,  3.32it/s]"
     ]
    },
    {
     "name": "stdout",
     "output_type": "stream",
     "text": [
      "\n",
      "[640 640 640 ...,  79  79  79]\n",
      "[1017 1018 1019 ..., 1203 1204 1205]\n",
      "[651 651 651 ...,  43  43  43]\n",
      "[371 372 373 ..., 530 531 532]"
     ]
    },
    {
     "name": "stderr",
     "output_type": "stream",
     "text": [
      "\r",
      " 96%|█████████▌| 1207/1261 [05:48<00:16,  3.33it/s]"
     ]
    },
    {
     "name": "stdout",
     "output_type": "stream",
     "text": [
      "\n",
      "[640 640 640 ...,  79  79  79]\n",
      "[1009 1010 1011 ..., 1177 1178 1179]\n",
      "[681 681 681 ...,  79  79  79]\n",
      "[375 376 377 ..., 530 531 532]"
     ]
    },
    {
     "name": "stderr",
     "output_type": "stream",
     "text": [
      "\r",
      " 96%|█████████▌| 1208/1261 [05:48<00:15,  3.32it/s]"
     ]
    },
    {
     "name": "stdout",
     "output_type": "stream",
     "text": [
      "\n",
      "[640 640 640 ...,  79  79  79]\n",
      "[1027 1028 1029 ..., 1208 1209 1210]\n",
      "[592 592 592 ...,  79  79  79]\n",
      "[374 375 376 ..., 536 537 538]"
     ]
    },
    {
     "name": "stderr",
     "output_type": "stream",
     "text": [
      "\r",
      " 96%|█████████▌| 1209/1261 [05:49<00:15,  3.31it/s]"
     ]
    },
    {
     "name": "stdout",
     "output_type": "stream",
     "text": [
      "\n",
      "[640 640 640 ...,  79  79  79]\n",
      "[1018 1019 1020 ..., 1203 1204 1205]\n",
      "[624 624 624 ...,  79  79  79]\n",
      "[374 375 376 ..., 530 531 532]"
     ]
    },
    {
     "name": "stderr",
     "output_type": "stream",
     "text": [
      "\r",
      " 96%|█████████▌| 1210/1261 [05:49<00:15,  3.39it/s]"
     ]
    },
    {
     "name": "stdout",
     "output_type": "stream",
     "text": [
      "\n",
      "[640 640 640 ...,  79  79  79]\n",
      "[1012 1013 1014 ..., 1208 1209 1210]\n",
      "[653 653 653 ...,  79  79  79]\n",
      "[381 382 383 ..., 530 531 532]"
     ]
    },
    {
     "name": "stderr",
     "output_type": "stream",
     "text": [
      "\r",
      " 96%|█████████▌| 1211/1261 [05:49<00:14,  3.45it/s]"
     ]
    },
    {
     "name": "stdout",
     "output_type": "stream",
     "text": [
      "\n",
      "[640 640 640 ...,  79  79  79]\n",
      "[1002 1003 1011 ..., 1177 1178 1179]\n",
      "[681 681 681 ..., 159 159 159]\n",
      "[376 377 378 ..., 525 526 527]"
     ]
    },
    {
     "name": "stderr",
     "output_type": "stream",
     "text": [
      "\r",
      " 96%|█████████▌| 1212/1261 [05:50<00:14,  3.42it/s]"
     ]
    },
    {
     "name": "stdout",
     "output_type": "stream",
     "text": [
      "\n",
      "[640 640 640 ...,  79  79  79]\n",
      "[ 996  997 1021 ..., 1182 1183 1184]\n",
      "[709 709 560 ..., 159 159 159]\n",
      "[375 376 377 ..., 509 510 511]"
     ]
    },
    {
     "name": "stderr",
     "output_type": "stream",
     "text": [
      "\r",
      " 96%|█████████▌| 1213/1261 [05:50<00:13,  3.43it/s]"
     ]
    },
    {
     "name": "stdout",
     "output_type": "stream",
     "text": [
      "\n",
      "[640 640 640 ...,  79  79  79]\n",
      "[1026 1027 1028 ..., 1196 1197 1198]\n",
      "[560 560 560 ..., 159 159 159]\n",
      "[375 376 377 ..., 515 516 517]"
     ]
    },
    {
     "name": "stderr",
     "output_type": "stream",
     "text": [
      "\r",
      " 96%|█████████▋| 1214/1261 [05:50<00:14,  3.33it/s]"
     ]
    },
    {
     "name": "stdout",
     "output_type": "stream",
     "text": [
      "\n",
      "[640 640 640 ...,  79  79  79]\n",
      "[1009 1010 1011 ..., 1159 1160 1161]\n",
      "[640 640 640 ..., 239 239 239]\n",
      "[375 376 377 ..., 520 521 522]"
     ]
    },
    {
     "name": "stderr",
     "output_type": "stream",
     "text": [
      "\r",
      " 96%|█████████▋| 1215/1261 [05:51<00:13,  3.40it/s]"
     ]
    },
    {
     "name": "stdout",
     "output_type": "stream",
     "text": [
      "\n",
      "[640 640 640 ...,  79  79  79]\n",
      "[1008 1009 1010 ..., 1159 1160 1161]\n",
      "[640 640 640 ..., 239 239 239]\n",
      "[371 372 373 ..., 509 510 511]"
     ]
    },
    {
     "name": "stderr",
     "output_type": "stream",
     "text": [
      "\r",
      " 96%|█████████▋| 1216/1261 [05:51<00:13,  3.39it/s]"
     ]
    },
    {
     "name": "stdout",
     "output_type": "stream",
     "text": [
      "\n",
      "[640 640 640 ...,  79  79  79]\n",
      "[1010 1011 1012 ..., 1134 1135 1136]\n",
      "[640 640 640 ..., 319 319 319]\n",
      "[374 375 376 ..., 520 521 522]"
     ]
    },
    {
     "name": "stderr",
     "output_type": "stream",
     "text": [
      "\r",
      " 97%|█████████▋| 1217/1261 [05:51<00:12,  3.44it/s]"
     ]
    },
    {
     "name": "stdout",
     "output_type": "stream",
     "text": [
      "\n",
      "[640 640 640 ...,  79  79  79]\n",
      "[1022 1023 1024 ..., 1134 1135 1136]\n",
      "[644 644 644 ..., 319 319 319]\n",
      "[373 374 375 ..., 515 516 517]"
     ]
    },
    {
     "name": "stderr",
     "output_type": "stream",
     "text": [
      "\r",
      " 97%|█████████▋| 1218/1261 [05:51<00:12,  3.49it/s]"
     ]
    },
    {
     "name": "stdout",
     "output_type": "stream",
     "text": [
      "\n",
      "[640 640 640 ...,  79  79  79]\n",
      "[1008 1009 1010 ..., 1237 1238 1239]\n",
      "[674 674 674 ...,  43  43  43]\n",
      "[373 374 375 ..., 509 510 511]"
     ]
    },
    {
     "name": "stderr",
     "output_type": "stream",
     "text": [
      "\r",
      " 97%|█████████▋| 1219/1261 [05:52<00:11,  3.57it/s]"
     ]
    },
    {
     "name": "stdout",
     "output_type": "stream",
     "text": [
      "\n",
      "[640 640 640 ...,  79  79  79]\n",
      "[1006 1007 1008 ..., 1202 1201 1202]\n",
      "[702 702 702 ...,  78  79  79]\n",
      "[379 380 381 ..., 520 521 522]"
     ]
    },
    {
     "name": "stderr",
     "output_type": "stream",
     "text": [
      "\r",
      " 97%|█████████▋| 1220/1261 [05:52<00:11,  3.56it/s]"
     ]
    },
    {
     "name": "stdout",
     "output_type": "stream",
     "text": [
      "\n",
      "[640 640 640 ...,  79  79  79]\n",
      "[1037 1038 1039 ..., 1229 1230 1231]\n",
      "[614 614 614 ...,  79  79  79]\n",
      "[379 380 381 ..., 525 526 527]"
     ]
    },
    {
     "name": "stderr",
     "output_type": "stream",
     "text": [
      "\r",
      " 97%|█████████▋| 1221/1261 [05:52<00:11,  3.51it/s]"
     ]
    },
    {
     "name": "stdout",
     "output_type": "stream",
     "text": [
      "\n",
      "[640 640 640 ...,  79  79  79]\n",
      "[1037 1038 1039 ..., 1240 1241 1242]\n",
      "[643 643 643 ...,  79  79  79]\n",
      "[379 380 381 ..., 515 516 517]"
     ]
    },
    {
     "name": "stderr",
     "output_type": "stream",
     "text": [
      "\r",
      " 97%|█████████▋| 1222/1261 [05:53<00:10,  3.55it/s]"
     ]
    },
    {
     "name": "stdout",
     "output_type": "stream",
     "text": [
      "\n",
      "[640 640 640 ...,  79  79  79]\n",
      "[1010 1011 1012 ..., 1229 1230 1231]\n",
      "[674 674 674 ...,  79  79  79]\n",
      "[381 382 383 ..., 525 526 527]"
     ]
    },
    {
     "name": "stderr",
     "output_type": "stream",
     "text": [
      "\r",
      " 97%|█████████▋| 1223/1261 [05:53<00:10,  3.57it/s]"
     ]
    },
    {
     "name": "stdout",
     "output_type": "stream",
     "text": [
      "\n",
      "[640 640 640 ...,  79  79  79]\n",
      "[1013 1014 1015 ..., 1196 1197 1198]\n",
      "[704 704 704 ..., 159 159 159]\n",
      "[381 382 383 ..., 520 521 522]"
     ]
    },
    {
     "name": "stderr",
     "output_type": "stream",
     "text": [
      "\r",
      " 97%|█████████▋| 1224/1261 [05:53<00:10,  3.50it/s]"
     ]
    },
    {
     "name": "stdout",
     "output_type": "stream",
     "text": [
      "\n",
      "[640 640 640 ...,  79  79  79]\n",
      "[1034 1035 1036 ..., 1196 1197 1198]\n",
      "[560 560 560 ..., 159 159 159]\n",
      "[386 387 388 ..., 530 531 532]"
     ]
    },
    {
     "name": "stderr",
     "output_type": "stream",
     "text": [
      "\r",
      " 97%|█████████▋| 1225/1261 [05:53<00:10,  3.37it/s]"
     ]
    },
    {
     "name": "stdout",
     "output_type": "stream",
     "text": [
      "\n",
      "[640 640 640 ...,  79  79  79]\n",
      "[1014 1015 1016 ..., 1159 1160 1161]\n",
      "[640 640 640 ..., 239 239 239]\n",
      "[381 382 383 ..., 520 521 522]"
     ]
    },
    {
     "name": "stderr",
     "output_type": "stream",
     "text": [
      "\r",
      " 97%|█████████▋| 1226/1261 [05:54<00:10,  3.44it/s]"
     ]
    },
    {
     "name": "stdout",
     "output_type": "stream",
     "text": [
      "\n",
      "[640 640 640 ...,  79  79  79]\n",
      "[1017 1018 1019 ..., 1163 1164 1165]\n",
      "[640 640 640 ..., 239 239 239]\n",
      "[385 386 387 ..., 499 500 501]"
     ]
    },
    {
     "name": "stderr",
     "output_type": "stream",
     "text": [
      "\r",
      " 97%|█████████▋| 1227/1261 [05:54<00:09,  3.45it/s]"
     ]
    },
    {
     "name": "stdout",
     "output_type": "stream",
     "text": [
      "\n",
      "[640 640 640 ...,  79  79  79]\n",
      "[1020 1021 1022 ..., 1175 1176 1177]\n",
      "[640 640 640 ..., 239 239 239]\n",
      "[379 380 381 ..., 499 500 501]"
     ]
    },
    {
     "name": "stderr",
     "output_type": "stream",
     "text": [
      "\r",
      " 97%|█████████▋| 1228/1261 [05:54<00:09,  3.46it/s]"
     ]
    },
    {
     "name": "stdout",
     "output_type": "stream",
     "text": [
      "\n",
      "[640 640 640 ...,  79  79  79]\n",
      "[1031 1032 1033 ..., 1144 1145 1146]\n",
      "[643 643 643 ..., 319 319 319]\n",
      "[380 381 382 ..., 488 489 490]"
     ]
    },
    {
     "name": "stderr",
     "output_type": "stream",
     "text": [
      "\r",
      " 97%|█████████▋| 1229/1261 [05:55<00:09,  3.50it/s]"
     ]
    },
    {
     "name": "stdout",
     "output_type": "stream",
     "text": [
      "\n",
      "[640 640 640 ...,  79  79  79]\n",
      "[1030 1031 1032 ..., 1148 1149 1150]\n",
      "[671 671 671 ..., 319 319 319]\n",
      "[376 377 378 ..., 494 495 496]"
     ]
    },
    {
     "name": "stderr",
     "output_type": "stream",
     "text": [
      "\r",
      " 98%|█████████▊| 1230/1261 [05:55<00:08,  3.56it/s]"
     ]
    },
    {
     "name": "stdout",
     "output_type": "stream",
     "text": [
      "\n",
      "[640 640 640 ...,  79  79  79]\n",
      "[1015 1016 1017 ..., 1113 1114 1115]\n",
      "[701 701 701 ..., 399 399 399]\n",
      "[379 380 381 ..., 494 495 496]"
     ]
    },
    {
     "name": "stderr",
     "output_type": "stream",
     "text": [
      "\r",
      " 98%|█████████▊| 1231/1261 [05:55<00:08,  3.58it/s]"
     ]
    },
    {
     "name": "stdout",
     "output_type": "stream",
     "text": [
      "\n",
      "[640 640 640 ...,  79  79  79]\n",
      "[1047 1048 1049 ..., 1229 1230 1231]\n",
      "[610 610 610 ...,  79  79  79]\n",
      "[380 381 382 ..., 488 489 490]"
     ]
    },
    {
     "name": "stderr",
     "output_type": "stream",
     "text": [
      "\r",
      " 98%|█████████▊| 1232/1261 [05:55<00:08,  3.50it/s]"
     ]
    },
    {
     "name": "stdout",
     "output_type": "stream",
     "text": [
      "\n",
      "[640 640 640 ...,  79  79  79]\n",
      "[1039 1040 1041 ..., 1229 1230 1231]\n",
      "[640 640 640 ...,  79  79  79]\n",
      "[383 384 385 ..., 499 500 501]"
     ]
    },
    {
     "name": "stderr",
     "output_type": "stream",
     "text": [
      "\r",
      " 98%|█████████▊| 1233/1261 [05:56<00:08,  3.47it/s]"
     ]
    },
    {
     "name": "stdout",
     "output_type": "stream",
     "text": [
      "\n",
      "[640 640 640 ...,  79  79  79]\n",
      "[1032 1033 1034 ..., 1219 1220 1221]\n",
      "[670 670 670 ...,  79  79  79]\n",
      "[384 385 386 ..., 488 489 490]"
     ]
    },
    {
     "name": "stderr",
     "output_type": "stream",
     "text": [
      "\r",
      " 98%|█████████▊| 1234/1261 [05:56<00:07,  3.49it/s]"
     ]
    },
    {
     "name": "stdout",
     "output_type": "stream",
     "text": [
      "\n",
      "[640 640 640 ...,  79  79  79]\n",
      "[1015 1016 1017 ..., 1191 1192 1193]\n",
      "[697 697 697 ..., 159 159 159]\n",
      "[383 384 385 ..., 488 489 490]"
     ]
    },
    {
     "name": "stderr",
     "output_type": "stream",
     "text": [
      "\r",
      " 98%|█████████▊| 1235/1261 [05:56<00:07,  3.52it/s]"
     ]
    },
    {
     "name": "stdout",
     "output_type": "stream",
     "text": [
      "\n",
      "[640 640 640 ...,  79  79  79]\n",
      "[1037 1038 1039 ..., 1191 1192 1193]\n",
      "[560 560 560 ..., 159 159 159]\n",
      "[384 385 386 ..., 488 489 490]"
     ]
    },
    {
     "name": "stderr",
     "output_type": "stream",
     "text": [
      "\r",
      " 98%|█████████▊| 1236/1261 [05:57<00:07,  3.56it/s]"
     ]
    },
    {
     "name": "stdout",
     "output_type": "stream",
     "text": [
      "\n",
      "[640 640 640 ...,  79  79  79]\n",
      "[1022 1023 1024 ..., 1191 1192 1193]\n",
      "[640 640 640 ..., 159 159 159]\n",
      "[383 384 385 ..., 478 479 480]"
     ]
    },
    {
     "name": "stderr",
     "output_type": "stream",
     "text": [
      "\r",
      " 98%|█████████▊| 1237/1261 [05:57<00:06,  3.57it/s]"
     ]
    },
    {
     "name": "stdout",
     "output_type": "stream",
     "text": [
      "\n",
      "[640 640 640 ...,  79  79  79]\n",
      "[1024 1025 1026 ..., 1171 1172 1173]\n",
      "[640 640 640 ..., 239 239 239]\n",
      "[381 382 383 ..., 478 479 480]"
     ]
    },
    {
     "name": "stderr",
     "output_type": "stream",
     "text": [
      "\r",
      " 98%|█████████▊| 1238/1261 [05:57<00:06,  3.62it/s]"
     ]
    },
    {
     "name": "stdout",
     "output_type": "stream",
     "text": [
      "\n",
      "[640 640 640 ...,  79  79  79]\n",
      "[1025 1026 1027 ..., 1167 1168 1169]\n",
      "[640 640 640 ..., 239 239 239]\n",
      "[383 384 385 ..., 483 484 485]"
     ]
    },
    {
     "name": "stderr",
     "output_type": "stream",
     "text": [
      "\r",
      " 98%|█████████▊| 1239/1261 [05:57<00:06,  3.55it/s]"
     ]
    },
    {
     "name": "stdout",
     "output_type": "stream",
     "text": [
      "\n",
      "[640 640 640 ...,  79  79  79]\n",
      "[1024 1025 1026 ..., 1134 1135 1136]\n",
      "[640 640 640 ..., 319 319 319]\n",
      "[383 384 385 ..., 478 479 480]"
     ]
    },
    {
     "name": "stderr",
     "output_type": "stream",
     "text": [
      "\r",
      " 98%|█████████▊| 1240/1261 [05:58<00:05,  3.56it/s]"
     ]
    },
    {
     "name": "stdout",
     "output_type": "stream",
     "text": [
      "\n",
      "[640 640 640 ...,  79  79  79]\n",
      "[1030 1031 1033 ..., 1209 1210 1211]\n",
      "[665 665 665 ...,  22  22  22]\n",
      "[383 384 385 ..., 473 474 475]"
     ]
    },
    {
     "name": "stderr",
     "output_type": "stream",
     "text": [
      "\r",
      " 98%|█████████▊| 1241/1261 [05:58<00:05,  3.56it/s]"
     ]
    },
    {
     "name": "stdout",
     "output_type": "stream",
     "text": [
      "\n",
      "[640 640 640 ...,  79  79  79]\n",
      "[1021 1022 1023 ..., 1182 1183 1184]\n",
      "[695 695 695 ...,  79  79  79]\n",
      "[384 385 386 ..., 488 489 490]"
     ]
    },
    {
     "name": "stderr",
     "output_type": "stream",
     "text": [
      "\r",
      " 98%|█████████▊| 1242/1261 [05:58<00:05,  3.53it/s]"
     ]
    },
    {
     "name": "stdout",
     "output_type": "stream",
     "text": [
      "\n",
      "[640 640 640 ...,  79  79  79]\n",
      "[1056 1057 1058 ..., 1193 1194 1195]\n",
      "[604 604 604 ...,  79  79  79]\n",
      "[384 385 386 ..., 467 468 469]"
     ]
    },
    {
     "name": "stderr",
     "output_type": "stream",
     "text": [
      "\r",
      " 99%|█████████▊| 1243/1261 [05:58<00:05,  3.54it/s]"
     ]
    },
    {
     "name": "stdout",
     "output_type": "stream",
     "text": [
      "\n",
      "[640 640 640 ...,  79  79  79]\n",
      "[1051 1052 1053 ..., 1198 1199 1200]\n",
      "[633 633 633 ...,  79  79  79]\n",
      "[385 386 387 ..., 462 463 464]"
     ]
    },
    {
     "name": "stderr",
     "output_type": "stream",
     "text": [
      "\r",
      " 99%|█████████▊| 1244/1261 [05:59<00:04,  3.54it/s]"
     ]
    },
    {
     "name": "stdout",
     "output_type": "stream",
     "text": [
      "\n",
      "[640 640 640 ...,  79  79  79]\n",
      "[1043 1044 1045 ..., 1187 1188 1189]\n",
      "[663 663 663 ...,  79  79  79]\n",
      "[384 385 386 ..., 457 458 459]"
     ]
    },
    {
     "name": "stderr",
     "output_type": "stream",
     "text": [
      "\r",
      " 99%|█████████▊| 1245/1261 [05:59<00:04,  3.53it/s]"
     ]
    },
    {
     "name": "stdout",
     "output_type": "stream",
     "text": [
      "\n",
      "[640 640 640 ...,  79  79  79]\n",
      "[1027 1038 1039 ..., 1187 1188 1189]\n",
      "[693 693 693 ...,  79  79  79]\n",
      "[390 391 392 ..., 457 458 459]"
     ]
    },
    {
     "name": "stderr",
     "output_type": "stream",
     "text": [
      "\r",
      " 99%|█████████▉| 1246/1261 [05:59<00:04,  3.48it/s]"
     ]
    },
    {
     "name": "stdout",
     "output_type": "stream",
     "text": [
      "\n",
      "[640 640 640 ...,  79  79  79]\n",
      "[1048 1049 1050 ..., 1168 1169 1170]\n",
      "[560 560 560 ..., 159 159 159]\n",
      "[392 393 394 ..., 467 468 469]"
     ]
    },
    {
     "name": "stderr",
     "output_type": "stream",
     "text": [
      "\r",
      " 99%|█████████▉| 1247/1261 [06:00<00:03,  3.52it/s]"
     ]
    },
    {
     "name": "stdout",
     "output_type": "stream",
     "text": [
      "\n",
      "[640 640 640 ...,  79  79  79]\n",
      "[1041 1042 1043 ..., 1130 1131 1132]\n",
      "[560 560 560 ..., 239 239 239]\n",
      "[393 394 395 ..., 457 458 459]"
     ]
    },
    {
     "name": "stderr",
     "output_type": "stream",
     "text": [
      "\r",
      " 99%|█████████▉| 1248/1261 [06:00<00:03,  3.55it/s]"
     ]
    },
    {
     "name": "stdout",
     "output_type": "stream",
     "text": [
      "\n",
      "[640 640 640 ...,  79  79  79]\n",
      "[1030 1031 1032 ..., 1134 1135 1136]\n",
      "[640 640 640 ..., 239 239 239]\n",
      "[390 391 392 ..., 462 463 464]"
     ]
    },
    {
     "name": "stderr",
     "output_type": "stream",
     "text": [
      "\r",
      " 99%|█████████▉| 1249/1261 [06:00<00:03,  3.52it/s]"
     ]
    },
    {
     "name": "stdout",
     "output_type": "stream",
     "text": [
      "\n",
      "[640 640 640 ...,  79  79  79]\n",
      "[1030 1031 1032 ..., 1112 1113 1114]\n",
      "[640 640 640 ..., 319 319 319]\n",
      "[389 390 391 ..., 462 463 464]"
     ]
    },
    {
     "name": "stderr",
     "output_type": "stream",
     "text": [
      "\r",
      " 99%|█████████▉| 1250/1261 [06:00<00:03,  3.46it/s]"
     ]
    },
    {
     "name": "stdout",
     "output_type": "stream",
     "text": [
      "\n",
      "[640 640 640 ...,  79  79  79]\n",
      "[1029 1030 1031 ..., 1132 1133 1134]\n",
      "[640 640 640 ...,  43  43  43]\n",
      "[385 386 387 ..., 452 453 454]"
     ]
    },
    {
     "name": "stderr",
     "output_type": "stream",
     "text": [
      "\r",
      " 99%|█████████▉| 1251/1261 [06:01<00:02,  3.45it/s]"
     ]
    },
    {
     "name": "stdout",
     "output_type": "stream",
     "text": [
      "\n",
      "[640 640 640 ...,  79  79  79]\n",
      "[1043 1044 1045 ..., 1149 1150 1151]\n",
      "[658 658 658 ...,  43  43  43]\n",
      "[385 386 387 ..., 457 458 459]"
     ]
    },
    {
     "name": "stderr",
     "output_type": "stream",
     "text": [
      "\r",
      " 99%|█████████▉| 1252/1261 [06:01<00:02,  3.48it/s]"
     ]
    },
    {
     "name": "stdout",
     "output_type": "stream",
     "text": [
      "\n",
      "[640 640 640 ...,  79  79  79]\n",
      "[1032 1033 1035 ..., 1140 1141 1142]\n",
      "[688 688 688 ...,  79  79  79]\n",
      "[383 384 385 ..., 452 453 454]"
     ]
    },
    {
     "name": "stderr",
     "output_type": "stream",
     "text": [
      "\r",
      " 99%|█████████▉| 1253/1261 [06:01<00:02,  3.45it/s]"
     ]
    },
    {
     "name": "stdout",
     "output_type": "stream",
     "text": [
      "\n",
      "[640 640 640 ...,  79  79  79]\n",
      "[1050 1051 1052 ..., 1151 1152 1153]\n",
      "[600 600 600 ...,  79  79  79]\n",
      "[381 382 383 ..., 436 437 438]"
     ]
    },
    {
     "name": "stderr",
     "output_type": "stream",
     "text": [
      "\r",
      " 99%|█████████▉| 1254/1261 [06:02<00:02,  3.49it/s]"
     ]
    },
    {
     "name": "stdout",
     "output_type": "stream",
     "text": [
      "\n",
      "[640 640 640 ...,  79  79  79]\n",
      "[1048 1049 1050 ..., 1151 1152 1153]\n",
      "[629 629 629 ...,  79  79  79]\n",
      "[381 382 383 ..., 431 432 433]"
     ]
    },
    {
     "name": "stderr",
     "output_type": "stream",
     "text": [
      "\r",
      "100%|█████████▉| 1255/1261 [06:02<00:01,  3.55it/s]"
     ]
    },
    {
     "name": "stdout",
     "output_type": "stream",
     "text": [
      "\n",
      "[640 640 640 ...,  79  79  79]\n",
      "[1044 1045 1046 ..., 1135 1136 1137]\n",
      "[659 659 659 ...,  79  79  79]\n",
      "[376 377 378 ..., 420 421 422]"
     ]
    },
    {
     "name": "stderr",
     "output_type": "stream",
     "text": [
      "\r",
      "100%|█████████▉| 1256/1261 [06:02<00:01,  3.53it/s]"
     ]
    },
    {
     "name": "stdout",
     "output_type": "stream",
     "text": [
      "\n",
      "[640 640 640 ...,  79  79  79]\n",
      "[1037 1038 1039 ..., 1121 1122 1123]\n",
      "[689 689 689 ..., 159 159 159]\n",
      "[379 380 381 ..., 420 421 422]"
     ]
    },
    {
     "name": "stderr",
     "output_type": "stream",
     "text": [
      "\r",
      "100%|█████████▉| 1257/1261 [06:02<00:01,  3.52it/s]"
     ]
    },
    {
     "name": "stdout",
     "output_type": "stream",
     "text": [
      "\n",
      "[640 640 640 ...,  79  79  79]\n",
      "[1036 1037 1038 ..., 1116 1117 1118]\n",
      "[560 560 560 ..., 159 159 159]\n",
      "[379 380 381 ..., 415 416 417]"
     ]
    },
    {
     "name": "stderr",
     "output_type": "stream",
     "text": [
      "\r",
      "100%|█████████▉| 1258/1261 [06:03<00:00,  3.52it/s]"
     ]
    },
    {
     "name": "stdout",
     "output_type": "stream",
     "text": [
      "\n",
      "[640 640 640 ...,  79  79  79]\n",
      "[1032 1033 1034 ..., 1093 1094 1095]\n",
      "[560 560 560 ..., 239 239 239]\n",
      "[374 375 376 ..., 404 405 406]"
     ]
    },
    {
     "name": "stderr",
     "output_type": "stream",
     "text": [
      "\r",
      "100%|█████████▉| 1259/1261 [06:03<00:00,  3.53it/s]"
     ]
    },
    {
     "name": "stdout",
     "output_type": "stream",
     "text": [
      "\n",
      "[640 640 640 ...,  79  79  79]\n",
      "[1024 1025 1026 ..., 1097 1098 1099]\n",
      "[640 640 640 ..., 239 239 239]\n",
      "[371 372 373 ..., 399 400 401]"
     ]
    },
    {
     "name": "stderr",
     "output_type": "stream",
     "text": [
      "\r",
      "100%|█████████▉| 1260/1261 [06:03<00:00,  3.50it/s]"
     ]
    },
    {
     "name": "stdout",
     "output_type": "stream",
     "text": [
      "\n",
      "[640 640 640 ...,  79  79  79]\n",
      "[1024 1025 1026 ..., 1093 1094 1095]\n",
      "[640 640 640 ..., 239 239 239]\n",
      "[MoviePy] Done.\n",
      "[MoviePy] >>>> Video ready: project_video_out.mp4 \n",
      "\n"
     ]
    },
    {
     "name": "stderr",
     "output_type": "stream",
     "text": [
      "\n"
     ]
    }
   ],
   "source": [
    "from moviepy.video.io.VideoFileClip import VideoFileClip\n",
    "# 1. read in video frame\n",
    "video_in = 'project_video.mp4'\n",
    "video_out = 'project_video_out.mp4'\n",
    "\n",
    "# 2. Set up the fl_image\n",
    "clip = VideoFileClip(video_in)\n",
    "video_clip = clip.fl_image(pipeline)\n",
    "\n",
    "# 3. Output the video frames\n",
    "video_clip.write_videofile(video_out, audio=False)\n"
   ]
  },
  {
   "cell_type": "code",
   "execution_count": null,
   "metadata": {
    "collapsed": true
   },
   "outputs": [],
   "source": []
  }
 ],
 "metadata": {
  "kernelspec": {
   "display_name": "Python 3",
   "language": "python",
   "name": "python3"
  },
  "language_info": {
   "codemirror_mode": {
    "name": "ipython",
    "version": 3
   },
   "file_extension": ".py",
   "mimetype": "text/x-python",
   "name": "python",
   "nbconvert_exporter": "python",
   "pygments_lexer": "ipython3",
   "version": "3.5.2"
  }
 },
 "nbformat": 4,
 "nbformat_minor": 0
}
